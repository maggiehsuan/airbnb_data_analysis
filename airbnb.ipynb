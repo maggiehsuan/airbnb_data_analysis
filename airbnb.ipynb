{
 "cells": [
  {
   "cell_type": "code",
   "execution_count": 55,
   "metadata": {},
   "outputs": [],
   "source": [
    "import numpy as np\n",
    "import pandas as pd\n",
    "import matplotlib.pyplot as plt\n",
    "import plotly.graph_objects as go\n",
    "import plotly.express as px\n",
    "from catboost import CatBoostClassifier, Pool, cv,CatBoostRegressor\n",
    "from sklearn.linear_model import LinearRegression\n",
    "from sklearn.model_selection import train_test_split\n",
    "from sklearn.metrics import r2_score, mean_squared_error,accuracy_score\n",
    "import seaborn as sns\n",
    "import statsmodels.api as sm # Import StatsModels modules\n",
    "\n",
    "\n",
    "%matplotlib inline\n",
    "\n",
    "pd.set_option(\"max_columns\",1000)"
   ]
  },
  {
   "cell_type": "markdown",
   "metadata": {},
   "source": [
    "# Business Understanding"
   ]
  },
  {
   "cell_type": "markdown",
   "metadata": {},
   "source": [
    "**Question 1:**\n",
    "\n",
    "How does price and availability of airbnb listings in Seattle and Boston change over time? Are there any seasonal patterns? \n",
    "\n",
    "**Question 2:**\n",
    "\n",
    "Do the amenities provided by the host have impact on price and review ratings? This may help hosts improve their listings to increace price and revenue.\n",
    "\n",
    "**Question 3:**\n",
    "\n",
    "What key feautures impact the listings price the most? Can we predict the listing price well with LinearRegression Model? Can we have a better prediction by using other Model? \n"
   ]
  },
  {
   "cell_type": "markdown",
   "metadata": {},
   "source": [
    "# Load Datasets and Data Preparation"
   ]
  },
  {
   "cell_type": "code",
   "execution_count": 56,
   "metadata": {},
   "outputs": [],
   "source": [
    "# dataset for Seattle\n",
    "sea_cal = pd.read_csv('seattle/calendar.csv')\n",
    "sea_list = pd.read_csv('seattle/listings.csv')\n",
    "sea_rev = pd.read_csv('seattle/reviews.csv')\n",
    "\n",
    "\n",
    "# dataset for Boston\n",
    "\n",
    "bos_cal = pd.read_csv('boston/calendar.csv')\n",
    "bos_list = pd.read_csv('boston/listings.csv')\n",
    "bos_rev = pd.read_csv('boston/reviews.csv')"
   ]
  },
  {
   "cell_type": "code",
   "execution_count": 57,
   "metadata": {
    "scrolled": false
   },
   "outputs": [
    {
     "name": "stderr",
     "output_type": "stream",
     "text": [
      "/Users/leec/opt/anaconda3/lib/python3.7/site-packages/ipykernel_launcher.py:14: FutureWarning:\n",
      "\n",
      "Sorting because non-concatenation axis is not aligned. A future version\n",
      "of pandas will change to not sort by default.\n",
      "\n",
      "To accept the future behavior, pass 'sort=False'.\n",
      "\n",
      "To retain the current behavior and silence the warning, pass 'sort=True'.\n",
      "\n",
      "\n"
     ]
    }
   ],
   "source": [
    "# In order to merge both cities to one dataset, I create a \"city\" column to identify the cities\n",
    "\n",
    "sea_cal[\"city\"] = \"Seattle\"\n",
    "sea_list[\"city\"] = \"Seattle\"\n",
    "sea_rev[\"city\"] = \"Seattle\"\n",
    "\n",
    "bos_cal[\"city\"] = \"Boston\"\n",
    "bos_list[\"city\"] = \"Boston\"\n",
    "bos_rev[\"city\"] = \"Boston\"\n",
    "\n",
    "## merge both datasets \n",
    "calendar = pd.concat([sea_cal, bos_cal]).reset_index(drop=True)\n",
    "reviews = pd.concat([sea_rev, bos_rev]).reset_index(drop=True)\n",
    "listings = pd.concat([sea_list, bos_list]).reset_index(drop=True)"
   ]
  },
  {
   "cell_type": "code",
   "execution_count": 58,
   "metadata": {},
   "outputs": [
    {
     "name": "stdout",
     "output_type": "stream",
     "text": [
      "<class 'pandas.core.frame.DataFrame'>\n",
      "RangeIndex: 7403 entries, 0 to 7402\n",
      "Data columns (total 95 columns):\n",
      "access                              2096 non-null object\n",
      "accommodates                        7403 non-null int64\n",
      "amenities                           7403 non-null object\n",
      "availability_30                     7403 non-null int64\n",
      "availability_365                    7403 non-null int64\n",
      "availability_60                     7403 non-null int64\n",
      "availability_90                     7403 non-null int64\n",
      "bathrooms                           7373 non-null float64\n",
      "bed_type                            7403 non-null object\n",
      "bedrooms                            7387 non-null float64\n",
      "beds                                7393 non-null float64\n",
      "calculated_host_listings_count      7403 non-null int64\n",
      "calendar_last_scraped               7403 non-null object\n",
      "calendar_updated                    7403 non-null object\n",
      "cancellation_policy                 7403 non-null object\n",
      "city                                7403 non-null object\n",
      "cleaning_fee                        5266 non-null object\n",
      "country                             7403 non-null object\n",
      "country_code                        7403 non-null object\n",
      "description                         7403 non-null object\n",
      "experiences_offered                 7403 non-null object\n",
      "extra_people                        7403 non-null object\n",
      "first_review                        6020 non-null object\n",
      "guests_included                     7403 non-null int64\n",
      "has_availability                    3818 non-null object\n",
      "host_about                          5235 non-null object\n",
      "host_acceptance_rate                6159 non-null object\n",
      "host_has_profile_pic                7401 non-null object\n",
      "host_id                             7403 non-null int64\n",
      "host_identity_verified              7401 non-null object\n",
      "host_is_superhost                   7401 non-null object\n",
      "host_listings_count                 7401 non-null float64\n",
      "host_location                       7384 non-null object\n",
      "host_name                           7401 non-null object\n",
      "host_neighbourhood                  6764 non-null object\n",
      "host_picture_url                    7401 non-null object\n",
      "host_response_rate                  6409 non-null object\n",
      "host_response_time                  6409 non-null object\n",
      "host_since                          7401 non-null object\n",
      "host_thumbnail_url                  7401 non-null object\n",
      "host_total_listings_count           7401 non-null float64\n",
      "host_url                            7403 non-null object\n",
      "host_verifications                  7403 non-null object\n",
      "house_rules                         2393 non-null object\n",
      "id                                  7403 non-null int64\n",
      "instant_bookable                    7403 non-null object\n",
      "interaction                         2031 non-null object\n",
      "is_location_exact                   7403 non-null object\n",
      "jurisdiction_names                  3818 non-null object\n",
      "last_review                         6020 non-null object\n",
      "last_scraped                        7403 non-null object\n",
      "latitude                            7403 non-null float64\n",
      "license                             0 non-null float64\n",
      "listing_url                         7403 non-null object\n",
      "longitude                           7403 non-null float64\n",
      "market                              7389 non-null object\n",
      "maximum_nights                      7403 non-null int64\n",
      "medium_url                          6484 non-null object\n",
      "minimum_nights                      7403 non-null int64\n",
      "monthly_price                       2405 non-null object\n",
      "name                                7403 non-null object\n",
      "neighborhood_overview               4956 non-null object\n",
      "neighbourhood                       6444 non-null object\n",
      "neighbourhood_cleansed              7403 non-null object\n",
      "neighbourhood_group_cleansed        3818 non-null object\n",
      "notes                               3822 non-null object\n",
      "number_of_reviews                   7403 non-null int64\n",
      "picture_url                         7403 non-null object\n",
      "price                               7403 non-null object\n",
      "property_type                       7399 non-null object\n",
      "require_guest_phone_verification    7403 non-null object\n",
      "require_guest_profile_picture       7403 non-null object\n",
      "requires_license                    7403 non-null object\n",
      "review_scores_accuracy              5922 non-null float64\n",
      "review_scores_checkin               5925 non-null float64\n",
      "review_scores_cleanliness           5932 non-null float64\n",
      "review_scores_communication         5934 non-null float64\n",
      "review_scores_location              5926 non-null float64\n",
      "review_scores_rating                5943 non-null float64\n",
      "review_scores_value                 5926 non-null float64\n",
      "reviews_per_month                   6020 non-null float64\n",
      "room_type                           7403 non-null object\n",
      "scrape_id                           7403 non-null int64\n",
      "security_deposit                    3208 non-null object\n",
      "smart_location                      7403 non-null object\n",
      "space                               5777 non-null object\n",
      "square_feet                         153 non-null float64\n",
      "state                               7403 non-null object\n",
      "street                              7403 non-null object\n",
      "summary                             7083 non-null object\n",
      "thumbnail_url                       6484 non-null object\n",
      "transit                             5179 non-null object\n",
      "weekly_price                        2901 non-null object\n",
      "xl_picture_url                      6484 non-null object\n",
      "zipcode                             7358 non-null object\n",
      "dtypes: float64(17), int64(13), object(65)\n",
      "memory usage: 5.4+ MB\n"
     ]
    }
   ],
   "source": [
    "# Look closer into data and the types of each variable\n",
    "listings.info()"
   ]
  },
  {
   "cell_type": "markdown",
   "metadata": {},
   "source": [
    "## Select relevant variables\n",
    "**To have a dataset with only relevant information for my model, I choose to drop the following features:**\n",
    "1. all columns contain url\n",
    "2. all columns regarding detailed geolocations such as countrycode and zipcode\n",
    "3. all columns in long text forms like houserules, interaction\n",
    "4. columns only available for one city like has_availability and neighbourhood_group_cleansed or other less influential variables regarding price and booking behavior"
   ]
  },
  {
   "cell_type": "code",
   "execution_count": 59,
   "metadata": {},
   "outputs": [],
   "source": [
    "cols = listings.columns\n",
    "cols[cols.str.contains(\"url\") ==True]\n",
    "url = ['host_picture_url', 'host_thumbnail_url', 'host_url', 'listing_url',\n",
    "       'medium_url', 'picture_url', 'thumbnail_url', 'xl_picture_url']\n",
    "\n",
    "cols[cols.str.contains(\"location\") ==True]\n",
    "location = [\"state\",\"street\",\"zipcode\",\"country_code\",\"country\",\"latitude\",\"longitude\",'host_location', \n",
    "            'is_location_exact', 'review_scores_location','smart_location']\n",
    "\n",
    "cols[cols.str.contains(\"name\") ==True]\n",
    "infos = [\"access\",\"summary\",\"interaction\",\"house_rules\",'host_name', 'jurisdiction_names', \n",
    " 'name',\"notes\",\"description\",\"space\",\"transit\",\"experiences_offered\",\"host_about\",\"neighborhood_overview\"]\n",
    "\n",
    "nonre = [\"has_availability\",\"license\",\"requires_license\",\"square_feet\",\"last_scraped\",\"scrape_id\",\n",
    "        \"host_verifications\", \"host_since\",\"neighbourhood_group_cleansed\",\"market\"]\n",
    "        \n",
    "droplist = url + location +infos +nonre\n",
    "listings.drop(droplist,axis=1,inplace=True)"
   ]
  },
  {
   "cell_type": "code",
   "execution_count": 60,
   "metadata": {
    "scrolled": false
   },
   "outputs": [
    {
     "data": {
      "text/html": [
       "<div>\n",
       "<style scoped>\n",
       "    .dataframe tbody tr th:only-of-type {\n",
       "        vertical-align: middle;\n",
       "    }\n",
       "\n",
       "    .dataframe tbody tr th {\n",
       "        vertical-align: top;\n",
       "    }\n",
       "\n",
       "    .dataframe thead th {\n",
       "        text-align: right;\n",
       "    }\n",
       "</style>\n",
       "<table border=\"1\" class=\"dataframe\">\n",
       "  <thead>\n",
       "    <tr style=\"text-align: right;\">\n",
       "      <th></th>\n",
       "      <th>accommodates</th>\n",
       "      <th>availability_30</th>\n",
       "      <th>availability_365</th>\n",
       "      <th>availability_60</th>\n",
       "      <th>availability_90</th>\n",
       "      <th>bathrooms</th>\n",
       "      <th>bedrooms</th>\n",
       "      <th>beds</th>\n",
       "      <th>calculated_host_listings_count</th>\n",
       "      <th>guests_included</th>\n",
       "      <th>host_id</th>\n",
       "      <th>host_listings_count</th>\n",
       "      <th>host_total_listings_count</th>\n",
       "      <th>id</th>\n",
       "      <th>maximum_nights</th>\n",
       "      <th>minimum_nights</th>\n",
       "      <th>number_of_reviews</th>\n",
       "      <th>review_scores_accuracy</th>\n",
       "      <th>review_scores_checkin</th>\n",
       "      <th>review_scores_cleanliness</th>\n",
       "      <th>review_scores_communication</th>\n",
       "      <th>review_scores_rating</th>\n",
       "      <th>review_scores_value</th>\n",
       "      <th>reviews_per_month</th>\n",
       "    </tr>\n",
       "  </thead>\n",
       "  <tbody>\n",
       "    <tr>\n",
       "      <td>count</td>\n",
       "      <td>7403.000000</td>\n",
       "      <td>7403.000000</td>\n",
       "      <td>7403.000000</td>\n",
       "      <td>7403.000000</td>\n",
       "      <td>7403.000000</td>\n",
       "      <td>7373.000000</td>\n",
       "      <td>7387.000000</td>\n",
       "      <td>7393.000000</td>\n",
       "      <td>7403.000000</td>\n",
       "      <td>7403.000000</td>\n",
       "      <td>7.403000e+03</td>\n",
       "      <td>7401.000000</td>\n",
       "      <td>7401.000000</td>\n",
       "      <td>7.403000e+03</td>\n",
       "      <td>7.403000e+03</td>\n",
       "      <td>7403.000000</td>\n",
       "      <td>7403.000000</td>\n",
       "      <td>5922.000000</td>\n",
       "      <td>5925.000000</td>\n",
       "      <td>5932.000000</td>\n",
       "      <td>5934.000000</td>\n",
       "      <td>5943.000000</td>\n",
       "      <td>5926.000000</td>\n",
       "      <td>6020.000000</td>\n",
       "    </tr>\n",
       "    <tr>\n",
       "      <td>mean</td>\n",
       "      <td>3.200189</td>\n",
       "      <td>12.846143</td>\n",
       "      <td>213.089153</td>\n",
       "      <td>29.559773</td>\n",
       "      <td>48.627583</td>\n",
       "      <td>1.241150</td>\n",
       "      <td>1.282659</td>\n",
       "      <td>1.674286</td>\n",
       "      <td>7.686073</td>\n",
       "      <td>1.555045</td>\n",
       "      <td>2.021053e+07</td>\n",
       "      <td>32.222537</td>\n",
       "      <td>32.222537</td>\n",
       "      <td>6.950001e+06</td>\n",
       "      <td>1.431337e+04</td>\n",
       "      <td>2.757666</td>\n",
       "      <td>20.684047</td>\n",
       "      <td>9.540865</td>\n",
       "      <td>9.721181</td>\n",
       "      <td>9.417229</td>\n",
       "      <td>9.733569</td>\n",
       "      <td>93.316002</td>\n",
       "      <td>9.319777</td>\n",
       "      <td>2.028161</td>\n",
       "    </tr>\n",
       "    <tr>\n",
       "      <td>std</td>\n",
       "      <td>1.890166</td>\n",
       "      <td>12.069956</td>\n",
       "      <td>138.342837</td>\n",
       "      <td>23.839400</td>\n",
       "      <td>35.013315</td>\n",
       "      <td>0.549408</td>\n",
       "      <td>0.823251</td>\n",
       "      <td>1.081355</td>\n",
       "      <td>21.465871</td>\n",
       "      <td>1.200756</td>\n",
       "      <td>1.962309e+07</td>\n",
       "      <td>123.585161</td>\n",
       "      <td>123.585161</td>\n",
       "      <td>4.052397e+06</td>\n",
       "      <td>1.162232e+06</td>\n",
       "      <td>13.243828</td>\n",
       "      <td>36.733024</td>\n",
       "      <td>0.821783</td>\n",
       "      <td>0.682247</td>\n",
       "      <td>0.999271</td>\n",
       "      <td>0.656589</td>\n",
       "      <td>8.207451</td>\n",
       "      <td>0.892824</td>\n",
       "      <td>1.968696</td>\n",
       "    </tr>\n",
       "    <tr>\n",
       "      <td>min</td>\n",
       "      <td>1.000000</td>\n",
       "      <td>0.000000</td>\n",
       "      <td>0.000000</td>\n",
       "      <td>0.000000</td>\n",
       "      <td>0.000000</td>\n",
       "      <td>0.000000</td>\n",
       "      <td>0.000000</td>\n",
       "      <td>0.000000</td>\n",
       "      <td>1.000000</td>\n",
       "      <td>0.000000</td>\n",
       "      <td>4.193000e+03</td>\n",
       "      <td>0.000000</td>\n",
       "      <td>0.000000</td>\n",
       "      <td>3.335000e+03</td>\n",
       "      <td>1.000000e+00</td>\n",
       "      <td>1.000000</td>\n",
       "      <td>0.000000</td>\n",
       "      <td>2.000000</td>\n",
       "      <td>2.000000</td>\n",
       "      <td>2.000000</td>\n",
       "      <td>2.000000</td>\n",
       "      <td>20.000000</td>\n",
       "      <td>2.000000</td>\n",
       "      <td>0.010000</td>\n",
       "    </tr>\n",
       "    <tr>\n",
       "      <td>25%</td>\n",
       "      <td>2.000000</td>\n",
       "      <td>0.000000</td>\n",
       "      <td>77.000000</td>\n",
       "      <td>1.000000</td>\n",
       "      <td>7.000000</td>\n",
       "      <td>1.000000</td>\n",
       "      <td>1.000000</td>\n",
       "      <td>1.000000</td>\n",
       "      <td>1.000000</td>\n",
       "      <td>1.000000</td>\n",
       "      <td>4.343164e+06</td>\n",
       "      <td>1.000000</td>\n",
       "      <td>1.000000</td>\n",
       "      <td>3.864100e+06</td>\n",
       "      <td>9.550000e+01</td>\n",
       "      <td>1.000000</td>\n",
       "      <td>1.000000</td>\n",
       "      <td>9.000000</td>\n",
       "      <td>10.000000</td>\n",
       "      <td>9.000000</td>\n",
       "      <td>10.000000</td>\n",
       "      <td>91.000000</td>\n",
       "      <td>9.000000</td>\n",
       "      <td>0.590000</td>\n",
       "    </tr>\n",
       "    <tr>\n",
       "      <td>50%</td>\n",
       "      <td>2.000000</td>\n",
       "      <td>10.000000</td>\n",
       "      <td>259.000000</td>\n",
       "      <td>31.000000</td>\n",
       "      <td>56.000000</td>\n",
       "      <td>1.000000</td>\n",
       "      <td>1.000000</td>\n",
       "      <td>1.000000</td>\n",
       "      <td>1.000000</td>\n",
       "      <td>1.000000</td>\n",
       "      <td>1.448650e+07</td>\n",
       "      <td>1.000000</td>\n",
       "      <td>1.000000</td>\n",
       "      <td>7.035240e+06</td>\n",
       "      <td>1.125000e+03</td>\n",
       "      <td>2.000000</td>\n",
       "      <td>7.000000</td>\n",
       "      <td>10.000000</td>\n",
       "      <td>10.000000</td>\n",
       "      <td>10.000000</td>\n",
       "      <td>10.000000</td>\n",
       "      <td>96.000000</td>\n",
       "      <td>9.000000</td>\n",
       "      <td>1.370000</td>\n",
       "    </tr>\n",
       "    <tr>\n",
       "      <td>75%</td>\n",
       "      <td>4.000000</td>\n",
       "      <td>26.000000</td>\n",
       "      <td>347.000000</td>\n",
       "      <td>55.000000</td>\n",
       "      <td>84.000000</td>\n",
       "      <td>1.000000</td>\n",
       "      <td>2.000000</td>\n",
       "      <td>2.000000</td>\n",
       "      <td>3.000000</td>\n",
       "      <td>2.000000</td>\n",
       "      <td>3.028359e+07</td>\n",
       "      <td>4.000000</td>\n",
       "      <td>4.000000</td>\n",
       "      <td>9.500804e+06</td>\n",
       "      <td>1.125000e+03</td>\n",
       "      <td>3.000000</td>\n",
       "      <td>23.000000</td>\n",
       "      <td>10.000000</td>\n",
       "      <td>10.000000</td>\n",
       "      <td>10.000000</td>\n",
       "      <td>10.000000</td>\n",
       "      <td>99.000000</td>\n",
       "      <td>10.000000</td>\n",
       "      <td>2.890000</td>\n",
       "    </tr>\n",
       "    <tr>\n",
       "      <td>max</td>\n",
       "      <td>16.000000</td>\n",
       "      <td>30.000000</td>\n",
       "      <td>365.000000</td>\n",
       "      <td>60.000000</td>\n",
       "      <td>90.000000</td>\n",
       "      <td>8.000000</td>\n",
       "      <td>7.000000</td>\n",
       "      <td>16.000000</td>\n",
       "      <td>136.000000</td>\n",
       "      <td>15.000000</td>\n",
       "      <td>9.385411e+07</td>\n",
       "      <td>749.000000</td>\n",
       "      <td>749.000000</td>\n",
       "      <td>1.493346e+07</td>\n",
       "      <td>1.000000e+08</td>\n",
       "      <td>1000.000000</td>\n",
       "      <td>474.000000</td>\n",
       "      <td>10.000000</td>\n",
       "      <td>10.000000</td>\n",
       "      <td>10.000000</td>\n",
       "      <td>10.000000</td>\n",
       "      <td>100.000000</td>\n",
       "      <td>10.000000</td>\n",
       "      <td>19.150000</td>\n",
       "    </tr>\n",
       "  </tbody>\n",
       "</table>\n",
       "</div>"
      ],
      "text/plain": [
       "       accommodates  availability_30  availability_365  availability_60  \\\n",
       "count   7403.000000      7403.000000       7403.000000      7403.000000   \n",
       "mean       3.200189        12.846143        213.089153        29.559773   \n",
       "std        1.890166        12.069956        138.342837        23.839400   \n",
       "min        1.000000         0.000000          0.000000         0.000000   \n",
       "25%        2.000000         0.000000         77.000000         1.000000   \n",
       "50%        2.000000        10.000000        259.000000        31.000000   \n",
       "75%        4.000000        26.000000        347.000000        55.000000   \n",
       "max       16.000000        30.000000        365.000000        60.000000   \n",
       "\n",
       "       availability_90    bathrooms     bedrooms         beds  \\\n",
       "count      7403.000000  7373.000000  7387.000000  7393.000000   \n",
       "mean         48.627583     1.241150     1.282659     1.674286   \n",
       "std          35.013315     0.549408     0.823251     1.081355   \n",
       "min           0.000000     0.000000     0.000000     0.000000   \n",
       "25%           7.000000     1.000000     1.000000     1.000000   \n",
       "50%          56.000000     1.000000     1.000000     1.000000   \n",
       "75%          84.000000     1.000000     2.000000     2.000000   \n",
       "max          90.000000     8.000000     7.000000    16.000000   \n",
       "\n",
       "       calculated_host_listings_count  guests_included       host_id  \\\n",
       "count                     7403.000000      7403.000000  7.403000e+03   \n",
       "mean                         7.686073         1.555045  2.021053e+07   \n",
       "std                         21.465871         1.200756  1.962309e+07   \n",
       "min                          1.000000         0.000000  4.193000e+03   \n",
       "25%                          1.000000         1.000000  4.343164e+06   \n",
       "50%                          1.000000         1.000000  1.448650e+07   \n",
       "75%                          3.000000         2.000000  3.028359e+07   \n",
       "max                        136.000000        15.000000  9.385411e+07   \n",
       "\n",
       "       host_listings_count  host_total_listings_count            id  \\\n",
       "count          7401.000000                7401.000000  7.403000e+03   \n",
       "mean             32.222537                  32.222537  6.950001e+06   \n",
       "std             123.585161                 123.585161  4.052397e+06   \n",
       "min               0.000000                   0.000000  3.335000e+03   \n",
       "25%               1.000000                   1.000000  3.864100e+06   \n",
       "50%               1.000000                   1.000000  7.035240e+06   \n",
       "75%               4.000000                   4.000000  9.500804e+06   \n",
       "max             749.000000                 749.000000  1.493346e+07   \n",
       "\n",
       "       maximum_nights  minimum_nights  number_of_reviews  \\\n",
       "count    7.403000e+03     7403.000000        7403.000000   \n",
       "mean     1.431337e+04        2.757666          20.684047   \n",
       "std      1.162232e+06       13.243828          36.733024   \n",
       "min      1.000000e+00        1.000000           0.000000   \n",
       "25%      9.550000e+01        1.000000           1.000000   \n",
       "50%      1.125000e+03        2.000000           7.000000   \n",
       "75%      1.125000e+03        3.000000          23.000000   \n",
       "max      1.000000e+08     1000.000000         474.000000   \n",
       "\n",
       "       review_scores_accuracy  review_scores_checkin  \\\n",
       "count             5922.000000            5925.000000   \n",
       "mean                 9.540865               9.721181   \n",
       "std                  0.821783               0.682247   \n",
       "min                  2.000000               2.000000   \n",
       "25%                  9.000000              10.000000   \n",
       "50%                 10.000000              10.000000   \n",
       "75%                 10.000000              10.000000   \n",
       "max                 10.000000              10.000000   \n",
       "\n",
       "       review_scores_cleanliness  review_scores_communication  \\\n",
       "count                5932.000000                  5934.000000   \n",
       "mean                    9.417229                     9.733569   \n",
       "std                     0.999271                     0.656589   \n",
       "min                     2.000000                     2.000000   \n",
       "25%                     9.000000                    10.000000   \n",
       "50%                    10.000000                    10.000000   \n",
       "75%                    10.000000                    10.000000   \n",
       "max                    10.000000                    10.000000   \n",
       "\n",
       "       review_scores_rating  review_scores_value  reviews_per_month  \n",
       "count           5943.000000          5926.000000        6020.000000  \n",
       "mean              93.316002             9.319777           2.028161  \n",
       "std                8.207451             0.892824           1.968696  \n",
       "min               20.000000             2.000000           0.010000  \n",
       "25%               91.000000             9.000000           0.590000  \n",
       "50%               96.000000             9.000000           1.370000  \n",
       "75%               99.000000            10.000000           2.890000  \n",
       "max              100.000000            10.000000          19.150000  "
      ]
     },
     "execution_count": 60,
     "metadata": {},
     "output_type": "execute_result"
    }
   ],
   "source": [
    "# check numerical data \n",
    "listings.describe()"
   ]
  },
  {
   "cell_type": "markdown",
   "metadata": {},
   "source": [
    "## Clean Dataset"
   ]
  },
  {
   "cell_type": "markdown",
   "metadata": {},
   "source": [
    "### Clean and Pivot amenties column\n",
    "\n",
    "Each row of the amenities column is a list of amenities.\n",
    "For every single item in the list I create an additional column and set the value as follows:<br>\n",
    "        to 1 if the item is available in the listing-id <br>\n",
    "        to 0 if it is not available in the listing-id"
   ]
  },
  {
   "cell_type": "code",
   "execution_count": 61,
   "metadata": {},
   "outputs": [],
   "source": [
    "# clean amenities column\n",
    "listings.amenities.replace({\"\\\\{\":\"\",\"\\\\}\":\"\",'\\\\\"':\"\",\" \":\"_\"},inplace=True,regex=True)\n",
    "listings.amenities= listings.amenities.str.lower()\n",
    "\n",
    "## select amenities with listing-id as a new dataframe\n",
    "amenities = listings[[\"id\",\"amenities\"]]\n",
    "## Split the list in each row by \",\" and expand a new column for each item \n",
    "amenities_cl = amenities.set_index('id').amenities.str.split(',', expand=True).stack()\n",
    "## sum all the items by id and using the get_dummies function to get our new amenities table \n",
    "amenities_cl= pd.get_dummies(amenities_cl,prefix=\"amenities\").groupby(level=0).sum().reset_index()\n",
    "# drop the origin amenities column\n",
    "amenities_cl.drop(\"amenities_\",axis=1,inplace=True) "
   ]
  },
  {
   "cell_type": "markdown",
   "metadata": {},
   "source": [
    "### Clean and Impute numerical variables\n",
    "\n",
    "The data frame listings contains columns with Dollar sign and percentage sign. For example security_deposit, cleaning_fee, price, extra_people, host_response_rate etc. These values need to be converted to numeric.\n",
    "For the imputation I use the mean to fill the missing values."
   ]
  },
  {
   "cell_type": "code",
   "execution_count": 62,
   "metadata": {},
   "outputs": [],
   "source": [
    "# clean the dataframes, replacing $ and % in the price and rate columns\n",
    "df = listings.copy()\n",
    "df.replace({\"\\\\$\":\"\",\"\\\\%\":\"\",\"\\\\,\":\"\"},inplace=True,regex=True)\n",
    "\n",
    "calendar.rename(columns={\"price\":\"cleaned_price\"},inplace=True)\n",
    "calendar.replace({\"\\\\$\":\"\",\"\\\\%\":\"\",\"\\\\,\":\"\"},inplace=True,regex=True)\n",
    "calendar.cleaned_price = calendar.cleaned_price.astype(float)\n",
    "\n",
    "#select cols in str but need to be changed in num\n",
    "to_num = [\"extra_people\",\"host_acceptance_rate\",\"cleaning_fee\",\n",
    "          \"host_response_rate\",\"monthly_price\",\"price\",\"weekly_price\",\"security_deposit\"]\n",
    "\n",
    "col_num = lambda col: col.astype(float)\n",
    "df[to_num]= df[to_num].apply(col_num,axis=0)"
   ]
  },
  {
   "cell_type": "code",
   "execution_count": 63,
   "metadata": {},
   "outputs": [],
   "source": [
    "# Missing values of numerical variables\n",
    "num_var = df.select_dtypes([\"float\",\"int\"])\n",
    "# I choose to impute the mean for the columns of the dataframe by using the apply method\n",
    "fill_mean = lambda col: col.fillna(col.mean())\n",
    "df_num=num_var.apply(fill_mean, axis=0)\n",
    "\n",
    "# clean price column in dataframe calendar \n",
    "calendar.cleaned_price = calendar.cleaned_price.fillna(calendar.cleaned_price.mean())"
   ]
  },
  {
   "cell_type": "code",
   "execution_count": 64,
   "metadata": {},
   "outputs": [],
   "source": [
    "# select all categorical variabels and concatenate with df_num\n",
    "df_cat = df.select_dtypes([\"object\"])\n",
    "df = pd.concat([df_cat, df_num],axis=1).reset_index(drop=True)\n",
    "\n",
    "# Merge the amenities_cleaned columns on listing-id to our dataset listings\n",
    "df = pd.merge(df,amenities_cl, on=\"id\")\n",
    "\n",
    "# Merge the date column on listing-id to our dataset\n",
    "df = pd.merge(df,calendar[[\"listing_id\",\"date\",\"cleaned_price\",\"available\"]], left_on=\"id\",right_on=\"listing_id\")"
   ]
  },
  {
   "cell_type": "markdown",
   "metadata": {},
   "source": [
    "### Clean and Impute categorical variables\n",
    "\n",
    "The column neighbourhood_cleansed is the cleaned var of host_neighbourhood and neighbourhood, so I will drop these two columns. The column amenities is already cleaned above and can be dropped too. After data cleaning I create two data frames for my exploration in section 3 and modeling in section 4. \n",
    " "
   ]
  },
  {
   "cell_type": "code",
   "execution_count": 65,
   "metadata": {
    "scrolled": true
   },
   "outputs": [],
   "source": [
    "# Drop columns\n",
    "df_cat.drop([\"host_neighbourhood\",\"neighbourhood\", \"amenities\"],axis=1,inplace=True)\n",
    "\n",
    "# host_response_time,property_type,host_has_profile_pic,host_identity_verified,host_is_superhost\n",
    "# are the columns with missing values\n",
    "\n",
    "## convert columns like first_review and last_review to datetime format\n",
    "df_cat[\"first_review\"] = pd.to_datetime(df.first_review)\n",
    "df_cat[\"last_review\"] = pd.to_datetime(df.last_review)\n",
    "\n",
    "#Pull a list of the column names of the categorical variables\n",
    "cat_var = df_cat.copy()\n",
    "cat_var = cat_var.select_dtypes([\"object\"])\n",
    "cat_var.drop([\"city\"],axis=1,inplace=True)\n",
    "cat_cols = cat_var.columns\n",
    "\n",
    "## Here I create two tables\n",
    "### df1 is the cleaned table with cleaned amenities and numerical variables without categorical variables\n",
    "df1 = df.copy()\n",
    "df1=df1.drop([\"city\",\"host_neighbourhood\",\"neighbourhood\",\"available\"],axis=1)\n",
    "df_cat1 = df1.select_dtypes([\"object\"])\n",
    "cat_cols1 = df_cat1.columns\n",
    "df1 = df1.drop(df_cat1, axis=1)\n",
    "## rename columns\n",
    "df1.rename(str.lower, axis='columns')\n",
    "df1.columns =df1.columns.str.replace(\" \",\"_\")\n",
    "\n",
    "### df_new is the table with all numerical and categorical variables cleaned\n",
    "df.drop(\"amenities\",axis=1,inplace=True)\n",
    "\n",
    "# use the function from the course\n",
    "def create_dummy_df(df, cat_cols, dummy_na):\n",
    "    '''\n",
    "    INPUT:\n",
    "    df - pandas dataframe with categorical variables you want to dummy\n",
    "    cat_cols - list of strings that are associated with names of the categorical columns\n",
    "    dummy_na - Bool holding whether you want to dummy NA vals of categorical columns or not\n",
    "    \n",
    "    OUTPUT:\n",
    "    df - a new dataframe that has the following characteristics:\n",
    "            1. contains all columns that were not specified as categorical\n",
    "            2. removes all the original columns in cat_cols\n",
    "            3. dummy columns for each of the categorical columns in cat_cols\n",
    "            4. if dummy_na is True - it also contains dummy columns for the NaN values\n",
    "            5. Use a prefix of the column name with an underscore (_) for separating \n",
    "    '''\n",
    "    for col in  cat_cols:\n",
    "        try:\n",
    "            # for each cat add dummy var, drop original column\n",
    "            df = pd.concat([df.drop(col, axis=1), pd.get_dummies(df[col], prefix=col, prefix_sep='_', drop_first=True, dummy_na=dummy_na)], axis=1)\n",
    "        except:\n",
    "            continue\n",
    "    return df\n",
    "\n",
    "\n",
    "## cleaned table\n",
    "df_new = create_dummy_df(df, cat_cols, dummy_na=False)"
   ]
  },
  {
   "cell_type": "markdown",
   "metadata": {},
   "source": [
    "# Exploratory Data Analysis"
   ]
  },
  {
   "cell_type": "code",
   "execution_count": 66,
   "metadata": {},
   "outputs": [],
   "source": [
    "# Create year, month, day and weekday columns \n",
    "df.date = pd.to_datetime(df.date)\n",
    "df[\"day\"] = pd.to_datetime(df.date).dt.day\n",
    "df[\"month\"] = pd.to_datetime(df.date).dt.month\n",
    "df[\"year\"] = pd.to_datetime(df.date).dt.year\n",
    "df[\"weekday\"] = pd.to_datetime(df.date).dt.weekday\n",
    "\n",
    "df.cleaned_price = df.cleaned_price.round(1)"
   ]
  },
  {
   "cell_type": "markdown",
   "metadata": {},
   "source": [
    " ## Question 1: <br> How does price and availability of airbnb listings in Seattle and Boston change over time? <br>Are there any seasonal patterns?"
   ]
  },
  {
   "cell_type": "markdown",
   "metadata": {},
   "source": [
    "In the calendar dataset we have a available and a price variable. For each given date in the period, if the listing object is available, the price belong to the listing id is given, otherwise there is no price given. The time-series graph here is based on these columns and illustrate the average daily rates in Boston and Seattle for each date."
   ]
  },
  {
   "cell_type": "markdown",
   "metadata": {},
   "source": [
    "### Rates of Listings"
   ]
  },
  {
   "cell_type": "code",
   "execution_count": 67,
   "metadata": {},
   "outputs": [
    {
     "data": {
      "application/vnd.plotly.v1+json": {
       "config": {
        "plotlyServerURL": "https://plot.ly"
       },
       "data": [
        {
         "mode": "lines",
         "name": "Seattle",
         "text": "Average Price in $",
         "type": "scatter",
         "x": [
          "2016-01-04T00:00:00",
          "2016-01-05T00:00:00",
          "2016-01-06T00:00:00",
          "2016-01-07T00:00:00",
          "2016-01-08T00:00:00",
          "2016-01-09T00:00:00",
          "2016-01-10T00:00:00",
          "2016-01-11T00:00:00",
          "2016-01-12T00:00:00",
          "2016-01-13T00:00:00",
          "2016-01-14T00:00:00",
          "2016-01-15T00:00:00",
          "2016-01-16T00:00:00",
          "2016-01-17T00:00:00",
          "2016-01-18T00:00:00",
          "2016-01-19T00:00:00",
          "2016-01-20T00:00:00",
          "2016-01-21T00:00:00",
          "2016-01-22T00:00:00",
          "2016-01-23T00:00:00",
          "2016-01-24T00:00:00",
          "2016-01-25T00:00:00",
          "2016-01-26T00:00:00",
          "2016-01-27T00:00:00",
          "2016-01-28T00:00:00",
          "2016-01-29T00:00:00",
          "2016-01-30T00:00:00",
          "2016-01-31T00:00:00",
          "2016-02-01T00:00:00",
          "2016-02-02T00:00:00",
          "2016-02-03T00:00:00",
          "2016-02-04T00:00:00",
          "2016-02-05T00:00:00",
          "2016-02-06T00:00:00",
          "2016-02-07T00:00:00",
          "2016-02-08T00:00:00",
          "2016-02-09T00:00:00",
          "2016-02-10T00:00:00",
          "2016-02-11T00:00:00",
          "2016-02-12T00:00:00",
          "2016-02-13T00:00:00",
          "2016-02-14T00:00:00",
          "2016-02-15T00:00:00",
          "2016-02-16T00:00:00",
          "2016-02-17T00:00:00",
          "2016-02-18T00:00:00",
          "2016-02-19T00:00:00",
          "2016-02-20T00:00:00",
          "2016-02-21T00:00:00",
          "2016-02-22T00:00:00",
          "2016-02-23T00:00:00",
          "2016-02-24T00:00:00",
          "2016-02-25T00:00:00",
          "2016-02-26T00:00:00",
          "2016-02-27T00:00:00",
          "2016-02-28T00:00:00",
          "2016-02-29T00:00:00",
          "2016-03-01T00:00:00",
          "2016-03-02T00:00:00",
          "2016-03-03T00:00:00",
          "2016-03-04T00:00:00",
          "2016-03-05T00:00:00",
          "2016-03-06T00:00:00",
          "2016-03-07T00:00:00",
          "2016-03-08T00:00:00",
          "2016-03-09T00:00:00",
          "2016-03-10T00:00:00",
          "2016-03-11T00:00:00",
          "2016-03-12T00:00:00",
          "2016-03-13T00:00:00",
          "2016-03-14T00:00:00",
          "2016-03-15T00:00:00",
          "2016-03-16T00:00:00",
          "2016-03-17T00:00:00",
          "2016-03-18T00:00:00",
          "2016-03-19T00:00:00",
          "2016-03-20T00:00:00",
          "2016-03-21T00:00:00",
          "2016-03-22T00:00:00",
          "2016-03-23T00:00:00",
          "2016-03-24T00:00:00",
          "2016-03-25T00:00:00",
          "2016-03-26T00:00:00",
          "2016-03-27T00:00:00",
          "2016-03-28T00:00:00",
          "2016-03-29T00:00:00",
          "2016-03-30T00:00:00",
          "2016-03-31T00:00:00",
          "2016-04-01T00:00:00",
          "2016-04-02T00:00:00",
          "2016-04-03T00:00:00",
          "2016-04-04T00:00:00",
          "2016-04-05T00:00:00",
          "2016-04-06T00:00:00",
          "2016-04-07T00:00:00",
          "2016-04-08T00:00:00",
          "2016-04-09T00:00:00",
          "2016-04-10T00:00:00",
          "2016-04-11T00:00:00",
          "2016-04-12T00:00:00",
          "2016-04-13T00:00:00",
          "2016-04-14T00:00:00",
          "2016-04-15T00:00:00",
          "2016-04-16T00:00:00",
          "2016-04-17T00:00:00",
          "2016-04-18T00:00:00",
          "2016-04-19T00:00:00",
          "2016-04-20T00:00:00",
          "2016-04-21T00:00:00",
          "2016-04-22T00:00:00",
          "2016-04-23T00:00:00",
          "2016-04-24T00:00:00",
          "2016-04-25T00:00:00",
          "2016-04-26T00:00:00",
          "2016-04-27T00:00:00",
          "2016-04-28T00:00:00",
          "2016-04-29T00:00:00",
          "2016-04-30T00:00:00",
          "2016-05-01T00:00:00",
          "2016-05-02T00:00:00",
          "2016-05-03T00:00:00",
          "2016-05-04T00:00:00",
          "2016-05-05T00:00:00",
          "2016-05-06T00:00:00",
          "2016-05-07T00:00:00",
          "2016-05-08T00:00:00",
          "2016-05-09T00:00:00",
          "2016-05-10T00:00:00",
          "2016-05-11T00:00:00",
          "2016-05-12T00:00:00",
          "2016-05-13T00:00:00",
          "2016-05-14T00:00:00",
          "2016-05-15T00:00:00",
          "2016-05-16T00:00:00",
          "2016-05-17T00:00:00",
          "2016-05-18T00:00:00",
          "2016-05-19T00:00:00",
          "2016-05-20T00:00:00",
          "2016-05-21T00:00:00",
          "2016-05-22T00:00:00",
          "2016-05-23T00:00:00",
          "2016-05-24T00:00:00",
          "2016-05-25T00:00:00",
          "2016-05-26T00:00:00",
          "2016-05-27T00:00:00",
          "2016-05-28T00:00:00",
          "2016-05-29T00:00:00",
          "2016-05-30T00:00:00",
          "2016-05-31T00:00:00",
          "2016-06-01T00:00:00",
          "2016-06-02T00:00:00",
          "2016-06-03T00:00:00",
          "2016-06-04T00:00:00",
          "2016-06-05T00:00:00",
          "2016-06-06T00:00:00",
          "2016-06-07T00:00:00",
          "2016-06-08T00:00:00",
          "2016-06-09T00:00:00",
          "2016-06-10T00:00:00",
          "2016-06-11T00:00:00",
          "2016-06-12T00:00:00",
          "2016-06-13T00:00:00",
          "2016-06-14T00:00:00",
          "2016-06-15T00:00:00",
          "2016-06-16T00:00:00",
          "2016-06-17T00:00:00",
          "2016-06-18T00:00:00",
          "2016-06-19T00:00:00",
          "2016-06-20T00:00:00",
          "2016-06-21T00:00:00",
          "2016-06-22T00:00:00",
          "2016-06-23T00:00:00",
          "2016-06-24T00:00:00",
          "2016-06-25T00:00:00",
          "2016-06-26T00:00:00",
          "2016-06-27T00:00:00",
          "2016-06-28T00:00:00",
          "2016-06-29T00:00:00",
          "2016-06-30T00:00:00",
          "2016-07-01T00:00:00",
          "2016-07-02T00:00:00",
          "2016-07-03T00:00:00",
          "2016-07-04T00:00:00",
          "2016-07-05T00:00:00",
          "2016-07-06T00:00:00",
          "2016-07-07T00:00:00",
          "2016-07-08T00:00:00",
          "2016-07-09T00:00:00",
          "2016-07-10T00:00:00",
          "2016-07-11T00:00:00",
          "2016-07-12T00:00:00",
          "2016-07-13T00:00:00",
          "2016-07-14T00:00:00",
          "2016-07-15T00:00:00",
          "2016-07-16T00:00:00",
          "2016-07-17T00:00:00",
          "2016-07-18T00:00:00",
          "2016-07-19T00:00:00",
          "2016-07-20T00:00:00",
          "2016-07-21T00:00:00",
          "2016-07-22T00:00:00",
          "2016-07-23T00:00:00",
          "2016-07-24T00:00:00",
          "2016-07-25T00:00:00",
          "2016-07-26T00:00:00",
          "2016-07-27T00:00:00",
          "2016-07-28T00:00:00",
          "2016-07-29T00:00:00",
          "2016-07-30T00:00:00",
          "2016-07-31T00:00:00",
          "2016-08-01T00:00:00",
          "2016-08-02T00:00:00",
          "2016-08-03T00:00:00",
          "2016-08-04T00:00:00",
          "2016-08-05T00:00:00",
          "2016-08-06T00:00:00",
          "2016-08-07T00:00:00",
          "2016-08-08T00:00:00",
          "2016-08-09T00:00:00",
          "2016-08-10T00:00:00",
          "2016-08-11T00:00:00",
          "2016-08-12T00:00:00",
          "2016-08-13T00:00:00",
          "2016-08-14T00:00:00",
          "2016-08-15T00:00:00",
          "2016-08-16T00:00:00",
          "2016-08-17T00:00:00",
          "2016-08-18T00:00:00",
          "2016-08-19T00:00:00",
          "2016-08-20T00:00:00",
          "2016-08-21T00:00:00",
          "2016-08-22T00:00:00",
          "2016-08-23T00:00:00",
          "2016-08-24T00:00:00",
          "2016-08-25T00:00:00",
          "2016-08-26T00:00:00",
          "2016-08-27T00:00:00",
          "2016-08-28T00:00:00",
          "2016-08-29T00:00:00",
          "2016-08-30T00:00:00",
          "2016-08-31T00:00:00",
          "2016-09-01T00:00:00",
          "2016-09-02T00:00:00",
          "2016-09-03T00:00:00",
          "2016-09-04T00:00:00",
          "2016-09-05T00:00:00",
          "2016-09-06T00:00:00",
          "2016-09-07T00:00:00",
          "2016-09-08T00:00:00",
          "2016-09-09T00:00:00",
          "2016-09-10T00:00:00",
          "2016-09-11T00:00:00",
          "2016-09-12T00:00:00",
          "2016-09-13T00:00:00",
          "2016-09-14T00:00:00",
          "2016-09-15T00:00:00",
          "2016-09-16T00:00:00",
          "2016-09-17T00:00:00",
          "2016-09-18T00:00:00",
          "2016-09-19T00:00:00",
          "2016-09-20T00:00:00",
          "2016-09-21T00:00:00",
          "2016-09-22T00:00:00",
          "2016-09-23T00:00:00",
          "2016-09-24T00:00:00",
          "2016-09-25T00:00:00",
          "2016-09-26T00:00:00",
          "2016-09-27T00:00:00",
          "2016-09-28T00:00:00",
          "2016-09-29T00:00:00",
          "2016-09-30T00:00:00",
          "2016-10-01T00:00:00",
          "2016-10-02T00:00:00",
          "2016-10-03T00:00:00",
          "2016-10-04T00:00:00",
          "2016-10-05T00:00:00",
          "2016-10-06T00:00:00",
          "2016-10-07T00:00:00",
          "2016-10-08T00:00:00",
          "2016-10-09T00:00:00",
          "2016-10-10T00:00:00",
          "2016-10-11T00:00:00",
          "2016-10-12T00:00:00",
          "2016-10-13T00:00:00",
          "2016-10-14T00:00:00",
          "2016-10-15T00:00:00",
          "2016-10-16T00:00:00",
          "2016-10-17T00:00:00",
          "2016-10-18T00:00:00",
          "2016-10-19T00:00:00",
          "2016-10-20T00:00:00",
          "2016-10-21T00:00:00",
          "2016-10-22T00:00:00",
          "2016-10-23T00:00:00",
          "2016-10-24T00:00:00",
          "2016-10-25T00:00:00",
          "2016-10-26T00:00:00",
          "2016-10-27T00:00:00",
          "2016-10-28T00:00:00",
          "2016-10-29T00:00:00",
          "2016-10-30T00:00:00",
          "2016-10-31T00:00:00",
          "2016-11-01T00:00:00",
          "2016-11-02T00:00:00",
          "2016-11-03T00:00:00",
          "2016-11-04T00:00:00",
          "2016-11-05T00:00:00",
          "2016-11-06T00:00:00",
          "2016-11-07T00:00:00",
          "2016-11-08T00:00:00",
          "2016-11-09T00:00:00",
          "2016-11-10T00:00:00",
          "2016-11-11T00:00:00",
          "2016-11-12T00:00:00",
          "2016-11-13T00:00:00",
          "2016-11-14T00:00:00",
          "2016-11-15T00:00:00",
          "2016-11-16T00:00:00",
          "2016-11-17T00:00:00",
          "2016-11-18T00:00:00",
          "2016-11-19T00:00:00",
          "2016-11-20T00:00:00",
          "2016-11-21T00:00:00",
          "2016-11-22T00:00:00",
          "2016-11-23T00:00:00",
          "2016-11-24T00:00:00",
          "2016-11-25T00:00:00",
          "2016-11-26T00:00:00",
          "2016-11-27T00:00:00",
          "2016-11-28T00:00:00",
          "2016-11-29T00:00:00",
          "2016-11-30T00:00:00",
          "2016-12-01T00:00:00",
          "2016-12-02T00:00:00",
          "2016-12-03T00:00:00",
          "2016-12-04T00:00:00",
          "2016-12-05T00:00:00",
          "2016-12-06T00:00:00",
          "2016-12-07T00:00:00",
          "2016-12-08T00:00:00",
          "2016-12-09T00:00:00",
          "2016-12-10T00:00:00",
          "2016-12-11T00:00:00",
          "2016-12-12T00:00:00",
          "2016-12-13T00:00:00",
          "2016-12-14T00:00:00",
          "2016-12-15T00:00:00",
          "2016-12-16T00:00:00",
          "2016-12-17T00:00:00",
          "2016-12-18T00:00:00",
          "2016-12-19T00:00:00",
          "2016-12-20T00:00:00",
          "2016-12-21T00:00:00",
          "2016-12-22T00:00:00",
          "2016-12-23T00:00:00",
          "2016-12-24T00:00:00",
          "2016-12-25T00:00:00",
          "2016-12-26T00:00:00",
          "2016-12-27T00:00:00",
          "2016-12-28T00:00:00",
          "2016-12-29T00:00:00",
          "2016-12-30T00:00:00",
          "2016-12-31T00:00:00",
          "2017-01-01T00:00:00",
          "2017-01-02T00:00:00"
         ],
         "y": [
          144.2,
          142.1,
          142.7,
          143.2,
          146.3,
          145.5,
          140.2,
          138.8,
          138.3,
          138.5,
          139,
          144.4,
          145,
          141,
          138.7,
          136.8,
          136.3,
          137.1,
          141.6,
          141.8,
          137.2,
          135.3,
          134.9,
          135.5,
          135.8,
          140.1,
          140.3,
          135.7,
          135.7,
          135.1,
          135.6,
          136.9,
          140.9,
          141.4,
          137.2,
          135.6,
          135.3,
          135.4,
          136.9,
          143.5,
          144.2,
          140,
          137.9,
          136.3,
          135.7,
          135.7,
          139.9,
          139.9,
          135.1,
          134.5,
          134.4,
          134.2,
          134.5,
          139.1,
          139.5,
          135.4,
          134.1,
          135.3,
          135.1,
          136.1,
          141.8,
          142,
          136.8,
          136.6,
          136.8,
          136.9,
          137.4,
          142.4,
          142.8,
          138,
          137.2,
          136.9,
          136.9,
          138.6,
          143,
          142.8,
          137.5,
          137,
          137.1,
          137.1,
          138.5,
          143.9,
          143.9,
          138,
          136.8,
          136.8,
          136.6,
          137.5,
          142.9,
          148.1,
          143.1,
          142.7,
          142.5,
          142.9,
          145.2,
          149.7,
          150.1,
          145.1,
          142.8,
          142.4,
          142.4,
          143.5,
          147.9,
          147.9,
          142.8,
          142.4,
          142.3,
          142.3,
          142,
          146.7,
          147.1,
          141.8,
          141.9,
          142.1,
          142.2,
          142.4,
          147.6,
          147.5,
          144.7,
          144.5,
          144.3,
          144,
          144.9,
          149.7,
          149.8,
          144.1,
          144.3,
          144.2,
          143.9,
          145.4,
          150.3,
          150.2,
          144.4,
          144.5,
          144.6,
          144.6,
          145.7,
          150.6,
          150.8,
          146.1,
          146.5,
          145.9,
          146.2,
          147.5,
          154.3,
          154.3,
          149.7,
          149.5,
          148.3,
          149.9,
          150.7,
          155,
          154.8,
          150.3,
          150.4,
          150.3,
          149.7,
          150.2,
          154,
          154.1,
          149.9,
          150.3,
          150.5,
          150.5,
          152.2,
          156.4,
          156.7,
          152.5,
          152,
          152.2,
          152,
          152.4,
          156.2,
          156.2,
          152.4,
          152.4,
          152.4,
          152.3,
          152.9,
          159.4,
          159.2,
          155.9,
          155.6,
          155,
          154.8,
          155.1,
          158.6,
          158.7,
          154.9,
          154.6,
          154.7,
          155.1,
          155.2,
          158.7,
          158.4,
          155,
          154.6,
          154.3,
          154,
          154.5,
          157.9,
          158.2,
          154.7,
          154.8,
          154.7,
          154.4,
          154.7,
          158,
          158,
          154.4,
          153.8,
          154.1,
          154.1,
          154.5,
          157.6,
          157.6,
          154.2,
          154.5,
          154.4,
          154.4,
          154.3,
          157.6,
          157.5,
          153.6,
          153.7,
          153.4,
          153.6,
          154.1,
          157.3,
          157.5,
          153.6,
          153.5,
          153.8,
          154,
          154.7,
          158.1,
          158.1,
          153.9,
          153.5,
          153.5,
          153.3,
          152.6,
          156,
          155.9,
          151.1,
          148.9,
          148.1,
          147.9,
          148.8,
          152.6,
          152.8,
          147.9,
          147.8,
          147.7,
          147.8,
          148.7,
          152.6,
          152.6,
          147.6,
          147.3,
          147.2,
          147.2,
          148.1,
          152,
          151.9,
          147.2,
          146.8,
          146.8,
          146.8,
          146.9,
          151,
          149.5,
          143.6,
          143.5,
          143.4,
          143.4,
          144.5,
          148.7,
          148.9,
          143.7,
          143.4,
          143.4,
          143.4,
          144.1,
          148.4,
          148.4,
          143.2,
          143.2,
          143.1,
          143.2,
          143.8,
          148.1,
          148.1,
          143,
          142.9,
          143,
          143,
          143.4,
          147.8,
          147.7,
          142.5,
          142.3,
          142.1,
          142.1,
          142.7,
          147.1,
          147.1,
          141.8,
          141.7,
          141.6,
          141.6,
          142.2,
          146.6,
          146.6,
          141.8,
          141.8,
          141.9,
          141.9,
          142.5,
          147,
          147.1,
          142.4,
          142.2,
          142.3,
          142.7,
          143.5,
          147.6,
          147.4,
          142.7,
          141.6,
          141.1,
          141,
          142,
          146.7,
          146.3,
          141.3,
          140.9,
          140.6,
          140.7,
          142.5,
          147.2,
          146.9,
          141.6,
          141,
          141.1,
          141.1,
          141.9,
          146.5,
          146.6,
          142.2,
          142.1,
          142.1,
          142,
          143.5,
          148,
          148,
          144.4,
          144.3,
          143.8,
          143.7,
          144.4,
          149.3,
          149.9,
          143.9,
          142.9
         ]
        },
        {
         "mode": "lines",
         "name": "Boston",
         "text": "Average Price in $",
         "type": "scatter",
         "x": [
          "2016-09-06T00:00:00",
          "2016-09-07T00:00:00",
          "2016-09-08T00:00:00",
          "2016-09-09T00:00:00",
          "2016-09-10T00:00:00",
          "2016-09-11T00:00:00",
          "2016-09-12T00:00:00",
          "2016-09-13T00:00:00",
          "2016-09-14T00:00:00",
          "2016-09-15T00:00:00",
          "2016-09-16T00:00:00",
          "2016-09-17T00:00:00",
          "2016-09-18T00:00:00",
          "2016-09-19T00:00:00",
          "2016-09-20T00:00:00",
          "2016-09-21T00:00:00",
          "2016-09-22T00:00:00",
          "2016-09-23T00:00:00",
          "2016-09-24T00:00:00",
          "2016-09-25T00:00:00",
          "2016-09-26T00:00:00",
          "2016-09-27T00:00:00",
          "2016-09-28T00:00:00",
          "2016-09-29T00:00:00",
          "2016-09-30T00:00:00",
          "2016-10-01T00:00:00",
          "2016-10-02T00:00:00",
          "2016-10-03T00:00:00",
          "2016-10-04T00:00:00",
          "2016-10-05T00:00:00",
          "2016-10-06T00:00:00",
          "2016-10-07T00:00:00",
          "2016-10-08T00:00:00",
          "2016-10-09T00:00:00",
          "2016-10-10T00:00:00",
          "2016-10-11T00:00:00",
          "2016-10-12T00:00:00",
          "2016-10-13T00:00:00",
          "2016-10-14T00:00:00",
          "2016-10-15T00:00:00",
          "2016-10-16T00:00:00",
          "2016-10-17T00:00:00",
          "2016-10-18T00:00:00",
          "2016-10-19T00:00:00",
          "2016-10-20T00:00:00",
          "2016-10-21T00:00:00",
          "2016-10-22T00:00:00",
          "2016-10-23T00:00:00",
          "2016-10-24T00:00:00",
          "2016-10-25T00:00:00",
          "2016-10-26T00:00:00",
          "2016-10-27T00:00:00",
          "2016-10-28T00:00:00",
          "2016-10-29T00:00:00",
          "2016-10-30T00:00:00",
          "2016-10-31T00:00:00",
          "2016-11-01T00:00:00",
          "2016-11-02T00:00:00",
          "2016-11-03T00:00:00",
          "2016-11-04T00:00:00",
          "2016-11-05T00:00:00",
          "2016-11-06T00:00:00",
          "2016-11-07T00:00:00",
          "2016-11-08T00:00:00",
          "2016-11-09T00:00:00",
          "2016-11-10T00:00:00",
          "2016-11-11T00:00:00",
          "2016-11-12T00:00:00",
          "2016-11-13T00:00:00",
          "2016-11-14T00:00:00",
          "2016-11-15T00:00:00",
          "2016-11-16T00:00:00",
          "2016-11-17T00:00:00",
          "2016-11-18T00:00:00",
          "2016-11-19T00:00:00",
          "2016-11-20T00:00:00",
          "2016-11-21T00:00:00",
          "2016-11-22T00:00:00",
          "2016-11-23T00:00:00",
          "2016-11-24T00:00:00",
          "2016-11-25T00:00:00",
          "2016-11-26T00:00:00",
          "2016-11-27T00:00:00",
          "2016-11-28T00:00:00",
          "2016-11-29T00:00:00",
          "2016-11-30T00:00:00",
          "2016-12-01T00:00:00",
          "2016-12-02T00:00:00",
          "2016-12-03T00:00:00",
          "2016-12-04T00:00:00",
          "2016-12-05T00:00:00",
          "2016-12-06T00:00:00",
          "2016-12-07T00:00:00",
          "2016-12-08T00:00:00",
          "2016-12-09T00:00:00",
          "2016-12-10T00:00:00",
          "2016-12-11T00:00:00",
          "2016-12-12T00:00:00",
          "2016-12-13T00:00:00",
          "2016-12-14T00:00:00",
          "2016-12-15T00:00:00",
          "2016-12-16T00:00:00",
          "2016-12-17T00:00:00",
          "2016-12-18T00:00:00",
          "2016-12-19T00:00:00",
          "2016-12-20T00:00:00",
          "2016-12-21T00:00:00",
          "2016-12-22T00:00:00",
          "2016-12-23T00:00:00",
          "2016-12-24T00:00:00",
          "2016-12-25T00:00:00",
          "2016-12-26T00:00:00",
          "2016-12-27T00:00:00",
          "2016-12-28T00:00:00",
          "2016-12-29T00:00:00",
          "2016-12-30T00:00:00",
          "2016-12-31T00:00:00",
          "2017-01-01T00:00:00",
          "2017-01-02T00:00:00",
          "2017-01-03T00:00:00",
          "2017-01-04T00:00:00",
          "2017-01-05T00:00:00",
          "2017-01-06T00:00:00",
          "2017-01-07T00:00:00",
          "2017-01-08T00:00:00",
          "2017-01-09T00:00:00",
          "2017-01-10T00:00:00",
          "2017-01-11T00:00:00",
          "2017-01-12T00:00:00",
          "2017-01-13T00:00:00",
          "2017-01-14T00:00:00",
          "2017-01-15T00:00:00",
          "2017-01-16T00:00:00",
          "2017-01-17T00:00:00",
          "2017-01-18T00:00:00",
          "2017-01-19T00:00:00",
          "2017-01-20T00:00:00",
          "2017-01-21T00:00:00",
          "2017-01-22T00:00:00",
          "2017-01-23T00:00:00",
          "2017-01-24T00:00:00",
          "2017-01-25T00:00:00",
          "2017-01-26T00:00:00",
          "2017-01-27T00:00:00",
          "2017-01-28T00:00:00",
          "2017-01-29T00:00:00",
          "2017-01-30T00:00:00",
          "2017-01-31T00:00:00",
          "2017-02-01T00:00:00",
          "2017-02-02T00:00:00",
          "2017-02-03T00:00:00",
          "2017-02-04T00:00:00",
          "2017-02-05T00:00:00",
          "2017-02-06T00:00:00",
          "2017-02-07T00:00:00",
          "2017-02-08T00:00:00",
          "2017-02-09T00:00:00",
          "2017-02-10T00:00:00",
          "2017-02-11T00:00:00",
          "2017-02-12T00:00:00",
          "2017-02-13T00:00:00",
          "2017-02-14T00:00:00",
          "2017-02-15T00:00:00",
          "2017-02-16T00:00:00",
          "2017-02-17T00:00:00",
          "2017-02-18T00:00:00",
          "2017-02-19T00:00:00",
          "2017-02-20T00:00:00",
          "2017-02-21T00:00:00",
          "2017-02-22T00:00:00",
          "2017-02-23T00:00:00",
          "2017-02-24T00:00:00",
          "2017-02-25T00:00:00",
          "2017-02-26T00:00:00",
          "2017-02-27T00:00:00",
          "2017-02-28T00:00:00",
          "2017-03-01T00:00:00",
          "2017-03-02T00:00:00",
          "2017-03-03T00:00:00",
          "2017-03-04T00:00:00",
          "2017-03-05T00:00:00",
          "2017-03-06T00:00:00",
          "2017-03-07T00:00:00",
          "2017-03-08T00:00:00",
          "2017-03-09T00:00:00",
          "2017-03-10T00:00:00",
          "2017-03-11T00:00:00",
          "2017-03-12T00:00:00",
          "2017-03-13T00:00:00",
          "2017-03-14T00:00:00",
          "2017-03-15T00:00:00",
          "2017-03-16T00:00:00",
          "2017-03-17T00:00:00",
          "2017-03-18T00:00:00",
          "2017-03-19T00:00:00",
          "2017-03-20T00:00:00",
          "2017-03-21T00:00:00",
          "2017-03-22T00:00:00",
          "2017-03-23T00:00:00",
          "2017-03-24T00:00:00",
          "2017-03-25T00:00:00",
          "2017-03-26T00:00:00",
          "2017-03-27T00:00:00",
          "2017-03-28T00:00:00",
          "2017-03-29T00:00:00",
          "2017-03-30T00:00:00",
          "2017-03-31T00:00:00",
          "2017-04-01T00:00:00",
          "2017-04-02T00:00:00",
          "2017-04-03T00:00:00",
          "2017-04-04T00:00:00",
          "2017-04-05T00:00:00",
          "2017-04-06T00:00:00",
          "2017-04-07T00:00:00",
          "2017-04-08T00:00:00",
          "2017-04-09T00:00:00",
          "2017-04-10T00:00:00",
          "2017-04-11T00:00:00",
          "2017-04-12T00:00:00",
          "2017-04-13T00:00:00",
          "2017-04-14T00:00:00",
          "2017-04-15T00:00:00",
          "2017-04-16T00:00:00",
          "2017-04-17T00:00:00",
          "2017-04-18T00:00:00",
          "2017-04-19T00:00:00",
          "2017-04-20T00:00:00",
          "2017-04-21T00:00:00",
          "2017-04-22T00:00:00",
          "2017-04-23T00:00:00",
          "2017-04-24T00:00:00",
          "2017-04-25T00:00:00",
          "2017-04-26T00:00:00",
          "2017-04-27T00:00:00",
          "2017-04-28T00:00:00",
          "2017-04-29T00:00:00",
          "2017-04-30T00:00:00",
          "2017-05-01T00:00:00",
          "2017-05-02T00:00:00",
          "2017-05-03T00:00:00",
          "2017-05-04T00:00:00",
          "2017-05-05T00:00:00",
          "2017-05-06T00:00:00",
          "2017-05-07T00:00:00",
          "2017-05-08T00:00:00",
          "2017-05-09T00:00:00",
          "2017-05-10T00:00:00",
          "2017-05-11T00:00:00",
          "2017-05-12T00:00:00",
          "2017-05-13T00:00:00",
          "2017-05-14T00:00:00",
          "2017-05-15T00:00:00",
          "2017-05-16T00:00:00",
          "2017-05-17T00:00:00",
          "2017-05-18T00:00:00",
          "2017-05-19T00:00:00",
          "2017-05-20T00:00:00",
          "2017-05-21T00:00:00",
          "2017-05-22T00:00:00",
          "2017-05-23T00:00:00",
          "2017-05-24T00:00:00",
          "2017-05-25T00:00:00",
          "2017-05-26T00:00:00",
          "2017-05-27T00:00:00",
          "2017-05-28T00:00:00",
          "2017-05-29T00:00:00",
          "2017-05-30T00:00:00",
          "2017-05-31T00:00:00",
          "2017-06-01T00:00:00",
          "2017-06-02T00:00:00",
          "2017-06-03T00:00:00",
          "2017-06-04T00:00:00",
          "2017-06-05T00:00:00",
          "2017-06-06T00:00:00",
          "2017-06-07T00:00:00",
          "2017-06-08T00:00:00",
          "2017-06-09T00:00:00",
          "2017-06-10T00:00:00",
          "2017-06-11T00:00:00",
          "2017-06-12T00:00:00",
          "2017-06-13T00:00:00",
          "2017-06-14T00:00:00",
          "2017-06-15T00:00:00",
          "2017-06-16T00:00:00",
          "2017-06-17T00:00:00",
          "2017-06-18T00:00:00",
          "2017-06-19T00:00:00",
          "2017-06-20T00:00:00",
          "2017-06-21T00:00:00",
          "2017-06-22T00:00:00",
          "2017-06-23T00:00:00",
          "2017-06-24T00:00:00",
          "2017-06-25T00:00:00",
          "2017-06-26T00:00:00",
          "2017-06-27T00:00:00",
          "2017-06-28T00:00:00",
          "2017-06-29T00:00:00",
          "2017-06-30T00:00:00",
          "2017-07-01T00:00:00",
          "2017-07-02T00:00:00",
          "2017-07-03T00:00:00",
          "2017-07-04T00:00:00",
          "2017-07-05T00:00:00",
          "2017-07-06T00:00:00",
          "2017-07-07T00:00:00",
          "2017-07-08T00:00:00",
          "2017-07-09T00:00:00",
          "2017-07-10T00:00:00",
          "2017-07-11T00:00:00",
          "2017-07-12T00:00:00",
          "2017-07-13T00:00:00",
          "2017-07-14T00:00:00",
          "2017-07-15T00:00:00",
          "2017-07-16T00:00:00",
          "2017-07-17T00:00:00",
          "2017-07-18T00:00:00",
          "2017-07-19T00:00:00",
          "2017-07-20T00:00:00",
          "2017-07-21T00:00:00",
          "2017-07-22T00:00:00",
          "2017-07-23T00:00:00",
          "2017-07-24T00:00:00",
          "2017-07-25T00:00:00",
          "2017-07-26T00:00:00",
          "2017-07-27T00:00:00",
          "2017-07-28T00:00:00",
          "2017-07-29T00:00:00",
          "2017-07-30T00:00:00",
          "2017-07-31T00:00:00",
          "2017-08-01T00:00:00",
          "2017-08-02T00:00:00",
          "2017-08-03T00:00:00",
          "2017-08-04T00:00:00",
          "2017-08-05T00:00:00",
          "2017-08-06T00:00:00",
          "2017-08-07T00:00:00",
          "2017-08-08T00:00:00",
          "2017-08-09T00:00:00",
          "2017-08-10T00:00:00",
          "2017-08-11T00:00:00",
          "2017-08-12T00:00:00",
          "2017-08-13T00:00:00",
          "2017-08-14T00:00:00",
          "2017-08-15T00:00:00",
          "2017-08-16T00:00:00",
          "2017-08-17T00:00:00",
          "2017-08-18T00:00:00",
          "2017-08-19T00:00:00",
          "2017-08-20T00:00:00",
          "2017-08-21T00:00:00",
          "2017-08-22T00:00:00",
          "2017-08-23T00:00:00",
          "2017-08-24T00:00:00",
          "2017-08-25T00:00:00",
          "2017-08-26T00:00:00",
          "2017-08-27T00:00:00",
          "2017-08-28T00:00:00",
          "2017-08-29T00:00:00",
          "2017-08-30T00:00:00",
          "2017-08-31T00:00:00",
          "2017-09-01T00:00:00",
          "2017-09-02T00:00:00",
          "2017-09-03T00:00:00",
          "2017-09-04T00:00:00",
          "2017-09-05T00:00:00"
         ],
         "y": [
          175.1,
          185.8,
          187.4,
          189.8,
          190.4,
          186.5,
          183.6,
          183.6,
          183.4,
          185.6,
          189.3,
          190.3,
          190.8,
          188.8,
          187.9,
          188.4,
          188.3,
          187,
          187.2,
          191,
          188.4,
          188.9,
          186.7,
          187.1,
          186.7,
          187.6,
          189,
          189.1,
          189.3,
          188.7,
          189.2,
          191.4,
          194.2,
          194.1,
          194.9,
          191.4,
          191,
          191.6,
          193.7,
          192.7,
          194.5,
          193.9,
          194,
          190.5,
          192,
          194.2,
          194.3,
          193,
          191,
          189.9,
          194.4,
          193.6,
          196.9,
          195.2,
          191.3,
          189.3,
          182.2,
          182.1,
          184.9,
          186.9,
          186.7,
          182.7,
          184.8,
          183.5,
          183.3,
          183.8,
          183.9,
          187.4,
          185.9,
          184.8,
          185,
          185.9,
          187.6,
          190.8,
          190.3,
          186.8,
          181.8,
          180.9,
          182.3,
          184.2,
          186.8,
          187.3,
          183.9,
          181.7,
          181.2,
          180.7,
          178.8,
          179,
          178.7,
          175.7,
          176.2,
          176.3,
          176.3,
          177.2,
          180.5,
          180.4,
          178.4,
          175.9,
          176,
          175.8,
          177.3,
          179.8,
          180.5,
          178.3,
          176.9,
          176.6,
          176.9,
          179.6,
          183.4,
          183.7,
          181.9,
          181.1,
          179.4,
          179.3,
          180.7,
          184.8,
          185.6,
          179,
          174.6,
          173.4,
          173.8,
          174.3,
          176.3,
          176.1,
          173.4,
          173,
          172.9,
          173,
          173.9,
          176.7,
          176.2,
          174.1,
          173.5,
          173,
          172.9,
          173.6,
          175.8,
          175.8,
          173.3,
          172.6,
          172.4,
          172.2,
          173,
          175.3,
          175.3,
          172.8,
          172.2,
          172,
          170.7,
          171.5,
          173.8,
          173.7,
          172.1,
          171.6,
          171.5,
          171.5,
          172.2,
          175.2,
          175.5,
          172.8,
          172.2,
          171.8,
          171.9,
          172.6,
          176.4,
          176.2,
          173.1,
          172.1,
          171.9,
          171.7,
          172.5,
          175.6,
          175.4,
          173.1,
          172.6,
          172.4,
          173.7,
          174.9,
          178,
          177.9,
          170.5,
          169.6,
          169.6,
          169.9,
          171,
          173.3,
          173.3,
          170.9,
          170,
          169.9,
          170.2,
          171.2,
          173.9,
          174.1,
          171.6,
          170.5,
          170.4,
          170.6,
          171.8,
          174.1,
          174.2,
          172,
          170.7,
          170.8,
          171,
          172,
          174.8,
          176,
          174,
          173,
          173,
          173.3,
          173.9,
          176.3,
          176.3,
          175.9,
          174.2,
          174.7,
          177.3,
          183.3,
          193,
          194,
          192.8,
          192.3,
          189.8,
          178.9,
          178.5,
          180.9,
          180.4,
          176.6,
          175.4,
          174.9,
          175.3,
          176.1,
          178.3,
          178.9,
          177,
          175.7,
          176.2,
          176.4,
          176.5,
          179.4,
          180,
          177.8,
          176.5,
          177.1,
          177.2,
          178.2,
          180.1,
          180.4,
          177.6,
          177,
          176.3,
          175.8,
          177.2,
          179.2,
          179.5,
          177.6,
          176.1,
          176,
          176.1,
          177.6,
          180.4,
          180.4,
          178,
          176,
          176.2,
          177,
          177.1,
          179.1,
          179.6,
          176.7,
          175.5,
          176,
          178,
          180.8,
          183.4,
          181.7,
          179.8,
          178.8,
          178.9,
          178.2,
          180.1,
          181.8,
          182.4,
          179.1,
          178.3,
          177.9,
          177.6,
          179,
          180.8,
          181.6,
          178.5,
          177.5,
          177.6,
          178.3,
          179.5,
          183.1,
          184.7,
          181.3,
          180.6,
          180,
          180.4,
          181,
          183.9,
          184.9,
          181.5,
          181.5,
          181.5,
          182,
          183.8,
          184.6,
          183.8,
          181.8,
          180.7,
          180.6,
          180,
          181.8,
          183.5,
          183,
          180.8,
          180.3,
          182.4,
          183.2,
          183,
          185.6,
          184.3,
          183.3,
          182.2,
          181.2,
          181.9,
          184.8,
          186.5,
          185.6,
          182.3,
          181.4,
          181.5,
          182.1,
          182.1,
          185.5,
          183.6,
          181,
          179.4,
          180.1,
          180.7,
          183.9,
          186,
          186.2,
          184,
          183.3,
          183.6,
          183.1,
          184.1,
          185.3,
          187.7,
          183,
          181.7,
          180.3,
          178.1,
          181.6,
          182.3,
          180.3,
          177.7,
          176.3,
          176.8
         ]
        }
       ],
       "layout": {
        "template": {
         "data": {
          "bar": [
           {
            "error_x": {
             "color": "#2a3f5f"
            },
            "error_y": {
             "color": "#2a3f5f"
            },
            "marker": {
             "line": {
              "color": "#E5ECF6",
              "width": 0.5
             }
            },
            "type": "bar"
           }
          ],
          "barpolar": [
           {
            "marker": {
             "line": {
              "color": "#E5ECF6",
              "width": 0.5
             }
            },
            "type": "barpolar"
           }
          ],
          "carpet": [
           {
            "aaxis": {
             "endlinecolor": "#2a3f5f",
             "gridcolor": "white",
             "linecolor": "white",
             "minorgridcolor": "white",
             "startlinecolor": "#2a3f5f"
            },
            "baxis": {
             "endlinecolor": "#2a3f5f",
             "gridcolor": "white",
             "linecolor": "white",
             "minorgridcolor": "white",
             "startlinecolor": "#2a3f5f"
            },
            "type": "carpet"
           }
          ],
          "choropleth": [
           {
            "colorbar": {
             "outlinewidth": 0,
             "ticks": ""
            },
            "type": "choropleth"
           }
          ],
          "contour": [
           {
            "colorbar": {
             "outlinewidth": 0,
             "ticks": ""
            },
            "colorscale": [
             [
              0,
              "#0d0887"
             ],
             [
              0.1111111111111111,
              "#46039f"
             ],
             [
              0.2222222222222222,
              "#7201a8"
             ],
             [
              0.3333333333333333,
              "#9c179e"
             ],
             [
              0.4444444444444444,
              "#bd3786"
             ],
             [
              0.5555555555555556,
              "#d8576b"
             ],
             [
              0.6666666666666666,
              "#ed7953"
             ],
             [
              0.7777777777777778,
              "#fb9f3a"
             ],
             [
              0.8888888888888888,
              "#fdca26"
             ],
             [
              1,
              "#f0f921"
             ]
            ],
            "type": "contour"
           }
          ],
          "contourcarpet": [
           {
            "colorbar": {
             "outlinewidth": 0,
             "ticks": ""
            },
            "type": "contourcarpet"
           }
          ],
          "heatmap": [
           {
            "colorbar": {
             "outlinewidth": 0,
             "ticks": ""
            },
            "colorscale": [
             [
              0,
              "#0d0887"
             ],
             [
              0.1111111111111111,
              "#46039f"
             ],
             [
              0.2222222222222222,
              "#7201a8"
             ],
             [
              0.3333333333333333,
              "#9c179e"
             ],
             [
              0.4444444444444444,
              "#bd3786"
             ],
             [
              0.5555555555555556,
              "#d8576b"
             ],
             [
              0.6666666666666666,
              "#ed7953"
             ],
             [
              0.7777777777777778,
              "#fb9f3a"
             ],
             [
              0.8888888888888888,
              "#fdca26"
             ],
             [
              1,
              "#f0f921"
             ]
            ],
            "type": "heatmap"
           }
          ],
          "heatmapgl": [
           {
            "colorbar": {
             "outlinewidth": 0,
             "ticks": ""
            },
            "colorscale": [
             [
              0,
              "#0d0887"
             ],
             [
              0.1111111111111111,
              "#46039f"
             ],
             [
              0.2222222222222222,
              "#7201a8"
             ],
             [
              0.3333333333333333,
              "#9c179e"
             ],
             [
              0.4444444444444444,
              "#bd3786"
             ],
             [
              0.5555555555555556,
              "#d8576b"
             ],
             [
              0.6666666666666666,
              "#ed7953"
             ],
             [
              0.7777777777777778,
              "#fb9f3a"
             ],
             [
              0.8888888888888888,
              "#fdca26"
             ],
             [
              1,
              "#f0f921"
             ]
            ],
            "type": "heatmapgl"
           }
          ],
          "histogram": [
           {
            "marker": {
             "colorbar": {
              "outlinewidth": 0,
              "ticks": ""
             }
            },
            "type": "histogram"
           }
          ],
          "histogram2d": [
           {
            "colorbar": {
             "outlinewidth": 0,
             "ticks": ""
            },
            "colorscale": [
             [
              0,
              "#0d0887"
             ],
             [
              0.1111111111111111,
              "#46039f"
             ],
             [
              0.2222222222222222,
              "#7201a8"
             ],
             [
              0.3333333333333333,
              "#9c179e"
             ],
             [
              0.4444444444444444,
              "#bd3786"
             ],
             [
              0.5555555555555556,
              "#d8576b"
             ],
             [
              0.6666666666666666,
              "#ed7953"
             ],
             [
              0.7777777777777778,
              "#fb9f3a"
             ],
             [
              0.8888888888888888,
              "#fdca26"
             ],
             [
              1,
              "#f0f921"
             ]
            ],
            "type": "histogram2d"
           }
          ],
          "histogram2dcontour": [
           {
            "colorbar": {
             "outlinewidth": 0,
             "ticks": ""
            },
            "colorscale": [
             [
              0,
              "#0d0887"
             ],
             [
              0.1111111111111111,
              "#46039f"
             ],
             [
              0.2222222222222222,
              "#7201a8"
             ],
             [
              0.3333333333333333,
              "#9c179e"
             ],
             [
              0.4444444444444444,
              "#bd3786"
             ],
             [
              0.5555555555555556,
              "#d8576b"
             ],
             [
              0.6666666666666666,
              "#ed7953"
             ],
             [
              0.7777777777777778,
              "#fb9f3a"
             ],
             [
              0.8888888888888888,
              "#fdca26"
             ],
             [
              1,
              "#f0f921"
             ]
            ],
            "type": "histogram2dcontour"
           }
          ],
          "mesh3d": [
           {
            "colorbar": {
             "outlinewidth": 0,
             "ticks": ""
            },
            "type": "mesh3d"
           }
          ],
          "parcoords": [
           {
            "line": {
             "colorbar": {
              "outlinewidth": 0,
              "ticks": ""
             }
            },
            "type": "parcoords"
           }
          ],
          "pie": [
           {
            "automargin": true,
            "type": "pie"
           }
          ],
          "scatter": [
           {
            "marker": {
             "colorbar": {
              "outlinewidth": 0,
              "ticks": ""
             }
            },
            "type": "scatter"
           }
          ],
          "scatter3d": [
           {
            "line": {
             "colorbar": {
              "outlinewidth": 0,
              "ticks": ""
             }
            },
            "marker": {
             "colorbar": {
              "outlinewidth": 0,
              "ticks": ""
             }
            },
            "type": "scatter3d"
           }
          ],
          "scattercarpet": [
           {
            "marker": {
             "colorbar": {
              "outlinewidth": 0,
              "ticks": ""
             }
            },
            "type": "scattercarpet"
           }
          ],
          "scattergeo": [
           {
            "marker": {
             "colorbar": {
              "outlinewidth": 0,
              "ticks": ""
             }
            },
            "type": "scattergeo"
           }
          ],
          "scattergl": [
           {
            "marker": {
             "colorbar": {
              "outlinewidth": 0,
              "ticks": ""
             }
            },
            "type": "scattergl"
           }
          ],
          "scattermapbox": [
           {
            "marker": {
             "colorbar": {
              "outlinewidth": 0,
              "ticks": ""
             }
            },
            "type": "scattermapbox"
           }
          ],
          "scatterpolar": [
           {
            "marker": {
             "colorbar": {
              "outlinewidth": 0,
              "ticks": ""
             }
            },
            "type": "scatterpolar"
           }
          ],
          "scatterpolargl": [
           {
            "marker": {
             "colorbar": {
              "outlinewidth": 0,
              "ticks": ""
             }
            },
            "type": "scatterpolargl"
           }
          ],
          "scatterternary": [
           {
            "marker": {
             "colorbar": {
              "outlinewidth": 0,
              "ticks": ""
             }
            },
            "type": "scatterternary"
           }
          ],
          "surface": [
           {
            "colorbar": {
             "outlinewidth": 0,
             "ticks": ""
            },
            "colorscale": [
             [
              0,
              "#0d0887"
             ],
             [
              0.1111111111111111,
              "#46039f"
             ],
             [
              0.2222222222222222,
              "#7201a8"
             ],
             [
              0.3333333333333333,
              "#9c179e"
             ],
             [
              0.4444444444444444,
              "#bd3786"
             ],
             [
              0.5555555555555556,
              "#d8576b"
             ],
             [
              0.6666666666666666,
              "#ed7953"
             ],
             [
              0.7777777777777778,
              "#fb9f3a"
             ],
             [
              0.8888888888888888,
              "#fdca26"
             ],
             [
              1,
              "#f0f921"
             ]
            ],
            "type": "surface"
           }
          ],
          "table": [
           {
            "cells": {
             "fill": {
              "color": "#EBF0F8"
             },
             "line": {
              "color": "white"
             }
            },
            "header": {
             "fill": {
              "color": "#C8D4E3"
             },
             "line": {
              "color": "white"
             }
            },
            "type": "table"
           }
          ]
         },
         "layout": {
          "annotationdefaults": {
           "arrowcolor": "#2a3f5f",
           "arrowhead": 0,
           "arrowwidth": 1
          },
          "coloraxis": {
           "colorbar": {
            "outlinewidth": 0,
            "ticks": ""
           }
          },
          "colorscale": {
           "diverging": [
            [
             0,
             "#8e0152"
            ],
            [
             0.1,
             "#c51b7d"
            ],
            [
             0.2,
             "#de77ae"
            ],
            [
             0.3,
             "#f1b6da"
            ],
            [
             0.4,
             "#fde0ef"
            ],
            [
             0.5,
             "#f7f7f7"
            ],
            [
             0.6,
             "#e6f5d0"
            ],
            [
             0.7,
             "#b8e186"
            ],
            [
             0.8,
             "#7fbc41"
            ],
            [
             0.9,
             "#4d9221"
            ],
            [
             1,
             "#276419"
            ]
           ],
           "sequential": [
            [
             0,
             "#0d0887"
            ],
            [
             0.1111111111111111,
             "#46039f"
            ],
            [
             0.2222222222222222,
             "#7201a8"
            ],
            [
             0.3333333333333333,
             "#9c179e"
            ],
            [
             0.4444444444444444,
             "#bd3786"
            ],
            [
             0.5555555555555556,
             "#d8576b"
            ],
            [
             0.6666666666666666,
             "#ed7953"
            ],
            [
             0.7777777777777778,
             "#fb9f3a"
            ],
            [
             0.8888888888888888,
             "#fdca26"
            ],
            [
             1,
             "#f0f921"
            ]
           ],
           "sequentialminus": [
            [
             0,
             "#0d0887"
            ],
            [
             0.1111111111111111,
             "#46039f"
            ],
            [
             0.2222222222222222,
             "#7201a8"
            ],
            [
             0.3333333333333333,
             "#9c179e"
            ],
            [
             0.4444444444444444,
             "#bd3786"
            ],
            [
             0.5555555555555556,
             "#d8576b"
            ],
            [
             0.6666666666666666,
             "#ed7953"
            ],
            [
             0.7777777777777778,
             "#fb9f3a"
            ],
            [
             0.8888888888888888,
             "#fdca26"
            ],
            [
             1,
             "#f0f921"
            ]
           ]
          },
          "colorway": [
           "#636efa",
           "#EF553B",
           "#00cc96",
           "#ab63fa",
           "#FFA15A",
           "#19d3f3",
           "#FF6692",
           "#B6E880",
           "#FF97FF",
           "#FECB52"
          ],
          "font": {
           "color": "#2a3f5f"
          },
          "geo": {
           "bgcolor": "white",
           "lakecolor": "white",
           "landcolor": "#E5ECF6",
           "showlakes": true,
           "showland": true,
           "subunitcolor": "white"
          },
          "hoverlabel": {
           "align": "left"
          },
          "hovermode": "closest",
          "mapbox": {
           "style": "light"
          },
          "paper_bgcolor": "white",
          "plot_bgcolor": "#E5ECF6",
          "polar": {
           "angularaxis": {
            "gridcolor": "white",
            "linecolor": "white",
            "ticks": ""
           },
           "bgcolor": "#E5ECF6",
           "radialaxis": {
            "gridcolor": "white",
            "linecolor": "white",
            "ticks": ""
           }
          },
          "scene": {
           "xaxis": {
            "backgroundcolor": "#E5ECF6",
            "gridcolor": "white",
            "gridwidth": 2,
            "linecolor": "white",
            "showbackground": true,
            "ticks": "",
            "zerolinecolor": "white"
           },
           "yaxis": {
            "backgroundcolor": "#E5ECF6",
            "gridcolor": "white",
            "gridwidth": 2,
            "linecolor": "white",
            "showbackground": true,
            "ticks": "",
            "zerolinecolor": "white"
           },
           "zaxis": {
            "backgroundcolor": "#E5ECF6",
            "gridcolor": "white",
            "gridwidth": 2,
            "linecolor": "white",
            "showbackground": true,
            "ticks": "",
            "zerolinecolor": "white"
           }
          },
          "shapedefaults": {
           "line": {
            "color": "#2a3f5f"
           }
          },
          "ternary": {
           "aaxis": {
            "gridcolor": "white",
            "linecolor": "white",
            "ticks": ""
           },
           "baxis": {
            "gridcolor": "white",
            "linecolor": "white",
            "ticks": ""
           },
           "bgcolor": "#E5ECF6",
           "caxis": {
            "gridcolor": "white",
            "linecolor": "white",
            "ticks": ""
           }
          },
          "title": {
           "x": 0.05
          },
          "xaxis": {
           "automargin": true,
           "gridcolor": "white",
           "linecolor": "white",
           "ticks": "",
           "title": {
            "standoff": 15
           },
           "zerolinecolor": "white",
           "zerolinewidth": 2
          },
          "yaxis": {
           "automargin": true,
           "gridcolor": "white",
           "linecolor": "white",
           "ticks": "",
           "title": {
            "standoff": 15
           },
           "zerolinecolor": "white",
           "zerolinewidth": 2
          }
         }
        },
        "xaxis": {
         "title": {
          "text": "Date"
         }
        },
        "yaxis": {
         "title": {
          "text": "Average Rate in Dollar"
         }
        }
       }
      },
      "text/html": [
       "<div>\n",
       "        \n",
       "        \n",
       "            <div id=\"18a4d883-d269-42c8-9eef-52d3dee6a9b0\" class=\"plotly-graph-div\" style=\"height:525px; width:100%;\"></div>\n",
       "            <script type=\"text/javascript\">\n",
       "                require([\"plotly\"], function(Plotly) {\n",
       "                    window.PLOTLYENV=window.PLOTLYENV || {};\n",
       "                    \n",
       "                if (document.getElementById(\"18a4d883-d269-42c8-9eef-52d3dee6a9b0\")) {\n",
       "                    Plotly.newPlot(\n",
       "                        '18a4d883-d269-42c8-9eef-52d3dee6a9b0',\n",
       "                        [{\"mode\": \"lines\", \"name\": \"Seattle\", \"text\": \"Average Price in $\", \"type\": \"scatter\", \"x\": [\"2016-01-04T00:00:00\", \"2016-01-05T00:00:00\", \"2016-01-06T00:00:00\", \"2016-01-07T00:00:00\", \"2016-01-08T00:00:00\", \"2016-01-09T00:00:00\", \"2016-01-10T00:00:00\", \"2016-01-11T00:00:00\", \"2016-01-12T00:00:00\", \"2016-01-13T00:00:00\", \"2016-01-14T00:00:00\", \"2016-01-15T00:00:00\", \"2016-01-16T00:00:00\", \"2016-01-17T00:00:00\", \"2016-01-18T00:00:00\", \"2016-01-19T00:00:00\", \"2016-01-20T00:00:00\", \"2016-01-21T00:00:00\", \"2016-01-22T00:00:00\", \"2016-01-23T00:00:00\", \"2016-01-24T00:00:00\", \"2016-01-25T00:00:00\", \"2016-01-26T00:00:00\", \"2016-01-27T00:00:00\", \"2016-01-28T00:00:00\", \"2016-01-29T00:00:00\", \"2016-01-30T00:00:00\", \"2016-01-31T00:00:00\", \"2016-02-01T00:00:00\", \"2016-02-02T00:00:00\", \"2016-02-03T00:00:00\", \"2016-02-04T00:00:00\", \"2016-02-05T00:00:00\", \"2016-02-06T00:00:00\", \"2016-02-07T00:00:00\", \"2016-02-08T00:00:00\", \"2016-02-09T00:00:00\", \"2016-02-10T00:00:00\", \"2016-02-11T00:00:00\", \"2016-02-12T00:00:00\", \"2016-02-13T00:00:00\", \"2016-02-14T00:00:00\", \"2016-02-15T00:00:00\", \"2016-02-16T00:00:00\", \"2016-02-17T00:00:00\", \"2016-02-18T00:00:00\", \"2016-02-19T00:00:00\", \"2016-02-20T00:00:00\", \"2016-02-21T00:00:00\", \"2016-02-22T00:00:00\", \"2016-02-23T00:00:00\", \"2016-02-24T00:00:00\", \"2016-02-25T00:00:00\", \"2016-02-26T00:00:00\", \"2016-02-27T00:00:00\", \"2016-02-28T00:00:00\", \"2016-02-29T00:00:00\", \"2016-03-01T00:00:00\", \"2016-03-02T00:00:00\", \"2016-03-03T00:00:00\", \"2016-03-04T00:00:00\", \"2016-03-05T00:00:00\", \"2016-03-06T00:00:00\", \"2016-03-07T00:00:00\", \"2016-03-08T00:00:00\", \"2016-03-09T00:00:00\", \"2016-03-10T00:00:00\", \"2016-03-11T00:00:00\", \"2016-03-12T00:00:00\", \"2016-03-13T00:00:00\", \"2016-03-14T00:00:00\", \"2016-03-15T00:00:00\", \"2016-03-16T00:00:00\", \"2016-03-17T00:00:00\", \"2016-03-18T00:00:00\", \"2016-03-19T00:00:00\", \"2016-03-20T00:00:00\", \"2016-03-21T00:00:00\", \"2016-03-22T00:00:00\", \"2016-03-23T00:00:00\", \"2016-03-24T00:00:00\", \"2016-03-25T00:00:00\", \"2016-03-26T00:00:00\", \"2016-03-27T00:00:00\", \"2016-03-28T00:00:00\", \"2016-03-29T00:00:00\", \"2016-03-30T00:00:00\", \"2016-03-31T00:00:00\", \"2016-04-01T00:00:00\", \"2016-04-02T00:00:00\", \"2016-04-03T00:00:00\", \"2016-04-04T00:00:00\", \"2016-04-05T00:00:00\", \"2016-04-06T00:00:00\", \"2016-04-07T00:00:00\", \"2016-04-08T00:00:00\", \"2016-04-09T00:00:00\", \"2016-04-10T00:00:00\", \"2016-04-11T00:00:00\", \"2016-04-12T00:00:00\", \"2016-04-13T00:00:00\", \"2016-04-14T00:00:00\", \"2016-04-15T00:00:00\", \"2016-04-16T00:00:00\", \"2016-04-17T00:00:00\", \"2016-04-18T00:00:00\", \"2016-04-19T00:00:00\", \"2016-04-20T00:00:00\", \"2016-04-21T00:00:00\", \"2016-04-22T00:00:00\", \"2016-04-23T00:00:00\", \"2016-04-24T00:00:00\", \"2016-04-25T00:00:00\", \"2016-04-26T00:00:00\", \"2016-04-27T00:00:00\", \"2016-04-28T00:00:00\", \"2016-04-29T00:00:00\", \"2016-04-30T00:00:00\", \"2016-05-01T00:00:00\", \"2016-05-02T00:00:00\", \"2016-05-03T00:00:00\", \"2016-05-04T00:00:00\", \"2016-05-05T00:00:00\", \"2016-05-06T00:00:00\", \"2016-05-07T00:00:00\", \"2016-05-08T00:00:00\", \"2016-05-09T00:00:00\", \"2016-05-10T00:00:00\", \"2016-05-11T00:00:00\", \"2016-05-12T00:00:00\", \"2016-05-13T00:00:00\", \"2016-05-14T00:00:00\", \"2016-05-15T00:00:00\", \"2016-05-16T00:00:00\", \"2016-05-17T00:00:00\", \"2016-05-18T00:00:00\", \"2016-05-19T00:00:00\", \"2016-05-20T00:00:00\", \"2016-05-21T00:00:00\", \"2016-05-22T00:00:00\", \"2016-05-23T00:00:00\", \"2016-05-24T00:00:00\", \"2016-05-25T00:00:00\", \"2016-05-26T00:00:00\", \"2016-05-27T00:00:00\", \"2016-05-28T00:00:00\", \"2016-05-29T00:00:00\", \"2016-05-30T00:00:00\", \"2016-05-31T00:00:00\", \"2016-06-01T00:00:00\", \"2016-06-02T00:00:00\", \"2016-06-03T00:00:00\", \"2016-06-04T00:00:00\", \"2016-06-05T00:00:00\", \"2016-06-06T00:00:00\", \"2016-06-07T00:00:00\", \"2016-06-08T00:00:00\", \"2016-06-09T00:00:00\", \"2016-06-10T00:00:00\", \"2016-06-11T00:00:00\", \"2016-06-12T00:00:00\", \"2016-06-13T00:00:00\", \"2016-06-14T00:00:00\", \"2016-06-15T00:00:00\", \"2016-06-16T00:00:00\", \"2016-06-17T00:00:00\", \"2016-06-18T00:00:00\", \"2016-06-19T00:00:00\", \"2016-06-20T00:00:00\", \"2016-06-21T00:00:00\", \"2016-06-22T00:00:00\", \"2016-06-23T00:00:00\", \"2016-06-24T00:00:00\", \"2016-06-25T00:00:00\", \"2016-06-26T00:00:00\", \"2016-06-27T00:00:00\", \"2016-06-28T00:00:00\", \"2016-06-29T00:00:00\", \"2016-06-30T00:00:00\", \"2016-07-01T00:00:00\", \"2016-07-02T00:00:00\", \"2016-07-03T00:00:00\", \"2016-07-04T00:00:00\", \"2016-07-05T00:00:00\", \"2016-07-06T00:00:00\", \"2016-07-07T00:00:00\", \"2016-07-08T00:00:00\", \"2016-07-09T00:00:00\", \"2016-07-10T00:00:00\", \"2016-07-11T00:00:00\", \"2016-07-12T00:00:00\", \"2016-07-13T00:00:00\", \"2016-07-14T00:00:00\", \"2016-07-15T00:00:00\", \"2016-07-16T00:00:00\", \"2016-07-17T00:00:00\", \"2016-07-18T00:00:00\", \"2016-07-19T00:00:00\", \"2016-07-20T00:00:00\", \"2016-07-21T00:00:00\", \"2016-07-22T00:00:00\", \"2016-07-23T00:00:00\", \"2016-07-24T00:00:00\", \"2016-07-25T00:00:00\", \"2016-07-26T00:00:00\", \"2016-07-27T00:00:00\", \"2016-07-28T00:00:00\", \"2016-07-29T00:00:00\", \"2016-07-30T00:00:00\", \"2016-07-31T00:00:00\", \"2016-08-01T00:00:00\", \"2016-08-02T00:00:00\", \"2016-08-03T00:00:00\", \"2016-08-04T00:00:00\", \"2016-08-05T00:00:00\", \"2016-08-06T00:00:00\", \"2016-08-07T00:00:00\", \"2016-08-08T00:00:00\", \"2016-08-09T00:00:00\", \"2016-08-10T00:00:00\", \"2016-08-11T00:00:00\", \"2016-08-12T00:00:00\", \"2016-08-13T00:00:00\", \"2016-08-14T00:00:00\", \"2016-08-15T00:00:00\", \"2016-08-16T00:00:00\", \"2016-08-17T00:00:00\", \"2016-08-18T00:00:00\", \"2016-08-19T00:00:00\", \"2016-08-20T00:00:00\", \"2016-08-21T00:00:00\", \"2016-08-22T00:00:00\", \"2016-08-23T00:00:00\", \"2016-08-24T00:00:00\", \"2016-08-25T00:00:00\", \"2016-08-26T00:00:00\", \"2016-08-27T00:00:00\", \"2016-08-28T00:00:00\", \"2016-08-29T00:00:00\", \"2016-08-30T00:00:00\", \"2016-08-31T00:00:00\", \"2016-09-01T00:00:00\", \"2016-09-02T00:00:00\", \"2016-09-03T00:00:00\", \"2016-09-04T00:00:00\", \"2016-09-05T00:00:00\", \"2016-09-06T00:00:00\", \"2016-09-07T00:00:00\", \"2016-09-08T00:00:00\", \"2016-09-09T00:00:00\", \"2016-09-10T00:00:00\", \"2016-09-11T00:00:00\", \"2016-09-12T00:00:00\", \"2016-09-13T00:00:00\", \"2016-09-14T00:00:00\", \"2016-09-15T00:00:00\", \"2016-09-16T00:00:00\", \"2016-09-17T00:00:00\", \"2016-09-18T00:00:00\", \"2016-09-19T00:00:00\", \"2016-09-20T00:00:00\", \"2016-09-21T00:00:00\", \"2016-09-22T00:00:00\", \"2016-09-23T00:00:00\", \"2016-09-24T00:00:00\", \"2016-09-25T00:00:00\", \"2016-09-26T00:00:00\", \"2016-09-27T00:00:00\", \"2016-09-28T00:00:00\", \"2016-09-29T00:00:00\", \"2016-09-30T00:00:00\", \"2016-10-01T00:00:00\", \"2016-10-02T00:00:00\", \"2016-10-03T00:00:00\", \"2016-10-04T00:00:00\", \"2016-10-05T00:00:00\", \"2016-10-06T00:00:00\", \"2016-10-07T00:00:00\", \"2016-10-08T00:00:00\", \"2016-10-09T00:00:00\", \"2016-10-10T00:00:00\", \"2016-10-11T00:00:00\", \"2016-10-12T00:00:00\", \"2016-10-13T00:00:00\", \"2016-10-14T00:00:00\", \"2016-10-15T00:00:00\", \"2016-10-16T00:00:00\", \"2016-10-17T00:00:00\", \"2016-10-18T00:00:00\", \"2016-10-19T00:00:00\", \"2016-10-20T00:00:00\", \"2016-10-21T00:00:00\", \"2016-10-22T00:00:00\", \"2016-10-23T00:00:00\", \"2016-10-24T00:00:00\", \"2016-10-25T00:00:00\", \"2016-10-26T00:00:00\", \"2016-10-27T00:00:00\", \"2016-10-28T00:00:00\", \"2016-10-29T00:00:00\", \"2016-10-30T00:00:00\", \"2016-10-31T00:00:00\", \"2016-11-01T00:00:00\", \"2016-11-02T00:00:00\", \"2016-11-03T00:00:00\", \"2016-11-04T00:00:00\", \"2016-11-05T00:00:00\", \"2016-11-06T00:00:00\", \"2016-11-07T00:00:00\", \"2016-11-08T00:00:00\", \"2016-11-09T00:00:00\", \"2016-11-10T00:00:00\", \"2016-11-11T00:00:00\", \"2016-11-12T00:00:00\", \"2016-11-13T00:00:00\", \"2016-11-14T00:00:00\", \"2016-11-15T00:00:00\", \"2016-11-16T00:00:00\", \"2016-11-17T00:00:00\", \"2016-11-18T00:00:00\", \"2016-11-19T00:00:00\", \"2016-11-20T00:00:00\", \"2016-11-21T00:00:00\", \"2016-11-22T00:00:00\", \"2016-11-23T00:00:00\", \"2016-11-24T00:00:00\", \"2016-11-25T00:00:00\", \"2016-11-26T00:00:00\", \"2016-11-27T00:00:00\", \"2016-11-28T00:00:00\", \"2016-11-29T00:00:00\", \"2016-11-30T00:00:00\", \"2016-12-01T00:00:00\", \"2016-12-02T00:00:00\", \"2016-12-03T00:00:00\", \"2016-12-04T00:00:00\", \"2016-12-05T00:00:00\", \"2016-12-06T00:00:00\", \"2016-12-07T00:00:00\", \"2016-12-08T00:00:00\", \"2016-12-09T00:00:00\", \"2016-12-10T00:00:00\", \"2016-12-11T00:00:00\", \"2016-12-12T00:00:00\", \"2016-12-13T00:00:00\", \"2016-12-14T00:00:00\", \"2016-12-15T00:00:00\", \"2016-12-16T00:00:00\", \"2016-12-17T00:00:00\", \"2016-12-18T00:00:00\", \"2016-12-19T00:00:00\", \"2016-12-20T00:00:00\", \"2016-12-21T00:00:00\", \"2016-12-22T00:00:00\", \"2016-12-23T00:00:00\", \"2016-12-24T00:00:00\", \"2016-12-25T00:00:00\", \"2016-12-26T00:00:00\", \"2016-12-27T00:00:00\", \"2016-12-28T00:00:00\", \"2016-12-29T00:00:00\", \"2016-12-30T00:00:00\", \"2016-12-31T00:00:00\", \"2017-01-01T00:00:00\", \"2017-01-02T00:00:00\"], \"y\": [144.2, 142.1, 142.7, 143.2, 146.3, 145.5, 140.2, 138.8, 138.3, 138.5, 139.0, 144.4, 145.0, 141.0, 138.7, 136.8, 136.3, 137.1, 141.6, 141.8, 137.2, 135.3, 134.9, 135.5, 135.8, 140.1, 140.3, 135.7, 135.7, 135.1, 135.6, 136.9, 140.9, 141.4, 137.2, 135.6, 135.3, 135.4, 136.9, 143.5, 144.2, 140.0, 137.9, 136.3, 135.7, 135.7, 139.9, 139.9, 135.1, 134.5, 134.4, 134.2, 134.5, 139.1, 139.5, 135.4, 134.1, 135.3, 135.1, 136.1, 141.8, 142.0, 136.8, 136.6, 136.8, 136.9, 137.4, 142.4, 142.8, 138.0, 137.2, 136.9, 136.9, 138.6, 143.0, 142.8, 137.5, 137.0, 137.1, 137.1, 138.5, 143.9, 143.9, 138.0, 136.8, 136.8, 136.6, 137.5, 142.9, 148.1, 143.1, 142.7, 142.5, 142.9, 145.2, 149.7, 150.1, 145.1, 142.8, 142.4, 142.4, 143.5, 147.9, 147.9, 142.8, 142.4, 142.3, 142.3, 142.0, 146.7, 147.1, 141.8, 141.9, 142.1, 142.2, 142.4, 147.6, 147.5, 144.7, 144.5, 144.3, 144.0, 144.9, 149.7, 149.8, 144.1, 144.3, 144.2, 143.9, 145.4, 150.3, 150.2, 144.4, 144.5, 144.6, 144.6, 145.7, 150.6, 150.8, 146.1, 146.5, 145.9, 146.2, 147.5, 154.3, 154.3, 149.7, 149.5, 148.3, 149.9, 150.7, 155.0, 154.8, 150.3, 150.4, 150.3, 149.7, 150.2, 154.0, 154.1, 149.9, 150.3, 150.5, 150.5, 152.2, 156.4, 156.7, 152.5, 152.0, 152.2, 152.0, 152.4, 156.2, 156.2, 152.4, 152.4, 152.4, 152.3, 152.9, 159.4, 159.2, 155.9, 155.6, 155.0, 154.8, 155.1, 158.6, 158.7, 154.9, 154.6, 154.7, 155.1, 155.2, 158.7, 158.4, 155.0, 154.6, 154.3, 154.0, 154.5, 157.9, 158.2, 154.7, 154.8, 154.7, 154.4, 154.7, 158.0, 158.0, 154.4, 153.8, 154.1, 154.1, 154.5, 157.6, 157.6, 154.2, 154.5, 154.4, 154.4, 154.3, 157.6, 157.5, 153.6, 153.7, 153.4, 153.6, 154.1, 157.3, 157.5, 153.6, 153.5, 153.8, 154.0, 154.7, 158.1, 158.1, 153.9, 153.5, 153.5, 153.3, 152.6, 156.0, 155.9, 151.1, 148.9, 148.1, 147.9, 148.8, 152.6, 152.8, 147.9, 147.8, 147.7, 147.8, 148.7, 152.6, 152.6, 147.6, 147.3, 147.2, 147.2, 148.1, 152.0, 151.9, 147.2, 146.8, 146.8, 146.8, 146.9, 151.0, 149.5, 143.6, 143.5, 143.4, 143.4, 144.5, 148.7, 148.9, 143.7, 143.4, 143.4, 143.4, 144.1, 148.4, 148.4, 143.2, 143.2, 143.1, 143.2, 143.8, 148.1, 148.1, 143.0, 142.9, 143.0, 143.0, 143.4, 147.8, 147.7, 142.5, 142.3, 142.1, 142.1, 142.7, 147.1, 147.1, 141.8, 141.7, 141.6, 141.6, 142.2, 146.6, 146.6, 141.8, 141.8, 141.9, 141.9, 142.5, 147.0, 147.1, 142.4, 142.2, 142.3, 142.7, 143.5, 147.6, 147.4, 142.7, 141.6, 141.1, 141.0, 142.0, 146.7, 146.3, 141.3, 140.9, 140.6, 140.7, 142.5, 147.2, 146.9, 141.6, 141.0, 141.1, 141.1, 141.9, 146.5, 146.6, 142.2, 142.1, 142.1, 142.0, 143.5, 148.0, 148.0, 144.4, 144.3, 143.8, 143.7, 144.4, 149.3, 149.9, 143.9, 142.9]}, {\"mode\": \"lines\", \"name\": \"Boston\", \"text\": \"Average Price in $\", \"type\": \"scatter\", \"x\": [\"2016-09-06T00:00:00\", \"2016-09-07T00:00:00\", \"2016-09-08T00:00:00\", \"2016-09-09T00:00:00\", \"2016-09-10T00:00:00\", \"2016-09-11T00:00:00\", \"2016-09-12T00:00:00\", \"2016-09-13T00:00:00\", \"2016-09-14T00:00:00\", \"2016-09-15T00:00:00\", \"2016-09-16T00:00:00\", \"2016-09-17T00:00:00\", \"2016-09-18T00:00:00\", \"2016-09-19T00:00:00\", \"2016-09-20T00:00:00\", \"2016-09-21T00:00:00\", \"2016-09-22T00:00:00\", \"2016-09-23T00:00:00\", \"2016-09-24T00:00:00\", \"2016-09-25T00:00:00\", \"2016-09-26T00:00:00\", \"2016-09-27T00:00:00\", \"2016-09-28T00:00:00\", \"2016-09-29T00:00:00\", \"2016-09-30T00:00:00\", \"2016-10-01T00:00:00\", \"2016-10-02T00:00:00\", \"2016-10-03T00:00:00\", \"2016-10-04T00:00:00\", \"2016-10-05T00:00:00\", \"2016-10-06T00:00:00\", \"2016-10-07T00:00:00\", \"2016-10-08T00:00:00\", \"2016-10-09T00:00:00\", \"2016-10-10T00:00:00\", \"2016-10-11T00:00:00\", \"2016-10-12T00:00:00\", \"2016-10-13T00:00:00\", \"2016-10-14T00:00:00\", \"2016-10-15T00:00:00\", \"2016-10-16T00:00:00\", \"2016-10-17T00:00:00\", \"2016-10-18T00:00:00\", \"2016-10-19T00:00:00\", \"2016-10-20T00:00:00\", \"2016-10-21T00:00:00\", \"2016-10-22T00:00:00\", \"2016-10-23T00:00:00\", \"2016-10-24T00:00:00\", \"2016-10-25T00:00:00\", \"2016-10-26T00:00:00\", \"2016-10-27T00:00:00\", \"2016-10-28T00:00:00\", \"2016-10-29T00:00:00\", \"2016-10-30T00:00:00\", \"2016-10-31T00:00:00\", \"2016-11-01T00:00:00\", \"2016-11-02T00:00:00\", \"2016-11-03T00:00:00\", \"2016-11-04T00:00:00\", \"2016-11-05T00:00:00\", \"2016-11-06T00:00:00\", \"2016-11-07T00:00:00\", \"2016-11-08T00:00:00\", \"2016-11-09T00:00:00\", \"2016-11-10T00:00:00\", \"2016-11-11T00:00:00\", \"2016-11-12T00:00:00\", \"2016-11-13T00:00:00\", \"2016-11-14T00:00:00\", \"2016-11-15T00:00:00\", \"2016-11-16T00:00:00\", \"2016-11-17T00:00:00\", \"2016-11-18T00:00:00\", \"2016-11-19T00:00:00\", \"2016-11-20T00:00:00\", \"2016-11-21T00:00:00\", \"2016-11-22T00:00:00\", \"2016-11-23T00:00:00\", \"2016-11-24T00:00:00\", \"2016-11-25T00:00:00\", \"2016-11-26T00:00:00\", \"2016-11-27T00:00:00\", \"2016-11-28T00:00:00\", \"2016-11-29T00:00:00\", \"2016-11-30T00:00:00\", \"2016-12-01T00:00:00\", \"2016-12-02T00:00:00\", \"2016-12-03T00:00:00\", \"2016-12-04T00:00:00\", \"2016-12-05T00:00:00\", \"2016-12-06T00:00:00\", \"2016-12-07T00:00:00\", \"2016-12-08T00:00:00\", \"2016-12-09T00:00:00\", \"2016-12-10T00:00:00\", \"2016-12-11T00:00:00\", \"2016-12-12T00:00:00\", \"2016-12-13T00:00:00\", \"2016-12-14T00:00:00\", \"2016-12-15T00:00:00\", \"2016-12-16T00:00:00\", \"2016-12-17T00:00:00\", \"2016-12-18T00:00:00\", \"2016-12-19T00:00:00\", \"2016-12-20T00:00:00\", \"2016-12-21T00:00:00\", \"2016-12-22T00:00:00\", \"2016-12-23T00:00:00\", \"2016-12-24T00:00:00\", \"2016-12-25T00:00:00\", \"2016-12-26T00:00:00\", \"2016-12-27T00:00:00\", \"2016-12-28T00:00:00\", \"2016-12-29T00:00:00\", \"2016-12-30T00:00:00\", \"2016-12-31T00:00:00\", \"2017-01-01T00:00:00\", \"2017-01-02T00:00:00\", \"2017-01-03T00:00:00\", \"2017-01-04T00:00:00\", \"2017-01-05T00:00:00\", \"2017-01-06T00:00:00\", \"2017-01-07T00:00:00\", \"2017-01-08T00:00:00\", \"2017-01-09T00:00:00\", \"2017-01-10T00:00:00\", \"2017-01-11T00:00:00\", \"2017-01-12T00:00:00\", \"2017-01-13T00:00:00\", \"2017-01-14T00:00:00\", \"2017-01-15T00:00:00\", \"2017-01-16T00:00:00\", \"2017-01-17T00:00:00\", \"2017-01-18T00:00:00\", \"2017-01-19T00:00:00\", \"2017-01-20T00:00:00\", \"2017-01-21T00:00:00\", \"2017-01-22T00:00:00\", \"2017-01-23T00:00:00\", \"2017-01-24T00:00:00\", \"2017-01-25T00:00:00\", \"2017-01-26T00:00:00\", \"2017-01-27T00:00:00\", \"2017-01-28T00:00:00\", \"2017-01-29T00:00:00\", \"2017-01-30T00:00:00\", \"2017-01-31T00:00:00\", \"2017-02-01T00:00:00\", \"2017-02-02T00:00:00\", \"2017-02-03T00:00:00\", \"2017-02-04T00:00:00\", \"2017-02-05T00:00:00\", \"2017-02-06T00:00:00\", \"2017-02-07T00:00:00\", \"2017-02-08T00:00:00\", \"2017-02-09T00:00:00\", \"2017-02-10T00:00:00\", \"2017-02-11T00:00:00\", \"2017-02-12T00:00:00\", \"2017-02-13T00:00:00\", \"2017-02-14T00:00:00\", \"2017-02-15T00:00:00\", \"2017-02-16T00:00:00\", \"2017-02-17T00:00:00\", \"2017-02-18T00:00:00\", \"2017-02-19T00:00:00\", \"2017-02-20T00:00:00\", \"2017-02-21T00:00:00\", \"2017-02-22T00:00:00\", \"2017-02-23T00:00:00\", \"2017-02-24T00:00:00\", \"2017-02-25T00:00:00\", \"2017-02-26T00:00:00\", \"2017-02-27T00:00:00\", \"2017-02-28T00:00:00\", \"2017-03-01T00:00:00\", \"2017-03-02T00:00:00\", \"2017-03-03T00:00:00\", \"2017-03-04T00:00:00\", \"2017-03-05T00:00:00\", \"2017-03-06T00:00:00\", \"2017-03-07T00:00:00\", \"2017-03-08T00:00:00\", \"2017-03-09T00:00:00\", \"2017-03-10T00:00:00\", \"2017-03-11T00:00:00\", \"2017-03-12T00:00:00\", \"2017-03-13T00:00:00\", \"2017-03-14T00:00:00\", \"2017-03-15T00:00:00\", \"2017-03-16T00:00:00\", \"2017-03-17T00:00:00\", \"2017-03-18T00:00:00\", \"2017-03-19T00:00:00\", \"2017-03-20T00:00:00\", \"2017-03-21T00:00:00\", \"2017-03-22T00:00:00\", \"2017-03-23T00:00:00\", \"2017-03-24T00:00:00\", \"2017-03-25T00:00:00\", \"2017-03-26T00:00:00\", \"2017-03-27T00:00:00\", \"2017-03-28T00:00:00\", \"2017-03-29T00:00:00\", \"2017-03-30T00:00:00\", \"2017-03-31T00:00:00\", \"2017-04-01T00:00:00\", \"2017-04-02T00:00:00\", \"2017-04-03T00:00:00\", \"2017-04-04T00:00:00\", \"2017-04-05T00:00:00\", \"2017-04-06T00:00:00\", \"2017-04-07T00:00:00\", \"2017-04-08T00:00:00\", \"2017-04-09T00:00:00\", \"2017-04-10T00:00:00\", \"2017-04-11T00:00:00\", \"2017-04-12T00:00:00\", \"2017-04-13T00:00:00\", \"2017-04-14T00:00:00\", \"2017-04-15T00:00:00\", \"2017-04-16T00:00:00\", \"2017-04-17T00:00:00\", \"2017-04-18T00:00:00\", \"2017-04-19T00:00:00\", \"2017-04-20T00:00:00\", \"2017-04-21T00:00:00\", \"2017-04-22T00:00:00\", \"2017-04-23T00:00:00\", \"2017-04-24T00:00:00\", \"2017-04-25T00:00:00\", \"2017-04-26T00:00:00\", \"2017-04-27T00:00:00\", \"2017-04-28T00:00:00\", \"2017-04-29T00:00:00\", \"2017-04-30T00:00:00\", \"2017-05-01T00:00:00\", \"2017-05-02T00:00:00\", \"2017-05-03T00:00:00\", \"2017-05-04T00:00:00\", \"2017-05-05T00:00:00\", \"2017-05-06T00:00:00\", \"2017-05-07T00:00:00\", \"2017-05-08T00:00:00\", \"2017-05-09T00:00:00\", \"2017-05-10T00:00:00\", \"2017-05-11T00:00:00\", \"2017-05-12T00:00:00\", \"2017-05-13T00:00:00\", \"2017-05-14T00:00:00\", \"2017-05-15T00:00:00\", \"2017-05-16T00:00:00\", \"2017-05-17T00:00:00\", \"2017-05-18T00:00:00\", \"2017-05-19T00:00:00\", \"2017-05-20T00:00:00\", \"2017-05-21T00:00:00\", \"2017-05-22T00:00:00\", \"2017-05-23T00:00:00\", \"2017-05-24T00:00:00\", \"2017-05-25T00:00:00\", \"2017-05-26T00:00:00\", \"2017-05-27T00:00:00\", \"2017-05-28T00:00:00\", \"2017-05-29T00:00:00\", \"2017-05-30T00:00:00\", \"2017-05-31T00:00:00\", \"2017-06-01T00:00:00\", \"2017-06-02T00:00:00\", \"2017-06-03T00:00:00\", \"2017-06-04T00:00:00\", \"2017-06-05T00:00:00\", \"2017-06-06T00:00:00\", \"2017-06-07T00:00:00\", \"2017-06-08T00:00:00\", \"2017-06-09T00:00:00\", \"2017-06-10T00:00:00\", \"2017-06-11T00:00:00\", \"2017-06-12T00:00:00\", \"2017-06-13T00:00:00\", \"2017-06-14T00:00:00\", \"2017-06-15T00:00:00\", \"2017-06-16T00:00:00\", \"2017-06-17T00:00:00\", \"2017-06-18T00:00:00\", \"2017-06-19T00:00:00\", \"2017-06-20T00:00:00\", \"2017-06-21T00:00:00\", \"2017-06-22T00:00:00\", \"2017-06-23T00:00:00\", \"2017-06-24T00:00:00\", \"2017-06-25T00:00:00\", \"2017-06-26T00:00:00\", \"2017-06-27T00:00:00\", \"2017-06-28T00:00:00\", \"2017-06-29T00:00:00\", \"2017-06-30T00:00:00\", \"2017-07-01T00:00:00\", \"2017-07-02T00:00:00\", \"2017-07-03T00:00:00\", \"2017-07-04T00:00:00\", \"2017-07-05T00:00:00\", \"2017-07-06T00:00:00\", \"2017-07-07T00:00:00\", \"2017-07-08T00:00:00\", \"2017-07-09T00:00:00\", \"2017-07-10T00:00:00\", \"2017-07-11T00:00:00\", \"2017-07-12T00:00:00\", \"2017-07-13T00:00:00\", \"2017-07-14T00:00:00\", \"2017-07-15T00:00:00\", \"2017-07-16T00:00:00\", \"2017-07-17T00:00:00\", \"2017-07-18T00:00:00\", \"2017-07-19T00:00:00\", \"2017-07-20T00:00:00\", \"2017-07-21T00:00:00\", \"2017-07-22T00:00:00\", \"2017-07-23T00:00:00\", \"2017-07-24T00:00:00\", \"2017-07-25T00:00:00\", \"2017-07-26T00:00:00\", \"2017-07-27T00:00:00\", \"2017-07-28T00:00:00\", \"2017-07-29T00:00:00\", \"2017-07-30T00:00:00\", \"2017-07-31T00:00:00\", \"2017-08-01T00:00:00\", \"2017-08-02T00:00:00\", \"2017-08-03T00:00:00\", \"2017-08-04T00:00:00\", \"2017-08-05T00:00:00\", \"2017-08-06T00:00:00\", \"2017-08-07T00:00:00\", \"2017-08-08T00:00:00\", \"2017-08-09T00:00:00\", \"2017-08-10T00:00:00\", \"2017-08-11T00:00:00\", \"2017-08-12T00:00:00\", \"2017-08-13T00:00:00\", \"2017-08-14T00:00:00\", \"2017-08-15T00:00:00\", \"2017-08-16T00:00:00\", \"2017-08-17T00:00:00\", \"2017-08-18T00:00:00\", \"2017-08-19T00:00:00\", \"2017-08-20T00:00:00\", \"2017-08-21T00:00:00\", \"2017-08-22T00:00:00\", \"2017-08-23T00:00:00\", \"2017-08-24T00:00:00\", \"2017-08-25T00:00:00\", \"2017-08-26T00:00:00\", \"2017-08-27T00:00:00\", \"2017-08-28T00:00:00\", \"2017-08-29T00:00:00\", \"2017-08-30T00:00:00\", \"2017-08-31T00:00:00\", \"2017-09-01T00:00:00\", \"2017-09-02T00:00:00\", \"2017-09-03T00:00:00\", \"2017-09-04T00:00:00\", \"2017-09-05T00:00:00\"], \"y\": [175.1, 185.8, 187.4, 189.8, 190.4, 186.5, 183.6, 183.6, 183.4, 185.6, 189.3, 190.3, 190.8, 188.8, 187.9, 188.4, 188.3, 187.0, 187.2, 191.0, 188.4, 188.9, 186.7, 187.1, 186.7, 187.6, 189.0, 189.1, 189.3, 188.7, 189.2, 191.4, 194.2, 194.1, 194.9, 191.4, 191.0, 191.6, 193.7, 192.7, 194.5, 193.9, 194.0, 190.5, 192.0, 194.2, 194.3, 193.0, 191.0, 189.9, 194.4, 193.6, 196.9, 195.2, 191.3, 189.3, 182.2, 182.1, 184.9, 186.9, 186.7, 182.7, 184.8, 183.5, 183.3, 183.8, 183.9, 187.4, 185.9, 184.8, 185.0, 185.9, 187.6, 190.8, 190.3, 186.8, 181.8, 180.9, 182.3, 184.2, 186.8, 187.3, 183.9, 181.7, 181.2, 180.7, 178.8, 179.0, 178.7, 175.7, 176.2, 176.3, 176.3, 177.2, 180.5, 180.4, 178.4, 175.9, 176.0, 175.8, 177.3, 179.8, 180.5, 178.3, 176.9, 176.6, 176.9, 179.6, 183.4, 183.7, 181.9, 181.1, 179.4, 179.3, 180.7, 184.8, 185.6, 179.0, 174.6, 173.4, 173.8, 174.3, 176.3, 176.1, 173.4, 173.0, 172.9, 173.0, 173.9, 176.7, 176.2, 174.1, 173.5, 173.0, 172.9, 173.6, 175.8, 175.8, 173.3, 172.6, 172.4, 172.2, 173.0, 175.3, 175.3, 172.8, 172.2, 172.0, 170.7, 171.5, 173.8, 173.7, 172.1, 171.6, 171.5, 171.5, 172.2, 175.2, 175.5, 172.8, 172.2, 171.8, 171.9, 172.6, 176.4, 176.2, 173.1, 172.1, 171.9, 171.7, 172.5, 175.6, 175.4, 173.1, 172.6, 172.4, 173.7, 174.9, 178.0, 177.9, 170.5, 169.6, 169.6, 169.9, 171.0, 173.3, 173.3, 170.9, 170.0, 169.9, 170.2, 171.2, 173.9, 174.1, 171.6, 170.5, 170.4, 170.6, 171.8, 174.1, 174.2, 172.0, 170.7, 170.8, 171.0, 172.0, 174.8, 176.0, 174.0, 173.0, 173.0, 173.3, 173.9, 176.3, 176.3, 175.9, 174.2, 174.7, 177.3, 183.3, 193.0, 194.0, 192.8, 192.3, 189.8, 178.9, 178.5, 180.9, 180.4, 176.6, 175.4, 174.9, 175.3, 176.1, 178.3, 178.9, 177.0, 175.7, 176.2, 176.4, 176.5, 179.4, 180.0, 177.8, 176.5, 177.1, 177.2, 178.2, 180.1, 180.4, 177.6, 177.0, 176.3, 175.8, 177.2, 179.2, 179.5, 177.6, 176.1, 176.0, 176.1, 177.6, 180.4, 180.4, 178.0, 176.0, 176.2, 177.0, 177.1, 179.1, 179.6, 176.7, 175.5, 176.0, 178.0, 180.8, 183.4, 181.7, 179.8, 178.8, 178.9, 178.2, 180.1, 181.8, 182.4, 179.1, 178.3, 177.9, 177.6, 179.0, 180.8, 181.6, 178.5, 177.5, 177.6, 178.3, 179.5, 183.1, 184.7, 181.3, 180.6, 180.0, 180.4, 181.0, 183.9, 184.9, 181.5, 181.5, 181.5, 182.0, 183.8, 184.6, 183.8, 181.8, 180.7, 180.6, 180.0, 181.8, 183.5, 183.0, 180.8, 180.3, 182.4, 183.2, 183.0, 185.6, 184.3, 183.3, 182.2, 181.2, 181.9, 184.8, 186.5, 185.6, 182.3, 181.4, 181.5, 182.1, 182.1, 185.5, 183.6, 181.0, 179.4, 180.1, 180.7, 183.9, 186.0, 186.2, 184.0, 183.3, 183.6, 183.1, 184.1, 185.3, 187.7, 183.0, 181.7, 180.3, 178.1, 181.6, 182.3, 180.3, 177.7, 176.3, 176.8]}],\n",
       "                        {\"template\": {\"data\": {\"bar\": [{\"error_x\": {\"color\": \"#2a3f5f\"}, \"error_y\": {\"color\": \"#2a3f5f\"}, \"marker\": {\"line\": {\"color\": \"#E5ECF6\", \"width\": 0.5}}, \"type\": \"bar\"}], \"barpolar\": [{\"marker\": {\"line\": {\"color\": \"#E5ECF6\", \"width\": 0.5}}, \"type\": \"barpolar\"}], \"carpet\": [{\"aaxis\": {\"endlinecolor\": \"#2a3f5f\", \"gridcolor\": \"white\", \"linecolor\": \"white\", \"minorgridcolor\": \"white\", \"startlinecolor\": \"#2a3f5f\"}, \"baxis\": {\"endlinecolor\": \"#2a3f5f\", \"gridcolor\": \"white\", \"linecolor\": \"white\", \"minorgridcolor\": \"white\", \"startlinecolor\": \"#2a3f5f\"}, \"type\": \"carpet\"}], \"choropleth\": [{\"colorbar\": {\"outlinewidth\": 0, \"ticks\": \"\"}, \"type\": \"choropleth\"}], \"contour\": [{\"colorbar\": {\"outlinewidth\": 0, \"ticks\": \"\"}, \"colorscale\": [[0.0, \"#0d0887\"], [0.1111111111111111, \"#46039f\"], [0.2222222222222222, \"#7201a8\"], [0.3333333333333333, \"#9c179e\"], [0.4444444444444444, \"#bd3786\"], [0.5555555555555556, \"#d8576b\"], [0.6666666666666666, \"#ed7953\"], [0.7777777777777778, \"#fb9f3a\"], [0.8888888888888888, \"#fdca26\"], [1.0, \"#f0f921\"]], \"type\": \"contour\"}], \"contourcarpet\": [{\"colorbar\": {\"outlinewidth\": 0, \"ticks\": \"\"}, \"type\": \"contourcarpet\"}], \"heatmap\": [{\"colorbar\": {\"outlinewidth\": 0, \"ticks\": \"\"}, \"colorscale\": [[0.0, \"#0d0887\"], [0.1111111111111111, \"#46039f\"], [0.2222222222222222, \"#7201a8\"], [0.3333333333333333, \"#9c179e\"], [0.4444444444444444, \"#bd3786\"], [0.5555555555555556, \"#d8576b\"], [0.6666666666666666, \"#ed7953\"], [0.7777777777777778, \"#fb9f3a\"], [0.8888888888888888, \"#fdca26\"], [1.0, \"#f0f921\"]], \"type\": \"heatmap\"}], \"heatmapgl\": [{\"colorbar\": {\"outlinewidth\": 0, \"ticks\": \"\"}, \"colorscale\": [[0.0, \"#0d0887\"], [0.1111111111111111, \"#46039f\"], [0.2222222222222222, \"#7201a8\"], [0.3333333333333333, \"#9c179e\"], [0.4444444444444444, \"#bd3786\"], [0.5555555555555556, \"#d8576b\"], [0.6666666666666666, \"#ed7953\"], [0.7777777777777778, \"#fb9f3a\"], [0.8888888888888888, \"#fdca26\"], [1.0, \"#f0f921\"]], \"type\": \"heatmapgl\"}], \"histogram\": [{\"marker\": {\"colorbar\": {\"outlinewidth\": 0, \"ticks\": \"\"}}, \"type\": \"histogram\"}], \"histogram2d\": [{\"colorbar\": {\"outlinewidth\": 0, \"ticks\": \"\"}, \"colorscale\": [[0.0, \"#0d0887\"], [0.1111111111111111, \"#46039f\"], [0.2222222222222222, \"#7201a8\"], [0.3333333333333333, \"#9c179e\"], [0.4444444444444444, \"#bd3786\"], [0.5555555555555556, \"#d8576b\"], [0.6666666666666666, \"#ed7953\"], [0.7777777777777778, \"#fb9f3a\"], [0.8888888888888888, \"#fdca26\"], [1.0, \"#f0f921\"]], \"type\": \"histogram2d\"}], \"histogram2dcontour\": [{\"colorbar\": {\"outlinewidth\": 0, \"ticks\": \"\"}, \"colorscale\": [[0.0, \"#0d0887\"], [0.1111111111111111, \"#46039f\"], [0.2222222222222222, \"#7201a8\"], [0.3333333333333333, \"#9c179e\"], [0.4444444444444444, \"#bd3786\"], [0.5555555555555556, \"#d8576b\"], [0.6666666666666666, \"#ed7953\"], [0.7777777777777778, \"#fb9f3a\"], [0.8888888888888888, \"#fdca26\"], [1.0, \"#f0f921\"]], \"type\": \"histogram2dcontour\"}], \"mesh3d\": [{\"colorbar\": {\"outlinewidth\": 0, \"ticks\": \"\"}, \"type\": \"mesh3d\"}], \"parcoords\": [{\"line\": {\"colorbar\": {\"outlinewidth\": 0, \"ticks\": \"\"}}, \"type\": \"parcoords\"}], \"pie\": [{\"automargin\": true, \"type\": \"pie\"}], \"scatter\": [{\"marker\": {\"colorbar\": {\"outlinewidth\": 0, \"ticks\": \"\"}}, \"type\": \"scatter\"}], \"scatter3d\": [{\"line\": {\"colorbar\": {\"outlinewidth\": 0, \"ticks\": \"\"}}, \"marker\": {\"colorbar\": {\"outlinewidth\": 0, \"ticks\": \"\"}}, \"type\": \"scatter3d\"}], \"scattercarpet\": [{\"marker\": {\"colorbar\": {\"outlinewidth\": 0, \"ticks\": \"\"}}, \"type\": \"scattercarpet\"}], \"scattergeo\": [{\"marker\": {\"colorbar\": {\"outlinewidth\": 0, \"ticks\": \"\"}}, \"type\": \"scattergeo\"}], \"scattergl\": [{\"marker\": {\"colorbar\": {\"outlinewidth\": 0, \"ticks\": \"\"}}, \"type\": \"scattergl\"}], \"scattermapbox\": [{\"marker\": {\"colorbar\": {\"outlinewidth\": 0, \"ticks\": \"\"}}, \"type\": \"scattermapbox\"}], \"scatterpolar\": [{\"marker\": {\"colorbar\": {\"outlinewidth\": 0, \"ticks\": \"\"}}, \"type\": \"scatterpolar\"}], \"scatterpolargl\": [{\"marker\": {\"colorbar\": {\"outlinewidth\": 0, \"ticks\": \"\"}}, \"type\": \"scatterpolargl\"}], \"scatterternary\": [{\"marker\": {\"colorbar\": {\"outlinewidth\": 0, \"ticks\": \"\"}}, \"type\": \"scatterternary\"}], \"surface\": [{\"colorbar\": {\"outlinewidth\": 0, \"ticks\": \"\"}, \"colorscale\": [[0.0, \"#0d0887\"], [0.1111111111111111, \"#46039f\"], [0.2222222222222222, \"#7201a8\"], [0.3333333333333333, \"#9c179e\"], [0.4444444444444444, \"#bd3786\"], [0.5555555555555556, \"#d8576b\"], [0.6666666666666666, \"#ed7953\"], [0.7777777777777778, \"#fb9f3a\"], [0.8888888888888888, \"#fdca26\"], [1.0, \"#f0f921\"]], \"type\": \"surface\"}], \"table\": [{\"cells\": {\"fill\": {\"color\": \"#EBF0F8\"}, \"line\": {\"color\": \"white\"}}, \"header\": {\"fill\": {\"color\": \"#C8D4E3\"}, \"line\": {\"color\": \"white\"}}, \"type\": \"table\"}]}, \"layout\": {\"annotationdefaults\": {\"arrowcolor\": \"#2a3f5f\", \"arrowhead\": 0, \"arrowwidth\": 1}, \"coloraxis\": {\"colorbar\": {\"outlinewidth\": 0, \"ticks\": \"\"}}, \"colorscale\": {\"diverging\": [[0, \"#8e0152\"], [0.1, \"#c51b7d\"], [0.2, \"#de77ae\"], [0.3, \"#f1b6da\"], [0.4, \"#fde0ef\"], [0.5, \"#f7f7f7\"], [0.6, \"#e6f5d0\"], [0.7, \"#b8e186\"], [0.8, \"#7fbc41\"], [0.9, \"#4d9221\"], [1, \"#276419\"]], \"sequential\": [[0.0, \"#0d0887\"], [0.1111111111111111, \"#46039f\"], [0.2222222222222222, \"#7201a8\"], [0.3333333333333333, \"#9c179e\"], [0.4444444444444444, \"#bd3786\"], [0.5555555555555556, \"#d8576b\"], [0.6666666666666666, \"#ed7953\"], [0.7777777777777778, \"#fb9f3a\"], [0.8888888888888888, \"#fdca26\"], [1.0, \"#f0f921\"]], \"sequentialminus\": [[0.0, \"#0d0887\"], [0.1111111111111111, \"#46039f\"], [0.2222222222222222, \"#7201a8\"], [0.3333333333333333, \"#9c179e\"], [0.4444444444444444, \"#bd3786\"], [0.5555555555555556, \"#d8576b\"], [0.6666666666666666, \"#ed7953\"], [0.7777777777777778, \"#fb9f3a\"], [0.8888888888888888, \"#fdca26\"], [1.0, \"#f0f921\"]]}, \"colorway\": [\"#636efa\", \"#EF553B\", \"#00cc96\", \"#ab63fa\", \"#FFA15A\", \"#19d3f3\", \"#FF6692\", \"#B6E880\", \"#FF97FF\", \"#FECB52\"], \"font\": {\"color\": \"#2a3f5f\"}, \"geo\": {\"bgcolor\": \"white\", \"lakecolor\": \"white\", \"landcolor\": \"#E5ECF6\", \"showlakes\": true, \"showland\": true, \"subunitcolor\": \"white\"}, \"hoverlabel\": {\"align\": \"left\"}, \"hovermode\": \"closest\", \"mapbox\": {\"style\": \"light\"}, \"paper_bgcolor\": \"white\", \"plot_bgcolor\": \"#E5ECF6\", \"polar\": {\"angularaxis\": {\"gridcolor\": \"white\", \"linecolor\": \"white\", \"ticks\": \"\"}, \"bgcolor\": \"#E5ECF6\", \"radialaxis\": {\"gridcolor\": \"white\", \"linecolor\": \"white\", \"ticks\": \"\"}}, \"scene\": {\"xaxis\": {\"backgroundcolor\": \"#E5ECF6\", \"gridcolor\": \"white\", \"gridwidth\": 2, \"linecolor\": \"white\", \"showbackground\": true, \"ticks\": \"\", \"zerolinecolor\": \"white\"}, \"yaxis\": {\"backgroundcolor\": \"#E5ECF6\", \"gridcolor\": \"white\", \"gridwidth\": 2, \"linecolor\": \"white\", \"showbackground\": true, \"ticks\": \"\", \"zerolinecolor\": \"white\"}, \"zaxis\": {\"backgroundcolor\": \"#E5ECF6\", \"gridcolor\": \"white\", \"gridwidth\": 2, \"linecolor\": \"white\", \"showbackground\": true, \"ticks\": \"\", \"zerolinecolor\": \"white\"}}, \"shapedefaults\": {\"line\": {\"color\": \"#2a3f5f\"}}, \"ternary\": {\"aaxis\": {\"gridcolor\": \"white\", \"linecolor\": \"white\", \"ticks\": \"\"}, \"baxis\": {\"gridcolor\": \"white\", \"linecolor\": \"white\", \"ticks\": \"\"}, \"bgcolor\": \"#E5ECF6\", \"caxis\": {\"gridcolor\": \"white\", \"linecolor\": \"white\", \"ticks\": \"\"}}, \"title\": {\"x\": 0.05}, \"xaxis\": {\"automargin\": true, \"gridcolor\": \"white\", \"linecolor\": \"white\", \"ticks\": \"\", \"title\": {\"standoff\": 15}, \"zerolinecolor\": \"white\", \"zerolinewidth\": 2}, \"yaxis\": {\"automargin\": true, \"gridcolor\": \"white\", \"linecolor\": \"white\", \"ticks\": \"\", \"title\": {\"standoff\": 15}, \"zerolinecolor\": \"white\", \"zerolinewidth\": 2}}}, \"xaxis\": {\"title\": {\"text\": \"Date\"}}, \"yaxis\": {\"title\": {\"text\": \"Average Rate in Dollar\"}}},\n",
       "                        {\"responsive\": true}\n",
       "                    ).then(function(){\n",
       "                            \n",
       "var gd = document.getElementById('18a4d883-d269-42c8-9eef-52d3dee6a9b0');\n",
       "var x = new MutationObserver(function (mutations, observer) {{\n",
       "        var display = window.getComputedStyle(gd).display;\n",
       "        if (!display || display === 'none') {{\n",
       "            console.log([gd, 'removed!']);\n",
       "            Plotly.purge(gd);\n",
       "            observer.disconnect();\n",
       "        }}\n",
       "}});\n",
       "\n",
       "// Listen for the removal of the full notebook cells\n",
       "var notebookContainer = gd.closest('#notebook-container');\n",
       "if (notebookContainer) {{\n",
       "    x.observe(notebookContainer, {childList: true});\n",
       "}}\n",
       "\n",
       "// Listen for the clearing of the current output cell\n",
       "var outputEl = gd.closest('.output');\n",
       "if (outputEl) {{\n",
       "    x.observe(outputEl, {childList: true});\n",
       "}}\n",
       "\n",
       "                        })\n",
       "                };\n",
       "                });\n",
       "            </script>\n",
       "        </div>"
      ]
     },
     "metadata": {},
     "output_type": "display_data"
    }
   ],
   "source": [
    "## look into price in Boston and Seattle\n",
    "meanprice = df[[\"date\",\"city\",\"cleaned_price\"]].groupby([\"date\",\"city\"]).cleaned_price.mean().reset_index()\n",
    "meanprice.cleaned_price = meanprice.cleaned_price.round(1)\n",
    "\n",
    "sea_mp = meanprice[meanprice[\"city\"] ==\"Seattle\"]\n",
    "bos_mp = meanprice[meanprice[\"city\"] ==\"Boston\"]\n",
    "\n",
    "#average price in the whole period\n",
    "sea_mp.cleaned_price.mean() # Seattle $146\n",
    "bos_mp.cleaned_price.mean() # Boston $180\n",
    "\n",
    "price_date = go.Figure()\n",
    "price_date.add_trace(go.Scatter(x=sea_mp.date, y=sea_mp.cleaned_price,mode =\"lines\", name = \"Seattle\",text=\"Average Price in $\"))\n",
    "price_date.add_trace(go.Scatter(x=bos_mp.date, y=bos_mp.cleaned_price,mode =\"lines\", name = \"Boston\",text=\"Average Price in $\"))          \n",
    "price_date.update_layout(xaxis_title = \"Date\",yaxis_title=\"Average Rate in Dollar\")\n",
    "\n",
    "price_date.show()"
   ]
  },
  {
   "cell_type": "markdown",
   "metadata": {},
   "source": [
    "The data for Boston covers from 2016-09-06 to 2017-09-05 and the data for Seattle covers from 2016-01-04 to 2017-01-02. In both cities we can observe jigsaw patterns in the given period and also several peaks of daily rates. In general, the rates in Seattle are significantly lower than in Boston. As the given period does not include a whole calendar year, also the given time frame for both cities is inconsistent, we are not able to identify seasonal patterns. Therefore I am going to explore the average listings price per month of each city in the next chart."
   ]
  },
  {
   "cell_type": "code",
   "execution_count": 68,
   "metadata": {
    "scrolled": false
   },
   "outputs": [
    {
     "data": {
      "application/vnd.plotly.v1+json": {
       "config": {
        "plotlyServerURL": "https://plot.ly"
       },
       "data": [
        {
         "name": "Average Rate in Seattle",
         "text": "Seattle",
         "type": "bar",
         "x": [
          "January",
          "February",
          "March",
          "April",
          "May",
          "June",
          "July",
          "August",
          "September",
          "October",
          "November",
          "December"
         ],
         "y": [
          140.0994918804546,
          137.2334098010393,
          138.51917910062053,
          144.342228042518,
          147.01781206164463,
          152.3986781909598,
          156.01180824274263,
          154.8958887442702,
          149.55433385708798,
          144.79148853471023,
          143.38572551066002,
          143.95456327406953
         ]
        },
        {
         "name": "Average Rate in Boston",
         "text": "Boston",
         "type": "bar",
         "x": [
          "January",
          "February",
          "March",
          "April",
          "May",
          "June",
          "July",
          "August",
          "September",
          "October",
          "November",
          "December"
         ],
         "y": [
          174.08044725906421,
          172.98851485930146,
          172.13987190327515,
          179.15079754601464,
          177.60116042677112,
          179.23359732292377,
          182.32069877484503,
          182.95701023698643,
          185.71215095745683,
          192.12322652620023,
          184.67310094815397,
          179.0621089182202
         ]
        }
       ],
       "layout": {
        "template": {
         "data": {
          "bar": [
           {
            "error_x": {
             "color": "#2a3f5f"
            },
            "error_y": {
             "color": "#2a3f5f"
            },
            "marker": {
             "line": {
              "color": "#E5ECF6",
              "width": 0.5
             }
            },
            "type": "bar"
           }
          ],
          "barpolar": [
           {
            "marker": {
             "line": {
              "color": "#E5ECF6",
              "width": 0.5
             }
            },
            "type": "barpolar"
           }
          ],
          "carpet": [
           {
            "aaxis": {
             "endlinecolor": "#2a3f5f",
             "gridcolor": "white",
             "linecolor": "white",
             "minorgridcolor": "white",
             "startlinecolor": "#2a3f5f"
            },
            "baxis": {
             "endlinecolor": "#2a3f5f",
             "gridcolor": "white",
             "linecolor": "white",
             "minorgridcolor": "white",
             "startlinecolor": "#2a3f5f"
            },
            "type": "carpet"
           }
          ],
          "choropleth": [
           {
            "colorbar": {
             "outlinewidth": 0,
             "ticks": ""
            },
            "type": "choropleth"
           }
          ],
          "contour": [
           {
            "colorbar": {
             "outlinewidth": 0,
             "ticks": ""
            },
            "colorscale": [
             [
              0,
              "#0d0887"
             ],
             [
              0.1111111111111111,
              "#46039f"
             ],
             [
              0.2222222222222222,
              "#7201a8"
             ],
             [
              0.3333333333333333,
              "#9c179e"
             ],
             [
              0.4444444444444444,
              "#bd3786"
             ],
             [
              0.5555555555555556,
              "#d8576b"
             ],
             [
              0.6666666666666666,
              "#ed7953"
             ],
             [
              0.7777777777777778,
              "#fb9f3a"
             ],
             [
              0.8888888888888888,
              "#fdca26"
             ],
             [
              1,
              "#f0f921"
             ]
            ],
            "type": "contour"
           }
          ],
          "contourcarpet": [
           {
            "colorbar": {
             "outlinewidth": 0,
             "ticks": ""
            },
            "type": "contourcarpet"
           }
          ],
          "heatmap": [
           {
            "colorbar": {
             "outlinewidth": 0,
             "ticks": ""
            },
            "colorscale": [
             [
              0,
              "#0d0887"
             ],
             [
              0.1111111111111111,
              "#46039f"
             ],
             [
              0.2222222222222222,
              "#7201a8"
             ],
             [
              0.3333333333333333,
              "#9c179e"
             ],
             [
              0.4444444444444444,
              "#bd3786"
             ],
             [
              0.5555555555555556,
              "#d8576b"
             ],
             [
              0.6666666666666666,
              "#ed7953"
             ],
             [
              0.7777777777777778,
              "#fb9f3a"
             ],
             [
              0.8888888888888888,
              "#fdca26"
             ],
             [
              1,
              "#f0f921"
             ]
            ],
            "type": "heatmap"
           }
          ],
          "heatmapgl": [
           {
            "colorbar": {
             "outlinewidth": 0,
             "ticks": ""
            },
            "colorscale": [
             [
              0,
              "#0d0887"
             ],
             [
              0.1111111111111111,
              "#46039f"
             ],
             [
              0.2222222222222222,
              "#7201a8"
             ],
             [
              0.3333333333333333,
              "#9c179e"
             ],
             [
              0.4444444444444444,
              "#bd3786"
             ],
             [
              0.5555555555555556,
              "#d8576b"
             ],
             [
              0.6666666666666666,
              "#ed7953"
             ],
             [
              0.7777777777777778,
              "#fb9f3a"
             ],
             [
              0.8888888888888888,
              "#fdca26"
             ],
             [
              1,
              "#f0f921"
             ]
            ],
            "type": "heatmapgl"
           }
          ],
          "histogram": [
           {
            "marker": {
             "colorbar": {
              "outlinewidth": 0,
              "ticks": ""
             }
            },
            "type": "histogram"
           }
          ],
          "histogram2d": [
           {
            "colorbar": {
             "outlinewidth": 0,
             "ticks": ""
            },
            "colorscale": [
             [
              0,
              "#0d0887"
             ],
             [
              0.1111111111111111,
              "#46039f"
             ],
             [
              0.2222222222222222,
              "#7201a8"
             ],
             [
              0.3333333333333333,
              "#9c179e"
             ],
             [
              0.4444444444444444,
              "#bd3786"
             ],
             [
              0.5555555555555556,
              "#d8576b"
             ],
             [
              0.6666666666666666,
              "#ed7953"
             ],
             [
              0.7777777777777778,
              "#fb9f3a"
             ],
             [
              0.8888888888888888,
              "#fdca26"
             ],
             [
              1,
              "#f0f921"
             ]
            ],
            "type": "histogram2d"
           }
          ],
          "histogram2dcontour": [
           {
            "colorbar": {
             "outlinewidth": 0,
             "ticks": ""
            },
            "colorscale": [
             [
              0,
              "#0d0887"
             ],
             [
              0.1111111111111111,
              "#46039f"
             ],
             [
              0.2222222222222222,
              "#7201a8"
             ],
             [
              0.3333333333333333,
              "#9c179e"
             ],
             [
              0.4444444444444444,
              "#bd3786"
             ],
             [
              0.5555555555555556,
              "#d8576b"
             ],
             [
              0.6666666666666666,
              "#ed7953"
             ],
             [
              0.7777777777777778,
              "#fb9f3a"
             ],
             [
              0.8888888888888888,
              "#fdca26"
             ],
             [
              1,
              "#f0f921"
             ]
            ],
            "type": "histogram2dcontour"
           }
          ],
          "mesh3d": [
           {
            "colorbar": {
             "outlinewidth": 0,
             "ticks": ""
            },
            "type": "mesh3d"
           }
          ],
          "parcoords": [
           {
            "line": {
             "colorbar": {
              "outlinewidth": 0,
              "ticks": ""
             }
            },
            "type": "parcoords"
           }
          ],
          "pie": [
           {
            "automargin": true,
            "type": "pie"
           }
          ],
          "scatter": [
           {
            "marker": {
             "colorbar": {
              "outlinewidth": 0,
              "ticks": ""
             }
            },
            "type": "scatter"
           }
          ],
          "scatter3d": [
           {
            "line": {
             "colorbar": {
              "outlinewidth": 0,
              "ticks": ""
             }
            },
            "marker": {
             "colorbar": {
              "outlinewidth": 0,
              "ticks": ""
             }
            },
            "type": "scatter3d"
           }
          ],
          "scattercarpet": [
           {
            "marker": {
             "colorbar": {
              "outlinewidth": 0,
              "ticks": ""
             }
            },
            "type": "scattercarpet"
           }
          ],
          "scattergeo": [
           {
            "marker": {
             "colorbar": {
              "outlinewidth": 0,
              "ticks": ""
             }
            },
            "type": "scattergeo"
           }
          ],
          "scattergl": [
           {
            "marker": {
             "colorbar": {
              "outlinewidth": 0,
              "ticks": ""
             }
            },
            "type": "scattergl"
           }
          ],
          "scattermapbox": [
           {
            "marker": {
             "colorbar": {
              "outlinewidth": 0,
              "ticks": ""
             }
            },
            "type": "scattermapbox"
           }
          ],
          "scatterpolar": [
           {
            "marker": {
             "colorbar": {
              "outlinewidth": 0,
              "ticks": ""
             }
            },
            "type": "scatterpolar"
           }
          ],
          "scatterpolargl": [
           {
            "marker": {
             "colorbar": {
              "outlinewidth": 0,
              "ticks": ""
             }
            },
            "type": "scatterpolargl"
           }
          ],
          "scatterternary": [
           {
            "marker": {
             "colorbar": {
              "outlinewidth": 0,
              "ticks": ""
             }
            },
            "type": "scatterternary"
           }
          ],
          "surface": [
           {
            "colorbar": {
             "outlinewidth": 0,
             "ticks": ""
            },
            "colorscale": [
             [
              0,
              "#0d0887"
             ],
             [
              0.1111111111111111,
              "#46039f"
             ],
             [
              0.2222222222222222,
              "#7201a8"
             ],
             [
              0.3333333333333333,
              "#9c179e"
             ],
             [
              0.4444444444444444,
              "#bd3786"
             ],
             [
              0.5555555555555556,
              "#d8576b"
             ],
             [
              0.6666666666666666,
              "#ed7953"
             ],
             [
              0.7777777777777778,
              "#fb9f3a"
             ],
             [
              0.8888888888888888,
              "#fdca26"
             ],
             [
              1,
              "#f0f921"
             ]
            ],
            "type": "surface"
           }
          ],
          "table": [
           {
            "cells": {
             "fill": {
              "color": "#EBF0F8"
             },
             "line": {
              "color": "white"
             }
            },
            "header": {
             "fill": {
              "color": "#C8D4E3"
             },
             "line": {
              "color": "white"
             }
            },
            "type": "table"
           }
          ]
         },
         "layout": {
          "annotationdefaults": {
           "arrowcolor": "#2a3f5f",
           "arrowhead": 0,
           "arrowwidth": 1
          },
          "coloraxis": {
           "colorbar": {
            "outlinewidth": 0,
            "ticks": ""
           }
          },
          "colorscale": {
           "diverging": [
            [
             0,
             "#8e0152"
            ],
            [
             0.1,
             "#c51b7d"
            ],
            [
             0.2,
             "#de77ae"
            ],
            [
             0.3,
             "#f1b6da"
            ],
            [
             0.4,
             "#fde0ef"
            ],
            [
             0.5,
             "#f7f7f7"
            ],
            [
             0.6,
             "#e6f5d0"
            ],
            [
             0.7,
             "#b8e186"
            ],
            [
             0.8,
             "#7fbc41"
            ],
            [
             0.9,
             "#4d9221"
            ],
            [
             1,
             "#276419"
            ]
           ],
           "sequential": [
            [
             0,
             "#0d0887"
            ],
            [
             0.1111111111111111,
             "#46039f"
            ],
            [
             0.2222222222222222,
             "#7201a8"
            ],
            [
             0.3333333333333333,
             "#9c179e"
            ],
            [
             0.4444444444444444,
             "#bd3786"
            ],
            [
             0.5555555555555556,
             "#d8576b"
            ],
            [
             0.6666666666666666,
             "#ed7953"
            ],
            [
             0.7777777777777778,
             "#fb9f3a"
            ],
            [
             0.8888888888888888,
             "#fdca26"
            ],
            [
             1,
             "#f0f921"
            ]
           ],
           "sequentialminus": [
            [
             0,
             "#0d0887"
            ],
            [
             0.1111111111111111,
             "#46039f"
            ],
            [
             0.2222222222222222,
             "#7201a8"
            ],
            [
             0.3333333333333333,
             "#9c179e"
            ],
            [
             0.4444444444444444,
             "#bd3786"
            ],
            [
             0.5555555555555556,
             "#d8576b"
            ],
            [
             0.6666666666666666,
             "#ed7953"
            ],
            [
             0.7777777777777778,
             "#fb9f3a"
            ],
            [
             0.8888888888888888,
             "#fdca26"
            ],
            [
             1,
             "#f0f921"
            ]
           ]
          },
          "colorway": [
           "#636efa",
           "#EF553B",
           "#00cc96",
           "#ab63fa",
           "#FFA15A",
           "#19d3f3",
           "#FF6692",
           "#B6E880",
           "#FF97FF",
           "#FECB52"
          ],
          "font": {
           "color": "#2a3f5f"
          },
          "geo": {
           "bgcolor": "white",
           "lakecolor": "white",
           "landcolor": "#E5ECF6",
           "showlakes": true,
           "showland": true,
           "subunitcolor": "white"
          },
          "hoverlabel": {
           "align": "left"
          },
          "hovermode": "closest",
          "mapbox": {
           "style": "light"
          },
          "paper_bgcolor": "white",
          "plot_bgcolor": "#E5ECF6",
          "polar": {
           "angularaxis": {
            "gridcolor": "white",
            "linecolor": "white",
            "ticks": ""
           },
           "bgcolor": "#E5ECF6",
           "radialaxis": {
            "gridcolor": "white",
            "linecolor": "white",
            "ticks": ""
           }
          },
          "scene": {
           "xaxis": {
            "backgroundcolor": "#E5ECF6",
            "gridcolor": "white",
            "gridwidth": 2,
            "linecolor": "white",
            "showbackground": true,
            "ticks": "",
            "zerolinecolor": "white"
           },
           "yaxis": {
            "backgroundcolor": "#E5ECF6",
            "gridcolor": "white",
            "gridwidth": 2,
            "linecolor": "white",
            "showbackground": true,
            "ticks": "",
            "zerolinecolor": "white"
           },
           "zaxis": {
            "backgroundcolor": "#E5ECF6",
            "gridcolor": "white",
            "gridwidth": 2,
            "linecolor": "white",
            "showbackground": true,
            "ticks": "",
            "zerolinecolor": "white"
           }
          },
          "shapedefaults": {
           "line": {
            "color": "#2a3f5f"
           }
          },
          "ternary": {
           "aaxis": {
            "gridcolor": "white",
            "linecolor": "white",
            "ticks": ""
           },
           "baxis": {
            "gridcolor": "white",
            "linecolor": "white",
            "ticks": ""
           },
           "bgcolor": "#E5ECF6",
           "caxis": {
            "gridcolor": "white",
            "linecolor": "white",
            "ticks": ""
           }
          },
          "title": {
           "x": 0.05
          },
          "xaxis": {
           "automargin": true,
           "gridcolor": "white",
           "linecolor": "white",
           "ticks": "",
           "title": {
            "standoff": 15
           },
           "zerolinecolor": "white",
           "zerolinewidth": 2
          },
          "yaxis": {
           "automargin": true,
           "gridcolor": "white",
           "linecolor": "white",
           "ticks": "",
           "title": {
            "standoff": 15
           },
           "zerolinecolor": "white",
           "zerolinewidth": 2
          }
         }
        },
        "yaxis": {
         "title": {
          "text": "Average Rate in Dollar"
         }
        }
       }
      },
      "text/html": [
       "<div>\n",
       "        \n",
       "        \n",
       "            <div id=\"3bab9cf1-4637-4683-b9ef-477225173760\" class=\"plotly-graph-div\" style=\"height:525px; width:100%;\"></div>\n",
       "            <script type=\"text/javascript\">\n",
       "                require([\"plotly\"], function(Plotly) {\n",
       "                    window.PLOTLYENV=window.PLOTLYENV || {};\n",
       "                    \n",
       "                if (document.getElementById(\"3bab9cf1-4637-4683-b9ef-477225173760\")) {\n",
       "                    Plotly.newPlot(\n",
       "                        '3bab9cf1-4637-4683-b9ef-477225173760',\n",
       "                        [{\"name\": \"Average Rate in Seattle\", \"text\": \"Seattle\", \"type\": \"bar\", \"x\": [\"January\", \"February\", \"March\", \"April\", \"May\", \"June\", \"July\", \"August\", \"September\", \"October\", \"November\", \"December\"], \"y\": [140.0994918804546, 137.2334098010393, 138.51917910062053, 144.342228042518, 147.01781206164463, 152.3986781909598, 156.01180824274263, 154.8958887442702, 149.55433385708798, 144.79148853471023, 143.38572551066002, 143.95456327406953]}, {\"name\": \"Average Rate in Boston\", \"text\": \"Boston\", \"type\": \"bar\", \"x\": [\"January\", \"February\", \"March\", \"April\", \"May\", \"June\", \"July\", \"August\", \"September\", \"October\", \"November\", \"December\"], \"y\": [174.08044725906421, 172.98851485930146, 172.13987190327515, 179.15079754601464, 177.60116042677112, 179.23359732292377, 182.32069877484503, 182.95701023698643, 185.71215095745683, 192.12322652620023, 184.67310094815397, 179.0621089182202]}],\n",
       "                        {\"template\": {\"data\": {\"bar\": [{\"error_x\": {\"color\": \"#2a3f5f\"}, \"error_y\": {\"color\": \"#2a3f5f\"}, \"marker\": {\"line\": {\"color\": \"#E5ECF6\", \"width\": 0.5}}, \"type\": \"bar\"}], \"barpolar\": [{\"marker\": {\"line\": {\"color\": \"#E5ECF6\", \"width\": 0.5}}, \"type\": \"barpolar\"}], \"carpet\": [{\"aaxis\": {\"endlinecolor\": \"#2a3f5f\", \"gridcolor\": \"white\", \"linecolor\": \"white\", \"minorgridcolor\": \"white\", \"startlinecolor\": \"#2a3f5f\"}, \"baxis\": {\"endlinecolor\": \"#2a3f5f\", \"gridcolor\": \"white\", \"linecolor\": \"white\", \"minorgridcolor\": \"white\", \"startlinecolor\": \"#2a3f5f\"}, \"type\": \"carpet\"}], \"choropleth\": [{\"colorbar\": {\"outlinewidth\": 0, \"ticks\": \"\"}, \"type\": \"choropleth\"}], \"contour\": [{\"colorbar\": {\"outlinewidth\": 0, \"ticks\": \"\"}, \"colorscale\": [[0.0, \"#0d0887\"], [0.1111111111111111, \"#46039f\"], [0.2222222222222222, \"#7201a8\"], [0.3333333333333333, \"#9c179e\"], [0.4444444444444444, \"#bd3786\"], [0.5555555555555556, \"#d8576b\"], [0.6666666666666666, \"#ed7953\"], [0.7777777777777778, \"#fb9f3a\"], [0.8888888888888888, \"#fdca26\"], [1.0, \"#f0f921\"]], \"type\": \"contour\"}], \"contourcarpet\": [{\"colorbar\": {\"outlinewidth\": 0, \"ticks\": \"\"}, \"type\": \"contourcarpet\"}], \"heatmap\": [{\"colorbar\": {\"outlinewidth\": 0, \"ticks\": \"\"}, \"colorscale\": [[0.0, \"#0d0887\"], [0.1111111111111111, \"#46039f\"], [0.2222222222222222, \"#7201a8\"], [0.3333333333333333, \"#9c179e\"], [0.4444444444444444, \"#bd3786\"], [0.5555555555555556, \"#d8576b\"], [0.6666666666666666, \"#ed7953\"], [0.7777777777777778, \"#fb9f3a\"], [0.8888888888888888, \"#fdca26\"], [1.0, \"#f0f921\"]], \"type\": \"heatmap\"}], \"heatmapgl\": [{\"colorbar\": {\"outlinewidth\": 0, \"ticks\": \"\"}, \"colorscale\": [[0.0, \"#0d0887\"], [0.1111111111111111, \"#46039f\"], [0.2222222222222222, \"#7201a8\"], [0.3333333333333333, \"#9c179e\"], [0.4444444444444444, \"#bd3786\"], [0.5555555555555556, \"#d8576b\"], [0.6666666666666666, \"#ed7953\"], [0.7777777777777778, \"#fb9f3a\"], [0.8888888888888888, \"#fdca26\"], [1.0, \"#f0f921\"]], \"type\": \"heatmapgl\"}], \"histogram\": [{\"marker\": {\"colorbar\": {\"outlinewidth\": 0, \"ticks\": \"\"}}, \"type\": \"histogram\"}], \"histogram2d\": [{\"colorbar\": {\"outlinewidth\": 0, \"ticks\": \"\"}, \"colorscale\": [[0.0, \"#0d0887\"], [0.1111111111111111, \"#46039f\"], [0.2222222222222222, \"#7201a8\"], [0.3333333333333333, \"#9c179e\"], [0.4444444444444444, \"#bd3786\"], [0.5555555555555556, \"#d8576b\"], [0.6666666666666666, \"#ed7953\"], [0.7777777777777778, \"#fb9f3a\"], [0.8888888888888888, \"#fdca26\"], [1.0, \"#f0f921\"]], \"type\": \"histogram2d\"}], \"histogram2dcontour\": [{\"colorbar\": {\"outlinewidth\": 0, \"ticks\": \"\"}, \"colorscale\": [[0.0, \"#0d0887\"], [0.1111111111111111, \"#46039f\"], [0.2222222222222222, \"#7201a8\"], [0.3333333333333333, \"#9c179e\"], [0.4444444444444444, \"#bd3786\"], [0.5555555555555556, \"#d8576b\"], [0.6666666666666666, \"#ed7953\"], [0.7777777777777778, \"#fb9f3a\"], [0.8888888888888888, \"#fdca26\"], [1.0, \"#f0f921\"]], \"type\": \"histogram2dcontour\"}], \"mesh3d\": [{\"colorbar\": {\"outlinewidth\": 0, \"ticks\": \"\"}, \"type\": \"mesh3d\"}], \"parcoords\": [{\"line\": {\"colorbar\": {\"outlinewidth\": 0, \"ticks\": \"\"}}, \"type\": \"parcoords\"}], \"pie\": [{\"automargin\": true, \"type\": \"pie\"}], \"scatter\": [{\"marker\": {\"colorbar\": {\"outlinewidth\": 0, \"ticks\": \"\"}}, \"type\": \"scatter\"}], \"scatter3d\": [{\"line\": {\"colorbar\": {\"outlinewidth\": 0, \"ticks\": \"\"}}, \"marker\": {\"colorbar\": {\"outlinewidth\": 0, \"ticks\": \"\"}}, \"type\": \"scatter3d\"}], \"scattercarpet\": [{\"marker\": {\"colorbar\": {\"outlinewidth\": 0, \"ticks\": \"\"}}, \"type\": \"scattercarpet\"}], \"scattergeo\": [{\"marker\": {\"colorbar\": {\"outlinewidth\": 0, \"ticks\": \"\"}}, \"type\": \"scattergeo\"}], \"scattergl\": [{\"marker\": {\"colorbar\": {\"outlinewidth\": 0, \"ticks\": \"\"}}, \"type\": \"scattergl\"}], \"scattermapbox\": [{\"marker\": {\"colorbar\": {\"outlinewidth\": 0, \"ticks\": \"\"}}, \"type\": \"scattermapbox\"}], \"scatterpolar\": [{\"marker\": {\"colorbar\": {\"outlinewidth\": 0, \"ticks\": \"\"}}, \"type\": \"scatterpolar\"}], \"scatterpolargl\": [{\"marker\": {\"colorbar\": {\"outlinewidth\": 0, \"ticks\": \"\"}}, \"type\": \"scatterpolargl\"}], \"scatterternary\": [{\"marker\": {\"colorbar\": {\"outlinewidth\": 0, \"ticks\": \"\"}}, \"type\": \"scatterternary\"}], \"surface\": [{\"colorbar\": {\"outlinewidth\": 0, \"ticks\": \"\"}, \"colorscale\": [[0.0, \"#0d0887\"], [0.1111111111111111, \"#46039f\"], [0.2222222222222222, \"#7201a8\"], [0.3333333333333333, \"#9c179e\"], [0.4444444444444444, \"#bd3786\"], [0.5555555555555556, \"#d8576b\"], [0.6666666666666666, \"#ed7953\"], [0.7777777777777778, \"#fb9f3a\"], [0.8888888888888888, \"#fdca26\"], [1.0, \"#f0f921\"]], \"type\": \"surface\"}], \"table\": [{\"cells\": {\"fill\": {\"color\": \"#EBF0F8\"}, \"line\": {\"color\": \"white\"}}, \"header\": {\"fill\": {\"color\": \"#C8D4E3\"}, \"line\": {\"color\": \"white\"}}, \"type\": \"table\"}]}, \"layout\": {\"annotationdefaults\": {\"arrowcolor\": \"#2a3f5f\", \"arrowhead\": 0, \"arrowwidth\": 1}, \"coloraxis\": {\"colorbar\": {\"outlinewidth\": 0, \"ticks\": \"\"}}, \"colorscale\": {\"diverging\": [[0, \"#8e0152\"], [0.1, \"#c51b7d\"], [0.2, \"#de77ae\"], [0.3, \"#f1b6da\"], [0.4, \"#fde0ef\"], [0.5, \"#f7f7f7\"], [0.6, \"#e6f5d0\"], [0.7, \"#b8e186\"], [0.8, \"#7fbc41\"], [0.9, \"#4d9221\"], [1, \"#276419\"]], \"sequential\": [[0.0, \"#0d0887\"], [0.1111111111111111, \"#46039f\"], [0.2222222222222222, \"#7201a8\"], [0.3333333333333333, \"#9c179e\"], [0.4444444444444444, \"#bd3786\"], [0.5555555555555556, \"#d8576b\"], [0.6666666666666666, \"#ed7953\"], [0.7777777777777778, \"#fb9f3a\"], [0.8888888888888888, \"#fdca26\"], [1.0, \"#f0f921\"]], \"sequentialminus\": [[0.0, \"#0d0887\"], [0.1111111111111111, \"#46039f\"], [0.2222222222222222, \"#7201a8\"], [0.3333333333333333, \"#9c179e\"], [0.4444444444444444, \"#bd3786\"], [0.5555555555555556, \"#d8576b\"], [0.6666666666666666, \"#ed7953\"], [0.7777777777777778, \"#fb9f3a\"], [0.8888888888888888, \"#fdca26\"], [1.0, \"#f0f921\"]]}, \"colorway\": [\"#636efa\", \"#EF553B\", \"#00cc96\", \"#ab63fa\", \"#FFA15A\", \"#19d3f3\", \"#FF6692\", \"#B6E880\", \"#FF97FF\", \"#FECB52\"], \"font\": {\"color\": \"#2a3f5f\"}, \"geo\": {\"bgcolor\": \"white\", \"lakecolor\": \"white\", \"landcolor\": \"#E5ECF6\", \"showlakes\": true, \"showland\": true, \"subunitcolor\": \"white\"}, \"hoverlabel\": {\"align\": \"left\"}, \"hovermode\": \"closest\", \"mapbox\": {\"style\": \"light\"}, \"paper_bgcolor\": \"white\", \"plot_bgcolor\": \"#E5ECF6\", \"polar\": {\"angularaxis\": {\"gridcolor\": \"white\", \"linecolor\": \"white\", \"ticks\": \"\"}, \"bgcolor\": \"#E5ECF6\", \"radialaxis\": {\"gridcolor\": \"white\", \"linecolor\": \"white\", \"ticks\": \"\"}}, \"scene\": {\"xaxis\": {\"backgroundcolor\": \"#E5ECF6\", \"gridcolor\": \"white\", \"gridwidth\": 2, \"linecolor\": \"white\", \"showbackground\": true, \"ticks\": \"\", \"zerolinecolor\": \"white\"}, \"yaxis\": {\"backgroundcolor\": \"#E5ECF6\", \"gridcolor\": \"white\", \"gridwidth\": 2, \"linecolor\": \"white\", \"showbackground\": true, \"ticks\": \"\", \"zerolinecolor\": \"white\"}, \"zaxis\": {\"backgroundcolor\": \"#E5ECF6\", \"gridcolor\": \"white\", \"gridwidth\": 2, \"linecolor\": \"white\", \"showbackground\": true, \"ticks\": \"\", \"zerolinecolor\": \"white\"}}, \"shapedefaults\": {\"line\": {\"color\": \"#2a3f5f\"}}, \"ternary\": {\"aaxis\": {\"gridcolor\": \"white\", \"linecolor\": \"white\", \"ticks\": \"\"}, \"baxis\": {\"gridcolor\": \"white\", \"linecolor\": \"white\", \"ticks\": \"\"}, \"bgcolor\": \"#E5ECF6\", \"caxis\": {\"gridcolor\": \"white\", \"linecolor\": \"white\", \"ticks\": \"\"}}, \"title\": {\"x\": 0.05}, \"xaxis\": {\"automargin\": true, \"gridcolor\": \"white\", \"linecolor\": \"white\", \"ticks\": \"\", \"title\": {\"standoff\": 15}, \"zerolinecolor\": \"white\", \"zerolinewidth\": 2}, \"yaxis\": {\"automargin\": true, \"gridcolor\": \"white\", \"linecolor\": \"white\", \"ticks\": \"\", \"title\": {\"standoff\": 15}, \"zerolinecolor\": \"white\", \"zerolinewidth\": 2}}}, \"yaxis\": {\"title\": {\"text\": \"Average Rate in Dollar\"}}},\n",
       "                        {\"responsive\": true}\n",
       "                    ).then(function(){\n",
       "                            \n",
       "var gd = document.getElementById('3bab9cf1-4637-4683-b9ef-477225173760');\n",
       "var x = new MutationObserver(function (mutations, observer) {{\n",
       "        var display = window.getComputedStyle(gd).display;\n",
       "        if (!display || display === 'none') {{\n",
       "            console.log([gd, 'removed!']);\n",
       "            Plotly.purge(gd);\n",
       "            observer.disconnect();\n",
       "        }}\n",
       "}});\n",
       "\n",
       "// Listen for the removal of the full notebook cells\n",
       "var notebookContainer = gd.closest('#notebook-container');\n",
       "if (notebookContainer) {{\n",
       "    x.observe(notebookContainer, {childList: true});\n",
       "}}\n",
       "\n",
       "// Listen for the clearing of the current output cell\n",
       "var outputEl = gd.closest('.output');\n",
       "if (outputEl) {{\n",
       "    x.observe(outputEl, {childList: true});\n",
       "}}\n",
       "\n",
       "                        })\n",
       "                };\n",
       "                });\n",
       "            </script>\n",
       "        </div>"
      ]
     },
     "metadata": {},
     "output_type": "display_data"
    }
   ],
   "source": [
    "## look into average rates by month in Boston and Seattle\n",
    "meanprice_m = df[[\"month\",\"city\",\"cleaned_price\"]].groupby([\"month\",\"city\"]).cleaned_price.mean().reset_index()\n",
    "meanprice_m.month.replace({1:\"January\",2:\"February\",3:\"March\",4:\"April\",5:\"May\",6:\"June\",7:\"July\",8:\"August\",\n",
    "                          9:\"September\",10:\"October\",11:\"November\",12:\"December\"},inplace=True)\n",
    "sea_mp_m = meanprice_m[meanprice_m[\"city\"] ==\"Seattle\"]\n",
    "bos_mp_m = meanprice_m[meanprice_m[\"city\"] ==\"Boston\"]\n",
    "\n",
    "price_month = go.Figure()\n",
    "price_month.add_trace(go.Bar(x=sea_mp_m.month, y=sea_mp_m.cleaned_price,text = \"Seattle\",name=\"Average Rate in Seattle\"))\n",
    "price_month.add_trace(go.Bar(x=bos_mp_m.month, y=bos_mp_m.cleaned_price,text = \"Boston\",name=\"Average Rate in Boston\"))         \n",
    "price_month.update_layout(yaxis_title=\"Average Rate in Dollar\")\n",
    "price_month.show()"
   ]
  },
  {
   "cell_type": "markdown",
   "metadata": {},
   "source": [
    "In the second plot we can see the average monthly rates in both cities. In Boston, October is the month with the highest average rates, March is the month with the lowest average rates, the rates difference between the two seasons is at about 20 Dollars. In Seattle, the rates are higher in summer months and lower during winter. The average rates difference is at about 19 Dollars. Since the time frame of the datasets for both cities are inconsistent, we are not able to compare the rates trend."
   ]
  },
  {
   "cell_type": "code",
   "execution_count": 69,
   "metadata": {},
   "outputs": [
    {
     "data": {
      "application/vnd.plotly.v1+json": {
       "config": {
        "plotlyServerURL": "https://plot.ly"
       },
       "data": [
        {
         "name": "Seattle",
         "text": "Average Price in $",
         "type": "bar",
         "x": [
          "Monday",
          "Tuesday",
          "Wednesday",
          "Thursday",
          "Friday",
          "Saturday",
          "Sunday"
         ],
         "y": [
          144.5,
          144.3,
          144.4,
          145.1,
          149.5,
          149.6,
          145
         ]
        },
        {
         "name": "Boston",
         "text": "Average Price in $",
         "type": "bar",
         "x": [
          "Monday",
          "Tuesday",
          "Wednesday",
          "Thursday",
          "Friday",
          "Saturday",
          "Sunday"
         ],
         "y": [
          179.1,
          178.6,
          178.8,
          179.9,
          182.4,
          182.5,
          180.2
         ]
        }
       ],
       "layout": {
        "template": {
         "data": {
          "bar": [
           {
            "error_x": {
             "color": "#2a3f5f"
            },
            "error_y": {
             "color": "#2a3f5f"
            },
            "marker": {
             "line": {
              "color": "#E5ECF6",
              "width": 0.5
             }
            },
            "type": "bar"
           }
          ],
          "barpolar": [
           {
            "marker": {
             "line": {
              "color": "#E5ECF6",
              "width": 0.5
             }
            },
            "type": "barpolar"
           }
          ],
          "carpet": [
           {
            "aaxis": {
             "endlinecolor": "#2a3f5f",
             "gridcolor": "white",
             "linecolor": "white",
             "minorgridcolor": "white",
             "startlinecolor": "#2a3f5f"
            },
            "baxis": {
             "endlinecolor": "#2a3f5f",
             "gridcolor": "white",
             "linecolor": "white",
             "minorgridcolor": "white",
             "startlinecolor": "#2a3f5f"
            },
            "type": "carpet"
           }
          ],
          "choropleth": [
           {
            "colorbar": {
             "outlinewidth": 0,
             "ticks": ""
            },
            "type": "choropleth"
           }
          ],
          "contour": [
           {
            "colorbar": {
             "outlinewidth": 0,
             "ticks": ""
            },
            "colorscale": [
             [
              0,
              "#0d0887"
             ],
             [
              0.1111111111111111,
              "#46039f"
             ],
             [
              0.2222222222222222,
              "#7201a8"
             ],
             [
              0.3333333333333333,
              "#9c179e"
             ],
             [
              0.4444444444444444,
              "#bd3786"
             ],
             [
              0.5555555555555556,
              "#d8576b"
             ],
             [
              0.6666666666666666,
              "#ed7953"
             ],
             [
              0.7777777777777778,
              "#fb9f3a"
             ],
             [
              0.8888888888888888,
              "#fdca26"
             ],
             [
              1,
              "#f0f921"
             ]
            ],
            "type": "contour"
           }
          ],
          "contourcarpet": [
           {
            "colorbar": {
             "outlinewidth": 0,
             "ticks": ""
            },
            "type": "contourcarpet"
           }
          ],
          "heatmap": [
           {
            "colorbar": {
             "outlinewidth": 0,
             "ticks": ""
            },
            "colorscale": [
             [
              0,
              "#0d0887"
             ],
             [
              0.1111111111111111,
              "#46039f"
             ],
             [
              0.2222222222222222,
              "#7201a8"
             ],
             [
              0.3333333333333333,
              "#9c179e"
             ],
             [
              0.4444444444444444,
              "#bd3786"
             ],
             [
              0.5555555555555556,
              "#d8576b"
             ],
             [
              0.6666666666666666,
              "#ed7953"
             ],
             [
              0.7777777777777778,
              "#fb9f3a"
             ],
             [
              0.8888888888888888,
              "#fdca26"
             ],
             [
              1,
              "#f0f921"
             ]
            ],
            "type": "heatmap"
           }
          ],
          "heatmapgl": [
           {
            "colorbar": {
             "outlinewidth": 0,
             "ticks": ""
            },
            "colorscale": [
             [
              0,
              "#0d0887"
             ],
             [
              0.1111111111111111,
              "#46039f"
             ],
             [
              0.2222222222222222,
              "#7201a8"
             ],
             [
              0.3333333333333333,
              "#9c179e"
             ],
             [
              0.4444444444444444,
              "#bd3786"
             ],
             [
              0.5555555555555556,
              "#d8576b"
             ],
             [
              0.6666666666666666,
              "#ed7953"
             ],
             [
              0.7777777777777778,
              "#fb9f3a"
             ],
             [
              0.8888888888888888,
              "#fdca26"
             ],
             [
              1,
              "#f0f921"
             ]
            ],
            "type": "heatmapgl"
           }
          ],
          "histogram": [
           {
            "marker": {
             "colorbar": {
              "outlinewidth": 0,
              "ticks": ""
             }
            },
            "type": "histogram"
           }
          ],
          "histogram2d": [
           {
            "colorbar": {
             "outlinewidth": 0,
             "ticks": ""
            },
            "colorscale": [
             [
              0,
              "#0d0887"
             ],
             [
              0.1111111111111111,
              "#46039f"
             ],
             [
              0.2222222222222222,
              "#7201a8"
             ],
             [
              0.3333333333333333,
              "#9c179e"
             ],
             [
              0.4444444444444444,
              "#bd3786"
             ],
             [
              0.5555555555555556,
              "#d8576b"
             ],
             [
              0.6666666666666666,
              "#ed7953"
             ],
             [
              0.7777777777777778,
              "#fb9f3a"
             ],
             [
              0.8888888888888888,
              "#fdca26"
             ],
             [
              1,
              "#f0f921"
             ]
            ],
            "type": "histogram2d"
           }
          ],
          "histogram2dcontour": [
           {
            "colorbar": {
             "outlinewidth": 0,
             "ticks": ""
            },
            "colorscale": [
             [
              0,
              "#0d0887"
             ],
             [
              0.1111111111111111,
              "#46039f"
             ],
             [
              0.2222222222222222,
              "#7201a8"
             ],
             [
              0.3333333333333333,
              "#9c179e"
             ],
             [
              0.4444444444444444,
              "#bd3786"
             ],
             [
              0.5555555555555556,
              "#d8576b"
             ],
             [
              0.6666666666666666,
              "#ed7953"
             ],
             [
              0.7777777777777778,
              "#fb9f3a"
             ],
             [
              0.8888888888888888,
              "#fdca26"
             ],
             [
              1,
              "#f0f921"
             ]
            ],
            "type": "histogram2dcontour"
           }
          ],
          "mesh3d": [
           {
            "colorbar": {
             "outlinewidth": 0,
             "ticks": ""
            },
            "type": "mesh3d"
           }
          ],
          "parcoords": [
           {
            "line": {
             "colorbar": {
              "outlinewidth": 0,
              "ticks": ""
             }
            },
            "type": "parcoords"
           }
          ],
          "pie": [
           {
            "automargin": true,
            "type": "pie"
           }
          ],
          "scatter": [
           {
            "marker": {
             "colorbar": {
              "outlinewidth": 0,
              "ticks": ""
             }
            },
            "type": "scatter"
           }
          ],
          "scatter3d": [
           {
            "line": {
             "colorbar": {
              "outlinewidth": 0,
              "ticks": ""
             }
            },
            "marker": {
             "colorbar": {
              "outlinewidth": 0,
              "ticks": ""
             }
            },
            "type": "scatter3d"
           }
          ],
          "scattercarpet": [
           {
            "marker": {
             "colorbar": {
              "outlinewidth": 0,
              "ticks": ""
             }
            },
            "type": "scattercarpet"
           }
          ],
          "scattergeo": [
           {
            "marker": {
             "colorbar": {
              "outlinewidth": 0,
              "ticks": ""
             }
            },
            "type": "scattergeo"
           }
          ],
          "scattergl": [
           {
            "marker": {
             "colorbar": {
              "outlinewidth": 0,
              "ticks": ""
             }
            },
            "type": "scattergl"
           }
          ],
          "scattermapbox": [
           {
            "marker": {
             "colorbar": {
              "outlinewidth": 0,
              "ticks": ""
             }
            },
            "type": "scattermapbox"
           }
          ],
          "scatterpolar": [
           {
            "marker": {
             "colorbar": {
              "outlinewidth": 0,
              "ticks": ""
             }
            },
            "type": "scatterpolar"
           }
          ],
          "scatterpolargl": [
           {
            "marker": {
             "colorbar": {
              "outlinewidth": 0,
              "ticks": ""
             }
            },
            "type": "scatterpolargl"
           }
          ],
          "scatterternary": [
           {
            "marker": {
             "colorbar": {
              "outlinewidth": 0,
              "ticks": ""
             }
            },
            "type": "scatterternary"
           }
          ],
          "surface": [
           {
            "colorbar": {
             "outlinewidth": 0,
             "ticks": ""
            },
            "colorscale": [
             [
              0,
              "#0d0887"
             ],
             [
              0.1111111111111111,
              "#46039f"
             ],
             [
              0.2222222222222222,
              "#7201a8"
             ],
             [
              0.3333333333333333,
              "#9c179e"
             ],
             [
              0.4444444444444444,
              "#bd3786"
             ],
             [
              0.5555555555555556,
              "#d8576b"
             ],
             [
              0.6666666666666666,
              "#ed7953"
             ],
             [
              0.7777777777777778,
              "#fb9f3a"
             ],
             [
              0.8888888888888888,
              "#fdca26"
             ],
             [
              1,
              "#f0f921"
             ]
            ],
            "type": "surface"
           }
          ],
          "table": [
           {
            "cells": {
             "fill": {
              "color": "#EBF0F8"
             },
             "line": {
              "color": "white"
             }
            },
            "header": {
             "fill": {
              "color": "#C8D4E3"
             },
             "line": {
              "color": "white"
             }
            },
            "type": "table"
           }
          ]
         },
         "layout": {
          "annotationdefaults": {
           "arrowcolor": "#2a3f5f",
           "arrowhead": 0,
           "arrowwidth": 1
          },
          "coloraxis": {
           "colorbar": {
            "outlinewidth": 0,
            "ticks": ""
           }
          },
          "colorscale": {
           "diverging": [
            [
             0,
             "#8e0152"
            ],
            [
             0.1,
             "#c51b7d"
            ],
            [
             0.2,
             "#de77ae"
            ],
            [
             0.3,
             "#f1b6da"
            ],
            [
             0.4,
             "#fde0ef"
            ],
            [
             0.5,
             "#f7f7f7"
            ],
            [
             0.6,
             "#e6f5d0"
            ],
            [
             0.7,
             "#b8e186"
            ],
            [
             0.8,
             "#7fbc41"
            ],
            [
             0.9,
             "#4d9221"
            ],
            [
             1,
             "#276419"
            ]
           ],
           "sequential": [
            [
             0,
             "#0d0887"
            ],
            [
             0.1111111111111111,
             "#46039f"
            ],
            [
             0.2222222222222222,
             "#7201a8"
            ],
            [
             0.3333333333333333,
             "#9c179e"
            ],
            [
             0.4444444444444444,
             "#bd3786"
            ],
            [
             0.5555555555555556,
             "#d8576b"
            ],
            [
             0.6666666666666666,
             "#ed7953"
            ],
            [
             0.7777777777777778,
             "#fb9f3a"
            ],
            [
             0.8888888888888888,
             "#fdca26"
            ],
            [
             1,
             "#f0f921"
            ]
           ],
           "sequentialminus": [
            [
             0,
             "#0d0887"
            ],
            [
             0.1111111111111111,
             "#46039f"
            ],
            [
             0.2222222222222222,
             "#7201a8"
            ],
            [
             0.3333333333333333,
             "#9c179e"
            ],
            [
             0.4444444444444444,
             "#bd3786"
            ],
            [
             0.5555555555555556,
             "#d8576b"
            ],
            [
             0.6666666666666666,
             "#ed7953"
            ],
            [
             0.7777777777777778,
             "#fb9f3a"
            ],
            [
             0.8888888888888888,
             "#fdca26"
            ],
            [
             1,
             "#f0f921"
            ]
           ]
          },
          "colorway": [
           "#636efa",
           "#EF553B",
           "#00cc96",
           "#ab63fa",
           "#FFA15A",
           "#19d3f3",
           "#FF6692",
           "#B6E880",
           "#FF97FF",
           "#FECB52"
          ],
          "font": {
           "color": "#2a3f5f"
          },
          "geo": {
           "bgcolor": "white",
           "lakecolor": "white",
           "landcolor": "#E5ECF6",
           "showlakes": true,
           "showland": true,
           "subunitcolor": "white"
          },
          "hoverlabel": {
           "align": "left"
          },
          "hovermode": "closest",
          "mapbox": {
           "style": "light"
          },
          "paper_bgcolor": "white",
          "plot_bgcolor": "#E5ECF6",
          "polar": {
           "angularaxis": {
            "gridcolor": "white",
            "linecolor": "white",
            "ticks": ""
           },
           "bgcolor": "#E5ECF6",
           "radialaxis": {
            "gridcolor": "white",
            "linecolor": "white",
            "ticks": ""
           }
          },
          "scene": {
           "xaxis": {
            "backgroundcolor": "#E5ECF6",
            "gridcolor": "white",
            "gridwidth": 2,
            "linecolor": "white",
            "showbackground": true,
            "ticks": "",
            "zerolinecolor": "white"
           },
           "yaxis": {
            "backgroundcolor": "#E5ECF6",
            "gridcolor": "white",
            "gridwidth": 2,
            "linecolor": "white",
            "showbackground": true,
            "ticks": "",
            "zerolinecolor": "white"
           },
           "zaxis": {
            "backgroundcolor": "#E5ECF6",
            "gridcolor": "white",
            "gridwidth": 2,
            "linecolor": "white",
            "showbackground": true,
            "ticks": "",
            "zerolinecolor": "white"
           }
          },
          "shapedefaults": {
           "line": {
            "color": "#2a3f5f"
           }
          },
          "ternary": {
           "aaxis": {
            "gridcolor": "white",
            "linecolor": "white",
            "ticks": ""
           },
           "baxis": {
            "gridcolor": "white",
            "linecolor": "white",
            "ticks": ""
           },
           "bgcolor": "#E5ECF6",
           "caxis": {
            "gridcolor": "white",
            "linecolor": "white",
            "ticks": ""
           }
          },
          "title": {
           "x": 0.05
          },
          "xaxis": {
           "automargin": true,
           "gridcolor": "white",
           "linecolor": "white",
           "ticks": "",
           "title": {
            "standoff": 15
           },
           "zerolinecolor": "white",
           "zerolinewidth": 2
          },
          "yaxis": {
           "automargin": true,
           "gridcolor": "white",
           "linecolor": "white",
           "ticks": "",
           "title": {
            "standoff": 15
           },
           "zerolinecolor": "white",
           "zerolinewidth": 2
          }
         }
        },
        "yaxis": {
         "title": {
          "text": "Average Rate in Dollar"
         }
        }
       }
      },
      "text/html": [
       "<div>\n",
       "        \n",
       "        \n",
       "            <div id=\"d2c51fdc-70bb-4491-9dc7-73c3957e03eb\" class=\"plotly-graph-div\" style=\"height:525px; width:100%;\"></div>\n",
       "            <script type=\"text/javascript\">\n",
       "                require([\"plotly\"], function(Plotly) {\n",
       "                    window.PLOTLYENV=window.PLOTLYENV || {};\n",
       "                    \n",
       "                if (document.getElementById(\"d2c51fdc-70bb-4491-9dc7-73c3957e03eb\")) {\n",
       "                    Plotly.newPlot(\n",
       "                        'd2c51fdc-70bb-4491-9dc7-73c3957e03eb',\n",
       "                        [{\"name\": \"Seattle\", \"text\": \"Average Price in $\", \"type\": \"bar\", \"x\": [\"Monday\", \"Tuesday\", \"Wednesday\", \"Thursday\", \"Friday\", \"Saturday\", \"Sunday\"], \"y\": [144.5, 144.3, 144.4, 145.1, 149.5, 149.6, 145.0]}, {\"name\": \"Boston\", \"text\": \"Average Price in $\", \"type\": \"bar\", \"x\": [\"Monday\", \"Tuesday\", \"Wednesday\", \"Thursday\", \"Friday\", \"Saturday\", \"Sunday\"], \"y\": [179.1, 178.6, 178.8, 179.9, 182.4, 182.5, 180.2]}],\n",
       "                        {\"template\": {\"data\": {\"bar\": [{\"error_x\": {\"color\": \"#2a3f5f\"}, \"error_y\": {\"color\": \"#2a3f5f\"}, \"marker\": {\"line\": {\"color\": \"#E5ECF6\", \"width\": 0.5}}, \"type\": \"bar\"}], \"barpolar\": [{\"marker\": {\"line\": {\"color\": \"#E5ECF6\", \"width\": 0.5}}, \"type\": \"barpolar\"}], \"carpet\": [{\"aaxis\": {\"endlinecolor\": \"#2a3f5f\", \"gridcolor\": \"white\", \"linecolor\": \"white\", \"minorgridcolor\": \"white\", \"startlinecolor\": \"#2a3f5f\"}, \"baxis\": {\"endlinecolor\": \"#2a3f5f\", \"gridcolor\": \"white\", \"linecolor\": \"white\", \"minorgridcolor\": \"white\", \"startlinecolor\": \"#2a3f5f\"}, \"type\": \"carpet\"}], \"choropleth\": [{\"colorbar\": {\"outlinewidth\": 0, \"ticks\": \"\"}, \"type\": \"choropleth\"}], \"contour\": [{\"colorbar\": {\"outlinewidth\": 0, \"ticks\": \"\"}, \"colorscale\": [[0.0, \"#0d0887\"], [0.1111111111111111, \"#46039f\"], [0.2222222222222222, \"#7201a8\"], [0.3333333333333333, \"#9c179e\"], [0.4444444444444444, \"#bd3786\"], [0.5555555555555556, \"#d8576b\"], [0.6666666666666666, \"#ed7953\"], [0.7777777777777778, \"#fb9f3a\"], [0.8888888888888888, \"#fdca26\"], [1.0, \"#f0f921\"]], \"type\": \"contour\"}], \"contourcarpet\": [{\"colorbar\": {\"outlinewidth\": 0, \"ticks\": \"\"}, \"type\": \"contourcarpet\"}], \"heatmap\": [{\"colorbar\": {\"outlinewidth\": 0, \"ticks\": \"\"}, \"colorscale\": [[0.0, \"#0d0887\"], [0.1111111111111111, \"#46039f\"], [0.2222222222222222, \"#7201a8\"], [0.3333333333333333, \"#9c179e\"], [0.4444444444444444, \"#bd3786\"], [0.5555555555555556, \"#d8576b\"], [0.6666666666666666, \"#ed7953\"], [0.7777777777777778, \"#fb9f3a\"], [0.8888888888888888, \"#fdca26\"], [1.0, \"#f0f921\"]], \"type\": \"heatmap\"}], \"heatmapgl\": [{\"colorbar\": {\"outlinewidth\": 0, \"ticks\": \"\"}, \"colorscale\": [[0.0, \"#0d0887\"], [0.1111111111111111, \"#46039f\"], [0.2222222222222222, \"#7201a8\"], [0.3333333333333333, \"#9c179e\"], [0.4444444444444444, \"#bd3786\"], [0.5555555555555556, \"#d8576b\"], [0.6666666666666666, \"#ed7953\"], [0.7777777777777778, \"#fb9f3a\"], [0.8888888888888888, \"#fdca26\"], [1.0, \"#f0f921\"]], \"type\": \"heatmapgl\"}], \"histogram\": [{\"marker\": {\"colorbar\": {\"outlinewidth\": 0, \"ticks\": \"\"}}, \"type\": \"histogram\"}], \"histogram2d\": [{\"colorbar\": {\"outlinewidth\": 0, \"ticks\": \"\"}, \"colorscale\": [[0.0, \"#0d0887\"], [0.1111111111111111, \"#46039f\"], [0.2222222222222222, \"#7201a8\"], [0.3333333333333333, \"#9c179e\"], [0.4444444444444444, \"#bd3786\"], [0.5555555555555556, \"#d8576b\"], [0.6666666666666666, \"#ed7953\"], [0.7777777777777778, \"#fb9f3a\"], [0.8888888888888888, \"#fdca26\"], [1.0, \"#f0f921\"]], \"type\": \"histogram2d\"}], \"histogram2dcontour\": [{\"colorbar\": {\"outlinewidth\": 0, \"ticks\": \"\"}, \"colorscale\": [[0.0, \"#0d0887\"], [0.1111111111111111, \"#46039f\"], [0.2222222222222222, \"#7201a8\"], [0.3333333333333333, \"#9c179e\"], [0.4444444444444444, \"#bd3786\"], [0.5555555555555556, \"#d8576b\"], [0.6666666666666666, \"#ed7953\"], [0.7777777777777778, \"#fb9f3a\"], [0.8888888888888888, \"#fdca26\"], [1.0, \"#f0f921\"]], \"type\": \"histogram2dcontour\"}], \"mesh3d\": [{\"colorbar\": {\"outlinewidth\": 0, \"ticks\": \"\"}, \"type\": \"mesh3d\"}], \"parcoords\": [{\"line\": {\"colorbar\": {\"outlinewidth\": 0, \"ticks\": \"\"}}, \"type\": \"parcoords\"}], \"pie\": [{\"automargin\": true, \"type\": \"pie\"}], \"scatter\": [{\"marker\": {\"colorbar\": {\"outlinewidth\": 0, \"ticks\": \"\"}}, \"type\": \"scatter\"}], \"scatter3d\": [{\"line\": {\"colorbar\": {\"outlinewidth\": 0, \"ticks\": \"\"}}, \"marker\": {\"colorbar\": {\"outlinewidth\": 0, \"ticks\": \"\"}}, \"type\": \"scatter3d\"}], \"scattercarpet\": [{\"marker\": {\"colorbar\": {\"outlinewidth\": 0, \"ticks\": \"\"}}, \"type\": \"scattercarpet\"}], \"scattergeo\": [{\"marker\": {\"colorbar\": {\"outlinewidth\": 0, \"ticks\": \"\"}}, \"type\": \"scattergeo\"}], \"scattergl\": [{\"marker\": {\"colorbar\": {\"outlinewidth\": 0, \"ticks\": \"\"}}, \"type\": \"scattergl\"}], \"scattermapbox\": [{\"marker\": {\"colorbar\": {\"outlinewidth\": 0, \"ticks\": \"\"}}, \"type\": \"scattermapbox\"}], \"scatterpolar\": [{\"marker\": {\"colorbar\": {\"outlinewidth\": 0, \"ticks\": \"\"}}, \"type\": \"scatterpolar\"}], \"scatterpolargl\": [{\"marker\": {\"colorbar\": {\"outlinewidth\": 0, \"ticks\": \"\"}}, \"type\": \"scatterpolargl\"}], \"scatterternary\": [{\"marker\": {\"colorbar\": {\"outlinewidth\": 0, \"ticks\": \"\"}}, \"type\": \"scatterternary\"}], \"surface\": [{\"colorbar\": {\"outlinewidth\": 0, \"ticks\": \"\"}, \"colorscale\": [[0.0, \"#0d0887\"], [0.1111111111111111, \"#46039f\"], [0.2222222222222222, \"#7201a8\"], [0.3333333333333333, \"#9c179e\"], [0.4444444444444444, \"#bd3786\"], [0.5555555555555556, \"#d8576b\"], [0.6666666666666666, \"#ed7953\"], [0.7777777777777778, \"#fb9f3a\"], [0.8888888888888888, \"#fdca26\"], [1.0, \"#f0f921\"]], \"type\": \"surface\"}], \"table\": [{\"cells\": {\"fill\": {\"color\": \"#EBF0F8\"}, \"line\": {\"color\": \"white\"}}, \"header\": {\"fill\": {\"color\": \"#C8D4E3\"}, \"line\": {\"color\": \"white\"}}, \"type\": \"table\"}]}, \"layout\": {\"annotationdefaults\": {\"arrowcolor\": \"#2a3f5f\", \"arrowhead\": 0, \"arrowwidth\": 1}, \"coloraxis\": {\"colorbar\": {\"outlinewidth\": 0, \"ticks\": \"\"}}, \"colorscale\": {\"diverging\": [[0, \"#8e0152\"], [0.1, \"#c51b7d\"], [0.2, \"#de77ae\"], [0.3, \"#f1b6da\"], [0.4, \"#fde0ef\"], [0.5, \"#f7f7f7\"], [0.6, \"#e6f5d0\"], [0.7, \"#b8e186\"], [0.8, \"#7fbc41\"], [0.9, \"#4d9221\"], [1, \"#276419\"]], \"sequential\": [[0.0, \"#0d0887\"], [0.1111111111111111, \"#46039f\"], [0.2222222222222222, \"#7201a8\"], [0.3333333333333333, \"#9c179e\"], [0.4444444444444444, \"#bd3786\"], [0.5555555555555556, \"#d8576b\"], [0.6666666666666666, \"#ed7953\"], [0.7777777777777778, \"#fb9f3a\"], [0.8888888888888888, \"#fdca26\"], [1.0, \"#f0f921\"]], \"sequentialminus\": [[0.0, \"#0d0887\"], [0.1111111111111111, \"#46039f\"], [0.2222222222222222, \"#7201a8\"], [0.3333333333333333, \"#9c179e\"], [0.4444444444444444, \"#bd3786\"], [0.5555555555555556, \"#d8576b\"], [0.6666666666666666, \"#ed7953\"], [0.7777777777777778, \"#fb9f3a\"], [0.8888888888888888, \"#fdca26\"], [1.0, \"#f0f921\"]]}, \"colorway\": [\"#636efa\", \"#EF553B\", \"#00cc96\", \"#ab63fa\", \"#FFA15A\", \"#19d3f3\", \"#FF6692\", \"#B6E880\", \"#FF97FF\", \"#FECB52\"], \"font\": {\"color\": \"#2a3f5f\"}, \"geo\": {\"bgcolor\": \"white\", \"lakecolor\": \"white\", \"landcolor\": \"#E5ECF6\", \"showlakes\": true, \"showland\": true, \"subunitcolor\": \"white\"}, \"hoverlabel\": {\"align\": \"left\"}, \"hovermode\": \"closest\", \"mapbox\": {\"style\": \"light\"}, \"paper_bgcolor\": \"white\", \"plot_bgcolor\": \"#E5ECF6\", \"polar\": {\"angularaxis\": {\"gridcolor\": \"white\", \"linecolor\": \"white\", \"ticks\": \"\"}, \"bgcolor\": \"#E5ECF6\", \"radialaxis\": {\"gridcolor\": \"white\", \"linecolor\": \"white\", \"ticks\": \"\"}}, \"scene\": {\"xaxis\": {\"backgroundcolor\": \"#E5ECF6\", \"gridcolor\": \"white\", \"gridwidth\": 2, \"linecolor\": \"white\", \"showbackground\": true, \"ticks\": \"\", \"zerolinecolor\": \"white\"}, \"yaxis\": {\"backgroundcolor\": \"#E5ECF6\", \"gridcolor\": \"white\", \"gridwidth\": 2, \"linecolor\": \"white\", \"showbackground\": true, \"ticks\": \"\", \"zerolinecolor\": \"white\"}, \"zaxis\": {\"backgroundcolor\": \"#E5ECF6\", \"gridcolor\": \"white\", \"gridwidth\": 2, \"linecolor\": \"white\", \"showbackground\": true, \"ticks\": \"\", \"zerolinecolor\": \"white\"}}, \"shapedefaults\": {\"line\": {\"color\": \"#2a3f5f\"}}, \"ternary\": {\"aaxis\": {\"gridcolor\": \"white\", \"linecolor\": \"white\", \"ticks\": \"\"}, \"baxis\": {\"gridcolor\": \"white\", \"linecolor\": \"white\", \"ticks\": \"\"}, \"bgcolor\": \"#E5ECF6\", \"caxis\": {\"gridcolor\": \"white\", \"linecolor\": \"white\", \"ticks\": \"\"}}, \"title\": {\"x\": 0.05}, \"xaxis\": {\"automargin\": true, \"gridcolor\": \"white\", \"linecolor\": \"white\", \"ticks\": \"\", \"title\": {\"standoff\": 15}, \"zerolinecolor\": \"white\", \"zerolinewidth\": 2}, \"yaxis\": {\"automargin\": true, \"gridcolor\": \"white\", \"linecolor\": \"white\", \"ticks\": \"\", \"title\": {\"standoff\": 15}, \"zerolinecolor\": \"white\", \"zerolinewidth\": 2}}}, \"yaxis\": {\"title\": {\"text\": \"Average Rate in Dollar\"}}},\n",
       "                        {\"responsive\": true}\n",
       "                    ).then(function(){\n",
       "                            \n",
       "var gd = document.getElementById('d2c51fdc-70bb-4491-9dc7-73c3957e03eb');\n",
       "var x = new MutationObserver(function (mutations, observer) {{\n",
       "        var display = window.getComputedStyle(gd).display;\n",
       "        if (!display || display === 'none') {{\n",
       "            console.log([gd, 'removed!']);\n",
       "            Plotly.purge(gd);\n",
       "            observer.disconnect();\n",
       "        }}\n",
       "}});\n",
       "\n",
       "// Listen for the removal of the full notebook cells\n",
       "var notebookContainer = gd.closest('#notebook-container');\n",
       "if (notebookContainer) {{\n",
       "    x.observe(notebookContainer, {childList: true});\n",
       "}}\n",
       "\n",
       "// Listen for the clearing of the current output cell\n",
       "var outputEl = gd.closest('.output');\n",
       "if (outputEl) {{\n",
       "    x.observe(outputEl, {childList: true});\n",
       "}}\n",
       "\n",
       "                        })\n",
       "                };\n",
       "                });\n",
       "            </script>\n",
       "        </div>"
      ]
     },
     "metadata": {},
     "output_type": "display_data"
    }
   ],
   "source": [
    "## look into price in Boston and Seattle\n",
    "meanprice_wd = df[[\"weekday\",\"city\",\"cleaned_price\"]].groupby([\"weekday\",\"city\"]).cleaned_price.mean().reset_index()\n",
    "meanprice_wd.cleaned_price = meanprice_wd.cleaned_price.round(1)\n",
    "\n",
    "#rename weekdays\n",
    "meanprice_wd.weekday.replace({6:\"Sunday\",0:\"Monday\",1:\"Tuesday\",2:\"Wednesday\",3:\"Thursday\",4:\"Friday\",5:\"Saturday\"},inplace=True)\n",
    "sea_mp_wd = meanprice_wd[meanprice_wd[\"city\"] ==\"Seattle\"]\n",
    "bos_mp_wd = meanprice_wd[meanprice_wd[\"city\"] ==\"Boston\"]\n",
    "\n",
    "\n",
    "price_weekday = go.Figure()\n",
    "price_weekday.add_trace(go.Bar(x=sea_mp_wd.weekday, y=sea_mp_wd.cleaned_price,name = \"Seattle\",text=\"Average Price in $\"))\n",
    "price_weekday.add_trace(go.Bar(x=bos_mp_wd.weekday, y=bos_mp_wd.cleaned_price,name = \"Boston\",text=\"Average Price in $\"))      \n",
    "price_weekday.update_layout(yaxis_title=\"Average Rate in Dollar\")\n",
    "\n",
    "price_weekday.show()"
   ]
  },
  {
   "cell_type": "markdown",
   "metadata": {},
   "source": [
    "The third plot shows the rates aggregated on weekdays. As we can see, the rates on Friday and Saturday are higher than other weekdays. Tuesday is the weekday with the lowest rate in both cities. The average rate for a listing in Boston on Friday and Saturday is at 182 Dollars, in Seattle at about 150 Dollars. On the rest of the weekdays the rate is up to 3.9 Dollars lower in Boston and Seattle up to 5.3 Dollars lower."
   ]
  },
  {
   "cell_type": "markdown",
   "metadata": {},
   "source": [
    "### Availability of listings <br> How does the average availability vary over time?\n",
    "\n",
    "Like the section about the rates, I use a time-series plot to visualize the proportion of available listings for each date."
   ]
  },
  {
   "cell_type": "code",
   "execution_count": 70,
   "metadata": {
    "scrolled": false
   },
   "outputs": [
    {
     "data": {
      "application/vnd.plotly.v1+json": {
       "config": {
        "plotlyServerURL": "https://plot.ly"
       },
       "data": [
        {
         "mode": "lines",
         "name": "Seattle",
         "text": "avg availability in %",
         "type": "scatter",
         "x": [
          "2016-01-04T00:00:00",
          "2016-01-05T00:00:00",
          "2016-01-06T00:00:00",
          "2016-01-07T00:00:00",
          "2016-01-08T00:00:00",
          "2016-01-09T00:00:00",
          "2016-01-10T00:00:00",
          "2016-01-11T00:00:00",
          "2016-01-12T00:00:00",
          "2016-01-13T00:00:00",
          "2016-01-14T00:00:00",
          "2016-01-15T00:00:00",
          "2016-01-16T00:00:00",
          "2016-01-17T00:00:00",
          "2016-01-18T00:00:00",
          "2016-01-19T00:00:00",
          "2016-01-20T00:00:00",
          "2016-01-21T00:00:00",
          "2016-01-22T00:00:00",
          "2016-01-23T00:00:00",
          "2016-01-24T00:00:00",
          "2016-01-25T00:00:00",
          "2016-01-26T00:00:00",
          "2016-01-27T00:00:00",
          "2016-01-28T00:00:00",
          "2016-01-29T00:00:00",
          "2016-01-30T00:00:00",
          "2016-01-31T00:00:00",
          "2016-02-01T00:00:00",
          "2016-02-02T00:00:00",
          "2016-02-03T00:00:00",
          "2016-02-04T00:00:00",
          "2016-02-05T00:00:00",
          "2016-02-06T00:00:00",
          "2016-02-07T00:00:00",
          "2016-02-08T00:00:00",
          "2016-02-09T00:00:00",
          "2016-02-10T00:00:00",
          "2016-02-11T00:00:00",
          "2016-02-12T00:00:00",
          "2016-02-13T00:00:00",
          "2016-02-14T00:00:00",
          "2016-02-15T00:00:00",
          "2016-02-16T00:00:00",
          "2016-02-17T00:00:00",
          "2016-02-18T00:00:00",
          "2016-02-19T00:00:00",
          "2016-02-20T00:00:00",
          "2016-02-21T00:00:00",
          "2016-02-22T00:00:00",
          "2016-02-23T00:00:00",
          "2016-02-24T00:00:00",
          "2016-02-25T00:00:00",
          "2016-02-26T00:00:00",
          "2016-02-27T00:00:00",
          "2016-02-28T00:00:00",
          "2016-02-29T00:00:00",
          "2016-03-01T00:00:00",
          "2016-03-02T00:00:00",
          "2016-03-03T00:00:00",
          "2016-03-04T00:00:00",
          "2016-03-05T00:00:00",
          "2016-03-06T00:00:00",
          "2016-03-07T00:00:00",
          "2016-03-08T00:00:00",
          "2016-03-09T00:00:00",
          "2016-03-10T00:00:00",
          "2016-03-11T00:00:00",
          "2016-03-12T00:00:00",
          "2016-03-13T00:00:00",
          "2016-03-14T00:00:00",
          "2016-03-15T00:00:00",
          "2016-03-16T00:00:00",
          "2016-03-17T00:00:00",
          "2016-03-18T00:00:00",
          "2016-03-19T00:00:00",
          "2016-03-20T00:00:00",
          "2016-03-21T00:00:00",
          "2016-03-22T00:00:00",
          "2016-03-23T00:00:00",
          "2016-03-24T00:00:00",
          "2016-03-25T00:00:00",
          "2016-03-26T00:00:00",
          "2016-03-27T00:00:00",
          "2016-03-28T00:00:00",
          "2016-03-29T00:00:00",
          "2016-03-30T00:00:00",
          "2016-03-31T00:00:00",
          "2016-04-01T00:00:00",
          "2016-04-02T00:00:00",
          "2016-04-03T00:00:00",
          "2016-04-04T00:00:00",
          "2016-04-05T00:00:00",
          "2016-04-06T00:00:00",
          "2016-04-07T00:00:00",
          "2016-04-08T00:00:00",
          "2016-04-09T00:00:00",
          "2016-04-10T00:00:00",
          "2016-04-11T00:00:00",
          "2016-04-12T00:00:00",
          "2016-04-13T00:00:00",
          "2016-04-14T00:00:00",
          "2016-04-15T00:00:00",
          "2016-04-16T00:00:00",
          "2016-04-17T00:00:00",
          "2016-04-18T00:00:00",
          "2016-04-19T00:00:00",
          "2016-04-20T00:00:00",
          "2016-04-21T00:00:00",
          "2016-04-22T00:00:00",
          "2016-04-23T00:00:00",
          "2016-04-24T00:00:00",
          "2016-04-25T00:00:00",
          "2016-04-26T00:00:00",
          "2016-04-27T00:00:00",
          "2016-04-28T00:00:00",
          "2016-04-29T00:00:00",
          "2016-04-30T00:00:00",
          "2016-05-01T00:00:00",
          "2016-05-02T00:00:00",
          "2016-05-03T00:00:00",
          "2016-05-04T00:00:00",
          "2016-05-05T00:00:00",
          "2016-05-06T00:00:00",
          "2016-05-07T00:00:00",
          "2016-05-08T00:00:00",
          "2016-05-09T00:00:00",
          "2016-05-10T00:00:00",
          "2016-05-11T00:00:00",
          "2016-05-12T00:00:00",
          "2016-05-13T00:00:00",
          "2016-05-14T00:00:00",
          "2016-05-15T00:00:00",
          "2016-05-16T00:00:00",
          "2016-05-17T00:00:00",
          "2016-05-18T00:00:00",
          "2016-05-19T00:00:00",
          "2016-05-20T00:00:00",
          "2016-05-21T00:00:00",
          "2016-05-22T00:00:00",
          "2016-05-23T00:00:00",
          "2016-05-24T00:00:00",
          "2016-05-25T00:00:00",
          "2016-05-26T00:00:00",
          "2016-05-27T00:00:00",
          "2016-05-28T00:00:00",
          "2016-05-29T00:00:00",
          "2016-05-30T00:00:00",
          "2016-05-31T00:00:00",
          "2016-06-01T00:00:00",
          "2016-06-02T00:00:00",
          "2016-06-03T00:00:00",
          "2016-06-04T00:00:00",
          "2016-06-05T00:00:00",
          "2016-06-06T00:00:00",
          "2016-06-07T00:00:00",
          "2016-06-08T00:00:00",
          "2016-06-09T00:00:00",
          "2016-06-10T00:00:00",
          "2016-06-11T00:00:00",
          "2016-06-12T00:00:00",
          "2016-06-13T00:00:00",
          "2016-06-14T00:00:00",
          "2016-06-15T00:00:00",
          "2016-06-16T00:00:00",
          "2016-06-17T00:00:00",
          "2016-06-18T00:00:00",
          "2016-06-19T00:00:00",
          "2016-06-20T00:00:00",
          "2016-06-21T00:00:00",
          "2016-06-22T00:00:00",
          "2016-06-23T00:00:00",
          "2016-06-24T00:00:00",
          "2016-06-25T00:00:00",
          "2016-06-26T00:00:00",
          "2016-06-27T00:00:00",
          "2016-06-28T00:00:00",
          "2016-06-29T00:00:00",
          "2016-06-30T00:00:00",
          "2016-07-01T00:00:00",
          "2016-07-02T00:00:00",
          "2016-07-03T00:00:00",
          "2016-07-04T00:00:00",
          "2016-07-05T00:00:00",
          "2016-07-06T00:00:00",
          "2016-07-07T00:00:00",
          "2016-07-08T00:00:00",
          "2016-07-09T00:00:00",
          "2016-07-10T00:00:00",
          "2016-07-11T00:00:00",
          "2016-07-12T00:00:00",
          "2016-07-13T00:00:00",
          "2016-07-14T00:00:00",
          "2016-07-15T00:00:00",
          "2016-07-16T00:00:00",
          "2016-07-17T00:00:00",
          "2016-07-18T00:00:00",
          "2016-07-19T00:00:00",
          "2016-07-20T00:00:00",
          "2016-07-21T00:00:00",
          "2016-07-22T00:00:00",
          "2016-07-23T00:00:00",
          "2016-07-24T00:00:00",
          "2016-07-25T00:00:00",
          "2016-07-26T00:00:00",
          "2016-07-27T00:00:00",
          "2016-07-28T00:00:00",
          "2016-07-29T00:00:00",
          "2016-07-30T00:00:00",
          "2016-07-31T00:00:00",
          "2016-08-01T00:00:00",
          "2016-08-02T00:00:00",
          "2016-08-03T00:00:00",
          "2016-08-04T00:00:00",
          "2016-08-05T00:00:00",
          "2016-08-06T00:00:00",
          "2016-08-07T00:00:00",
          "2016-08-08T00:00:00",
          "2016-08-09T00:00:00",
          "2016-08-10T00:00:00",
          "2016-08-11T00:00:00",
          "2016-08-12T00:00:00",
          "2016-08-13T00:00:00",
          "2016-08-14T00:00:00",
          "2016-08-15T00:00:00",
          "2016-08-16T00:00:00",
          "2016-08-17T00:00:00",
          "2016-08-18T00:00:00",
          "2016-08-19T00:00:00",
          "2016-08-20T00:00:00",
          "2016-08-21T00:00:00",
          "2016-08-22T00:00:00",
          "2016-08-23T00:00:00",
          "2016-08-24T00:00:00",
          "2016-08-25T00:00:00",
          "2016-08-26T00:00:00",
          "2016-08-27T00:00:00",
          "2016-08-28T00:00:00",
          "2016-08-29T00:00:00",
          "2016-08-30T00:00:00",
          "2016-08-31T00:00:00",
          "2016-09-01T00:00:00",
          "2016-09-02T00:00:00",
          "2016-09-03T00:00:00",
          "2016-09-04T00:00:00",
          "2016-09-05T00:00:00",
          "2016-09-06T00:00:00",
          "2016-09-07T00:00:00",
          "2016-09-08T00:00:00",
          "2016-09-09T00:00:00",
          "2016-09-10T00:00:00",
          "2016-09-11T00:00:00",
          "2016-09-12T00:00:00",
          "2016-09-13T00:00:00",
          "2016-09-14T00:00:00",
          "2016-09-15T00:00:00",
          "2016-09-16T00:00:00",
          "2016-09-17T00:00:00",
          "2016-09-18T00:00:00",
          "2016-09-19T00:00:00",
          "2016-09-20T00:00:00",
          "2016-09-21T00:00:00",
          "2016-09-22T00:00:00",
          "2016-09-23T00:00:00",
          "2016-09-24T00:00:00",
          "2016-09-25T00:00:00",
          "2016-09-26T00:00:00",
          "2016-09-27T00:00:00",
          "2016-09-28T00:00:00",
          "2016-09-29T00:00:00",
          "2016-09-30T00:00:00",
          "2016-10-01T00:00:00",
          "2016-10-02T00:00:00",
          "2016-10-03T00:00:00",
          "2016-10-04T00:00:00",
          "2016-10-05T00:00:00",
          "2016-10-06T00:00:00",
          "2016-10-07T00:00:00",
          "2016-10-08T00:00:00",
          "2016-10-09T00:00:00",
          "2016-10-10T00:00:00",
          "2016-10-11T00:00:00",
          "2016-10-12T00:00:00",
          "2016-10-13T00:00:00",
          "2016-10-14T00:00:00",
          "2016-10-15T00:00:00",
          "2016-10-16T00:00:00",
          "2016-10-17T00:00:00",
          "2016-10-18T00:00:00",
          "2016-10-19T00:00:00",
          "2016-10-20T00:00:00",
          "2016-10-21T00:00:00",
          "2016-10-22T00:00:00",
          "2016-10-23T00:00:00",
          "2016-10-24T00:00:00",
          "2016-10-25T00:00:00",
          "2016-10-26T00:00:00",
          "2016-10-27T00:00:00",
          "2016-10-28T00:00:00",
          "2016-10-29T00:00:00",
          "2016-10-30T00:00:00",
          "2016-10-31T00:00:00",
          "2016-11-01T00:00:00",
          "2016-11-02T00:00:00",
          "2016-11-03T00:00:00",
          "2016-11-04T00:00:00",
          "2016-11-05T00:00:00",
          "2016-11-06T00:00:00",
          "2016-11-07T00:00:00",
          "2016-11-08T00:00:00",
          "2016-11-09T00:00:00",
          "2016-11-10T00:00:00",
          "2016-11-11T00:00:00",
          "2016-11-12T00:00:00",
          "2016-11-13T00:00:00",
          "2016-11-14T00:00:00",
          "2016-11-15T00:00:00",
          "2016-11-16T00:00:00",
          "2016-11-17T00:00:00",
          "2016-11-18T00:00:00",
          "2016-11-19T00:00:00",
          "2016-11-20T00:00:00",
          "2016-11-21T00:00:00",
          "2016-11-22T00:00:00",
          "2016-11-23T00:00:00",
          "2016-11-24T00:00:00",
          "2016-11-25T00:00:00",
          "2016-11-26T00:00:00",
          "2016-11-27T00:00:00",
          "2016-11-28T00:00:00",
          "2016-11-29T00:00:00",
          "2016-11-30T00:00:00",
          "2016-12-01T00:00:00",
          "2016-12-02T00:00:00",
          "2016-12-03T00:00:00",
          "2016-12-04T00:00:00",
          "2016-12-05T00:00:00",
          "2016-12-06T00:00:00",
          "2016-12-07T00:00:00",
          "2016-12-08T00:00:00",
          "2016-12-09T00:00:00",
          "2016-12-10T00:00:00",
          "2016-12-11T00:00:00",
          "2016-12-12T00:00:00",
          "2016-12-13T00:00:00",
          "2016-12-14T00:00:00",
          "2016-12-15T00:00:00",
          "2016-12-16T00:00:00",
          "2016-12-17T00:00:00",
          "2016-12-18T00:00:00",
          "2016-12-19T00:00:00",
          "2016-12-20T00:00:00",
          "2016-12-21T00:00:00",
          "2016-12-22T00:00:00",
          "2016-12-23T00:00:00",
          "2016-12-24T00:00:00",
          "2016-12-25T00:00:00",
          "2016-12-26T00:00:00",
          "2016-12-27T00:00:00",
          "2016-12-28T00:00:00",
          "2016-12-29T00:00:00",
          "2016-12-30T00:00:00",
          "2016-12-31T00:00:00",
          "2017-01-01T00:00:00",
          "2017-01-02T00:00:00"
         ],
         "y": [
          45.440000000000005,
          48.9,
          47.83,
          46.52,
          46.67,
          48.61,
          52.62,
          54.48,
          55.37,
          54.92,
          53.949999999999996,
          52.07000000000001,
          51.35999999999999,
          54.269999999999996,
          58.43000000000001,
          59.56,
          59.95,
          59.06,
          58.46,
          58.56,
          60.14000000000001,
          61.550000000000004,
          61.71,
          61.050000000000004,
          59.61,
          59.19,
          59.25,
          62.019999999999996,
          63.2,
          63.85999999999999,
          63.88,
          62.6,
          62.470000000000006,
          62.339999999999996,
          65.01,
          65.82000000000001,
          66.24,
          66.29,
          65.09,
          64.56,
          63.78,
          64.33,
          66.24,
          67.02,
          67.17999999999999,
          67.08,
          67.44,
          67.73,
          68.75,
          68.78,
          68.86,
          68.60000000000001,
          68.07,
          68.41000000000001,
          68.31,
          68.81,
          69.67,
          69.88,
          69.88,
          69.75,
          70.22,
          70.25,
          71.06,
          70.59,
          70.48,
          70.43,
          70.38,
          70.43,
          70.00999999999999,
          70.72,
          70.77,
          70.87,
          71.27,
          71.37,
          71.71,
          71.32,
          71.28999999999999,
          70.93,
          70.77,
          70.87,
          70.48,
          70.72,
          71.41999999999999,
          72.28999999999999,
          72.13000000000001,
          72.05,
          71.97,
          72.16,
          73.07000000000001,
          64.72,
          65.4,
          65.61,
          65.77,
          65.24,
          64.33,
          64.42999999999999,
          64.46,
          65.56,
          66.29,
          66.42,
          66.5,
          66.4,
          66.71000000000001,
          66.74,
          66.75999999999999,
          66.74,
          66.67999999999999,
          66.42,
          66.36999999999999,
          66.45,
          66.36999999999999,
          66.47,
          66.67999999999999,
          66.82000000000001,
          66.89,
          67,
          67.21000000000001,
          67.02,
          67.34,
          67.21000000000001,
          67.13,
          66.95,
          67.10000000000001,
          67.75999999999999,
          67.65,
          67.75999999999999,
          67.71000000000001,
          67.71000000000001,
          67.67999999999999,
          67.5,
          67.29,
          67.47,
          67.75999999999999,
          67.92,
          67.94,
          67.92,
          67.44,
          67.65,
          67.67999999999999,
          67.71000000000001,
          68.05,
          67.97,
          67.75999999999999,
          67.13,
          67.29,
          67.5,
          67.5,
          67.65,
          67.5,
          67.5,
          67.25999999999999,
          67.10000000000001,
          66.95,
          67.16,
          67.36999999999999,
          67.5,
          67.29,
          66.58,
          65.85,
          65.85,
          66.4,
          66.92,
          67.13,
          67.13,
          67.17999999999999,
          67.23,
          67.29,
          67.71000000000001,
          67.84,
          68.12,
          68.02,
          67.81,
          67.94,
          68.05,
          68.28,
          68.39,
          68.52000000000001,
          68.47,
          68.36,
          61.550000000000004,
          61.79,
          61.919999999999995,
          62.1,
          62.519999999999996,
          62.6,
          62.68,
          62.55,
          62.64999999999999,
          62.94,
          62.86000000000001,
          62.68,
          62.73,
          62.55,
          62.64999999999999,
          62.64999999999999,
          62.89,
          63.019999999999996,
          63.2,
          63.12,
          63.12,
          62.96000000000001,
          62.760000000000005,
          62.89,
          62.7,
          62.94,
          63.1,
          63.04,
          63.019999999999996,
          62.78,
          63.07000000000001,
          62.94,
          62.96000000000001,
          63.2,
          63.24999999999999,
          63.36000000000001,
          63.51,
          63.62,
          63.99,
          63.85999999999999,
          64.01,
          63.93,
          64.25,
          64.35,
          64.25,
          64.53999999999999,
          64.42999999999999,
          64.67,
          64.59,
          64.64,
          64.72,
          64.96,
          65.16999999999999,
          65.3,
          65.32,
          65.27,
          65.51,
          65.64,
          65.66,
          65.74,
          65.86999999999999,
          66.16,
          65.98,
          65.92,
          66.06,
          66.42,
          66.63,
          66.95,
          67.02,
          67.08,
          67.25999999999999,
          67.29,
          67.29,
          67.36999999999999,
          67.31,
          67.34,
          67.34,
          67.44,
          67.52,
          67.52,
          67.57,
          67.60000000000001,
          67.67999999999999,
          67.99,
          68.12,
          68.17999999999999,
          68.28,
          68.28,
          68.33,
          68.39,
          68.44,
          68.60000000000001,
          68.67,
          69.22,
          69.33,
          69.33,
          69.33,
          69.38,
          69.49,
          69.49,
          69.46,
          69.41000000000001,
          69.41000000000001,
          69.49,
          69.49,
          69.62,
          69.62,
          69.59,
          69.62,
          69.67,
          69.67,
          69.75,
          69.85,
          69.88,
          69.85,
          69.93,
          69.88,
          69.93,
          69.98,
          70.12,
          70.22,
          70.25,
          70.27,
          70.38,
          70.46,
          70.56,
          70.64,
          70.67,
          70.98,
          70.98,
          71.00999999999999,
          71.03,
          71.03,
          71.19,
          71.28999999999999,
          71.28999999999999,
          71.35000000000001,
          71.37,
          71.41999999999999,
          71.41999999999999,
          71.56,
          71.58,
          71.61,
          71.69,
          71.87,
          71.92,
          71.92,
          72,
          72,
          72.08,
          72.11,
          72.24000000000001,
          72.32,
          72.47,
          72.58,
          72.63,
          72.87,
          72.92,
          73.02,
          73.07000000000001,
          73.13,
          73.15,
          73.21,
          73.21,
          73.28,
          73.31,
          73.42,
          73.57000000000001,
          73.68,
          73.72999999999999,
          73.78,
          73.81,
          73.81,
          73.83,
          73.86,
          73.91,
          73.91,
          74.1,
          74.15,
          74.15,
          74.2,
          74.25,
          74.38,
          74.88,
          76.53,
          72.71
         ]
        },
        {
         "mode": "lines",
         "name": "Boston",
         "text": "avg availability in %",
         "type": "scatter",
         "x": [
          "2016-09-06T00:00:00",
          "2016-09-07T00:00:00",
          "2016-09-08T00:00:00",
          "2016-09-09T00:00:00",
          "2016-09-10T00:00:00",
          "2016-09-11T00:00:00",
          "2016-09-12T00:00:00",
          "2016-09-13T00:00:00",
          "2016-09-14T00:00:00",
          "2016-09-15T00:00:00",
          "2016-09-16T00:00:00",
          "2016-09-17T00:00:00",
          "2016-09-18T00:00:00",
          "2016-09-19T00:00:00",
          "2016-09-20T00:00:00",
          "2016-09-21T00:00:00",
          "2016-09-22T00:00:00",
          "2016-09-23T00:00:00",
          "2016-09-24T00:00:00",
          "2016-09-25T00:00:00",
          "2016-09-26T00:00:00",
          "2016-09-27T00:00:00",
          "2016-09-28T00:00:00",
          "2016-09-29T00:00:00",
          "2016-09-30T00:00:00",
          "2016-10-01T00:00:00",
          "2016-10-02T00:00:00",
          "2016-10-03T00:00:00",
          "2016-10-04T00:00:00",
          "2016-10-05T00:00:00",
          "2016-10-06T00:00:00",
          "2016-10-07T00:00:00",
          "2016-10-08T00:00:00",
          "2016-10-09T00:00:00",
          "2016-10-10T00:00:00",
          "2016-10-11T00:00:00",
          "2016-10-12T00:00:00",
          "2016-10-13T00:00:00",
          "2016-10-14T00:00:00",
          "2016-10-15T00:00:00",
          "2016-10-16T00:00:00",
          "2016-10-17T00:00:00",
          "2016-10-18T00:00:00",
          "2016-10-19T00:00:00",
          "2016-10-20T00:00:00",
          "2016-10-21T00:00:00",
          "2016-10-22T00:00:00",
          "2016-10-23T00:00:00",
          "2016-10-24T00:00:00",
          "2016-10-25T00:00:00",
          "2016-10-26T00:00:00",
          "2016-10-27T00:00:00",
          "2016-10-28T00:00:00",
          "2016-10-29T00:00:00",
          "2016-10-30T00:00:00",
          "2016-10-31T00:00:00",
          "2016-11-01T00:00:00",
          "2016-11-02T00:00:00",
          "2016-11-03T00:00:00",
          "2016-11-04T00:00:00",
          "2016-11-05T00:00:00",
          "2016-11-06T00:00:00",
          "2016-11-07T00:00:00",
          "2016-11-08T00:00:00",
          "2016-11-09T00:00:00",
          "2016-11-10T00:00:00",
          "2016-11-11T00:00:00",
          "2016-11-12T00:00:00",
          "2016-11-13T00:00:00",
          "2016-11-14T00:00:00",
          "2016-11-15T00:00:00",
          "2016-11-16T00:00:00",
          "2016-11-17T00:00:00",
          "2016-11-18T00:00:00",
          "2016-11-19T00:00:00",
          "2016-11-20T00:00:00",
          "2016-11-21T00:00:00",
          "2016-11-22T00:00:00",
          "2016-11-23T00:00:00",
          "2016-11-24T00:00:00",
          "2016-11-25T00:00:00",
          "2016-11-26T00:00:00",
          "2016-11-27T00:00:00",
          "2016-11-28T00:00:00",
          "2016-11-29T00:00:00",
          "2016-11-30T00:00:00",
          "2016-12-01T00:00:00",
          "2016-12-02T00:00:00",
          "2016-12-03T00:00:00",
          "2016-12-04T00:00:00",
          "2016-12-05T00:00:00",
          "2016-12-06T00:00:00",
          "2016-12-07T00:00:00",
          "2016-12-08T00:00:00",
          "2016-12-09T00:00:00",
          "2016-12-10T00:00:00",
          "2016-12-11T00:00:00",
          "2016-12-12T00:00:00",
          "2016-12-13T00:00:00",
          "2016-12-14T00:00:00",
          "2016-12-15T00:00:00",
          "2016-12-16T00:00:00",
          "2016-12-17T00:00:00",
          "2016-12-18T00:00:00",
          "2016-12-19T00:00:00",
          "2016-12-20T00:00:00",
          "2016-12-21T00:00:00",
          "2016-12-22T00:00:00",
          "2016-12-23T00:00:00",
          "2016-12-24T00:00:00",
          "2016-12-25T00:00:00",
          "2016-12-26T00:00:00",
          "2016-12-27T00:00:00",
          "2016-12-28T00:00:00",
          "2016-12-29T00:00:00",
          "2016-12-30T00:00:00",
          "2016-12-31T00:00:00",
          "2017-01-01T00:00:00",
          "2017-01-02T00:00:00",
          "2017-01-03T00:00:00",
          "2017-01-04T00:00:00",
          "2017-01-05T00:00:00",
          "2017-01-06T00:00:00",
          "2017-01-07T00:00:00",
          "2017-01-08T00:00:00",
          "2017-01-09T00:00:00",
          "2017-01-10T00:00:00",
          "2017-01-11T00:00:00",
          "2017-01-12T00:00:00",
          "2017-01-13T00:00:00",
          "2017-01-14T00:00:00",
          "2017-01-15T00:00:00",
          "2017-01-16T00:00:00",
          "2017-01-17T00:00:00",
          "2017-01-18T00:00:00",
          "2017-01-19T00:00:00",
          "2017-01-20T00:00:00",
          "2017-01-21T00:00:00",
          "2017-01-22T00:00:00",
          "2017-01-23T00:00:00",
          "2017-01-24T00:00:00",
          "2017-01-25T00:00:00",
          "2017-01-26T00:00:00",
          "2017-01-27T00:00:00",
          "2017-01-28T00:00:00",
          "2017-01-29T00:00:00",
          "2017-01-30T00:00:00",
          "2017-01-31T00:00:00",
          "2017-02-01T00:00:00",
          "2017-02-02T00:00:00",
          "2017-02-03T00:00:00",
          "2017-02-04T00:00:00",
          "2017-02-05T00:00:00",
          "2017-02-06T00:00:00",
          "2017-02-07T00:00:00",
          "2017-02-08T00:00:00",
          "2017-02-09T00:00:00",
          "2017-02-10T00:00:00",
          "2017-02-11T00:00:00",
          "2017-02-12T00:00:00",
          "2017-02-13T00:00:00",
          "2017-02-14T00:00:00",
          "2017-02-15T00:00:00",
          "2017-02-16T00:00:00",
          "2017-02-17T00:00:00",
          "2017-02-18T00:00:00",
          "2017-02-19T00:00:00",
          "2017-02-20T00:00:00",
          "2017-02-21T00:00:00",
          "2017-02-22T00:00:00",
          "2017-02-23T00:00:00",
          "2017-02-24T00:00:00",
          "2017-02-25T00:00:00",
          "2017-02-26T00:00:00",
          "2017-02-27T00:00:00",
          "2017-02-28T00:00:00",
          "2017-03-01T00:00:00",
          "2017-03-02T00:00:00",
          "2017-03-03T00:00:00",
          "2017-03-04T00:00:00",
          "2017-03-05T00:00:00",
          "2017-03-06T00:00:00",
          "2017-03-07T00:00:00",
          "2017-03-08T00:00:00",
          "2017-03-09T00:00:00",
          "2017-03-10T00:00:00",
          "2017-03-11T00:00:00",
          "2017-03-12T00:00:00",
          "2017-03-13T00:00:00",
          "2017-03-14T00:00:00",
          "2017-03-15T00:00:00",
          "2017-03-16T00:00:00",
          "2017-03-17T00:00:00",
          "2017-03-18T00:00:00",
          "2017-03-19T00:00:00",
          "2017-03-20T00:00:00",
          "2017-03-21T00:00:00",
          "2017-03-22T00:00:00",
          "2017-03-23T00:00:00",
          "2017-03-24T00:00:00",
          "2017-03-25T00:00:00",
          "2017-03-26T00:00:00",
          "2017-03-27T00:00:00",
          "2017-03-28T00:00:00",
          "2017-03-29T00:00:00",
          "2017-03-30T00:00:00",
          "2017-03-31T00:00:00",
          "2017-04-01T00:00:00",
          "2017-04-02T00:00:00",
          "2017-04-03T00:00:00",
          "2017-04-04T00:00:00",
          "2017-04-05T00:00:00",
          "2017-04-06T00:00:00",
          "2017-04-07T00:00:00",
          "2017-04-08T00:00:00",
          "2017-04-09T00:00:00",
          "2017-04-10T00:00:00",
          "2017-04-11T00:00:00",
          "2017-04-12T00:00:00",
          "2017-04-13T00:00:00",
          "2017-04-14T00:00:00",
          "2017-04-15T00:00:00",
          "2017-04-16T00:00:00",
          "2017-04-17T00:00:00",
          "2017-04-18T00:00:00",
          "2017-04-19T00:00:00",
          "2017-04-20T00:00:00",
          "2017-04-21T00:00:00",
          "2017-04-22T00:00:00",
          "2017-04-23T00:00:00",
          "2017-04-24T00:00:00",
          "2017-04-25T00:00:00",
          "2017-04-26T00:00:00",
          "2017-04-27T00:00:00",
          "2017-04-28T00:00:00",
          "2017-04-29T00:00:00",
          "2017-04-30T00:00:00",
          "2017-05-01T00:00:00",
          "2017-05-02T00:00:00",
          "2017-05-03T00:00:00",
          "2017-05-04T00:00:00",
          "2017-05-05T00:00:00",
          "2017-05-06T00:00:00",
          "2017-05-07T00:00:00",
          "2017-05-08T00:00:00",
          "2017-05-09T00:00:00",
          "2017-05-10T00:00:00",
          "2017-05-11T00:00:00",
          "2017-05-12T00:00:00",
          "2017-05-13T00:00:00",
          "2017-05-14T00:00:00",
          "2017-05-15T00:00:00",
          "2017-05-16T00:00:00",
          "2017-05-17T00:00:00",
          "2017-05-18T00:00:00",
          "2017-05-19T00:00:00",
          "2017-05-20T00:00:00",
          "2017-05-21T00:00:00",
          "2017-05-22T00:00:00",
          "2017-05-23T00:00:00",
          "2017-05-24T00:00:00",
          "2017-05-25T00:00:00",
          "2017-05-26T00:00:00",
          "2017-05-27T00:00:00",
          "2017-05-28T00:00:00",
          "2017-05-29T00:00:00",
          "2017-05-30T00:00:00",
          "2017-05-31T00:00:00",
          "2017-06-01T00:00:00",
          "2017-06-02T00:00:00",
          "2017-06-03T00:00:00",
          "2017-06-04T00:00:00",
          "2017-06-05T00:00:00",
          "2017-06-06T00:00:00",
          "2017-06-07T00:00:00",
          "2017-06-08T00:00:00",
          "2017-06-09T00:00:00",
          "2017-06-10T00:00:00",
          "2017-06-11T00:00:00",
          "2017-06-12T00:00:00",
          "2017-06-13T00:00:00",
          "2017-06-14T00:00:00",
          "2017-06-15T00:00:00",
          "2017-06-16T00:00:00",
          "2017-06-17T00:00:00",
          "2017-06-18T00:00:00",
          "2017-06-19T00:00:00",
          "2017-06-20T00:00:00",
          "2017-06-21T00:00:00",
          "2017-06-22T00:00:00",
          "2017-06-23T00:00:00",
          "2017-06-24T00:00:00",
          "2017-06-25T00:00:00",
          "2017-06-26T00:00:00",
          "2017-06-27T00:00:00",
          "2017-06-28T00:00:00",
          "2017-06-29T00:00:00",
          "2017-06-30T00:00:00",
          "2017-07-01T00:00:00",
          "2017-07-02T00:00:00",
          "2017-07-03T00:00:00",
          "2017-07-04T00:00:00",
          "2017-07-05T00:00:00",
          "2017-07-06T00:00:00",
          "2017-07-07T00:00:00",
          "2017-07-08T00:00:00",
          "2017-07-09T00:00:00",
          "2017-07-10T00:00:00",
          "2017-07-11T00:00:00",
          "2017-07-12T00:00:00",
          "2017-07-13T00:00:00",
          "2017-07-14T00:00:00",
          "2017-07-15T00:00:00",
          "2017-07-16T00:00:00",
          "2017-07-17T00:00:00",
          "2017-07-18T00:00:00",
          "2017-07-19T00:00:00",
          "2017-07-20T00:00:00",
          "2017-07-21T00:00:00",
          "2017-07-22T00:00:00",
          "2017-07-23T00:00:00",
          "2017-07-24T00:00:00",
          "2017-07-25T00:00:00",
          "2017-07-26T00:00:00",
          "2017-07-27T00:00:00",
          "2017-07-28T00:00:00",
          "2017-07-29T00:00:00",
          "2017-07-30T00:00:00",
          "2017-07-31T00:00:00",
          "2017-08-01T00:00:00",
          "2017-08-02T00:00:00",
          "2017-08-03T00:00:00",
          "2017-08-04T00:00:00",
          "2017-08-05T00:00:00",
          "2017-08-06T00:00:00",
          "2017-08-07T00:00:00",
          "2017-08-08T00:00:00",
          "2017-08-09T00:00:00",
          "2017-08-10T00:00:00",
          "2017-08-11T00:00:00",
          "2017-08-12T00:00:00",
          "2017-08-13T00:00:00",
          "2017-08-14T00:00:00",
          "2017-08-15T00:00:00",
          "2017-08-16T00:00:00",
          "2017-08-17T00:00:00",
          "2017-08-18T00:00:00",
          "2017-08-19T00:00:00",
          "2017-08-20T00:00:00",
          "2017-08-21T00:00:00",
          "2017-08-22T00:00:00",
          "2017-08-23T00:00:00",
          "2017-08-24T00:00:00",
          "2017-08-25T00:00:00",
          "2017-08-26T00:00:00",
          "2017-08-27T00:00:00",
          "2017-08-28T00:00:00",
          "2017-08-29T00:00:00",
          "2017-08-30T00:00:00",
          "2017-08-31T00:00:00",
          "2017-09-01T00:00:00",
          "2017-09-02T00:00:00",
          "2017-09-03T00:00:00",
          "2017-09-04T00:00:00",
          "2017-09-05T00:00:00"
         ],
         "y": [
          15.9,
          25.990000000000002,
          27.860000000000003,
          27.36,
          26.66,
          27.439999999999998,
          25.240000000000002,
          23.98,
          22.17,
          21.61,
          21.44,
          22.39,
          28.499999999999996,
          31.15,
          32.12,
          31.619999999999997,
          29.48,
          27.72,
          25.4,
          30.34,
          31.369999999999997,
          31.759999999999998,
          33.660000000000004,
          30.4,
          28.89,
          30.12,
          35.809999999999995,
          39.32,
          40.38,
          39.24,
          37.14,
          33.97,
          34.050000000000004,
          39.35,
          42.89,
          43.78,
          43,
          41.63,
          39.18,
          37.31,
          38.82,
          40.8,
          43.39,
          43.169999999999995,
          40.63,
          37.980000000000004,
          38.46,
          44.2,
          47.82,
          47.63,
          47.8,
          46.989999999999995,
          46.82,
          48.05,
          50.7,
          51.980000000000004,
          52.480000000000004,
          52.59,
          52.65,
          53.54,
          54.04,
          55.08,
          53.43,
          51.73,
          51.449999999999996,
          49.25,
          50,
          51.51,
          53.49,
          55.19,
          56.269999999999996,
          55.52,
          52.56999999999999,
          52.2,
          52.839999999999996,
          56.36,
          57.89,
          57.330000000000005,
          57.38999999999999,
          57.64,
          57.67,
          58.230000000000004,
          58.230000000000004,
          58.17,
          58.56,
          58.87,
          59.34,
          60.35,
          60.74,
          61.53999999999999,
          52.980000000000004,
          53.06999999999999,
          53.1,
          53.15,
          53.56999999999999,
          53.82,
          53.63,
          53.56999999999999,
          53.68000000000001,
          53.790000000000006,
          53.900000000000006,
          54.410000000000004,
          54.6,
          54.410000000000004,
          54.16,
          54.269999999999996,
          54.49,
          54.49,
          54.06999999999999,
          53.93,
          54.04,
          53.879999999999995,
          54.1,
          54.63,
          54.63,
          55.300000000000004,
          55.35,
          56.53,
          56.53,
          56.410000000000004,
          56.64,
          56.86,
          57.03,
          57.11000000000001,
          56.8,
          56.8,
          56.86,
          56.940000000000005,
          56.940000000000005,
          57.25,
          57.31,
          57.03,
          57.11000000000001,
          56.99999999999999,
          57.03,
          57.08,
          56.92,
          56.92,
          56.720000000000006,
          56.53,
          56.53,
          56.58,
          56.61000000000001,
          56.830000000000005,
          56.88999999999999,
          56.720000000000006,
          56.66,
          56.720000000000006,
          56.13,
          56.11000000000001,
          56.36,
          56.36,
          56.269999999999996,
          56.220000000000006,
          56.220000000000006,
          56.25,
          56.25,
          56.49999999999999,
          56.58,
          56.44,
          56.410000000000004,
          56.44,
          56.53,
          56.55,
          56.940000000000005,
          56.940000000000005,
          56.88999999999999,
          56.779999999999994,
          56.779999999999994,
          56.88999999999999,
          56.8,
          56.92,
          56.88999999999999,
          56.88999999999999,
          56.92,
          56.97,
          56.36,
          56.36,
          56.49999999999999,
          56.53,
          48.58,
          48.49,
          48.49,
          48.49,
          48.38,
          48.55,
          48.55,
          48.52,
          48.49,
          48.55,
          48.58,
          48.55,
          48.66,
          48.61,
          48.69,
          48.58,
          48.72,
          48.72,
          48.75,
          48.91,
          48.97,
          48.83,
          48.66,
          48.72,
          48.69,
          48.61,
          48.72,
          48.86,
          48.8,
          48.55,
          48.55,
          48.52,
          48.55,
          48.63,
          48.63,
          48.61,
          48.41,
          48.24,
          48.16,
          47.3,
          45.12,
          43.08,
          42.75,
          43.08,
          46.96,
          48.1,
          48.52,
          48.83,
          48.63,
          48.38,
          48.3,
          48.3,
          48.33,
          48.35,
          48.47,
          48.66,
          49.16,
          48.49,
          48.52,
          48.41,
          48.05,
          48.22,
          48.27,
          48.58,
          48.52,
          48.63,
          48.52,
          48.3,
          48.41,
          48.33,
          48.3,
          48.35,
          48.58,
          48.47,
          47.77,
          47.55,
          47.13,
          47.21,
          47.43,
          47.660000000000004,
          47.52,
          47.52,
          48.41,
          48.47,
          48.69,
          48.77,
          48.8,
          48.83,
          48.83,
          49.14,
          49.08,
          49.08,
          48.97,
          49.02,
          48.66,
          48.38,
          48.58,
          49,
          48.97,
          48.97,
          49.05,
          49.08,
          49,
          49.16,
          49.16,
          49.11,
          48.97,
          49,
          49,
          48.94,
          49.220000000000006,
          49.36,
          49.27,
          49.11,
          49.11,
          49.08,
          49.08,
          49.11,
          49.16,
          49.16,
          49.16,
          49.16,
          49.3,
          49.27,
          49.39,
          49.53,
          49.44,
          49.36,
          49.33,
          49.44,
          49.41,
          49.47,
          49.58,
          49.53,
          49.41,
          49.41,
          49.39,
          49.39,
          49.58,
          49.64,
          49.58,
          49.53,
          49.55,
          49.53,
          49.5,
          49.64,
          49.669999999999995,
          49.61,
          49.58,
          49.69,
          49.72,
          49.75,
          49.86,
          49.8,
          49.919999999999995,
          49.78,
          49.830000000000005,
          49.830000000000005,
          49.830000000000005,
          49.919999999999995,
          49.89,
          49.94,
          49.919999999999995,
          49.94,
          49.94,
          50,
          50.080000000000005,
          50.11,
          50.080000000000005,
          50.11,
          50.17,
          50.22,
          50.22,
          50.22,
          50.22,
          50.080000000000005,
          50.029999999999994,
          50.080000000000005,
          50.06,
          50.11,
          50.06,
          50.13999999999999,
          50.24999999999999,
          50.22,
          50.22
         ]
        }
       ],
       "layout": {
        "template": {
         "data": {
          "bar": [
           {
            "error_x": {
             "color": "#2a3f5f"
            },
            "error_y": {
             "color": "#2a3f5f"
            },
            "marker": {
             "line": {
              "color": "#E5ECF6",
              "width": 0.5
             }
            },
            "type": "bar"
           }
          ],
          "barpolar": [
           {
            "marker": {
             "line": {
              "color": "#E5ECF6",
              "width": 0.5
             }
            },
            "type": "barpolar"
           }
          ],
          "carpet": [
           {
            "aaxis": {
             "endlinecolor": "#2a3f5f",
             "gridcolor": "white",
             "linecolor": "white",
             "minorgridcolor": "white",
             "startlinecolor": "#2a3f5f"
            },
            "baxis": {
             "endlinecolor": "#2a3f5f",
             "gridcolor": "white",
             "linecolor": "white",
             "minorgridcolor": "white",
             "startlinecolor": "#2a3f5f"
            },
            "type": "carpet"
           }
          ],
          "choropleth": [
           {
            "colorbar": {
             "outlinewidth": 0,
             "ticks": ""
            },
            "type": "choropleth"
           }
          ],
          "contour": [
           {
            "colorbar": {
             "outlinewidth": 0,
             "ticks": ""
            },
            "colorscale": [
             [
              0,
              "#0d0887"
             ],
             [
              0.1111111111111111,
              "#46039f"
             ],
             [
              0.2222222222222222,
              "#7201a8"
             ],
             [
              0.3333333333333333,
              "#9c179e"
             ],
             [
              0.4444444444444444,
              "#bd3786"
             ],
             [
              0.5555555555555556,
              "#d8576b"
             ],
             [
              0.6666666666666666,
              "#ed7953"
             ],
             [
              0.7777777777777778,
              "#fb9f3a"
             ],
             [
              0.8888888888888888,
              "#fdca26"
             ],
             [
              1,
              "#f0f921"
             ]
            ],
            "type": "contour"
           }
          ],
          "contourcarpet": [
           {
            "colorbar": {
             "outlinewidth": 0,
             "ticks": ""
            },
            "type": "contourcarpet"
           }
          ],
          "heatmap": [
           {
            "colorbar": {
             "outlinewidth": 0,
             "ticks": ""
            },
            "colorscale": [
             [
              0,
              "#0d0887"
             ],
             [
              0.1111111111111111,
              "#46039f"
             ],
             [
              0.2222222222222222,
              "#7201a8"
             ],
             [
              0.3333333333333333,
              "#9c179e"
             ],
             [
              0.4444444444444444,
              "#bd3786"
             ],
             [
              0.5555555555555556,
              "#d8576b"
             ],
             [
              0.6666666666666666,
              "#ed7953"
             ],
             [
              0.7777777777777778,
              "#fb9f3a"
             ],
             [
              0.8888888888888888,
              "#fdca26"
             ],
             [
              1,
              "#f0f921"
             ]
            ],
            "type": "heatmap"
           }
          ],
          "heatmapgl": [
           {
            "colorbar": {
             "outlinewidth": 0,
             "ticks": ""
            },
            "colorscale": [
             [
              0,
              "#0d0887"
             ],
             [
              0.1111111111111111,
              "#46039f"
             ],
             [
              0.2222222222222222,
              "#7201a8"
             ],
             [
              0.3333333333333333,
              "#9c179e"
             ],
             [
              0.4444444444444444,
              "#bd3786"
             ],
             [
              0.5555555555555556,
              "#d8576b"
             ],
             [
              0.6666666666666666,
              "#ed7953"
             ],
             [
              0.7777777777777778,
              "#fb9f3a"
             ],
             [
              0.8888888888888888,
              "#fdca26"
             ],
             [
              1,
              "#f0f921"
             ]
            ],
            "type": "heatmapgl"
           }
          ],
          "histogram": [
           {
            "marker": {
             "colorbar": {
              "outlinewidth": 0,
              "ticks": ""
             }
            },
            "type": "histogram"
           }
          ],
          "histogram2d": [
           {
            "colorbar": {
             "outlinewidth": 0,
             "ticks": ""
            },
            "colorscale": [
             [
              0,
              "#0d0887"
             ],
             [
              0.1111111111111111,
              "#46039f"
             ],
             [
              0.2222222222222222,
              "#7201a8"
             ],
             [
              0.3333333333333333,
              "#9c179e"
             ],
             [
              0.4444444444444444,
              "#bd3786"
             ],
             [
              0.5555555555555556,
              "#d8576b"
             ],
             [
              0.6666666666666666,
              "#ed7953"
             ],
             [
              0.7777777777777778,
              "#fb9f3a"
             ],
             [
              0.8888888888888888,
              "#fdca26"
             ],
             [
              1,
              "#f0f921"
             ]
            ],
            "type": "histogram2d"
           }
          ],
          "histogram2dcontour": [
           {
            "colorbar": {
             "outlinewidth": 0,
             "ticks": ""
            },
            "colorscale": [
             [
              0,
              "#0d0887"
             ],
             [
              0.1111111111111111,
              "#46039f"
             ],
             [
              0.2222222222222222,
              "#7201a8"
             ],
             [
              0.3333333333333333,
              "#9c179e"
             ],
             [
              0.4444444444444444,
              "#bd3786"
             ],
             [
              0.5555555555555556,
              "#d8576b"
             ],
             [
              0.6666666666666666,
              "#ed7953"
             ],
             [
              0.7777777777777778,
              "#fb9f3a"
             ],
             [
              0.8888888888888888,
              "#fdca26"
             ],
             [
              1,
              "#f0f921"
             ]
            ],
            "type": "histogram2dcontour"
           }
          ],
          "mesh3d": [
           {
            "colorbar": {
             "outlinewidth": 0,
             "ticks": ""
            },
            "type": "mesh3d"
           }
          ],
          "parcoords": [
           {
            "line": {
             "colorbar": {
              "outlinewidth": 0,
              "ticks": ""
             }
            },
            "type": "parcoords"
           }
          ],
          "pie": [
           {
            "automargin": true,
            "type": "pie"
           }
          ],
          "scatter": [
           {
            "marker": {
             "colorbar": {
              "outlinewidth": 0,
              "ticks": ""
             }
            },
            "type": "scatter"
           }
          ],
          "scatter3d": [
           {
            "line": {
             "colorbar": {
              "outlinewidth": 0,
              "ticks": ""
             }
            },
            "marker": {
             "colorbar": {
              "outlinewidth": 0,
              "ticks": ""
             }
            },
            "type": "scatter3d"
           }
          ],
          "scattercarpet": [
           {
            "marker": {
             "colorbar": {
              "outlinewidth": 0,
              "ticks": ""
             }
            },
            "type": "scattercarpet"
           }
          ],
          "scattergeo": [
           {
            "marker": {
             "colorbar": {
              "outlinewidth": 0,
              "ticks": ""
             }
            },
            "type": "scattergeo"
           }
          ],
          "scattergl": [
           {
            "marker": {
             "colorbar": {
              "outlinewidth": 0,
              "ticks": ""
             }
            },
            "type": "scattergl"
           }
          ],
          "scattermapbox": [
           {
            "marker": {
             "colorbar": {
              "outlinewidth": 0,
              "ticks": ""
             }
            },
            "type": "scattermapbox"
           }
          ],
          "scatterpolar": [
           {
            "marker": {
             "colorbar": {
              "outlinewidth": 0,
              "ticks": ""
             }
            },
            "type": "scatterpolar"
           }
          ],
          "scatterpolargl": [
           {
            "marker": {
             "colorbar": {
              "outlinewidth": 0,
              "ticks": ""
             }
            },
            "type": "scatterpolargl"
           }
          ],
          "scatterternary": [
           {
            "marker": {
             "colorbar": {
              "outlinewidth": 0,
              "ticks": ""
             }
            },
            "type": "scatterternary"
           }
          ],
          "surface": [
           {
            "colorbar": {
             "outlinewidth": 0,
             "ticks": ""
            },
            "colorscale": [
             [
              0,
              "#0d0887"
             ],
             [
              0.1111111111111111,
              "#46039f"
             ],
             [
              0.2222222222222222,
              "#7201a8"
             ],
             [
              0.3333333333333333,
              "#9c179e"
             ],
             [
              0.4444444444444444,
              "#bd3786"
             ],
             [
              0.5555555555555556,
              "#d8576b"
             ],
             [
              0.6666666666666666,
              "#ed7953"
             ],
             [
              0.7777777777777778,
              "#fb9f3a"
             ],
             [
              0.8888888888888888,
              "#fdca26"
             ],
             [
              1,
              "#f0f921"
             ]
            ],
            "type": "surface"
           }
          ],
          "table": [
           {
            "cells": {
             "fill": {
              "color": "#EBF0F8"
             },
             "line": {
              "color": "white"
             }
            },
            "header": {
             "fill": {
              "color": "#C8D4E3"
             },
             "line": {
              "color": "white"
             }
            },
            "type": "table"
           }
          ]
         },
         "layout": {
          "annotationdefaults": {
           "arrowcolor": "#2a3f5f",
           "arrowhead": 0,
           "arrowwidth": 1
          },
          "coloraxis": {
           "colorbar": {
            "outlinewidth": 0,
            "ticks": ""
           }
          },
          "colorscale": {
           "diverging": [
            [
             0,
             "#8e0152"
            ],
            [
             0.1,
             "#c51b7d"
            ],
            [
             0.2,
             "#de77ae"
            ],
            [
             0.3,
             "#f1b6da"
            ],
            [
             0.4,
             "#fde0ef"
            ],
            [
             0.5,
             "#f7f7f7"
            ],
            [
             0.6,
             "#e6f5d0"
            ],
            [
             0.7,
             "#b8e186"
            ],
            [
             0.8,
             "#7fbc41"
            ],
            [
             0.9,
             "#4d9221"
            ],
            [
             1,
             "#276419"
            ]
           ],
           "sequential": [
            [
             0,
             "#0d0887"
            ],
            [
             0.1111111111111111,
             "#46039f"
            ],
            [
             0.2222222222222222,
             "#7201a8"
            ],
            [
             0.3333333333333333,
             "#9c179e"
            ],
            [
             0.4444444444444444,
             "#bd3786"
            ],
            [
             0.5555555555555556,
             "#d8576b"
            ],
            [
             0.6666666666666666,
             "#ed7953"
            ],
            [
             0.7777777777777778,
             "#fb9f3a"
            ],
            [
             0.8888888888888888,
             "#fdca26"
            ],
            [
             1,
             "#f0f921"
            ]
           ],
           "sequentialminus": [
            [
             0,
             "#0d0887"
            ],
            [
             0.1111111111111111,
             "#46039f"
            ],
            [
             0.2222222222222222,
             "#7201a8"
            ],
            [
             0.3333333333333333,
             "#9c179e"
            ],
            [
             0.4444444444444444,
             "#bd3786"
            ],
            [
             0.5555555555555556,
             "#d8576b"
            ],
            [
             0.6666666666666666,
             "#ed7953"
            ],
            [
             0.7777777777777778,
             "#fb9f3a"
            ],
            [
             0.8888888888888888,
             "#fdca26"
            ],
            [
             1,
             "#f0f921"
            ]
           ]
          },
          "colorway": [
           "#636efa",
           "#EF553B",
           "#00cc96",
           "#ab63fa",
           "#FFA15A",
           "#19d3f3",
           "#FF6692",
           "#B6E880",
           "#FF97FF",
           "#FECB52"
          ],
          "font": {
           "color": "#2a3f5f"
          },
          "geo": {
           "bgcolor": "white",
           "lakecolor": "white",
           "landcolor": "#E5ECF6",
           "showlakes": true,
           "showland": true,
           "subunitcolor": "white"
          },
          "hoverlabel": {
           "align": "left"
          },
          "hovermode": "closest",
          "mapbox": {
           "style": "light"
          },
          "paper_bgcolor": "white",
          "plot_bgcolor": "#E5ECF6",
          "polar": {
           "angularaxis": {
            "gridcolor": "white",
            "linecolor": "white",
            "ticks": ""
           },
           "bgcolor": "#E5ECF6",
           "radialaxis": {
            "gridcolor": "white",
            "linecolor": "white",
            "ticks": ""
           }
          },
          "scene": {
           "xaxis": {
            "backgroundcolor": "#E5ECF6",
            "gridcolor": "white",
            "gridwidth": 2,
            "linecolor": "white",
            "showbackground": true,
            "ticks": "",
            "zerolinecolor": "white"
           },
           "yaxis": {
            "backgroundcolor": "#E5ECF6",
            "gridcolor": "white",
            "gridwidth": 2,
            "linecolor": "white",
            "showbackground": true,
            "ticks": "",
            "zerolinecolor": "white"
           },
           "zaxis": {
            "backgroundcolor": "#E5ECF6",
            "gridcolor": "white",
            "gridwidth": 2,
            "linecolor": "white",
            "showbackground": true,
            "ticks": "",
            "zerolinecolor": "white"
           }
          },
          "shapedefaults": {
           "line": {
            "color": "#2a3f5f"
           }
          },
          "ternary": {
           "aaxis": {
            "gridcolor": "white",
            "linecolor": "white",
            "ticks": ""
           },
           "baxis": {
            "gridcolor": "white",
            "linecolor": "white",
            "ticks": ""
           },
           "bgcolor": "#E5ECF6",
           "caxis": {
            "gridcolor": "white",
            "linecolor": "white",
            "ticks": ""
           }
          },
          "title": {
           "x": 0.05
          },
          "xaxis": {
           "automargin": true,
           "gridcolor": "white",
           "linecolor": "white",
           "ticks": "",
           "title": {
            "standoff": 15
           },
           "zerolinecolor": "white",
           "zerolinewidth": 2
          },
          "yaxis": {
           "automargin": true,
           "gridcolor": "white",
           "linecolor": "white",
           "ticks": "",
           "title": {
            "standoff": 15
           },
           "zerolinecolor": "white",
           "zerolinewidth": 2
          }
         }
        },
        "xaxis": {
         "title": {
          "text": "Date"
         }
        },
        "yaxis": {
         "title": {
          "text": "Availability in Percent"
         }
        }
       }
      },
      "text/html": [
       "<div>\n",
       "        \n",
       "        \n",
       "            <div id=\"76da5e3d-7440-4a60-96df-10d7b41d5708\" class=\"plotly-graph-div\" style=\"height:525px; width:100%;\"></div>\n",
       "            <script type=\"text/javascript\">\n",
       "                require([\"plotly\"], function(Plotly) {\n",
       "                    window.PLOTLYENV=window.PLOTLYENV || {};\n",
       "                    \n",
       "                if (document.getElementById(\"76da5e3d-7440-4a60-96df-10d7b41d5708\")) {\n",
       "                    Plotly.newPlot(\n",
       "                        '76da5e3d-7440-4a60-96df-10d7b41d5708',\n",
       "                        [{\"mode\": \"lines\", \"name\": \"Seattle\", \"text\": \"avg availability in %\", \"type\": \"scatter\", \"x\": [\"2016-01-04T00:00:00\", \"2016-01-05T00:00:00\", \"2016-01-06T00:00:00\", \"2016-01-07T00:00:00\", \"2016-01-08T00:00:00\", \"2016-01-09T00:00:00\", \"2016-01-10T00:00:00\", \"2016-01-11T00:00:00\", \"2016-01-12T00:00:00\", \"2016-01-13T00:00:00\", \"2016-01-14T00:00:00\", \"2016-01-15T00:00:00\", \"2016-01-16T00:00:00\", \"2016-01-17T00:00:00\", \"2016-01-18T00:00:00\", \"2016-01-19T00:00:00\", \"2016-01-20T00:00:00\", \"2016-01-21T00:00:00\", \"2016-01-22T00:00:00\", \"2016-01-23T00:00:00\", \"2016-01-24T00:00:00\", \"2016-01-25T00:00:00\", \"2016-01-26T00:00:00\", \"2016-01-27T00:00:00\", \"2016-01-28T00:00:00\", \"2016-01-29T00:00:00\", \"2016-01-30T00:00:00\", \"2016-01-31T00:00:00\", \"2016-02-01T00:00:00\", \"2016-02-02T00:00:00\", \"2016-02-03T00:00:00\", \"2016-02-04T00:00:00\", \"2016-02-05T00:00:00\", \"2016-02-06T00:00:00\", \"2016-02-07T00:00:00\", \"2016-02-08T00:00:00\", \"2016-02-09T00:00:00\", \"2016-02-10T00:00:00\", \"2016-02-11T00:00:00\", \"2016-02-12T00:00:00\", \"2016-02-13T00:00:00\", \"2016-02-14T00:00:00\", \"2016-02-15T00:00:00\", \"2016-02-16T00:00:00\", \"2016-02-17T00:00:00\", \"2016-02-18T00:00:00\", \"2016-02-19T00:00:00\", \"2016-02-20T00:00:00\", \"2016-02-21T00:00:00\", \"2016-02-22T00:00:00\", \"2016-02-23T00:00:00\", \"2016-02-24T00:00:00\", \"2016-02-25T00:00:00\", \"2016-02-26T00:00:00\", \"2016-02-27T00:00:00\", \"2016-02-28T00:00:00\", \"2016-02-29T00:00:00\", \"2016-03-01T00:00:00\", \"2016-03-02T00:00:00\", \"2016-03-03T00:00:00\", \"2016-03-04T00:00:00\", \"2016-03-05T00:00:00\", \"2016-03-06T00:00:00\", \"2016-03-07T00:00:00\", \"2016-03-08T00:00:00\", \"2016-03-09T00:00:00\", \"2016-03-10T00:00:00\", \"2016-03-11T00:00:00\", \"2016-03-12T00:00:00\", \"2016-03-13T00:00:00\", \"2016-03-14T00:00:00\", \"2016-03-15T00:00:00\", \"2016-03-16T00:00:00\", \"2016-03-17T00:00:00\", \"2016-03-18T00:00:00\", \"2016-03-19T00:00:00\", \"2016-03-20T00:00:00\", \"2016-03-21T00:00:00\", \"2016-03-22T00:00:00\", \"2016-03-23T00:00:00\", \"2016-03-24T00:00:00\", \"2016-03-25T00:00:00\", \"2016-03-26T00:00:00\", \"2016-03-27T00:00:00\", \"2016-03-28T00:00:00\", \"2016-03-29T00:00:00\", \"2016-03-30T00:00:00\", \"2016-03-31T00:00:00\", \"2016-04-01T00:00:00\", \"2016-04-02T00:00:00\", \"2016-04-03T00:00:00\", \"2016-04-04T00:00:00\", \"2016-04-05T00:00:00\", \"2016-04-06T00:00:00\", \"2016-04-07T00:00:00\", \"2016-04-08T00:00:00\", \"2016-04-09T00:00:00\", \"2016-04-10T00:00:00\", \"2016-04-11T00:00:00\", \"2016-04-12T00:00:00\", \"2016-04-13T00:00:00\", \"2016-04-14T00:00:00\", \"2016-04-15T00:00:00\", \"2016-04-16T00:00:00\", \"2016-04-17T00:00:00\", \"2016-04-18T00:00:00\", \"2016-04-19T00:00:00\", \"2016-04-20T00:00:00\", \"2016-04-21T00:00:00\", \"2016-04-22T00:00:00\", \"2016-04-23T00:00:00\", \"2016-04-24T00:00:00\", \"2016-04-25T00:00:00\", \"2016-04-26T00:00:00\", \"2016-04-27T00:00:00\", \"2016-04-28T00:00:00\", \"2016-04-29T00:00:00\", \"2016-04-30T00:00:00\", \"2016-05-01T00:00:00\", \"2016-05-02T00:00:00\", \"2016-05-03T00:00:00\", \"2016-05-04T00:00:00\", \"2016-05-05T00:00:00\", \"2016-05-06T00:00:00\", \"2016-05-07T00:00:00\", \"2016-05-08T00:00:00\", \"2016-05-09T00:00:00\", \"2016-05-10T00:00:00\", \"2016-05-11T00:00:00\", \"2016-05-12T00:00:00\", \"2016-05-13T00:00:00\", \"2016-05-14T00:00:00\", \"2016-05-15T00:00:00\", \"2016-05-16T00:00:00\", \"2016-05-17T00:00:00\", \"2016-05-18T00:00:00\", \"2016-05-19T00:00:00\", \"2016-05-20T00:00:00\", \"2016-05-21T00:00:00\", \"2016-05-22T00:00:00\", \"2016-05-23T00:00:00\", \"2016-05-24T00:00:00\", \"2016-05-25T00:00:00\", \"2016-05-26T00:00:00\", \"2016-05-27T00:00:00\", \"2016-05-28T00:00:00\", \"2016-05-29T00:00:00\", \"2016-05-30T00:00:00\", \"2016-05-31T00:00:00\", \"2016-06-01T00:00:00\", \"2016-06-02T00:00:00\", \"2016-06-03T00:00:00\", \"2016-06-04T00:00:00\", \"2016-06-05T00:00:00\", \"2016-06-06T00:00:00\", \"2016-06-07T00:00:00\", \"2016-06-08T00:00:00\", \"2016-06-09T00:00:00\", \"2016-06-10T00:00:00\", \"2016-06-11T00:00:00\", \"2016-06-12T00:00:00\", \"2016-06-13T00:00:00\", \"2016-06-14T00:00:00\", \"2016-06-15T00:00:00\", \"2016-06-16T00:00:00\", \"2016-06-17T00:00:00\", \"2016-06-18T00:00:00\", \"2016-06-19T00:00:00\", \"2016-06-20T00:00:00\", \"2016-06-21T00:00:00\", \"2016-06-22T00:00:00\", \"2016-06-23T00:00:00\", \"2016-06-24T00:00:00\", \"2016-06-25T00:00:00\", \"2016-06-26T00:00:00\", \"2016-06-27T00:00:00\", \"2016-06-28T00:00:00\", \"2016-06-29T00:00:00\", \"2016-06-30T00:00:00\", \"2016-07-01T00:00:00\", \"2016-07-02T00:00:00\", \"2016-07-03T00:00:00\", \"2016-07-04T00:00:00\", \"2016-07-05T00:00:00\", \"2016-07-06T00:00:00\", \"2016-07-07T00:00:00\", \"2016-07-08T00:00:00\", \"2016-07-09T00:00:00\", \"2016-07-10T00:00:00\", \"2016-07-11T00:00:00\", \"2016-07-12T00:00:00\", \"2016-07-13T00:00:00\", \"2016-07-14T00:00:00\", \"2016-07-15T00:00:00\", \"2016-07-16T00:00:00\", \"2016-07-17T00:00:00\", \"2016-07-18T00:00:00\", \"2016-07-19T00:00:00\", \"2016-07-20T00:00:00\", \"2016-07-21T00:00:00\", \"2016-07-22T00:00:00\", \"2016-07-23T00:00:00\", \"2016-07-24T00:00:00\", \"2016-07-25T00:00:00\", \"2016-07-26T00:00:00\", \"2016-07-27T00:00:00\", \"2016-07-28T00:00:00\", \"2016-07-29T00:00:00\", \"2016-07-30T00:00:00\", \"2016-07-31T00:00:00\", \"2016-08-01T00:00:00\", \"2016-08-02T00:00:00\", \"2016-08-03T00:00:00\", \"2016-08-04T00:00:00\", \"2016-08-05T00:00:00\", \"2016-08-06T00:00:00\", \"2016-08-07T00:00:00\", \"2016-08-08T00:00:00\", \"2016-08-09T00:00:00\", \"2016-08-10T00:00:00\", \"2016-08-11T00:00:00\", \"2016-08-12T00:00:00\", \"2016-08-13T00:00:00\", \"2016-08-14T00:00:00\", \"2016-08-15T00:00:00\", \"2016-08-16T00:00:00\", \"2016-08-17T00:00:00\", \"2016-08-18T00:00:00\", \"2016-08-19T00:00:00\", \"2016-08-20T00:00:00\", \"2016-08-21T00:00:00\", \"2016-08-22T00:00:00\", \"2016-08-23T00:00:00\", \"2016-08-24T00:00:00\", \"2016-08-25T00:00:00\", \"2016-08-26T00:00:00\", \"2016-08-27T00:00:00\", \"2016-08-28T00:00:00\", \"2016-08-29T00:00:00\", \"2016-08-30T00:00:00\", \"2016-08-31T00:00:00\", \"2016-09-01T00:00:00\", \"2016-09-02T00:00:00\", \"2016-09-03T00:00:00\", \"2016-09-04T00:00:00\", \"2016-09-05T00:00:00\", \"2016-09-06T00:00:00\", \"2016-09-07T00:00:00\", \"2016-09-08T00:00:00\", \"2016-09-09T00:00:00\", \"2016-09-10T00:00:00\", \"2016-09-11T00:00:00\", \"2016-09-12T00:00:00\", \"2016-09-13T00:00:00\", \"2016-09-14T00:00:00\", \"2016-09-15T00:00:00\", \"2016-09-16T00:00:00\", \"2016-09-17T00:00:00\", \"2016-09-18T00:00:00\", \"2016-09-19T00:00:00\", \"2016-09-20T00:00:00\", \"2016-09-21T00:00:00\", \"2016-09-22T00:00:00\", \"2016-09-23T00:00:00\", \"2016-09-24T00:00:00\", \"2016-09-25T00:00:00\", \"2016-09-26T00:00:00\", \"2016-09-27T00:00:00\", \"2016-09-28T00:00:00\", \"2016-09-29T00:00:00\", \"2016-09-30T00:00:00\", \"2016-10-01T00:00:00\", \"2016-10-02T00:00:00\", \"2016-10-03T00:00:00\", \"2016-10-04T00:00:00\", \"2016-10-05T00:00:00\", \"2016-10-06T00:00:00\", \"2016-10-07T00:00:00\", \"2016-10-08T00:00:00\", \"2016-10-09T00:00:00\", \"2016-10-10T00:00:00\", \"2016-10-11T00:00:00\", \"2016-10-12T00:00:00\", \"2016-10-13T00:00:00\", \"2016-10-14T00:00:00\", \"2016-10-15T00:00:00\", \"2016-10-16T00:00:00\", \"2016-10-17T00:00:00\", \"2016-10-18T00:00:00\", \"2016-10-19T00:00:00\", \"2016-10-20T00:00:00\", \"2016-10-21T00:00:00\", \"2016-10-22T00:00:00\", \"2016-10-23T00:00:00\", \"2016-10-24T00:00:00\", \"2016-10-25T00:00:00\", \"2016-10-26T00:00:00\", \"2016-10-27T00:00:00\", \"2016-10-28T00:00:00\", \"2016-10-29T00:00:00\", \"2016-10-30T00:00:00\", \"2016-10-31T00:00:00\", \"2016-11-01T00:00:00\", \"2016-11-02T00:00:00\", \"2016-11-03T00:00:00\", \"2016-11-04T00:00:00\", \"2016-11-05T00:00:00\", \"2016-11-06T00:00:00\", \"2016-11-07T00:00:00\", \"2016-11-08T00:00:00\", \"2016-11-09T00:00:00\", \"2016-11-10T00:00:00\", \"2016-11-11T00:00:00\", \"2016-11-12T00:00:00\", \"2016-11-13T00:00:00\", \"2016-11-14T00:00:00\", \"2016-11-15T00:00:00\", \"2016-11-16T00:00:00\", \"2016-11-17T00:00:00\", \"2016-11-18T00:00:00\", \"2016-11-19T00:00:00\", \"2016-11-20T00:00:00\", \"2016-11-21T00:00:00\", \"2016-11-22T00:00:00\", \"2016-11-23T00:00:00\", \"2016-11-24T00:00:00\", \"2016-11-25T00:00:00\", \"2016-11-26T00:00:00\", \"2016-11-27T00:00:00\", \"2016-11-28T00:00:00\", \"2016-11-29T00:00:00\", \"2016-11-30T00:00:00\", \"2016-12-01T00:00:00\", \"2016-12-02T00:00:00\", \"2016-12-03T00:00:00\", \"2016-12-04T00:00:00\", \"2016-12-05T00:00:00\", \"2016-12-06T00:00:00\", \"2016-12-07T00:00:00\", \"2016-12-08T00:00:00\", \"2016-12-09T00:00:00\", \"2016-12-10T00:00:00\", \"2016-12-11T00:00:00\", \"2016-12-12T00:00:00\", \"2016-12-13T00:00:00\", \"2016-12-14T00:00:00\", \"2016-12-15T00:00:00\", \"2016-12-16T00:00:00\", \"2016-12-17T00:00:00\", \"2016-12-18T00:00:00\", \"2016-12-19T00:00:00\", \"2016-12-20T00:00:00\", \"2016-12-21T00:00:00\", \"2016-12-22T00:00:00\", \"2016-12-23T00:00:00\", \"2016-12-24T00:00:00\", \"2016-12-25T00:00:00\", \"2016-12-26T00:00:00\", \"2016-12-27T00:00:00\", \"2016-12-28T00:00:00\", \"2016-12-29T00:00:00\", \"2016-12-30T00:00:00\", \"2016-12-31T00:00:00\", \"2017-01-01T00:00:00\", \"2017-01-02T00:00:00\"], \"y\": [45.440000000000005, 48.9, 47.83, 46.52, 46.67, 48.61, 52.62, 54.48, 55.37, 54.92, 53.949999999999996, 52.07000000000001, 51.35999999999999, 54.269999999999996, 58.43000000000001, 59.56, 59.95, 59.06, 58.46, 58.56, 60.14000000000001, 61.550000000000004, 61.71, 61.050000000000004, 59.61, 59.19, 59.25, 62.019999999999996, 63.2, 63.85999999999999, 63.88, 62.6, 62.470000000000006, 62.339999999999996, 65.01, 65.82000000000001, 66.24, 66.29, 65.09, 64.56, 63.78, 64.33, 66.24, 67.02, 67.17999999999999, 67.08, 67.44, 67.73, 68.75, 68.78, 68.86, 68.60000000000001, 68.07, 68.41000000000001, 68.31, 68.81, 69.67, 69.88, 69.88, 69.75, 70.22, 70.25, 71.06, 70.59, 70.48, 70.43, 70.38, 70.43, 70.00999999999999, 70.72, 70.77, 70.87, 71.27, 71.37, 71.71, 71.32, 71.28999999999999, 70.93, 70.77, 70.87, 70.48, 70.72, 71.41999999999999, 72.28999999999999, 72.13000000000001, 72.05, 71.97, 72.16, 73.07000000000001, 64.72, 65.4, 65.61, 65.77, 65.24, 64.33, 64.42999999999999, 64.46, 65.56, 66.29, 66.42, 66.5, 66.4, 66.71000000000001, 66.74, 66.75999999999999, 66.74, 66.67999999999999, 66.42, 66.36999999999999, 66.45, 66.36999999999999, 66.47, 66.67999999999999, 66.82000000000001, 66.89, 67.0, 67.21000000000001, 67.02, 67.34, 67.21000000000001, 67.13, 66.95, 67.10000000000001, 67.75999999999999, 67.65, 67.75999999999999, 67.71000000000001, 67.71000000000001, 67.67999999999999, 67.5, 67.29, 67.47, 67.75999999999999, 67.92, 67.94, 67.92, 67.44, 67.65, 67.67999999999999, 67.71000000000001, 68.05, 67.97, 67.75999999999999, 67.13, 67.29, 67.5, 67.5, 67.65, 67.5, 67.5, 67.25999999999999, 67.10000000000001, 66.95, 67.16, 67.36999999999999, 67.5, 67.29, 66.58, 65.85, 65.85, 66.4, 66.92, 67.13, 67.13, 67.17999999999999, 67.23, 67.29, 67.71000000000001, 67.84, 68.12, 68.02, 67.81, 67.94, 68.05, 68.28, 68.39, 68.52000000000001, 68.47, 68.36, 61.550000000000004, 61.79, 61.919999999999995, 62.1, 62.519999999999996, 62.6, 62.68, 62.55, 62.64999999999999, 62.94, 62.86000000000001, 62.68, 62.73, 62.55, 62.64999999999999, 62.64999999999999, 62.89, 63.019999999999996, 63.2, 63.12, 63.12, 62.96000000000001, 62.760000000000005, 62.89, 62.7, 62.94, 63.1, 63.04, 63.019999999999996, 62.78, 63.07000000000001, 62.94, 62.96000000000001, 63.2, 63.24999999999999, 63.36000000000001, 63.51, 63.62, 63.99, 63.85999999999999, 64.01, 63.93, 64.25, 64.35, 64.25, 64.53999999999999, 64.42999999999999, 64.67, 64.59, 64.64, 64.72, 64.96, 65.16999999999999, 65.3, 65.32, 65.27, 65.51, 65.64, 65.66, 65.74, 65.86999999999999, 66.16, 65.98, 65.92, 66.06, 66.42, 66.63, 66.95, 67.02, 67.08, 67.25999999999999, 67.29, 67.29, 67.36999999999999, 67.31, 67.34, 67.34, 67.44, 67.52, 67.52, 67.57, 67.60000000000001, 67.67999999999999, 67.99, 68.12, 68.17999999999999, 68.28, 68.28, 68.33, 68.39, 68.44, 68.60000000000001, 68.67, 69.22, 69.33, 69.33, 69.33, 69.38, 69.49, 69.49, 69.46, 69.41000000000001, 69.41000000000001, 69.49, 69.49, 69.62, 69.62, 69.59, 69.62, 69.67, 69.67, 69.75, 69.85, 69.88, 69.85, 69.93, 69.88, 69.93, 69.98, 70.12, 70.22, 70.25, 70.27, 70.38, 70.46, 70.56, 70.64, 70.67, 70.98, 70.98, 71.00999999999999, 71.03, 71.03, 71.19, 71.28999999999999, 71.28999999999999, 71.35000000000001, 71.37, 71.41999999999999, 71.41999999999999, 71.56, 71.58, 71.61, 71.69, 71.87, 71.92, 71.92, 72.0, 72.0, 72.08, 72.11, 72.24000000000001, 72.32, 72.47, 72.58, 72.63, 72.87, 72.92, 73.02, 73.07000000000001, 73.13, 73.15, 73.21, 73.21, 73.28, 73.31, 73.42, 73.57000000000001, 73.68, 73.72999999999999, 73.78, 73.81, 73.81, 73.83, 73.86, 73.91, 73.91, 74.1, 74.15, 74.15, 74.2, 74.25, 74.38, 74.88, 76.53, 72.71]}, {\"mode\": \"lines\", \"name\": \"Boston\", \"text\": \"avg availability in %\", \"type\": \"scatter\", \"x\": [\"2016-09-06T00:00:00\", \"2016-09-07T00:00:00\", \"2016-09-08T00:00:00\", \"2016-09-09T00:00:00\", \"2016-09-10T00:00:00\", \"2016-09-11T00:00:00\", \"2016-09-12T00:00:00\", \"2016-09-13T00:00:00\", \"2016-09-14T00:00:00\", \"2016-09-15T00:00:00\", \"2016-09-16T00:00:00\", \"2016-09-17T00:00:00\", \"2016-09-18T00:00:00\", \"2016-09-19T00:00:00\", \"2016-09-20T00:00:00\", \"2016-09-21T00:00:00\", \"2016-09-22T00:00:00\", \"2016-09-23T00:00:00\", \"2016-09-24T00:00:00\", \"2016-09-25T00:00:00\", \"2016-09-26T00:00:00\", \"2016-09-27T00:00:00\", \"2016-09-28T00:00:00\", \"2016-09-29T00:00:00\", \"2016-09-30T00:00:00\", \"2016-10-01T00:00:00\", \"2016-10-02T00:00:00\", \"2016-10-03T00:00:00\", \"2016-10-04T00:00:00\", \"2016-10-05T00:00:00\", \"2016-10-06T00:00:00\", \"2016-10-07T00:00:00\", \"2016-10-08T00:00:00\", \"2016-10-09T00:00:00\", \"2016-10-10T00:00:00\", \"2016-10-11T00:00:00\", \"2016-10-12T00:00:00\", \"2016-10-13T00:00:00\", \"2016-10-14T00:00:00\", \"2016-10-15T00:00:00\", \"2016-10-16T00:00:00\", \"2016-10-17T00:00:00\", \"2016-10-18T00:00:00\", \"2016-10-19T00:00:00\", \"2016-10-20T00:00:00\", \"2016-10-21T00:00:00\", \"2016-10-22T00:00:00\", \"2016-10-23T00:00:00\", \"2016-10-24T00:00:00\", \"2016-10-25T00:00:00\", \"2016-10-26T00:00:00\", \"2016-10-27T00:00:00\", \"2016-10-28T00:00:00\", \"2016-10-29T00:00:00\", \"2016-10-30T00:00:00\", \"2016-10-31T00:00:00\", \"2016-11-01T00:00:00\", \"2016-11-02T00:00:00\", \"2016-11-03T00:00:00\", \"2016-11-04T00:00:00\", \"2016-11-05T00:00:00\", \"2016-11-06T00:00:00\", \"2016-11-07T00:00:00\", \"2016-11-08T00:00:00\", \"2016-11-09T00:00:00\", \"2016-11-10T00:00:00\", \"2016-11-11T00:00:00\", \"2016-11-12T00:00:00\", \"2016-11-13T00:00:00\", \"2016-11-14T00:00:00\", \"2016-11-15T00:00:00\", \"2016-11-16T00:00:00\", \"2016-11-17T00:00:00\", \"2016-11-18T00:00:00\", \"2016-11-19T00:00:00\", \"2016-11-20T00:00:00\", \"2016-11-21T00:00:00\", \"2016-11-22T00:00:00\", \"2016-11-23T00:00:00\", \"2016-11-24T00:00:00\", \"2016-11-25T00:00:00\", \"2016-11-26T00:00:00\", \"2016-11-27T00:00:00\", \"2016-11-28T00:00:00\", \"2016-11-29T00:00:00\", \"2016-11-30T00:00:00\", \"2016-12-01T00:00:00\", \"2016-12-02T00:00:00\", \"2016-12-03T00:00:00\", \"2016-12-04T00:00:00\", \"2016-12-05T00:00:00\", \"2016-12-06T00:00:00\", \"2016-12-07T00:00:00\", \"2016-12-08T00:00:00\", \"2016-12-09T00:00:00\", \"2016-12-10T00:00:00\", \"2016-12-11T00:00:00\", \"2016-12-12T00:00:00\", \"2016-12-13T00:00:00\", \"2016-12-14T00:00:00\", \"2016-12-15T00:00:00\", \"2016-12-16T00:00:00\", \"2016-12-17T00:00:00\", \"2016-12-18T00:00:00\", \"2016-12-19T00:00:00\", \"2016-12-20T00:00:00\", \"2016-12-21T00:00:00\", \"2016-12-22T00:00:00\", \"2016-12-23T00:00:00\", \"2016-12-24T00:00:00\", \"2016-12-25T00:00:00\", \"2016-12-26T00:00:00\", \"2016-12-27T00:00:00\", \"2016-12-28T00:00:00\", \"2016-12-29T00:00:00\", \"2016-12-30T00:00:00\", \"2016-12-31T00:00:00\", \"2017-01-01T00:00:00\", \"2017-01-02T00:00:00\", \"2017-01-03T00:00:00\", \"2017-01-04T00:00:00\", \"2017-01-05T00:00:00\", \"2017-01-06T00:00:00\", \"2017-01-07T00:00:00\", \"2017-01-08T00:00:00\", \"2017-01-09T00:00:00\", \"2017-01-10T00:00:00\", \"2017-01-11T00:00:00\", \"2017-01-12T00:00:00\", \"2017-01-13T00:00:00\", \"2017-01-14T00:00:00\", \"2017-01-15T00:00:00\", \"2017-01-16T00:00:00\", \"2017-01-17T00:00:00\", \"2017-01-18T00:00:00\", \"2017-01-19T00:00:00\", \"2017-01-20T00:00:00\", \"2017-01-21T00:00:00\", \"2017-01-22T00:00:00\", \"2017-01-23T00:00:00\", \"2017-01-24T00:00:00\", \"2017-01-25T00:00:00\", \"2017-01-26T00:00:00\", \"2017-01-27T00:00:00\", \"2017-01-28T00:00:00\", \"2017-01-29T00:00:00\", \"2017-01-30T00:00:00\", \"2017-01-31T00:00:00\", \"2017-02-01T00:00:00\", \"2017-02-02T00:00:00\", \"2017-02-03T00:00:00\", \"2017-02-04T00:00:00\", \"2017-02-05T00:00:00\", \"2017-02-06T00:00:00\", \"2017-02-07T00:00:00\", \"2017-02-08T00:00:00\", \"2017-02-09T00:00:00\", \"2017-02-10T00:00:00\", \"2017-02-11T00:00:00\", \"2017-02-12T00:00:00\", \"2017-02-13T00:00:00\", \"2017-02-14T00:00:00\", \"2017-02-15T00:00:00\", \"2017-02-16T00:00:00\", \"2017-02-17T00:00:00\", \"2017-02-18T00:00:00\", \"2017-02-19T00:00:00\", \"2017-02-20T00:00:00\", \"2017-02-21T00:00:00\", \"2017-02-22T00:00:00\", \"2017-02-23T00:00:00\", \"2017-02-24T00:00:00\", \"2017-02-25T00:00:00\", \"2017-02-26T00:00:00\", \"2017-02-27T00:00:00\", \"2017-02-28T00:00:00\", \"2017-03-01T00:00:00\", \"2017-03-02T00:00:00\", \"2017-03-03T00:00:00\", \"2017-03-04T00:00:00\", \"2017-03-05T00:00:00\", \"2017-03-06T00:00:00\", \"2017-03-07T00:00:00\", \"2017-03-08T00:00:00\", \"2017-03-09T00:00:00\", \"2017-03-10T00:00:00\", \"2017-03-11T00:00:00\", \"2017-03-12T00:00:00\", \"2017-03-13T00:00:00\", \"2017-03-14T00:00:00\", \"2017-03-15T00:00:00\", \"2017-03-16T00:00:00\", \"2017-03-17T00:00:00\", \"2017-03-18T00:00:00\", \"2017-03-19T00:00:00\", \"2017-03-20T00:00:00\", \"2017-03-21T00:00:00\", \"2017-03-22T00:00:00\", \"2017-03-23T00:00:00\", \"2017-03-24T00:00:00\", \"2017-03-25T00:00:00\", \"2017-03-26T00:00:00\", \"2017-03-27T00:00:00\", \"2017-03-28T00:00:00\", \"2017-03-29T00:00:00\", \"2017-03-30T00:00:00\", \"2017-03-31T00:00:00\", \"2017-04-01T00:00:00\", \"2017-04-02T00:00:00\", \"2017-04-03T00:00:00\", \"2017-04-04T00:00:00\", \"2017-04-05T00:00:00\", \"2017-04-06T00:00:00\", \"2017-04-07T00:00:00\", \"2017-04-08T00:00:00\", \"2017-04-09T00:00:00\", \"2017-04-10T00:00:00\", \"2017-04-11T00:00:00\", \"2017-04-12T00:00:00\", \"2017-04-13T00:00:00\", \"2017-04-14T00:00:00\", \"2017-04-15T00:00:00\", \"2017-04-16T00:00:00\", \"2017-04-17T00:00:00\", \"2017-04-18T00:00:00\", \"2017-04-19T00:00:00\", \"2017-04-20T00:00:00\", \"2017-04-21T00:00:00\", \"2017-04-22T00:00:00\", \"2017-04-23T00:00:00\", \"2017-04-24T00:00:00\", \"2017-04-25T00:00:00\", \"2017-04-26T00:00:00\", \"2017-04-27T00:00:00\", \"2017-04-28T00:00:00\", \"2017-04-29T00:00:00\", \"2017-04-30T00:00:00\", \"2017-05-01T00:00:00\", \"2017-05-02T00:00:00\", \"2017-05-03T00:00:00\", \"2017-05-04T00:00:00\", \"2017-05-05T00:00:00\", \"2017-05-06T00:00:00\", \"2017-05-07T00:00:00\", \"2017-05-08T00:00:00\", \"2017-05-09T00:00:00\", \"2017-05-10T00:00:00\", \"2017-05-11T00:00:00\", \"2017-05-12T00:00:00\", \"2017-05-13T00:00:00\", \"2017-05-14T00:00:00\", \"2017-05-15T00:00:00\", \"2017-05-16T00:00:00\", \"2017-05-17T00:00:00\", \"2017-05-18T00:00:00\", \"2017-05-19T00:00:00\", \"2017-05-20T00:00:00\", \"2017-05-21T00:00:00\", \"2017-05-22T00:00:00\", \"2017-05-23T00:00:00\", \"2017-05-24T00:00:00\", \"2017-05-25T00:00:00\", \"2017-05-26T00:00:00\", \"2017-05-27T00:00:00\", \"2017-05-28T00:00:00\", \"2017-05-29T00:00:00\", \"2017-05-30T00:00:00\", \"2017-05-31T00:00:00\", \"2017-06-01T00:00:00\", \"2017-06-02T00:00:00\", \"2017-06-03T00:00:00\", \"2017-06-04T00:00:00\", \"2017-06-05T00:00:00\", \"2017-06-06T00:00:00\", \"2017-06-07T00:00:00\", \"2017-06-08T00:00:00\", \"2017-06-09T00:00:00\", \"2017-06-10T00:00:00\", \"2017-06-11T00:00:00\", \"2017-06-12T00:00:00\", \"2017-06-13T00:00:00\", \"2017-06-14T00:00:00\", \"2017-06-15T00:00:00\", \"2017-06-16T00:00:00\", \"2017-06-17T00:00:00\", \"2017-06-18T00:00:00\", \"2017-06-19T00:00:00\", \"2017-06-20T00:00:00\", \"2017-06-21T00:00:00\", \"2017-06-22T00:00:00\", \"2017-06-23T00:00:00\", \"2017-06-24T00:00:00\", \"2017-06-25T00:00:00\", \"2017-06-26T00:00:00\", \"2017-06-27T00:00:00\", \"2017-06-28T00:00:00\", \"2017-06-29T00:00:00\", \"2017-06-30T00:00:00\", \"2017-07-01T00:00:00\", \"2017-07-02T00:00:00\", \"2017-07-03T00:00:00\", \"2017-07-04T00:00:00\", \"2017-07-05T00:00:00\", \"2017-07-06T00:00:00\", \"2017-07-07T00:00:00\", \"2017-07-08T00:00:00\", \"2017-07-09T00:00:00\", \"2017-07-10T00:00:00\", \"2017-07-11T00:00:00\", \"2017-07-12T00:00:00\", \"2017-07-13T00:00:00\", \"2017-07-14T00:00:00\", \"2017-07-15T00:00:00\", \"2017-07-16T00:00:00\", \"2017-07-17T00:00:00\", \"2017-07-18T00:00:00\", \"2017-07-19T00:00:00\", \"2017-07-20T00:00:00\", \"2017-07-21T00:00:00\", \"2017-07-22T00:00:00\", \"2017-07-23T00:00:00\", \"2017-07-24T00:00:00\", \"2017-07-25T00:00:00\", \"2017-07-26T00:00:00\", \"2017-07-27T00:00:00\", \"2017-07-28T00:00:00\", \"2017-07-29T00:00:00\", \"2017-07-30T00:00:00\", \"2017-07-31T00:00:00\", \"2017-08-01T00:00:00\", \"2017-08-02T00:00:00\", \"2017-08-03T00:00:00\", \"2017-08-04T00:00:00\", \"2017-08-05T00:00:00\", \"2017-08-06T00:00:00\", \"2017-08-07T00:00:00\", \"2017-08-08T00:00:00\", \"2017-08-09T00:00:00\", \"2017-08-10T00:00:00\", \"2017-08-11T00:00:00\", \"2017-08-12T00:00:00\", \"2017-08-13T00:00:00\", \"2017-08-14T00:00:00\", \"2017-08-15T00:00:00\", \"2017-08-16T00:00:00\", \"2017-08-17T00:00:00\", \"2017-08-18T00:00:00\", \"2017-08-19T00:00:00\", \"2017-08-20T00:00:00\", \"2017-08-21T00:00:00\", \"2017-08-22T00:00:00\", \"2017-08-23T00:00:00\", \"2017-08-24T00:00:00\", \"2017-08-25T00:00:00\", \"2017-08-26T00:00:00\", \"2017-08-27T00:00:00\", \"2017-08-28T00:00:00\", \"2017-08-29T00:00:00\", \"2017-08-30T00:00:00\", \"2017-08-31T00:00:00\", \"2017-09-01T00:00:00\", \"2017-09-02T00:00:00\", \"2017-09-03T00:00:00\", \"2017-09-04T00:00:00\", \"2017-09-05T00:00:00\"], \"y\": [15.9, 25.990000000000002, 27.860000000000003, 27.36, 26.66, 27.439999999999998, 25.240000000000002, 23.98, 22.17, 21.61, 21.44, 22.39, 28.499999999999996, 31.15, 32.12, 31.619999999999997, 29.48, 27.72, 25.4, 30.34, 31.369999999999997, 31.759999999999998, 33.660000000000004, 30.4, 28.89, 30.12, 35.809999999999995, 39.32, 40.38, 39.24, 37.14, 33.97, 34.050000000000004, 39.35, 42.89, 43.78, 43.0, 41.63, 39.18, 37.31, 38.82, 40.8, 43.39, 43.169999999999995, 40.63, 37.980000000000004, 38.46, 44.2, 47.82, 47.63, 47.8, 46.989999999999995, 46.82, 48.05, 50.7, 51.980000000000004, 52.480000000000004, 52.59, 52.65, 53.54, 54.04, 55.08, 53.43, 51.73, 51.449999999999996, 49.25, 50.0, 51.51, 53.49, 55.19, 56.269999999999996, 55.52, 52.56999999999999, 52.2, 52.839999999999996, 56.36, 57.89, 57.330000000000005, 57.38999999999999, 57.64, 57.67, 58.230000000000004, 58.230000000000004, 58.17, 58.56, 58.87, 59.34, 60.35, 60.74, 61.53999999999999, 52.980000000000004, 53.06999999999999, 53.1, 53.15, 53.56999999999999, 53.82, 53.63, 53.56999999999999, 53.68000000000001, 53.790000000000006, 53.900000000000006, 54.410000000000004, 54.6, 54.410000000000004, 54.16, 54.269999999999996, 54.49, 54.49, 54.06999999999999, 53.93, 54.04, 53.879999999999995, 54.1, 54.63, 54.63, 55.300000000000004, 55.35, 56.53, 56.53, 56.410000000000004, 56.64, 56.86, 57.03, 57.11000000000001, 56.8, 56.8, 56.86, 56.940000000000005, 56.940000000000005, 57.25, 57.31, 57.03, 57.11000000000001, 56.99999999999999, 57.03, 57.08, 56.92, 56.92, 56.720000000000006, 56.53, 56.53, 56.58, 56.61000000000001, 56.830000000000005, 56.88999999999999, 56.720000000000006, 56.66, 56.720000000000006, 56.13, 56.11000000000001, 56.36, 56.36, 56.269999999999996, 56.220000000000006, 56.220000000000006, 56.25, 56.25, 56.49999999999999, 56.58, 56.44, 56.410000000000004, 56.44, 56.53, 56.55, 56.940000000000005, 56.940000000000005, 56.88999999999999, 56.779999999999994, 56.779999999999994, 56.88999999999999, 56.8, 56.92, 56.88999999999999, 56.88999999999999, 56.92, 56.97, 56.36, 56.36, 56.49999999999999, 56.53, 48.58, 48.49, 48.49, 48.49, 48.38, 48.55, 48.55, 48.52, 48.49, 48.55, 48.58, 48.55, 48.66, 48.61, 48.69, 48.58, 48.72, 48.72, 48.75, 48.91, 48.97, 48.83, 48.66, 48.72, 48.69, 48.61, 48.72, 48.86, 48.8, 48.55, 48.55, 48.52, 48.55, 48.63, 48.63, 48.61, 48.41, 48.24, 48.16, 47.3, 45.12, 43.08, 42.75, 43.08, 46.96, 48.1, 48.52, 48.83, 48.63, 48.38, 48.3, 48.3, 48.33, 48.35, 48.47, 48.66, 49.16, 48.49, 48.52, 48.41, 48.05, 48.22, 48.27, 48.58, 48.52, 48.63, 48.52, 48.3, 48.41, 48.33, 48.3, 48.35, 48.58, 48.47, 47.77, 47.55, 47.13, 47.21, 47.43, 47.660000000000004, 47.52, 47.52, 48.41, 48.47, 48.69, 48.77, 48.8, 48.83, 48.83, 49.14, 49.08, 49.08, 48.97, 49.02, 48.66, 48.38, 48.58, 49.0, 48.97, 48.97, 49.05, 49.08, 49.0, 49.16, 49.16, 49.11, 48.97, 49.0, 49.0, 48.94, 49.220000000000006, 49.36, 49.27, 49.11, 49.11, 49.08, 49.08, 49.11, 49.16, 49.16, 49.16, 49.16, 49.3, 49.27, 49.39, 49.53, 49.44, 49.36, 49.33, 49.44, 49.41, 49.47, 49.58, 49.53, 49.41, 49.41, 49.39, 49.39, 49.58, 49.64, 49.58, 49.53, 49.55, 49.53, 49.5, 49.64, 49.669999999999995, 49.61, 49.58, 49.69, 49.72, 49.75, 49.86, 49.8, 49.919999999999995, 49.78, 49.830000000000005, 49.830000000000005, 49.830000000000005, 49.919999999999995, 49.89, 49.94, 49.919999999999995, 49.94, 49.94, 50.0, 50.080000000000005, 50.11, 50.080000000000005, 50.11, 50.17, 50.22, 50.22, 50.22, 50.22, 50.080000000000005, 50.029999999999994, 50.080000000000005, 50.06, 50.11, 50.06, 50.13999999999999, 50.24999999999999, 50.22, 50.22]}],\n",
       "                        {\"template\": {\"data\": {\"bar\": [{\"error_x\": {\"color\": \"#2a3f5f\"}, \"error_y\": {\"color\": \"#2a3f5f\"}, \"marker\": {\"line\": {\"color\": \"#E5ECF6\", \"width\": 0.5}}, \"type\": \"bar\"}], \"barpolar\": [{\"marker\": {\"line\": {\"color\": \"#E5ECF6\", \"width\": 0.5}}, \"type\": \"barpolar\"}], \"carpet\": [{\"aaxis\": {\"endlinecolor\": \"#2a3f5f\", \"gridcolor\": \"white\", \"linecolor\": \"white\", \"minorgridcolor\": \"white\", \"startlinecolor\": \"#2a3f5f\"}, \"baxis\": {\"endlinecolor\": \"#2a3f5f\", \"gridcolor\": \"white\", \"linecolor\": \"white\", \"minorgridcolor\": \"white\", \"startlinecolor\": \"#2a3f5f\"}, \"type\": \"carpet\"}], \"choropleth\": [{\"colorbar\": {\"outlinewidth\": 0, \"ticks\": \"\"}, \"type\": \"choropleth\"}], \"contour\": [{\"colorbar\": {\"outlinewidth\": 0, \"ticks\": \"\"}, \"colorscale\": [[0.0, \"#0d0887\"], [0.1111111111111111, \"#46039f\"], [0.2222222222222222, \"#7201a8\"], [0.3333333333333333, \"#9c179e\"], [0.4444444444444444, \"#bd3786\"], [0.5555555555555556, \"#d8576b\"], [0.6666666666666666, \"#ed7953\"], [0.7777777777777778, \"#fb9f3a\"], [0.8888888888888888, \"#fdca26\"], [1.0, \"#f0f921\"]], \"type\": \"contour\"}], \"contourcarpet\": [{\"colorbar\": {\"outlinewidth\": 0, \"ticks\": \"\"}, \"type\": \"contourcarpet\"}], \"heatmap\": [{\"colorbar\": {\"outlinewidth\": 0, \"ticks\": \"\"}, \"colorscale\": [[0.0, \"#0d0887\"], [0.1111111111111111, \"#46039f\"], [0.2222222222222222, \"#7201a8\"], [0.3333333333333333, \"#9c179e\"], [0.4444444444444444, \"#bd3786\"], [0.5555555555555556, \"#d8576b\"], [0.6666666666666666, \"#ed7953\"], [0.7777777777777778, \"#fb9f3a\"], [0.8888888888888888, \"#fdca26\"], [1.0, \"#f0f921\"]], \"type\": \"heatmap\"}], \"heatmapgl\": [{\"colorbar\": {\"outlinewidth\": 0, \"ticks\": \"\"}, \"colorscale\": [[0.0, \"#0d0887\"], [0.1111111111111111, \"#46039f\"], [0.2222222222222222, \"#7201a8\"], [0.3333333333333333, \"#9c179e\"], [0.4444444444444444, \"#bd3786\"], [0.5555555555555556, \"#d8576b\"], [0.6666666666666666, \"#ed7953\"], [0.7777777777777778, \"#fb9f3a\"], [0.8888888888888888, \"#fdca26\"], [1.0, \"#f0f921\"]], \"type\": \"heatmapgl\"}], \"histogram\": [{\"marker\": {\"colorbar\": {\"outlinewidth\": 0, \"ticks\": \"\"}}, \"type\": \"histogram\"}], \"histogram2d\": [{\"colorbar\": {\"outlinewidth\": 0, \"ticks\": \"\"}, \"colorscale\": [[0.0, \"#0d0887\"], [0.1111111111111111, \"#46039f\"], [0.2222222222222222, \"#7201a8\"], [0.3333333333333333, \"#9c179e\"], [0.4444444444444444, \"#bd3786\"], [0.5555555555555556, \"#d8576b\"], [0.6666666666666666, \"#ed7953\"], [0.7777777777777778, \"#fb9f3a\"], [0.8888888888888888, \"#fdca26\"], [1.0, \"#f0f921\"]], \"type\": \"histogram2d\"}], \"histogram2dcontour\": [{\"colorbar\": {\"outlinewidth\": 0, \"ticks\": \"\"}, \"colorscale\": [[0.0, \"#0d0887\"], [0.1111111111111111, \"#46039f\"], [0.2222222222222222, \"#7201a8\"], [0.3333333333333333, \"#9c179e\"], [0.4444444444444444, \"#bd3786\"], [0.5555555555555556, \"#d8576b\"], [0.6666666666666666, \"#ed7953\"], [0.7777777777777778, \"#fb9f3a\"], [0.8888888888888888, \"#fdca26\"], [1.0, \"#f0f921\"]], \"type\": \"histogram2dcontour\"}], \"mesh3d\": [{\"colorbar\": {\"outlinewidth\": 0, \"ticks\": \"\"}, \"type\": \"mesh3d\"}], \"parcoords\": [{\"line\": {\"colorbar\": {\"outlinewidth\": 0, \"ticks\": \"\"}}, \"type\": \"parcoords\"}], \"pie\": [{\"automargin\": true, \"type\": \"pie\"}], \"scatter\": [{\"marker\": {\"colorbar\": {\"outlinewidth\": 0, \"ticks\": \"\"}}, \"type\": \"scatter\"}], \"scatter3d\": [{\"line\": {\"colorbar\": {\"outlinewidth\": 0, \"ticks\": \"\"}}, \"marker\": {\"colorbar\": {\"outlinewidth\": 0, \"ticks\": \"\"}}, \"type\": \"scatter3d\"}], \"scattercarpet\": [{\"marker\": {\"colorbar\": {\"outlinewidth\": 0, \"ticks\": \"\"}}, \"type\": \"scattercarpet\"}], \"scattergeo\": [{\"marker\": {\"colorbar\": {\"outlinewidth\": 0, \"ticks\": \"\"}}, \"type\": \"scattergeo\"}], \"scattergl\": [{\"marker\": {\"colorbar\": {\"outlinewidth\": 0, \"ticks\": \"\"}}, \"type\": \"scattergl\"}], \"scattermapbox\": [{\"marker\": {\"colorbar\": {\"outlinewidth\": 0, \"ticks\": \"\"}}, \"type\": \"scattermapbox\"}], \"scatterpolar\": [{\"marker\": {\"colorbar\": {\"outlinewidth\": 0, \"ticks\": \"\"}}, \"type\": \"scatterpolar\"}], \"scatterpolargl\": [{\"marker\": {\"colorbar\": {\"outlinewidth\": 0, \"ticks\": \"\"}}, \"type\": \"scatterpolargl\"}], \"scatterternary\": [{\"marker\": {\"colorbar\": {\"outlinewidth\": 0, \"ticks\": \"\"}}, \"type\": \"scatterternary\"}], \"surface\": [{\"colorbar\": {\"outlinewidth\": 0, \"ticks\": \"\"}, \"colorscale\": [[0.0, \"#0d0887\"], [0.1111111111111111, \"#46039f\"], [0.2222222222222222, \"#7201a8\"], [0.3333333333333333, \"#9c179e\"], [0.4444444444444444, \"#bd3786\"], [0.5555555555555556, \"#d8576b\"], [0.6666666666666666, \"#ed7953\"], [0.7777777777777778, \"#fb9f3a\"], [0.8888888888888888, \"#fdca26\"], [1.0, \"#f0f921\"]], \"type\": \"surface\"}], \"table\": [{\"cells\": {\"fill\": {\"color\": \"#EBF0F8\"}, \"line\": {\"color\": \"white\"}}, \"header\": {\"fill\": {\"color\": \"#C8D4E3\"}, \"line\": {\"color\": \"white\"}}, \"type\": \"table\"}]}, \"layout\": {\"annotationdefaults\": {\"arrowcolor\": \"#2a3f5f\", \"arrowhead\": 0, \"arrowwidth\": 1}, \"coloraxis\": {\"colorbar\": {\"outlinewidth\": 0, \"ticks\": \"\"}}, \"colorscale\": {\"diverging\": [[0, \"#8e0152\"], [0.1, \"#c51b7d\"], [0.2, \"#de77ae\"], [0.3, \"#f1b6da\"], [0.4, \"#fde0ef\"], [0.5, \"#f7f7f7\"], [0.6, \"#e6f5d0\"], [0.7, \"#b8e186\"], [0.8, \"#7fbc41\"], [0.9, \"#4d9221\"], [1, \"#276419\"]], \"sequential\": [[0.0, \"#0d0887\"], [0.1111111111111111, \"#46039f\"], [0.2222222222222222, \"#7201a8\"], [0.3333333333333333, \"#9c179e\"], [0.4444444444444444, \"#bd3786\"], [0.5555555555555556, \"#d8576b\"], [0.6666666666666666, \"#ed7953\"], [0.7777777777777778, \"#fb9f3a\"], [0.8888888888888888, \"#fdca26\"], [1.0, \"#f0f921\"]], \"sequentialminus\": [[0.0, \"#0d0887\"], [0.1111111111111111, \"#46039f\"], [0.2222222222222222, \"#7201a8\"], [0.3333333333333333, \"#9c179e\"], [0.4444444444444444, \"#bd3786\"], [0.5555555555555556, \"#d8576b\"], [0.6666666666666666, \"#ed7953\"], [0.7777777777777778, \"#fb9f3a\"], [0.8888888888888888, \"#fdca26\"], [1.0, \"#f0f921\"]]}, \"colorway\": [\"#636efa\", \"#EF553B\", \"#00cc96\", \"#ab63fa\", \"#FFA15A\", \"#19d3f3\", \"#FF6692\", \"#B6E880\", \"#FF97FF\", \"#FECB52\"], \"font\": {\"color\": \"#2a3f5f\"}, \"geo\": {\"bgcolor\": \"white\", \"lakecolor\": \"white\", \"landcolor\": \"#E5ECF6\", \"showlakes\": true, \"showland\": true, \"subunitcolor\": \"white\"}, \"hoverlabel\": {\"align\": \"left\"}, \"hovermode\": \"closest\", \"mapbox\": {\"style\": \"light\"}, \"paper_bgcolor\": \"white\", \"plot_bgcolor\": \"#E5ECF6\", \"polar\": {\"angularaxis\": {\"gridcolor\": \"white\", \"linecolor\": \"white\", \"ticks\": \"\"}, \"bgcolor\": \"#E5ECF6\", \"radialaxis\": {\"gridcolor\": \"white\", \"linecolor\": \"white\", \"ticks\": \"\"}}, \"scene\": {\"xaxis\": {\"backgroundcolor\": \"#E5ECF6\", \"gridcolor\": \"white\", \"gridwidth\": 2, \"linecolor\": \"white\", \"showbackground\": true, \"ticks\": \"\", \"zerolinecolor\": \"white\"}, \"yaxis\": {\"backgroundcolor\": \"#E5ECF6\", \"gridcolor\": \"white\", \"gridwidth\": 2, \"linecolor\": \"white\", \"showbackground\": true, \"ticks\": \"\", \"zerolinecolor\": \"white\"}, \"zaxis\": {\"backgroundcolor\": \"#E5ECF6\", \"gridcolor\": \"white\", \"gridwidth\": 2, \"linecolor\": \"white\", \"showbackground\": true, \"ticks\": \"\", \"zerolinecolor\": \"white\"}}, \"shapedefaults\": {\"line\": {\"color\": \"#2a3f5f\"}}, \"ternary\": {\"aaxis\": {\"gridcolor\": \"white\", \"linecolor\": \"white\", \"ticks\": \"\"}, \"baxis\": {\"gridcolor\": \"white\", \"linecolor\": \"white\", \"ticks\": \"\"}, \"bgcolor\": \"#E5ECF6\", \"caxis\": {\"gridcolor\": \"white\", \"linecolor\": \"white\", \"ticks\": \"\"}}, \"title\": {\"x\": 0.05}, \"xaxis\": {\"automargin\": true, \"gridcolor\": \"white\", \"linecolor\": \"white\", \"ticks\": \"\", \"title\": {\"standoff\": 15}, \"zerolinecolor\": \"white\", \"zerolinewidth\": 2}, \"yaxis\": {\"automargin\": true, \"gridcolor\": \"white\", \"linecolor\": \"white\", \"ticks\": \"\", \"title\": {\"standoff\": 15}, \"zerolinecolor\": \"white\", \"zerolinewidth\": 2}}}, \"xaxis\": {\"title\": {\"text\": \"Date\"}}, \"yaxis\": {\"title\": {\"text\": \"Availability in Percent\"}}},\n",
       "                        {\"responsive\": true}\n",
       "                    ).then(function(){\n",
       "                            \n",
       "var gd = document.getElementById('76da5e3d-7440-4a60-96df-10d7b41d5708');\n",
       "var x = new MutationObserver(function (mutations, observer) {{\n",
       "        var display = window.getComputedStyle(gd).display;\n",
       "        if (!display || display === 'none') {{\n",
       "            console.log([gd, 'removed!']);\n",
       "            Plotly.purge(gd);\n",
       "            observer.disconnect();\n",
       "        }}\n",
       "}});\n",
       "\n",
       "// Listen for the removal of the full notebook cells\n",
       "var notebookContainer = gd.closest('#notebook-container');\n",
       "if (notebookContainer) {{\n",
       "    x.observe(notebookContainer, {childList: true});\n",
       "}}\n",
       "\n",
       "// Listen for the clearing of the current output cell\n",
       "var outputEl = gd.closest('.output');\n",
       "if (outputEl) {{\n",
       "    x.observe(outputEl, {childList: true});\n",
       "}}\n",
       "\n",
       "                        })\n",
       "                };\n",
       "                });\n",
       "            </script>\n",
       "        </div>"
      ]
     },
     "metadata": {},
     "output_type": "display_data"
    }
   ],
   "source": [
    "# Availability\n",
    "df['available'] = np.where(df.available ==\"t\", 1, 0)\n",
    "\n",
    "avail = df[[\"date\",\"city\",\"available\"]].groupby([\"date\",\"city\"]).available.mean().reset_index()\n",
    "avail.available = avail.available.round(4)*100\n",
    "sea_avail = avail[avail[\"city\"] ==\"Seattle\"]\n",
    "bos_avail = avail[avail[\"city\"] ==\"Boston\"]\n",
    "\n",
    "avail_date = go.Figure()\n",
    "avail_date.add_trace(go.Scatter(x=sea_avail.date, y=sea_avail.available,mode =\"lines\",name=\"Seattle\", text=\"avg availability in %\"))\n",
    "avail_date.add_trace(go.Scatter(x=bos_avail.date, y=bos_avail.available,mode =\"lines\",name=\"Boston\", text=\"avg availability in %\"))           \n",
    "avail_date.update_layout(xaxis_title = \"Date\",yaxis_title=\"Availability in Percent\")\n",
    "\n",
    "avail_date.show()"
   ]
  },
  {
   "cell_type": "markdown",
   "metadata": {},
   "source": [
    "Both cities show similar trends of average availability in the first six months of the given period. After that, the average availability in Seattle slightly increase about 10 percent. The availability  in Boston remains mostly stable with few exceptions.\n",
    "\n",
    "The increasing trend in the first 6 months is probably not a reflection of a real-world behavior, it is much like a result of the sample selection method. It seems that the dataset mostly select the incoming hosts in the first six month and not the existing hosts, the yet-to-become listings would be recorded as unavailable before they become a host, which may falsely skew the trend and generate a increasing trend at the beginning of the period. \n"
   ]
  },
  {
   "cell_type": "code",
   "execution_count": 71,
   "metadata": {},
   "outputs": [
    {
     "data": {
      "text/plain": [
       "3585"
      ]
     },
     "execution_count": 71,
     "metadata": {},
     "output_type": "execute_result"
    }
   ],
   "source": [
    "# Number of listings\n",
    "len(sea_list.id.unique()) # Seattle 3818\n",
    "len(bos_list.id.unique()) # Boston 3585"
   ]
  },
  {
   "cell_type": "code",
   "execution_count": 72,
   "metadata": {
    "scrolled": false
   },
   "outputs": [
    {
     "data": {
      "application/vnd.plotly.v1+json": {
       "config": {
        "plotlyServerURL": "https://plot.ly"
       },
       "data": [
        {
         "name": "Seattle",
         "text": "avg availability in %",
         "type": "bar",
         "x": [
          "January",
          "February",
          "March",
          "April",
          "May",
          "June",
          "July",
          "August",
          "September",
          "October",
          "November",
          "December"
         ],
         "y": [
          56.69,
          66.22,
          70.92,
          66.38,
          67.57,
          67.44,
          62.71,
          64.51,
          67.44,
          69.65,
          71.39999999999999,
          73.56
         ]
        },
        {
         "name": "Boston",
         "text": "avg availability in %",
         "type": "bar",
         "x": [
          "January",
          "February",
          "March",
          "April",
          "May",
          "June",
          "July",
          "August",
          "September",
          "October",
          "November",
          "December"
         ],
         "y": [
          56.830000000000005,
          56.58,
          49.64,
          47.760000000000005,
          48.22,
          49.02,
          49.44,
          49.980000000000004,
          31.04,
          41.69,
          54.74,
          54.87
         ]
        }
       ],
       "layout": {
        "template": {
         "data": {
          "bar": [
           {
            "error_x": {
             "color": "#2a3f5f"
            },
            "error_y": {
             "color": "#2a3f5f"
            },
            "marker": {
             "line": {
              "color": "#E5ECF6",
              "width": 0.5
             }
            },
            "type": "bar"
           }
          ],
          "barpolar": [
           {
            "marker": {
             "line": {
              "color": "#E5ECF6",
              "width": 0.5
             }
            },
            "type": "barpolar"
           }
          ],
          "carpet": [
           {
            "aaxis": {
             "endlinecolor": "#2a3f5f",
             "gridcolor": "white",
             "linecolor": "white",
             "minorgridcolor": "white",
             "startlinecolor": "#2a3f5f"
            },
            "baxis": {
             "endlinecolor": "#2a3f5f",
             "gridcolor": "white",
             "linecolor": "white",
             "minorgridcolor": "white",
             "startlinecolor": "#2a3f5f"
            },
            "type": "carpet"
           }
          ],
          "choropleth": [
           {
            "colorbar": {
             "outlinewidth": 0,
             "ticks": ""
            },
            "type": "choropleth"
           }
          ],
          "contour": [
           {
            "colorbar": {
             "outlinewidth": 0,
             "ticks": ""
            },
            "colorscale": [
             [
              0,
              "#0d0887"
             ],
             [
              0.1111111111111111,
              "#46039f"
             ],
             [
              0.2222222222222222,
              "#7201a8"
             ],
             [
              0.3333333333333333,
              "#9c179e"
             ],
             [
              0.4444444444444444,
              "#bd3786"
             ],
             [
              0.5555555555555556,
              "#d8576b"
             ],
             [
              0.6666666666666666,
              "#ed7953"
             ],
             [
              0.7777777777777778,
              "#fb9f3a"
             ],
             [
              0.8888888888888888,
              "#fdca26"
             ],
             [
              1,
              "#f0f921"
             ]
            ],
            "type": "contour"
           }
          ],
          "contourcarpet": [
           {
            "colorbar": {
             "outlinewidth": 0,
             "ticks": ""
            },
            "type": "contourcarpet"
           }
          ],
          "heatmap": [
           {
            "colorbar": {
             "outlinewidth": 0,
             "ticks": ""
            },
            "colorscale": [
             [
              0,
              "#0d0887"
             ],
             [
              0.1111111111111111,
              "#46039f"
             ],
             [
              0.2222222222222222,
              "#7201a8"
             ],
             [
              0.3333333333333333,
              "#9c179e"
             ],
             [
              0.4444444444444444,
              "#bd3786"
             ],
             [
              0.5555555555555556,
              "#d8576b"
             ],
             [
              0.6666666666666666,
              "#ed7953"
             ],
             [
              0.7777777777777778,
              "#fb9f3a"
             ],
             [
              0.8888888888888888,
              "#fdca26"
             ],
             [
              1,
              "#f0f921"
             ]
            ],
            "type": "heatmap"
           }
          ],
          "heatmapgl": [
           {
            "colorbar": {
             "outlinewidth": 0,
             "ticks": ""
            },
            "colorscale": [
             [
              0,
              "#0d0887"
             ],
             [
              0.1111111111111111,
              "#46039f"
             ],
             [
              0.2222222222222222,
              "#7201a8"
             ],
             [
              0.3333333333333333,
              "#9c179e"
             ],
             [
              0.4444444444444444,
              "#bd3786"
             ],
             [
              0.5555555555555556,
              "#d8576b"
             ],
             [
              0.6666666666666666,
              "#ed7953"
             ],
             [
              0.7777777777777778,
              "#fb9f3a"
             ],
             [
              0.8888888888888888,
              "#fdca26"
             ],
             [
              1,
              "#f0f921"
             ]
            ],
            "type": "heatmapgl"
           }
          ],
          "histogram": [
           {
            "marker": {
             "colorbar": {
              "outlinewidth": 0,
              "ticks": ""
             }
            },
            "type": "histogram"
           }
          ],
          "histogram2d": [
           {
            "colorbar": {
             "outlinewidth": 0,
             "ticks": ""
            },
            "colorscale": [
             [
              0,
              "#0d0887"
             ],
             [
              0.1111111111111111,
              "#46039f"
             ],
             [
              0.2222222222222222,
              "#7201a8"
             ],
             [
              0.3333333333333333,
              "#9c179e"
             ],
             [
              0.4444444444444444,
              "#bd3786"
             ],
             [
              0.5555555555555556,
              "#d8576b"
             ],
             [
              0.6666666666666666,
              "#ed7953"
             ],
             [
              0.7777777777777778,
              "#fb9f3a"
             ],
             [
              0.8888888888888888,
              "#fdca26"
             ],
             [
              1,
              "#f0f921"
             ]
            ],
            "type": "histogram2d"
           }
          ],
          "histogram2dcontour": [
           {
            "colorbar": {
             "outlinewidth": 0,
             "ticks": ""
            },
            "colorscale": [
             [
              0,
              "#0d0887"
             ],
             [
              0.1111111111111111,
              "#46039f"
             ],
             [
              0.2222222222222222,
              "#7201a8"
             ],
             [
              0.3333333333333333,
              "#9c179e"
             ],
             [
              0.4444444444444444,
              "#bd3786"
             ],
             [
              0.5555555555555556,
              "#d8576b"
             ],
             [
              0.6666666666666666,
              "#ed7953"
             ],
             [
              0.7777777777777778,
              "#fb9f3a"
             ],
             [
              0.8888888888888888,
              "#fdca26"
             ],
             [
              1,
              "#f0f921"
             ]
            ],
            "type": "histogram2dcontour"
           }
          ],
          "mesh3d": [
           {
            "colorbar": {
             "outlinewidth": 0,
             "ticks": ""
            },
            "type": "mesh3d"
           }
          ],
          "parcoords": [
           {
            "line": {
             "colorbar": {
              "outlinewidth": 0,
              "ticks": ""
             }
            },
            "type": "parcoords"
           }
          ],
          "pie": [
           {
            "automargin": true,
            "type": "pie"
           }
          ],
          "scatter": [
           {
            "marker": {
             "colorbar": {
              "outlinewidth": 0,
              "ticks": ""
             }
            },
            "type": "scatter"
           }
          ],
          "scatter3d": [
           {
            "line": {
             "colorbar": {
              "outlinewidth": 0,
              "ticks": ""
             }
            },
            "marker": {
             "colorbar": {
              "outlinewidth": 0,
              "ticks": ""
             }
            },
            "type": "scatter3d"
           }
          ],
          "scattercarpet": [
           {
            "marker": {
             "colorbar": {
              "outlinewidth": 0,
              "ticks": ""
             }
            },
            "type": "scattercarpet"
           }
          ],
          "scattergeo": [
           {
            "marker": {
             "colorbar": {
              "outlinewidth": 0,
              "ticks": ""
             }
            },
            "type": "scattergeo"
           }
          ],
          "scattergl": [
           {
            "marker": {
             "colorbar": {
              "outlinewidth": 0,
              "ticks": ""
             }
            },
            "type": "scattergl"
           }
          ],
          "scattermapbox": [
           {
            "marker": {
             "colorbar": {
              "outlinewidth": 0,
              "ticks": ""
             }
            },
            "type": "scattermapbox"
           }
          ],
          "scatterpolar": [
           {
            "marker": {
             "colorbar": {
              "outlinewidth": 0,
              "ticks": ""
             }
            },
            "type": "scatterpolar"
           }
          ],
          "scatterpolargl": [
           {
            "marker": {
             "colorbar": {
              "outlinewidth": 0,
              "ticks": ""
             }
            },
            "type": "scatterpolargl"
           }
          ],
          "scatterternary": [
           {
            "marker": {
             "colorbar": {
              "outlinewidth": 0,
              "ticks": ""
             }
            },
            "type": "scatterternary"
           }
          ],
          "surface": [
           {
            "colorbar": {
             "outlinewidth": 0,
             "ticks": ""
            },
            "colorscale": [
             [
              0,
              "#0d0887"
             ],
             [
              0.1111111111111111,
              "#46039f"
             ],
             [
              0.2222222222222222,
              "#7201a8"
             ],
             [
              0.3333333333333333,
              "#9c179e"
             ],
             [
              0.4444444444444444,
              "#bd3786"
             ],
             [
              0.5555555555555556,
              "#d8576b"
             ],
             [
              0.6666666666666666,
              "#ed7953"
             ],
             [
              0.7777777777777778,
              "#fb9f3a"
             ],
             [
              0.8888888888888888,
              "#fdca26"
             ],
             [
              1,
              "#f0f921"
             ]
            ],
            "type": "surface"
           }
          ],
          "table": [
           {
            "cells": {
             "fill": {
              "color": "#EBF0F8"
             },
             "line": {
              "color": "white"
             }
            },
            "header": {
             "fill": {
              "color": "#C8D4E3"
             },
             "line": {
              "color": "white"
             }
            },
            "type": "table"
           }
          ]
         },
         "layout": {
          "annotationdefaults": {
           "arrowcolor": "#2a3f5f",
           "arrowhead": 0,
           "arrowwidth": 1
          },
          "coloraxis": {
           "colorbar": {
            "outlinewidth": 0,
            "ticks": ""
           }
          },
          "colorscale": {
           "diverging": [
            [
             0,
             "#8e0152"
            ],
            [
             0.1,
             "#c51b7d"
            ],
            [
             0.2,
             "#de77ae"
            ],
            [
             0.3,
             "#f1b6da"
            ],
            [
             0.4,
             "#fde0ef"
            ],
            [
             0.5,
             "#f7f7f7"
            ],
            [
             0.6,
             "#e6f5d0"
            ],
            [
             0.7,
             "#b8e186"
            ],
            [
             0.8,
             "#7fbc41"
            ],
            [
             0.9,
             "#4d9221"
            ],
            [
             1,
             "#276419"
            ]
           ],
           "sequential": [
            [
             0,
             "#0d0887"
            ],
            [
             0.1111111111111111,
             "#46039f"
            ],
            [
             0.2222222222222222,
             "#7201a8"
            ],
            [
             0.3333333333333333,
             "#9c179e"
            ],
            [
             0.4444444444444444,
             "#bd3786"
            ],
            [
             0.5555555555555556,
             "#d8576b"
            ],
            [
             0.6666666666666666,
             "#ed7953"
            ],
            [
             0.7777777777777778,
             "#fb9f3a"
            ],
            [
             0.8888888888888888,
             "#fdca26"
            ],
            [
             1,
             "#f0f921"
            ]
           ],
           "sequentialminus": [
            [
             0,
             "#0d0887"
            ],
            [
             0.1111111111111111,
             "#46039f"
            ],
            [
             0.2222222222222222,
             "#7201a8"
            ],
            [
             0.3333333333333333,
             "#9c179e"
            ],
            [
             0.4444444444444444,
             "#bd3786"
            ],
            [
             0.5555555555555556,
             "#d8576b"
            ],
            [
             0.6666666666666666,
             "#ed7953"
            ],
            [
             0.7777777777777778,
             "#fb9f3a"
            ],
            [
             0.8888888888888888,
             "#fdca26"
            ],
            [
             1,
             "#f0f921"
            ]
           ]
          },
          "colorway": [
           "#636efa",
           "#EF553B",
           "#00cc96",
           "#ab63fa",
           "#FFA15A",
           "#19d3f3",
           "#FF6692",
           "#B6E880",
           "#FF97FF",
           "#FECB52"
          ],
          "font": {
           "color": "#2a3f5f"
          },
          "geo": {
           "bgcolor": "white",
           "lakecolor": "white",
           "landcolor": "#E5ECF6",
           "showlakes": true,
           "showland": true,
           "subunitcolor": "white"
          },
          "hoverlabel": {
           "align": "left"
          },
          "hovermode": "closest",
          "mapbox": {
           "style": "light"
          },
          "paper_bgcolor": "white",
          "plot_bgcolor": "#E5ECF6",
          "polar": {
           "angularaxis": {
            "gridcolor": "white",
            "linecolor": "white",
            "ticks": ""
           },
           "bgcolor": "#E5ECF6",
           "radialaxis": {
            "gridcolor": "white",
            "linecolor": "white",
            "ticks": ""
           }
          },
          "scene": {
           "xaxis": {
            "backgroundcolor": "#E5ECF6",
            "gridcolor": "white",
            "gridwidth": 2,
            "linecolor": "white",
            "showbackground": true,
            "ticks": "",
            "zerolinecolor": "white"
           },
           "yaxis": {
            "backgroundcolor": "#E5ECF6",
            "gridcolor": "white",
            "gridwidth": 2,
            "linecolor": "white",
            "showbackground": true,
            "ticks": "",
            "zerolinecolor": "white"
           },
           "zaxis": {
            "backgroundcolor": "#E5ECF6",
            "gridcolor": "white",
            "gridwidth": 2,
            "linecolor": "white",
            "showbackground": true,
            "ticks": "",
            "zerolinecolor": "white"
           }
          },
          "shapedefaults": {
           "line": {
            "color": "#2a3f5f"
           }
          },
          "ternary": {
           "aaxis": {
            "gridcolor": "white",
            "linecolor": "white",
            "ticks": ""
           },
           "baxis": {
            "gridcolor": "white",
            "linecolor": "white",
            "ticks": ""
           },
           "bgcolor": "#E5ECF6",
           "caxis": {
            "gridcolor": "white",
            "linecolor": "white",
            "ticks": ""
           }
          },
          "title": {
           "x": 0.05
          },
          "xaxis": {
           "automargin": true,
           "gridcolor": "white",
           "linecolor": "white",
           "ticks": "",
           "title": {
            "standoff": 15
           },
           "zerolinecolor": "white",
           "zerolinewidth": 2
          },
          "yaxis": {
           "automargin": true,
           "gridcolor": "white",
           "linecolor": "white",
           "ticks": "",
           "title": {
            "standoff": 15
           },
           "zerolinecolor": "white",
           "zerolinewidth": 2
          }
         }
        },
        "yaxis": {
         "title": {
          "text": "Availability in Percent"
         }
        }
       }
      },
      "text/html": [
       "<div>\n",
       "        \n",
       "        \n",
       "            <div id=\"92c39375-6191-44ec-8337-c64fc735d8dd\" class=\"plotly-graph-div\" style=\"height:525px; width:100%;\"></div>\n",
       "            <script type=\"text/javascript\">\n",
       "                require([\"plotly\"], function(Plotly) {\n",
       "                    window.PLOTLYENV=window.PLOTLYENV || {};\n",
       "                    \n",
       "                if (document.getElementById(\"92c39375-6191-44ec-8337-c64fc735d8dd\")) {\n",
       "                    Plotly.newPlot(\n",
       "                        '92c39375-6191-44ec-8337-c64fc735d8dd',\n",
       "                        [{\"name\": \"Seattle\", \"text\": \"avg availability in %\", \"type\": \"bar\", \"x\": [\"January\", \"February\", \"March\", \"April\", \"May\", \"June\", \"July\", \"August\", \"September\", \"October\", \"November\", \"December\"], \"y\": [56.69, 66.22, 70.92, 66.38, 67.57, 67.44, 62.71, 64.51, 67.44, 69.65, 71.39999999999999, 73.56]}, {\"name\": \"Boston\", \"text\": \"avg availability in %\", \"type\": \"bar\", \"x\": [\"January\", \"February\", \"March\", \"April\", \"May\", \"June\", \"July\", \"August\", \"September\", \"October\", \"November\", \"December\"], \"y\": [56.830000000000005, 56.58, 49.64, 47.760000000000005, 48.22, 49.02, 49.44, 49.980000000000004, 31.04, 41.69, 54.74, 54.87]}],\n",
       "                        {\"template\": {\"data\": {\"bar\": [{\"error_x\": {\"color\": \"#2a3f5f\"}, \"error_y\": {\"color\": \"#2a3f5f\"}, \"marker\": {\"line\": {\"color\": \"#E5ECF6\", \"width\": 0.5}}, \"type\": \"bar\"}], \"barpolar\": [{\"marker\": {\"line\": {\"color\": \"#E5ECF6\", \"width\": 0.5}}, \"type\": \"barpolar\"}], \"carpet\": [{\"aaxis\": {\"endlinecolor\": \"#2a3f5f\", \"gridcolor\": \"white\", \"linecolor\": \"white\", \"minorgridcolor\": \"white\", \"startlinecolor\": \"#2a3f5f\"}, \"baxis\": {\"endlinecolor\": \"#2a3f5f\", \"gridcolor\": \"white\", \"linecolor\": \"white\", \"minorgridcolor\": \"white\", \"startlinecolor\": \"#2a3f5f\"}, \"type\": \"carpet\"}], \"choropleth\": [{\"colorbar\": {\"outlinewidth\": 0, \"ticks\": \"\"}, \"type\": \"choropleth\"}], \"contour\": [{\"colorbar\": {\"outlinewidth\": 0, \"ticks\": \"\"}, \"colorscale\": [[0.0, \"#0d0887\"], [0.1111111111111111, \"#46039f\"], [0.2222222222222222, \"#7201a8\"], [0.3333333333333333, \"#9c179e\"], [0.4444444444444444, \"#bd3786\"], [0.5555555555555556, \"#d8576b\"], [0.6666666666666666, \"#ed7953\"], [0.7777777777777778, \"#fb9f3a\"], [0.8888888888888888, \"#fdca26\"], [1.0, \"#f0f921\"]], \"type\": \"contour\"}], \"contourcarpet\": [{\"colorbar\": {\"outlinewidth\": 0, \"ticks\": \"\"}, \"type\": \"contourcarpet\"}], \"heatmap\": [{\"colorbar\": {\"outlinewidth\": 0, \"ticks\": \"\"}, \"colorscale\": [[0.0, \"#0d0887\"], [0.1111111111111111, \"#46039f\"], [0.2222222222222222, \"#7201a8\"], [0.3333333333333333, \"#9c179e\"], [0.4444444444444444, \"#bd3786\"], [0.5555555555555556, \"#d8576b\"], [0.6666666666666666, \"#ed7953\"], [0.7777777777777778, \"#fb9f3a\"], [0.8888888888888888, \"#fdca26\"], [1.0, \"#f0f921\"]], \"type\": \"heatmap\"}], \"heatmapgl\": [{\"colorbar\": {\"outlinewidth\": 0, \"ticks\": \"\"}, \"colorscale\": [[0.0, \"#0d0887\"], [0.1111111111111111, \"#46039f\"], [0.2222222222222222, \"#7201a8\"], [0.3333333333333333, \"#9c179e\"], [0.4444444444444444, \"#bd3786\"], [0.5555555555555556, \"#d8576b\"], [0.6666666666666666, \"#ed7953\"], [0.7777777777777778, \"#fb9f3a\"], [0.8888888888888888, \"#fdca26\"], [1.0, \"#f0f921\"]], \"type\": \"heatmapgl\"}], \"histogram\": [{\"marker\": {\"colorbar\": {\"outlinewidth\": 0, \"ticks\": \"\"}}, \"type\": \"histogram\"}], \"histogram2d\": [{\"colorbar\": {\"outlinewidth\": 0, \"ticks\": \"\"}, \"colorscale\": [[0.0, \"#0d0887\"], [0.1111111111111111, \"#46039f\"], [0.2222222222222222, \"#7201a8\"], [0.3333333333333333, \"#9c179e\"], [0.4444444444444444, \"#bd3786\"], [0.5555555555555556, \"#d8576b\"], [0.6666666666666666, \"#ed7953\"], [0.7777777777777778, \"#fb9f3a\"], [0.8888888888888888, \"#fdca26\"], [1.0, \"#f0f921\"]], \"type\": \"histogram2d\"}], \"histogram2dcontour\": [{\"colorbar\": {\"outlinewidth\": 0, \"ticks\": \"\"}, \"colorscale\": [[0.0, \"#0d0887\"], [0.1111111111111111, \"#46039f\"], [0.2222222222222222, \"#7201a8\"], [0.3333333333333333, \"#9c179e\"], [0.4444444444444444, \"#bd3786\"], [0.5555555555555556, \"#d8576b\"], [0.6666666666666666, \"#ed7953\"], [0.7777777777777778, \"#fb9f3a\"], [0.8888888888888888, \"#fdca26\"], [1.0, \"#f0f921\"]], \"type\": \"histogram2dcontour\"}], \"mesh3d\": [{\"colorbar\": {\"outlinewidth\": 0, \"ticks\": \"\"}, \"type\": \"mesh3d\"}], \"parcoords\": [{\"line\": {\"colorbar\": {\"outlinewidth\": 0, \"ticks\": \"\"}}, \"type\": \"parcoords\"}], \"pie\": [{\"automargin\": true, \"type\": \"pie\"}], \"scatter\": [{\"marker\": {\"colorbar\": {\"outlinewidth\": 0, \"ticks\": \"\"}}, \"type\": \"scatter\"}], \"scatter3d\": [{\"line\": {\"colorbar\": {\"outlinewidth\": 0, \"ticks\": \"\"}}, \"marker\": {\"colorbar\": {\"outlinewidth\": 0, \"ticks\": \"\"}}, \"type\": \"scatter3d\"}], \"scattercarpet\": [{\"marker\": {\"colorbar\": {\"outlinewidth\": 0, \"ticks\": \"\"}}, \"type\": \"scattercarpet\"}], \"scattergeo\": [{\"marker\": {\"colorbar\": {\"outlinewidth\": 0, \"ticks\": \"\"}}, \"type\": \"scattergeo\"}], \"scattergl\": [{\"marker\": {\"colorbar\": {\"outlinewidth\": 0, \"ticks\": \"\"}}, \"type\": \"scattergl\"}], \"scattermapbox\": [{\"marker\": {\"colorbar\": {\"outlinewidth\": 0, \"ticks\": \"\"}}, \"type\": \"scattermapbox\"}], \"scatterpolar\": [{\"marker\": {\"colorbar\": {\"outlinewidth\": 0, \"ticks\": \"\"}}, \"type\": \"scatterpolar\"}], \"scatterpolargl\": [{\"marker\": {\"colorbar\": {\"outlinewidth\": 0, \"ticks\": \"\"}}, \"type\": \"scatterpolargl\"}], \"scatterternary\": [{\"marker\": {\"colorbar\": {\"outlinewidth\": 0, \"ticks\": \"\"}}, \"type\": \"scatterternary\"}], \"surface\": [{\"colorbar\": {\"outlinewidth\": 0, \"ticks\": \"\"}, \"colorscale\": [[0.0, \"#0d0887\"], [0.1111111111111111, \"#46039f\"], [0.2222222222222222, \"#7201a8\"], [0.3333333333333333, \"#9c179e\"], [0.4444444444444444, \"#bd3786\"], [0.5555555555555556, \"#d8576b\"], [0.6666666666666666, \"#ed7953\"], [0.7777777777777778, \"#fb9f3a\"], [0.8888888888888888, \"#fdca26\"], [1.0, \"#f0f921\"]], \"type\": \"surface\"}], \"table\": [{\"cells\": {\"fill\": {\"color\": \"#EBF0F8\"}, \"line\": {\"color\": \"white\"}}, \"header\": {\"fill\": {\"color\": \"#C8D4E3\"}, \"line\": {\"color\": \"white\"}}, \"type\": \"table\"}]}, \"layout\": {\"annotationdefaults\": {\"arrowcolor\": \"#2a3f5f\", \"arrowhead\": 0, \"arrowwidth\": 1}, \"coloraxis\": {\"colorbar\": {\"outlinewidth\": 0, \"ticks\": \"\"}}, \"colorscale\": {\"diverging\": [[0, \"#8e0152\"], [0.1, \"#c51b7d\"], [0.2, \"#de77ae\"], [0.3, \"#f1b6da\"], [0.4, \"#fde0ef\"], [0.5, \"#f7f7f7\"], [0.6, \"#e6f5d0\"], [0.7, \"#b8e186\"], [0.8, \"#7fbc41\"], [0.9, \"#4d9221\"], [1, \"#276419\"]], \"sequential\": [[0.0, \"#0d0887\"], [0.1111111111111111, \"#46039f\"], [0.2222222222222222, \"#7201a8\"], [0.3333333333333333, \"#9c179e\"], [0.4444444444444444, \"#bd3786\"], [0.5555555555555556, \"#d8576b\"], [0.6666666666666666, \"#ed7953\"], [0.7777777777777778, \"#fb9f3a\"], [0.8888888888888888, \"#fdca26\"], [1.0, \"#f0f921\"]], \"sequentialminus\": [[0.0, \"#0d0887\"], [0.1111111111111111, \"#46039f\"], [0.2222222222222222, \"#7201a8\"], [0.3333333333333333, \"#9c179e\"], [0.4444444444444444, \"#bd3786\"], [0.5555555555555556, \"#d8576b\"], [0.6666666666666666, \"#ed7953\"], [0.7777777777777778, \"#fb9f3a\"], [0.8888888888888888, \"#fdca26\"], [1.0, \"#f0f921\"]]}, \"colorway\": [\"#636efa\", \"#EF553B\", \"#00cc96\", \"#ab63fa\", \"#FFA15A\", \"#19d3f3\", \"#FF6692\", \"#B6E880\", \"#FF97FF\", \"#FECB52\"], \"font\": {\"color\": \"#2a3f5f\"}, \"geo\": {\"bgcolor\": \"white\", \"lakecolor\": \"white\", \"landcolor\": \"#E5ECF6\", \"showlakes\": true, \"showland\": true, \"subunitcolor\": \"white\"}, \"hoverlabel\": {\"align\": \"left\"}, \"hovermode\": \"closest\", \"mapbox\": {\"style\": \"light\"}, \"paper_bgcolor\": \"white\", \"plot_bgcolor\": \"#E5ECF6\", \"polar\": {\"angularaxis\": {\"gridcolor\": \"white\", \"linecolor\": \"white\", \"ticks\": \"\"}, \"bgcolor\": \"#E5ECF6\", \"radialaxis\": {\"gridcolor\": \"white\", \"linecolor\": \"white\", \"ticks\": \"\"}}, \"scene\": {\"xaxis\": {\"backgroundcolor\": \"#E5ECF6\", \"gridcolor\": \"white\", \"gridwidth\": 2, \"linecolor\": \"white\", \"showbackground\": true, \"ticks\": \"\", \"zerolinecolor\": \"white\"}, \"yaxis\": {\"backgroundcolor\": \"#E5ECF6\", \"gridcolor\": \"white\", \"gridwidth\": 2, \"linecolor\": \"white\", \"showbackground\": true, \"ticks\": \"\", \"zerolinecolor\": \"white\"}, \"zaxis\": {\"backgroundcolor\": \"#E5ECF6\", \"gridcolor\": \"white\", \"gridwidth\": 2, \"linecolor\": \"white\", \"showbackground\": true, \"ticks\": \"\", \"zerolinecolor\": \"white\"}}, \"shapedefaults\": {\"line\": {\"color\": \"#2a3f5f\"}}, \"ternary\": {\"aaxis\": {\"gridcolor\": \"white\", \"linecolor\": \"white\", \"ticks\": \"\"}, \"baxis\": {\"gridcolor\": \"white\", \"linecolor\": \"white\", \"ticks\": \"\"}, \"bgcolor\": \"#E5ECF6\", \"caxis\": {\"gridcolor\": \"white\", \"linecolor\": \"white\", \"ticks\": \"\"}}, \"title\": {\"x\": 0.05}, \"xaxis\": {\"automargin\": true, \"gridcolor\": \"white\", \"linecolor\": \"white\", \"ticks\": \"\", \"title\": {\"standoff\": 15}, \"zerolinecolor\": \"white\", \"zerolinewidth\": 2}, \"yaxis\": {\"automargin\": true, \"gridcolor\": \"white\", \"linecolor\": \"white\", \"ticks\": \"\", \"title\": {\"standoff\": 15}, \"zerolinecolor\": \"white\", \"zerolinewidth\": 2}}}, \"yaxis\": {\"title\": {\"text\": \"Availability in Percent\"}}},\n",
       "                        {\"responsive\": true}\n",
       "                    ).then(function(){\n",
       "                            \n",
       "var gd = document.getElementById('92c39375-6191-44ec-8337-c64fc735d8dd');\n",
       "var x = new MutationObserver(function (mutations, observer) {{\n",
       "        var display = window.getComputedStyle(gd).display;\n",
       "        if (!display || display === 'none') {{\n",
       "            console.log([gd, 'removed!']);\n",
       "            Plotly.purge(gd);\n",
       "            observer.disconnect();\n",
       "        }}\n",
       "}});\n",
       "\n",
       "// Listen for the removal of the full notebook cells\n",
       "var notebookContainer = gd.closest('#notebook-container');\n",
       "if (notebookContainer) {{\n",
       "    x.observe(notebookContainer, {childList: true});\n",
       "}}\n",
       "\n",
       "// Listen for the clearing of the current output cell\n",
       "var outputEl = gd.closest('.output');\n",
       "if (outputEl) {{\n",
       "    x.observe(outputEl, {childList: true});\n",
       "}}\n",
       "\n",
       "                        })\n",
       "                };\n",
       "                });\n",
       "            </script>\n",
       "        </div>"
      ]
     },
     "metadata": {},
     "output_type": "display_data"
    }
   ],
   "source": [
    "avail_m = df[[\"month\",\"city\",\"available\"]].groupby([\"month\",\"city\"]).available.mean().reset_index()\n",
    "avail_m.month.replace({1:\"January\",2:\"February\",3:\"March\",4:\"April\",5:\"May\",6:\"June\",7:\"July\",8:\"August\",\n",
    "                          9:\"September\",10:\"October\",11:\"November\",12:\"December\"},inplace=True)\n",
    "avail_m.available = avail_m.available.round(4)*100\n",
    "sea_avail_m = avail_m[avail_m[\"city\"] ==\"Seattle\"]\n",
    "bos_avail_m = avail_m[avail_m[\"city\"] ==\"Boston\"]\n",
    "# percentage of availability per year\n",
    "sea_avail_m.mean()#67%\n",
    "bos_avail_m.mean()#49%\n",
    "avail_month = go.Figure()\n",
    "avail_month.add_trace(go.Bar(x=sea_avail_m.month, y=sea_avail_m.available,name=\"Seattle\", text=\"avg availability in %\"))\n",
    "avail_month.add_trace(go.Bar(x=bos_avail_m.month, y=bos_avail_m.available,name=\"Boston\", text=\"avg availability in %\"))          \n",
    "avail_month.update_layout(yaxis_title=\"Availability in Percent\")\n",
    "\n",
    "avail_month.show()"
   ]
  },
  {
   "cell_type": "markdown",
   "metadata": {},
   "source": [
    "The second availability plot shows the average availability of the listings by month. In general, the average listing vacancies in Seattle is significantly higher than in Boston. Seattle has lowest listings vacancies in January and highest listings vacancies in December. The average availability in Boston is mostly at about 55 to 65 percent throughout the whole period. We can also identify low vacancies in September and October 2016, the availability is at 30-40 percent in these two months. "
   ]
  },
  {
   "cell_type": "code",
   "execution_count": 73,
   "metadata": {},
   "outputs": [
    {
     "data": {
      "application/vnd.plotly.v1+json": {
       "config": {
        "plotlyServerURL": "https://plot.ly"
       },
       "data": [
        {
         "name": "Seattle",
         "text": "avg availability in %",
         "type": "bar",
         "x": [
          "Monday",
          "Tuesday",
          "Wednesday",
          "Thursday",
          "Friday",
          "Saturday",
          "Sunday"
         ],
         "y": [
          0.6711011395870603,
          0.6719537010919934,
          0.671792521255591,
          0.6697425152113471,
          0.6689114316798969,
          0.6677579884756417,
          0.6730013700286094
         ]
        },
        {
         "name": "Boston",
         "text": "avg availability in %",
         "type": "bar",
         "x": [
          "Monday",
          "Tuesday",
          "Wednesday",
          "Thursday",
          "Friday",
          "Saturday",
          "Sunday"
         ],
         "y": [
          0.49558646874597795,
          0.4910711467025855,
          0.49238491569779913,
          0.4890921961474109,
          0.4879981981208975,
          0.48837358960058347,
          0.4944871079840405
         ]
        }
       ],
       "layout": {
        "template": {
         "data": {
          "bar": [
           {
            "error_x": {
             "color": "#2a3f5f"
            },
            "error_y": {
             "color": "#2a3f5f"
            },
            "marker": {
             "line": {
              "color": "#E5ECF6",
              "width": 0.5
             }
            },
            "type": "bar"
           }
          ],
          "barpolar": [
           {
            "marker": {
             "line": {
              "color": "#E5ECF6",
              "width": 0.5
             }
            },
            "type": "barpolar"
           }
          ],
          "carpet": [
           {
            "aaxis": {
             "endlinecolor": "#2a3f5f",
             "gridcolor": "white",
             "linecolor": "white",
             "minorgridcolor": "white",
             "startlinecolor": "#2a3f5f"
            },
            "baxis": {
             "endlinecolor": "#2a3f5f",
             "gridcolor": "white",
             "linecolor": "white",
             "minorgridcolor": "white",
             "startlinecolor": "#2a3f5f"
            },
            "type": "carpet"
           }
          ],
          "choropleth": [
           {
            "colorbar": {
             "outlinewidth": 0,
             "ticks": ""
            },
            "type": "choropleth"
           }
          ],
          "contour": [
           {
            "colorbar": {
             "outlinewidth": 0,
             "ticks": ""
            },
            "colorscale": [
             [
              0,
              "#0d0887"
             ],
             [
              0.1111111111111111,
              "#46039f"
             ],
             [
              0.2222222222222222,
              "#7201a8"
             ],
             [
              0.3333333333333333,
              "#9c179e"
             ],
             [
              0.4444444444444444,
              "#bd3786"
             ],
             [
              0.5555555555555556,
              "#d8576b"
             ],
             [
              0.6666666666666666,
              "#ed7953"
             ],
             [
              0.7777777777777778,
              "#fb9f3a"
             ],
             [
              0.8888888888888888,
              "#fdca26"
             ],
             [
              1,
              "#f0f921"
             ]
            ],
            "type": "contour"
           }
          ],
          "contourcarpet": [
           {
            "colorbar": {
             "outlinewidth": 0,
             "ticks": ""
            },
            "type": "contourcarpet"
           }
          ],
          "heatmap": [
           {
            "colorbar": {
             "outlinewidth": 0,
             "ticks": ""
            },
            "colorscale": [
             [
              0,
              "#0d0887"
             ],
             [
              0.1111111111111111,
              "#46039f"
             ],
             [
              0.2222222222222222,
              "#7201a8"
             ],
             [
              0.3333333333333333,
              "#9c179e"
             ],
             [
              0.4444444444444444,
              "#bd3786"
             ],
             [
              0.5555555555555556,
              "#d8576b"
             ],
             [
              0.6666666666666666,
              "#ed7953"
             ],
             [
              0.7777777777777778,
              "#fb9f3a"
             ],
             [
              0.8888888888888888,
              "#fdca26"
             ],
             [
              1,
              "#f0f921"
             ]
            ],
            "type": "heatmap"
           }
          ],
          "heatmapgl": [
           {
            "colorbar": {
             "outlinewidth": 0,
             "ticks": ""
            },
            "colorscale": [
             [
              0,
              "#0d0887"
             ],
             [
              0.1111111111111111,
              "#46039f"
             ],
             [
              0.2222222222222222,
              "#7201a8"
             ],
             [
              0.3333333333333333,
              "#9c179e"
             ],
             [
              0.4444444444444444,
              "#bd3786"
             ],
             [
              0.5555555555555556,
              "#d8576b"
             ],
             [
              0.6666666666666666,
              "#ed7953"
             ],
             [
              0.7777777777777778,
              "#fb9f3a"
             ],
             [
              0.8888888888888888,
              "#fdca26"
             ],
             [
              1,
              "#f0f921"
             ]
            ],
            "type": "heatmapgl"
           }
          ],
          "histogram": [
           {
            "marker": {
             "colorbar": {
              "outlinewidth": 0,
              "ticks": ""
             }
            },
            "type": "histogram"
           }
          ],
          "histogram2d": [
           {
            "colorbar": {
             "outlinewidth": 0,
             "ticks": ""
            },
            "colorscale": [
             [
              0,
              "#0d0887"
             ],
             [
              0.1111111111111111,
              "#46039f"
             ],
             [
              0.2222222222222222,
              "#7201a8"
             ],
             [
              0.3333333333333333,
              "#9c179e"
             ],
             [
              0.4444444444444444,
              "#bd3786"
             ],
             [
              0.5555555555555556,
              "#d8576b"
             ],
             [
              0.6666666666666666,
              "#ed7953"
             ],
             [
              0.7777777777777778,
              "#fb9f3a"
             ],
             [
              0.8888888888888888,
              "#fdca26"
             ],
             [
              1,
              "#f0f921"
             ]
            ],
            "type": "histogram2d"
           }
          ],
          "histogram2dcontour": [
           {
            "colorbar": {
             "outlinewidth": 0,
             "ticks": ""
            },
            "colorscale": [
             [
              0,
              "#0d0887"
             ],
             [
              0.1111111111111111,
              "#46039f"
             ],
             [
              0.2222222222222222,
              "#7201a8"
             ],
             [
              0.3333333333333333,
              "#9c179e"
             ],
             [
              0.4444444444444444,
              "#bd3786"
             ],
             [
              0.5555555555555556,
              "#d8576b"
             ],
             [
              0.6666666666666666,
              "#ed7953"
             ],
             [
              0.7777777777777778,
              "#fb9f3a"
             ],
             [
              0.8888888888888888,
              "#fdca26"
             ],
             [
              1,
              "#f0f921"
             ]
            ],
            "type": "histogram2dcontour"
           }
          ],
          "mesh3d": [
           {
            "colorbar": {
             "outlinewidth": 0,
             "ticks": ""
            },
            "type": "mesh3d"
           }
          ],
          "parcoords": [
           {
            "line": {
             "colorbar": {
              "outlinewidth": 0,
              "ticks": ""
             }
            },
            "type": "parcoords"
           }
          ],
          "pie": [
           {
            "automargin": true,
            "type": "pie"
           }
          ],
          "scatter": [
           {
            "marker": {
             "colorbar": {
              "outlinewidth": 0,
              "ticks": ""
             }
            },
            "type": "scatter"
           }
          ],
          "scatter3d": [
           {
            "line": {
             "colorbar": {
              "outlinewidth": 0,
              "ticks": ""
             }
            },
            "marker": {
             "colorbar": {
              "outlinewidth": 0,
              "ticks": ""
             }
            },
            "type": "scatter3d"
           }
          ],
          "scattercarpet": [
           {
            "marker": {
             "colorbar": {
              "outlinewidth": 0,
              "ticks": ""
             }
            },
            "type": "scattercarpet"
           }
          ],
          "scattergeo": [
           {
            "marker": {
             "colorbar": {
              "outlinewidth": 0,
              "ticks": ""
             }
            },
            "type": "scattergeo"
           }
          ],
          "scattergl": [
           {
            "marker": {
             "colorbar": {
              "outlinewidth": 0,
              "ticks": ""
             }
            },
            "type": "scattergl"
           }
          ],
          "scattermapbox": [
           {
            "marker": {
             "colorbar": {
              "outlinewidth": 0,
              "ticks": ""
             }
            },
            "type": "scattermapbox"
           }
          ],
          "scatterpolar": [
           {
            "marker": {
             "colorbar": {
              "outlinewidth": 0,
              "ticks": ""
             }
            },
            "type": "scatterpolar"
           }
          ],
          "scatterpolargl": [
           {
            "marker": {
             "colorbar": {
              "outlinewidth": 0,
              "ticks": ""
             }
            },
            "type": "scatterpolargl"
           }
          ],
          "scatterternary": [
           {
            "marker": {
             "colorbar": {
              "outlinewidth": 0,
              "ticks": ""
             }
            },
            "type": "scatterternary"
           }
          ],
          "surface": [
           {
            "colorbar": {
             "outlinewidth": 0,
             "ticks": ""
            },
            "colorscale": [
             [
              0,
              "#0d0887"
             ],
             [
              0.1111111111111111,
              "#46039f"
             ],
             [
              0.2222222222222222,
              "#7201a8"
             ],
             [
              0.3333333333333333,
              "#9c179e"
             ],
             [
              0.4444444444444444,
              "#bd3786"
             ],
             [
              0.5555555555555556,
              "#d8576b"
             ],
             [
              0.6666666666666666,
              "#ed7953"
             ],
             [
              0.7777777777777778,
              "#fb9f3a"
             ],
             [
              0.8888888888888888,
              "#fdca26"
             ],
             [
              1,
              "#f0f921"
             ]
            ],
            "type": "surface"
           }
          ],
          "table": [
           {
            "cells": {
             "fill": {
              "color": "#EBF0F8"
             },
             "line": {
              "color": "white"
             }
            },
            "header": {
             "fill": {
              "color": "#C8D4E3"
             },
             "line": {
              "color": "white"
             }
            },
            "type": "table"
           }
          ]
         },
         "layout": {
          "annotationdefaults": {
           "arrowcolor": "#2a3f5f",
           "arrowhead": 0,
           "arrowwidth": 1
          },
          "coloraxis": {
           "colorbar": {
            "outlinewidth": 0,
            "ticks": ""
           }
          },
          "colorscale": {
           "diverging": [
            [
             0,
             "#8e0152"
            ],
            [
             0.1,
             "#c51b7d"
            ],
            [
             0.2,
             "#de77ae"
            ],
            [
             0.3,
             "#f1b6da"
            ],
            [
             0.4,
             "#fde0ef"
            ],
            [
             0.5,
             "#f7f7f7"
            ],
            [
             0.6,
             "#e6f5d0"
            ],
            [
             0.7,
             "#b8e186"
            ],
            [
             0.8,
             "#7fbc41"
            ],
            [
             0.9,
             "#4d9221"
            ],
            [
             1,
             "#276419"
            ]
           ],
           "sequential": [
            [
             0,
             "#0d0887"
            ],
            [
             0.1111111111111111,
             "#46039f"
            ],
            [
             0.2222222222222222,
             "#7201a8"
            ],
            [
             0.3333333333333333,
             "#9c179e"
            ],
            [
             0.4444444444444444,
             "#bd3786"
            ],
            [
             0.5555555555555556,
             "#d8576b"
            ],
            [
             0.6666666666666666,
             "#ed7953"
            ],
            [
             0.7777777777777778,
             "#fb9f3a"
            ],
            [
             0.8888888888888888,
             "#fdca26"
            ],
            [
             1,
             "#f0f921"
            ]
           ],
           "sequentialminus": [
            [
             0,
             "#0d0887"
            ],
            [
             0.1111111111111111,
             "#46039f"
            ],
            [
             0.2222222222222222,
             "#7201a8"
            ],
            [
             0.3333333333333333,
             "#9c179e"
            ],
            [
             0.4444444444444444,
             "#bd3786"
            ],
            [
             0.5555555555555556,
             "#d8576b"
            ],
            [
             0.6666666666666666,
             "#ed7953"
            ],
            [
             0.7777777777777778,
             "#fb9f3a"
            ],
            [
             0.8888888888888888,
             "#fdca26"
            ],
            [
             1,
             "#f0f921"
            ]
           ]
          },
          "colorway": [
           "#636efa",
           "#EF553B",
           "#00cc96",
           "#ab63fa",
           "#FFA15A",
           "#19d3f3",
           "#FF6692",
           "#B6E880",
           "#FF97FF",
           "#FECB52"
          ],
          "font": {
           "color": "#2a3f5f"
          },
          "geo": {
           "bgcolor": "white",
           "lakecolor": "white",
           "landcolor": "#E5ECF6",
           "showlakes": true,
           "showland": true,
           "subunitcolor": "white"
          },
          "hoverlabel": {
           "align": "left"
          },
          "hovermode": "closest",
          "mapbox": {
           "style": "light"
          },
          "paper_bgcolor": "white",
          "plot_bgcolor": "#E5ECF6",
          "polar": {
           "angularaxis": {
            "gridcolor": "white",
            "linecolor": "white",
            "ticks": ""
           },
           "bgcolor": "#E5ECF6",
           "radialaxis": {
            "gridcolor": "white",
            "linecolor": "white",
            "ticks": ""
           }
          },
          "scene": {
           "xaxis": {
            "backgroundcolor": "#E5ECF6",
            "gridcolor": "white",
            "gridwidth": 2,
            "linecolor": "white",
            "showbackground": true,
            "ticks": "",
            "zerolinecolor": "white"
           },
           "yaxis": {
            "backgroundcolor": "#E5ECF6",
            "gridcolor": "white",
            "gridwidth": 2,
            "linecolor": "white",
            "showbackground": true,
            "ticks": "",
            "zerolinecolor": "white"
           },
           "zaxis": {
            "backgroundcolor": "#E5ECF6",
            "gridcolor": "white",
            "gridwidth": 2,
            "linecolor": "white",
            "showbackground": true,
            "ticks": "",
            "zerolinecolor": "white"
           }
          },
          "shapedefaults": {
           "line": {
            "color": "#2a3f5f"
           }
          },
          "ternary": {
           "aaxis": {
            "gridcolor": "white",
            "linecolor": "white",
            "ticks": ""
           },
           "baxis": {
            "gridcolor": "white",
            "linecolor": "white",
            "ticks": ""
           },
           "bgcolor": "#E5ECF6",
           "caxis": {
            "gridcolor": "white",
            "linecolor": "white",
            "ticks": ""
           }
          },
          "title": {
           "x": 0.05
          },
          "xaxis": {
           "automargin": true,
           "gridcolor": "white",
           "linecolor": "white",
           "ticks": "",
           "title": {
            "standoff": 15
           },
           "zerolinecolor": "white",
           "zerolinewidth": 2
          },
          "yaxis": {
           "automargin": true,
           "gridcolor": "white",
           "linecolor": "white",
           "ticks": "",
           "title": {
            "standoff": 15
           },
           "zerolinecolor": "white",
           "zerolinewidth": 2
          }
         }
        },
        "yaxis": {
         "title": {
          "text": "Availability in Percent"
         }
        }
       }
      },
      "text/html": [
       "<div>\n",
       "        \n",
       "        \n",
       "            <div id=\"c3ac529e-036f-4181-8b7b-082a03ca6605\" class=\"plotly-graph-div\" style=\"height:525px; width:100%;\"></div>\n",
       "            <script type=\"text/javascript\">\n",
       "                require([\"plotly\"], function(Plotly) {\n",
       "                    window.PLOTLYENV=window.PLOTLYENV || {};\n",
       "                    \n",
       "                if (document.getElementById(\"c3ac529e-036f-4181-8b7b-082a03ca6605\")) {\n",
       "                    Plotly.newPlot(\n",
       "                        'c3ac529e-036f-4181-8b7b-082a03ca6605',\n",
       "                        [{\"name\": \"Seattle\", \"text\": \"avg availability in %\", \"type\": \"bar\", \"x\": [\"Monday\", \"Tuesday\", \"Wednesday\", \"Thursday\", \"Friday\", \"Saturday\", \"Sunday\"], \"y\": [0.6711011395870603, 0.6719537010919934, 0.671792521255591, 0.6697425152113471, 0.6689114316798969, 0.6677579884756417, 0.6730013700286094]}, {\"name\": \"Boston\", \"text\": \"avg availability in %\", \"type\": \"bar\", \"x\": [\"Monday\", \"Tuesday\", \"Wednesday\", \"Thursday\", \"Friday\", \"Saturday\", \"Sunday\"], \"y\": [0.49558646874597795, 0.4910711467025855, 0.49238491569779913, 0.4890921961474109, 0.4879981981208975, 0.48837358960058347, 0.4944871079840405]}],\n",
       "                        {\"template\": {\"data\": {\"bar\": [{\"error_x\": {\"color\": \"#2a3f5f\"}, \"error_y\": {\"color\": \"#2a3f5f\"}, \"marker\": {\"line\": {\"color\": \"#E5ECF6\", \"width\": 0.5}}, \"type\": \"bar\"}], \"barpolar\": [{\"marker\": {\"line\": {\"color\": \"#E5ECF6\", \"width\": 0.5}}, \"type\": \"barpolar\"}], \"carpet\": [{\"aaxis\": {\"endlinecolor\": \"#2a3f5f\", \"gridcolor\": \"white\", \"linecolor\": \"white\", \"minorgridcolor\": \"white\", \"startlinecolor\": \"#2a3f5f\"}, \"baxis\": {\"endlinecolor\": \"#2a3f5f\", \"gridcolor\": \"white\", \"linecolor\": \"white\", \"minorgridcolor\": \"white\", \"startlinecolor\": \"#2a3f5f\"}, \"type\": \"carpet\"}], \"choropleth\": [{\"colorbar\": {\"outlinewidth\": 0, \"ticks\": \"\"}, \"type\": \"choropleth\"}], \"contour\": [{\"colorbar\": {\"outlinewidth\": 0, \"ticks\": \"\"}, \"colorscale\": [[0.0, \"#0d0887\"], [0.1111111111111111, \"#46039f\"], [0.2222222222222222, \"#7201a8\"], [0.3333333333333333, \"#9c179e\"], [0.4444444444444444, \"#bd3786\"], [0.5555555555555556, \"#d8576b\"], [0.6666666666666666, \"#ed7953\"], [0.7777777777777778, \"#fb9f3a\"], [0.8888888888888888, \"#fdca26\"], [1.0, \"#f0f921\"]], \"type\": \"contour\"}], \"contourcarpet\": [{\"colorbar\": {\"outlinewidth\": 0, \"ticks\": \"\"}, \"type\": \"contourcarpet\"}], \"heatmap\": [{\"colorbar\": {\"outlinewidth\": 0, \"ticks\": \"\"}, \"colorscale\": [[0.0, \"#0d0887\"], [0.1111111111111111, \"#46039f\"], [0.2222222222222222, \"#7201a8\"], [0.3333333333333333, \"#9c179e\"], [0.4444444444444444, \"#bd3786\"], [0.5555555555555556, \"#d8576b\"], [0.6666666666666666, \"#ed7953\"], [0.7777777777777778, \"#fb9f3a\"], [0.8888888888888888, \"#fdca26\"], [1.0, \"#f0f921\"]], \"type\": \"heatmap\"}], \"heatmapgl\": [{\"colorbar\": {\"outlinewidth\": 0, \"ticks\": \"\"}, \"colorscale\": [[0.0, \"#0d0887\"], [0.1111111111111111, \"#46039f\"], [0.2222222222222222, \"#7201a8\"], [0.3333333333333333, \"#9c179e\"], [0.4444444444444444, \"#bd3786\"], [0.5555555555555556, \"#d8576b\"], [0.6666666666666666, \"#ed7953\"], [0.7777777777777778, \"#fb9f3a\"], [0.8888888888888888, \"#fdca26\"], [1.0, \"#f0f921\"]], \"type\": \"heatmapgl\"}], \"histogram\": [{\"marker\": {\"colorbar\": {\"outlinewidth\": 0, \"ticks\": \"\"}}, \"type\": \"histogram\"}], \"histogram2d\": [{\"colorbar\": {\"outlinewidth\": 0, \"ticks\": \"\"}, \"colorscale\": [[0.0, \"#0d0887\"], [0.1111111111111111, \"#46039f\"], [0.2222222222222222, \"#7201a8\"], [0.3333333333333333, \"#9c179e\"], [0.4444444444444444, \"#bd3786\"], [0.5555555555555556, \"#d8576b\"], [0.6666666666666666, \"#ed7953\"], [0.7777777777777778, \"#fb9f3a\"], [0.8888888888888888, \"#fdca26\"], [1.0, \"#f0f921\"]], \"type\": \"histogram2d\"}], \"histogram2dcontour\": [{\"colorbar\": {\"outlinewidth\": 0, \"ticks\": \"\"}, \"colorscale\": [[0.0, \"#0d0887\"], [0.1111111111111111, \"#46039f\"], [0.2222222222222222, \"#7201a8\"], [0.3333333333333333, \"#9c179e\"], [0.4444444444444444, \"#bd3786\"], [0.5555555555555556, \"#d8576b\"], [0.6666666666666666, \"#ed7953\"], [0.7777777777777778, \"#fb9f3a\"], [0.8888888888888888, \"#fdca26\"], [1.0, \"#f0f921\"]], \"type\": \"histogram2dcontour\"}], \"mesh3d\": [{\"colorbar\": {\"outlinewidth\": 0, \"ticks\": \"\"}, \"type\": \"mesh3d\"}], \"parcoords\": [{\"line\": {\"colorbar\": {\"outlinewidth\": 0, \"ticks\": \"\"}}, \"type\": \"parcoords\"}], \"pie\": [{\"automargin\": true, \"type\": \"pie\"}], \"scatter\": [{\"marker\": {\"colorbar\": {\"outlinewidth\": 0, \"ticks\": \"\"}}, \"type\": \"scatter\"}], \"scatter3d\": [{\"line\": {\"colorbar\": {\"outlinewidth\": 0, \"ticks\": \"\"}}, \"marker\": {\"colorbar\": {\"outlinewidth\": 0, \"ticks\": \"\"}}, \"type\": \"scatter3d\"}], \"scattercarpet\": [{\"marker\": {\"colorbar\": {\"outlinewidth\": 0, \"ticks\": \"\"}}, \"type\": \"scattercarpet\"}], \"scattergeo\": [{\"marker\": {\"colorbar\": {\"outlinewidth\": 0, \"ticks\": \"\"}}, \"type\": \"scattergeo\"}], \"scattergl\": [{\"marker\": {\"colorbar\": {\"outlinewidth\": 0, \"ticks\": \"\"}}, \"type\": \"scattergl\"}], \"scattermapbox\": [{\"marker\": {\"colorbar\": {\"outlinewidth\": 0, \"ticks\": \"\"}}, \"type\": \"scattermapbox\"}], \"scatterpolar\": [{\"marker\": {\"colorbar\": {\"outlinewidth\": 0, \"ticks\": \"\"}}, \"type\": \"scatterpolar\"}], \"scatterpolargl\": [{\"marker\": {\"colorbar\": {\"outlinewidth\": 0, \"ticks\": \"\"}}, \"type\": \"scatterpolargl\"}], \"scatterternary\": [{\"marker\": {\"colorbar\": {\"outlinewidth\": 0, \"ticks\": \"\"}}, \"type\": \"scatterternary\"}], \"surface\": [{\"colorbar\": {\"outlinewidth\": 0, \"ticks\": \"\"}, \"colorscale\": [[0.0, \"#0d0887\"], [0.1111111111111111, \"#46039f\"], [0.2222222222222222, \"#7201a8\"], [0.3333333333333333, \"#9c179e\"], [0.4444444444444444, \"#bd3786\"], [0.5555555555555556, \"#d8576b\"], [0.6666666666666666, \"#ed7953\"], [0.7777777777777778, \"#fb9f3a\"], [0.8888888888888888, \"#fdca26\"], [1.0, \"#f0f921\"]], \"type\": \"surface\"}], \"table\": [{\"cells\": {\"fill\": {\"color\": \"#EBF0F8\"}, \"line\": {\"color\": \"white\"}}, \"header\": {\"fill\": {\"color\": \"#C8D4E3\"}, \"line\": {\"color\": \"white\"}}, \"type\": \"table\"}]}, \"layout\": {\"annotationdefaults\": {\"arrowcolor\": \"#2a3f5f\", \"arrowhead\": 0, \"arrowwidth\": 1}, \"coloraxis\": {\"colorbar\": {\"outlinewidth\": 0, \"ticks\": \"\"}}, \"colorscale\": {\"diverging\": [[0, \"#8e0152\"], [0.1, \"#c51b7d\"], [0.2, \"#de77ae\"], [0.3, \"#f1b6da\"], [0.4, \"#fde0ef\"], [0.5, \"#f7f7f7\"], [0.6, \"#e6f5d0\"], [0.7, \"#b8e186\"], [0.8, \"#7fbc41\"], [0.9, \"#4d9221\"], [1, \"#276419\"]], \"sequential\": [[0.0, \"#0d0887\"], [0.1111111111111111, \"#46039f\"], [0.2222222222222222, \"#7201a8\"], [0.3333333333333333, \"#9c179e\"], [0.4444444444444444, \"#bd3786\"], [0.5555555555555556, \"#d8576b\"], [0.6666666666666666, \"#ed7953\"], [0.7777777777777778, \"#fb9f3a\"], [0.8888888888888888, \"#fdca26\"], [1.0, \"#f0f921\"]], \"sequentialminus\": [[0.0, \"#0d0887\"], [0.1111111111111111, \"#46039f\"], [0.2222222222222222, \"#7201a8\"], [0.3333333333333333, \"#9c179e\"], [0.4444444444444444, \"#bd3786\"], [0.5555555555555556, \"#d8576b\"], [0.6666666666666666, \"#ed7953\"], [0.7777777777777778, \"#fb9f3a\"], [0.8888888888888888, \"#fdca26\"], [1.0, \"#f0f921\"]]}, \"colorway\": [\"#636efa\", \"#EF553B\", \"#00cc96\", \"#ab63fa\", \"#FFA15A\", \"#19d3f3\", \"#FF6692\", \"#B6E880\", \"#FF97FF\", \"#FECB52\"], \"font\": {\"color\": \"#2a3f5f\"}, \"geo\": {\"bgcolor\": \"white\", \"lakecolor\": \"white\", \"landcolor\": \"#E5ECF6\", \"showlakes\": true, \"showland\": true, \"subunitcolor\": \"white\"}, \"hoverlabel\": {\"align\": \"left\"}, \"hovermode\": \"closest\", \"mapbox\": {\"style\": \"light\"}, \"paper_bgcolor\": \"white\", \"plot_bgcolor\": \"#E5ECF6\", \"polar\": {\"angularaxis\": {\"gridcolor\": \"white\", \"linecolor\": \"white\", \"ticks\": \"\"}, \"bgcolor\": \"#E5ECF6\", \"radialaxis\": {\"gridcolor\": \"white\", \"linecolor\": \"white\", \"ticks\": \"\"}}, \"scene\": {\"xaxis\": {\"backgroundcolor\": \"#E5ECF6\", \"gridcolor\": \"white\", \"gridwidth\": 2, \"linecolor\": \"white\", \"showbackground\": true, \"ticks\": \"\", \"zerolinecolor\": \"white\"}, \"yaxis\": {\"backgroundcolor\": \"#E5ECF6\", \"gridcolor\": \"white\", \"gridwidth\": 2, \"linecolor\": \"white\", \"showbackground\": true, \"ticks\": \"\", \"zerolinecolor\": \"white\"}, \"zaxis\": {\"backgroundcolor\": \"#E5ECF6\", \"gridcolor\": \"white\", \"gridwidth\": 2, \"linecolor\": \"white\", \"showbackground\": true, \"ticks\": \"\", \"zerolinecolor\": \"white\"}}, \"shapedefaults\": {\"line\": {\"color\": \"#2a3f5f\"}}, \"ternary\": {\"aaxis\": {\"gridcolor\": \"white\", \"linecolor\": \"white\", \"ticks\": \"\"}, \"baxis\": {\"gridcolor\": \"white\", \"linecolor\": \"white\", \"ticks\": \"\"}, \"bgcolor\": \"#E5ECF6\", \"caxis\": {\"gridcolor\": \"white\", \"linecolor\": \"white\", \"ticks\": \"\"}}, \"title\": {\"x\": 0.05}, \"xaxis\": {\"automargin\": true, \"gridcolor\": \"white\", \"linecolor\": \"white\", \"ticks\": \"\", \"title\": {\"standoff\": 15}, \"zerolinecolor\": \"white\", \"zerolinewidth\": 2}, \"yaxis\": {\"automargin\": true, \"gridcolor\": \"white\", \"linecolor\": \"white\", \"ticks\": \"\", \"title\": {\"standoff\": 15}, \"zerolinecolor\": \"white\", \"zerolinewidth\": 2}}}, \"yaxis\": {\"title\": {\"text\": \"Availability in Percent\"}}},\n",
       "                        {\"responsive\": true}\n",
       "                    ).then(function(){\n",
       "                            \n",
       "var gd = document.getElementById('c3ac529e-036f-4181-8b7b-082a03ca6605');\n",
       "var x = new MutationObserver(function (mutations, observer) {{\n",
       "        var display = window.getComputedStyle(gd).display;\n",
       "        if (!display || display === 'none') {{\n",
       "            console.log([gd, 'removed!']);\n",
       "            Plotly.purge(gd);\n",
       "            observer.disconnect();\n",
       "        }}\n",
       "}});\n",
       "\n",
       "// Listen for the removal of the full notebook cells\n",
       "var notebookContainer = gd.closest('#notebook-container');\n",
       "if (notebookContainer) {{\n",
       "    x.observe(notebookContainer, {childList: true});\n",
       "}}\n",
       "\n",
       "// Listen for the clearing of the current output cell\n",
       "var outputEl = gd.closest('.output');\n",
       "if (outputEl) {{\n",
       "    x.observe(outputEl, {childList: true});\n",
       "}}\n",
       "\n",
       "                        })\n",
       "                };\n",
       "                });\n",
       "            </script>\n",
       "        </div>"
      ]
     },
     "metadata": {},
     "output_type": "display_data"
    }
   ],
   "source": [
    "avail_wd = df[[\"weekday\",\"city\",\"available\"]].groupby([\"weekday\",\"city\"]).available.mean().reset_index()\n",
    "avail_wd.weekday.replace({6:\"Sunday\",0:\"Monday\",1:\"Tuesday\",2:\"Wednesday\",3:\"Thursday\",4:\"Friday\",5:\"Saturday\"},inplace=True)\n",
    "sea_avail_wd = avail_wd[avail_wd[\"city\"] ==\"Seattle\"]\n",
    "bos_avail_wd = avail_wd[avail_wd[\"city\"] ==\"Boston\"]\n",
    "\n",
    "avail_weekday = go.Figure()\n",
    "avail_weekday.add_trace(go.Bar(x=sea_avail_wd.weekday, y=sea_avail_wd.available,name=\"Seattle\", text=\"avg availability in %\"))\n",
    "avail_weekday.add_trace(go.Bar(x=bos_avail_wd.weekday, y=bos_avail_wd.available,name=\"Boston\", text=\"avg availability in %\"))           \n",
    "avail_weekday.update_layout(yaxis_title=\"Availability in Percent\")\n",
    "\n",
    "avail_weekday.show()"
   ]
  },
  {
   "cell_type": "markdown",
   "metadata": {},
   "source": [
    "The third plot shows the vacancies aggregated on weekdays. The availability of listings do not differ by weekday. On average the vacancies on all weekdays are at 50 percent in Boston and 65 percent in Seattle.\n",
    "\n",
    "\n",
    "**Summary - Answer Question 1:** <br>\n",
    "The rates in Seattle are significantly lower than in Boston, also the rates are higher on Friday and Saturday and at the lowest on Tuesdays in both cities. As the given time frame for both cities is inconsistent, we are not able to compare seasonal patterns. By comparing the rates plots with the availability plots I determine a slight opposite trends of availability towards the rates, for example in September and October in Boston are the vacancies at only about 30 percent and the daily rates quite expensive at about 190$. The availabilities of the listings do not differ by weekday in both cities."
   ]
  },
  {
   "cell_type": "markdown",
   "metadata": {},
   "source": [
    "## Question 2:<br> Which amenities provided by the host have a significant impact on price and review ratings?<br> This insight may help hosts improve their listings to increace price and revenue.\n",
    "\n",
    "To answer this question I use the correlations between price, review ratings and amenities. I create in the following the correlation matrix."
   ]
  },
  {
   "cell_type": "code",
   "execution_count": 74,
   "metadata": {},
   "outputs": [],
   "source": [
    "amenities_cols = amenities_cl.columns\n",
    "reviews_cols = df1.columns[df1.columns.str.contains(\"review\") ==True]\n",
    "cols = reviews_cols.append(amenities_cols)\n",
    "\n",
    "price_review_cols = reviews_cols.append(pd.Index([\"price\"]))\n",
    "price_amenities_cols = amenities_cols.append(pd.Index([\"price\"]))\n",
    "\n",
    "price_amenities= df1[price_amenities_cols].drop(\"id\",axis=1)\n",
    "price_amenities= price_amenities.corr().round(2)\n",
    "price_reviews= df1[price_review_cols].corr().round(2)\n",
    "\n",
    "\n",
    "amenities_reviews = df1[cols].drop(\"id\",axis=1)\n",
    "amenities_reviews = amenities_reviews.corr().round(2)\n",
    "\n",
    "price_amenities_reviews = amenities_reviews.columns.append(pd.Index([\"price\"]))"
   ]
  },
  {
   "cell_type": "markdown",
   "metadata": {},
   "source": [
    "### Price vs. Amenities"
   ]
  },
  {
   "cell_type": "code",
   "execution_count": 75,
   "metadata": {},
   "outputs": [
    {
     "data": {
      "application/vnd.plotly.v1+json": {
       "config": {
        "plotlyServerURL": "https://plot.ly"
       },
       "data": [
        {
         "colorscale": [
          [
           0,
           "#440154"
          ],
          [
           0.1111111111111111,
           "#482878"
          ],
          [
           0.2222222222222222,
           "#3e4989"
          ],
          [
           0.3333333333333333,
           "#31688e"
          ],
          [
           0.4444444444444444,
           "#26828e"
          ],
          [
           0.5555555555555556,
           "#1f9e89"
          ],
          [
           0.6666666666666666,
           "#35b779"
          ],
          [
           0.7777777777777778,
           "#6ece58"
          ],
          [
           0.8888888888888888,
           "#b5de2b"
          ],
          [
           1,
           "#fde725"
          ]
         ],
         "type": "heatmap",
         "x": [
          "amenities_24-hour_check-in",
          "amenities_air_conditioning",
          "amenities_breakfast",
          "amenities_buzzer/wireless_intercom",
          "amenities_cable_tv",
          "amenities_carbon_monoxide_detector",
          "amenities_cat(s)",
          "amenities_dog(s)",
          "amenities_doorman",
          "amenities_dryer",
          "amenities_elevator_in_building",
          "amenities_essentials",
          "amenities_family/kid_friendly",
          "amenities_fire_extinguisher",
          "amenities_first_aid_kit",
          "amenities_free_parking_on_premises",
          "amenities_free_parking_on_street",
          "amenities_gym",
          "amenities_hair_dryer",
          "amenities_hangers",
          "amenities_heating",
          "amenities_hot_tub",
          "amenities_indoor_fireplace",
          "amenities_internet",
          "amenities_iron",
          "amenities_kitchen",
          "amenities_laptop_friendly_workspace",
          "amenities_lock_on_bedroom_door",
          "amenities_other_pet(s)",
          "amenities_paid_parking_off_premises",
          "amenities_pets_allowed",
          "amenities_pets_live_on_this_property",
          "amenities_pool",
          "amenities_safety_card",
          "amenities_shampoo",
          "amenities_smoke_detector",
          "amenities_smoking_allowed",
          "amenities_suitable_for_events",
          "amenities_translation_missing:_en.hosting_amenity_49",
          "amenities_translation_missing:_en.hosting_amenity_50",
          "amenities_tv",
          "amenities_washer",
          "amenities_washer_/_dryer",
          "amenities_wheelchair_accessible",
          "amenities_wireless_internet",
          "price"
         ],
         "y": [
          "amenities_24-hour_check-in",
          "amenities_air_conditioning",
          "amenities_breakfast",
          "amenities_buzzer/wireless_intercom",
          "amenities_cable_tv",
          "amenities_carbon_monoxide_detector",
          "amenities_cat(s)",
          "amenities_dog(s)",
          "amenities_doorman",
          "amenities_dryer",
          "amenities_elevator_in_building",
          "amenities_essentials",
          "amenities_family/kid_friendly",
          "amenities_fire_extinguisher",
          "amenities_first_aid_kit",
          "amenities_free_parking_on_premises",
          "amenities_free_parking_on_street",
          "amenities_gym",
          "amenities_hair_dryer",
          "amenities_hangers",
          "amenities_heating",
          "amenities_hot_tub",
          "amenities_indoor_fireplace",
          "amenities_internet",
          "amenities_iron",
          "amenities_kitchen",
          "amenities_laptop_friendly_workspace",
          "amenities_lock_on_bedroom_door",
          "amenities_other_pet(s)",
          "amenities_paid_parking_off_premises",
          "amenities_pets_allowed",
          "amenities_pets_live_on_this_property",
          "amenities_pool",
          "amenities_safety_card",
          "amenities_shampoo",
          "amenities_smoke_detector",
          "amenities_smoking_allowed",
          "amenities_suitable_for_events",
          "amenities_translation_missing:_en.hosting_amenity_49",
          "amenities_translation_missing:_en.hosting_amenity_50",
          "amenities_tv",
          "amenities_washer",
          "amenities_washer_/_dryer",
          "amenities_wheelchair_accessible",
          "amenities_wireless_internet",
          "price"
         ],
         "z": [
          [
           1,
           0.22,
           -0.02,
           0.12,
           0.16,
           0.15,
           -0.06,
           -0.07,
           0.16,
           0.05,
           0.11,
           0.2,
           0.14,
           0.07,
           0.04,
           -0.08,
           0.03,
           0.13,
           0.58,
           0.58,
           0.09,
           -0.01,
           -0.06,
           0.17,
           0.57,
           0.07,
           0.56,
           0.08,
           -0.03,
           0.03,
           0.05,
           -0.1,
           0.07,
           0.08,
           0.25,
           0.07,
           0.01,
           0,
           -0.04,
           -0.02,
           0.15,
           0.05,
           -0.01,
           0.03,
           0.09,
           0.12
          ],
          [
           0.22,
           1,
           0.02,
           0.16,
           0.24,
           0.07,
           -0.09,
           -0.09,
           0.19,
           0.03,
           0.19,
           0.06,
           0.12,
           -0.02,
           -0.07,
           -0.23,
           0.04,
           0.18,
           0.28,
           0.26,
           0.12,
           0.01,
           -0.08,
           0.1,
           0.31,
           0.1,
           0.25,
           0.09,
           -0.02,
           0.02,
           0.03,
           -0.12,
           0.1,
           -0.01,
           0.07,
           0,
           0,
           0,
           0.12,
           0.15,
           0.23,
           0.03,
           0,
           0.03,
           0.06,
           0.26
          ],
          [
           -0.02,
           0.02,
           1,
           -0.03,
           -0.06,
           0.03,
           0.06,
           0.05,
           -0.03,
           -0.03,
           -0.07,
           0.06,
           -0.02,
           0.07,
           0.13,
           0.08,
           0,
           -0.05,
           0.04,
           0.03,
           0.03,
           0.02,
           0.04,
           -0.01,
           0.04,
           -0.03,
           0.03,
           0.07,
           0.02,
           0.01,
           -0.01,
           0.07,
           -0.02,
           0.1,
           0.09,
           0.04,
           0.07,
           0.04,
           0.01,
           0.01,
           -0.06,
           -0.03,
           -0.01,
           -0.01,
           0.03,
           -0.07
          ],
          [
           0.12,
           0.16,
           -0.03,
           1,
           0.12,
           0.07,
           -0.05,
           -0.03,
           0.06,
           0.1,
           0.25,
           0.08,
           0,
           0.01,
           0.01,
           -0.15,
           0.04,
           0.11,
           0.11,
           0.12,
           0.07,
           0.04,
           -0.02,
           0.16,
           0.12,
           0.11,
           0.13,
           0,
           -0.03,
           0.02,
           -0.01,
           -0.08,
           0.05,
           0.08,
           0.09,
           0.08,
           -0.02,
           0.02,
           0.02,
           0.02,
           0.1,
           0.1,
           -0.01,
           0.16,
           0.04,
           0.09
          ],
          [
           0.16,
           0.24,
           -0.06,
           0.12,
           1,
           0.02,
           -0.03,
           0.02,
           0.15,
           0.1,
           0.13,
           0.03,
           0.16,
           0.04,
           -0.04,
           -0.02,
           -0.03,
           0.17,
           0.11,
           0.07,
           0.12,
           0.03,
           0.08,
           0.23,
           0.15,
           0.13,
           0.07,
           -0.08,
           -0.04,
           0.01,
           0.06,
           -0.05,
           0.14,
           0.03,
           0.04,
           -0.01,
           -0.05,
           0.04,
           -0.03,
           -0.01,
           0.4,
           0.1,
           0.01,
           0.05,
           0.13,
           0.24
          ],
          [
           0.15,
           0.07,
           0.03,
           0.07,
           0.02,
           1,
           0.02,
           0,
           -0.04,
           0.03,
           -0.03,
           0.25,
           0.08,
           0.34,
           0.29,
           0.05,
           0.01,
           -0.02,
           0.19,
           0.19,
           0.13,
           0.02,
           0.04,
           0.11,
           0.19,
           0.08,
           0.18,
           0.09,
           -0.02,
           0,
           0.01,
           0.01,
           -0.01,
           0.22,
           0.18,
           0.6,
           -0.02,
           0,
           -0.02,
           -0.03,
           0.08,
           0.03,
           -0.03,
           0.03,
           0.12,
           0.03
          ],
          [
           -0.06,
           -0.09,
           0.06,
           -0.05,
           -0.03,
           0.02,
           1,
           0.17,
           -0.04,
           0,
           -0.08,
           0.01,
           -0.02,
           0.09,
           0.11,
           0.11,
           -0.01,
           -0.05,
           -0.05,
           -0.06,
           0.03,
           -0.01,
           0.03,
           -0.01,
           -0.06,
           -0.06,
           -0.04,
           0,
           0.13,
           -0.01,
           0.02,
           0.6,
           -0.02,
           0.04,
           0.02,
           0.04,
           0.07,
           0.03,
           -0.01,
           -0.02,
           -0.04,
           0,
           -0.01,
           -0.01,
           0.04,
           -0.08
          ],
          [
           -0.07,
           -0.09,
           0.05,
           -0.03,
           0.02,
           0,
           0.17,
           1,
           -0.05,
           -0.02,
           -0.1,
           0.02,
           0.03,
           0.07,
           0.12,
           0.14,
           -0.01,
           -0.05,
           -0.06,
           -0.07,
           0.03,
           0.01,
           0.09,
           -0.01,
           -0.07,
           -0.08,
           -0.06,
           0,
           0.08,
           -0.01,
           0.16,
           0.7,
           -0.04,
           0.07,
           0.04,
           0.04,
           0.04,
           -0.01,
           -0.06,
           -0.06,
           -0.02,
           -0.02,
           -0.01,
           -0.04,
           0.04,
           -0.04
          ],
          [
           0.16,
           0.19,
           -0.03,
           0.06,
           0.15,
           -0.04,
           -0.04,
           -0.05,
           1,
           0.11,
           0.4,
           0.05,
           0.09,
           -0.05,
           -0.05,
           -0.13,
           -0.01,
           0.44,
           0.11,
           0.09,
           0.04,
           0.03,
           -0.06,
           0.09,
           0.11,
           0.05,
           0.07,
           -0.04,
           -0.02,
           0.02,
           0.04,
           -0.07,
           0.29,
           0.03,
           0.06,
           -0.07,
           -0.02,
           0.01,
           -0.03,
           -0.01,
           0.1,
           0.1,
           -0.01,
           0.18,
           0.02,
           0.18
          ],
          [
           0.05,
           0.03,
           -0.03,
           0.1,
           0.1,
           0.03,
           0,
           -0.02,
           0.11,
           1,
           0.19,
           0.09,
           0.14,
           0.06,
           0.06,
           0.12,
           0,
           0.18,
           0.03,
           0.02,
           0.15,
           0.05,
           0.14,
           0.15,
           0.03,
           0.26,
           0.01,
           -0.04,
           0,
           0.01,
           0.05,
           -0.01,
           0.1,
           0.06,
           0.09,
           0.07,
           0.02,
           0.05,
           -0.05,
           -0.03,
           0.15,
           0.95,
           0.01,
           0.09,
           0.12,
           0.11
          ],
          [
           0.11,
           0.19,
           -0.07,
           0.25,
           0.13,
           -0.03,
           -0.08,
           -0.1,
           0.4,
           0.19,
           1,
           0.07,
           0.1,
           -0.12,
           -0.13,
           -0.19,
           -0.02,
           0.58,
           0.11,
           0.1,
           0.04,
           0.11,
           -0.11,
           0.11,
           0.12,
           0.13,
           0.08,
           -0.07,
           -0.04,
           0.02,
           0.02,
           -0.14,
           0.35,
           0,
           0.07,
           -0.05,
           -0.02,
           0,
           -0.07,
           -0.05,
           0.15,
           0.18,
           -0.01,
           0.34,
           0.01,
           0.17
          ],
          [
           0.2,
           0.06,
           0.06,
           0.08,
           0.03,
           0.25,
           0.01,
           0.02,
           0.05,
           0.09,
           0.07,
           1,
           0.1,
           0.16,
           0.17,
           0.03,
           0,
           0.06,
           0.22,
           0.23,
           0.22,
           0,
           0.01,
           0.16,
           0.21,
           0.12,
           0.21,
           0.05,
           0,
           0.01,
           0.01,
           0.01,
           0.04,
           0.13,
           0.41,
           0.29,
           0,
           0.01,
           -0.05,
           -0.02,
           0.12,
           0.09,
           -0.05,
           0.04,
           0.19,
           0.01
          ],
          [
           0.14,
           0.12,
           -0.02,
           0,
           0.16,
           0.08,
           -0.02,
           0.03,
           0.09,
           0.14,
           0.1,
           0.1,
           1,
           0.09,
           0.05,
           0.13,
           0.02,
           0.16,
           0.13,
           0.11,
           0.13,
           0.07,
           0.08,
           0.14,
           0.13,
           0.1,
           0.09,
           -0.05,
           0.01,
           0.01,
           0.19,
           0.01,
           0.12,
           0.08,
           0.15,
           0.06,
           0.01,
           0.09,
           -0.24,
           -0.15,
           0.17,
           0.14,
           0.02,
           0.1,
           0.1,
           0.23
          ],
          [
           0.07,
           -0.02,
           0.07,
           0.01,
           0.04,
           0.34,
           0.09,
           0.07,
           -0.05,
           0.06,
           -0.12,
           0.16,
           0.09,
           1,
           0.39,
           0.17,
           0.01,
           -0.07,
           0.1,
           0.06,
           0.11,
           0.03,
           0.1,
           0.08,
           0.09,
           0.05,
           0.06,
           0.03,
           0.03,
           -0.01,
           0.02,
           0.1,
           -0.02,
           0.32,
           0.14,
           0.41,
           0.01,
           0.05,
           -0.05,
           -0.06,
           0.06,
           0.06,
           -0.02,
           0.02,
           0.1,
           0.01
          ],
          [
           0.04,
           -0.07,
           0.13,
           0.01,
           -0.04,
           0.29,
           0.11,
           0.12,
           -0.05,
           0.06,
           -0.13,
           0.17,
           0.05,
           0.39,
           1,
           0.16,
           0,
           -0.11,
           0.04,
           0.02,
           0.09,
           0,
           0.11,
           0.08,
           0.05,
           0.01,
           0.04,
           0.05,
           0.02,
           -0.01,
           0.04,
           0.16,
           -0.07,
           0.4,
           0.18,
           0.31,
           0.05,
           0.09,
           -0.02,
           -0.04,
           0.01,
           0.05,
           -0.02,
           0.01,
           0.07,
           -0.06
          ],
          [
           -0.08,
           -0.23,
           0.08,
           -0.15,
           -0.02,
           0.05,
           0.11,
           0.14,
           -0.13,
           0.12,
           -0.19,
           0.03,
           0.13,
           0.17,
           0.16,
           1,
           -0.03,
           -0.07,
           -0.1,
           -0.1,
           0.1,
           0.09,
           0.18,
           0.03,
           -0.1,
           0,
           -0.1,
           -0.06,
           0.06,
           -0.02,
           0.05,
           0.18,
           0.01,
           0.1,
           0.09,
           0.11,
           0.04,
           0.02,
           -0.11,
           -0.12,
           0.02,
           0.11,
           -0.01,
           0.01,
           0.09,
           -0.09
          ],
          [
           0.03,
           0.04,
           0,
           0.04,
           -0.03,
           0.01,
           -0.01,
           -0.01,
           -0.01,
           0,
           -0.02,
           0,
           0.02,
           0.01,
           0,
           -0.03,
           1,
           -0.01,
           0.05,
           0.04,
           0.01,
           -0.01,
           0.04,
           0,
           0.03,
           0.01,
           0.04,
           0.05,
           0,
           0,
           0,
           -0.01,
           -0.01,
           -0.02,
           0.02,
           -0.01,
           -0.01,
           -0.01,
           0.01,
           0,
           0.02,
           0,
           0,
           -0.01,
           0.01,
           0
          ],
          [
           0.13,
           0.18,
           -0.05,
           0.11,
           0.17,
           -0.02,
           -0.05,
           -0.05,
           0.44,
           0.18,
           0.58,
           0.06,
           0.16,
           -0.07,
           -0.11,
           -0.07,
           -0.01,
           1,
           0.12,
           0.08,
           0.03,
           0.18,
           -0.06,
           0.1,
           0.12,
           0.09,
           0.05,
           -0.05,
           -0.02,
           0.01,
           0.03,
           -0.09,
           0.49,
           0.03,
           0.09,
           -0.07,
           -0.02,
           0.01,
           -0.07,
           -0.02,
           0.15,
           0.18,
           -0.01,
           0.24,
           0.02,
           0.16
          ],
          [
           0.58,
           0.28,
           0.04,
           0.11,
           0.11,
           0.19,
           -0.05,
           -0.06,
           0.11,
           0.03,
           0.11,
           0.22,
           0.13,
           0.1,
           0.04,
           -0.1,
           0.05,
           0.12,
           1,
           0.74,
           0.1,
           0.01,
           -0.05,
           0.1,
           0.78,
           0.06,
           0.67,
           0.16,
           -0.04,
           0.03,
           0.01,
           -0.08,
           0.08,
           0.1,
           0.3,
           0.11,
           -0.01,
           -0.01,
           0.04,
           0.07,
           0.13,
           0.03,
           -0.02,
           0.03,
           0.1,
           0.12
          ],
          [
           0.58,
           0.26,
           0.03,
           0.12,
           0.07,
           0.19,
           -0.06,
           -0.07,
           0.09,
           0.02,
           0.1,
           0.23,
           0.11,
           0.06,
           0.02,
           -0.1,
           0.04,
           0.08,
           0.74,
           1,
           0.11,
           0.01,
           -0.08,
           0.06,
           0.73,
           0.05,
           0.73,
           0.22,
           -0.04,
           0.03,
           0.03,
           -0.1,
           0.06,
           0.07,
           0.27,
           0.13,
           0,
           -0.01,
           0.07,
           0.08,
           0.09,
           0.01,
           -0.02,
           0.03,
           0.08,
           0.07
          ],
          [
           0.09,
           0.12,
           0.03,
           0.07,
           0.12,
           0.13,
           0.03,
           0.03,
           0.04,
           0.15,
           0.04,
           0.22,
           0.13,
           0.11,
           0.09,
           0.1,
           0.01,
           0.03,
           0.1,
           0.11,
           1,
           0.01,
           0.06,
           0.21,
           0.11,
           0.24,
           0.11,
           -0.01,
           0.01,
           0.01,
           0.03,
           0.04,
           0.02,
           0.06,
           0.18,
           0.18,
           -0.03,
           0.02,
           -0.02,
           0,
           0.17,
           0.15,
           0.01,
           0.04,
           0.3,
           0.04
          ],
          [
           -0.01,
           0.01,
           0.02,
           0.04,
           0.03,
           0.02,
           -0.01,
           0.01,
           0.03,
           0.05,
           0.11,
           0,
           0.07,
           0.03,
           0,
           0.09,
           -0.01,
           0.18,
           0.01,
           0.01,
           0.01,
           1,
           0.07,
           0,
           -0.02,
           0.03,
           -0.02,
           0.01,
           -0.01,
           -0.01,
           0.02,
           -0.01,
           0.33,
           0.03,
           0.05,
           0.03,
           0.03,
           0.05,
           -0.03,
           -0.03,
           -0.02,
           0.04,
           -0.01,
           0.06,
           0.01,
           0.02
          ],
          [
           -0.06,
           -0.08,
           0.04,
           -0.02,
           0.08,
           0.04,
           0.03,
           0.09,
           -0.06,
           0.14,
           -0.11,
           0.01,
           0.08,
           0.1,
           0.11,
           0.18,
           0.04,
           -0.06,
           -0.05,
           -0.08,
           0.06,
           0.07,
           1,
           0.09,
           -0.06,
           0.08,
           -0.05,
           -0.03,
           0,
           0.02,
           0.04,
           0.1,
           -0.04,
           0.05,
           0.04,
           0.05,
           -0.01,
           0.08,
           -0.05,
           -0.04,
           0.08,
           0.14,
           0,
           -0.03,
           0.05,
           0.08
          ],
          [
           0.17,
           0.1,
           -0.01,
           0.16,
           0.23,
           0.11,
           -0.01,
           -0.01,
           0.09,
           0.15,
           0.11,
           0.16,
           0.14,
           0.08,
           0.08,
           0.03,
           0,
           0.1,
           0.1,
           0.06,
           0.21,
           0,
           0.09,
           1,
           0.1,
           0.18,
           0.07,
           -0.11,
           0.01,
           0,
           0.06,
           -0.02,
           0.05,
           0.06,
           0.17,
           0.11,
           -0.03,
           0.04,
           -0.13,
           -0.11,
           0.28,
           0.16,
           -0.01,
           0.08,
           0.25,
           0.1
          ],
          [
           0.57,
           0.31,
           0.04,
           0.12,
           0.15,
           0.19,
           -0.06,
           -0.07,
           0.11,
           0.03,
           0.12,
           0.21,
           0.13,
           0.09,
           0.05,
           -0.1,
           0.03,
           0.12,
           0.78,
           0.73,
           0.11,
           -0.02,
           -0.06,
           0.1,
           1,
           0.07,
           0.67,
           0.15,
           -0.03,
           0.03,
           0.02,
           -0.1,
           0.08,
           0.08,
           0.26,
           0.11,
           -0.02,
           -0.01,
           0.03,
           0.05,
           0.17,
           0.03,
           -0.02,
           0.04,
           0.09,
           0.13
          ],
          [
           0.07,
           0.1,
           -0.03,
           0.11,
           0.13,
           0.08,
           -0.06,
           -0.08,
           0.05,
           0.26,
           0.13,
           0.12,
           0.1,
           0.05,
           0.01,
           0,
           0.01,
           0.09,
           0.06,
           0.05,
           0.24,
           0.03,
           0.08,
           0.18,
           0.07,
           1,
           0.07,
           -0.08,
           -0.03,
           0.01,
           0.05,
           -0.09,
           0.05,
           0.02,
           0.06,
           0.09,
           0,
           0.03,
           -0.01,
           0,
           0.21,
           0.27,
           0.01,
           0.04,
           0.19,
           0.11
          ],
          [
           0.56,
           0.25,
           0.03,
           0.13,
           0.07,
           0.18,
           -0.04,
           -0.06,
           0.07,
           0.01,
           0.08,
           0.21,
           0.09,
           0.06,
           0.04,
           -0.1,
           0.04,
           0.05,
           0.67,
           0.73,
           0.11,
           -0.02,
           -0.05,
           0.07,
           0.67,
           0.07,
           1,
           0.22,
           -0.04,
           0.02,
           0.03,
           -0.08,
           0,
           0.07,
           0.22,
           0.12,
           0.01,
           0,
           0.06,
           0.08,
           0.1,
           0.01,
           -0.02,
           0.02,
           0.09,
           0.09
          ],
          [
           0.08,
           0.09,
           0.07,
           0,
           -0.08,
           0.09,
           0,
           0,
           -0.04,
           -0.04,
           -0.07,
           0.05,
           -0.05,
           0.03,
           0.05,
           -0.06,
           0.05,
           -0.05,
           0.16,
           0.22,
           -0.01,
           0.01,
           -0.03,
           -0.11,
           0.15,
           -0.08,
           0.22,
           1,
           -0.01,
           0.01,
           -0.02,
           -0.01,
           -0.04,
           0.03,
           0.01,
           0.11,
           0.04,
           0.02,
           0.12,
           0.11,
           -0.07,
           -0.04,
           -0.01,
           -0.04,
           0.01,
           -0.08
          ],
          [
           -0.03,
           -0.02,
           0.02,
           -0.03,
           -0.04,
           -0.02,
           0.13,
           0.08,
           -0.02,
           0,
           -0.04,
           0,
           0.01,
           0.03,
           0.02,
           0.06,
           0,
           -0.02,
           -0.04,
           -0.04,
           0.01,
           -0.01,
           0,
           0.01,
           -0.03,
           -0.03,
           -0.04,
           -0.01,
           1,
           0,
           0.01,
           0.2,
           -0.02,
           0.01,
           0,
           0.02,
           0,
           -0.02,
           -0.02,
           -0.03,
           -0.03,
           0,
           0,
           -0.01,
           0.01,
           -0.03
          ],
          [
           0.03,
           0.02,
           0.01,
           0.02,
           0.01,
           0,
           -0.01,
           -0.01,
           0.02,
           0.01,
           0.02,
           0.01,
           0.01,
           -0.01,
           -0.01,
           -0.02,
           0,
           0.01,
           0.03,
           0.03,
           0.01,
           -0.01,
           0.02,
           0,
           0.03,
           0.01,
           0.02,
           0.01,
           0,
           1,
           0.01,
           -0.01,
           0,
           0.01,
           0,
           0.01,
           0,
           -0.01,
           -0.01,
           -0.01,
           0.02,
           0.01,
           0,
           -0.01,
           0,
           0.01
          ],
          [
           0.05,
           0.03,
           -0.01,
           -0.01,
           0.06,
           0.01,
           0.02,
           0.16,
           0.04,
           0.05,
           0.02,
           0.01,
           0.19,
           0.02,
           0.04,
           0.05,
           0,
           0.03,
           0.01,
           0.03,
           0.03,
           0.02,
           0.04,
           0.06,
           0.02,
           0.05,
           0.03,
           -0.02,
           0.01,
           0.01,
           1,
           0.13,
           0.03,
           0.02,
           0.03,
           0.02,
           0.13,
           0.15,
           -0.05,
           -0.06,
           0.08,
           0.05,
           0.03,
           0.06,
           0.01,
           0.08
          ],
          [
           -0.1,
           -0.12,
           0.07,
           -0.08,
           -0.05,
           0.01,
           0.6,
           0.7,
           -0.07,
           -0.01,
           -0.14,
           0.01,
           0.01,
           0.1,
           0.16,
           0.18,
           -0.01,
           -0.09,
           -0.08,
           -0.1,
           0.04,
           -0.01,
           0.1,
           -0.02,
           -0.1,
           -0.09,
           -0.08,
           -0.01,
           0.2,
           -0.01,
           0.13,
           1,
           -0.05,
           0.06,
           0.04,
           0.06,
           0.08,
           0,
           -0.05,
           -0.06,
           -0.04,
           -0.01,
           -0.01,
           -0.04,
           0.05,
           -0.1
          ],
          [
           0.07,
           0.1,
           -0.02,
           0.05,
           0.14,
           -0.01,
           -0.02,
           -0.04,
           0.29,
           0.1,
           0.35,
           0.04,
           0.12,
           -0.02,
           -0.07,
           0.01,
           -0.01,
           0.49,
           0.08,
           0.06,
           0.02,
           0.33,
           -0.04,
           0.05,
           0.08,
           0.05,
           0,
           -0.04,
           -0.02,
           0,
           0.03,
           -0.05,
           1,
           0.02,
           0.05,
           -0.04,
           -0.01,
           -0.01,
           -0.04,
           -0.02,
           0.08,
           0.1,
           0,
           0.12,
           0.02,
           0.09
          ],
          [
           0.08,
           -0.01,
           0.1,
           0.08,
           0.03,
           0.22,
           0.04,
           0.07,
           0.03,
           0.06,
           0,
           0.13,
           0.08,
           0.32,
           0.4,
           0.1,
           -0.02,
           0.03,
           0.1,
           0.07,
           0.06,
           0.03,
           0.05,
           0.06,
           0.08,
           0.02,
           0.07,
           0.03,
           0.01,
           0.01,
           0.02,
           0.06,
           0.02,
           1,
           0.14,
           0.18,
           0.02,
           0.04,
           -0.03,
           -0.04,
           0.03,
           0.06,
           -0.01,
           0.09,
           0.06,
           0
          ],
          [
           0.25,
           0.07,
           0.09,
           0.09,
           0.04,
           0.18,
           0.02,
           0.04,
           0.06,
           0.09,
           0.07,
           0.41,
           0.15,
           0.14,
           0.18,
           0.09,
           0.02,
           0.09,
           0.3,
           0.27,
           0.18,
           0.05,
           0.04,
           0.17,
           0.26,
           0.06,
           0.22,
           0.01,
           0,
           0,
           0.03,
           0.04,
           0.05,
           0.14,
           1,
           0.2,
           0.01,
           0.03,
           -0.06,
           -0.03,
           0.12,
           0.09,
           -0.03,
           0.06,
           0.18,
           0.03
          ],
          [
           0.07,
           0,
           0.04,
           0.08,
           -0.01,
           0.6,
           0.04,
           0.04,
           -0.07,
           0.07,
           -0.05,
           0.29,
           0.06,
           0.41,
           0.31,
           0.11,
           -0.01,
           -0.07,
           0.11,
           0.13,
           0.18,
           0.03,
           0.05,
           0.11,
           0.11,
           0.09,
           0.12,
           0.11,
           0.02,
           0.01,
           0.02,
           0.06,
           -0.04,
           0.18,
           0.2,
           1,
           0.01,
           0.02,
           -0.03,
           -0.06,
           0.07,
           0.07,
           -0.05,
           0.05,
           0.18,
           -0.01
          ],
          [
           0.01,
           0,
           0.07,
           -0.02,
           -0.05,
           -0.02,
           0.07,
           0.04,
           -0.02,
           0.02,
           -0.02,
           0,
           0.01,
           0.01,
           0.05,
           0.04,
           -0.01,
           -0.02,
           -0.01,
           0,
           -0.03,
           0.03,
           -0.01,
           -0.03,
           -0.02,
           0,
           0.01,
           0.04,
           0,
           0,
           0.13,
           0.08,
           -0.01,
           0.02,
           0.01,
           0.01,
           1,
           0.12,
           0.01,
           0,
           -0.04,
           0.02,
           0,
           0.01,
           -0.01,
           -0.06
          ],
          [
           0,
           0,
           0.04,
           0.02,
           0.04,
           0,
           0.03,
           -0.01,
           0.01,
           0.05,
           0,
           0.01,
           0.09,
           0.05,
           0.09,
           0.02,
           -0.01,
           0.01,
           -0.01,
           -0.01,
           0.02,
           0.05,
           0.08,
           0.04,
           -0.01,
           0.03,
           0,
           0.02,
           -0.02,
           -0.01,
           0.15,
           0,
           -0.01,
           0.04,
           0.03,
           0.02,
           0.12,
           1,
           -0.01,
           -0.02,
           0.02,
           0.05,
           -0.01,
           0.08,
           0.02,
           0.05
          ],
          [
           -0.04,
           0.12,
           0.01,
           0.02,
           -0.03,
           -0.02,
           -0.01,
           -0.06,
           -0.03,
           -0.05,
           -0.07,
           -0.05,
           -0.24,
           -0.05,
           -0.02,
           -0.11,
           0.01,
           -0.07,
           0.04,
           0.07,
           -0.02,
           -0.03,
           -0.05,
           -0.13,
           0.03,
           -0.01,
           0.06,
           0.12,
           -0.02,
           -0.01,
           -0.05,
           -0.05,
           -0.04,
           -0.03,
           -0.06,
           -0.03,
           0.01,
           -0.01,
           1,
           0.83,
           -0.05,
           -0.05,
           -0.01,
           -0.05,
           0.02,
           -0.05
          ],
          [
           -0.02,
           0.15,
           0.01,
           0.02,
           -0.01,
           -0.03,
           -0.02,
           -0.06,
           -0.01,
           -0.03,
           -0.05,
           -0.02,
           -0.15,
           -0.06,
           -0.04,
           -0.12,
           0,
           -0.02,
           0.07,
           0.08,
           0,
           -0.03,
           -0.04,
           -0.11,
           0.05,
           0,
           0.08,
           0.11,
           -0.03,
           -0.01,
           -0.06,
           -0.06,
           -0.02,
           -0.04,
           -0.03,
           -0.06,
           0,
           -0.02,
           0.83,
           1,
           -0.05,
           -0.03,
           -0.01,
           -0.05,
           0.02,
           -0.03
          ],
          [
           0.15,
           0.23,
           -0.06,
           0.1,
           0.4,
           0.08,
           -0.04,
           -0.02,
           0.1,
           0.15,
           0.15,
           0.12,
           0.17,
           0.06,
           0.01,
           0.02,
           0.02,
           0.15,
           0.13,
           0.09,
           0.17,
           -0.02,
           0.08,
           0.28,
           0.17,
           0.21,
           0.1,
           -0.07,
           -0.03,
           0.02,
           0.08,
           -0.04,
           0.08,
           0.03,
           0.12,
           0.07,
           -0.04,
           0.02,
           -0.05,
           -0.05,
           1,
           0.14,
           -0.01,
           0.08,
           0.17,
           0.23
          ],
          [
           0.05,
           0.03,
           -0.03,
           0.1,
           0.1,
           0.03,
           0,
           -0.02,
           0.1,
           0.95,
           0.18,
           0.09,
           0.14,
           0.06,
           0.05,
           0.11,
           0,
           0.18,
           0.03,
           0.01,
           0.15,
           0.04,
           0.14,
           0.16,
           0.03,
           0.27,
           0.01,
           -0.04,
           0,
           0.01,
           0.05,
           -0.01,
           0.1,
           0.06,
           0.09,
           0.07,
           0.02,
           0.05,
           -0.05,
           -0.03,
           0.14,
           1,
           0.01,
           0.09,
           0.13,
           0.1
          ],
          [
           -0.01,
           0,
           -0.01,
           -0.01,
           0.01,
           -0.03,
           -0.01,
           -0.01,
           -0.01,
           0.01,
           -0.01,
           -0.05,
           0.02,
           -0.02,
           -0.02,
           -0.01,
           0,
           -0.01,
           -0.02,
           -0.02,
           0.01,
           -0.01,
           0,
           -0.01,
           -0.02,
           0.01,
           -0.02,
           -0.01,
           0,
           0,
           0.03,
           -0.01,
           0,
           -0.01,
           -0.03,
           -0.05,
           0,
           -0.01,
           -0.01,
           -0.01,
           -0.01,
           0.01,
           1,
           -0.01,
           -0.02,
           0.02
          ],
          [
           0.03,
           0.03,
           -0.01,
           0.16,
           0.05,
           0.03,
           -0.01,
           -0.04,
           0.18,
           0.09,
           0.34,
           0.04,
           0.1,
           0.02,
           0.01,
           0.01,
           -0.01,
           0.24,
           0.03,
           0.03,
           0.04,
           0.06,
           -0.03,
           0.08,
           0.04,
           0.04,
           0.02,
           -0.04,
           -0.01,
           -0.01,
           0.06,
           -0.04,
           0.12,
           0.09,
           0.06,
           0.05,
           0.01,
           0.08,
           -0.05,
           -0.05,
           0.08,
           0.09,
           -0.01,
           1,
           0,
           0.04
          ],
          [
           0.09,
           0.06,
           0.03,
           0.04,
           0.13,
           0.12,
           0.04,
           0.04,
           0.02,
           0.12,
           0.01,
           0.19,
           0.1,
           0.1,
           0.07,
           0.09,
           0.01,
           0.02,
           0.1,
           0.08,
           0.3,
           0.01,
           0.05,
           0.25,
           0.09,
           0.19,
           0.09,
           0.01,
           0.01,
           0,
           0.01,
           0.05,
           0.02,
           0.06,
           0.18,
           0.18,
           -0.01,
           0.02,
           0.02,
           0.02,
           0.17,
           0.13,
           -0.02,
           0,
           1,
           0.01
          ],
          [
           0.12,
           0.26,
           -0.07,
           0.09,
           0.24,
           0.03,
           -0.08,
           -0.04,
           0.18,
           0.11,
           0.17,
           0.01,
           0.23,
           0.01,
           -0.06,
           -0.09,
           0,
           0.16,
           0.12,
           0.07,
           0.04,
           0.02,
           0.08,
           0.1,
           0.13,
           0.11,
           0.09,
           -0.08,
           -0.03,
           0.01,
           0.08,
           -0.1,
           0.09,
           0,
           0.03,
           -0.01,
           -0.06,
           0.05,
           -0.05,
           -0.03,
           0.23,
           0.1,
           0.02,
           0.04,
           0.01,
           1
          ]
         ]
        }
       ],
       "layout": {
        "autosize": true,
        "template": {
         "data": {
          "bar": [
           {
            "error_x": {
             "color": "#2a3f5f"
            },
            "error_y": {
             "color": "#2a3f5f"
            },
            "marker": {
             "line": {
              "color": "#E5ECF6",
              "width": 0.5
             }
            },
            "type": "bar"
           }
          ],
          "barpolar": [
           {
            "marker": {
             "line": {
              "color": "#E5ECF6",
              "width": 0.5
             }
            },
            "type": "barpolar"
           }
          ],
          "carpet": [
           {
            "aaxis": {
             "endlinecolor": "#2a3f5f",
             "gridcolor": "white",
             "linecolor": "white",
             "minorgridcolor": "white",
             "startlinecolor": "#2a3f5f"
            },
            "baxis": {
             "endlinecolor": "#2a3f5f",
             "gridcolor": "white",
             "linecolor": "white",
             "minorgridcolor": "white",
             "startlinecolor": "#2a3f5f"
            },
            "type": "carpet"
           }
          ],
          "choropleth": [
           {
            "colorbar": {
             "outlinewidth": 0,
             "ticks": ""
            },
            "type": "choropleth"
           }
          ],
          "contour": [
           {
            "colorbar": {
             "outlinewidth": 0,
             "ticks": ""
            },
            "colorscale": [
             [
              0,
              "#0d0887"
             ],
             [
              0.1111111111111111,
              "#46039f"
             ],
             [
              0.2222222222222222,
              "#7201a8"
             ],
             [
              0.3333333333333333,
              "#9c179e"
             ],
             [
              0.4444444444444444,
              "#bd3786"
             ],
             [
              0.5555555555555556,
              "#d8576b"
             ],
             [
              0.6666666666666666,
              "#ed7953"
             ],
             [
              0.7777777777777778,
              "#fb9f3a"
             ],
             [
              0.8888888888888888,
              "#fdca26"
             ],
             [
              1,
              "#f0f921"
             ]
            ],
            "type": "contour"
           }
          ],
          "contourcarpet": [
           {
            "colorbar": {
             "outlinewidth": 0,
             "ticks": ""
            },
            "type": "contourcarpet"
           }
          ],
          "heatmap": [
           {
            "colorbar": {
             "outlinewidth": 0,
             "ticks": ""
            },
            "colorscale": [
             [
              0,
              "#0d0887"
             ],
             [
              0.1111111111111111,
              "#46039f"
             ],
             [
              0.2222222222222222,
              "#7201a8"
             ],
             [
              0.3333333333333333,
              "#9c179e"
             ],
             [
              0.4444444444444444,
              "#bd3786"
             ],
             [
              0.5555555555555556,
              "#d8576b"
             ],
             [
              0.6666666666666666,
              "#ed7953"
             ],
             [
              0.7777777777777778,
              "#fb9f3a"
             ],
             [
              0.8888888888888888,
              "#fdca26"
             ],
             [
              1,
              "#f0f921"
             ]
            ],
            "type": "heatmap"
           }
          ],
          "heatmapgl": [
           {
            "colorbar": {
             "outlinewidth": 0,
             "ticks": ""
            },
            "colorscale": [
             [
              0,
              "#0d0887"
             ],
             [
              0.1111111111111111,
              "#46039f"
             ],
             [
              0.2222222222222222,
              "#7201a8"
             ],
             [
              0.3333333333333333,
              "#9c179e"
             ],
             [
              0.4444444444444444,
              "#bd3786"
             ],
             [
              0.5555555555555556,
              "#d8576b"
             ],
             [
              0.6666666666666666,
              "#ed7953"
             ],
             [
              0.7777777777777778,
              "#fb9f3a"
             ],
             [
              0.8888888888888888,
              "#fdca26"
             ],
             [
              1,
              "#f0f921"
             ]
            ],
            "type": "heatmapgl"
           }
          ],
          "histogram": [
           {
            "marker": {
             "colorbar": {
              "outlinewidth": 0,
              "ticks": ""
             }
            },
            "type": "histogram"
           }
          ],
          "histogram2d": [
           {
            "colorbar": {
             "outlinewidth": 0,
             "ticks": ""
            },
            "colorscale": [
             [
              0,
              "#0d0887"
             ],
             [
              0.1111111111111111,
              "#46039f"
             ],
             [
              0.2222222222222222,
              "#7201a8"
             ],
             [
              0.3333333333333333,
              "#9c179e"
             ],
             [
              0.4444444444444444,
              "#bd3786"
             ],
             [
              0.5555555555555556,
              "#d8576b"
             ],
             [
              0.6666666666666666,
              "#ed7953"
             ],
             [
              0.7777777777777778,
              "#fb9f3a"
             ],
             [
              0.8888888888888888,
              "#fdca26"
             ],
             [
              1,
              "#f0f921"
             ]
            ],
            "type": "histogram2d"
           }
          ],
          "histogram2dcontour": [
           {
            "colorbar": {
             "outlinewidth": 0,
             "ticks": ""
            },
            "colorscale": [
             [
              0,
              "#0d0887"
             ],
             [
              0.1111111111111111,
              "#46039f"
             ],
             [
              0.2222222222222222,
              "#7201a8"
             ],
             [
              0.3333333333333333,
              "#9c179e"
             ],
             [
              0.4444444444444444,
              "#bd3786"
             ],
             [
              0.5555555555555556,
              "#d8576b"
             ],
             [
              0.6666666666666666,
              "#ed7953"
             ],
             [
              0.7777777777777778,
              "#fb9f3a"
             ],
             [
              0.8888888888888888,
              "#fdca26"
             ],
             [
              1,
              "#f0f921"
             ]
            ],
            "type": "histogram2dcontour"
           }
          ],
          "mesh3d": [
           {
            "colorbar": {
             "outlinewidth": 0,
             "ticks": ""
            },
            "type": "mesh3d"
           }
          ],
          "parcoords": [
           {
            "line": {
             "colorbar": {
              "outlinewidth": 0,
              "ticks": ""
             }
            },
            "type": "parcoords"
           }
          ],
          "pie": [
           {
            "automargin": true,
            "type": "pie"
           }
          ],
          "scatter": [
           {
            "marker": {
             "colorbar": {
              "outlinewidth": 0,
              "ticks": ""
             }
            },
            "type": "scatter"
           }
          ],
          "scatter3d": [
           {
            "line": {
             "colorbar": {
              "outlinewidth": 0,
              "ticks": ""
             }
            },
            "marker": {
             "colorbar": {
              "outlinewidth": 0,
              "ticks": ""
             }
            },
            "type": "scatter3d"
           }
          ],
          "scattercarpet": [
           {
            "marker": {
             "colorbar": {
              "outlinewidth": 0,
              "ticks": ""
             }
            },
            "type": "scattercarpet"
           }
          ],
          "scattergeo": [
           {
            "marker": {
             "colorbar": {
              "outlinewidth": 0,
              "ticks": ""
             }
            },
            "type": "scattergeo"
           }
          ],
          "scattergl": [
           {
            "marker": {
             "colorbar": {
              "outlinewidth": 0,
              "ticks": ""
             }
            },
            "type": "scattergl"
           }
          ],
          "scattermapbox": [
           {
            "marker": {
             "colorbar": {
              "outlinewidth": 0,
              "ticks": ""
             }
            },
            "type": "scattermapbox"
           }
          ],
          "scatterpolar": [
           {
            "marker": {
             "colorbar": {
              "outlinewidth": 0,
              "ticks": ""
             }
            },
            "type": "scatterpolar"
           }
          ],
          "scatterpolargl": [
           {
            "marker": {
             "colorbar": {
              "outlinewidth": 0,
              "ticks": ""
             }
            },
            "type": "scatterpolargl"
           }
          ],
          "scatterternary": [
           {
            "marker": {
             "colorbar": {
              "outlinewidth": 0,
              "ticks": ""
             }
            },
            "type": "scatterternary"
           }
          ],
          "surface": [
           {
            "colorbar": {
             "outlinewidth": 0,
             "ticks": ""
            },
            "colorscale": [
             [
              0,
              "#0d0887"
             ],
             [
              0.1111111111111111,
              "#46039f"
             ],
             [
              0.2222222222222222,
              "#7201a8"
             ],
             [
              0.3333333333333333,
              "#9c179e"
             ],
             [
              0.4444444444444444,
              "#bd3786"
             ],
             [
              0.5555555555555556,
              "#d8576b"
             ],
             [
              0.6666666666666666,
              "#ed7953"
             ],
             [
              0.7777777777777778,
              "#fb9f3a"
             ],
             [
              0.8888888888888888,
              "#fdca26"
             ],
             [
              1,
              "#f0f921"
             ]
            ],
            "type": "surface"
           }
          ],
          "table": [
           {
            "cells": {
             "fill": {
              "color": "#EBF0F8"
             },
             "line": {
              "color": "white"
             }
            },
            "header": {
             "fill": {
              "color": "#C8D4E3"
             },
             "line": {
              "color": "white"
             }
            },
            "type": "table"
           }
          ]
         },
         "layout": {
          "annotationdefaults": {
           "arrowcolor": "#2a3f5f",
           "arrowhead": 0,
           "arrowwidth": 1
          },
          "coloraxis": {
           "colorbar": {
            "outlinewidth": 0,
            "ticks": ""
           }
          },
          "colorscale": {
           "diverging": [
            [
             0,
             "#8e0152"
            ],
            [
             0.1,
             "#c51b7d"
            ],
            [
             0.2,
             "#de77ae"
            ],
            [
             0.3,
             "#f1b6da"
            ],
            [
             0.4,
             "#fde0ef"
            ],
            [
             0.5,
             "#f7f7f7"
            ],
            [
             0.6,
             "#e6f5d0"
            ],
            [
             0.7,
             "#b8e186"
            ],
            [
             0.8,
             "#7fbc41"
            ],
            [
             0.9,
             "#4d9221"
            ],
            [
             1,
             "#276419"
            ]
           ],
           "sequential": [
            [
             0,
             "#0d0887"
            ],
            [
             0.1111111111111111,
             "#46039f"
            ],
            [
             0.2222222222222222,
             "#7201a8"
            ],
            [
             0.3333333333333333,
             "#9c179e"
            ],
            [
             0.4444444444444444,
             "#bd3786"
            ],
            [
             0.5555555555555556,
             "#d8576b"
            ],
            [
             0.6666666666666666,
             "#ed7953"
            ],
            [
             0.7777777777777778,
             "#fb9f3a"
            ],
            [
             0.8888888888888888,
             "#fdca26"
            ],
            [
             1,
             "#f0f921"
            ]
           ],
           "sequentialminus": [
            [
             0,
             "#0d0887"
            ],
            [
             0.1111111111111111,
             "#46039f"
            ],
            [
             0.2222222222222222,
             "#7201a8"
            ],
            [
             0.3333333333333333,
             "#9c179e"
            ],
            [
             0.4444444444444444,
             "#bd3786"
            ],
            [
             0.5555555555555556,
             "#d8576b"
            ],
            [
             0.6666666666666666,
             "#ed7953"
            ],
            [
             0.7777777777777778,
             "#fb9f3a"
            ],
            [
             0.8888888888888888,
             "#fdca26"
            ],
            [
             1,
             "#f0f921"
            ]
           ]
          },
          "colorway": [
           "#636efa",
           "#EF553B",
           "#00cc96",
           "#ab63fa",
           "#FFA15A",
           "#19d3f3",
           "#FF6692",
           "#B6E880",
           "#FF97FF",
           "#FECB52"
          ],
          "font": {
           "color": "#2a3f5f"
          },
          "geo": {
           "bgcolor": "white",
           "lakecolor": "white",
           "landcolor": "#E5ECF6",
           "showlakes": true,
           "showland": true,
           "subunitcolor": "white"
          },
          "hoverlabel": {
           "align": "left"
          },
          "hovermode": "closest",
          "mapbox": {
           "style": "light"
          },
          "paper_bgcolor": "white",
          "plot_bgcolor": "#E5ECF6",
          "polar": {
           "angularaxis": {
            "gridcolor": "white",
            "linecolor": "white",
            "ticks": ""
           },
           "bgcolor": "#E5ECF6",
           "radialaxis": {
            "gridcolor": "white",
            "linecolor": "white",
            "ticks": ""
           }
          },
          "scene": {
           "xaxis": {
            "backgroundcolor": "#E5ECF6",
            "gridcolor": "white",
            "gridwidth": 2,
            "linecolor": "white",
            "showbackground": true,
            "ticks": "",
            "zerolinecolor": "white"
           },
           "yaxis": {
            "backgroundcolor": "#E5ECF6",
            "gridcolor": "white",
            "gridwidth": 2,
            "linecolor": "white",
            "showbackground": true,
            "ticks": "",
            "zerolinecolor": "white"
           },
           "zaxis": {
            "backgroundcolor": "#E5ECF6",
            "gridcolor": "white",
            "gridwidth": 2,
            "linecolor": "white",
            "showbackground": true,
            "ticks": "",
            "zerolinecolor": "white"
           }
          },
          "shapedefaults": {
           "line": {
            "color": "#2a3f5f"
           }
          },
          "ternary": {
           "aaxis": {
            "gridcolor": "white",
            "linecolor": "white",
            "ticks": ""
           },
           "baxis": {
            "gridcolor": "white",
            "linecolor": "white",
            "ticks": ""
           },
           "bgcolor": "#E5ECF6",
           "caxis": {
            "gridcolor": "white",
            "linecolor": "white",
            "ticks": ""
           }
          },
          "title": {
           "x": 0.05
          },
          "xaxis": {
           "automargin": true,
           "gridcolor": "white",
           "linecolor": "white",
           "ticks": "",
           "title": {
            "standoff": 15
           },
           "zerolinecolor": "white",
           "zerolinewidth": 2
          },
          "yaxis": {
           "automargin": true,
           "gridcolor": "white",
           "linecolor": "white",
           "ticks": "",
           "title": {
            "standoff": 15
           },
           "zerolinecolor": "white",
           "zerolinewidth": 2
          }
         }
        },
        "title": {
         "text": "Correlation Matrix of price and amenities variables"
        }
       }
      },
      "text/html": [
       "<div>\n",
       "        \n",
       "        \n",
       "            <div id=\"d54586fd-5044-4a3f-a0b4-f0879004d341\" class=\"plotly-graph-div\" style=\"height:525px; width:100%;\"></div>\n",
       "            <script type=\"text/javascript\">\n",
       "                require([\"plotly\"], function(Plotly) {\n",
       "                    window.PLOTLYENV=window.PLOTLYENV || {};\n",
       "                    \n",
       "                if (document.getElementById(\"d54586fd-5044-4a3f-a0b4-f0879004d341\")) {\n",
       "                    Plotly.newPlot(\n",
       "                        'd54586fd-5044-4a3f-a0b4-f0879004d341',\n",
       "                        [{\"colorscale\": [[0.0, \"#440154\"], [0.1111111111111111, \"#482878\"], [0.2222222222222222, \"#3e4989\"], [0.3333333333333333, \"#31688e\"], [0.4444444444444444, \"#26828e\"], [0.5555555555555556, \"#1f9e89\"], [0.6666666666666666, \"#35b779\"], [0.7777777777777778, \"#6ece58\"], [0.8888888888888888, \"#b5de2b\"], [1.0, \"#fde725\"]], \"type\": \"heatmap\", \"x\": [\"amenities_24-hour_check-in\", \"amenities_air_conditioning\", \"amenities_breakfast\", \"amenities_buzzer/wireless_intercom\", \"amenities_cable_tv\", \"amenities_carbon_monoxide_detector\", \"amenities_cat(s)\", \"amenities_dog(s)\", \"amenities_doorman\", \"amenities_dryer\", \"amenities_elevator_in_building\", \"amenities_essentials\", \"amenities_family/kid_friendly\", \"amenities_fire_extinguisher\", \"amenities_first_aid_kit\", \"amenities_free_parking_on_premises\", \"amenities_free_parking_on_street\", \"amenities_gym\", \"amenities_hair_dryer\", \"amenities_hangers\", \"amenities_heating\", \"amenities_hot_tub\", \"amenities_indoor_fireplace\", \"amenities_internet\", \"amenities_iron\", \"amenities_kitchen\", \"amenities_laptop_friendly_workspace\", \"amenities_lock_on_bedroom_door\", \"amenities_other_pet(s)\", \"amenities_paid_parking_off_premises\", \"amenities_pets_allowed\", \"amenities_pets_live_on_this_property\", \"amenities_pool\", \"amenities_safety_card\", \"amenities_shampoo\", \"amenities_smoke_detector\", \"amenities_smoking_allowed\", \"amenities_suitable_for_events\", \"amenities_translation_missing:_en.hosting_amenity_49\", \"amenities_translation_missing:_en.hosting_amenity_50\", \"amenities_tv\", \"amenities_washer\", \"amenities_washer_/_dryer\", \"amenities_wheelchair_accessible\", \"amenities_wireless_internet\", \"price\"], \"y\": [\"amenities_24-hour_check-in\", \"amenities_air_conditioning\", \"amenities_breakfast\", \"amenities_buzzer/wireless_intercom\", \"amenities_cable_tv\", \"amenities_carbon_monoxide_detector\", \"amenities_cat(s)\", \"amenities_dog(s)\", \"amenities_doorman\", \"amenities_dryer\", \"amenities_elevator_in_building\", \"amenities_essentials\", \"amenities_family/kid_friendly\", \"amenities_fire_extinguisher\", \"amenities_first_aid_kit\", \"amenities_free_parking_on_premises\", \"amenities_free_parking_on_street\", \"amenities_gym\", \"amenities_hair_dryer\", \"amenities_hangers\", \"amenities_heating\", \"amenities_hot_tub\", \"amenities_indoor_fireplace\", \"amenities_internet\", \"amenities_iron\", \"amenities_kitchen\", \"amenities_laptop_friendly_workspace\", \"amenities_lock_on_bedroom_door\", \"amenities_other_pet(s)\", \"amenities_paid_parking_off_premises\", \"amenities_pets_allowed\", \"amenities_pets_live_on_this_property\", \"amenities_pool\", \"amenities_safety_card\", \"amenities_shampoo\", \"amenities_smoke_detector\", \"amenities_smoking_allowed\", \"amenities_suitable_for_events\", \"amenities_translation_missing:_en.hosting_amenity_49\", \"amenities_translation_missing:_en.hosting_amenity_50\", \"amenities_tv\", \"amenities_washer\", \"amenities_washer_/_dryer\", \"amenities_wheelchair_accessible\", \"amenities_wireless_internet\", \"price\"], \"z\": [[1.0, 0.22, -0.02, 0.12, 0.16, 0.15, -0.06, -0.07, 0.16, 0.05, 0.11, 0.2, 0.14, 0.07, 0.04, -0.08, 0.03, 0.13, 0.58, 0.58, 0.09, -0.01, -0.06, 0.17, 0.57, 0.07, 0.56, 0.08, -0.03, 0.03, 0.05, -0.1, 0.07, 0.08, 0.25, 0.07, 0.01, 0.0, -0.04, -0.02, 0.15, 0.05, -0.01, 0.03, 0.09, 0.12], [0.22, 1.0, 0.02, 0.16, 0.24, 0.07, -0.09, -0.09, 0.19, 0.03, 0.19, 0.06, 0.12, -0.02, -0.07, -0.23, 0.04, 0.18, 0.28, 0.26, 0.12, 0.01, -0.08, 0.1, 0.31, 0.1, 0.25, 0.09, -0.02, 0.02, 0.03, -0.12, 0.1, -0.01, 0.07, 0.0, -0.0, 0.0, 0.12, 0.15, 0.23, 0.03, 0.0, 0.03, 0.06, 0.26], [-0.02, 0.02, 1.0, -0.03, -0.06, 0.03, 0.06, 0.05, -0.03, -0.03, -0.07, 0.06, -0.02, 0.07, 0.13, 0.08, 0.0, -0.05, 0.04, 0.03, 0.03, 0.02, 0.04, -0.01, 0.04, -0.03, 0.03, 0.07, 0.02, 0.01, -0.01, 0.07, -0.02, 0.1, 0.09, 0.04, 0.07, 0.04, 0.01, 0.01, -0.06, -0.03, -0.01, -0.01, 0.03, -0.07], [0.12, 0.16, -0.03, 1.0, 0.12, 0.07, -0.05, -0.03, 0.06, 0.1, 0.25, 0.08, 0.0, 0.01, 0.01, -0.15, 0.04, 0.11, 0.11, 0.12, 0.07, 0.04, -0.02, 0.16, 0.12, 0.11, 0.13, -0.0, -0.03, 0.02, -0.01, -0.08, 0.05, 0.08, 0.09, 0.08, -0.02, 0.02, 0.02, 0.02, 0.1, 0.1, -0.01, 0.16, 0.04, 0.09], [0.16, 0.24, -0.06, 0.12, 1.0, 0.02, -0.03, 0.02, 0.15, 0.1, 0.13, 0.03, 0.16, 0.04, -0.04, -0.02, -0.03, 0.17, 0.11, 0.07, 0.12, 0.03, 0.08, 0.23, 0.15, 0.13, 0.07, -0.08, -0.04, 0.01, 0.06, -0.05, 0.14, 0.03, 0.04, -0.01, -0.05, 0.04, -0.03, -0.01, 0.4, 0.1, 0.01, 0.05, 0.13, 0.24], [0.15, 0.07, 0.03, 0.07, 0.02, 1.0, 0.02, 0.0, -0.04, 0.03, -0.03, 0.25, 0.08, 0.34, 0.29, 0.05, 0.01, -0.02, 0.19, 0.19, 0.13, 0.02, 0.04, 0.11, 0.19, 0.08, 0.18, 0.09, -0.02, 0.0, 0.01, 0.01, -0.01, 0.22, 0.18, 0.6, -0.02, 0.0, -0.02, -0.03, 0.08, 0.03, -0.03, 0.03, 0.12, 0.03], [-0.06, -0.09, 0.06, -0.05, -0.03, 0.02, 1.0, 0.17, -0.04, -0.0, -0.08, 0.01, -0.02, 0.09, 0.11, 0.11, -0.01, -0.05, -0.05, -0.06, 0.03, -0.01, 0.03, -0.01, -0.06, -0.06, -0.04, -0.0, 0.13, -0.01, 0.02, 0.6, -0.02, 0.04, 0.02, 0.04, 0.07, 0.03, -0.01, -0.02, -0.04, -0.0, -0.01, -0.01, 0.04, -0.08], [-0.07, -0.09, 0.05, -0.03, 0.02, 0.0, 0.17, 1.0, -0.05, -0.02, -0.1, 0.02, 0.03, 0.07, 0.12, 0.14, -0.01, -0.05, -0.06, -0.07, 0.03, 0.01, 0.09, -0.01, -0.07, -0.08, -0.06, -0.0, 0.08, -0.01, 0.16, 0.7, -0.04, 0.07, 0.04, 0.04, 0.04, -0.01, -0.06, -0.06, -0.02, -0.02, -0.01, -0.04, 0.04, -0.04], [0.16, 0.19, -0.03, 0.06, 0.15, -0.04, -0.04, -0.05, 1.0, 0.11, 0.4, 0.05, 0.09, -0.05, -0.05, -0.13, -0.01, 0.44, 0.11, 0.09, 0.04, 0.03, -0.06, 0.09, 0.11, 0.05, 0.07, -0.04, -0.02, 0.02, 0.04, -0.07, 0.29, 0.03, 0.06, -0.07, -0.02, 0.01, -0.03, -0.01, 0.1, 0.1, -0.01, 0.18, 0.02, 0.18], [0.05, 0.03, -0.03, 0.1, 0.1, 0.03, -0.0, -0.02, 0.11, 1.0, 0.19, 0.09, 0.14, 0.06, 0.06, 0.12, 0.0, 0.18, 0.03, 0.02, 0.15, 0.05, 0.14, 0.15, 0.03, 0.26, 0.01, -0.04, 0.0, 0.01, 0.05, -0.01, 0.1, 0.06, 0.09, 0.07, 0.02, 0.05, -0.05, -0.03, 0.15, 0.95, 0.01, 0.09, 0.12, 0.11], [0.11, 0.19, -0.07, 0.25, 0.13, -0.03, -0.08, -0.1, 0.4, 0.19, 1.0, 0.07, 0.1, -0.12, -0.13, -0.19, -0.02, 0.58, 0.11, 0.1, 0.04, 0.11, -0.11, 0.11, 0.12, 0.13, 0.08, -0.07, -0.04, 0.02, 0.02, -0.14, 0.35, 0.0, 0.07, -0.05, -0.02, -0.0, -0.07, -0.05, 0.15, 0.18, -0.01, 0.34, 0.01, 0.17], [0.2, 0.06, 0.06, 0.08, 0.03, 0.25, 0.01, 0.02, 0.05, 0.09, 0.07, 1.0, 0.1, 0.16, 0.17, 0.03, 0.0, 0.06, 0.22, 0.23, 0.22, 0.0, 0.01, 0.16, 0.21, 0.12, 0.21, 0.05, -0.0, 0.01, 0.01, 0.01, 0.04, 0.13, 0.41, 0.29, 0.0, 0.01, -0.05, -0.02, 0.12, 0.09, -0.05, 0.04, 0.19, 0.01], [0.14, 0.12, -0.02, 0.0, 0.16, 0.08, -0.02, 0.03, 0.09, 0.14, 0.1, 0.1, 1.0, 0.09, 0.05, 0.13, 0.02, 0.16, 0.13, 0.11, 0.13, 0.07, 0.08, 0.14, 0.13, 0.1, 0.09, -0.05, 0.01, 0.01, 0.19, 0.01, 0.12, 0.08, 0.15, 0.06, 0.01, 0.09, -0.24, -0.15, 0.17, 0.14, 0.02, 0.1, 0.1, 0.23], [0.07, -0.02, 0.07, 0.01, 0.04, 0.34, 0.09, 0.07, -0.05, 0.06, -0.12, 0.16, 0.09, 1.0, 0.39, 0.17, 0.01, -0.07, 0.1, 0.06, 0.11, 0.03, 0.1, 0.08, 0.09, 0.05, 0.06, 0.03, 0.03, -0.01, 0.02, 0.1, -0.02, 0.32, 0.14, 0.41, 0.01, 0.05, -0.05, -0.06, 0.06, 0.06, -0.02, 0.02, 0.1, 0.01], [0.04, -0.07, 0.13, 0.01, -0.04, 0.29, 0.11, 0.12, -0.05, 0.06, -0.13, 0.17, 0.05, 0.39, 1.0, 0.16, -0.0, -0.11, 0.04, 0.02, 0.09, 0.0, 0.11, 0.08, 0.05, 0.01, 0.04, 0.05, 0.02, -0.01, 0.04, 0.16, -0.07, 0.4, 0.18, 0.31, 0.05, 0.09, -0.02, -0.04, 0.01, 0.05, -0.02, 0.01, 0.07, -0.06], [-0.08, -0.23, 0.08, -0.15, -0.02, 0.05, 0.11, 0.14, -0.13, 0.12, -0.19, 0.03, 0.13, 0.17, 0.16, 1.0, -0.03, -0.07, -0.1, -0.1, 0.1, 0.09, 0.18, 0.03, -0.1, 0.0, -0.1, -0.06, 0.06, -0.02, 0.05, 0.18, 0.01, 0.1, 0.09, 0.11, 0.04, 0.02, -0.11, -0.12, 0.02, 0.11, -0.01, 0.01, 0.09, -0.09], [0.03, 0.04, 0.0, 0.04, -0.03, 0.01, -0.01, -0.01, -0.01, 0.0, -0.02, 0.0, 0.02, 0.01, -0.0, -0.03, 1.0, -0.01, 0.05, 0.04, 0.01, -0.01, 0.04, -0.0, 0.03, 0.01, 0.04, 0.05, -0.0, -0.0, -0.0, -0.01, -0.01, -0.02, 0.02, -0.01, -0.01, -0.01, 0.01, 0.0, 0.02, 0.0, -0.0, -0.01, 0.01, -0.0], [0.13, 0.18, -0.05, 0.11, 0.17, -0.02, -0.05, -0.05, 0.44, 0.18, 0.58, 0.06, 0.16, -0.07, -0.11, -0.07, -0.01, 1.0, 0.12, 0.08, 0.03, 0.18, -0.06, 0.1, 0.12, 0.09, 0.05, -0.05, -0.02, 0.01, 0.03, -0.09, 0.49, 0.03, 0.09, -0.07, -0.02, 0.01, -0.07, -0.02, 0.15, 0.18, -0.01, 0.24, 0.02, 0.16], [0.58, 0.28, 0.04, 0.11, 0.11, 0.19, -0.05, -0.06, 0.11, 0.03, 0.11, 0.22, 0.13, 0.1, 0.04, -0.1, 0.05, 0.12, 1.0, 0.74, 0.1, 0.01, -0.05, 0.1, 0.78, 0.06, 0.67, 0.16, -0.04, 0.03, 0.01, -0.08, 0.08, 0.1, 0.3, 0.11, -0.01, -0.01, 0.04, 0.07, 0.13, 0.03, -0.02, 0.03, 0.1, 0.12], [0.58, 0.26, 0.03, 0.12, 0.07, 0.19, -0.06, -0.07, 0.09, 0.02, 0.1, 0.23, 0.11, 0.06, 0.02, -0.1, 0.04, 0.08, 0.74, 1.0, 0.11, 0.01, -0.08, 0.06, 0.73, 0.05, 0.73, 0.22, -0.04, 0.03, 0.03, -0.1, 0.06, 0.07, 0.27, 0.13, -0.0, -0.01, 0.07, 0.08, 0.09, 0.01, -0.02, 0.03, 0.08, 0.07], [0.09, 0.12, 0.03, 0.07, 0.12, 0.13, 0.03, 0.03, 0.04, 0.15, 0.04, 0.22, 0.13, 0.11, 0.09, 0.1, 0.01, 0.03, 0.1, 0.11, 1.0, 0.01, 0.06, 0.21, 0.11, 0.24, 0.11, -0.01, 0.01, 0.01, 0.03, 0.04, 0.02, 0.06, 0.18, 0.18, -0.03, 0.02, -0.02, -0.0, 0.17, 0.15, 0.01, 0.04, 0.3, 0.04], [-0.01, 0.01, 0.02, 0.04, 0.03, 0.02, -0.01, 0.01, 0.03, 0.05, 0.11, 0.0, 0.07, 0.03, 0.0, 0.09, -0.01, 0.18, 0.01, 0.01, 0.01, 1.0, 0.07, -0.0, -0.02, 0.03, -0.02, 0.01, -0.01, -0.01, 0.02, -0.01, 0.33, 0.03, 0.05, 0.03, 0.03, 0.05, -0.03, -0.03, -0.02, 0.04, -0.01, 0.06, 0.01, 0.02], [-0.06, -0.08, 0.04, -0.02, 0.08, 0.04, 0.03, 0.09, -0.06, 0.14, -0.11, 0.01, 0.08, 0.1, 0.11, 0.18, 0.04, -0.06, -0.05, -0.08, 0.06, 0.07, 1.0, 0.09, -0.06, 0.08, -0.05, -0.03, 0.0, 0.02, 0.04, 0.1, -0.04, 0.05, 0.04, 0.05, -0.01, 0.08, -0.05, -0.04, 0.08, 0.14, 0.0, -0.03, 0.05, 0.08], [0.17, 0.1, -0.01, 0.16, 0.23, 0.11, -0.01, -0.01, 0.09, 0.15, 0.11, 0.16, 0.14, 0.08, 0.08, 0.03, -0.0, 0.1, 0.1, 0.06, 0.21, -0.0, 0.09, 1.0, 0.1, 0.18, 0.07, -0.11, 0.01, 0.0, 0.06, -0.02, 0.05, 0.06, 0.17, 0.11, -0.03, 0.04, -0.13, -0.11, 0.28, 0.16, -0.01, 0.08, 0.25, 0.1], [0.57, 0.31, 0.04, 0.12, 0.15, 0.19, -0.06, -0.07, 0.11, 0.03, 0.12, 0.21, 0.13, 0.09, 0.05, -0.1, 0.03, 0.12, 0.78, 0.73, 0.11, -0.02, -0.06, 0.1, 1.0, 0.07, 0.67, 0.15, -0.03, 0.03, 0.02, -0.1, 0.08, 0.08, 0.26, 0.11, -0.02, -0.01, 0.03, 0.05, 0.17, 0.03, -0.02, 0.04, 0.09, 0.13], [0.07, 0.1, -0.03, 0.11, 0.13, 0.08, -0.06, -0.08, 0.05, 0.26, 0.13, 0.12, 0.1, 0.05, 0.01, 0.0, 0.01, 0.09, 0.06, 0.05, 0.24, 0.03, 0.08, 0.18, 0.07, 1.0, 0.07, -0.08, -0.03, 0.01, 0.05, -0.09, 0.05, 0.02, 0.06, 0.09, 0.0, 0.03, -0.01, 0.0, 0.21, 0.27, 0.01, 0.04, 0.19, 0.11], [0.56, 0.25, 0.03, 0.13, 0.07, 0.18, -0.04, -0.06, 0.07, 0.01, 0.08, 0.21, 0.09, 0.06, 0.04, -0.1, 0.04, 0.05, 0.67, 0.73, 0.11, -0.02, -0.05, 0.07, 0.67, 0.07, 1.0, 0.22, -0.04, 0.02, 0.03, -0.08, 0.0, 0.07, 0.22, 0.12, 0.01, -0.0, 0.06, 0.08, 0.1, 0.01, -0.02, 0.02, 0.09, 0.09], [0.08, 0.09, 0.07, -0.0, -0.08, 0.09, -0.0, -0.0, -0.04, -0.04, -0.07, 0.05, -0.05, 0.03, 0.05, -0.06, 0.05, -0.05, 0.16, 0.22, -0.01, 0.01, -0.03, -0.11, 0.15, -0.08, 0.22, 1.0, -0.01, 0.01, -0.02, -0.01, -0.04, 0.03, 0.01, 0.11, 0.04, 0.02, 0.12, 0.11, -0.07, -0.04, -0.01, -0.04, 0.01, -0.08], [-0.03, -0.02, 0.02, -0.03, -0.04, -0.02, 0.13, 0.08, -0.02, 0.0, -0.04, -0.0, 0.01, 0.03, 0.02, 0.06, -0.0, -0.02, -0.04, -0.04, 0.01, -0.01, 0.0, 0.01, -0.03, -0.03, -0.04, -0.01, 1.0, -0.0, 0.01, 0.2, -0.02, 0.01, -0.0, 0.02, 0.0, -0.02, -0.02, -0.03, -0.03, 0.0, -0.0, -0.01, 0.01, -0.03], [0.03, 0.02, 0.01, 0.02, 0.01, 0.0, -0.01, -0.01, 0.02, 0.01, 0.02, 0.01, 0.01, -0.01, -0.01, -0.02, -0.0, 0.01, 0.03, 0.03, 0.01, -0.01, 0.02, 0.0, 0.03, 0.01, 0.02, 0.01, -0.0, 1.0, 0.01, -0.01, -0.0, 0.01, 0.0, 0.01, -0.0, -0.01, -0.01, -0.01, 0.02, 0.01, -0.0, -0.01, 0.0, 0.01], [0.05, 0.03, -0.01, -0.01, 0.06, 0.01, 0.02, 0.16, 0.04, 0.05, 0.02, 0.01, 0.19, 0.02, 0.04, 0.05, -0.0, 0.03, 0.01, 0.03, 0.03, 0.02, 0.04, 0.06, 0.02, 0.05, 0.03, -0.02, 0.01, 0.01, 1.0, 0.13, 0.03, 0.02, 0.03, 0.02, 0.13, 0.15, -0.05, -0.06, 0.08, 0.05, 0.03, 0.06, 0.01, 0.08], [-0.1, -0.12, 0.07, -0.08, -0.05, 0.01, 0.6, 0.7, -0.07, -0.01, -0.14, 0.01, 0.01, 0.1, 0.16, 0.18, -0.01, -0.09, -0.08, -0.1, 0.04, -0.01, 0.1, -0.02, -0.1, -0.09, -0.08, -0.01, 0.2, -0.01, 0.13, 1.0, -0.05, 0.06, 0.04, 0.06, 0.08, 0.0, -0.05, -0.06, -0.04, -0.01, -0.01, -0.04, 0.05, -0.1], [0.07, 0.1, -0.02, 0.05, 0.14, -0.01, -0.02, -0.04, 0.29, 0.1, 0.35, 0.04, 0.12, -0.02, -0.07, 0.01, -0.01, 0.49, 0.08, 0.06, 0.02, 0.33, -0.04, 0.05, 0.08, 0.05, 0.0, -0.04, -0.02, -0.0, 0.03, -0.05, 1.0, 0.02, 0.05, -0.04, -0.01, -0.01, -0.04, -0.02, 0.08, 0.1, -0.0, 0.12, 0.02, 0.09], [0.08, -0.01, 0.1, 0.08, 0.03, 0.22, 0.04, 0.07, 0.03, 0.06, 0.0, 0.13, 0.08, 0.32, 0.4, 0.1, -0.02, 0.03, 0.1, 0.07, 0.06, 0.03, 0.05, 0.06, 0.08, 0.02, 0.07, 0.03, 0.01, 0.01, 0.02, 0.06, 0.02, 1.0, 0.14, 0.18, 0.02, 0.04, -0.03, -0.04, 0.03, 0.06, -0.01, 0.09, 0.06, -0.0], [0.25, 0.07, 0.09, 0.09, 0.04, 0.18, 0.02, 0.04, 0.06, 0.09, 0.07, 0.41, 0.15, 0.14, 0.18, 0.09, 0.02, 0.09, 0.3, 0.27, 0.18, 0.05, 0.04, 0.17, 0.26, 0.06, 0.22, 0.01, -0.0, 0.0, 0.03, 0.04, 0.05, 0.14, 1.0, 0.2, 0.01, 0.03, -0.06, -0.03, 0.12, 0.09, -0.03, 0.06, 0.18, 0.03], [0.07, 0.0, 0.04, 0.08, -0.01, 0.6, 0.04, 0.04, -0.07, 0.07, -0.05, 0.29, 0.06, 0.41, 0.31, 0.11, -0.01, -0.07, 0.11, 0.13, 0.18, 0.03, 0.05, 0.11, 0.11, 0.09, 0.12, 0.11, 0.02, 0.01, 0.02, 0.06, -0.04, 0.18, 0.2, 1.0, 0.01, 0.02, -0.03, -0.06, 0.07, 0.07, -0.05, 0.05, 0.18, -0.01], [0.01, -0.0, 0.07, -0.02, -0.05, -0.02, 0.07, 0.04, -0.02, 0.02, -0.02, 0.0, 0.01, 0.01, 0.05, 0.04, -0.01, -0.02, -0.01, -0.0, -0.03, 0.03, -0.01, -0.03, -0.02, 0.0, 0.01, 0.04, 0.0, -0.0, 0.13, 0.08, -0.01, 0.02, 0.01, 0.01, 1.0, 0.12, 0.01, -0.0, -0.04, 0.02, -0.0, 0.01, -0.01, -0.06], [0.0, 0.0, 0.04, 0.02, 0.04, 0.0, 0.03, -0.01, 0.01, 0.05, -0.0, 0.01, 0.09, 0.05, 0.09, 0.02, -0.01, 0.01, -0.01, -0.01, 0.02, 0.05, 0.08, 0.04, -0.01, 0.03, -0.0, 0.02, -0.02, -0.01, 0.15, 0.0, -0.01, 0.04, 0.03, 0.02, 0.12, 1.0, -0.01, -0.02, 0.02, 0.05, -0.01, 0.08, 0.02, 0.05], [-0.04, 0.12, 0.01, 0.02, -0.03, -0.02, -0.01, -0.06, -0.03, -0.05, -0.07, -0.05, -0.24, -0.05, -0.02, -0.11, 0.01, -0.07, 0.04, 0.07, -0.02, -0.03, -0.05, -0.13, 0.03, -0.01, 0.06, 0.12, -0.02, -0.01, -0.05, -0.05, -0.04, -0.03, -0.06, -0.03, 0.01, -0.01, 1.0, 0.83, -0.05, -0.05, -0.01, -0.05, 0.02, -0.05], [-0.02, 0.15, 0.01, 0.02, -0.01, -0.03, -0.02, -0.06, -0.01, -0.03, -0.05, -0.02, -0.15, -0.06, -0.04, -0.12, 0.0, -0.02, 0.07, 0.08, -0.0, -0.03, -0.04, -0.11, 0.05, 0.0, 0.08, 0.11, -0.03, -0.01, -0.06, -0.06, -0.02, -0.04, -0.03, -0.06, -0.0, -0.02, 0.83, 1.0, -0.05, -0.03, -0.01, -0.05, 0.02, -0.03], [0.15, 0.23, -0.06, 0.1, 0.4, 0.08, -0.04, -0.02, 0.1, 0.15, 0.15, 0.12, 0.17, 0.06, 0.01, 0.02, 0.02, 0.15, 0.13, 0.09, 0.17, -0.02, 0.08, 0.28, 0.17, 0.21, 0.1, -0.07, -0.03, 0.02, 0.08, -0.04, 0.08, 0.03, 0.12, 0.07, -0.04, 0.02, -0.05, -0.05, 1.0, 0.14, -0.01, 0.08, 0.17, 0.23], [0.05, 0.03, -0.03, 0.1, 0.1, 0.03, -0.0, -0.02, 0.1, 0.95, 0.18, 0.09, 0.14, 0.06, 0.05, 0.11, 0.0, 0.18, 0.03, 0.01, 0.15, 0.04, 0.14, 0.16, 0.03, 0.27, 0.01, -0.04, 0.0, 0.01, 0.05, -0.01, 0.1, 0.06, 0.09, 0.07, 0.02, 0.05, -0.05, -0.03, 0.14, 1.0, 0.01, 0.09, 0.13, 0.1], [-0.01, 0.0, -0.01, -0.01, 0.01, -0.03, -0.01, -0.01, -0.01, 0.01, -0.01, -0.05, 0.02, -0.02, -0.02, -0.01, -0.0, -0.01, -0.02, -0.02, 0.01, -0.01, 0.0, -0.01, -0.02, 0.01, -0.02, -0.01, -0.0, -0.0, 0.03, -0.01, -0.0, -0.01, -0.03, -0.05, -0.0, -0.01, -0.01, -0.01, -0.01, 0.01, 1.0, -0.01, -0.02, 0.02], [0.03, 0.03, -0.01, 0.16, 0.05, 0.03, -0.01, -0.04, 0.18, 0.09, 0.34, 0.04, 0.1, 0.02, 0.01, 0.01, -0.01, 0.24, 0.03, 0.03, 0.04, 0.06, -0.03, 0.08, 0.04, 0.04, 0.02, -0.04, -0.01, -0.01, 0.06, -0.04, 0.12, 0.09, 0.06, 0.05, 0.01, 0.08, -0.05, -0.05, 0.08, 0.09, -0.01, 1.0, 0.0, 0.04], [0.09, 0.06, 0.03, 0.04, 0.13, 0.12, 0.04, 0.04, 0.02, 0.12, 0.01, 0.19, 0.1, 0.1, 0.07, 0.09, 0.01, 0.02, 0.1, 0.08, 0.3, 0.01, 0.05, 0.25, 0.09, 0.19, 0.09, 0.01, 0.01, 0.0, 0.01, 0.05, 0.02, 0.06, 0.18, 0.18, -0.01, 0.02, 0.02, 0.02, 0.17, 0.13, -0.02, 0.0, 1.0, 0.01], [0.12, 0.26, -0.07, 0.09, 0.24, 0.03, -0.08, -0.04, 0.18, 0.11, 0.17, 0.01, 0.23, 0.01, -0.06, -0.09, -0.0, 0.16, 0.12, 0.07, 0.04, 0.02, 0.08, 0.1, 0.13, 0.11, 0.09, -0.08, -0.03, 0.01, 0.08, -0.1, 0.09, -0.0, 0.03, -0.01, -0.06, 0.05, -0.05, -0.03, 0.23, 0.1, 0.02, 0.04, 0.01, 1.0]]}],\n",
       "                        {\"autosize\": true, \"template\": {\"data\": {\"bar\": [{\"error_x\": {\"color\": \"#2a3f5f\"}, \"error_y\": {\"color\": \"#2a3f5f\"}, \"marker\": {\"line\": {\"color\": \"#E5ECF6\", \"width\": 0.5}}, \"type\": \"bar\"}], \"barpolar\": [{\"marker\": {\"line\": {\"color\": \"#E5ECF6\", \"width\": 0.5}}, \"type\": \"barpolar\"}], \"carpet\": [{\"aaxis\": {\"endlinecolor\": \"#2a3f5f\", \"gridcolor\": \"white\", \"linecolor\": \"white\", \"minorgridcolor\": \"white\", \"startlinecolor\": \"#2a3f5f\"}, \"baxis\": {\"endlinecolor\": \"#2a3f5f\", \"gridcolor\": \"white\", \"linecolor\": \"white\", \"minorgridcolor\": \"white\", \"startlinecolor\": \"#2a3f5f\"}, \"type\": \"carpet\"}], \"choropleth\": [{\"colorbar\": {\"outlinewidth\": 0, \"ticks\": \"\"}, \"type\": \"choropleth\"}], \"contour\": [{\"colorbar\": {\"outlinewidth\": 0, \"ticks\": \"\"}, \"colorscale\": [[0.0, \"#0d0887\"], [0.1111111111111111, \"#46039f\"], [0.2222222222222222, \"#7201a8\"], [0.3333333333333333, \"#9c179e\"], [0.4444444444444444, \"#bd3786\"], [0.5555555555555556, \"#d8576b\"], [0.6666666666666666, \"#ed7953\"], [0.7777777777777778, \"#fb9f3a\"], [0.8888888888888888, \"#fdca26\"], [1.0, \"#f0f921\"]], \"type\": \"contour\"}], \"contourcarpet\": [{\"colorbar\": {\"outlinewidth\": 0, \"ticks\": \"\"}, \"type\": \"contourcarpet\"}], \"heatmap\": [{\"colorbar\": {\"outlinewidth\": 0, \"ticks\": \"\"}, \"colorscale\": [[0.0, \"#0d0887\"], [0.1111111111111111, \"#46039f\"], [0.2222222222222222, \"#7201a8\"], [0.3333333333333333, \"#9c179e\"], [0.4444444444444444, \"#bd3786\"], [0.5555555555555556, \"#d8576b\"], [0.6666666666666666, \"#ed7953\"], [0.7777777777777778, \"#fb9f3a\"], [0.8888888888888888, \"#fdca26\"], [1.0, \"#f0f921\"]], \"type\": \"heatmap\"}], \"heatmapgl\": [{\"colorbar\": {\"outlinewidth\": 0, \"ticks\": \"\"}, \"colorscale\": [[0.0, \"#0d0887\"], [0.1111111111111111, \"#46039f\"], [0.2222222222222222, \"#7201a8\"], [0.3333333333333333, \"#9c179e\"], [0.4444444444444444, \"#bd3786\"], [0.5555555555555556, \"#d8576b\"], [0.6666666666666666, \"#ed7953\"], [0.7777777777777778, \"#fb9f3a\"], [0.8888888888888888, \"#fdca26\"], [1.0, \"#f0f921\"]], \"type\": \"heatmapgl\"}], \"histogram\": [{\"marker\": {\"colorbar\": {\"outlinewidth\": 0, \"ticks\": \"\"}}, \"type\": \"histogram\"}], \"histogram2d\": [{\"colorbar\": {\"outlinewidth\": 0, \"ticks\": \"\"}, \"colorscale\": [[0.0, \"#0d0887\"], [0.1111111111111111, \"#46039f\"], [0.2222222222222222, \"#7201a8\"], [0.3333333333333333, \"#9c179e\"], [0.4444444444444444, \"#bd3786\"], [0.5555555555555556, \"#d8576b\"], [0.6666666666666666, \"#ed7953\"], [0.7777777777777778, \"#fb9f3a\"], [0.8888888888888888, \"#fdca26\"], [1.0, \"#f0f921\"]], \"type\": \"histogram2d\"}], \"histogram2dcontour\": [{\"colorbar\": {\"outlinewidth\": 0, \"ticks\": \"\"}, \"colorscale\": [[0.0, \"#0d0887\"], [0.1111111111111111, \"#46039f\"], [0.2222222222222222, \"#7201a8\"], [0.3333333333333333, \"#9c179e\"], [0.4444444444444444, \"#bd3786\"], [0.5555555555555556, \"#d8576b\"], [0.6666666666666666, \"#ed7953\"], [0.7777777777777778, \"#fb9f3a\"], [0.8888888888888888, \"#fdca26\"], [1.0, \"#f0f921\"]], \"type\": \"histogram2dcontour\"}], \"mesh3d\": [{\"colorbar\": {\"outlinewidth\": 0, \"ticks\": \"\"}, \"type\": \"mesh3d\"}], \"parcoords\": [{\"line\": {\"colorbar\": {\"outlinewidth\": 0, \"ticks\": \"\"}}, \"type\": \"parcoords\"}], \"pie\": [{\"automargin\": true, \"type\": \"pie\"}], \"scatter\": [{\"marker\": {\"colorbar\": {\"outlinewidth\": 0, \"ticks\": \"\"}}, \"type\": \"scatter\"}], \"scatter3d\": [{\"line\": {\"colorbar\": {\"outlinewidth\": 0, \"ticks\": \"\"}}, \"marker\": {\"colorbar\": {\"outlinewidth\": 0, \"ticks\": \"\"}}, \"type\": \"scatter3d\"}], \"scattercarpet\": [{\"marker\": {\"colorbar\": {\"outlinewidth\": 0, \"ticks\": \"\"}}, \"type\": \"scattercarpet\"}], \"scattergeo\": [{\"marker\": {\"colorbar\": {\"outlinewidth\": 0, \"ticks\": \"\"}}, \"type\": \"scattergeo\"}], \"scattergl\": [{\"marker\": {\"colorbar\": {\"outlinewidth\": 0, \"ticks\": \"\"}}, \"type\": \"scattergl\"}], \"scattermapbox\": [{\"marker\": {\"colorbar\": {\"outlinewidth\": 0, \"ticks\": \"\"}}, \"type\": \"scattermapbox\"}], \"scatterpolar\": [{\"marker\": {\"colorbar\": {\"outlinewidth\": 0, \"ticks\": \"\"}}, \"type\": \"scatterpolar\"}], \"scatterpolargl\": [{\"marker\": {\"colorbar\": {\"outlinewidth\": 0, \"ticks\": \"\"}}, \"type\": \"scatterpolargl\"}], \"scatterternary\": [{\"marker\": {\"colorbar\": {\"outlinewidth\": 0, \"ticks\": \"\"}}, \"type\": \"scatterternary\"}], \"surface\": [{\"colorbar\": {\"outlinewidth\": 0, \"ticks\": \"\"}, \"colorscale\": [[0.0, \"#0d0887\"], [0.1111111111111111, \"#46039f\"], [0.2222222222222222, \"#7201a8\"], [0.3333333333333333, \"#9c179e\"], [0.4444444444444444, \"#bd3786\"], [0.5555555555555556, \"#d8576b\"], [0.6666666666666666, \"#ed7953\"], [0.7777777777777778, \"#fb9f3a\"], [0.8888888888888888, \"#fdca26\"], [1.0, \"#f0f921\"]], \"type\": \"surface\"}], \"table\": [{\"cells\": {\"fill\": {\"color\": \"#EBF0F8\"}, \"line\": {\"color\": \"white\"}}, \"header\": {\"fill\": {\"color\": \"#C8D4E3\"}, \"line\": {\"color\": \"white\"}}, \"type\": \"table\"}]}, \"layout\": {\"annotationdefaults\": {\"arrowcolor\": \"#2a3f5f\", \"arrowhead\": 0, \"arrowwidth\": 1}, \"coloraxis\": {\"colorbar\": {\"outlinewidth\": 0, \"ticks\": \"\"}}, \"colorscale\": {\"diverging\": [[0, \"#8e0152\"], [0.1, \"#c51b7d\"], [0.2, \"#de77ae\"], [0.3, \"#f1b6da\"], [0.4, \"#fde0ef\"], [0.5, \"#f7f7f7\"], [0.6, \"#e6f5d0\"], [0.7, \"#b8e186\"], [0.8, \"#7fbc41\"], [0.9, \"#4d9221\"], [1, \"#276419\"]], \"sequential\": [[0.0, \"#0d0887\"], [0.1111111111111111, \"#46039f\"], [0.2222222222222222, \"#7201a8\"], [0.3333333333333333, \"#9c179e\"], [0.4444444444444444, \"#bd3786\"], [0.5555555555555556, \"#d8576b\"], [0.6666666666666666, \"#ed7953\"], [0.7777777777777778, \"#fb9f3a\"], [0.8888888888888888, \"#fdca26\"], [1.0, \"#f0f921\"]], \"sequentialminus\": [[0.0, \"#0d0887\"], [0.1111111111111111, \"#46039f\"], [0.2222222222222222, \"#7201a8\"], [0.3333333333333333, \"#9c179e\"], [0.4444444444444444, \"#bd3786\"], [0.5555555555555556, \"#d8576b\"], [0.6666666666666666, \"#ed7953\"], [0.7777777777777778, \"#fb9f3a\"], [0.8888888888888888, \"#fdca26\"], [1.0, \"#f0f921\"]]}, \"colorway\": [\"#636efa\", \"#EF553B\", \"#00cc96\", \"#ab63fa\", \"#FFA15A\", \"#19d3f3\", \"#FF6692\", \"#B6E880\", \"#FF97FF\", \"#FECB52\"], \"font\": {\"color\": \"#2a3f5f\"}, \"geo\": {\"bgcolor\": \"white\", \"lakecolor\": \"white\", \"landcolor\": \"#E5ECF6\", \"showlakes\": true, \"showland\": true, \"subunitcolor\": \"white\"}, \"hoverlabel\": {\"align\": \"left\"}, \"hovermode\": \"closest\", \"mapbox\": {\"style\": \"light\"}, \"paper_bgcolor\": \"white\", \"plot_bgcolor\": \"#E5ECF6\", \"polar\": {\"angularaxis\": {\"gridcolor\": \"white\", \"linecolor\": \"white\", \"ticks\": \"\"}, \"bgcolor\": \"#E5ECF6\", \"radialaxis\": {\"gridcolor\": \"white\", \"linecolor\": \"white\", \"ticks\": \"\"}}, \"scene\": {\"xaxis\": {\"backgroundcolor\": \"#E5ECF6\", \"gridcolor\": \"white\", \"gridwidth\": 2, \"linecolor\": \"white\", \"showbackground\": true, \"ticks\": \"\", \"zerolinecolor\": \"white\"}, \"yaxis\": {\"backgroundcolor\": \"#E5ECF6\", \"gridcolor\": \"white\", \"gridwidth\": 2, \"linecolor\": \"white\", \"showbackground\": true, \"ticks\": \"\", \"zerolinecolor\": \"white\"}, \"zaxis\": {\"backgroundcolor\": \"#E5ECF6\", \"gridcolor\": \"white\", \"gridwidth\": 2, \"linecolor\": \"white\", \"showbackground\": true, \"ticks\": \"\", \"zerolinecolor\": \"white\"}}, \"shapedefaults\": {\"line\": {\"color\": \"#2a3f5f\"}}, \"ternary\": {\"aaxis\": {\"gridcolor\": \"white\", \"linecolor\": \"white\", \"ticks\": \"\"}, \"baxis\": {\"gridcolor\": \"white\", \"linecolor\": \"white\", \"ticks\": \"\"}, \"bgcolor\": \"#E5ECF6\", \"caxis\": {\"gridcolor\": \"white\", \"linecolor\": \"white\", \"ticks\": \"\"}}, \"title\": {\"x\": 0.05}, \"xaxis\": {\"automargin\": true, \"gridcolor\": \"white\", \"linecolor\": \"white\", \"ticks\": \"\", \"title\": {\"standoff\": 15}, \"zerolinecolor\": \"white\", \"zerolinewidth\": 2}, \"yaxis\": {\"automargin\": true, \"gridcolor\": \"white\", \"linecolor\": \"white\", \"ticks\": \"\", \"title\": {\"standoff\": 15}, \"zerolinecolor\": \"white\", \"zerolinewidth\": 2}}}, \"title\": {\"text\": \"Correlation Matrix of price and amenities variables\"}},\n",
       "                        {\"responsive\": true}\n",
       "                    ).then(function(){\n",
       "                            \n",
       "var gd = document.getElementById('d54586fd-5044-4a3f-a0b4-f0879004d341');\n",
       "var x = new MutationObserver(function (mutations, observer) {{\n",
       "        var display = window.getComputedStyle(gd).display;\n",
       "        if (!display || display === 'none') {{\n",
       "            console.log([gd, 'removed!']);\n",
       "            Plotly.purge(gd);\n",
       "            observer.disconnect();\n",
       "        }}\n",
       "}});\n",
       "\n",
       "// Listen for the removal of the full notebook cells\n",
       "var notebookContainer = gd.closest('#notebook-container');\n",
       "if (notebookContainer) {{\n",
       "    x.observe(notebookContainer, {childList: true});\n",
       "}}\n",
       "\n",
       "// Listen for the clearing of the current output cell\n",
       "var outputEl = gd.closest('.output');\n",
       "if (outputEl) {{\n",
       "    x.observe(outputEl, {childList: true});\n",
       "}}\n",
       "\n",
       "                        })\n",
       "                };\n",
       "                });\n",
       "            </script>\n",
       "        </div>"
      ]
     },
     "metadata": {},
     "output_type": "display_data"
    }
   ],
   "source": [
    "# Heatmap for price and amenities correlation matrix\n",
    "fig = go.Figure(data=go.Heatmap(\n",
    "        z=price_amenities.values,\n",
    "        x=price_amenities.columns,\n",
    "        y=price_amenities.columns,\n",
    "        colorscale='Viridis'))\n",
    "fig.update_layout(\n",
    "    title='Correlation Matrix of price and amenities variables',\n",
    "    autosize = True)\n",
    "fig.show()"
   ]
  },
  {
   "cell_type": "code",
   "execution_count": 88,
   "metadata": {},
   "outputs": [
    {
     "data": {
      "application/vnd.plotly.v1+json": {
       "config": {
        "plotlyServerURL": "https://plot.ly"
       },
       "data": [
        {
         "type": "bar",
         "x": [
          "amenities_air_conditioning",
          "amenities_cable_tv",
          "amenities_tv",
          "amenities_family/kid_friendly",
          "amenities_doorman",
          "amenities_elevator_in_building",
          "amenities_gym",
          "amenities_iron",
          "amenities_hair_dryer",
          "amenities_24-hour_check-in",
          "amenities_dryer",
          "amenities_kitchen",
          "amenities_internet",
          "amenities_washer"
         ],
         "y": [
          0.26,
          0.24,
          0.23,
          0.23,
          0.18,
          0.17,
          0.16,
          0.13,
          0.12,
          0.12,
          0.11,
          0.11,
          0.1,
          0.1
         ]
        }
       ],
       "layout": {
        "template": {
         "data": {
          "bar": [
           {
            "error_x": {
             "color": "#2a3f5f"
            },
            "error_y": {
             "color": "#2a3f5f"
            },
            "marker": {
             "line": {
              "color": "#E5ECF6",
              "width": 0.5
             }
            },
            "type": "bar"
           }
          ],
          "barpolar": [
           {
            "marker": {
             "line": {
              "color": "#E5ECF6",
              "width": 0.5
             }
            },
            "type": "barpolar"
           }
          ],
          "carpet": [
           {
            "aaxis": {
             "endlinecolor": "#2a3f5f",
             "gridcolor": "white",
             "linecolor": "white",
             "minorgridcolor": "white",
             "startlinecolor": "#2a3f5f"
            },
            "baxis": {
             "endlinecolor": "#2a3f5f",
             "gridcolor": "white",
             "linecolor": "white",
             "minorgridcolor": "white",
             "startlinecolor": "#2a3f5f"
            },
            "type": "carpet"
           }
          ],
          "choropleth": [
           {
            "colorbar": {
             "outlinewidth": 0,
             "ticks": ""
            },
            "type": "choropleth"
           }
          ],
          "contour": [
           {
            "colorbar": {
             "outlinewidth": 0,
             "ticks": ""
            },
            "colorscale": [
             [
              0,
              "#0d0887"
             ],
             [
              0.1111111111111111,
              "#46039f"
             ],
             [
              0.2222222222222222,
              "#7201a8"
             ],
             [
              0.3333333333333333,
              "#9c179e"
             ],
             [
              0.4444444444444444,
              "#bd3786"
             ],
             [
              0.5555555555555556,
              "#d8576b"
             ],
             [
              0.6666666666666666,
              "#ed7953"
             ],
             [
              0.7777777777777778,
              "#fb9f3a"
             ],
             [
              0.8888888888888888,
              "#fdca26"
             ],
             [
              1,
              "#f0f921"
             ]
            ],
            "type": "contour"
           }
          ],
          "contourcarpet": [
           {
            "colorbar": {
             "outlinewidth": 0,
             "ticks": ""
            },
            "type": "contourcarpet"
           }
          ],
          "heatmap": [
           {
            "colorbar": {
             "outlinewidth": 0,
             "ticks": ""
            },
            "colorscale": [
             [
              0,
              "#0d0887"
             ],
             [
              0.1111111111111111,
              "#46039f"
             ],
             [
              0.2222222222222222,
              "#7201a8"
             ],
             [
              0.3333333333333333,
              "#9c179e"
             ],
             [
              0.4444444444444444,
              "#bd3786"
             ],
             [
              0.5555555555555556,
              "#d8576b"
             ],
             [
              0.6666666666666666,
              "#ed7953"
             ],
             [
              0.7777777777777778,
              "#fb9f3a"
             ],
             [
              0.8888888888888888,
              "#fdca26"
             ],
             [
              1,
              "#f0f921"
             ]
            ],
            "type": "heatmap"
           }
          ],
          "heatmapgl": [
           {
            "colorbar": {
             "outlinewidth": 0,
             "ticks": ""
            },
            "colorscale": [
             [
              0,
              "#0d0887"
             ],
             [
              0.1111111111111111,
              "#46039f"
             ],
             [
              0.2222222222222222,
              "#7201a8"
             ],
             [
              0.3333333333333333,
              "#9c179e"
             ],
             [
              0.4444444444444444,
              "#bd3786"
             ],
             [
              0.5555555555555556,
              "#d8576b"
             ],
             [
              0.6666666666666666,
              "#ed7953"
             ],
             [
              0.7777777777777778,
              "#fb9f3a"
             ],
             [
              0.8888888888888888,
              "#fdca26"
             ],
             [
              1,
              "#f0f921"
             ]
            ],
            "type": "heatmapgl"
           }
          ],
          "histogram": [
           {
            "marker": {
             "colorbar": {
              "outlinewidth": 0,
              "ticks": ""
             }
            },
            "type": "histogram"
           }
          ],
          "histogram2d": [
           {
            "colorbar": {
             "outlinewidth": 0,
             "ticks": ""
            },
            "colorscale": [
             [
              0,
              "#0d0887"
             ],
             [
              0.1111111111111111,
              "#46039f"
             ],
             [
              0.2222222222222222,
              "#7201a8"
             ],
             [
              0.3333333333333333,
              "#9c179e"
             ],
             [
              0.4444444444444444,
              "#bd3786"
             ],
             [
              0.5555555555555556,
              "#d8576b"
             ],
             [
              0.6666666666666666,
              "#ed7953"
             ],
             [
              0.7777777777777778,
              "#fb9f3a"
             ],
             [
              0.8888888888888888,
              "#fdca26"
             ],
             [
              1,
              "#f0f921"
             ]
            ],
            "type": "histogram2d"
           }
          ],
          "histogram2dcontour": [
           {
            "colorbar": {
             "outlinewidth": 0,
             "ticks": ""
            },
            "colorscale": [
             [
              0,
              "#0d0887"
             ],
             [
              0.1111111111111111,
              "#46039f"
             ],
             [
              0.2222222222222222,
              "#7201a8"
             ],
             [
              0.3333333333333333,
              "#9c179e"
             ],
             [
              0.4444444444444444,
              "#bd3786"
             ],
             [
              0.5555555555555556,
              "#d8576b"
             ],
             [
              0.6666666666666666,
              "#ed7953"
             ],
             [
              0.7777777777777778,
              "#fb9f3a"
             ],
             [
              0.8888888888888888,
              "#fdca26"
             ],
             [
              1,
              "#f0f921"
             ]
            ],
            "type": "histogram2dcontour"
           }
          ],
          "mesh3d": [
           {
            "colorbar": {
             "outlinewidth": 0,
             "ticks": ""
            },
            "type": "mesh3d"
           }
          ],
          "parcoords": [
           {
            "line": {
             "colorbar": {
              "outlinewidth": 0,
              "ticks": ""
             }
            },
            "type": "parcoords"
           }
          ],
          "pie": [
           {
            "automargin": true,
            "type": "pie"
           }
          ],
          "scatter": [
           {
            "marker": {
             "colorbar": {
              "outlinewidth": 0,
              "ticks": ""
             }
            },
            "type": "scatter"
           }
          ],
          "scatter3d": [
           {
            "line": {
             "colorbar": {
              "outlinewidth": 0,
              "ticks": ""
             }
            },
            "marker": {
             "colorbar": {
              "outlinewidth": 0,
              "ticks": ""
             }
            },
            "type": "scatter3d"
           }
          ],
          "scattercarpet": [
           {
            "marker": {
             "colorbar": {
              "outlinewidth": 0,
              "ticks": ""
             }
            },
            "type": "scattercarpet"
           }
          ],
          "scattergeo": [
           {
            "marker": {
             "colorbar": {
              "outlinewidth": 0,
              "ticks": ""
             }
            },
            "type": "scattergeo"
           }
          ],
          "scattergl": [
           {
            "marker": {
             "colorbar": {
              "outlinewidth": 0,
              "ticks": ""
             }
            },
            "type": "scattergl"
           }
          ],
          "scattermapbox": [
           {
            "marker": {
             "colorbar": {
              "outlinewidth": 0,
              "ticks": ""
             }
            },
            "type": "scattermapbox"
           }
          ],
          "scatterpolar": [
           {
            "marker": {
             "colorbar": {
              "outlinewidth": 0,
              "ticks": ""
             }
            },
            "type": "scatterpolar"
           }
          ],
          "scatterpolargl": [
           {
            "marker": {
             "colorbar": {
              "outlinewidth": 0,
              "ticks": ""
             }
            },
            "type": "scatterpolargl"
           }
          ],
          "scatterternary": [
           {
            "marker": {
             "colorbar": {
              "outlinewidth": 0,
              "ticks": ""
             }
            },
            "type": "scatterternary"
           }
          ],
          "surface": [
           {
            "colorbar": {
             "outlinewidth": 0,
             "ticks": ""
            },
            "colorscale": [
             [
              0,
              "#0d0887"
             ],
             [
              0.1111111111111111,
              "#46039f"
             ],
             [
              0.2222222222222222,
              "#7201a8"
             ],
             [
              0.3333333333333333,
              "#9c179e"
             ],
             [
              0.4444444444444444,
              "#bd3786"
             ],
             [
              0.5555555555555556,
              "#d8576b"
             ],
             [
              0.6666666666666666,
              "#ed7953"
             ],
             [
              0.7777777777777778,
              "#fb9f3a"
             ],
             [
              0.8888888888888888,
              "#fdca26"
             ],
             [
              1,
              "#f0f921"
             ]
            ],
            "type": "surface"
           }
          ],
          "table": [
           {
            "cells": {
             "fill": {
              "color": "#EBF0F8"
             },
             "line": {
              "color": "white"
             }
            },
            "header": {
             "fill": {
              "color": "#C8D4E3"
             },
             "line": {
              "color": "white"
             }
            },
            "type": "table"
           }
          ]
         },
         "layout": {
          "annotationdefaults": {
           "arrowcolor": "#2a3f5f",
           "arrowhead": 0,
           "arrowwidth": 1
          },
          "coloraxis": {
           "colorbar": {
            "outlinewidth": 0,
            "ticks": ""
           }
          },
          "colorscale": {
           "diverging": [
            [
             0,
             "#8e0152"
            ],
            [
             0.1,
             "#c51b7d"
            ],
            [
             0.2,
             "#de77ae"
            ],
            [
             0.3,
             "#f1b6da"
            ],
            [
             0.4,
             "#fde0ef"
            ],
            [
             0.5,
             "#f7f7f7"
            ],
            [
             0.6,
             "#e6f5d0"
            ],
            [
             0.7,
             "#b8e186"
            ],
            [
             0.8,
             "#7fbc41"
            ],
            [
             0.9,
             "#4d9221"
            ],
            [
             1,
             "#276419"
            ]
           ],
           "sequential": [
            [
             0,
             "#0d0887"
            ],
            [
             0.1111111111111111,
             "#46039f"
            ],
            [
             0.2222222222222222,
             "#7201a8"
            ],
            [
             0.3333333333333333,
             "#9c179e"
            ],
            [
             0.4444444444444444,
             "#bd3786"
            ],
            [
             0.5555555555555556,
             "#d8576b"
            ],
            [
             0.6666666666666666,
             "#ed7953"
            ],
            [
             0.7777777777777778,
             "#fb9f3a"
            ],
            [
             0.8888888888888888,
             "#fdca26"
            ],
            [
             1,
             "#f0f921"
            ]
           ],
           "sequentialminus": [
            [
             0,
             "#0d0887"
            ],
            [
             0.1111111111111111,
             "#46039f"
            ],
            [
             0.2222222222222222,
             "#7201a8"
            ],
            [
             0.3333333333333333,
             "#9c179e"
            ],
            [
             0.4444444444444444,
             "#bd3786"
            ],
            [
             0.5555555555555556,
             "#d8576b"
            ],
            [
             0.6666666666666666,
             "#ed7953"
            ],
            [
             0.7777777777777778,
             "#fb9f3a"
            ],
            [
             0.8888888888888888,
             "#fdca26"
            ],
            [
             1,
             "#f0f921"
            ]
           ]
          },
          "colorway": [
           "#636efa",
           "#EF553B",
           "#00cc96",
           "#ab63fa",
           "#FFA15A",
           "#19d3f3",
           "#FF6692",
           "#B6E880",
           "#FF97FF",
           "#FECB52"
          ],
          "font": {
           "color": "#2a3f5f"
          },
          "geo": {
           "bgcolor": "white",
           "lakecolor": "white",
           "landcolor": "#E5ECF6",
           "showlakes": true,
           "showland": true,
           "subunitcolor": "white"
          },
          "hoverlabel": {
           "align": "left"
          },
          "hovermode": "closest",
          "mapbox": {
           "style": "light"
          },
          "paper_bgcolor": "white",
          "plot_bgcolor": "#E5ECF6",
          "polar": {
           "angularaxis": {
            "gridcolor": "white",
            "linecolor": "white",
            "ticks": ""
           },
           "bgcolor": "#E5ECF6",
           "radialaxis": {
            "gridcolor": "white",
            "linecolor": "white",
            "ticks": ""
           }
          },
          "scene": {
           "xaxis": {
            "backgroundcolor": "#E5ECF6",
            "gridcolor": "white",
            "gridwidth": 2,
            "linecolor": "white",
            "showbackground": true,
            "ticks": "",
            "zerolinecolor": "white"
           },
           "yaxis": {
            "backgroundcolor": "#E5ECF6",
            "gridcolor": "white",
            "gridwidth": 2,
            "linecolor": "white",
            "showbackground": true,
            "ticks": "",
            "zerolinecolor": "white"
           },
           "zaxis": {
            "backgroundcolor": "#E5ECF6",
            "gridcolor": "white",
            "gridwidth": 2,
            "linecolor": "white",
            "showbackground": true,
            "ticks": "",
            "zerolinecolor": "white"
           }
          },
          "shapedefaults": {
           "line": {
            "color": "#2a3f5f"
           }
          },
          "ternary": {
           "aaxis": {
            "gridcolor": "white",
            "linecolor": "white",
            "ticks": ""
           },
           "baxis": {
            "gridcolor": "white",
            "linecolor": "white",
            "ticks": ""
           },
           "bgcolor": "#E5ECF6",
           "caxis": {
            "gridcolor": "white",
            "linecolor": "white",
            "ticks": ""
           }
          },
          "title": {
           "x": 0.05
          },
          "xaxis": {
           "automargin": true,
           "gridcolor": "white",
           "linecolor": "white",
           "ticks": "",
           "title": {
            "standoff": 15
           },
           "zerolinecolor": "white",
           "zerolinewidth": 2
          },
          "yaxis": {
           "automargin": true,
           "gridcolor": "white",
           "linecolor": "white",
           "ticks": "",
           "title": {
            "standoff": 15
           },
           "zerolinecolor": "white",
           "zerolinewidth": 2
          }
         }
        },
        "title": {
         "text": "Correlations between Price and Amenities"
        },
        "yaxis": {
         "title": {
          "text": "Correlation Coefficients"
         }
        }
       }
      },
      "text/html": [
       "<div>\n",
       "        \n",
       "        \n",
       "            <div id=\"5b4c1bc7-de36-4a7a-ad18-0a2995d96888\" class=\"plotly-graph-div\" style=\"height:525px; width:100%;\"></div>\n",
       "            <script type=\"text/javascript\">\n",
       "                require([\"plotly\"], function(Plotly) {\n",
       "                    window.PLOTLYENV=window.PLOTLYENV || {};\n",
       "                    \n",
       "                if (document.getElementById(\"5b4c1bc7-de36-4a7a-ad18-0a2995d96888\")) {\n",
       "                    Plotly.newPlot(\n",
       "                        '5b4c1bc7-de36-4a7a-ad18-0a2995d96888',\n",
       "                        [{\"type\": \"bar\", \"x\": [\"amenities_air_conditioning\", \"amenities_cable_tv\", \"amenities_tv\", \"amenities_family/kid_friendly\", \"amenities_doorman\", \"amenities_elevator_in_building\", \"amenities_gym\", \"amenities_iron\", \"amenities_hair_dryer\", \"amenities_24-hour_check-in\", \"amenities_dryer\", \"amenities_kitchen\", \"amenities_internet\", \"amenities_washer\"], \"y\": [0.26, 0.24, 0.23, 0.23, 0.18, 0.17, 0.16, 0.13, 0.12, 0.12, 0.11, 0.11, 0.1, 0.1]}],\n",
       "                        {\"template\": {\"data\": {\"bar\": [{\"error_x\": {\"color\": \"#2a3f5f\"}, \"error_y\": {\"color\": \"#2a3f5f\"}, \"marker\": {\"line\": {\"color\": \"#E5ECF6\", \"width\": 0.5}}, \"type\": \"bar\"}], \"barpolar\": [{\"marker\": {\"line\": {\"color\": \"#E5ECF6\", \"width\": 0.5}}, \"type\": \"barpolar\"}], \"carpet\": [{\"aaxis\": {\"endlinecolor\": \"#2a3f5f\", \"gridcolor\": \"white\", \"linecolor\": \"white\", \"minorgridcolor\": \"white\", \"startlinecolor\": \"#2a3f5f\"}, \"baxis\": {\"endlinecolor\": \"#2a3f5f\", \"gridcolor\": \"white\", \"linecolor\": \"white\", \"minorgridcolor\": \"white\", \"startlinecolor\": \"#2a3f5f\"}, \"type\": \"carpet\"}], \"choropleth\": [{\"colorbar\": {\"outlinewidth\": 0, \"ticks\": \"\"}, \"type\": \"choropleth\"}], \"contour\": [{\"colorbar\": {\"outlinewidth\": 0, \"ticks\": \"\"}, \"colorscale\": [[0.0, \"#0d0887\"], [0.1111111111111111, \"#46039f\"], [0.2222222222222222, \"#7201a8\"], [0.3333333333333333, \"#9c179e\"], [0.4444444444444444, \"#bd3786\"], [0.5555555555555556, \"#d8576b\"], [0.6666666666666666, \"#ed7953\"], [0.7777777777777778, \"#fb9f3a\"], [0.8888888888888888, \"#fdca26\"], [1.0, \"#f0f921\"]], \"type\": \"contour\"}], \"contourcarpet\": [{\"colorbar\": {\"outlinewidth\": 0, \"ticks\": \"\"}, \"type\": \"contourcarpet\"}], \"heatmap\": [{\"colorbar\": {\"outlinewidth\": 0, \"ticks\": \"\"}, \"colorscale\": [[0.0, \"#0d0887\"], [0.1111111111111111, \"#46039f\"], [0.2222222222222222, \"#7201a8\"], [0.3333333333333333, \"#9c179e\"], [0.4444444444444444, \"#bd3786\"], [0.5555555555555556, \"#d8576b\"], [0.6666666666666666, \"#ed7953\"], [0.7777777777777778, \"#fb9f3a\"], [0.8888888888888888, \"#fdca26\"], [1.0, \"#f0f921\"]], \"type\": \"heatmap\"}], \"heatmapgl\": [{\"colorbar\": {\"outlinewidth\": 0, \"ticks\": \"\"}, \"colorscale\": [[0.0, \"#0d0887\"], [0.1111111111111111, \"#46039f\"], [0.2222222222222222, \"#7201a8\"], [0.3333333333333333, \"#9c179e\"], [0.4444444444444444, \"#bd3786\"], [0.5555555555555556, \"#d8576b\"], [0.6666666666666666, \"#ed7953\"], [0.7777777777777778, \"#fb9f3a\"], [0.8888888888888888, \"#fdca26\"], [1.0, \"#f0f921\"]], \"type\": \"heatmapgl\"}], \"histogram\": [{\"marker\": {\"colorbar\": {\"outlinewidth\": 0, \"ticks\": \"\"}}, \"type\": \"histogram\"}], \"histogram2d\": [{\"colorbar\": {\"outlinewidth\": 0, \"ticks\": \"\"}, \"colorscale\": [[0.0, \"#0d0887\"], [0.1111111111111111, \"#46039f\"], [0.2222222222222222, \"#7201a8\"], [0.3333333333333333, \"#9c179e\"], [0.4444444444444444, \"#bd3786\"], [0.5555555555555556, \"#d8576b\"], [0.6666666666666666, \"#ed7953\"], [0.7777777777777778, \"#fb9f3a\"], [0.8888888888888888, \"#fdca26\"], [1.0, \"#f0f921\"]], \"type\": \"histogram2d\"}], \"histogram2dcontour\": [{\"colorbar\": {\"outlinewidth\": 0, \"ticks\": \"\"}, \"colorscale\": [[0.0, \"#0d0887\"], [0.1111111111111111, \"#46039f\"], [0.2222222222222222, \"#7201a8\"], [0.3333333333333333, \"#9c179e\"], [0.4444444444444444, \"#bd3786\"], [0.5555555555555556, \"#d8576b\"], [0.6666666666666666, \"#ed7953\"], [0.7777777777777778, \"#fb9f3a\"], [0.8888888888888888, \"#fdca26\"], [1.0, \"#f0f921\"]], \"type\": \"histogram2dcontour\"}], \"mesh3d\": [{\"colorbar\": {\"outlinewidth\": 0, \"ticks\": \"\"}, \"type\": \"mesh3d\"}], \"parcoords\": [{\"line\": {\"colorbar\": {\"outlinewidth\": 0, \"ticks\": \"\"}}, \"type\": \"parcoords\"}], \"pie\": [{\"automargin\": true, \"type\": \"pie\"}], \"scatter\": [{\"marker\": {\"colorbar\": {\"outlinewidth\": 0, \"ticks\": \"\"}}, \"type\": \"scatter\"}], \"scatter3d\": [{\"line\": {\"colorbar\": {\"outlinewidth\": 0, \"ticks\": \"\"}}, \"marker\": {\"colorbar\": {\"outlinewidth\": 0, \"ticks\": \"\"}}, \"type\": \"scatter3d\"}], \"scattercarpet\": [{\"marker\": {\"colorbar\": {\"outlinewidth\": 0, \"ticks\": \"\"}}, \"type\": \"scattercarpet\"}], \"scattergeo\": [{\"marker\": {\"colorbar\": {\"outlinewidth\": 0, \"ticks\": \"\"}}, \"type\": \"scattergeo\"}], \"scattergl\": [{\"marker\": {\"colorbar\": {\"outlinewidth\": 0, \"ticks\": \"\"}}, \"type\": \"scattergl\"}], \"scattermapbox\": [{\"marker\": {\"colorbar\": {\"outlinewidth\": 0, \"ticks\": \"\"}}, \"type\": \"scattermapbox\"}], \"scatterpolar\": [{\"marker\": {\"colorbar\": {\"outlinewidth\": 0, \"ticks\": \"\"}}, \"type\": \"scatterpolar\"}], \"scatterpolargl\": [{\"marker\": {\"colorbar\": {\"outlinewidth\": 0, \"ticks\": \"\"}}, \"type\": \"scatterpolargl\"}], \"scatterternary\": [{\"marker\": {\"colorbar\": {\"outlinewidth\": 0, \"ticks\": \"\"}}, \"type\": \"scatterternary\"}], \"surface\": [{\"colorbar\": {\"outlinewidth\": 0, \"ticks\": \"\"}, \"colorscale\": [[0.0, \"#0d0887\"], [0.1111111111111111, \"#46039f\"], [0.2222222222222222, \"#7201a8\"], [0.3333333333333333, \"#9c179e\"], [0.4444444444444444, \"#bd3786\"], [0.5555555555555556, \"#d8576b\"], [0.6666666666666666, \"#ed7953\"], [0.7777777777777778, \"#fb9f3a\"], [0.8888888888888888, \"#fdca26\"], [1.0, \"#f0f921\"]], \"type\": \"surface\"}], \"table\": [{\"cells\": {\"fill\": {\"color\": \"#EBF0F8\"}, \"line\": {\"color\": \"white\"}}, \"header\": {\"fill\": {\"color\": \"#C8D4E3\"}, \"line\": {\"color\": \"white\"}}, \"type\": \"table\"}]}, \"layout\": {\"annotationdefaults\": {\"arrowcolor\": \"#2a3f5f\", \"arrowhead\": 0, \"arrowwidth\": 1}, \"coloraxis\": {\"colorbar\": {\"outlinewidth\": 0, \"ticks\": \"\"}}, \"colorscale\": {\"diverging\": [[0, \"#8e0152\"], [0.1, \"#c51b7d\"], [0.2, \"#de77ae\"], [0.3, \"#f1b6da\"], [0.4, \"#fde0ef\"], [0.5, \"#f7f7f7\"], [0.6, \"#e6f5d0\"], [0.7, \"#b8e186\"], [0.8, \"#7fbc41\"], [0.9, \"#4d9221\"], [1, \"#276419\"]], \"sequential\": [[0.0, \"#0d0887\"], [0.1111111111111111, \"#46039f\"], [0.2222222222222222, \"#7201a8\"], [0.3333333333333333, \"#9c179e\"], [0.4444444444444444, \"#bd3786\"], [0.5555555555555556, \"#d8576b\"], [0.6666666666666666, \"#ed7953\"], [0.7777777777777778, \"#fb9f3a\"], [0.8888888888888888, \"#fdca26\"], [1.0, \"#f0f921\"]], \"sequentialminus\": [[0.0, \"#0d0887\"], [0.1111111111111111, \"#46039f\"], [0.2222222222222222, \"#7201a8\"], [0.3333333333333333, \"#9c179e\"], [0.4444444444444444, \"#bd3786\"], [0.5555555555555556, \"#d8576b\"], [0.6666666666666666, \"#ed7953\"], [0.7777777777777778, \"#fb9f3a\"], [0.8888888888888888, \"#fdca26\"], [1.0, \"#f0f921\"]]}, \"colorway\": [\"#636efa\", \"#EF553B\", \"#00cc96\", \"#ab63fa\", \"#FFA15A\", \"#19d3f3\", \"#FF6692\", \"#B6E880\", \"#FF97FF\", \"#FECB52\"], \"font\": {\"color\": \"#2a3f5f\"}, \"geo\": {\"bgcolor\": \"white\", \"lakecolor\": \"white\", \"landcolor\": \"#E5ECF6\", \"showlakes\": true, \"showland\": true, \"subunitcolor\": \"white\"}, \"hoverlabel\": {\"align\": \"left\"}, \"hovermode\": \"closest\", \"mapbox\": {\"style\": \"light\"}, \"paper_bgcolor\": \"white\", \"plot_bgcolor\": \"#E5ECF6\", \"polar\": {\"angularaxis\": {\"gridcolor\": \"white\", \"linecolor\": \"white\", \"ticks\": \"\"}, \"bgcolor\": \"#E5ECF6\", \"radialaxis\": {\"gridcolor\": \"white\", \"linecolor\": \"white\", \"ticks\": \"\"}}, \"scene\": {\"xaxis\": {\"backgroundcolor\": \"#E5ECF6\", \"gridcolor\": \"white\", \"gridwidth\": 2, \"linecolor\": \"white\", \"showbackground\": true, \"ticks\": \"\", \"zerolinecolor\": \"white\"}, \"yaxis\": {\"backgroundcolor\": \"#E5ECF6\", \"gridcolor\": \"white\", \"gridwidth\": 2, \"linecolor\": \"white\", \"showbackground\": true, \"ticks\": \"\", \"zerolinecolor\": \"white\"}, \"zaxis\": {\"backgroundcolor\": \"#E5ECF6\", \"gridcolor\": \"white\", \"gridwidth\": 2, \"linecolor\": \"white\", \"showbackground\": true, \"ticks\": \"\", \"zerolinecolor\": \"white\"}}, \"shapedefaults\": {\"line\": {\"color\": \"#2a3f5f\"}}, \"ternary\": {\"aaxis\": {\"gridcolor\": \"white\", \"linecolor\": \"white\", \"ticks\": \"\"}, \"baxis\": {\"gridcolor\": \"white\", \"linecolor\": \"white\", \"ticks\": \"\"}, \"bgcolor\": \"#E5ECF6\", \"caxis\": {\"gridcolor\": \"white\", \"linecolor\": \"white\", \"ticks\": \"\"}}, \"title\": {\"x\": 0.05}, \"xaxis\": {\"automargin\": true, \"gridcolor\": \"white\", \"linecolor\": \"white\", \"ticks\": \"\", \"title\": {\"standoff\": 15}, \"zerolinecolor\": \"white\", \"zerolinewidth\": 2}, \"yaxis\": {\"automargin\": true, \"gridcolor\": \"white\", \"linecolor\": \"white\", \"ticks\": \"\", \"title\": {\"standoff\": 15}, \"zerolinecolor\": \"white\", \"zerolinewidth\": 2}}}, \"title\": {\"text\": \"Correlations between Price and Amenities\"}, \"yaxis\": {\"title\": {\"text\": \"Correlation Coefficients\"}}},\n",
       "                        {\"responsive\": true}\n",
       "                    ).then(function(){\n",
       "                            \n",
       "var gd = document.getElementById('5b4c1bc7-de36-4a7a-ad18-0a2995d96888');\n",
       "var x = new MutationObserver(function (mutations, observer) {{\n",
       "        var display = window.getComputedStyle(gd).display;\n",
       "        if (!display || display === 'none') {{\n",
       "            console.log([gd, 'removed!']);\n",
       "            Plotly.purge(gd);\n",
       "            observer.disconnect();\n",
       "        }}\n",
       "}});\n",
       "\n",
       "// Listen for the removal of the full notebook cells\n",
       "var notebookContainer = gd.closest('#notebook-container');\n",
       "if (notebookContainer) {{\n",
       "    x.observe(notebookContainer, {childList: true});\n",
       "}}\n",
       "\n",
       "// Listen for the clearing of the current output cell\n",
       "var outputEl = gd.closest('.output');\n",
       "if (outputEl) {{\n",
       "    x.observe(outputEl, {childList: true});\n",
       "}}\n",
       "\n",
       "                        })\n",
       "                };\n",
       "                });\n",
       "            </script>\n",
       "        </div>"
      ]
     },
     "metadata": {},
     "output_type": "display_data"
    }
   ],
   "source": [
    "# Top 15 of the amenities correlated to price\n",
    "#Sort correlation coefficients in ascending order \n",
    "price_a = price_amenities[\"price\"].sort_values(ascending=False).head(15).to_frame().reset_index()\n",
    "price_a.rename(columns={\"index\":\"amenities\"},inplace=True)\n",
    "price_a = price_a.query(\"amenities != 'price'\")\n",
    "\n",
    "# mean of all coefficients\n",
    "price_a.price.mean()\n",
    "#0.10379310344827583\n",
    "\n",
    "# Plot Bar Chart with the data frame above\n",
    "fig = go.Figure()\n",
    "fig.add_trace(go.Bar(x=price_a.amenities, y=price_a.price))\n",
    "fig.update_layout(yaxis_title=\"Correlation Coefficients\", title = \"Correlations between Price and Amenities\")\n",
    "fig.show()"
   ]
  },
  {
   "cell_type": "code",
   "execution_count": 86,
   "metadata": {},
   "outputs": [
    {
     "data": {
      "application/vnd.plotly.v1+json": {
       "config": {
        "plotlyServerURL": "https://plot.ly"
       },
       "data": [
        {
         "type": "bar",
         "x": [
          "amenities_smoke_detector",
          "amenities_translation_missing:_en.hosting_amenity_50",
          "amenities_other_pet(s)",
          "amenities_dog(s)",
          "amenities_translation_missing:_en.hosting_amenity_49",
          "amenities_first_aid_kit",
          "amenities_smoking_allowed",
          "amenities_breakfast",
          "amenities_cat(s)",
          "amenities_lock_on_bedroom_door",
          "amenities_free_parking_on_premises",
          "amenities_pets_live_on_this_property"
         ],
         "y": [
          -0.01,
          -0.03,
          -0.03,
          -0.04,
          -0.05,
          -0.06,
          -0.06,
          -0.07,
          -0.08,
          -0.08,
          -0.09,
          -0.1
         ]
        }
       ],
       "layout": {
        "template": {
         "data": {
          "bar": [
           {
            "error_x": {
             "color": "#2a3f5f"
            },
            "error_y": {
             "color": "#2a3f5f"
            },
            "marker": {
             "line": {
              "color": "#E5ECF6",
              "width": 0.5
             }
            },
            "type": "bar"
           }
          ],
          "barpolar": [
           {
            "marker": {
             "line": {
              "color": "#E5ECF6",
              "width": 0.5
             }
            },
            "type": "barpolar"
           }
          ],
          "carpet": [
           {
            "aaxis": {
             "endlinecolor": "#2a3f5f",
             "gridcolor": "white",
             "linecolor": "white",
             "minorgridcolor": "white",
             "startlinecolor": "#2a3f5f"
            },
            "baxis": {
             "endlinecolor": "#2a3f5f",
             "gridcolor": "white",
             "linecolor": "white",
             "minorgridcolor": "white",
             "startlinecolor": "#2a3f5f"
            },
            "type": "carpet"
           }
          ],
          "choropleth": [
           {
            "colorbar": {
             "outlinewidth": 0,
             "ticks": ""
            },
            "type": "choropleth"
           }
          ],
          "contour": [
           {
            "colorbar": {
             "outlinewidth": 0,
             "ticks": ""
            },
            "colorscale": [
             [
              0,
              "#0d0887"
             ],
             [
              0.1111111111111111,
              "#46039f"
             ],
             [
              0.2222222222222222,
              "#7201a8"
             ],
             [
              0.3333333333333333,
              "#9c179e"
             ],
             [
              0.4444444444444444,
              "#bd3786"
             ],
             [
              0.5555555555555556,
              "#d8576b"
             ],
             [
              0.6666666666666666,
              "#ed7953"
             ],
             [
              0.7777777777777778,
              "#fb9f3a"
             ],
             [
              0.8888888888888888,
              "#fdca26"
             ],
             [
              1,
              "#f0f921"
             ]
            ],
            "type": "contour"
           }
          ],
          "contourcarpet": [
           {
            "colorbar": {
             "outlinewidth": 0,
             "ticks": ""
            },
            "type": "contourcarpet"
           }
          ],
          "heatmap": [
           {
            "colorbar": {
             "outlinewidth": 0,
             "ticks": ""
            },
            "colorscale": [
             [
              0,
              "#0d0887"
             ],
             [
              0.1111111111111111,
              "#46039f"
             ],
             [
              0.2222222222222222,
              "#7201a8"
             ],
             [
              0.3333333333333333,
              "#9c179e"
             ],
             [
              0.4444444444444444,
              "#bd3786"
             ],
             [
              0.5555555555555556,
              "#d8576b"
             ],
             [
              0.6666666666666666,
              "#ed7953"
             ],
             [
              0.7777777777777778,
              "#fb9f3a"
             ],
             [
              0.8888888888888888,
              "#fdca26"
             ],
             [
              1,
              "#f0f921"
             ]
            ],
            "type": "heatmap"
           }
          ],
          "heatmapgl": [
           {
            "colorbar": {
             "outlinewidth": 0,
             "ticks": ""
            },
            "colorscale": [
             [
              0,
              "#0d0887"
             ],
             [
              0.1111111111111111,
              "#46039f"
             ],
             [
              0.2222222222222222,
              "#7201a8"
             ],
             [
              0.3333333333333333,
              "#9c179e"
             ],
             [
              0.4444444444444444,
              "#bd3786"
             ],
             [
              0.5555555555555556,
              "#d8576b"
             ],
             [
              0.6666666666666666,
              "#ed7953"
             ],
             [
              0.7777777777777778,
              "#fb9f3a"
             ],
             [
              0.8888888888888888,
              "#fdca26"
             ],
             [
              1,
              "#f0f921"
             ]
            ],
            "type": "heatmapgl"
           }
          ],
          "histogram": [
           {
            "marker": {
             "colorbar": {
              "outlinewidth": 0,
              "ticks": ""
             }
            },
            "type": "histogram"
           }
          ],
          "histogram2d": [
           {
            "colorbar": {
             "outlinewidth": 0,
             "ticks": ""
            },
            "colorscale": [
             [
              0,
              "#0d0887"
             ],
             [
              0.1111111111111111,
              "#46039f"
             ],
             [
              0.2222222222222222,
              "#7201a8"
             ],
             [
              0.3333333333333333,
              "#9c179e"
             ],
             [
              0.4444444444444444,
              "#bd3786"
             ],
             [
              0.5555555555555556,
              "#d8576b"
             ],
             [
              0.6666666666666666,
              "#ed7953"
             ],
             [
              0.7777777777777778,
              "#fb9f3a"
             ],
             [
              0.8888888888888888,
              "#fdca26"
             ],
             [
              1,
              "#f0f921"
             ]
            ],
            "type": "histogram2d"
           }
          ],
          "histogram2dcontour": [
           {
            "colorbar": {
             "outlinewidth": 0,
             "ticks": ""
            },
            "colorscale": [
             [
              0,
              "#0d0887"
             ],
             [
              0.1111111111111111,
              "#46039f"
             ],
             [
              0.2222222222222222,
              "#7201a8"
             ],
             [
              0.3333333333333333,
              "#9c179e"
             ],
             [
              0.4444444444444444,
              "#bd3786"
             ],
             [
              0.5555555555555556,
              "#d8576b"
             ],
             [
              0.6666666666666666,
              "#ed7953"
             ],
             [
              0.7777777777777778,
              "#fb9f3a"
             ],
             [
              0.8888888888888888,
              "#fdca26"
             ],
             [
              1,
              "#f0f921"
             ]
            ],
            "type": "histogram2dcontour"
           }
          ],
          "mesh3d": [
           {
            "colorbar": {
             "outlinewidth": 0,
             "ticks": ""
            },
            "type": "mesh3d"
           }
          ],
          "parcoords": [
           {
            "line": {
             "colorbar": {
              "outlinewidth": 0,
              "ticks": ""
             }
            },
            "type": "parcoords"
           }
          ],
          "pie": [
           {
            "automargin": true,
            "type": "pie"
           }
          ],
          "scatter": [
           {
            "marker": {
             "colorbar": {
              "outlinewidth": 0,
              "ticks": ""
             }
            },
            "type": "scatter"
           }
          ],
          "scatter3d": [
           {
            "line": {
             "colorbar": {
              "outlinewidth": 0,
              "ticks": ""
             }
            },
            "marker": {
             "colorbar": {
              "outlinewidth": 0,
              "ticks": ""
             }
            },
            "type": "scatter3d"
           }
          ],
          "scattercarpet": [
           {
            "marker": {
             "colorbar": {
              "outlinewidth": 0,
              "ticks": ""
             }
            },
            "type": "scattercarpet"
           }
          ],
          "scattergeo": [
           {
            "marker": {
             "colorbar": {
              "outlinewidth": 0,
              "ticks": ""
             }
            },
            "type": "scattergeo"
           }
          ],
          "scattergl": [
           {
            "marker": {
             "colorbar": {
              "outlinewidth": 0,
              "ticks": ""
             }
            },
            "type": "scattergl"
           }
          ],
          "scattermapbox": [
           {
            "marker": {
             "colorbar": {
              "outlinewidth": 0,
              "ticks": ""
             }
            },
            "type": "scattermapbox"
           }
          ],
          "scatterpolar": [
           {
            "marker": {
             "colorbar": {
              "outlinewidth": 0,
              "ticks": ""
             }
            },
            "type": "scatterpolar"
           }
          ],
          "scatterpolargl": [
           {
            "marker": {
             "colorbar": {
              "outlinewidth": 0,
              "ticks": ""
             }
            },
            "type": "scatterpolargl"
           }
          ],
          "scatterternary": [
           {
            "marker": {
             "colorbar": {
              "outlinewidth": 0,
              "ticks": ""
             }
            },
            "type": "scatterternary"
           }
          ],
          "surface": [
           {
            "colorbar": {
             "outlinewidth": 0,
             "ticks": ""
            },
            "colorscale": [
             [
              0,
              "#0d0887"
             ],
             [
              0.1111111111111111,
              "#46039f"
             ],
             [
              0.2222222222222222,
              "#7201a8"
             ],
             [
              0.3333333333333333,
              "#9c179e"
             ],
             [
              0.4444444444444444,
              "#bd3786"
             ],
             [
              0.5555555555555556,
              "#d8576b"
             ],
             [
              0.6666666666666666,
              "#ed7953"
             ],
             [
              0.7777777777777778,
              "#fb9f3a"
             ],
             [
              0.8888888888888888,
              "#fdca26"
             ],
             [
              1,
              "#f0f921"
             ]
            ],
            "type": "surface"
           }
          ],
          "table": [
           {
            "cells": {
             "fill": {
              "color": "#EBF0F8"
             },
             "line": {
              "color": "white"
             }
            },
            "header": {
             "fill": {
              "color": "#C8D4E3"
             },
             "line": {
              "color": "white"
             }
            },
            "type": "table"
           }
          ]
         },
         "layout": {
          "annotationdefaults": {
           "arrowcolor": "#2a3f5f",
           "arrowhead": 0,
           "arrowwidth": 1
          },
          "coloraxis": {
           "colorbar": {
            "outlinewidth": 0,
            "ticks": ""
           }
          },
          "colorscale": {
           "diverging": [
            [
             0,
             "#8e0152"
            ],
            [
             0.1,
             "#c51b7d"
            ],
            [
             0.2,
             "#de77ae"
            ],
            [
             0.3,
             "#f1b6da"
            ],
            [
             0.4,
             "#fde0ef"
            ],
            [
             0.5,
             "#f7f7f7"
            ],
            [
             0.6,
             "#e6f5d0"
            ],
            [
             0.7,
             "#b8e186"
            ],
            [
             0.8,
             "#7fbc41"
            ],
            [
             0.9,
             "#4d9221"
            ],
            [
             1,
             "#276419"
            ]
           ],
           "sequential": [
            [
             0,
             "#0d0887"
            ],
            [
             0.1111111111111111,
             "#46039f"
            ],
            [
             0.2222222222222222,
             "#7201a8"
            ],
            [
             0.3333333333333333,
             "#9c179e"
            ],
            [
             0.4444444444444444,
             "#bd3786"
            ],
            [
             0.5555555555555556,
             "#d8576b"
            ],
            [
             0.6666666666666666,
             "#ed7953"
            ],
            [
             0.7777777777777778,
             "#fb9f3a"
            ],
            [
             0.8888888888888888,
             "#fdca26"
            ],
            [
             1,
             "#f0f921"
            ]
           ],
           "sequentialminus": [
            [
             0,
             "#0d0887"
            ],
            [
             0.1111111111111111,
             "#46039f"
            ],
            [
             0.2222222222222222,
             "#7201a8"
            ],
            [
             0.3333333333333333,
             "#9c179e"
            ],
            [
             0.4444444444444444,
             "#bd3786"
            ],
            [
             0.5555555555555556,
             "#d8576b"
            ],
            [
             0.6666666666666666,
             "#ed7953"
            ],
            [
             0.7777777777777778,
             "#fb9f3a"
            ],
            [
             0.8888888888888888,
             "#fdca26"
            ],
            [
             1,
             "#f0f921"
            ]
           ]
          },
          "colorway": [
           "#636efa",
           "#EF553B",
           "#00cc96",
           "#ab63fa",
           "#FFA15A",
           "#19d3f3",
           "#FF6692",
           "#B6E880",
           "#FF97FF",
           "#FECB52"
          ],
          "font": {
           "color": "#2a3f5f"
          },
          "geo": {
           "bgcolor": "white",
           "lakecolor": "white",
           "landcolor": "#E5ECF6",
           "showlakes": true,
           "showland": true,
           "subunitcolor": "white"
          },
          "hoverlabel": {
           "align": "left"
          },
          "hovermode": "closest",
          "mapbox": {
           "style": "light"
          },
          "paper_bgcolor": "white",
          "plot_bgcolor": "#E5ECF6",
          "polar": {
           "angularaxis": {
            "gridcolor": "white",
            "linecolor": "white",
            "ticks": ""
           },
           "bgcolor": "#E5ECF6",
           "radialaxis": {
            "gridcolor": "white",
            "linecolor": "white",
            "ticks": ""
           }
          },
          "scene": {
           "xaxis": {
            "backgroundcolor": "#E5ECF6",
            "gridcolor": "white",
            "gridwidth": 2,
            "linecolor": "white",
            "showbackground": true,
            "ticks": "",
            "zerolinecolor": "white"
           },
           "yaxis": {
            "backgroundcolor": "#E5ECF6",
            "gridcolor": "white",
            "gridwidth": 2,
            "linecolor": "white",
            "showbackground": true,
            "ticks": "",
            "zerolinecolor": "white"
           },
           "zaxis": {
            "backgroundcolor": "#E5ECF6",
            "gridcolor": "white",
            "gridwidth": 2,
            "linecolor": "white",
            "showbackground": true,
            "ticks": "",
            "zerolinecolor": "white"
           }
          },
          "shapedefaults": {
           "line": {
            "color": "#2a3f5f"
           }
          },
          "ternary": {
           "aaxis": {
            "gridcolor": "white",
            "linecolor": "white",
            "ticks": ""
           },
           "baxis": {
            "gridcolor": "white",
            "linecolor": "white",
            "ticks": ""
           },
           "bgcolor": "#E5ECF6",
           "caxis": {
            "gridcolor": "white",
            "linecolor": "white",
            "ticks": ""
           }
          },
          "title": {
           "x": 0.05
          },
          "xaxis": {
           "automargin": true,
           "gridcolor": "white",
           "linecolor": "white",
           "ticks": "",
           "title": {
            "standoff": 15
           },
           "zerolinecolor": "white",
           "zerolinewidth": 2
          },
          "yaxis": {
           "automargin": true,
           "gridcolor": "white",
           "linecolor": "white",
           "ticks": "",
           "title": {
            "standoff": 15
           },
           "zerolinecolor": "white",
           "zerolinewidth": 2
          }
         }
        },
        "title": {
         "text": "Correlations between Price and Amenities"
        },
        "yaxis": {
         "title": {
          "text": "Correlation Coefficients"
         }
        }
       }
      },
      "text/html": [
       "<div>\n",
       "        \n",
       "        \n",
       "            <div id=\"bf0be6f0-0d6e-402f-9a13-e699997fb9ed\" class=\"plotly-graph-div\" style=\"height:525px; width:100%;\"></div>\n",
       "            <script type=\"text/javascript\">\n",
       "                require([\"plotly\"], function(Plotly) {\n",
       "                    window.PLOTLYENV=window.PLOTLYENV || {};\n",
       "                    \n",
       "                if (document.getElementById(\"bf0be6f0-0d6e-402f-9a13-e699997fb9ed\")) {\n",
       "                    Plotly.newPlot(\n",
       "                        'bf0be6f0-0d6e-402f-9a13-e699997fb9ed',\n",
       "                        [{\"type\": \"bar\", \"x\": [\"amenities_smoke_detector\", \"amenities_translation_missing:_en.hosting_amenity_50\", \"amenities_other_pet(s)\", \"amenities_dog(s)\", \"amenities_translation_missing:_en.hosting_amenity_49\", \"amenities_first_aid_kit\", \"amenities_smoking_allowed\", \"amenities_breakfast\", \"amenities_cat(s)\", \"amenities_lock_on_bedroom_door\", \"amenities_free_parking_on_premises\", \"amenities_pets_live_on_this_property\"], \"y\": [-0.01, -0.03, -0.03, -0.04, -0.05, -0.06, -0.06, -0.07, -0.08, -0.08, -0.09, -0.1]}],\n",
       "                        {\"template\": {\"data\": {\"bar\": [{\"error_x\": {\"color\": \"#2a3f5f\"}, \"error_y\": {\"color\": \"#2a3f5f\"}, \"marker\": {\"line\": {\"color\": \"#E5ECF6\", \"width\": 0.5}}, \"type\": \"bar\"}], \"barpolar\": [{\"marker\": {\"line\": {\"color\": \"#E5ECF6\", \"width\": 0.5}}, \"type\": \"barpolar\"}], \"carpet\": [{\"aaxis\": {\"endlinecolor\": \"#2a3f5f\", \"gridcolor\": \"white\", \"linecolor\": \"white\", \"minorgridcolor\": \"white\", \"startlinecolor\": \"#2a3f5f\"}, \"baxis\": {\"endlinecolor\": \"#2a3f5f\", \"gridcolor\": \"white\", \"linecolor\": \"white\", \"minorgridcolor\": \"white\", \"startlinecolor\": \"#2a3f5f\"}, \"type\": \"carpet\"}], \"choropleth\": [{\"colorbar\": {\"outlinewidth\": 0, \"ticks\": \"\"}, \"type\": \"choropleth\"}], \"contour\": [{\"colorbar\": {\"outlinewidth\": 0, \"ticks\": \"\"}, \"colorscale\": [[0.0, \"#0d0887\"], [0.1111111111111111, \"#46039f\"], [0.2222222222222222, \"#7201a8\"], [0.3333333333333333, \"#9c179e\"], [0.4444444444444444, \"#bd3786\"], [0.5555555555555556, \"#d8576b\"], [0.6666666666666666, \"#ed7953\"], [0.7777777777777778, \"#fb9f3a\"], [0.8888888888888888, \"#fdca26\"], [1.0, \"#f0f921\"]], \"type\": \"contour\"}], \"contourcarpet\": [{\"colorbar\": {\"outlinewidth\": 0, \"ticks\": \"\"}, \"type\": \"contourcarpet\"}], \"heatmap\": [{\"colorbar\": {\"outlinewidth\": 0, \"ticks\": \"\"}, \"colorscale\": [[0.0, \"#0d0887\"], [0.1111111111111111, \"#46039f\"], [0.2222222222222222, \"#7201a8\"], [0.3333333333333333, \"#9c179e\"], [0.4444444444444444, \"#bd3786\"], [0.5555555555555556, \"#d8576b\"], [0.6666666666666666, \"#ed7953\"], [0.7777777777777778, \"#fb9f3a\"], [0.8888888888888888, \"#fdca26\"], [1.0, \"#f0f921\"]], \"type\": \"heatmap\"}], \"heatmapgl\": [{\"colorbar\": {\"outlinewidth\": 0, \"ticks\": \"\"}, \"colorscale\": [[0.0, \"#0d0887\"], [0.1111111111111111, \"#46039f\"], [0.2222222222222222, \"#7201a8\"], [0.3333333333333333, \"#9c179e\"], [0.4444444444444444, \"#bd3786\"], [0.5555555555555556, \"#d8576b\"], [0.6666666666666666, \"#ed7953\"], [0.7777777777777778, \"#fb9f3a\"], [0.8888888888888888, \"#fdca26\"], [1.0, \"#f0f921\"]], \"type\": \"heatmapgl\"}], \"histogram\": [{\"marker\": {\"colorbar\": {\"outlinewidth\": 0, \"ticks\": \"\"}}, \"type\": \"histogram\"}], \"histogram2d\": [{\"colorbar\": {\"outlinewidth\": 0, \"ticks\": \"\"}, \"colorscale\": [[0.0, \"#0d0887\"], [0.1111111111111111, \"#46039f\"], [0.2222222222222222, \"#7201a8\"], [0.3333333333333333, \"#9c179e\"], [0.4444444444444444, \"#bd3786\"], [0.5555555555555556, \"#d8576b\"], [0.6666666666666666, \"#ed7953\"], [0.7777777777777778, \"#fb9f3a\"], [0.8888888888888888, \"#fdca26\"], [1.0, \"#f0f921\"]], \"type\": \"histogram2d\"}], \"histogram2dcontour\": [{\"colorbar\": {\"outlinewidth\": 0, \"ticks\": \"\"}, \"colorscale\": [[0.0, \"#0d0887\"], [0.1111111111111111, \"#46039f\"], [0.2222222222222222, \"#7201a8\"], [0.3333333333333333, \"#9c179e\"], [0.4444444444444444, \"#bd3786\"], [0.5555555555555556, \"#d8576b\"], [0.6666666666666666, \"#ed7953\"], [0.7777777777777778, \"#fb9f3a\"], [0.8888888888888888, \"#fdca26\"], [1.0, \"#f0f921\"]], \"type\": \"histogram2dcontour\"}], \"mesh3d\": [{\"colorbar\": {\"outlinewidth\": 0, \"ticks\": \"\"}, \"type\": \"mesh3d\"}], \"parcoords\": [{\"line\": {\"colorbar\": {\"outlinewidth\": 0, \"ticks\": \"\"}}, \"type\": \"parcoords\"}], \"pie\": [{\"automargin\": true, \"type\": \"pie\"}], \"scatter\": [{\"marker\": {\"colorbar\": {\"outlinewidth\": 0, \"ticks\": \"\"}}, \"type\": \"scatter\"}], \"scatter3d\": [{\"line\": {\"colorbar\": {\"outlinewidth\": 0, \"ticks\": \"\"}}, \"marker\": {\"colorbar\": {\"outlinewidth\": 0, \"ticks\": \"\"}}, \"type\": \"scatter3d\"}], \"scattercarpet\": [{\"marker\": {\"colorbar\": {\"outlinewidth\": 0, \"ticks\": \"\"}}, \"type\": \"scattercarpet\"}], \"scattergeo\": [{\"marker\": {\"colorbar\": {\"outlinewidth\": 0, \"ticks\": \"\"}}, \"type\": \"scattergeo\"}], \"scattergl\": [{\"marker\": {\"colorbar\": {\"outlinewidth\": 0, \"ticks\": \"\"}}, \"type\": \"scattergl\"}], \"scattermapbox\": [{\"marker\": {\"colorbar\": {\"outlinewidth\": 0, \"ticks\": \"\"}}, \"type\": \"scattermapbox\"}], \"scatterpolar\": [{\"marker\": {\"colorbar\": {\"outlinewidth\": 0, \"ticks\": \"\"}}, \"type\": \"scatterpolar\"}], \"scatterpolargl\": [{\"marker\": {\"colorbar\": {\"outlinewidth\": 0, \"ticks\": \"\"}}, \"type\": \"scatterpolargl\"}], \"scatterternary\": [{\"marker\": {\"colorbar\": {\"outlinewidth\": 0, \"ticks\": \"\"}}, \"type\": \"scatterternary\"}], \"surface\": [{\"colorbar\": {\"outlinewidth\": 0, \"ticks\": \"\"}, \"colorscale\": [[0.0, \"#0d0887\"], [0.1111111111111111, \"#46039f\"], [0.2222222222222222, \"#7201a8\"], [0.3333333333333333, \"#9c179e\"], [0.4444444444444444, \"#bd3786\"], [0.5555555555555556, \"#d8576b\"], [0.6666666666666666, \"#ed7953\"], [0.7777777777777778, \"#fb9f3a\"], [0.8888888888888888, \"#fdca26\"], [1.0, \"#f0f921\"]], \"type\": \"surface\"}], \"table\": [{\"cells\": {\"fill\": {\"color\": \"#EBF0F8\"}, \"line\": {\"color\": \"white\"}}, \"header\": {\"fill\": {\"color\": \"#C8D4E3\"}, \"line\": {\"color\": \"white\"}}, \"type\": \"table\"}]}, \"layout\": {\"annotationdefaults\": {\"arrowcolor\": \"#2a3f5f\", \"arrowhead\": 0, \"arrowwidth\": 1}, \"coloraxis\": {\"colorbar\": {\"outlinewidth\": 0, \"ticks\": \"\"}}, \"colorscale\": {\"diverging\": [[0, \"#8e0152\"], [0.1, \"#c51b7d\"], [0.2, \"#de77ae\"], [0.3, \"#f1b6da\"], [0.4, \"#fde0ef\"], [0.5, \"#f7f7f7\"], [0.6, \"#e6f5d0\"], [0.7, \"#b8e186\"], [0.8, \"#7fbc41\"], [0.9, \"#4d9221\"], [1, \"#276419\"]], \"sequential\": [[0.0, \"#0d0887\"], [0.1111111111111111, \"#46039f\"], [0.2222222222222222, \"#7201a8\"], [0.3333333333333333, \"#9c179e\"], [0.4444444444444444, \"#bd3786\"], [0.5555555555555556, \"#d8576b\"], [0.6666666666666666, \"#ed7953\"], [0.7777777777777778, \"#fb9f3a\"], [0.8888888888888888, \"#fdca26\"], [1.0, \"#f0f921\"]], \"sequentialminus\": [[0.0, \"#0d0887\"], [0.1111111111111111, \"#46039f\"], [0.2222222222222222, \"#7201a8\"], [0.3333333333333333, \"#9c179e\"], [0.4444444444444444, \"#bd3786\"], [0.5555555555555556, \"#d8576b\"], [0.6666666666666666, \"#ed7953\"], [0.7777777777777778, \"#fb9f3a\"], [0.8888888888888888, \"#fdca26\"], [1.0, \"#f0f921\"]]}, \"colorway\": [\"#636efa\", \"#EF553B\", \"#00cc96\", \"#ab63fa\", \"#FFA15A\", \"#19d3f3\", \"#FF6692\", \"#B6E880\", \"#FF97FF\", \"#FECB52\"], \"font\": {\"color\": \"#2a3f5f\"}, \"geo\": {\"bgcolor\": \"white\", \"lakecolor\": \"white\", \"landcolor\": \"#E5ECF6\", \"showlakes\": true, \"showland\": true, \"subunitcolor\": \"white\"}, \"hoverlabel\": {\"align\": \"left\"}, \"hovermode\": \"closest\", \"mapbox\": {\"style\": \"light\"}, \"paper_bgcolor\": \"white\", \"plot_bgcolor\": \"#E5ECF6\", \"polar\": {\"angularaxis\": {\"gridcolor\": \"white\", \"linecolor\": \"white\", \"ticks\": \"\"}, \"bgcolor\": \"#E5ECF6\", \"radialaxis\": {\"gridcolor\": \"white\", \"linecolor\": \"white\", \"ticks\": \"\"}}, \"scene\": {\"xaxis\": {\"backgroundcolor\": \"#E5ECF6\", \"gridcolor\": \"white\", \"gridwidth\": 2, \"linecolor\": \"white\", \"showbackground\": true, \"ticks\": \"\", \"zerolinecolor\": \"white\"}, \"yaxis\": {\"backgroundcolor\": \"#E5ECF6\", \"gridcolor\": \"white\", \"gridwidth\": 2, \"linecolor\": \"white\", \"showbackground\": true, \"ticks\": \"\", \"zerolinecolor\": \"white\"}, \"zaxis\": {\"backgroundcolor\": \"#E5ECF6\", \"gridcolor\": \"white\", \"gridwidth\": 2, \"linecolor\": \"white\", \"showbackground\": true, \"ticks\": \"\", \"zerolinecolor\": \"white\"}}, \"shapedefaults\": {\"line\": {\"color\": \"#2a3f5f\"}}, \"ternary\": {\"aaxis\": {\"gridcolor\": \"white\", \"linecolor\": \"white\", \"ticks\": \"\"}, \"baxis\": {\"gridcolor\": \"white\", \"linecolor\": \"white\", \"ticks\": \"\"}, \"bgcolor\": \"#E5ECF6\", \"caxis\": {\"gridcolor\": \"white\", \"linecolor\": \"white\", \"ticks\": \"\"}}, \"title\": {\"x\": 0.05}, \"xaxis\": {\"automargin\": true, \"gridcolor\": \"white\", \"linecolor\": \"white\", \"ticks\": \"\", \"title\": {\"standoff\": 15}, \"zerolinecolor\": \"white\", \"zerolinewidth\": 2}, \"yaxis\": {\"automargin\": true, \"gridcolor\": \"white\", \"linecolor\": \"white\", \"ticks\": \"\", \"title\": {\"standoff\": 15}, \"zerolinecolor\": \"white\", \"zerolinewidth\": 2}}}, \"title\": {\"text\": \"Correlations between Price and Amenities\"}, \"yaxis\": {\"title\": {\"text\": \"Correlation Coefficients\"}}},\n",
       "                        {\"responsive\": true}\n",
       "                    ).then(function(){\n",
       "                            \n",
       "var gd = document.getElementById('bf0be6f0-0d6e-402f-9a13-e699997fb9ed');\n",
       "var x = new MutationObserver(function (mutations, observer) {{\n",
       "        var display = window.getComputedStyle(gd).display;\n",
       "        if (!display || display === 'none') {{\n",
       "            console.log([gd, 'removed!']);\n",
       "            Plotly.purge(gd);\n",
       "            observer.disconnect();\n",
       "        }}\n",
       "}});\n",
       "\n",
       "// Listen for the removal of the full notebook cells\n",
       "var notebookContainer = gd.closest('#notebook-container');\n",
       "if (notebookContainer) {{\n",
       "    x.observe(notebookContainer, {childList: true});\n",
       "}}\n",
       "\n",
       "// Listen for the clearing of the current output cell\n",
       "var outputEl = gd.closest('.output');\n",
       "if (outputEl) {{\n",
       "    x.observe(outputEl, {childList: true});\n",
       "}}\n",
       "\n",
       "                        })\n",
       "                };\n",
       "                });\n",
       "            </script>\n",
       "        </div>"
      ]
     },
     "metadata": {},
     "output_type": "display_data"
    }
   ],
   "source": [
    "# Top 12 of the amenities negative correlated to price\n",
    "#Sort correlation coefficients in ascending order \n",
    "price_a = price_amenities[\"price\"].sort_values(ascending=False).tail(12).to_frame().reset_index()\n",
    "price_a.rename(columns={\"index\":\"amenities\"},inplace=True)\n",
    "price_a = price_a.query(\"amenities != 'price'\")\n",
    "\n",
    "# mean of all coefficients\n",
    "price_a.price.mean()\n",
    "#0.10379310344827583\n",
    "\n",
    "# Plot Bar Chart with the data frame above\n",
    "fig = go.Figure()\n",
    "fig.add_trace(go.Bar(x=price_a.amenities, y=price_a.price))\n",
    "fig.update_layout(yaxis_title=\"Correlation Coefficients\", title = \"Correlations between Price and Amenities\")\n",
    "fig.show()"
   ]
  },
  {
   "cell_type": "markdown",
   "metadata": {},
   "source": [
    "First of all I explore the correlations between price and the amenities to find out which amenities have the highest correlation to price. Here for I use the Heatmap graph for visualizing the correlation. The Bar chart shows the Top 20 correlation coefficients. In general the correlation coefficients of all amenities and price are below 0.26. Price is most positive correlated to Air Conditioning, Cable TV, Family-/Kid Friendliness, TV and Doorman and most negative correlated to pets live on the property, free parking on premises, lock on bedroom door, cats and breakfast."
   ]
  },
  {
   "cell_type": "markdown",
   "metadata": {},
   "source": [
    "### Reviews vs. Amenities"
   ]
  },
  {
   "cell_type": "code",
   "execution_count": 23,
   "metadata": {
    "scrolled": false
   },
   "outputs": [
    {
     "data": {
      "application/vnd.plotly.v1+json": {
       "config": {
        "plotlyServerURL": "https://plot.ly"
       },
       "data": [
        {
         "colorscale": [
          [
           0,
           "#440154"
          ],
          [
           0.1111111111111111,
           "#482878"
          ],
          [
           0.2222222222222222,
           "#3e4989"
          ],
          [
           0.3333333333333333,
           "#31688e"
          ],
          [
           0.4444444444444444,
           "#26828e"
          ],
          [
           0.5555555555555556,
           "#1f9e89"
          ],
          [
           0.6666666666666666,
           "#35b779"
          ],
          [
           0.7777777777777778,
           "#6ece58"
          ],
          [
           0.8888888888888888,
           "#b5de2b"
          ],
          [
           1,
           "#fde725"
          ]
         ],
         "type": "heatmap",
         "x": [
          "number_of_reviews",
          "review_scores_accuracy",
          "review_scores_checkin",
          "review_scores_cleanliness",
          "review_scores_communication",
          "review_scores_rating",
          "review_scores_value",
          "reviews_per_month",
          "amenities_24-hour_check-in",
          "amenities_air_conditioning",
          "amenities_breakfast",
          "amenities_buzzer/wireless_intercom",
          "amenities_cable_tv",
          "amenities_carbon_monoxide_detector",
          "amenities_cat(s)",
          "amenities_dog(s)",
          "amenities_doorman",
          "amenities_dryer",
          "amenities_elevator_in_building",
          "amenities_essentials",
          "amenities_family/kid_friendly",
          "amenities_fire_extinguisher",
          "amenities_first_aid_kit",
          "amenities_free_parking_on_premises",
          "amenities_free_parking_on_street",
          "amenities_gym",
          "amenities_hair_dryer",
          "amenities_hangers",
          "amenities_heating",
          "amenities_hot_tub",
          "amenities_indoor_fireplace",
          "amenities_internet",
          "amenities_iron",
          "amenities_kitchen",
          "amenities_laptop_friendly_workspace",
          "amenities_lock_on_bedroom_door",
          "amenities_other_pet(s)",
          "amenities_paid_parking_off_premises",
          "amenities_pets_allowed",
          "amenities_pets_live_on_this_property",
          "amenities_pool",
          "amenities_safety_card",
          "amenities_shampoo",
          "amenities_smoke_detector",
          "amenities_smoking_allowed",
          "amenities_suitable_for_events",
          "amenities_translation_missing:_en.hosting_amenity_49",
          "amenities_translation_missing:_en.hosting_amenity_50",
          "amenities_tv",
          "amenities_washer",
          "amenities_washer_/_dryer",
          "amenities_wheelchair_accessible",
          "amenities_wireless_internet"
         ],
         "y": [
          "number_of_reviews",
          "review_scores_accuracy",
          "review_scores_checkin",
          "review_scores_cleanliness",
          "review_scores_communication",
          "review_scores_rating",
          "review_scores_value",
          "reviews_per_month",
          "amenities_24-hour_check-in",
          "amenities_air_conditioning",
          "amenities_breakfast",
          "amenities_buzzer/wireless_intercom",
          "amenities_cable_tv",
          "amenities_carbon_monoxide_detector",
          "amenities_cat(s)",
          "amenities_dog(s)",
          "amenities_doorman",
          "amenities_dryer",
          "amenities_elevator_in_building",
          "amenities_essentials",
          "amenities_family/kid_friendly",
          "amenities_fire_extinguisher",
          "amenities_first_aid_kit",
          "amenities_free_parking_on_premises",
          "amenities_free_parking_on_street",
          "amenities_gym",
          "amenities_hair_dryer",
          "amenities_hangers",
          "amenities_heating",
          "amenities_hot_tub",
          "amenities_indoor_fireplace",
          "amenities_internet",
          "amenities_iron",
          "amenities_kitchen",
          "amenities_laptop_friendly_workspace",
          "amenities_lock_on_bedroom_door",
          "amenities_other_pet(s)",
          "amenities_paid_parking_off_premises",
          "amenities_pets_allowed",
          "amenities_pets_live_on_this_property",
          "amenities_pool",
          "amenities_safety_card",
          "amenities_shampoo",
          "amenities_smoke_detector",
          "amenities_smoking_allowed",
          "amenities_suitable_for_events",
          "amenities_translation_missing:_en.hosting_amenity_49",
          "amenities_translation_missing:_en.hosting_amenity_50",
          "amenities_tv",
          "amenities_washer",
          "amenities_washer_/_dryer",
          "amenities_wheelchair_accessible",
          "amenities_wireless_internet"
         ],
         "z": [
          [
           1,
           0.05,
           0.07,
           0.04,
           0.06,
           0.03,
           0.04,
           0.51,
           0.03,
           0.01,
           0.06,
           0.01,
           0.01,
           0.05,
           0.06,
           0.08,
           -0.06,
           -0.09,
           -0.1,
           0.03,
           0,
           0.06,
           0.11,
           0.04,
           0,
           -0.1,
           0.02,
           -0.02,
           0.07,
           -0.01,
           -0.01,
           0.08,
           0.01,
           -0.07,
           -0.04,
           -0.05,
           0.04,
           0,
           -0.01,
           0.09,
           -0.06,
           0.06,
           0.09,
           0.05,
           -0.01,
           0,
           -0.02,
           -0.01,
           -0.03,
           -0.09,
           0,
           -0.02,
           0.07
          ],
          [
           0.05,
           1,
           0.45,
           0.61,
           0.47,
           0.68,
           0.63,
           0.13,
           0.01,
           -0.03,
           0.04,
           0,
           0,
           0.08,
           0.05,
           0.06,
           0,
           0.04,
           -0.04,
           0.08,
           -0.01,
           0.1,
           0.08,
           0.09,
           0.01,
           -0.05,
           0.02,
           0.02,
           0.02,
           -0.03,
           0.06,
           0.01,
           0.02,
           -0.02,
           0.02,
           -0.01,
           0,
           0.01,
           -0.01,
           0.07,
           -0.03,
           0.04,
           0.1,
           0.09,
           -0.02,
           -0.03,
           -0.02,
           -0.01,
           0.05,
           0.03,
           -0.02,
           0.01,
           0.06
          ],
          [
           0.07,
           0.45,
           1,
           0.44,
           0.68,
           0.56,
           0.47,
           0.11,
           0.01,
           -0.04,
           0.03,
           0.01,
           -0.03,
           0.08,
           0.06,
           0.06,
           -0.04,
           -0.01,
           -0.08,
           0.07,
           0,
           0.1,
           0.11,
           0.09,
           0.01,
           -0.09,
           0.02,
           0.03,
           0.02,
           -0.01,
           0.05,
           0.02,
           0.02,
           -0.02,
           0.01,
           0,
           0,
           0,
           -0.01,
           0.08,
           -0.07,
           0.06,
           0.08,
           0.08,
           -0.01,
           -0.01,
           0,
           -0.02,
           0,
           -0.01,
           -0.01,
           -0.01,
           0.05
          ],
          [
           0.04,
           0.61,
           0.44,
           1,
           0.42,
           0.72,
           0.61,
           0.12,
           0.06,
           0.02,
           0.03,
           0,
           0.07,
           0.09,
           0.03,
           0.04,
           0.03,
           0.04,
           0.01,
           0.12,
           0.04,
           0.12,
           0.07,
           0.09,
           0.01,
           0.02,
           0.08,
           0.05,
           0.06,
           -0.01,
           0.05,
           0.03,
           0.08,
           -0.02,
           0.03,
           -0.03,
           0,
           0.01,
           -0.03,
           0.04,
           0.02,
           0.05,
           0.13,
           0.08,
           -0.06,
           -0.02,
           -0.06,
           -0.06,
           0.09,
           0.04,
           -0.02,
           0.02,
           0.08
          ],
          [
           0.06,
           0.47,
           0.68,
           0.42,
           1,
           0.58,
           0.51,
           0.1,
           0.02,
           -0.05,
           0.04,
           0.01,
           -0.05,
           0.09,
           0.06,
           0.06,
           -0.04,
           0.01,
           -0.06,
           0.07,
           0,
           0.09,
           0.11,
           0.09,
           0,
           -0.09,
           0.02,
           0.02,
           0.02,
           0,
           0.06,
           0.01,
           0.01,
           -0.02,
           0.02,
           -0.01,
           0,
           0.01,
           -0.02,
           0.07,
           -0.07,
           0.06,
           0.09,
           0.1,
           0,
           0,
           -0.01,
           -0.02,
           0,
           0.01,
           -0.01,
           -0.01,
           0.06
          ],
          [
           0.03,
           0.68,
           0.56,
           0.72,
           0.58,
           1,
           0.76,
           0.08,
           0.02,
           -0.01,
           0.04,
           0,
           0.03,
           0.09,
           0.06,
           0.06,
           0.02,
           0.07,
           0,
           0.11,
           0.01,
           0.13,
           0.11,
           0.1,
           0,
           -0.02,
           0.03,
           0.02,
           0.05,
           -0.01,
           0.08,
           0.03,
           0.03,
           -0.01,
           0.03,
           -0.01,
           0.01,
           0,
           0,
           0.09,
           -0.02,
           0.08,
           0.12,
           0.1,
           -0.02,
           0.01,
           -0.03,
           -0.03,
           0.06,
           0.07,
           -0.01,
           0.02,
           0.09
          ],
          [
           0.04,
           0.63,
           0.47,
           0.61,
           0.51,
           0.76,
           1,
           0.13,
           0,
           -0.06,
           0.06,
           -0.02,
           -0.01,
           0.08,
           0.06,
           0.07,
           -0.01,
           0.03,
           -0.05,
           0.09,
           -0.02,
           0.11,
           0.1,
           0.12,
           0,
           -0.05,
           0.01,
           0.01,
           0.02,
           -0.02,
           0.06,
           0.01,
           0,
           -0.02,
           0.01,
           0,
           0,
           -0.01,
           -0.01,
           0.09,
           -0.03,
           0.05,
           0.09,
           0.09,
           -0.02,
           0,
           -0.03,
           -0.04,
           0.03,
           0.03,
           -0.01,
           0.01,
           0.07
          ],
          [
           0.51,
           0.13,
           0.11,
           0.12,
           0.1,
           0.08,
           0.13,
           1,
           0.14,
           0.03,
           0.07,
           -0.01,
           -0.11,
           0.1,
           0.02,
           0.03,
           -0.05,
           -0.11,
           -0.06,
           0.15,
           0,
           0.06,
           0.11,
           -0.01,
           0.01,
           -0.07,
           0.14,
           0.14,
           0.02,
           -0.03,
           -0.05,
           0.02,
           0.13,
           -0.1,
           0.11,
           0.08,
           -0.02,
           0.01,
           -0.02,
           0.03,
           -0.07,
           0.06,
           0.18,
           0.09,
           0.01,
           -0.02,
           -0.04,
           -0.03,
           -0.03,
           -0.11,
           -0.01,
           -0.01,
           0.04
          ],
          [
           0.03,
           0.01,
           0.01,
           0.06,
           0.02,
           0.02,
           0,
           0.14,
           1,
           0.22,
           -0.02,
           0.12,
           0.16,
           0.15,
           -0.06,
           -0.07,
           0.16,
           0.05,
           0.11,
           0.2,
           0.14,
           0.07,
           0.04,
           -0.08,
           0.03,
           0.13,
           0.58,
           0.58,
           0.09,
           -0.01,
           -0.06,
           0.17,
           0.57,
           0.07,
           0.56,
           0.08,
           -0.03,
           0.03,
           0.05,
           -0.1,
           0.07,
           0.08,
           0.25,
           0.07,
           0.01,
           0,
           -0.04,
           -0.02,
           0.15,
           0.05,
           -0.01,
           0.03,
           0.09
          ],
          [
           0.01,
           -0.03,
           -0.04,
           0.02,
           -0.05,
           -0.01,
           -0.06,
           0.03,
           0.22,
           1,
           0.02,
           0.16,
           0.24,
           0.07,
           -0.09,
           -0.09,
           0.19,
           0.03,
           0.19,
           0.06,
           0.12,
           -0.02,
           -0.07,
           -0.23,
           0.04,
           0.18,
           0.28,
           0.26,
           0.12,
           0.01,
           -0.08,
           0.1,
           0.31,
           0.1,
           0.25,
           0.09,
           -0.02,
           0.02,
           0.03,
           -0.12,
           0.1,
           -0.01,
           0.07,
           0,
           0,
           0,
           0.12,
           0.15,
           0.23,
           0.03,
           0,
           0.03,
           0.06
          ],
          [
           0.06,
           0.04,
           0.03,
           0.03,
           0.04,
           0.04,
           0.06,
           0.07,
           -0.02,
           0.02,
           1,
           -0.03,
           -0.06,
           0.03,
           0.06,
           0.05,
           -0.03,
           -0.03,
           -0.07,
           0.06,
           -0.02,
           0.07,
           0.13,
           0.08,
           0,
           -0.05,
           0.04,
           0.03,
           0.03,
           0.02,
           0.04,
           -0.01,
           0.04,
           -0.03,
           0.03,
           0.07,
           0.02,
           0.01,
           -0.01,
           0.07,
           -0.02,
           0.1,
           0.09,
           0.04,
           0.07,
           0.04,
           0.01,
           0.01,
           -0.06,
           -0.03,
           -0.01,
           -0.01,
           0.03
          ],
          [
           0.01,
           0,
           0.01,
           0,
           0.01,
           0,
           -0.02,
           -0.01,
           0.12,
           0.16,
           -0.03,
           1,
           0.12,
           0.07,
           -0.05,
           -0.03,
           0.06,
           0.1,
           0.25,
           0.08,
           0,
           0.01,
           0.01,
           -0.15,
           0.04,
           0.11,
           0.11,
           0.12,
           0.07,
           0.04,
           -0.02,
           0.16,
           0.12,
           0.11,
           0.13,
           0,
           -0.03,
           0.02,
           -0.01,
           -0.08,
           0.05,
           0.08,
           0.09,
           0.08,
           -0.02,
           0.02,
           0.02,
           0.02,
           0.1,
           0.1,
           -0.01,
           0.16,
           0.04
          ],
          [
           0.01,
           0,
           -0.03,
           0.07,
           -0.05,
           0.03,
           -0.01,
           -0.11,
           0.16,
           0.24,
           -0.06,
           0.12,
           1,
           0.02,
           -0.03,
           0.02,
           0.15,
           0.1,
           0.13,
           0.03,
           0.16,
           0.04,
           -0.04,
           -0.02,
           -0.03,
           0.17,
           0.11,
           0.07,
           0.12,
           0.03,
           0.08,
           0.23,
           0.15,
           0.13,
           0.07,
           -0.08,
           -0.04,
           0.01,
           0.06,
           -0.05,
           0.14,
           0.03,
           0.04,
           -0.01,
           -0.05,
           0.04,
           -0.03,
           -0.01,
           0.4,
           0.1,
           0.01,
           0.05,
           0.13
          ],
          [
           0.05,
           0.08,
           0.08,
           0.09,
           0.09,
           0.09,
           0.08,
           0.1,
           0.15,
           0.07,
           0.03,
           0.07,
           0.02,
           1,
           0.02,
           0,
           -0.04,
           0.03,
           -0.03,
           0.25,
           0.08,
           0.34,
           0.29,
           0.05,
           0.01,
           -0.02,
           0.19,
           0.19,
           0.13,
           0.02,
           0.04,
           0.11,
           0.19,
           0.08,
           0.18,
           0.09,
           -0.02,
           0,
           0.01,
           0.01,
           -0.01,
           0.22,
           0.18,
           0.6,
           -0.02,
           0,
           -0.02,
           -0.03,
           0.08,
           0.03,
           -0.03,
           0.03,
           0.12
          ],
          [
           0.06,
           0.05,
           0.06,
           0.03,
           0.06,
           0.06,
           0.06,
           0.02,
           -0.06,
           -0.09,
           0.06,
           -0.05,
           -0.03,
           0.02,
           1,
           0.17,
           -0.04,
           0,
           -0.08,
           0.01,
           -0.02,
           0.09,
           0.11,
           0.11,
           -0.01,
           -0.05,
           -0.05,
           -0.06,
           0.03,
           -0.01,
           0.03,
           -0.01,
           -0.06,
           -0.06,
           -0.04,
           0,
           0.13,
           -0.01,
           0.02,
           0.6,
           -0.02,
           0.04,
           0.02,
           0.04,
           0.07,
           0.03,
           -0.01,
           -0.02,
           -0.04,
           0,
           -0.01,
           -0.01,
           0.04
          ],
          [
           0.08,
           0.06,
           0.06,
           0.04,
           0.06,
           0.06,
           0.07,
           0.03,
           -0.07,
           -0.09,
           0.05,
           -0.03,
           0.02,
           0,
           0.17,
           1,
           -0.05,
           -0.02,
           -0.1,
           0.02,
           0.03,
           0.07,
           0.12,
           0.14,
           -0.01,
           -0.05,
           -0.06,
           -0.07,
           0.03,
           0.01,
           0.09,
           -0.01,
           -0.07,
           -0.08,
           -0.06,
           0,
           0.08,
           -0.01,
           0.16,
           0.7,
           -0.04,
           0.07,
           0.04,
           0.04,
           0.04,
           -0.01,
           -0.06,
           -0.06,
           -0.02,
           -0.02,
           -0.01,
           -0.04,
           0.04
          ],
          [
           -0.06,
           0,
           -0.04,
           0.03,
           -0.04,
           0.02,
           -0.01,
           -0.05,
           0.16,
           0.19,
           -0.03,
           0.06,
           0.15,
           -0.04,
           -0.04,
           -0.05,
           1,
           0.11,
           0.4,
           0.05,
           0.09,
           -0.05,
           -0.05,
           -0.13,
           -0.01,
           0.44,
           0.11,
           0.09,
           0.04,
           0.03,
           -0.06,
           0.09,
           0.11,
           0.05,
           0.07,
           -0.04,
           -0.02,
           0.02,
           0.04,
           -0.07,
           0.29,
           0.03,
           0.06,
           -0.07,
           -0.02,
           0.01,
           -0.03,
           -0.01,
           0.1,
           0.1,
           -0.01,
           0.18,
           0.02
          ],
          [
           -0.09,
           0.04,
           -0.01,
           0.04,
           0.01,
           0.07,
           0.03,
           -0.11,
           0.05,
           0.03,
           -0.03,
           0.1,
           0.1,
           0.03,
           0,
           -0.02,
           0.11,
           1,
           0.19,
           0.09,
           0.14,
           0.06,
           0.06,
           0.12,
           0,
           0.18,
           0.03,
           0.02,
           0.15,
           0.05,
           0.14,
           0.15,
           0.03,
           0.26,
           0.01,
           -0.04,
           0,
           0.01,
           0.05,
           -0.01,
           0.1,
           0.06,
           0.09,
           0.07,
           0.02,
           0.05,
           -0.05,
           -0.03,
           0.15,
           0.95,
           0.01,
           0.09,
           0.12
          ],
          [
           -0.1,
           -0.04,
           -0.08,
           0.01,
           -0.06,
           0,
           -0.05,
           -0.06,
           0.11,
           0.19,
           -0.07,
           0.25,
           0.13,
           -0.03,
           -0.08,
           -0.1,
           0.4,
           0.19,
           1,
           0.07,
           0.1,
           -0.12,
           -0.13,
           -0.19,
           -0.02,
           0.58,
           0.11,
           0.1,
           0.04,
           0.11,
           -0.11,
           0.11,
           0.12,
           0.13,
           0.08,
           -0.07,
           -0.04,
           0.02,
           0.02,
           -0.14,
           0.35,
           0,
           0.07,
           -0.05,
           -0.02,
           0,
           -0.07,
           -0.05,
           0.15,
           0.18,
           -0.01,
           0.34,
           0.01
          ],
          [
           0.03,
           0.08,
           0.07,
           0.12,
           0.07,
           0.11,
           0.09,
           0.15,
           0.2,
           0.06,
           0.06,
           0.08,
           0.03,
           0.25,
           0.01,
           0.02,
           0.05,
           0.09,
           0.07,
           1,
           0.1,
           0.16,
           0.17,
           0.03,
           0,
           0.06,
           0.22,
           0.23,
           0.22,
           0,
           0.01,
           0.16,
           0.21,
           0.12,
           0.21,
           0.05,
           0,
           0.01,
           0.01,
           0.01,
           0.04,
           0.13,
           0.41,
           0.29,
           0,
           0.01,
           -0.05,
           -0.02,
           0.12,
           0.09,
           -0.05,
           0.04,
           0.19
          ],
          [
           0,
           -0.01,
           0,
           0.04,
           0,
           0.01,
           -0.02,
           0,
           0.14,
           0.12,
           -0.02,
           0,
           0.16,
           0.08,
           -0.02,
           0.03,
           0.09,
           0.14,
           0.1,
           0.1,
           1,
           0.09,
           0.05,
           0.13,
           0.02,
           0.16,
           0.13,
           0.11,
           0.13,
           0.07,
           0.08,
           0.14,
           0.13,
           0.1,
           0.09,
           -0.05,
           0.01,
           0.01,
           0.19,
           0.01,
           0.12,
           0.08,
           0.15,
           0.06,
           0.01,
           0.09,
           -0.24,
           -0.15,
           0.17,
           0.14,
           0.02,
           0.1,
           0.1
          ],
          [
           0.06,
           0.1,
           0.1,
           0.12,
           0.09,
           0.13,
           0.11,
           0.06,
           0.07,
           -0.02,
           0.07,
           0.01,
           0.04,
           0.34,
           0.09,
           0.07,
           -0.05,
           0.06,
           -0.12,
           0.16,
           0.09,
           1,
           0.39,
           0.17,
           0.01,
           -0.07,
           0.1,
           0.06,
           0.11,
           0.03,
           0.1,
           0.08,
           0.09,
           0.05,
           0.06,
           0.03,
           0.03,
           -0.01,
           0.02,
           0.1,
           -0.02,
           0.32,
           0.14,
           0.41,
           0.01,
           0.05,
           -0.05,
           -0.06,
           0.06,
           0.06,
           -0.02,
           0.02,
           0.1
          ],
          [
           0.11,
           0.08,
           0.11,
           0.07,
           0.11,
           0.11,
           0.1,
           0.11,
           0.04,
           -0.07,
           0.13,
           0.01,
           -0.04,
           0.29,
           0.11,
           0.12,
           -0.05,
           0.06,
           -0.13,
           0.17,
           0.05,
           0.39,
           1,
           0.16,
           0,
           -0.11,
           0.04,
           0.02,
           0.09,
           0,
           0.11,
           0.08,
           0.05,
           0.01,
           0.04,
           0.05,
           0.02,
           -0.01,
           0.04,
           0.16,
           -0.07,
           0.4,
           0.18,
           0.31,
           0.05,
           0.09,
           -0.02,
           -0.04,
           0.01,
           0.05,
           -0.02,
           0.01,
           0.07
          ],
          [
           0.04,
           0.09,
           0.09,
           0.09,
           0.09,
           0.1,
           0.12,
           -0.01,
           -0.08,
           -0.23,
           0.08,
           -0.15,
           -0.02,
           0.05,
           0.11,
           0.14,
           -0.13,
           0.12,
           -0.19,
           0.03,
           0.13,
           0.17,
           0.16,
           1,
           -0.03,
           -0.07,
           -0.1,
           -0.1,
           0.1,
           0.09,
           0.18,
           0.03,
           -0.1,
           0,
           -0.1,
           -0.06,
           0.06,
           -0.02,
           0.05,
           0.18,
           0.01,
           0.1,
           0.09,
           0.11,
           0.04,
           0.02,
           -0.11,
           -0.12,
           0.02,
           0.11,
           -0.01,
           0.01,
           0.09
          ],
          [
           0,
           0.01,
           0.01,
           0.01,
           0,
           0,
           0,
           0.01,
           0.03,
           0.04,
           0,
           0.04,
           -0.03,
           0.01,
           -0.01,
           -0.01,
           -0.01,
           0,
           -0.02,
           0,
           0.02,
           0.01,
           0,
           -0.03,
           1,
           -0.01,
           0.05,
           0.04,
           0.01,
           -0.01,
           0.04,
           0,
           0.03,
           0.01,
           0.04,
           0.05,
           0,
           0,
           0,
           -0.01,
           -0.01,
           -0.02,
           0.02,
           -0.01,
           -0.01,
           -0.01,
           0.01,
           0,
           0.02,
           0,
           0,
           -0.01,
           0.01
          ],
          [
           -0.1,
           -0.05,
           -0.09,
           0.02,
           -0.09,
           -0.02,
           -0.05,
           -0.07,
           0.13,
           0.18,
           -0.05,
           0.11,
           0.17,
           -0.02,
           -0.05,
           -0.05,
           0.44,
           0.18,
           0.58,
           0.06,
           0.16,
           -0.07,
           -0.11,
           -0.07,
           -0.01,
           1,
           0.12,
           0.08,
           0.03,
           0.18,
           -0.06,
           0.1,
           0.12,
           0.09,
           0.05,
           -0.05,
           -0.02,
           0.01,
           0.03,
           -0.09,
           0.49,
           0.03,
           0.09,
           -0.07,
           -0.02,
           0.01,
           -0.07,
           -0.02,
           0.15,
           0.18,
           -0.01,
           0.24,
           0.02
          ],
          [
           0.02,
           0.02,
           0.02,
           0.08,
           0.02,
           0.03,
           0.01,
           0.14,
           0.58,
           0.28,
           0.04,
           0.11,
           0.11,
           0.19,
           -0.05,
           -0.06,
           0.11,
           0.03,
           0.11,
           0.22,
           0.13,
           0.1,
           0.04,
           -0.1,
           0.05,
           0.12,
           1,
           0.74,
           0.1,
           0.01,
           -0.05,
           0.1,
           0.78,
           0.06,
           0.67,
           0.16,
           -0.04,
           0.03,
           0.01,
           -0.08,
           0.08,
           0.1,
           0.3,
           0.11,
           -0.01,
           -0.01,
           0.04,
           0.07,
           0.13,
           0.03,
           -0.02,
           0.03,
           0.1
          ],
          [
           -0.02,
           0.02,
           0.03,
           0.05,
           0.02,
           0.02,
           0.01,
           0.14,
           0.58,
           0.26,
           0.03,
           0.12,
           0.07,
           0.19,
           -0.06,
           -0.07,
           0.09,
           0.02,
           0.1,
           0.23,
           0.11,
           0.06,
           0.02,
           -0.1,
           0.04,
           0.08,
           0.74,
           1,
           0.11,
           0.01,
           -0.08,
           0.06,
           0.73,
           0.05,
           0.73,
           0.22,
           -0.04,
           0.03,
           0.03,
           -0.1,
           0.06,
           0.07,
           0.27,
           0.13,
           0,
           -0.01,
           0.07,
           0.08,
           0.09,
           0.01,
           -0.02,
           0.03,
           0.08
          ],
          [
           0.07,
           0.02,
           0.02,
           0.06,
           0.02,
           0.05,
           0.02,
           0.02,
           0.09,
           0.12,
           0.03,
           0.07,
           0.12,
           0.13,
           0.03,
           0.03,
           0.04,
           0.15,
           0.04,
           0.22,
           0.13,
           0.11,
           0.09,
           0.1,
           0.01,
           0.03,
           0.1,
           0.11,
           1,
           0.01,
           0.06,
           0.21,
           0.11,
           0.24,
           0.11,
           -0.01,
           0.01,
           0.01,
           0.03,
           0.04,
           0.02,
           0.06,
           0.18,
           0.18,
           -0.03,
           0.02,
           -0.02,
           0,
           0.17,
           0.15,
           0.01,
           0.04,
           0.3
          ],
          [
           -0.01,
           -0.03,
           -0.01,
           -0.01,
           0,
           -0.01,
           -0.02,
           -0.03,
           -0.01,
           0.01,
           0.02,
           0.04,
           0.03,
           0.02,
           -0.01,
           0.01,
           0.03,
           0.05,
           0.11,
           0,
           0.07,
           0.03,
           0,
           0.09,
           -0.01,
           0.18,
           0.01,
           0.01,
           0.01,
           1,
           0.07,
           0,
           -0.02,
           0.03,
           -0.02,
           0.01,
           -0.01,
           -0.01,
           0.02,
           -0.01,
           0.33,
           0.03,
           0.05,
           0.03,
           0.03,
           0.05,
           -0.03,
           -0.03,
           -0.02,
           0.04,
           -0.01,
           0.06,
           0.01
          ],
          [
           -0.01,
           0.06,
           0.05,
           0.05,
           0.06,
           0.08,
           0.06,
           -0.05,
           -0.06,
           -0.08,
           0.04,
           -0.02,
           0.08,
           0.04,
           0.03,
           0.09,
           -0.06,
           0.14,
           -0.11,
           0.01,
           0.08,
           0.1,
           0.11,
           0.18,
           0.04,
           -0.06,
           -0.05,
           -0.08,
           0.06,
           0.07,
           1,
           0.09,
           -0.06,
           0.08,
           -0.05,
           -0.03,
           0,
           0.02,
           0.04,
           0.1,
           -0.04,
           0.05,
           0.04,
           0.05,
           -0.01,
           0.08,
           -0.05,
           -0.04,
           0.08,
           0.14,
           0,
           -0.03,
           0.05
          ],
          [
           0.08,
           0.01,
           0.02,
           0.03,
           0.01,
           0.03,
           0.01,
           0.02,
           0.17,
           0.1,
           -0.01,
           0.16,
           0.23,
           0.11,
           -0.01,
           -0.01,
           0.09,
           0.15,
           0.11,
           0.16,
           0.14,
           0.08,
           0.08,
           0.03,
           0,
           0.1,
           0.1,
           0.06,
           0.21,
           0,
           0.09,
           1,
           0.1,
           0.18,
           0.07,
           -0.11,
           0.01,
           0,
           0.06,
           -0.02,
           0.05,
           0.06,
           0.17,
           0.11,
           -0.03,
           0.04,
           -0.13,
           -0.11,
           0.28,
           0.16,
           -0.01,
           0.08,
           0.25
          ],
          [
           0.01,
           0.02,
           0.02,
           0.08,
           0.01,
           0.03,
           0,
           0.13,
           0.57,
           0.31,
           0.04,
           0.12,
           0.15,
           0.19,
           -0.06,
           -0.07,
           0.11,
           0.03,
           0.12,
           0.21,
           0.13,
           0.09,
           0.05,
           -0.1,
           0.03,
           0.12,
           0.78,
           0.73,
           0.11,
           -0.02,
           -0.06,
           0.1,
           1,
           0.07,
           0.67,
           0.15,
           -0.03,
           0.03,
           0.02,
           -0.1,
           0.08,
           0.08,
           0.26,
           0.11,
           -0.02,
           -0.01,
           0.03,
           0.05,
           0.17,
           0.03,
           -0.02,
           0.04,
           0.09
          ],
          [
           -0.07,
           -0.02,
           -0.02,
           -0.02,
           -0.02,
           -0.01,
           -0.02,
           -0.1,
           0.07,
           0.1,
           -0.03,
           0.11,
           0.13,
           0.08,
           -0.06,
           -0.08,
           0.05,
           0.26,
           0.13,
           0.12,
           0.1,
           0.05,
           0.01,
           0,
           0.01,
           0.09,
           0.06,
           0.05,
           0.24,
           0.03,
           0.08,
           0.18,
           0.07,
           1,
           0.07,
           -0.08,
           -0.03,
           0.01,
           0.05,
           -0.09,
           0.05,
           0.02,
           0.06,
           0.09,
           0,
           0.03,
           -0.01,
           0,
           0.21,
           0.27,
           0.01,
           0.04,
           0.19
          ],
          [
           -0.04,
           0.02,
           0.01,
           0.03,
           0.02,
           0.03,
           0.01,
           0.11,
           0.56,
           0.25,
           0.03,
           0.13,
           0.07,
           0.18,
           -0.04,
           -0.06,
           0.07,
           0.01,
           0.08,
           0.21,
           0.09,
           0.06,
           0.04,
           -0.1,
           0.04,
           0.05,
           0.67,
           0.73,
           0.11,
           -0.02,
           -0.05,
           0.07,
           0.67,
           0.07,
           1,
           0.22,
           -0.04,
           0.02,
           0.03,
           -0.08,
           0,
           0.07,
           0.22,
           0.12,
           0.01,
           0,
           0.06,
           0.08,
           0.1,
           0.01,
           -0.02,
           0.02,
           0.09
          ],
          [
           -0.05,
           -0.01,
           0,
           -0.03,
           -0.01,
           -0.01,
           0,
           0.08,
           0.08,
           0.09,
           0.07,
           0,
           -0.08,
           0.09,
           0,
           0,
           -0.04,
           -0.04,
           -0.07,
           0.05,
           -0.05,
           0.03,
           0.05,
           -0.06,
           0.05,
           -0.05,
           0.16,
           0.22,
           -0.01,
           0.01,
           -0.03,
           -0.11,
           0.15,
           -0.08,
           0.22,
           1,
           -0.01,
           0.01,
           -0.02,
           -0.01,
           -0.04,
           0.03,
           0.01,
           0.11,
           0.04,
           0.02,
           0.12,
           0.11,
           -0.07,
           -0.04,
           -0.01,
           -0.04,
           0.01
          ],
          [
           0.04,
           0,
           0,
           0,
           0,
           0.01,
           0,
           -0.02,
           -0.03,
           -0.02,
           0.02,
           -0.03,
           -0.04,
           -0.02,
           0.13,
           0.08,
           -0.02,
           0,
           -0.04,
           0,
           0.01,
           0.03,
           0.02,
           0.06,
           0,
           -0.02,
           -0.04,
           -0.04,
           0.01,
           -0.01,
           0,
           0.01,
           -0.03,
           -0.03,
           -0.04,
           -0.01,
           1,
           0,
           0.01,
           0.2,
           -0.02,
           0.01,
           0,
           0.02,
           0,
           -0.02,
           -0.02,
           -0.03,
           -0.03,
           0,
           0,
           -0.01,
           0.01
          ],
          [
           0,
           0.01,
           0,
           0.01,
           0.01,
           0,
           -0.01,
           0.01,
           0.03,
           0.02,
           0.01,
           0.02,
           0.01,
           0,
           -0.01,
           -0.01,
           0.02,
           0.01,
           0.02,
           0.01,
           0.01,
           -0.01,
           -0.01,
           -0.02,
           0,
           0.01,
           0.03,
           0.03,
           0.01,
           -0.01,
           0.02,
           0,
           0.03,
           0.01,
           0.02,
           0.01,
           0,
           1,
           0.01,
           -0.01,
           0,
           0.01,
           0,
           0.01,
           0,
           -0.01,
           -0.01,
           -0.01,
           0.02,
           0.01,
           0,
           -0.01,
           0
          ],
          [
           -0.01,
           -0.01,
           -0.01,
           -0.03,
           -0.02,
           0,
           -0.01,
           -0.02,
           0.05,
           0.03,
           -0.01,
           -0.01,
           0.06,
           0.01,
           0.02,
           0.16,
           0.04,
           0.05,
           0.02,
           0.01,
           0.19,
           0.02,
           0.04,
           0.05,
           0,
           0.03,
           0.01,
           0.03,
           0.03,
           0.02,
           0.04,
           0.06,
           0.02,
           0.05,
           0.03,
           -0.02,
           0.01,
           0.01,
           1,
           0.13,
           0.03,
           0.02,
           0.03,
           0.02,
           0.13,
           0.15,
           -0.05,
           -0.06,
           0.08,
           0.05,
           0.03,
           0.06,
           0.01
          ],
          [
           0.09,
           0.07,
           0.08,
           0.04,
           0.07,
           0.09,
           0.09,
           0.03,
           -0.1,
           -0.12,
           0.07,
           -0.08,
           -0.05,
           0.01,
           0.6,
           0.7,
           -0.07,
           -0.01,
           -0.14,
           0.01,
           0.01,
           0.1,
           0.16,
           0.18,
           -0.01,
           -0.09,
           -0.08,
           -0.1,
           0.04,
           -0.01,
           0.1,
           -0.02,
           -0.1,
           -0.09,
           -0.08,
           -0.01,
           0.2,
           -0.01,
           0.13,
           1,
           -0.05,
           0.06,
           0.04,
           0.06,
           0.08,
           0,
           -0.05,
           -0.06,
           -0.04,
           -0.01,
           -0.01,
           -0.04,
           0.05
          ],
          [
           -0.06,
           -0.03,
           -0.07,
           0.02,
           -0.07,
           -0.02,
           -0.03,
           -0.07,
           0.07,
           0.1,
           -0.02,
           0.05,
           0.14,
           -0.01,
           -0.02,
           -0.04,
           0.29,
           0.1,
           0.35,
           0.04,
           0.12,
           -0.02,
           -0.07,
           0.01,
           -0.01,
           0.49,
           0.08,
           0.06,
           0.02,
           0.33,
           -0.04,
           0.05,
           0.08,
           0.05,
           0,
           -0.04,
           -0.02,
           0,
           0.03,
           -0.05,
           1,
           0.02,
           0.05,
           -0.04,
           -0.01,
           -0.01,
           -0.04,
           -0.02,
           0.08,
           0.1,
           0,
           0.12,
           0.02
          ],
          [
           0.06,
           0.04,
           0.06,
           0.05,
           0.06,
           0.08,
           0.05,
           0.06,
           0.08,
           -0.01,
           0.1,
           0.08,
           0.03,
           0.22,
           0.04,
           0.07,
           0.03,
           0.06,
           0,
           0.13,
           0.08,
           0.32,
           0.4,
           0.1,
           -0.02,
           0.03,
           0.1,
           0.07,
           0.06,
           0.03,
           0.05,
           0.06,
           0.08,
           0.02,
           0.07,
           0.03,
           0.01,
           0.01,
           0.02,
           0.06,
           0.02,
           1,
           0.14,
           0.18,
           0.02,
           0.04,
           -0.03,
           -0.04,
           0.03,
           0.06,
           -0.01,
           0.09,
           0.06
          ],
          [
           0.09,
           0.1,
           0.08,
           0.13,
           0.09,
           0.12,
           0.09,
           0.18,
           0.25,
           0.07,
           0.09,
           0.09,
           0.04,
           0.18,
           0.02,
           0.04,
           0.06,
           0.09,
           0.07,
           0.41,
           0.15,
           0.14,
           0.18,
           0.09,
           0.02,
           0.09,
           0.3,
           0.27,
           0.18,
           0.05,
           0.04,
           0.17,
           0.26,
           0.06,
           0.22,
           0.01,
           0,
           0,
           0.03,
           0.04,
           0.05,
           0.14,
           1,
           0.2,
           0.01,
           0.03,
           -0.06,
           -0.03,
           0.12,
           0.09,
           -0.03,
           0.06,
           0.18
          ],
          [
           0.05,
           0.09,
           0.08,
           0.08,
           0.1,
           0.1,
           0.09,
           0.09,
           0.07,
           0,
           0.04,
           0.08,
           -0.01,
           0.6,
           0.04,
           0.04,
           -0.07,
           0.07,
           -0.05,
           0.29,
           0.06,
           0.41,
           0.31,
           0.11,
           -0.01,
           -0.07,
           0.11,
           0.13,
           0.18,
           0.03,
           0.05,
           0.11,
           0.11,
           0.09,
           0.12,
           0.11,
           0.02,
           0.01,
           0.02,
           0.06,
           -0.04,
           0.18,
           0.2,
           1,
           0.01,
           0.02,
           -0.03,
           -0.06,
           0.07,
           0.07,
           -0.05,
           0.05,
           0.18
          ],
          [
           -0.01,
           -0.02,
           -0.01,
           -0.06,
           0,
           -0.02,
           -0.02,
           0.01,
           0.01,
           0,
           0.07,
           -0.02,
           -0.05,
           -0.02,
           0.07,
           0.04,
           -0.02,
           0.02,
           -0.02,
           0,
           0.01,
           0.01,
           0.05,
           0.04,
           -0.01,
           -0.02,
           -0.01,
           0,
           -0.03,
           0.03,
           -0.01,
           -0.03,
           -0.02,
           0,
           0.01,
           0.04,
           0,
           0,
           0.13,
           0.08,
           -0.01,
           0.02,
           0.01,
           0.01,
           1,
           0.12,
           0.01,
           0,
           -0.04,
           0.02,
           0,
           0.01,
           -0.01
          ],
          [
           0,
           -0.03,
           -0.01,
           -0.02,
           0,
           0.01,
           0,
           -0.02,
           0,
           0,
           0.04,
           0.02,
           0.04,
           0,
           0.03,
           -0.01,
           0.01,
           0.05,
           0,
           0.01,
           0.09,
           0.05,
           0.09,
           0.02,
           -0.01,
           0.01,
           -0.01,
           -0.01,
           0.02,
           0.05,
           0.08,
           0.04,
           -0.01,
           0.03,
           0,
           0.02,
           -0.02,
           -0.01,
           0.15,
           0,
           -0.01,
           0.04,
           0.03,
           0.02,
           0.12,
           1,
           -0.01,
           -0.02,
           0.02,
           0.05,
           -0.01,
           0.08,
           0.02
          ],
          [
           -0.02,
           -0.02,
           0,
           -0.06,
           -0.01,
           -0.03,
           -0.03,
           -0.04,
           -0.04,
           0.12,
           0.01,
           0.02,
           -0.03,
           -0.02,
           -0.01,
           -0.06,
           -0.03,
           -0.05,
           -0.07,
           -0.05,
           -0.24,
           -0.05,
           -0.02,
           -0.11,
           0.01,
           -0.07,
           0.04,
           0.07,
           -0.02,
           -0.03,
           -0.05,
           -0.13,
           0.03,
           -0.01,
           0.06,
           0.12,
           -0.02,
           -0.01,
           -0.05,
           -0.05,
           -0.04,
           -0.03,
           -0.06,
           -0.03,
           0.01,
           -0.01,
           1,
           0.83,
           -0.05,
           -0.05,
           -0.01,
           -0.05,
           0.02
          ],
          [
           -0.01,
           -0.01,
           -0.02,
           -0.06,
           -0.02,
           -0.03,
           -0.04,
           -0.03,
           -0.02,
           0.15,
           0.01,
           0.02,
           -0.01,
           -0.03,
           -0.02,
           -0.06,
           -0.01,
           -0.03,
           -0.05,
           -0.02,
           -0.15,
           -0.06,
           -0.04,
           -0.12,
           0,
           -0.02,
           0.07,
           0.08,
           0,
           -0.03,
           -0.04,
           -0.11,
           0.05,
           0,
           0.08,
           0.11,
           -0.03,
           -0.01,
           -0.06,
           -0.06,
           -0.02,
           -0.04,
           -0.03,
           -0.06,
           0,
           -0.02,
           0.83,
           1,
           -0.05,
           -0.03,
           -0.01,
           -0.05,
           0.02
          ],
          [
           -0.03,
           0.05,
           0,
           0.09,
           0,
           0.06,
           0.03,
           -0.03,
           0.15,
           0.23,
           -0.06,
           0.1,
           0.4,
           0.08,
           -0.04,
           -0.02,
           0.1,
           0.15,
           0.15,
           0.12,
           0.17,
           0.06,
           0.01,
           0.02,
           0.02,
           0.15,
           0.13,
           0.09,
           0.17,
           -0.02,
           0.08,
           0.28,
           0.17,
           0.21,
           0.1,
           -0.07,
           -0.03,
           0.02,
           0.08,
           -0.04,
           0.08,
           0.03,
           0.12,
           0.07,
           -0.04,
           0.02,
           -0.05,
           -0.05,
           1,
           0.14,
           -0.01,
           0.08,
           0.17
          ],
          [
           -0.09,
           0.03,
           -0.01,
           0.04,
           0.01,
           0.07,
           0.03,
           -0.11,
           0.05,
           0.03,
           -0.03,
           0.1,
           0.1,
           0.03,
           0,
           -0.02,
           0.1,
           0.95,
           0.18,
           0.09,
           0.14,
           0.06,
           0.05,
           0.11,
           0,
           0.18,
           0.03,
           0.01,
           0.15,
           0.04,
           0.14,
           0.16,
           0.03,
           0.27,
           0.01,
           -0.04,
           0,
           0.01,
           0.05,
           -0.01,
           0.1,
           0.06,
           0.09,
           0.07,
           0.02,
           0.05,
           -0.05,
           -0.03,
           0.14,
           1,
           0.01,
           0.09,
           0.13
          ],
          [
           0,
           -0.02,
           -0.01,
           -0.02,
           -0.01,
           -0.01,
           -0.01,
           -0.01,
           -0.01,
           0,
           -0.01,
           -0.01,
           0.01,
           -0.03,
           -0.01,
           -0.01,
           -0.01,
           0.01,
           -0.01,
           -0.05,
           0.02,
           -0.02,
           -0.02,
           -0.01,
           0,
           -0.01,
           -0.02,
           -0.02,
           0.01,
           -0.01,
           0,
           -0.01,
           -0.02,
           0.01,
           -0.02,
           -0.01,
           0,
           0,
           0.03,
           -0.01,
           0,
           -0.01,
           -0.03,
           -0.05,
           0,
           -0.01,
           -0.01,
           -0.01,
           -0.01,
           0.01,
           1,
           -0.01,
           -0.02
          ],
          [
           -0.02,
           0.01,
           -0.01,
           0.02,
           -0.01,
           0.02,
           0.01,
           -0.01,
           0.03,
           0.03,
           -0.01,
           0.16,
           0.05,
           0.03,
           -0.01,
           -0.04,
           0.18,
           0.09,
           0.34,
           0.04,
           0.1,
           0.02,
           0.01,
           0.01,
           -0.01,
           0.24,
           0.03,
           0.03,
           0.04,
           0.06,
           -0.03,
           0.08,
           0.04,
           0.04,
           0.02,
           -0.04,
           -0.01,
           -0.01,
           0.06,
           -0.04,
           0.12,
           0.09,
           0.06,
           0.05,
           0.01,
           0.08,
           -0.05,
           -0.05,
           0.08,
           0.09,
           -0.01,
           1,
           0
          ],
          [
           0.07,
           0.06,
           0.05,
           0.08,
           0.06,
           0.09,
           0.07,
           0.04,
           0.09,
           0.06,
           0.03,
           0.04,
           0.13,
           0.12,
           0.04,
           0.04,
           0.02,
           0.12,
           0.01,
           0.19,
           0.1,
           0.1,
           0.07,
           0.09,
           0.01,
           0.02,
           0.1,
           0.08,
           0.3,
           0.01,
           0.05,
           0.25,
           0.09,
           0.19,
           0.09,
           0.01,
           0.01,
           0,
           0.01,
           0.05,
           0.02,
           0.06,
           0.18,
           0.18,
           -0.01,
           0.02,
           0.02,
           0.02,
           0.17,
           0.13,
           -0.02,
           0,
           1
          ]
         ]
        }
       ],
       "layout": {
        "autosize": true,
        "template": {
         "data": {
          "bar": [
           {
            "error_x": {
             "color": "#2a3f5f"
            },
            "error_y": {
             "color": "#2a3f5f"
            },
            "marker": {
             "line": {
              "color": "#E5ECF6",
              "width": 0.5
             }
            },
            "type": "bar"
           }
          ],
          "barpolar": [
           {
            "marker": {
             "line": {
              "color": "#E5ECF6",
              "width": 0.5
             }
            },
            "type": "barpolar"
           }
          ],
          "carpet": [
           {
            "aaxis": {
             "endlinecolor": "#2a3f5f",
             "gridcolor": "white",
             "linecolor": "white",
             "minorgridcolor": "white",
             "startlinecolor": "#2a3f5f"
            },
            "baxis": {
             "endlinecolor": "#2a3f5f",
             "gridcolor": "white",
             "linecolor": "white",
             "minorgridcolor": "white",
             "startlinecolor": "#2a3f5f"
            },
            "type": "carpet"
           }
          ],
          "choropleth": [
           {
            "colorbar": {
             "outlinewidth": 0,
             "ticks": ""
            },
            "type": "choropleth"
           }
          ],
          "contour": [
           {
            "colorbar": {
             "outlinewidth": 0,
             "ticks": ""
            },
            "colorscale": [
             [
              0,
              "#0d0887"
             ],
             [
              0.1111111111111111,
              "#46039f"
             ],
             [
              0.2222222222222222,
              "#7201a8"
             ],
             [
              0.3333333333333333,
              "#9c179e"
             ],
             [
              0.4444444444444444,
              "#bd3786"
             ],
             [
              0.5555555555555556,
              "#d8576b"
             ],
             [
              0.6666666666666666,
              "#ed7953"
             ],
             [
              0.7777777777777778,
              "#fb9f3a"
             ],
             [
              0.8888888888888888,
              "#fdca26"
             ],
             [
              1,
              "#f0f921"
             ]
            ],
            "type": "contour"
           }
          ],
          "contourcarpet": [
           {
            "colorbar": {
             "outlinewidth": 0,
             "ticks": ""
            },
            "type": "contourcarpet"
           }
          ],
          "heatmap": [
           {
            "colorbar": {
             "outlinewidth": 0,
             "ticks": ""
            },
            "colorscale": [
             [
              0,
              "#0d0887"
             ],
             [
              0.1111111111111111,
              "#46039f"
             ],
             [
              0.2222222222222222,
              "#7201a8"
             ],
             [
              0.3333333333333333,
              "#9c179e"
             ],
             [
              0.4444444444444444,
              "#bd3786"
             ],
             [
              0.5555555555555556,
              "#d8576b"
             ],
             [
              0.6666666666666666,
              "#ed7953"
             ],
             [
              0.7777777777777778,
              "#fb9f3a"
             ],
             [
              0.8888888888888888,
              "#fdca26"
             ],
             [
              1,
              "#f0f921"
             ]
            ],
            "type": "heatmap"
           }
          ],
          "heatmapgl": [
           {
            "colorbar": {
             "outlinewidth": 0,
             "ticks": ""
            },
            "colorscale": [
             [
              0,
              "#0d0887"
             ],
             [
              0.1111111111111111,
              "#46039f"
             ],
             [
              0.2222222222222222,
              "#7201a8"
             ],
             [
              0.3333333333333333,
              "#9c179e"
             ],
             [
              0.4444444444444444,
              "#bd3786"
             ],
             [
              0.5555555555555556,
              "#d8576b"
             ],
             [
              0.6666666666666666,
              "#ed7953"
             ],
             [
              0.7777777777777778,
              "#fb9f3a"
             ],
             [
              0.8888888888888888,
              "#fdca26"
             ],
             [
              1,
              "#f0f921"
             ]
            ],
            "type": "heatmapgl"
           }
          ],
          "histogram": [
           {
            "marker": {
             "colorbar": {
              "outlinewidth": 0,
              "ticks": ""
             }
            },
            "type": "histogram"
           }
          ],
          "histogram2d": [
           {
            "colorbar": {
             "outlinewidth": 0,
             "ticks": ""
            },
            "colorscale": [
             [
              0,
              "#0d0887"
             ],
             [
              0.1111111111111111,
              "#46039f"
             ],
             [
              0.2222222222222222,
              "#7201a8"
             ],
             [
              0.3333333333333333,
              "#9c179e"
             ],
             [
              0.4444444444444444,
              "#bd3786"
             ],
             [
              0.5555555555555556,
              "#d8576b"
             ],
             [
              0.6666666666666666,
              "#ed7953"
             ],
             [
              0.7777777777777778,
              "#fb9f3a"
             ],
             [
              0.8888888888888888,
              "#fdca26"
             ],
             [
              1,
              "#f0f921"
             ]
            ],
            "type": "histogram2d"
           }
          ],
          "histogram2dcontour": [
           {
            "colorbar": {
             "outlinewidth": 0,
             "ticks": ""
            },
            "colorscale": [
             [
              0,
              "#0d0887"
             ],
             [
              0.1111111111111111,
              "#46039f"
             ],
             [
              0.2222222222222222,
              "#7201a8"
             ],
             [
              0.3333333333333333,
              "#9c179e"
             ],
             [
              0.4444444444444444,
              "#bd3786"
             ],
             [
              0.5555555555555556,
              "#d8576b"
             ],
             [
              0.6666666666666666,
              "#ed7953"
             ],
             [
              0.7777777777777778,
              "#fb9f3a"
             ],
             [
              0.8888888888888888,
              "#fdca26"
             ],
             [
              1,
              "#f0f921"
             ]
            ],
            "type": "histogram2dcontour"
           }
          ],
          "mesh3d": [
           {
            "colorbar": {
             "outlinewidth": 0,
             "ticks": ""
            },
            "type": "mesh3d"
           }
          ],
          "parcoords": [
           {
            "line": {
             "colorbar": {
              "outlinewidth": 0,
              "ticks": ""
             }
            },
            "type": "parcoords"
           }
          ],
          "pie": [
           {
            "automargin": true,
            "type": "pie"
           }
          ],
          "scatter": [
           {
            "marker": {
             "colorbar": {
              "outlinewidth": 0,
              "ticks": ""
             }
            },
            "type": "scatter"
           }
          ],
          "scatter3d": [
           {
            "line": {
             "colorbar": {
              "outlinewidth": 0,
              "ticks": ""
             }
            },
            "marker": {
             "colorbar": {
              "outlinewidth": 0,
              "ticks": ""
             }
            },
            "type": "scatter3d"
           }
          ],
          "scattercarpet": [
           {
            "marker": {
             "colorbar": {
              "outlinewidth": 0,
              "ticks": ""
             }
            },
            "type": "scattercarpet"
           }
          ],
          "scattergeo": [
           {
            "marker": {
             "colorbar": {
              "outlinewidth": 0,
              "ticks": ""
             }
            },
            "type": "scattergeo"
           }
          ],
          "scattergl": [
           {
            "marker": {
             "colorbar": {
              "outlinewidth": 0,
              "ticks": ""
             }
            },
            "type": "scattergl"
           }
          ],
          "scattermapbox": [
           {
            "marker": {
             "colorbar": {
              "outlinewidth": 0,
              "ticks": ""
             }
            },
            "type": "scattermapbox"
           }
          ],
          "scatterpolar": [
           {
            "marker": {
             "colorbar": {
              "outlinewidth": 0,
              "ticks": ""
             }
            },
            "type": "scatterpolar"
           }
          ],
          "scatterpolargl": [
           {
            "marker": {
             "colorbar": {
              "outlinewidth": 0,
              "ticks": ""
             }
            },
            "type": "scatterpolargl"
           }
          ],
          "scatterternary": [
           {
            "marker": {
             "colorbar": {
              "outlinewidth": 0,
              "ticks": ""
             }
            },
            "type": "scatterternary"
           }
          ],
          "surface": [
           {
            "colorbar": {
             "outlinewidth": 0,
             "ticks": ""
            },
            "colorscale": [
             [
              0,
              "#0d0887"
             ],
             [
              0.1111111111111111,
              "#46039f"
             ],
             [
              0.2222222222222222,
              "#7201a8"
             ],
             [
              0.3333333333333333,
              "#9c179e"
             ],
             [
              0.4444444444444444,
              "#bd3786"
             ],
             [
              0.5555555555555556,
              "#d8576b"
             ],
             [
              0.6666666666666666,
              "#ed7953"
             ],
             [
              0.7777777777777778,
              "#fb9f3a"
             ],
             [
              0.8888888888888888,
              "#fdca26"
             ],
             [
              1,
              "#f0f921"
             ]
            ],
            "type": "surface"
           }
          ],
          "table": [
           {
            "cells": {
             "fill": {
              "color": "#EBF0F8"
             },
             "line": {
              "color": "white"
             }
            },
            "header": {
             "fill": {
              "color": "#C8D4E3"
             },
             "line": {
              "color": "white"
             }
            },
            "type": "table"
           }
          ]
         },
         "layout": {
          "annotationdefaults": {
           "arrowcolor": "#2a3f5f",
           "arrowhead": 0,
           "arrowwidth": 1
          },
          "coloraxis": {
           "colorbar": {
            "outlinewidth": 0,
            "ticks": ""
           }
          },
          "colorscale": {
           "diverging": [
            [
             0,
             "#8e0152"
            ],
            [
             0.1,
             "#c51b7d"
            ],
            [
             0.2,
             "#de77ae"
            ],
            [
             0.3,
             "#f1b6da"
            ],
            [
             0.4,
             "#fde0ef"
            ],
            [
             0.5,
             "#f7f7f7"
            ],
            [
             0.6,
             "#e6f5d0"
            ],
            [
             0.7,
             "#b8e186"
            ],
            [
             0.8,
             "#7fbc41"
            ],
            [
             0.9,
             "#4d9221"
            ],
            [
             1,
             "#276419"
            ]
           ],
           "sequential": [
            [
             0,
             "#0d0887"
            ],
            [
             0.1111111111111111,
             "#46039f"
            ],
            [
             0.2222222222222222,
             "#7201a8"
            ],
            [
             0.3333333333333333,
             "#9c179e"
            ],
            [
             0.4444444444444444,
             "#bd3786"
            ],
            [
             0.5555555555555556,
             "#d8576b"
            ],
            [
             0.6666666666666666,
             "#ed7953"
            ],
            [
             0.7777777777777778,
             "#fb9f3a"
            ],
            [
             0.8888888888888888,
             "#fdca26"
            ],
            [
             1,
             "#f0f921"
            ]
           ],
           "sequentialminus": [
            [
             0,
             "#0d0887"
            ],
            [
             0.1111111111111111,
             "#46039f"
            ],
            [
             0.2222222222222222,
             "#7201a8"
            ],
            [
             0.3333333333333333,
             "#9c179e"
            ],
            [
             0.4444444444444444,
             "#bd3786"
            ],
            [
             0.5555555555555556,
             "#d8576b"
            ],
            [
             0.6666666666666666,
             "#ed7953"
            ],
            [
             0.7777777777777778,
             "#fb9f3a"
            ],
            [
             0.8888888888888888,
             "#fdca26"
            ],
            [
             1,
             "#f0f921"
            ]
           ]
          },
          "colorway": [
           "#636efa",
           "#EF553B",
           "#00cc96",
           "#ab63fa",
           "#FFA15A",
           "#19d3f3",
           "#FF6692",
           "#B6E880",
           "#FF97FF",
           "#FECB52"
          ],
          "font": {
           "color": "#2a3f5f"
          },
          "geo": {
           "bgcolor": "white",
           "lakecolor": "white",
           "landcolor": "#E5ECF6",
           "showlakes": true,
           "showland": true,
           "subunitcolor": "white"
          },
          "hoverlabel": {
           "align": "left"
          },
          "hovermode": "closest",
          "mapbox": {
           "style": "light"
          },
          "paper_bgcolor": "white",
          "plot_bgcolor": "#E5ECF6",
          "polar": {
           "angularaxis": {
            "gridcolor": "white",
            "linecolor": "white",
            "ticks": ""
           },
           "bgcolor": "#E5ECF6",
           "radialaxis": {
            "gridcolor": "white",
            "linecolor": "white",
            "ticks": ""
           }
          },
          "scene": {
           "xaxis": {
            "backgroundcolor": "#E5ECF6",
            "gridcolor": "white",
            "gridwidth": 2,
            "linecolor": "white",
            "showbackground": true,
            "ticks": "",
            "zerolinecolor": "white"
           },
           "yaxis": {
            "backgroundcolor": "#E5ECF6",
            "gridcolor": "white",
            "gridwidth": 2,
            "linecolor": "white",
            "showbackground": true,
            "ticks": "",
            "zerolinecolor": "white"
           },
           "zaxis": {
            "backgroundcolor": "#E5ECF6",
            "gridcolor": "white",
            "gridwidth": 2,
            "linecolor": "white",
            "showbackground": true,
            "ticks": "",
            "zerolinecolor": "white"
           }
          },
          "shapedefaults": {
           "line": {
            "color": "#2a3f5f"
           }
          },
          "ternary": {
           "aaxis": {
            "gridcolor": "white",
            "linecolor": "white",
            "ticks": ""
           },
           "baxis": {
            "gridcolor": "white",
            "linecolor": "white",
            "ticks": ""
           },
           "bgcolor": "#E5ECF6",
           "caxis": {
            "gridcolor": "white",
            "linecolor": "white",
            "ticks": ""
           }
          },
          "title": {
           "x": 0.05
          },
          "xaxis": {
           "automargin": true,
           "gridcolor": "white",
           "linecolor": "white",
           "ticks": "",
           "title": {
            "standoff": 15
           },
           "zerolinecolor": "white",
           "zerolinewidth": 2
          },
          "yaxis": {
           "automargin": true,
           "gridcolor": "white",
           "linecolor": "white",
           "ticks": "",
           "title": {
            "standoff": 15
           },
           "zerolinecolor": "white",
           "zerolinewidth": 2
          }
         }
        },
        "title": {
         "text": "Correlation Matrix of amenities and reviews variables"
        }
       }
      },
      "text/html": [
       "<div>\n",
       "        \n",
       "        \n",
       "            <div id=\"b0a62096-f23c-4a97-96ed-c4c8bbe87854\" class=\"plotly-graph-div\" style=\"height:525px; width:100%;\"></div>\n",
       "            <script type=\"text/javascript\">\n",
       "                require([\"plotly\"], function(Plotly) {\n",
       "                    window.PLOTLYENV=window.PLOTLYENV || {};\n",
       "                    \n",
       "                if (document.getElementById(\"b0a62096-f23c-4a97-96ed-c4c8bbe87854\")) {\n",
       "                    Plotly.newPlot(\n",
       "                        'b0a62096-f23c-4a97-96ed-c4c8bbe87854',\n",
       "                        [{\"colorscale\": [[0.0, \"#440154\"], [0.1111111111111111, \"#482878\"], [0.2222222222222222, \"#3e4989\"], [0.3333333333333333, \"#31688e\"], [0.4444444444444444, \"#26828e\"], [0.5555555555555556, \"#1f9e89\"], [0.6666666666666666, \"#35b779\"], [0.7777777777777778, \"#6ece58\"], [0.8888888888888888, \"#b5de2b\"], [1.0, \"#fde725\"]], \"type\": \"heatmap\", \"x\": [\"number_of_reviews\", \"review_scores_accuracy\", \"review_scores_checkin\", \"review_scores_cleanliness\", \"review_scores_communication\", \"review_scores_rating\", \"review_scores_value\", \"reviews_per_month\", \"amenities_24-hour_check-in\", \"amenities_air_conditioning\", \"amenities_breakfast\", \"amenities_buzzer/wireless_intercom\", \"amenities_cable_tv\", \"amenities_carbon_monoxide_detector\", \"amenities_cat(s)\", \"amenities_dog(s)\", \"amenities_doorman\", \"amenities_dryer\", \"amenities_elevator_in_building\", \"amenities_essentials\", \"amenities_family/kid_friendly\", \"amenities_fire_extinguisher\", \"amenities_first_aid_kit\", \"amenities_free_parking_on_premises\", \"amenities_free_parking_on_street\", \"amenities_gym\", \"amenities_hair_dryer\", \"amenities_hangers\", \"amenities_heating\", \"amenities_hot_tub\", \"amenities_indoor_fireplace\", \"amenities_internet\", \"amenities_iron\", \"amenities_kitchen\", \"amenities_laptop_friendly_workspace\", \"amenities_lock_on_bedroom_door\", \"amenities_other_pet(s)\", \"amenities_paid_parking_off_premises\", \"amenities_pets_allowed\", \"amenities_pets_live_on_this_property\", \"amenities_pool\", \"amenities_safety_card\", \"amenities_shampoo\", \"amenities_smoke_detector\", \"amenities_smoking_allowed\", \"amenities_suitable_for_events\", \"amenities_translation_missing:_en.hosting_amenity_49\", \"amenities_translation_missing:_en.hosting_amenity_50\", \"amenities_tv\", \"amenities_washer\", \"amenities_washer_/_dryer\", \"amenities_wheelchair_accessible\", \"amenities_wireless_internet\"], \"y\": [\"number_of_reviews\", \"review_scores_accuracy\", \"review_scores_checkin\", \"review_scores_cleanliness\", \"review_scores_communication\", \"review_scores_rating\", \"review_scores_value\", \"reviews_per_month\", \"amenities_24-hour_check-in\", \"amenities_air_conditioning\", \"amenities_breakfast\", \"amenities_buzzer/wireless_intercom\", \"amenities_cable_tv\", \"amenities_carbon_monoxide_detector\", \"amenities_cat(s)\", \"amenities_dog(s)\", \"amenities_doorman\", \"amenities_dryer\", \"amenities_elevator_in_building\", \"amenities_essentials\", \"amenities_family/kid_friendly\", \"amenities_fire_extinguisher\", \"amenities_first_aid_kit\", \"amenities_free_parking_on_premises\", \"amenities_free_parking_on_street\", \"amenities_gym\", \"amenities_hair_dryer\", \"amenities_hangers\", \"amenities_heating\", \"amenities_hot_tub\", \"amenities_indoor_fireplace\", \"amenities_internet\", \"amenities_iron\", \"amenities_kitchen\", \"amenities_laptop_friendly_workspace\", \"amenities_lock_on_bedroom_door\", \"amenities_other_pet(s)\", \"amenities_paid_parking_off_premises\", \"amenities_pets_allowed\", \"amenities_pets_live_on_this_property\", \"amenities_pool\", \"amenities_safety_card\", \"amenities_shampoo\", \"amenities_smoke_detector\", \"amenities_smoking_allowed\", \"amenities_suitable_for_events\", \"amenities_translation_missing:_en.hosting_amenity_49\", \"amenities_translation_missing:_en.hosting_amenity_50\", \"amenities_tv\", \"amenities_washer\", \"amenities_washer_/_dryer\", \"amenities_wheelchair_accessible\", \"amenities_wireless_internet\"], \"z\": [[1.0, 0.05, 0.07, 0.04, 0.06, 0.03, 0.04, 0.51, 0.03, 0.01, 0.06, 0.01, 0.01, 0.05, 0.06, 0.08, -0.06, -0.09, -0.1, 0.03, 0.0, 0.06, 0.11, 0.04, -0.0, -0.1, 0.02, -0.02, 0.07, -0.01, -0.01, 0.08, 0.01, -0.07, -0.04, -0.05, 0.04, 0.0, -0.01, 0.09, -0.06, 0.06, 0.09, 0.05, -0.01, 0.0, -0.02, -0.01, -0.03, -0.09, -0.0, -0.02, 0.07], [0.05, 1.0, 0.45, 0.61, 0.47, 0.68, 0.63, 0.13, 0.01, -0.03, 0.04, 0.0, -0.0, 0.08, 0.05, 0.06, -0.0, 0.04, -0.04, 0.08, -0.01, 0.1, 0.08, 0.09, 0.01, -0.05, 0.02, 0.02, 0.02, -0.03, 0.06, 0.01, 0.02, -0.02, 0.02, -0.01, 0.0, 0.01, -0.01, 0.07, -0.03, 0.04, 0.1, 0.09, -0.02, -0.03, -0.02, -0.01, 0.05, 0.03, -0.02, 0.01, 0.06], [0.07, 0.45, 1.0, 0.44, 0.68, 0.56, 0.47, 0.11, 0.01, -0.04, 0.03, 0.01, -0.03, 0.08, 0.06, 0.06, -0.04, -0.01, -0.08, 0.07, -0.0, 0.1, 0.11, 0.09, 0.01, -0.09, 0.02, 0.03, 0.02, -0.01, 0.05, 0.02, 0.02, -0.02, 0.01, 0.0, 0.0, -0.0, -0.01, 0.08, -0.07, 0.06, 0.08, 0.08, -0.01, -0.01, -0.0, -0.02, 0.0, -0.01, -0.01, -0.01, 0.05], [0.04, 0.61, 0.44, 1.0, 0.42, 0.72, 0.61, 0.12, 0.06, 0.02, 0.03, 0.0, 0.07, 0.09, 0.03, 0.04, 0.03, 0.04, 0.01, 0.12, 0.04, 0.12, 0.07, 0.09, 0.01, 0.02, 0.08, 0.05, 0.06, -0.01, 0.05, 0.03, 0.08, -0.02, 0.03, -0.03, -0.0, 0.01, -0.03, 0.04, 0.02, 0.05, 0.13, 0.08, -0.06, -0.02, -0.06, -0.06, 0.09, 0.04, -0.02, 0.02, 0.08], [0.06, 0.47, 0.68, 0.42, 1.0, 0.58, 0.51, 0.1, 0.02, -0.05, 0.04, 0.01, -0.05, 0.09, 0.06, 0.06, -0.04, 0.01, -0.06, 0.07, 0.0, 0.09, 0.11, 0.09, 0.0, -0.09, 0.02, 0.02, 0.02, -0.0, 0.06, 0.01, 0.01, -0.02, 0.02, -0.01, 0.0, 0.01, -0.02, 0.07, -0.07, 0.06, 0.09, 0.1, 0.0, -0.0, -0.01, -0.02, -0.0, 0.01, -0.01, -0.01, 0.06], [0.03, 0.68, 0.56, 0.72, 0.58, 1.0, 0.76, 0.08, 0.02, -0.01, 0.04, 0.0, 0.03, 0.09, 0.06, 0.06, 0.02, 0.07, -0.0, 0.11, 0.01, 0.13, 0.11, 0.1, 0.0, -0.02, 0.03, 0.02, 0.05, -0.01, 0.08, 0.03, 0.03, -0.01, 0.03, -0.01, 0.01, 0.0, -0.0, 0.09, -0.02, 0.08, 0.12, 0.1, -0.02, 0.01, -0.03, -0.03, 0.06, 0.07, -0.01, 0.02, 0.09], [0.04, 0.63, 0.47, 0.61, 0.51, 0.76, 1.0, 0.13, -0.0, -0.06, 0.06, -0.02, -0.01, 0.08, 0.06, 0.07, -0.01, 0.03, -0.05, 0.09, -0.02, 0.11, 0.1, 0.12, -0.0, -0.05, 0.01, 0.01, 0.02, -0.02, 0.06, 0.01, 0.0, -0.02, 0.01, -0.0, 0.0, -0.01, -0.01, 0.09, -0.03, 0.05, 0.09, 0.09, -0.02, -0.0, -0.03, -0.04, 0.03, 0.03, -0.01, 0.01, 0.07], [0.51, 0.13, 0.11, 0.12, 0.1, 0.08, 0.13, 1.0, 0.14, 0.03, 0.07, -0.01, -0.11, 0.1, 0.02, 0.03, -0.05, -0.11, -0.06, 0.15, -0.0, 0.06, 0.11, -0.01, 0.01, -0.07, 0.14, 0.14, 0.02, -0.03, -0.05, 0.02, 0.13, -0.1, 0.11, 0.08, -0.02, 0.01, -0.02, 0.03, -0.07, 0.06, 0.18, 0.09, 0.01, -0.02, -0.04, -0.03, -0.03, -0.11, -0.01, -0.01, 0.04], [0.03, 0.01, 0.01, 0.06, 0.02, 0.02, -0.0, 0.14, 1.0, 0.22, -0.02, 0.12, 0.16, 0.15, -0.06, -0.07, 0.16, 0.05, 0.11, 0.2, 0.14, 0.07, 0.04, -0.08, 0.03, 0.13, 0.58, 0.58, 0.09, -0.01, -0.06, 0.17, 0.57, 0.07, 0.56, 0.08, -0.03, 0.03, 0.05, -0.1, 0.07, 0.08, 0.25, 0.07, 0.01, 0.0, -0.04, -0.02, 0.15, 0.05, -0.01, 0.03, 0.09], [0.01, -0.03, -0.04, 0.02, -0.05, -0.01, -0.06, 0.03, 0.22, 1.0, 0.02, 0.16, 0.24, 0.07, -0.09, -0.09, 0.19, 0.03, 0.19, 0.06, 0.12, -0.02, -0.07, -0.23, 0.04, 0.18, 0.28, 0.26, 0.12, 0.01, -0.08, 0.1, 0.31, 0.1, 0.25, 0.09, -0.02, 0.02, 0.03, -0.12, 0.1, -0.01, 0.07, 0.0, -0.0, 0.0, 0.12, 0.15, 0.23, 0.03, 0.0, 0.03, 0.06], [0.06, 0.04, 0.03, 0.03, 0.04, 0.04, 0.06, 0.07, -0.02, 0.02, 1.0, -0.03, -0.06, 0.03, 0.06, 0.05, -0.03, -0.03, -0.07, 0.06, -0.02, 0.07, 0.13, 0.08, 0.0, -0.05, 0.04, 0.03, 0.03, 0.02, 0.04, -0.01, 0.04, -0.03, 0.03, 0.07, 0.02, 0.01, -0.01, 0.07, -0.02, 0.1, 0.09, 0.04, 0.07, 0.04, 0.01, 0.01, -0.06, -0.03, -0.01, -0.01, 0.03], [0.01, 0.0, 0.01, 0.0, 0.01, 0.0, -0.02, -0.01, 0.12, 0.16, -0.03, 1.0, 0.12, 0.07, -0.05, -0.03, 0.06, 0.1, 0.25, 0.08, 0.0, 0.01, 0.01, -0.15, 0.04, 0.11, 0.11, 0.12, 0.07, 0.04, -0.02, 0.16, 0.12, 0.11, 0.13, -0.0, -0.03, 0.02, -0.01, -0.08, 0.05, 0.08, 0.09, 0.08, -0.02, 0.02, 0.02, 0.02, 0.1, 0.1, -0.01, 0.16, 0.04], [0.01, -0.0, -0.03, 0.07, -0.05, 0.03, -0.01, -0.11, 0.16, 0.24, -0.06, 0.12, 1.0, 0.02, -0.03, 0.02, 0.15, 0.1, 0.13, 0.03, 0.16, 0.04, -0.04, -0.02, -0.03, 0.17, 0.11, 0.07, 0.12, 0.03, 0.08, 0.23, 0.15, 0.13, 0.07, -0.08, -0.04, 0.01, 0.06, -0.05, 0.14, 0.03, 0.04, -0.01, -0.05, 0.04, -0.03, -0.01, 0.4, 0.1, 0.01, 0.05, 0.13], [0.05, 0.08, 0.08, 0.09, 0.09, 0.09, 0.08, 0.1, 0.15, 0.07, 0.03, 0.07, 0.02, 1.0, 0.02, 0.0, -0.04, 0.03, -0.03, 0.25, 0.08, 0.34, 0.29, 0.05, 0.01, -0.02, 0.19, 0.19, 0.13, 0.02, 0.04, 0.11, 0.19, 0.08, 0.18, 0.09, -0.02, 0.0, 0.01, 0.01, -0.01, 0.22, 0.18, 0.6, -0.02, 0.0, -0.02, -0.03, 0.08, 0.03, -0.03, 0.03, 0.12], [0.06, 0.05, 0.06, 0.03, 0.06, 0.06, 0.06, 0.02, -0.06, -0.09, 0.06, -0.05, -0.03, 0.02, 1.0, 0.17, -0.04, -0.0, -0.08, 0.01, -0.02, 0.09, 0.11, 0.11, -0.01, -0.05, -0.05, -0.06, 0.03, -0.01, 0.03, -0.01, -0.06, -0.06, -0.04, -0.0, 0.13, -0.01, 0.02, 0.6, -0.02, 0.04, 0.02, 0.04, 0.07, 0.03, -0.01, -0.02, -0.04, -0.0, -0.01, -0.01, 0.04], [0.08, 0.06, 0.06, 0.04, 0.06, 0.06, 0.07, 0.03, -0.07, -0.09, 0.05, -0.03, 0.02, 0.0, 0.17, 1.0, -0.05, -0.02, -0.1, 0.02, 0.03, 0.07, 0.12, 0.14, -0.01, -0.05, -0.06, -0.07, 0.03, 0.01, 0.09, -0.01, -0.07, -0.08, -0.06, -0.0, 0.08, -0.01, 0.16, 0.7, -0.04, 0.07, 0.04, 0.04, 0.04, -0.01, -0.06, -0.06, -0.02, -0.02, -0.01, -0.04, 0.04], [-0.06, -0.0, -0.04, 0.03, -0.04, 0.02, -0.01, -0.05, 0.16, 0.19, -0.03, 0.06, 0.15, -0.04, -0.04, -0.05, 1.0, 0.11, 0.4, 0.05, 0.09, -0.05, -0.05, -0.13, -0.01, 0.44, 0.11, 0.09, 0.04, 0.03, -0.06, 0.09, 0.11, 0.05, 0.07, -0.04, -0.02, 0.02, 0.04, -0.07, 0.29, 0.03, 0.06, -0.07, -0.02, 0.01, -0.03, -0.01, 0.1, 0.1, -0.01, 0.18, 0.02], [-0.09, 0.04, -0.01, 0.04, 0.01, 0.07, 0.03, -0.11, 0.05, 0.03, -0.03, 0.1, 0.1, 0.03, -0.0, -0.02, 0.11, 1.0, 0.19, 0.09, 0.14, 0.06, 0.06, 0.12, 0.0, 0.18, 0.03, 0.02, 0.15, 0.05, 0.14, 0.15, 0.03, 0.26, 0.01, -0.04, 0.0, 0.01, 0.05, -0.01, 0.1, 0.06, 0.09, 0.07, 0.02, 0.05, -0.05, -0.03, 0.15, 0.95, 0.01, 0.09, 0.12], [-0.1, -0.04, -0.08, 0.01, -0.06, -0.0, -0.05, -0.06, 0.11, 0.19, -0.07, 0.25, 0.13, -0.03, -0.08, -0.1, 0.4, 0.19, 1.0, 0.07, 0.1, -0.12, -0.13, -0.19, -0.02, 0.58, 0.11, 0.1, 0.04, 0.11, -0.11, 0.11, 0.12, 0.13, 0.08, -0.07, -0.04, 0.02, 0.02, -0.14, 0.35, 0.0, 0.07, -0.05, -0.02, -0.0, -0.07, -0.05, 0.15, 0.18, -0.01, 0.34, 0.01], [0.03, 0.08, 0.07, 0.12, 0.07, 0.11, 0.09, 0.15, 0.2, 0.06, 0.06, 0.08, 0.03, 0.25, 0.01, 0.02, 0.05, 0.09, 0.07, 1.0, 0.1, 0.16, 0.17, 0.03, 0.0, 0.06, 0.22, 0.23, 0.22, 0.0, 0.01, 0.16, 0.21, 0.12, 0.21, 0.05, -0.0, 0.01, 0.01, 0.01, 0.04, 0.13, 0.41, 0.29, 0.0, 0.01, -0.05, -0.02, 0.12, 0.09, -0.05, 0.04, 0.19], [0.0, -0.01, -0.0, 0.04, 0.0, 0.01, -0.02, -0.0, 0.14, 0.12, -0.02, 0.0, 0.16, 0.08, -0.02, 0.03, 0.09, 0.14, 0.1, 0.1, 1.0, 0.09, 0.05, 0.13, 0.02, 0.16, 0.13, 0.11, 0.13, 0.07, 0.08, 0.14, 0.13, 0.1, 0.09, -0.05, 0.01, 0.01, 0.19, 0.01, 0.12, 0.08, 0.15, 0.06, 0.01, 0.09, -0.24, -0.15, 0.17, 0.14, 0.02, 0.1, 0.1], [0.06, 0.1, 0.1, 0.12, 0.09, 0.13, 0.11, 0.06, 0.07, -0.02, 0.07, 0.01, 0.04, 0.34, 0.09, 0.07, -0.05, 0.06, -0.12, 0.16, 0.09, 1.0, 0.39, 0.17, 0.01, -0.07, 0.1, 0.06, 0.11, 0.03, 0.1, 0.08, 0.09, 0.05, 0.06, 0.03, 0.03, -0.01, 0.02, 0.1, -0.02, 0.32, 0.14, 0.41, 0.01, 0.05, -0.05, -0.06, 0.06, 0.06, -0.02, 0.02, 0.1], [0.11, 0.08, 0.11, 0.07, 0.11, 0.11, 0.1, 0.11, 0.04, -0.07, 0.13, 0.01, -0.04, 0.29, 0.11, 0.12, -0.05, 0.06, -0.13, 0.17, 0.05, 0.39, 1.0, 0.16, -0.0, -0.11, 0.04, 0.02, 0.09, 0.0, 0.11, 0.08, 0.05, 0.01, 0.04, 0.05, 0.02, -0.01, 0.04, 0.16, -0.07, 0.4, 0.18, 0.31, 0.05, 0.09, -0.02, -0.04, 0.01, 0.05, -0.02, 0.01, 0.07], [0.04, 0.09, 0.09, 0.09, 0.09, 0.1, 0.12, -0.01, -0.08, -0.23, 0.08, -0.15, -0.02, 0.05, 0.11, 0.14, -0.13, 0.12, -0.19, 0.03, 0.13, 0.17, 0.16, 1.0, -0.03, -0.07, -0.1, -0.1, 0.1, 0.09, 0.18, 0.03, -0.1, 0.0, -0.1, -0.06, 0.06, -0.02, 0.05, 0.18, 0.01, 0.1, 0.09, 0.11, 0.04, 0.02, -0.11, -0.12, 0.02, 0.11, -0.01, 0.01, 0.09], [-0.0, 0.01, 0.01, 0.01, 0.0, 0.0, -0.0, 0.01, 0.03, 0.04, 0.0, 0.04, -0.03, 0.01, -0.01, -0.01, -0.01, 0.0, -0.02, 0.0, 0.02, 0.01, -0.0, -0.03, 1.0, -0.01, 0.05, 0.04, 0.01, -0.01, 0.04, -0.0, 0.03, 0.01, 0.04, 0.05, -0.0, -0.0, -0.0, -0.01, -0.01, -0.02, 0.02, -0.01, -0.01, -0.01, 0.01, 0.0, 0.02, 0.0, -0.0, -0.01, 0.01], [-0.1, -0.05, -0.09, 0.02, -0.09, -0.02, -0.05, -0.07, 0.13, 0.18, -0.05, 0.11, 0.17, -0.02, -0.05, -0.05, 0.44, 0.18, 0.58, 0.06, 0.16, -0.07, -0.11, -0.07, -0.01, 1.0, 0.12, 0.08, 0.03, 0.18, -0.06, 0.1, 0.12, 0.09, 0.05, -0.05, -0.02, 0.01, 0.03, -0.09, 0.49, 0.03, 0.09, -0.07, -0.02, 0.01, -0.07, -0.02, 0.15, 0.18, -0.01, 0.24, 0.02], [0.02, 0.02, 0.02, 0.08, 0.02, 0.03, 0.01, 0.14, 0.58, 0.28, 0.04, 0.11, 0.11, 0.19, -0.05, -0.06, 0.11, 0.03, 0.11, 0.22, 0.13, 0.1, 0.04, -0.1, 0.05, 0.12, 1.0, 0.74, 0.1, 0.01, -0.05, 0.1, 0.78, 0.06, 0.67, 0.16, -0.04, 0.03, 0.01, -0.08, 0.08, 0.1, 0.3, 0.11, -0.01, -0.01, 0.04, 0.07, 0.13, 0.03, -0.02, 0.03, 0.1], [-0.02, 0.02, 0.03, 0.05, 0.02, 0.02, 0.01, 0.14, 0.58, 0.26, 0.03, 0.12, 0.07, 0.19, -0.06, -0.07, 0.09, 0.02, 0.1, 0.23, 0.11, 0.06, 0.02, -0.1, 0.04, 0.08, 0.74, 1.0, 0.11, 0.01, -0.08, 0.06, 0.73, 0.05, 0.73, 0.22, -0.04, 0.03, 0.03, -0.1, 0.06, 0.07, 0.27, 0.13, -0.0, -0.01, 0.07, 0.08, 0.09, 0.01, -0.02, 0.03, 0.08], [0.07, 0.02, 0.02, 0.06, 0.02, 0.05, 0.02, 0.02, 0.09, 0.12, 0.03, 0.07, 0.12, 0.13, 0.03, 0.03, 0.04, 0.15, 0.04, 0.22, 0.13, 0.11, 0.09, 0.1, 0.01, 0.03, 0.1, 0.11, 1.0, 0.01, 0.06, 0.21, 0.11, 0.24, 0.11, -0.01, 0.01, 0.01, 0.03, 0.04, 0.02, 0.06, 0.18, 0.18, -0.03, 0.02, -0.02, -0.0, 0.17, 0.15, 0.01, 0.04, 0.3], [-0.01, -0.03, -0.01, -0.01, -0.0, -0.01, -0.02, -0.03, -0.01, 0.01, 0.02, 0.04, 0.03, 0.02, -0.01, 0.01, 0.03, 0.05, 0.11, 0.0, 0.07, 0.03, 0.0, 0.09, -0.01, 0.18, 0.01, 0.01, 0.01, 1.0, 0.07, -0.0, -0.02, 0.03, -0.02, 0.01, -0.01, -0.01, 0.02, -0.01, 0.33, 0.03, 0.05, 0.03, 0.03, 0.05, -0.03, -0.03, -0.02, 0.04, -0.01, 0.06, 0.01], [-0.01, 0.06, 0.05, 0.05, 0.06, 0.08, 0.06, -0.05, -0.06, -0.08, 0.04, -0.02, 0.08, 0.04, 0.03, 0.09, -0.06, 0.14, -0.11, 0.01, 0.08, 0.1, 0.11, 0.18, 0.04, -0.06, -0.05, -0.08, 0.06, 0.07, 1.0, 0.09, -0.06, 0.08, -0.05, -0.03, 0.0, 0.02, 0.04, 0.1, -0.04, 0.05, 0.04, 0.05, -0.01, 0.08, -0.05, -0.04, 0.08, 0.14, 0.0, -0.03, 0.05], [0.08, 0.01, 0.02, 0.03, 0.01, 0.03, 0.01, 0.02, 0.17, 0.1, -0.01, 0.16, 0.23, 0.11, -0.01, -0.01, 0.09, 0.15, 0.11, 0.16, 0.14, 0.08, 0.08, 0.03, -0.0, 0.1, 0.1, 0.06, 0.21, -0.0, 0.09, 1.0, 0.1, 0.18, 0.07, -0.11, 0.01, 0.0, 0.06, -0.02, 0.05, 0.06, 0.17, 0.11, -0.03, 0.04, -0.13, -0.11, 0.28, 0.16, -0.01, 0.08, 0.25], [0.01, 0.02, 0.02, 0.08, 0.01, 0.03, 0.0, 0.13, 0.57, 0.31, 0.04, 0.12, 0.15, 0.19, -0.06, -0.07, 0.11, 0.03, 0.12, 0.21, 0.13, 0.09, 0.05, -0.1, 0.03, 0.12, 0.78, 0.73, 0.11, -0.02, -0.06, 0.1, 1.0, 0.07, 0.67, 0.15, -0.03, 0.03, 0.02, -0.1, 0.08, 0.08, 0.26, 0.11, -0.02, -0.01, 0.03, 0.05, 0.17, 0.03, -0.02, 0.04, 0.09], [-0.07, -0.02, -0.02, -0.02, -0.02, -0.01, -0.02, -0.1, 0.07, 0.1, -0.03, 0.11, 0.13, 0.08, -0.06, -0.08, 0.05, 0.26, 0.13, 0.12, 0.1, 0.05, 0.01, 0.0, 0.01, 0.09, 0.06, 0.05, 0.24, 0.03, 0.08, 0.18, 0.07, 1.0, 0.07, -0.08, -0.03, 0.01, 0.05, -0.09, 0.05, 0.02, 0.06, 0.09, 0.0, 0.03, -0.01, 0.0, 0.21, 0.27, 0.01, 0.04, 0.19], [-0.04, 0.02, 0.01, 0.03, 0.02, 0.03, 0.01, 0.11, 0.56, 0.25, 0.03, 0.13, 0.07, 0.18, -0.04, -0.06, 0.07, 0.01, 0.08, 0.21, 0.09, 0.06, 0.04, -0.1, 0.04, 0.05, 0.67, 0.73, 0.11, -0.02, -0.05, 0.07, 0.67, 0.07, 1.0, 0.22, -0.04, 0.02, 0.03, -0.08, 0.0, 0.07, 0.22, 0.12, 0.01, -0.0, 0.06, 0.08, 0.1, 0.01, -0.02, 0.02, 0.09], [-0.05, -0.01, 0.0, -0.03, -0.01, -0.01, -0.0, 0.08, 0.08, 0.09, 0.07, -0.0, -0.08, 0.09, -0.0, -0.0, -0.04, -0.04, -0.07, 0.05, -0.05, 0.03, 0.05, -0.06, 0.05, -0.05, 0.16, 0.22, -0.01, 0.01, -0.03, -0.11, 0.15, -0.08, 0.22, 1.0, -0.01, 0.01, -0.02, -0.01, -0.04, 0.03, 0.01, 0.11, 0.04, 0.02, 0.12, 0.11, -0.07, -0.04, -0.01, -0.04, 0.01], [0.04, 0.0, 0.0, -0.0, 0.0, 0.01, 0.0, -0.02, -0.03, -0.02, 0.02, -0.03, -0.04, -0.02, 0.13, 0.08, -0.02, 0.0, -0.04, -0.0, 0.01, 0.03, 0.02, 0.06, -0.0, -0.02, -0.04, -0.04, 0.01, -0.01, 0.0, 0.01, -0.03, -0.03, -0.04, -0.01, 1.0, -0.0, 0.01, 0.2, -0.02, 0.01, -0.0, 0.02, 0.0, -0.02, -0.02, -0.03, -0.03, 0.0, -0.0, -0.01, 0.01], [0.0, 0.01, -0.0, 0.01, 0.01, 0.0, -0.01, 0.01, 0.03, 0.02, 0.01, 0.02, 0.01, 0.0, -0.01, -0.01, 0.02, 0.01, 0.02, 0.01, 0.01, -0.01, -0.01, -0.02, -0.0, 0.01, 0.03, 0.03, 0.01, -0.01, 0.02, 0.0, 0.03, 0.01, 0.02, 0.01, -0.0, 1.0, 0.01, -0.01, -0.0, 0.01, 0.0, 0.01, -0.0, -0.01, -0.01, -0.01, 0.02, 0.01, -0.0, -0.01, 0.0], [-0.01, -0.01, -0.01, -0.03, -0.02, -0.0, -0.01, -0.02, 0.05, 0.03, -0.01, -0.01, 0.06, 0.01, 0.02, 0.16, 0.04, 0.05, 0.02, 0.01, 0.19, 0.02, 0.04, 0.05, -0.0, 0.03, 0.01, 0.03, 0.03, 0.02, 0.04, 0.06, 0.02, 0.05, 0.03, -0.02, 0.01, 0.01, 1.0, 0.13, 0.03, 0.02, 0.03, 0.02, 0.13, 0.15, -0.05, -0.06, 0.08, 0.05, 0.03, 0.06, 0.01], [0.09, 0.07, 0.08, 0.04, 0.07, 0.09, 0.09, 0.03, -0.1, -0.12, 0.07, -0.08, -0.05, 0.01, 0.6, 0.7, -0.07, -0.01, -0.14, 0.01, 0.01, 0.1, 0.16, 0.18, -0.01, -0.09, -0.08, -0.1, 0.04, -0.01, 0.1, -0.02, -0.1, -0.09, -0.08, -0.01, 0.2, -0.01, 0.13, 1.0, -0.05, 0.06, 0.04, 0.06, 0.08, 0.0, -0.05, -0.06, -0.04, -0.01, -0.01, -0.04, 0.05], [-0.06, -0.03, -0.07, 0.02, -0.07, -0.02, -0.03, -0.07, 0.07, 0.1, -0.02, 0.05, 0.14, -0.01, -0.02, -0.04, 0.29, 0.1, 0.35, 0.04, 0.12, -0.02, -0.07, 0.01, -0.01, 0.49, 0.08, 0.06, 0.02, 0.33, -0.04, 0.05, 0.08, 0.05, 0.0, -0.04, -0.02, -0.0, 0.03, -0.05, 1.0, 0.02, 0.05, -0.04, -0.01, -0.01, -0.04, -0.02, 0.08, 0.1, -0.0, 0.12, 0.02], [0.06, 0.04, 0.06, 0.05, 0.06, 0.08, 0.05, 0.06, 0.08, -0.01, 0.1, 0.08, 0.03, 0.22, 0.04, 0.07, 0.03, 0.06, 0.0, 0.13, 0.08, 0.32, 0.4, 0.1, -0.02, 0.03, 0.1, 0.07, 0.06, 0.03, 0.05, 0.06, 0.08, 0.02, 0.07, 0.03, 0.01, 0.01, 0.02, 0.06, 0.02, 1.0, 0.14, 0.18, 0.02, 0.04, -0.03, -0.04, 0.03, 0.06, -0.01, 0.09, 0.06], [0.09, 0.1, 0.08, 0.13, 0.09, 0.12, 0.09, 0.18, 0.25, 0.07, 0.09, 0.09, 0.04, 0.18, 0.02, 0.04, 0.06, 0.09, 0.07, 0.41, 0.15, 0.14, 0.18, 0.09, 0.02, 0.09, 0.3, 0.27, 0.18, 0.05, 0.04, 0.17, 0.26, 0.06, 0.22, 0.01, -0.0, 0.0, 0.03, 0.04, 0.05, 0.14, 1.0, 0.2, 0.01, 0.03, -0.06, -0.03, 0.12, 0.09, -0.03, 0.06, 0.18], [0.05, 0.09, 0.08, 0.08, 0.1, 0.1, 0.09, 0.09, 0.07, 0.0, 0.04, 0.08, -0.01, 0.6, 0.04, 0.04, -0.07, 0.07, -0.05, 0.29, 0.06, 0.41, 0.31, 0.11, -0.01, -0.07, 0.11, 0.13, 0.18, 0.03, 0.05, 0.11, 0.11, 0.09, 0.12, 0.11, 0.02, 0.01, 0.02, 0.06, -0.04, 0.18, 0.2, 1.0, 0.01, 0.02, -0.03, -0.06, 0.07, 0.07, -0.05, 0.05, 0.18], [-0.01, -0.02, -0.01, -0.06, 0.0, -0.02, -0.02, 0.01, 0.01, -0.0, 0.07, -0.02, -0.05, -0.02, 0.07, 0.04, -0.02, 0.02, -0.02, 0.0, 0.01, 0.01, 0.05, 0.04, -0.01, -0.02, -0.01, -0.0, -0.03, 0.03, -0.01, -0.03, -0.02, 0.0, 0.01, 0.04, 0.0, -0.0, 0.13, 0.08, -0.01, 0.02, 0.01, 0.01, 1.0, 0.12, 0.01, -0.0, -0.04, 0.02, -0.0, 0.01, -0.01], [0.0, -0.03, -0.01, -0.02, -0.0, 0.01, -0.0, -0.02, 0.0, 0.0, 0.04, 0.02, 0.04, 0.0, 0.03, -0.01, 0.01, 0.05, -0.0, 0.01, 0.09, 0.05, 0.09, 0.02, -0.01, 0.01, -0.01, -0.01, 0.02, 0.05, 0.08, 0.04, -0.01, 0.03, -0.0, 0.02, -0.02, -0.01, 0.15, 0.0, -0.01, 0.04, 0.03, 0.02, 0.12, 1.0, -0.01, -0.02, 0.02, 0.05, -0.01, 0.08, 0.02], [-0.02, -0.02, -0.0, -0.06, -0.01, -0.03, -0.03, -0.04, -0.04, 0.12, 0.01, 0.02, -0.03, -0.02, -0.01, -0.06, -0.03, -0.05, -0.07, -0.05, -0.24, -0.05, -0.02, -0.11, 0.01, -0.07, 0.04, 0.07, -0.02, -0.03, -0.05, -0.13, 0.03, -0.01, 0.06, 0.12, -0.02, -0.01, -0.05, -0.05, -0.04, -0.03, -0.06, -0.03, 0.01, -0.01, 1.0, 0.83, -0.05, -0.05, -0.01, -0.05, 0.02], [-0.01, -0.01, -0.02, -0.06, -0.02, -0.03, -0.04, -0.03, -0.02, 0.15, 0.01, 0.02, -0.01, -0.03, -0.02, -0.06, -0.01, -0.03, -0.05, -0.02, -0.15, -0.06, -0.04, -0.12, 0.0, -0.02, 0.07, 0.08, -0.0, -0.03, -0.04, -0.11, 0.05, 0.0, 0.08, 0.11, -0.03, -0.01, -0.06, -0.06, -0.02, -0.04, -0.03, -0.06, -0.0, -0.02, 0.83, 1.0, -0.05, -0.03, -0.01, -0.05, 0.02], [-0.03, 0.05, 0.0, 0.09, -0.0, 0.06, 0.03, -0.03, 0.15, 0.23, -0.06, 0.1, 0.4, 0.08, -0.04, -0.02, 0.1, 0.15, 0.15, 0.12, 0.17, 0.06, 0.01, 0.02, 0.02, 0.15, 0.13, 0.09, 0.17, -0.02, 0.08, 0.28, 0.17, 0.21, 0.1, -0.07, -0.03, 0.02, 0.08, -0.04, 0.08, 0.03, 0.12, 0.07, -0.04, 0.02, -0.05, -0.05, 1.0, 0.14, -0.01, 0.08, 0.17], [-0.09, 0.03, -0.01, 0.04, 0.01, 0.07, 0.03, -0.11, 0.05, 0.03, -0.03, 0.1, 0.1, 0.03, -0.0, -0.02, 0.1, 0.95, 0.18, 0.09, 0.14, 0.06, 0.05, 0.11, 0.0, 0.18, 0.03, 0.01, 0.15, 0.04, 0.14, 0.16, 0.03, 0.27, 0.01, -0.04, 0.0, 0.01, 0.05, -0.01, 0.1, 0.06, 0.09, 0.07, 0.02, 0.05, -0.05, -0.03, 0.14, 1.0, 0.01, 0.09, 0.13], [-0.0, -0.02, -0.01, -0.02, -0.01, -0.01, -0.01, -0.01, -0.01, 0.0, -0.01, -0.01, 0.01, -0.03, -0.01, -0.01, -0.01, 0.01, -0.01, -0.05, 0.02, -0.02, -0.02, -0.01, -0.0, -0.01, -0.02, -0.02, 0.01, -0.01, 0.0, -0.01, -0.02, 0.01, -0.02, -0.01, -0.0, -0.0, 0.03, -0.01, -0.0, -0.01, -0.03, -0.05, -0.0, -0.01, -0.01, -0.01, -0.01, 0.01, 1.0, -0.01, -0.02], [-0.02, 0.01, -0.01, 0.02, -0.01, 0.02, 0.01, -0.01, 0.03, 0.03, -0.01, 0.16, 0.05, 0.03, -0.01, -0.04, 0.18, 0.09, 0.34, 0.04, 0.1, 0.02, 0.01, 0.01, -0.01, 0.24, 0.03, 0.03, 0.04, 0.06, -0.03, 0.08, 0.04, 0.04, 0.02, -0.04, -0.01, -0.01, 0.06, -0.04, 0.12, 0.09, 0.06, 0.05, 0.01, 0.08, -0.05, -0.05, 0.08, 0.09, -0.01, 1.0, 0.0], [0.07, 0.06, 0.05, 0.08, 0.06, 0.09, 0.07, 0.04, 0.09, 0.06, 0.03, 0.04, 0.13, 0.12, 0.04, 0.04, 0.02, 0.12, 0.01, 0.19, 0.1, 0.1, 0.07, 0.09, 0.01, 0.02, 0.1, 0.08, 0.3, 0.01, 0.05, 0.25, 0.09, 0.19, 0.09, 0.01, 0.01, 0.0, 0.01, 0.05, 0.02, 0.06, 0.18, 0.18, -0.01, 0.02, 0.02, 0.02, 0.17, 0.13, -0.02, 0.0, 1.0]]}],\n",
       "                        {\"autosize\": true, \"template\": {\"data\": {\"bar\": [{\"error_x\": {\"color\": \"#2a3f5f\"}, \"error_y\": {\"color\": \"#2a3f5f\"}, \"marker\": {\"line\": {\"color\": \"#E5ECF6\", \"width\": 0.5}}, \"type\": \"bar\"}], \"barpolar\": [{\"marker\": {\"line\": {\"color\": \"#E5ECF6\", \"width\": 0.5}}, \"type\": \"barpolar\"}], \"carpet\": [{\"aaxis\": {\"endlinecolor\": \"#2a3f5f\", \"gridcolor\": \"white\", \"linecolor\": \"white\", \"minorgridcolor\": \"white\", \"startlinecolor\": \"#2a3f5f\"}, \"baxis\": {\"endlinecolor\": \"#2a3f5f\", \"gridcolor\": \"white\", \"linecolor\": \"white\", \"minorgridcolor\": \"white\", \"startlinecolor\": \"#2a3f5f\"}, \"type\": \"carpet\"}], \"choropleth\": [{\"colorbar\": {\"outlinewidth\": 0, \"ticks\": \"\"}, \"type\": \"choropleth\"}], \"contour\": [{\"colorbar\": {\"outlinewidth\": 0, \"ticks\": \"\"}, \"colorscale\": [[0.0, \"#0d0887\"], [0.1111111111111111, \"#46039f\"], [0.2222222222222222, \"#7201a8\"], [0.3333333333333333, \"#9c179e\"], [0.4444444444444444, \"#bd3786\"], [0.5555555555555556, \"#d8576b\"], [0.6666666666666666, \"#ed7953\"], [0.7777777777777778, \"#fb9f3a\"], [0.8888888888888888, \"#fdca26\"], [1.0, \"#f0f921\"]], \"type\": \"contour\"}], \"contourcarpet\": [{\"colorbar\": {\"outlinewidth\": 0, \"ticks\": \"\"}, \"type\": \"contourcarpet\"}], \"heatmap\": [{\"colorbar\": {\"outlinewidth\": 0, \"ticks\": \"\"}, \"colorscale\": [[0.0, \"#0d0887\"], [0.1111111111111111, \"#46039f\"], [0.2222222222222222, \"#7201a8\"], [0.3333333333333333, \"#9c179e\"], [0.4444444444444444, \"#bd3786\"], [0.5555555555555556, \"#d8576b\"], [0.6666666666666666, \"#ed7953\"], [0.7777777777777778, \"#fb9f3a\"], [0.8888888888888888, \"#fdca26\"], [1.0, \"#f0f921\"]], \"type\": \"heatmap\"}], \"heatmapgl\": [{\"colorbar\": {\"outlinewidth\": 0, \"ticks\": \"\"}, \"colorscale\": [[0.0, \"#0d0887\"], [0.1111111111111111, \"#46039f\"], [0.2222222222222222, \"#7201a8\"], [0.3333333333333333, \"#9c179e\"], [0.4444444444444444, \"#bd3786\"], [0.5555555555555556, \"#d8576b\"], [0.6666666666666666, \"#ed7953\"], [0.7777777777777778, \"#fb9f3a\"], [0.8888888888888888, \"#fdca26\"], [1.0, \"#f0f921\"]], \"type\": \"heatmapgl\"}], \"histogram\": [{\"marker\": {\"colorbar\": {\"outlinewidth\": 0, \"ticks\": \"\"}}, \"type\": \"histogram\"}], \"histogram2d\": [{\"colorbar\": {\"outlinewidth\": 0, \"ticks\": \"\"}, \"colorscale\": [[0.0, \"#0d0887\"], [0.1111111111111111, \"#46039f\"], [0.2222222222222222, \"#7201a8\"], [0.3333333333333333, \"#9c179e\"], [0.4444444444444444, \"#bd3786\"], [0.5555555555555556, \"#d8576b\"], [0.6666666666666666, \"#ed7953\"], [0.7777777777777778, \"#fb9f3a\"], [0.8888888888888888, \"#fdca26\"], [1.0, \"#f0f921\"]], \"type\": \"histogram2d\"}], \"histogram2dcontour\": [{\"colorbar\": {\"outlinewidth\": 0, \"ticks\": \"\"}, \"colorscale\": [[0.0, \"#0d0887\"], [0.1111111111111111, \"#46039f\"], [0.2222222222222222, \"#7201a8\"], [0.3333333333333333, \"#9c179e\"], [0.4444444444444444, \"#bd3786\"], [0.5555555555555556, \"#d8576b\"], [0.6666666666666666, \"#ed7953\"], [0.7777777777777778, \"#fb9f3a\"], [0.8888888888888888, \"#fdca26\"], [1.0, \"#f0f921\"]], \"type\": \"histogram2dcontour\"}], \"mesh3d\": [{\"colorbar\": {\"outlinewidth\": 0, \"ticks\": \"\"}, \"type\": \"mesh3d\"}], \"parcoords\": [{\"line\": {\"colorbar\": {\"outlinewidth\": 0, \"ticks\": \"\"}}, \"type\": \"parcoords\"}], \"pie\": [{\"automargin\": true, \"type\": \"pie\"}], \"scatter\": [{\"marker\": {\"colorbar\": {\"outlinewidth\": 0, \"ticks\": \"\"}}, \"type\": \"scatter\"}], \"scatter3d\": [{\"line\": {\"colorbar\": {\"outlinewidth\": 0, \"ticks\": \"\"}}, \"marker\": {\"colorbar\": {\"outlinewidth\": 0, \"ticks\": \"\"}}, \"type\": \"scatter3d\"}], \"scattercarpet\": [{\"marker\": {\"colorbar\": {\"outlinewidth\": 0, \"ticks\": \"\"}}, \"type\": \"scattercarpet\"}], \"scattergeo\": [{\"marker\": {\"colorbar\": {\"outlinewidth\": 0, \"ticks\": \"\"}}, \"type\": \"scattergeo\"}], \"scattergl\": [{\"marker\": {\"colorbar\": {\"outlinewidth\": 0, \"ticks\": \"\"}}, \"type\": \"scattergl\"}], \"scattermapbox\": [{\"marker\": {\"colorbar\": {\"outlinewidth\": 0, \"ticks\": \"\"}}, \"type\": \"scattermapbox\"}], \"scatterpolar\": [{\"marker\": {\"colorbar\": {\"outlinewidth\": 0, \"ticks\": \"\"}}, \"type\": \"scatterpolar\"}], \"scatterpolargl\": [{\"marker\": {\"colorbar\": {\"outlinewidth\": 0, \"ticks\": \"\"}}, \"type\": \"scatterpolargl\"}], \"scatterternary\": [{\"marker\": {\"colorbar\": {\"outlinewidth\": 0, \"ticks\": \"\"}}, \"type\": \"scatterternary\"}], \"surface\": [{\"colorbar\": {\"outlinewidth\": 0, \"ticks\": \"\"}, \"colorscale\": [[0.0, \"#0d0887\"], [0.1111111111111111, \"#46039f\"], [0.2222222222222222, \"#7201a8\"], [0.3333333333333333, \"#9c179e\"], [0.4444444444444444, \"#bd3786\"], [0.5555555555555556, \"#d8576b\"], [0.6666666666666666, \"#ed7953\"], [0.7777777777777778, \"#fb9f3a\"], [0.8888888888888888, \"#fdca26\"], [1.0, \"#f0f921\"]], \"type\": \"surface\"}], \"table\": [{\"cells\": {\"fill\": {\"color\": \"#EBF0F8\"}, \"line\": {\"color\": \"white\"}}, \"header\": {\"fill\": {\"color\": \"#C8D4E3\"}, \"line\": {\"color\": \"white\"}}, \"type\": \"table\"}]}, \"layout\": {\"annotationdefaults\": {\"arrowcolor\": \"#2a3f5f\", \"arrowhead\": 0, \"arrowwidth\": 1}, \"coloraxis\": {\"colorbar\": {\"outlinewidth\": 0, \"ticks\": \"\"}}, \"colorscale\": {\"diverging\": [[0, \"#8e0152\"], [0.1, \"#c51b7d\"], [0.2, \"#de77ae\"], [0.3, \"#f1b6da\"], [0.4, \"#fde0ef\"], [0.5, \"#f7f7f7\"], [0.6, \"#e6f5d0\"], [0.7, \"#b8e186\"], [0.8, \"#7fbc41\"], [0.9, \"#4d9221\"], [1, \"#276419\"]], \"sequential\": [[0.0, \"#0d0887\"], [0.1111111111111111, \"#46039f\"], [0.2222222222222222, \"#7201a8\"], [0.3333333333333333, \"#9c179e\"], [0.4444444444444444, \"#bd3786\"], [0.5555555555555556, \"#d8576b\"], [0.6666666666666666, \"#ed7953\"], [0.7777777777777778, \"#fb9f3a\"], [0.8888888888888888, \"#fdca26\"], [1.0, \"#f0f921\"]], \"sequentialminus\": [[0.0, \"#0d0887\"], [0.1111111111111111, \"#46039f\"], [0.2222222222222222, \"#7201a8\"], [0.3333333333333333, \"#9c179e\"], [0.4444444444444444, \"#bd3786\"], [0.5555555555555556, \"#d8576b\"], [0.6666666666666666, \"#ed7953\"], [0.7777777777777778, \"#fb9f3a\"], [0.8888888888888888, \"#fdca26\"], [1.0, \"#f0f921\"]]}, \"colorway\": [\"#636efa\", \"#EF553B\", \"#00cc96\", \"#ab63fa\", \"#FFA15A\", \"#19d3f3\", \"#FF6692\", \"#B6E880\", \"#FF97FF\", \"#FECB52\"], \"font\": {\"color\": \"#2a3f5f\"}, \"geo\": {\"bgcolor\": \"white\", \"lakecolor\": \"white\", \"landcolor\": \"#E5ECF6\", \"showlakes\": true, \"showland\": true, \"subunitcolor\": \"white\"}, \"hoverlabel\": {\"align\": \"left\"}, \"hovermode\": \"closest\", \"mapbox\": {\"style\": \"light\"}, \"paper_bgcolor\": \"white\", \"plot_bgcolor\": \"#E5ECF6\", \"polar\": {\"angularaxis\": {\"gridcolor\": \"white\", \"linecolor\": \"white\", \"ticks\": \"\"}, \"bgcolor\": \"#E5ECF6\", \"radialaxis\": {\"gridcolor\": \"white\", \"linecolor\": \"white\", \"ticks\": \"\"}}, \"scene\": {\"xaxis\": {\"backgroundcolor\": \"#E5ECF6\", \"gridcolor\": \"white\", \"gridwidth\": 2, \"linecolor\": \"white\", \"showbackground\": true, \"ticks\": \"\", \"zerolinecolor\": \"white\"}, \"yaxis\": {\"backgroundcolor\": \"#E5ECF6\", \"gridcolor\": \"white\", \"gridwidth\": 2, \"linecolor\": \"white\", \"showbackground\": true, \"ticks\": \"\", \"zerolinecolor\": \"white\"}, \"zaxis\": {\"backgroundcolor\": \"#E5ECF6\", \"gridcolor\": \"white\", \"gridwidth\": 2, \"linecolor\": \"white\", \"showbackground\": true, \"ticks\": \"\", \"zerolinecolor\": \"white\"}}, \"shapedefaults\": {\"line\": {\"color\": \"#2a3f5f\"}}, \"ternary\": {\"aaxis\": {\"gridcolor\": \"white\", \"linecolor\": \"white\", \"ticks\": \"\"}, \"baxis\": {\"gridcolor\": \"white\", \"linecolor\": \"white\", \"ticks\": \"\"}, \"bgcolor\": \"#E5ECF6\", \"caxis\": {\"gridcolor\": \"white\", \"linecolor\": \"white\", \"ticks\": \"\"}}, \"title\": {\"x\": 0.05}, \"xaxis\": {\"automargin\": true, \"gridcolor\": \"white\", \"linecolor\": \"white\", \"ticks\": \"\", \"title\": {\"standoff\": 15}, \"zerolinecolor\": \"white\", \"zerolinewidth\": 2}, \"yaxis\": {\"automargin\": true, \"gridcolor\": \"white\", \"linecolor\": \"white\", \"ticks\": \"\", \"title\": {\"standoff\": 15}, \"zerolinecolor\": \"white\", \"zerolinewidth\": 2}}}, \"title\": {\"text\": \"Correlation Matrix of amenities and reviews variables\"}},\n",
       "                        {\"responsive\": true}\n",
       "                    ).then(function(){\n",
       "                            \n",
       "var gd = document.getElementById('b0a62096-f23c-4a97-96ed-c4c8bbe87854');\n",
       "var x = new MutationObserver(function (mutations, observer) {{\n",
       "        var display = window.getComputedStyle(gd).display;\n",
       "        if (!display || display === 'none') {{\n",
       "            console.log([gd, 'removed!']);\n",
       "            Plotly.purge(gd);\n",
       "            observer.disconnect();\n",
       "        }}\n",
       "}});\n",
       "\n",
       "// Listen for the removal of the full notebook cells\n",
       "var notebookContainer = gd.closest('#notebook-container');\n",
       "if (notebookContainer) {{\n",
       "    x.observe(notebookContainer, {childList: true});\n",
       "}}\n",
       "\n",
       "// Listen for the clearing of the current output cell\n",
       "var outputEl = gd.closest('.output');\n",
       "if (outputEl) {{\n",
       "    x.observe(outputEl, {childList: true});\n",
       "}}\n",
       "\n",
       "                        })\n",
       "                };\n",
       "                });\n",
       "            </script>\n",
       "        </div>"
      ]
     },
     "metadata": {},
     "output_type": "display_data"
    }
   ],
   "source": [
    "# Heatmap for reviews and amenities correlation matrix\n",
    "\n",
    "fig = go.Figure(data=go.Heatmap(\n",
    "        z=amenities_reviews.values,\n",
    "        x=amenities_reviews.columns,\n",
    "        y=amenities_reviews.columns,\n",
    "        colorscale='Viridis'))\n",
    "fig.update_layout(\n",
    "    title='Correlation Matrix of amenities and reviews variables',\n",
    "    autosize = True)\n",
    "fig.show()"
   ]
  },
  {
   "cell_type": "code",
   "execution_count": 80,
   "metadata": {},
   "outputs": [
    {
     "data": {
      "application/vnd.plotly.v1+json": {
       "config": {
        "plotlyServerURL": "https://plot.ly"
       },
       "data": [
        {
         "type": "bar",
         "x": [
          "amenities_fire_extinguisher",
          "amenities_shampoo",
          "amenities_first_aid_kit",
          "amenities_essentials",
          "amenities_free_parking_on_premises",
          "amenities_smoke_detector",
          "amenities_carbon_monoxide_detector",
          "amenities_wireless_internet",
          "amenities_pets_live_on_this_property",
          "amenities_safety_card",
          "amenities_indoor_fireplace",
          "amenities_dryer",
          "amenities_washer"
         ],
         "y": [
          0.13,
          0.12,
          0.11,
          0.11,
          0.1,
          0.1,
          0.09,
          0.09,
          0.09,
          0.08,
          0.08,
          0.07,
          0.07
         ]
        }
       ],
       "layout": {
        "template": {
         "data": {
          "bar": [
           {
            "error_x": {
             "color": "#2a3f5f"
            },
            "error_y": {
             "color": "#2a3f5f"
            },
            "marker": {
             "line": {
              "color": "#E5ECF6",
              "width": 0.5
             }
            },
            "type": "bar"
           }
          ],
          "barpolar": [
           {
            "marker": {
             "line": {
              "color": "#E5ECF6",
              "width": 0.5
             }
            },
            "type": "barpolar"
           }
          ],
          "carpet": [
           {
            "aaxis": {
             "endlinecolor": "#2a3f5f",
             "gridcolor": "white",
             "linecolor": "white",
             "minorgridcolor": "white",
             "startlinecolor": "#2a3f5f"
            },
            "baxis": {
             "endlinecolor": "#2a3f5f",
             "gridcolor": "white",
             "linecolor": "white",
             "minorgridcolor": "white",
             "startlinecolor": "#2a3f5f"
            },
            "type": "carpet"
           }
          ],
          "choropleth": [
           {
            "colorbar": {
             "outlinewidth": 0,
             "ticks": ""
            },
            "type": "choropleth"
           }
          ],
          "contour": [
           {
            "colorbar": {
             "outlinewidth": 0,
             "ticks": ""
            },
            "colorscale": [
             [
              0,
              "#0d0887"
             ],
             [
              0.1111111111111111,
              "#46039f"
             ],
             [
              0.2222222222222222,
              "#7201a8"
             ],
             [
              0.3333333333333333,
              "#9c179e"
             ],
             [
              0.4444444444444444,
              "#bd3786"
             ],
             [
              0.5555555555555556,
              "#d8576b"
             ],
             [
              0.6666666666666666,
              "#ed7953"
             ],
             [
              0.7777777777777778,
              "#fb9f3a"
             ],
             [
              0.8888888888888888,
              "#fdca26"
             ],
             [
              1,
              "#f0f921"
             ]
            ],
            "type": "contour"
           }
          ],
          "contourcarpet": [
           {
            "colorbar": {
             "outlinewidth": 0,
             "ticks": ""
            },
            "type": "contourcarpet"
           }
          ],
          "heatmap": [
           {
            "colorbar": {
             "outlinewidth": 0,
             "ticks": ""
            },
            "colorscale": [
             [
              0,
              "#0d0887"
             ],
             [
              0.1111111111111111,
              "#46039f"
             ],
             [
              0.2222222222222222,
              "#7201a8"
             ],
             [
              0.3333333333333333,
              "#9c179e"
             ],
             [
              0.4444444444444444,
              "#bd3786"
             ],
             [
              0.5555555555555556,
              "#d8576b"
             ],
             [
              0.6666666666666666,
              "#ed7953"
             ],
             [
              0.7777777777777778,
              "#fb9f3a"
             ],
             [
              0.8888888888888888,
              "#fdca26"
             ],
             [
              1,
              "#f0f921"
             ]
            ],
            "type": "heatmap"
           }
          ],
          "heatmapgl": [
           {
            "colorbar": {
             "outlinewidth": 0,
             "ticks": ""
            },
            "colorscale": [
             [
              0,
              "#0d0887"
             ],
             [
              0.1111111111111111,
              "#46039f"
             ],
             [
              0.2222222222222222,
              "#7201a8"
             ],
             [
              0.3333333333333333,
              "#9c179e"
             ],
             [
              0.4444444444444444,
              "#bd3786"
             ],
             [
              0.5555555555555556,
              "#d8576b"
             ],
             [
              0.6666666666666666,
              "#ed7953"
             ],
             [
              0.7777777777777778,
              "#fb9f3a"
             ],
             [
              0.8888888888888888,
              "#fdca26"
             ],
             [
              1,
              "#f0f921"
             ]
            ],
            "type": "heatmapgl"
           }
          ],
          "histogram": [
           {
            "marker": {
             "colorbar": {
              "outlinewidth": 0,
              "ticks": ""
             }
            },
            "type": "histogram"
           }
          ],
          "histogram2d": [
           {
            "colorbar": {
             "outlinewidth": 0,
             "ticks": ""
            },
            "colorscale": [
             [
              0,
              "#0d0887"
             ],
             [
              0.1111111111111111,
              "#46039f"
             ],
             [
              0.2222222222222222,
              "#7201a8"
             ],
             [
              0.3333333333333333,
              "#9c179e"
             ],
             [
              0.4444444444444444,
              "#bd3786"
             ],
             [
              0.5555555555555556,
              "#d8576b"
             ],
             [
              0.6666666666666666,
              "#ed7953"
             ],
             [
              0.7777777777777778,
              "#fb9f3a"
             ],
             [
              0.8888888888888888,
              "#fdca26"
             ],
             [
              1,
              "#f0f921"
             ]
            ],
            "type": "histogram2d"
           }
          ],
          "histogram2dcontour": [
           {
            "colorbar": {
             "outlinewidth": 0,
             "ticks": ""
            },
            "colorscale": [
             [
              0,
              "#0d0887"
             ],
             [
              0.1111111111111111,
              "#46039f"
             ],
             [
              0.2222222222222222,
              "#7201a8"
             ],
             [
              0.3333333333333333,
              "#9c179e"
             ],
             [
              0.4444444444444444,
              "#bd3786"
             ],
             [
              0.5555555555555556,
              "#d8576b"
             ],
             [
              0.6666666666666666,
              "#ed7953"
             ],
             [
              0.7777777777777778,
              "#fb9f3a"
             ],
             [
              0.8888888888888888,
              "#fdca26"
             ],
             [
              1,
              "#f0f921"
             ]
            ],
            "type": "histogram2dcontour"
           }
          ],
          "mesh3d": [
           {
            "colorbar": {
             "outlinewidth": 0,
             "ticks": ""
            },
            "type": "mesh3d"
           }
          ],
          "parcoords": [
           {
            "line": {
             "colorbar": {
              "outlinewidth": 0,
              "ticks": ""
             }
            },
            "type": "parcoords"
           }
          ],
          "pie": [
           {
            "automargin": true,
            "type": "pie"
           }
          ],
          "scatter": [
           {
            "marker": {
             "colorbar": {
              "outlinewidth": 0,
              "ticks": ""
             }
            },
            "type": "scatter"
           }
          ],
          "scatter3d": [
           {
            "line": {
             "colorbar": {
              "outlinewidth": 0,
              "ticks": ""
             }
            },
            "marker": {
             "colorbar": {
              "outlinewidth": 0,
              "ticks": ""
             }
            },
            "type": "scatter3d"
           }
          ],
          "scattercarpet": [
           {
            "marker": {
             "colorbar": {
              "outlinewidth": 0,
              "ticks": ""
             }
            },
            "type": "scattercarpet"
           }
          ],
          "scattergeo": [
           {
            "marker": {
             "colorbar": {
              "outlinewidth": 0,
              "ticks": ""
             }
            },
            "type": "scattergeo"
           }
          ],
          "scattergl": [
           {
            "marker": {
             "colorbar": {
              "outlinewidth": 0,
              "ticks": ""
             }
            },
            "type": "scattergl"
           }
          ],
          "scattermapbox": [
           {
            "marker": {
             "colorbar": {
              "outlinewidth": 0,
              "ticks": ""
             }
            },
            "type": "scattermapbox"
           }
          ],
          "scatterpolar": [
           {
            "marker": {
             "colorbar": {
              "outlinewidth": 0,
              "ticks": ""
             }
            },
            "type": "scatterpolar"
           }
          ],
          "scatterpolargl": [
           {
            "marker": {
             "colorbar": {
              "outlinewidth": 0,
              "ticks": ""
             }
            },
            "type": "scatterpolargl"
           }
          ],
          "scatterternary": [
           {
            "marker": {
             "colorbar": {
              "outlinewidth": 0,
              "ticks": ""
             }
            },
            "type": "scatterternary"
           }
          ],
          "surface": [
           {
            "colorbar": {
             "outlinewidth": 0,
             "ticks": ""
            },
            "colorscale": [
             [
              0,
              "#0d0887"
             ],
             [
              0.1111111111111111,
              "#46039f"
             ],
             [
              0.2222222222222222,
              "#7201a8"
             ],
             [
              0.3333333333333333,
              "#9c179e"
             ],
             [
              0.4444444444444444,
              "#bd3786"
             ],
             [
              0.5555555555555556,
              "#d8576b"
             ],
             [
              0.6666666666666666,
              "#ed7953"
             ],
             [
              0.7777777777777778,
              "#fb9f3a"
             ],
             [
              0.8888888888888888,
              "#fdca26"
             ],
             [
              1,
              "#f0f921"
             ]
            ],
            "type": "surface"
           }
          ],
          "table": [
           {
            "cells": {
             "fill": {
              "color": "#EBF0F8"
             },
             "line": {
              "color": "white"
             }
            },
            "header": {
             "fill": {
              "color": "#C8D4E3"
             },
             "line": {
              "color": "white"
             }
            },
            "type": "table"
           }
          ]
         },
         "layout": {
          "annotationdefaults": {
           "arrowcolor": "#2a3f5f",
           "arrowhead": 0,
           "arrowwidth": 1
          },
          "coloraxis": {
           "colorbar": {
            "outlinewidth": 0,
            "ticks": ""
           }
          },
          "colorscale": {
           "diverging": [
            [
             0,
             "#8e0152"
            ],
            [
             0.1,
             "#c51b7d"
            ],
            [
             0.2,
             "#de77ae"
            ],
            [
             0.3,
             "#f1b6da"
            ],
            [
             0.4,
             "#fde0ef"
            ],
            [
             0.5,
             "#f7f7f7"
            ],
            [
             0.6,
             "#e6f5d0"
            ],
            [
             0.7,
             "#b8e186"
            ],
            [
             0.8,
             "#7fbc41"
            ],
            [
             0.9,
             "#4d9221"
            ],
            [
             1,
             "#276419"
            ]
           ],
           "sequential": [
            [
             0,
             "#0d0887"
            ],
            [
             0.1111111111111111,
             "#46039f"
            ],
            [
             0.2222222222222222,
             "#7201a8"
            ],
            [
             0.3333333333333333,
             "#9c179e"
            ],
            [
             0.4444444444444444,
             "#bd3786"
            ],
            [
             0.5555555555555556,
             "#d8576b"
            ],
            [
             0.6666666666666666,
             "#ed7953"
            ],
            [
             0.7777777777777778,
             "#fb9f3a"
            ],
            [
             0.8888888888888888,
             "#fdca26"
            ],
            [
             1,
             "#f0f921"
            ]
           ],
           "sequentialminus": [
            [
             0,
             "#0d0887"
            ],
            [
             0.1111111111111111,
             "#46039f"
            ],
            [
             0.2222222222222222,
             "#7201a8"
            ],
            [
             0.3333333333333333,
             "#9c179e"
            ],
            [
             0.4444444444444444,
             "#bd3786"
            ],
            [
             0.5555555555555556,
             "#d8576b"
            ],
            [
             0.6666666666666666,
             "#ed7953"
            ],
            [
             0.7777777777777778,
             "#fb9f3a"
            ],
            [
             0.8888888888888888,
             "#fdca26"
            ],
            [
             1,
             "#f0f921"
            ]
           ]
          },
          "colorway": [
           "#636efa",
           "#EF553B",
           "#00cc96",
           "#ab63fa",
           "#FFA15A",
           "#19d3f3",
           "#FF6692",
           "#B6E880",
           "#FF97FF",
           "#FECB52"
          ],
          "font": {
           "color": "#2a3f5f"
          },
          "geo": {
           "bgcolor": "white",
           "lakecolor": "white",
           "landcolor": "#E5ECF6",
           "showlakes": true,
           "showland": true,
           "subunitcolor": "white"
          },
          "hoverlabel": {
           "align": "left"
          },
          "hovermode": "closest",
          "mapbox": {
           "style": "light"
          },
          "paper_bgcolor": "white",
          "plot_bgcolor": "#E5ECF6",
          "polar": {
           "angularaxis": {
            "gridcolor": "white",
            "linecolor": "white",
            "ticks": ""
           },
           "bgcolor": "#E5ECF6",
           "radialaxis": {
            "gridcolor": "white",
            "linecolor": "white",
            "ticks": ""
           }
          },
          "scene": {
           "xaxis": {
            "backgroundcolor": "#E5ECF6",
            "gridcolor": "white",
            "gridwidth": 2,
            "linecolor": "white",
            "showbackground": true,
            "ticks": "",
            "zerolinecolor": "white"
           },
           "yaxis": {
            "backgroundcolor": "#E5ECF6",
            "gridcolor": "white",
            "gridwidth": 2,
            "linecolor": "white",
            "showbackground": true,
            "ticks": "",
            "zerolinecolor": "white"
           },
           "zaxis": {
            "backgroundcolor": "#E5ECF6",
            "gridcolor": "white",
            "gridwidth": 2,
            "linecolor": "white",
            "showbackground": true,
            "ticks": "",
            "zerolinecolor": "white"
           }
          },
          "shapedefaults": {
           "line": {
            "color": "#2a3f5f"
           }
          },
          "ternary": {
           "aaxis": {
            "gridcolor": "white",
            "linecolor": "white",
            "ticks": ""
           },
           "baxis": {
            "gridcolor": "white",
            "linecolor": "white",
            "ticks": ""
           },
           "bgcolor": "#E5ECF6",
           "caxis": {
            "gridcolor": "white",
            "linecolor": "white",
            "ticks": ""
           }
          },
          "title": {
           "x": 0.05
          },
          "xaxis": {
           "automargin": true,
           "gridcolor": "white",
           "linecolor": "white",
           "ticks": "",
           "title": {
            "standoff": 15
           },
           "zerolinecolor": "white",
           "zerolinewidth": 2
          },
          "yaxis": {
           "automargin": true,
           "gridcolor": "white",
           "linecolor": "white",
           "ticks": "",
           "title": {
            "standoff": 15
           },
           "zerolinecolor": "white",
           "zerolinewidth": 2
          }
         }
        },
        "title": {
         "text": "Correlations between Amenities and Reviews"
        },
        "yaxis": {
         "title": {
          "text": "Correlation Coefficients"
         }
        }
       }
      },
      "text/html": [
       "<div>\n",
       "        \n",
       "        \n",
       "            <div id=\"16307a2c-3781-44f4-a346-0992cbd6c229\" class=\"plotly-graph-div\" style=\"height:525px; width:100%;\"></div>\n",
       "            <script type=\"text/javascript\">\n",
       "                require([\"plotly\"], function(Plotly) {\n",
       "                    window.PLOTLYENV=window.PLOTLYENV || {};\n",
       "                    \n",
       "                if (document.getElementById(\"16307a2c-3781-44f4-a346-0992cbd6c229\")) {\n",
       "                    Plotly.newPlot(\n",
       "                        '16307a2c-3781-44f4-a346-0992cbd6c229',\n",
       "                        [{\"type\": \"bar\", \"x\": [\"amenities_fire_extinguisher\", \"amenities_shampoo\", \"amenities_first_aid_kit\", \"amenities_essentials\", \"amenities_free_parking_on_premises\", \"amenities_smoke_detector\", \"amenities_carbon_monoxide_detector\", \"amenities_wireless_internet\", \"amenities_pets_live_on_this_property\", \"amenities_safety_card\", \"amenities_indoor_fireplace\", \"amenities_dryer\", \"amenities_washer\"], \"y\": [0.13, 0.12, 0.11, 0.11, 0.1, 0.1, 0.09, 0.09, 0.09, 0.08, 0.08, 0.07, 0.07]}],\n",
       "                        {\"template\": {\"data\": {\"bar\": [{\"error_x\": {\"color\": \"#2a3f5f\"}, \"error_y\": {\"color\": \"#2a3f5f\"}, \"marker\": {\"line\": {\"color\": \"#E5ECF6\", \"width\": 0.5}}, \"type\": \"bar\"}], \"barpolar\": [{\"marker\": {\"line\": {\"color\": \"#E5ECF6\", \"width\": 0.5}}, \"type\": \"barpolar\"}], \"carpet\": [{\"aaxis\": {\"endlinecolor\": \"#2a3f5f\", \"gridcolor\": \"white\", \"linecolor\": \"white\", \"minorgridcolor\": \"white\", \"startlinecolor\": \"#2a3f5f\"}, \"baxis\": {\"endlinecolor\": \"#2a3f5f\", \"gridcolor\": \"white\", \"linecolor\": \"white\", \"minorgridcolor\": \"white\", \"startlinecolor\": \"#2a3f5f\"}, \"type\": \"carpet\"}], \"choropleth\": [{\"colorbar\": {\"outlinewidth\": 0, \"ticks\": \"\"}, \"type\": \"choropleth\"}], \"contour\": [{\"colorbar\": {\"outlinewidth\": 0, \"ticks\": \"\"}, \"colorscale\": [[0.0, \"#0d0887\"], [0.1111111111111111, \"#46039f\"], [0.2222222222222222, \"#7201a8\"], [0.3333333333333333, \"#9c179e\"], [0.4444444444444444, \"#bd3786\"], [0.5555555555555556, \"#d8576b\"], [0.6666666666666666, \"#ed7953\"], [0.7777777777777778, \"#fb9f3a\"], [0.8888888888888888, \"#fdca26\"], [1.0, \"#f0f921\"]], \"type\": \"contour\"}], \"contourcarpet\": [{\"colorbar\": {\"outlinewidth\": 0, \"ticks\": \"\"}, \"type\": \"contourcarpet\"}], \"heatmap\": [{\"colorbar\": {\"outlinewidth\": 0, \"ticks\": \"\"}, \"colorscale\": [[0.0, \"#0d0887\"], [0.1111111111111111, \"#46039f\"], [0.2222222222222222, \"#7201a8\"], [0.3333333333333333, \"#9c179e\"], [0.4444444444444444, \"#bd3786\"], [0.5555555555555556, \"#d8576b\"], [0.6666666666666666, \"#ed7953\"], [0.7777777777777778, \"#fb9f3a\"], [0.8888888888888888, \"#fdca26\"], [1.0, \"#f0f921\"]], \"type\": \"heatmap\"}], \"heatmapgl\": [{\"colorbar\": {\"outlinewidth\": 0, \"ticks\": \"\"}, \"colorscale\": [[0.0, \"#0d0887\"], [0.1111111111111111, \"#46039f\"], [0.2222222222222222, \"#7201a8\"], [0.3333333333333333, \"#9c179e\"], [0.4444444444444444, \"#bd3786\"], [0.5555555555555556, \"#d8576b\"], [0.6666666666666666, \"#ed7953\"], [0.7777777777777778, \"#fb9f3a\"], [0.8888888888888888, \"#fdca26\"], [1.0, \"#f0f921\"]], \"type\": \"heatmapgl\"}], \"histogram\": [{\"marker\": {\"colorbar\": {\"outlinewidth\": 0, \"ticks\": \"\"}}, \"type\": \"histogram\"}], \"histogram2d\": [{\"colorbar\": {\"outlinewidth\": 0, \"ticks\": \"\"}, \"colorscale\": [[0.0, \"#0d0887\"], [0.1111111111111111, \"#46039f\"], [0.2222222222222222, \"#7201a8\"], [0.3333333333333333, \"#9c179e\"], [0.4444444444444444, \"#bd3786\"], [0.5555555555555556, \"#d8576b\"], [0.6666666666666666, \"#ed7953\"], [0.7777777777777778, \"#fb9f3a\"], [0.8888888888888888, \"#fdca26\"], [1.0, \"#f0f921\"]], \"type\": \"histogram2d\"}], \"histogram2dcontour\": [{\"colorbar\": {\"outlinewidth\": 0, \"ticks\": \"\"}, \"colorscale\": [[0.0, \"#0d0887\"], [0.1111111111111111, \"#46039f\"], [0.2222222222222222, \"#7201a8\"], [0.3333333333333333, \"#9c179e\"], [0.4444444444444444, \"#bd3786\"], [0.5555555555555556, \"#d8576b\"], [0.6666666666666666, \"#ed7953\"], [0.7777777777777778, \"#fb9f3a\"], [0.8888888888888888, \"#fdca26\"], [1.0, \"#f0f921\"]], \"type\": \"histogram2dcontour\"}], \"mesh3d\": [{\"colorbar\": {\"outlinewidth\": 0, \"ticks\": \"\"}, \"type\": \"mesh3d\"}], \"parcoords\": [{\"line\": {\"colorbar\": {\"outlinewidth\": 0, \"ticks\": \"\"}}, \"type\": \"parcoords\"}], \"pie\": [{\"automargin\": true, \"type\": \"pie\"}], \"scatter\": [{\"marker\": {\"colorbar\": {\"outlinewidth\": 0, \"ticks\": \"\"}}, \"type\": \"scatter\"}], \"scatter3d\": [{\"line\": {\"colorbar\": {\"outlinewidth\": 0, \"ticks\": \"\"}}, \"marker\": {\"colorbar\": {\"outlinewidth\": 0, \"ticks\": \"\"}}, \"type\": \"scatter3d\"}], \"scattercarpet\": [{\"marker\": {\"colorbar\": {\"outlinewidth\": 0, \"ticks\": \"\"}}, \"type\": \"scattercarpet\"}], \"scattergeo\": [{\"marker\": {\"colorbar\": {\"outlinewidth\": 0, \"ticks\": \"\"}}, \"type\": \"scattergeo\"}], \"scattergl\": [{\"marker\": {\"colorbar\": {\"outlinewidth\": 0, \"ticks\": \"\"}}, \"type\": \"scattergl\"}], \"scattermapbox\": [{\"marker\": {\"colorbar\": {\"outlinewidth\": 0, \"ticks\": \"\"}}, \"type\": \"scattermapbox\"}], \"scatterpolar\": [{\"marker\": {\"colorbar\": {\"outlinewidth\": 0, \"ticks\": \"\"}}, \"type\": \"scatterpolar\"}], \"scatterpolargl\": [{\"marker\": {\"colorbar\": {\"outlinewidth\": 0, \"ticks\": \"\"}}, \"type\": \"scatterpolargl\"}], \"scatterternary\": [{\"marker\": {\"colorbar\": {\"outlinewidth\": 0, \"ticks\": \"\"}}, \"type\": \"scatterternary\"}], \"surface\": [{\"colorbar\": {\"outlinewidth\": 0, \"ticks\": \"\"}, \"colorscale\": [[0.0, \"#0d0887\"], [0.1111111111111111, \"#46039f\"], [0.2222222222222222, \"#7201a8\"], [0.3333333333333333, \"#9c179e\"], [0.4444444444444444, \"#bd3786\"], [0.5555555555555556, \"#d8576b\"], [0.6666666666666666, \"#ed7953\"], [0.7777777777777778, \"#fb9f3a\"], [0.8888888888888888, \"#fdca26\"], [1.0, \"#f0f921\"]], \"type\": \"surface\"}], \"table\": [{\"cells\": {\"fill\": {\"color\": \"#EBF0F8\"}, \"line\": {\"color\": \"white\"}}, \"header\": {\"fill\": {\"color\": \"#C8D4E3\"}, \"line\": {\"color\": \"white\"}}, \"type\": \"table\"}]}, \"layout\": {\"annotationdefaults\": {\"arrowcolor\": \"#2a3f5f\", \"arrowhead\": 0, \"arrowwidth\": 1}, \"coloraxis\": {\"colorbar\": {\"outlinewidth\": 0, \"ticks\": \"\"}}, \"colorscale\": {\"diverging\": [[0, \"#8e0152\"], [0.1, \"#c51b7d\"], [0.2, \"#de77ae\"], [0.3, \"#f1b6da\"], [0.4, \"#fde0ef\"], [0.5, \"#f7f7f7\"], [0.6, \"#e6f5d0\"], [0.7, \"#b8e186\"], [0.8, \"#7fbc41\"], [0.9, \"#4d9221\"], [1, \"#276419\"]], \"sequential\": [[0.0, \"#0d0887\"], [0.1111111111111111, \"#46039f\"], [0.2222222222222222, \"#7201a8\"], [0.3333333333333333, \"#9c179e\"], [0.4444444444444444, \"#bd3786\"], [0.5555555555555556, \"#d8576b\"], [0.6666666666666666, \"#ed7953\"], [0.7777777777777778, \"#fb9f3a\"], [0.8888888888888888, \"#fdca26\"], [1.0, \"#f0f921\"]], \"sequentialminus\": [[0.0, \"#0d0887\"], [0.1111111111111111, \"#46039f\"], [0.2222222222222222, \"#7201a8\"], [0.3333333333333333, \"#9c179e\"], [0.4444444444444444, \"#bd3786\"], [0.5555555555555556, \"#d8576b\"], [0.6666666666666666, \"#ed7953\"], [0.7777777777777778, \"#fb9f3a\"], [0.8888888888888888, \"#fdca26\"], [1.0, \"#f0f921\"]]}, \"colorway\": [\"#636efa\", \"#EF553B\", \"#00cc96\", \"#ab63fa\", \"#FFA15A\", \"#19d3f3\", \"#FF6692\", \"#B6E880\", \"#FF97FF\", \"#FECB52\"], \"font\": {\"color\": \"#2a3f5f\"}, \"geo\": {\"bgcolor\": \"white\", \"lakecolor\": \"white\", \"landcolor\": \"#E5ECF6\", \"showlakes\": true, \"showland\": true, \"subunitcolor\": \"white\"}, \"hoverlabel\": {\"align\": \"left\"}, \"hovermode\": \"closest\", \"mapbox\": {\"style\": \"light\"}, \"paper_bgcolor\": \"white\", \"plot_bgcolor\": \"#E5ECF6\", \"polar\": {\"angularaxis\": {\"gridcolor\": \"white\", \"linecolor\": \"white\", \"ticks\": \"\"}, \"bgcolor\": \"#E5ECF6\", \"radialaxis\": {\"gridcolor\": \"white\", \"linecolor\": \"white\", \"ticks\": \"\"}}, \"scene\": {\"xaxis\": {\"backgroundcolor\": \"#E5ECF6\", \"gridcolor\": \"white\", \"gridwidth\": 2, \"linecolor\": \"white\", \"showbackground\": true, \"ticks\": \"\", \"zerolinecolor\": \"white\"}, \"yaxis\": {\"backgroundcolor\": \"#E5ECF6\", \"gridcolor\": \"white\", \"gridwidth\": 2, \"linecolor\": \"white\", \"showbackground\": true, \"ticks\": \"\", \"zerolinecolor\": \"white\"}, \"zaxis\": {\"backgroundcolor\": \"#E5ECF6\", \"gridcolor\": \"white\", \"gridwidth\": 2, \"linecolor\": \"white\", \"showbackground\": true, \"ticks\": \"\", \"zerolinecolor\": \"white\"}}, \"shapedefaults\": {\"line\": {\"color\": \"#2a3f5f\"}}, \"ternary\": {\"aaxis\": {\"gridcolor\": \"white\", \"linecolor\": \"white\", \"ticks\": \"\"}, \"baxis\": {\"gridcolor\": \"white\", \"linecolor\": \"white\", \"ticks\": \"\"}, \"bgcolor\": \"#E5ECF6\", \"caxis\": {\"gridcolor\": \"white\", \"linecolor\": \"white\", \"ticks\": \"\"}}, \"title\": {\"x\": 0.05}, \"xaxis\": {\"automargin\": true, \"gridcolor\": \"white\", \"linecolor\": \"white\", \"ticks\": \"\", \"title\": {\"standoff\": 15}, \"zerolinecolor\": \"white\", \"zerolinewidth\": 2}, \"yaxis\": {\"automargin\": true, \"gridcolor\": \"white\", \"linecolor\": \"white\", \"ticks\": \"\", \"title\": {\"standoff\": 15}, \"zerolinecolor\": \"white\", \"zerolinewidth\": 2}}}, \"title\": {\"text\": \"Correlations between Amenities and Reviews\"}, \"yaxis\": {\"title\": {\"text\": \"Correlation Coefficients\"}}},\n",
       "                        {\"responsive\": true}\n",
       "                    ).then(function(){\n",
       "                            \n",
       "var gd = document.getElementById('16307a2c-3781-44f4-a346-0992cbd6c229');\n",
       "var x = new MutationObserver(function (mutations, observer) {{\n",
       "        var display = window.getComputedStyle(gd).display;\n",
       "        if (!display || display === 'none') {{\n",
       "            console.log([gd, 'removed!']);\n",
       "            Plotly.purge(gd);\n",
       "            observer.disconnect();\n",
       "        }}\n",
       "}});\n",
       "\n",
       "// Listen for the removal of the full notebook cells\n",
       "var notebookContainer = gd.closest('#notebook-container');\n",
       "if (notebookContainer) {{\n",
       "    x.observe(notebookContainer, {childList: true});\n",
       "}}\n",
       "\n",
       "// Listen for the clearing of the current output cell\n",
       "var outputEl = gd.closest('.output');\n",
       "if (outputEl) {{\n",
       "    x.observe(outputEl, {childList: true});\n",
       "}}\n",
       "\n",
       "                        })\n",
       "                };\n",
       "                });\n",
       "            </script>\n",
       "        </div>"
      ]
     },
     "metadata": {},
     "output_type": "display_data"
    }
   ],
   "source": [
    "# Top 20 of the amenities correlated to reviews\n",
    "#Sort correlation coefficients in ascending order \n",
    "ar = amenities_reviews[\"review_scores_rating\"].sort_values(ascending=False).head(20).to_frame().reset_index()\n",
    "ar.rename(columns={\"index\":\"var\"},inplace=True)\n",
    "ar = ar[ar['var'].str.contains(\"review\") ==False]\n",
    "\n",
    "#mean of coefficients\n",
    "ar.review_scores_rating.mean()\n",
    "#0.07409090909090911\n",
    "\n",
    "# Plot Bar Chart with the data frame above\n",
    "fig = go.Figure()\n",
    "fig.add_trace(go.Bar(x=ar['var'], y=ar.review_scores_rating))\n",
    "fig.update_layout(yaxis_title=\"Correlation Coefficients\", title = \"Correlations between Amenities and Reviews\")\n",
    "fig.show()"
   ]
  },
  {
   "cell_type": "code",
   "execution_count": 82,
   "metadata": {},
   "outputs": [
    {
     "data": {
      "application/vnd.plotly.v1+json": {
       "config": {
        "plotlyServerURL": "https://plot.ly"
       },
       "data": [
        {
         "type": "bar",
         "x": [
          "amenities_kitchen",
          "amenities_lock_on_bedroom_door",
          "amenities_air_conditioning",
          "amenities_hot_tub",
          "amenities_washer_/_dryer",
          "amenities_pool",
          "amenities_smoking_allowed",
          "amenities_gym",
          "amenities_translation_missing:_en.hosting_amenity_49",
          "amenities_translation_missing:_en.hosting_amenity_50"
         ],
         "y": [
          -0.01,
          -0.01,
          -0.01,
          -0.01,
          -0.01,
          -0.02,
          -0.02,
          -0.02,
          -0.03,
          -0.03
         ]
        }
       ],
       "layout": {
        "template": {
         "data": {
          "bar": [
           {
            "error_x": {
             "color": "#2a3f5f"
            },
            "error_y": {
             "color": "#2a3f5f"
            },
            "marker": {
             "line": {
              "color": "#E5ECF6",
              "width": 0.5
             }
            },
            "type": "bar"
           }
          ],
          "barpolar": [
           {
            "marker": {
             "line": {
              "color": "#E5ECF6",
              "width": 0.5
             }
            },
            "type": "barpolar"
           }
          ],
          "carpet": [
           {
            "aaxis": {
             "endlinecolor": "#2a3f5f",
             "gridcolor": "white",
             "linecolor": "white",
             "minorgridcolor": "white",
             "startlinecolor": "#2a3f5f"
            },
            "baxis": {
             "endlinecolor": "#2a3f5f",
             "gridcolor": "white",
             "linecolor": "white",
             "minorgridcolor": "white",
             "startlinecolor": "#2a3f5f"
            },
            "type": "carpet"
           }
          ],
          "choropleth": [
           {
            "colorbar": {
             "outlinewidth": 0,
             "ticks": ""
            },
            "type": "choropleth"
           }
          ],
          "contour": [
           {
            "colorbar": {
             "outlinewidth": 0,
             "ticks": ""
            },
            "colorscale": [
             [
              0,
              "#0d0887"
             ],
             [
              0.1111111111111111,
              "#46039f"
             ],
             [
              0.2222222222222222,
              "#7201a8"
             ],
             [
              0.3333333333333333,
              "#9c179e"
             ],
             [
              0.4444444444444444,
              "#bd3786"
             ],
             [
              0.5555555555555556,
              "#d8576b"
             ],
             [
              0.6666666666666666,
              "#ed7953"
             ],
             [
              0.7777777777777778,
              "#fb9f3a"
             ],
             [
              0.8888888888888888,
              "#fdca26"
             ],
             [
              1,
              "#f0f921"
             ]
            ],
            "type": "contour"
           }
          ],
          "contourcarpet": [
           {
            "colorbar": {
             "outlinewidth": 0,
             "ticks": ""
            },
            "type": "contourcarpet"
           }
          ],
          "heatmap": [
           {
            "colorbar": {
             "outlinewidth": 0,
             "ticks": ""
            },
            "colorscale": [
             [
              0,
              "#0d0887"
             ],
             [
              0.1111111111111111,
              "#46039f"
             ],
             [
              0.2222222222222222,
              "#7201a8"
             ],
             [
              0.3333333333333333,
              "#9c179e"
             ],
             [
              0.4444444444444444,
              "#bd3786"
             ],
             [
              0.5555555555555556,
              "#d8576b"
             ],
             [
              0.6666666666666666,
              "#ed7953"
             ],
             [
              0.7777777777777778,
              "#fb9f3a"
             ],
             [
              0.8888888888888888,
              "#fdca26"
             ],
             [
              1,
              "#f0f921"
             ]
            ],
            "type": "heatmap"
           }
          ],
          "heatmapgl": [
           {
            "colorbar": {
             "outlinewidth": 0,
             "ticks": ""
            },
            "colorscale": [
             [
              0,
              "#0d0887"
             ],
             [
              0.1111111111111111,
              "#46039f"
             ],
             [
              0.2222222222222222,
              "#7201a8"
             ],
             [
              0.3333333333333333,
              "#9c179e"
             ],
             [
              0.4444444444444444,
              "#bd3786"
             ],
             [
              0.5555555555555556,
              "#d8576b"
             ],
             [
              0.6666666666666666,
              "#ed7953"
             ],
             [
              0.7777777777777778,
              "#fb9f3a"
             ],
             [
              0.8888888888888888,
              "#fdca26"
             ],
             [
              1,
              "#f0f921"
             ]
            ],
            "type": "heatmapgl"
           }
          ],
          "histogram": [
           {
            "marker": {
             "colorbar": {
              "outlinewidth": 0,
              "ticks": ""
             }
            },
            "type": "histogram"
           }
          ],
          "histogram2d": [
           {
            "colorbar": {
             "outlinewidth": 0,
             "ticks": ""
            },
            "colorscale": [
             [
              0,
              "#0d0887"
             ],
             [
              0.1111111111111111,
              "#46039f"
             ],
             [
              0.2222222222222222,
              "#7201a8"
             ],
             [
              0.3333333333333333,
              "#9c179e"
             ],
             [
              0.4444444444444444,
              "#bd3786"
             ],
             [
              0.5555555555555556,
              "#d8576b"
             ],
             [
              0.6666666666666666,
              "#ed7953"
             ],
             [
              0.7777777777777778,
              "#fb9f3a"
             ],
             [
              0.8888888888888888,
              "#fdca26"
             ],
             [
              1,
              "#f0f921"
             ]
            ],
            "type": "histogram2d"
           }
          ],
          "histogram2dcontour": [
           {
            "colorbar": {
             "outlinewidth": 0,
             "ticks": ""
            },
            "colorscale": [
             [
              0,
              "#0d0887"
             ],
             [
              0.1111111111111111,
              "#46039f"
             ],
             [
              0.2222222222222222,
              "#7201a8"
             ],
             [
              0.3333333333333333,
              "#9c179e"
             ],
             [
              0.4444444444444444,
              "#bd3786"
             ],
             [
              0.5555555555555556,
              "#d8576b"
             ],
             [
              0.6666666666666666,
              "#ed7953"
             ],
             [
              0.7777777777777778,
              "#fb9f3a"
             ],
             [
              0.8888888888888888,
              "#fdca26"
             ],
             [
              1,
              "#f0f921"
             ]
            ],
            "type": "histogram2dcontour"
           }
          ],
          "mesh3d": [
           {
            "colorbar": {
             "outlinewidth": 0,
             "ticks": ""
            },
            "type": "mesh3d"
           }
          ],
          "parcoords": [
           {
            "line": {
             "colorbar": {
              "outlinewidth": 0,
              "ticks": ""
             }
            },
            "type": "parcoords"
           }
          ],
          "pie": [
           {
            "automargin": true,
            "type": "pie"
           }
          ],
          "scatter": [
           {
            "marker": {
             "colorbar": {
              "outlinewidth": 0,
              "ticks": ""
             }
            },
            "type": "scatter"
           }
          ],
          "scatter3d": [
           {
            "line": {
             "colorbar": {
              "outlinewidth": 0,
              "ticks": ""
             }
            },
            "marker": {
             "colorbar": {
              "outlinewidth": 0,
              "ticks": ""
             }
            },
            "type": "scatter3d"
           }
          ],
          "scattercarpet": [
           {
            "marker": {
             "colorbar": {
              "outlinewidth": 0,
              "ticks": ""
             }
            },
            "type": "scattercarpet"
           }
          ],
          "scattergeo": [
           {
            "marker": {
             "colorbar": {
              "outlinewidth": 0,
              "ticks": ""
             }
            },
            "type": "scattergeo"
           }
          ],
          "scattergl": [
           {
            "marker": {
             "colorbar": {
              "outlinewidth": 0,
              "ticks": ""
             }
            },
            "type": "scattergl"
           }
          ],
          "scattermapbox": [
           {
            "marker": {
             "colorbar": {
              "outlinewidth": 0,
              "ticks": ""
             }
            },
            "type": "scattermapbox"
           }
          ],
          "scatterpolar": [
           {
            "marker": {
             "colorbar": {
              "outlinewidth": 0,
              "ticks": ""
             }
            },
            "type": "scatterpolar"
           }
          ],
          "scatterpolargl": [
           {
            "marker": {
             "colorbar": {
              "outlinewidth": 0,
              "ticks": ""
             }
            },
            "type": "scatterpolargl"
           }
          ],
          "scatterternary": [
           {
            "marker": {
             "colorbar": {
              "outlinewidth": 0,
              "ticks": ""
             }
            },
            "type": "scatterternary"
           }
          ],
          "surface": [
           {
            "colorbar": {
             "outlinewidth": 0,
             "ticks": ""
            },
            "colorscale": [
             [
              0,
              "#0d0887"
             ],
             [
              0.1111111111111111,
              "#46039f"
             ],
             [
              0.2222222222222222,
              "#7201a8"
             ],
             [
              0.3333333333333333,
              "#9c179e"
             ],
             [
              0.4444444444444444,
              "#bd3786"
             ],
             [
              0.5555555555555556,
              "#d8576b"
             ],
             [
              0.6666666666666666,
              "#ed7953"
             ],
             [
              0.7777777777777778,
              "#fb9f3a"
             ],
             [
              0.8888888888888888,
              "#fdca26"
             ],
             [
              1,
              "#f0f921"
             ]
            ],
            "type": "surface"
           }
          ],
          "table": [
           {
            "cells": {
             "fill": {
              "color": "#EBF0F8"
             },
             "line": {
              "color": "white"
             }
            },
            "header": {
             "fill": {
              "color": "#C8D4E3"
             },
             "line": {
              "color": "white"
             }
            },
            "type": "table"
           }
          ]
         },
         "layout": {
          "annotationdefaults": {
           "arrowcolor": "#2a3f5f",
           "arrowhead": 0,
           "arrowwidth": 1
          },
          "coloraxis": {
           "colorbar": {
            "outlinewidth": 0,
            "ticks": ""
           }
          },
          "colorscale": {
           "diverging": [
            [
             0,
             "#8e0152"
            ],
            [
             0.1,
             "#c51b7d"
            ],
            [
             0.2,
             "#de77ae"
            ],
            [
             0.3,
             "#f1b6da"
            ],
            [
             0.4,
             "#fde0ef"
            ],
            [
             0.5,
             "#f7f7f7"
            ],
            [
             0.6,
             "#e6f5d0"
            ],
            [
             0.7,
             "#b8e186"
            ],
            [
             0.8,
             "#7fbc41"
            ],
            [
             0.9,
             "#4d9221"
            ],
            [
             1,
             "#276419"
            ]
           ],
           "sequential": [
            [
             0,
             "#0d0887"
            ],
            [
             0.1111111111111111,
             "#46039f"
            ],
            [
             0.2222222222222222,
             "#7201a8"
            ],
            [
             0.3333333333333333,
             "#9c179e"
            ],
            [
             0.4444444444444444,
             "#bd3786"
            ],
            [
             0.5555555555555556,
             "#d8576b"
            ],
            [
             0.6666666666666666,
             "#ed7953"
            ],
            [
             0.7777777777777778,
             "#fb9f3a"
            ],
            [
             0.8888888888888888,
             "#fdca26"
            ],
            [
             1,
             "#f0f921"
            ]
           ],
           "sequentialminus": [
            [
             0,
             "#0d0887"
            ],
            [
             0.1111111111111111,
             "#46039f"
            ],
            [
             0.2222222222222222,
             "#7201a8"
            ],
            [
             0.3333333333333333,
             "#9c179e"
            ],
            [
             0.4444444444444444,
             "#bd3786"
            ],
            [
             0.5555555555555556,
             "#d8576b"
            ],
            [
             0.6666666666666666,
             "#ed7953"
            ],
            [
             0.7777777777777778,
             "#fb9f3a"
            ],
            [
             0.8888888888888888,
             "#fdca26"
            ],
            [
             1,
             "#f0f921"
            ]
           ]
          },
          "colorway": [
           "#636efa",
           "#EF553B",
           "#00cc96",
           "#ab63fa",
           "#FFA15A",
           "#19d3f3",
           "#FF6692",
           "#B6E880",
           "#FF97FF",
           "#FECB52"
          ],
          "font": {
           "color": "#2a3f5f"
          },
          "geo": {
           "bgcolor": "white",
           "lakecolor": "white",
           "landcolor": "#E5ECF6",
           "showlakes": true,
           "showland": true,
           "subunitcolor": "white"
          },
          "hoverlabel": {
           "align": "left"
          },
          "hovermode": "closest",
          "mapbox": {
           "style": "light"
          },
          "paper_bgcolor": "white",
          "plot_bgcolor": "#E5ECF6",
          "polar": {
           "angularaxis": {
            "gridcolor": "white",
            "linecolor": "white",
            "ticks": ""
           },
           "bgcolor": "#E5ECF6",
           "radialaxis": {
            "gridcolor": "white",
            "linecolor": "white",
            "ticks": ""
           }
          },
          "scene": {
           "xaxis": {
            "backgroundcolor": "#E5ECF6",
            "gridcolor": "white",
            "gridwidth": 2,
            "linecolor": "white",
            "showbackground": true,
            "ticks": "",
            "zerolinecolor": "white"
           },
           "yaxis": {
            "backgroundcolor": "#E5ECF6",
            "gridcolor": "white",
            "gridwidth": 2,
            "linecolor": "white",
            "showbackground": true,
            "ticks": "",
            "zerolinecolor": "white"
           },
           "zaxis": {
            "backgroundcolor": "#E5ECF6",
            "gridcolor": "white",
            "gridwidth": 2,
            "linecolor": "white",
            "showbackground": true,
            "ticks": "",
            "zerolinecolor": "white"
           }
          },
          "shapedefaults": {
           "line": {
            "color": "#2a3f5f"
           }
          },
          "ternary": {
           "aaxis": {
            "gridcolor": "white",
            "linecolor": "white",
            "ticks": ""
           },
           "baxis": {
            "gridcolor": "white",
            "linecolor": "white",
            "ticks": ""
           },
           "bgcolor": "#E5ECF6",
           "caxis": {
            "gridcolor": "white",
            "linecolor": "white",
            "ticks": ""
           }
          },
          "title": {
           "x": 0.05
          },
          "xaxis": {
           "automargin": true,
           "gridcolor": "white",
           "linecolor": "white",
           "ticks": "",
           "title": {
            "standoff": 15
           },
           "zerolinecolor": "white",
           "zerolinewidth": 2
          },
          "yaxis": {
           "automargin": true,
           "gridcolor": "white",
           "linecolor": "white",
           "ticks": "",
           "title": {
            "standoff": 15
           },
           "zerolinecolor": "white",
           "zerolinewidth": 2
          }
         }
        },
        "title": {
         "text": "Correlations between Amenities and Reviews"
        },
        "yaxis": {
         "title": {
          "text": "Correlation Coefficients"
         }
        }
       }
      },
      "text/html": [
       "<div>\n",
       "        \n",
       "        \n",
       "            <div id=\"01c06f34-35a4-402e-b958-5cd8f932eecd\" class=\"plotly-graph-div\" style=\"height:525px; width:100%;\"></div>\n",
       "            <script type=\"text/javascript\">\n",
       "                require([\"plotly\"], function(Plotly) {\n",
       "                    window.PLOTLYENV=window.PLOTLYENV || {};\n",
       "                    \n",
       "                if (document.getElementById(\"01c06f34-35a4-402e-b958-5cd8f932eecd\")) {\n",
       "                    Plotly.newPlot(\n",
       "                        '01c06f34-35a4-402e-b958-5cd8f932eecd',\n",
       "                        [{\"type\": \"bar\", \"x\": [\"amenities_kitchen\", \"amenities_lock_on_bedroom_door\", \"amenities_air_conditioning\", \"amenities_hot_tub\", \"amenities_washer_/_dryer\", \"amenities_pool\", \"amenities_smoking_allowed\", \"amenities_gym\", \"amenities_translation_missing:_en.hosting_amenity_49\", \"amenities_translation_missing:_en.hosting_amenity_50\"], \"y\": [-0.01, -0.01, -0.01, -0.01, -0.01, -0.02, -0.02, -0.02, -0.03, -0.03]}],\n",
       "                        {\"template\": {\"data\": {\"bar\": [{\"error_x\": {\"color\": \"#2a3f5f\"}, \"error_y\": {\"color\": \"#2a3f5f\"}, \"marker\": {\"line\": {\"color\": \"#E5ECF6\", \"width\": 0.5}}, \"type\": \"bar\"}], \"barpolar\": [{\"marker\": {\"line\": {\"color\": \"#E5ECF6\", \"width\": 0.5}}, \"type\": \"barpolar\"}], \"carpet\": [{\"aaxis\": {\"endlinecolor\": \"#2a3f5f\", \"gridcolor\": \"white\", \"linecolor\": \"white\", \"minorgridcolor\": \"white\", \"startlinecolor\": \"#2a3f5f\"}, \"baxis\": {\"endlinecolor\": \"#2a3f5f\", \"gridcolor\": \"white\", \"linecolor\": \"white\", \"minorgridcolor\": \"white\", \"startlinecolor\": \"#2a3f5f\"}, \"type\": \"carpet\"}], \"choropleth\": [{\"colorbar\": {\"outlinewidth\": 0, \"ticks\": \"\"}, \"type\": \"choropleth\"}], \"contour\": [{\"colorbar\": {\"outlinewidth\": 0, \"ticks\": \"\"}, \"colorscale\": [[0.0, \"#0d0887\"], [0.1111111111111111, \"#46039f\"], [0.2222222222222222, \"#7201a8\"], [0.3333333333333333, \"#9c179e\"], [0.4444444444444444, \"#bd3786\"], [0.5555555555555556, \"#d8576b\"], [0.6666666666666666, \"#ed7953\"], [0.7777777777777778, \"#fb9f3a\"], [0.8888888888888888, \"#fdca26\"], [1.0, \"#f0f921\"]], \"type\": \"contour\"}], \"contourcarpet\": [{\"colorbar\": {\"outlinewidth\": 0, \"ticks\": \"\"}, \"type\": \"contourcarpet\"}], \"heatmap\": [{\"colorbar\": {\"outlinewidth\": 0, \"ticks\": \"\"}, \"colorscale\": [[0.0, \"#0d0887\"], [0.1111111111111111, \"#46039f\"], [0.2222222222222222, \"#7201a8\"], [0.3333333333333333, \"#9c179e\"], [0.4444444444444444, \"#bd3786\"], [0.5555555555555556, \"#d8576b\"], [0.6666666666666666, \"#ed7953\"], [0.7777777777777778, \"#fb9f3a\"], [0.8888888888888888, \"#fdca26\"], [1.0, \"#f0f921\"]], \"type\": \"heatmap\"}], \"heatmapgl\": [{\"colorbar\": {\"outlinewidth\": 0, \"ticks\": \"\"}, \"colorscale\": [[0.0, \"#0d0887\"], [0.1111111111111111, \"#46039f\"], [0.2222222222222222, \"#7201a8\"], [0.3333333333333333, \"#9c179e\"], [0.4444444444444444, \"#bd3786\"], [0.5555555555555556, \"#d8576b\"], [0.6666666666666666, \"#ed7953\"], [0.7777777777777778, \"#fb9f3a\"], [0.8888888888888888, \"#fdca26\"], [1.0, \"#f0f921\"]], \"type\": \"heatmapgl\"}], \"histogram\": [{\"marker\": {\"colorbar\": {\"outlinewidth\": 0, \"ticks\": \"\"}}, \"type\": \"histogram\"}], \"histogram2d\": [{\"colorbar\": {\"outlinewidth\": 0, \"ticks\": \"\"}, \"colorscale\": [[0.0, \"#0d0887\"], [0.1111111111111111, \"#46039f\"], [0.2222222222222222, \"#7201a8\"], [0.3333333333333333, \"#9c179e\"], [0.4444444444444444, \"#bd3786\"], [0.5555555555555556, \"#d8576b\"], [0.6666666666666666, \"#ed7953\"], [0.7777777777777778, \"#fb9f3a\"], [0.8888888888888888, \"#fdca26\"], [1.0, \"#f0f921\"]], \"type\": \"histogram2d\"}], \"histogram2dcontour\": [{\"colorbar\": {\"outlinewidth\": 0, \"ticks\": \"\"}, \"colorscale\": [[0.0, \"#0d0887\"], [0.1111111111111111, \"#46039f\"], [0.2222222222222222, \"#7201a8\"], [0.3333333333333333, \"#9c179e\"], [0.4444444444444444, \"#bd3786\"], [0.5555555555555556, \"#d8576b\"], [0.6666666666666666, \"#ed7953\"], [0.7777777777777778, \"#fb9f3a\"], [0.8888888888888888, \"#fdca26\"], [1.0, \"#f0f921\"]], \"type\": \"histogram2dcontour\"}], \"mesh3d\": [{\"colorbar\": {\"outlinewidth\": 0, \"ticks\": \"\"}, \"type\": \"mesh3d\"}], \"parcoords\": [{\"line\": {\"colorbar\": {\"outlinewidth\": 0, \"ticks\": \"\"}}, \"type\": \"parcoords\"}], \"pie\": [{\"automargin\": true, \"type\": \"pie\"}], \"scatter\": [{\"marker\": {\"colorbar\": {\"outlinewidth\": 0, \"ticks\": \"\"}}, \"type\": \"scatter\"}], \"scatter3d\": [{\"line\": {\"colorbar\": {\"outlinewidth\": 0, \"ticks\": \"\"}}, \"marker\": {\"colorbar\": {\"outlinewidth\": 0, \"ticks\": \"\"}}, \"type\": \"scatter3d\"}], \"scattercarpet\": [{\"marker\": {\"colorbar\": {\"outlinewidth\": 0, \"ticks\": \"\"}}, \"type\": \"scattercarpet\"}], \"scattergeo\": [{\"marker\": {\"colorbar\": {\"outlinewidth\": 0, \"ticks\": \"\"}}, \"type\": \"scattergeo\"}], \"scattergl\": [{\"marker\": {\"colorbar\": {\"outlinewidth\": 0, \"ticks\": \"\"}}, \"type\": \"scattergl\"}], \"scattermapbox\": [{\"marker\": {\"colorbar\": {\"outlinewidth\": 0, \"ticks\": \"\"}}, \"type\": \"scattermapbox\"}], \"scatterpolar\": [{\"marker\": {\"colorbar\": {\"outlinewidth\": 0, \"ticks\": \"\"}}, \"type\": \"scatterpolar\"}], \"scatterpolargl\": [{\"marker\": {\"colorbar\": {\"outlinewidth\": 0, \"ticks\": \"\"}}, \"type\": \"scatterpolargl\"}], \"scatterternary\": [{\"marker\": {\"colorbar\": {\"outlinewidth\": 0, \"ticks\": \"\"}}, \"type\": \"scatterternary\"}], \"surface\": [{\"colorbar\": {\"outlinewidth\": 0, \"ticks\": \"\"}, \"colorscale\": [[0.0, \"#0d0887\"], [0.1111111111111111, \"#46039f\"], [0.2222222222222222, \"#7201a8\"], [0.3333333333333333, \"#9c179e\"], [0.4444444444444444, \"#bd3786\"], [0.5555555555555556, \"#d8576b\"], [0.6666666666666666, \"#ed7953\"], [0.7777777777777778, \"#fb9f3a\"], [0.8888888888888888, \"#fdca26\"], [1.0, \"#f0f921\"]], \"type\": \"surface\"}], \"table\": [{\"cells\": {\"fill\": {\"color\": \"#EBF0F8\"}, \"line\": {\"color\": \"white\"}}, \"header\": {\"fill\": {\"color\": \"#C8D4E3\"}, \"line\": {\"color\": \"white\"}}, \"type\": \"table\"}]}, \"layout\": {\"annotationdefaults\": {\"arrowcolor\": \"#2a3f5f\", \"arrowhead\": 0, \"arrowwidth\": 1}, \"coloraxis\": {\"colorbar\": {\"outlinewidth\": 0, \"ticks\": \"\"}}, \"colorscale\": {\"diverging\": [[0, \"#8e0152\"], [0.1, \"#c51b7d\"], [0.2, \"#de77ae\"], [0.3, \"#f1b6da\"], [0.4, \"#fde0ef\"], [0.5, \"#f7f7f7\"], [0.6, \"#e6f5d0\"], [0.7, \"#b8e186\"], [0.8, \"#7fbc41\"], [0.9, \"#4d9221\"], [1, \"#276419\"]], \"sequential\": [[0.0, \"#0d0887\"], [0.1111111111111111, \"#46039f\"], [0.2222222222222222, \"#7201a8\"], [0.3333333333333333, \"#9c179e\"], [0.4444444444444444, \"#bd3786\"], [0.5555555555555556, \"#d8576b\"], [0.6666666666666666, \"#ed7953\"], [0.7777777777777778, \"#fb9f3a\"], [0.8888888888888888, \"#fdca26\"], [1.0, \"#f0f921\"]], \"sequentialminus\": [[0.0, \"#0d0887\"], [0.1111111111111111, \"#46039f\"], [0.2222222222222222, \"#7201a8\"], [0.3333333333333333, \"#9c179e\"], [0.4444444444444444, \"#bd3786\"], [0.5555555555555556, \"#d8576b\"], [0.6666666666666666, \"#ed7953\"], [0.7777777777777778, \"#fb9f3a\"], [0.8888888888888888, \"#fdca26\"], [1.0, \"#f0f921\"]]}, \"colorway\": [\"#636efa\", \"#EF553B\", \"#00cc96\", \"#ab63fa\", \"#FFA15A\", \"#19d3f3\", \"#FF6692\", \"#B6E880\", \"#FF97FF\", \"#FECB52\"], \"font\": {\"color\": \"#2a3f5f\"}, \"geo\": {\"bgcolor\": \"white\", \"lakecolor\": \"white\", \"landcolor\": \"#E5ECF6\", \"showlakes\": true, \"showland\": true, \"subunitcolor\": \"white\"}, \"hoverlabel\": {\"align\": \"left\"}, \"hovermode\": \"closest\", \"mapbox\": {\"style\": \"light\"}, \"paper_bgcolor\": \"white\", \"plot_bgcolor\": \"#E5ECF6\", \"polar\": {\"angularaxis\": {\"gridcolor\": \"white\", \"linecolor\": \"white\", \"ticks\": \"\"}, \"bgcolor\": \"#E5ECF6\", \"radialaxis\": {\"gridcolor\": \"white\", \"linecolor\": \"white\", \"ticks\": \"\"}}, \"scene\": {\"xaxis\": {\"backgroundcolor\": \"#E5ECF6\", \"gridcolor\": \"white\", \"gridwidth\": 2, \"linecolor\": \"white\", \"showbackground\": true, \"ticks\": \"\", \"zerolinecolor\": \"white\"}, \"yaxis\": {\"backgroundcolor\": \"#E5ECF6\", \"gridcolor\": \"white\", \"gridwidth\": 2, \"linecolor\": \"white\", \"showbackground\": true, \"ticks\": \"\", \"zerolinecolor\": \"white\"}, \"zaxis\": {\"backgroundcolor\": \"#E5ECF6\", \"gridcolor\": \"white\", \"gridwidth\": 2, \"linecolor\": \"white\", \"showbackground\": true, \"ticks\": \"\", \"zerolinecolor\": \"white\"}}, \"shapedefaults\": {\"line\": {\"color\": \"#2a3f5f\"}}, \"ternary\": {\"aaxis\": {\"gridcolor\": \"white\", \"linecolor\": \"white\", \"ticks\": \"\"}, \"baxis\": {\"gridcolor\": \"white\", \"linecolor\": \"white\", \"ticks\": \"\"}, \"bgcolor\": \"#E5ECF6\", \"caxis\": {\"gridcolor\": \"white\", \"linecolor\": \"white\", \"ticks\": \"\"}}, \"title\": {\"x\": 0.05}, \"xaxis\": {\"automargin\": true, \"gridcolor\": \"white\", \"linecolor\": \"white\", \"ticks\": \"\", \"title\": {\"standoff\": 15}, \"zerolinecolor\": \"white\", \"zerolinewidth\": 2}, \"yaxis\": {\"automargin\": true, \"gridcolor\": \"white\", \"linecolor\": \"white\", \"ticks\": \"\", \"title\": {\"standoff\": 15}, \"zerolinecolor\": \"white\", \"zerolinewidth\": 2}}}, \"title\": {\"text\": \"Correlations between Amenities and Reviews\"}, \"yaxis\": {\"title\": {\"text\": \"Correlation Coefficients\"}}},\n",
       "                        {\"responsive\": true}\n",
       "                    ).then(function(){\n",
       "                            \n",
       "var gd = document.getElementById('01c06f34-35a4-402e-b958-5cd8f932eecd');\n",
       "var x = new MutationObserver(function (mutations, observer) {{\n",
       "        var display = window.getComputedStyle(gd).display;\n",
       "        if (!display || display === 'none') {{\n",
       "            console.log([gd, 'removed!']);\n",
       "            Plotly.purge(gd);\n",
       "            observer.disconnect();\n",
       "        }}\n",
       "}});\n",
       "\n",
       "// Listen for the removal of the full notebook cells\n",
       "var notebookContainer = gd.closest('#notebook-container');\n",
       "if (notebookContainer) {{\n",
       "    x.observe(notebookContainer, {childList: true});\n",
       "}}\n",
       "\n",
       "// Listen for the clearing of the current output cell\n",
       "var outputEl = gd.closest('.output');\n",
       "if (outputEl) {{\n",
       "    x.observe(outputEl, {childList: true});\n",
       "}}\n",
       "\n",
       "                        })\n",
       "                };\n",
       "                });\n",
       "            </script>\n",
       "        </div>"
      ]
     },
     "metadata": {},
     "output_type": "display_data"
    }
   ],
   "source": [
    "# Top 20 of the amenities negative correlated to reviews\n",
    "#Sort correlation coefficients in ascending order \n",
    "ar = amenities_reviews[\"review_scores_rating\"].sort_values(ascending=False).tail(10).to_frame().reset_index()\n",
    "ar.rename(columns={\"index\":\"var\"},inplace=True)\n",
    "ar = ar[ar['var'].str.contains(\"review\") ==False]\n",
    "\n",
    "#mean of coefficients\n",
    "ar.review_scores_rating.mean()\n",
    "#0.07409090909090911\n",
    "\n",
    "# Plot Bar Chart with the data frame above\n",
    "fig = go.Figure()\n",
    "fig.add_trace(go.Bar(x=ar['var'], y=ar.review_scores_rating))\n",
    "fig.update_layout(yaxis_title=\"Correlation Coefficients\", title = \"Correlations between Amenities and Reviews\")\n",
    "fig.show()"
   ]
  },
  {
   "cell_type": "markdown",
   "metadata": {},
   "source": [
    "The correlation coefficients of review rating and amenities are below 0.13. The amenities with the highest positive correlation to review ratings are: Fire Extinguisher, Shampoo, First aid kit, essentials, and Free Parking on Premises. The review ratings are negatively correlated to: translation missing, gym, smoking allowed, pool, washer/dryer. The amenities highly correlated to price mostly do not coincide with amenities, which highly correlated to reviews."
   ]
  },
  {
   "cell_type": "markdown",
   "metadata": {},
   "source": [
    "### Price vs. Reviews"
   ]
  },
  {
   "cell_type": "code",
   "execution_count": 25,
   "metadata": {},
   "outputs": [
    {
     "data": {
      "application/vnd.plotly.v1+json": {
       "config": {
        "plotlyServerURL": "https://plot.ly"
       },
       "data": [
        {
         "colorscale": [
          [
           0,
           "#440154"
          ],
          [
           0.1111111111111111,
           "#482878"
          ],
          [
           0.2222222222222222,
           "#3e4989"
          ],
          [
           0.3333333333333333,
           "#31688e"
          ],
          [
           0.4444444444444444,
           "#26828e"
          ],
          [
           0.5555555555555556,
           "#1f9e89"
          ],
          [
           0.6666666666666666,
           "#35b779"
          ],
          [
           0.7777777777777778,
           "#6ece58"
          ],
          [
           0.8888888888888888,
           "#b5de2b"
          ],
          [
           1,
           "#fde725"
          ]
         ],
         "type": "heatmap",
         "x": [
          "number_of_reviews",
          "review_scores_accuracy",
          "review_scores_checkin",
          "review_scores_cleanliness",
          "review_scores_communication",
          "review_scores_rating",
          "review_scores_value",
          "reviews_per_month",
          "price"
         ],
         "y": [
          "number_of_reviews",
          "review_scores_accuracy",
          "review_scores_checkin",
          "review_scores_cleanliness",
          "review_scores_communication",
          "review_scores_rating",
          "review_scores_value",
          "reviews_per_month",
          "price"
         ],
         "z": [
          [
           1,
           0.05,
           0.07,
           0.04,
           0.06,
           0.03,
           0.04,
           0.51,
           -0.11
          ],
          [
           0.05,
           1,
           0.45,
           0.61,
           0.47,
           0.68,
           0.63,
           0.13,
           0.01
          ],
          [
           0.07,
           0.45,
           1,
           0.44,
           0.68,
           0.56,
           0.47,
           0.11,
           -0.01
          ],
          [
           0.04,
           0.61,
           0.44,
           1,
           0.42,
           0.72,
           0.61,
           0.12,
           0.06
          ],
          [
           0.06,
           0.47,
           0.68,
           0.42,
           1,
           0.58,
           0.51,
           0.1,
           -0.01
          ],
          [
           0.03,
           0.68,
           0.56,
           0.72,
           0.58,
           1,
           0.76,
           0.08,
           0.04
          ],
          [
           0.04,
           0.63,
           0.47,
           0.61,
           0.51,
           0.76,
           1,
           0.13,
           -0.03
          ],
          [
           0.51,
           0.13,
           0.11,
           0.12,
           0.1,
           0.08,
           0.13,
           1,
           -0.14
          ],
          [
           -0.11,
           0.01,
           -0.01,
           0.06,
           -0.01,
           0.04,
           -0.03,
           -0.14,
           1
          ]
         ]
        }
       ],
       "layout": {
        "autosize": true,
        "template": {
         "data": {
          "bar": [
           {
            "error_x": {
             "color": "#2a3f5f"
            },
            "error_y": {
             "color": "#2a3f5f"
            },
            "marker": {
             "line": {
              "color": "#E5ECF6",
              "width": 0.5
             }
            },
            "type": "bar"
           }
          ],
          "barpolar": [
           {
            "marker": {
             "line": {
              "color": "#E5ECF6",
              "width": 0.5
             }
            },
            "type": "barpolar"
           }
          ],
          "carpet": [
           {
            "aaxis": {
             "endlinecolor": "#2a3f5f",
             "gridcolor": "white",
             "linecolor": "white",
             "minorgridcolor": "white",
             "startlinecolor": "#2a3f5f"
            },
            "baxis": {
             "endlinecolor": "#2a3f5f",
             "gridcolor": "white",
             "linecolor": "white",
             "minorgridcolor": "white",
             "startlinecolor": "#2a3f5f"
            },
            "type": "carpet"
           }
          ],
          "choropleth": [
           {
            "colorbar": {
             "outlinewidth": 0,
             "ticks": ""
            },
            "type": "choropleth"
           }
          ],
          "contour": [
           {
            "colorbar": {
             "outlinewidth": 0,
             "ticks": ""
            },
            "colorscale": [
             [
              0,
              "#0d0887"
             ],
             [
              0.1111111111111111,
              "#46039f"
             ],
             [
              0.2222222222222222,
              "#7201a8"
             ],
             [
              0.3333333333333333,
              "#9c179e"
             ],
             [
              0.4444444444444444,
              "#bd3786"
             ],
             [
              0.5555555555555556,
              "#d8576b"
             ],
             [
              0.6666666666666666,
              "#ed7953"
             ],
             [
              0.7777777777777778,
              "#fb9f3a"
             ],
             [
              0.8888888888888888,
              "#fdca26"
             ],
             [
              1,
              "#f0f921"
             ]
            ],
            "type": "contour"
           }
          ],
          "contourcarpet": [
           {
            "colorbar": {
             "outlinewidth": 0,
             "ticks": ""
            },
            "type": "contourcarpet"
           }
          ],
          "heatmap": [
           {
            "colorbar": {
             "outlinewidth": 0,
             "ticks": ""
            },
            "colorscale": [
             [
              0,
              "#0d0887"
             ],
             [
              0.1111111111111111,
              "#46039f"
             ],
             [
              0.2222222222222222,
              "#7201a8"
             ],
             [
              0.3333333333333333,
              "#9c179e"
             ],
             [
              0.4444444444444444,
              "#bd3786"
             ],
             [
              0.5555555555555556,
              "#d8576b"
             ],
             [
              0.6666666666666666,
              "#ed7953"
             ],
             [
              0.7777777777777778,
              "#fb9f3a"
             ],
             [
              0.8888888888888888,
              "#fdca26"
             ],
             [
              1,
              "#f0f921"
             ]
            ],
            "type": "heatmap"
           }
          ],
          "heatmapgl": [
           {
            "colorbar": {
             "outlinewidth": 0,
             "ticks": ""
            },
            "colorscale": [
             [
              0,
              "#0d0887"
             ],
             [
              0.1111111111111111,
              "#46039f"
             ],
             [
              0.2222222222222222,
              "#7201a8"
             ],
             [
              0.3333333333333333,
              "#9c179e"
             ],
             [
              0.4444444444444444,
              "#bd3786"
             ],
             [
              0.5555555555555556,
              "#d8576b"
             ],
             [
              0.6666666666666666,
              "#ed7953"
             ],
             [
              0.7777777777777778,
              "#fb9f3a"
             ],
             [
              0.8888888888888888,
              "#fdca26"
             ],
             [
              1,
              "#f0f921"
             ]
            ],
            "type": "heatmapgl"
           }
          ],
          "histogram": [
           {
            "marker": {
             "colorbar": {
              "outlinewidth": 0,
              "ticks": ""
             }
            },
            "type": "histogram"
           }
          ],
          "histogram2d": [
           {
            "colorbar": {
             "outlinewidth": 0,
             "ticks": ""
            },
            "colorscale": [
             [
              0,
              "#0d0887"
             ],
             [
              0.1111111111111111,
              "#46039f"
             ],
             [
              0.2222222222222222,
              "#7201a8"
             ],
             [
              0.3333333333333333,
              "#9c179e"
             ],
             [
              0.4444444444444444,
              "#bd3786"
             ],
             [
              0.5555555555555556,
              "#d8576b"
             ],
             [
              0.6666666666666666,
              "#ed7953"
             ],
             [
              0.7777777777777778,
              "#fb9f3a"
             ],
             [
              0.8888888888888888,
              "#fdca26"
             ],
             [
              1,
              "#f0f921"
             ]
            ],
            "type": "histogram2d"
           }
          ],
          "histogram2dcontour": [
           {
            "colorbar": {
             "outlinewidth": 0,
             "ticks": ""
            },
            "colorscale": [
             [
              0,
              "#0d0887"
             ],
             [
              0.1111111111111111,
              "#46039f"
             ],
             [
              0.2222222222222222,
              "#7201a8"
             ],
             [
              0.3333333333333333,
              "#9c179e"
             ],
             [
              0.4444444444444444,
              "#bd3786"
             ],
             [
              0.5555555555555556,
              "#d8576b"
             ],
             [
              0.6666666666666666,
              "#ed7953"
             ],
             [
              0.7777777777777778,
              "#fb9f3a"
             ],
             [
              0.8888888888888888,
              "#fdca26"
             ],
             [
              1,
              "#f0f921"
             ]
            ],
            "type": "histogram2dcontour"
           }
          ],
          "mesh3d": [
           {
            "colorbar": {
             "outlinewidth": 0,
             "ticks": ""
            },
            "type": "mesh3d"
           }
          ],
          "parcoords": [
           {
            "line": {
             "colorbar": {
              "outlinewidth": 0,
              "ticks": ""
             }
            },
            "type": "parcoords"
           }
          ],
          "pie": [
           {
            "automargin": true,
            "type": "pie"
           }
          ],
          "scatter": [
           {
            "marker": {
             "colorbar": {
              "outlinewidth": 0,
              "ticks": ""
             }
            },
            "type": "scatter"
           }
          ],
          "scatter3d": [
           {
            "line": {
             "colorbar": {
              "outlinewidth": 0,
              "ticks": ""
             }
            },
            "marker": {
             "colorbar": {
              "outlinewidth": 0,
              "ticks": ""
             }
            },
            "type": "scatter3d"
           }
          ],
          "scattercarpet": [
           {
            "marker": {
             "colorbar": {
              "outlinewidth": 0,
              "ticks": ""
             }
            },
            "type": "scattercarpet"
           }
          ],
          "scattergeo": [
           {
            "marker": {
             "colorbar": {
              "outlinewidth": 0,
              "ticks": ""
             }
            },
            "type": "scattergeo"
           }
          ],
          "scattergl": [
           {
            "marker": {
             "colorbar": {
              "outlinewidth": 0,
              "ticks": ""
             }
            },
            "type": "scattergl"
           }
          ],
          "scattermapbox": [
           {
            "marker": {
             "colorbar": {
              "outlinewidth": 0,
              "ticks": ""
             }
            },
            "type": "scattermapbox"
           }
          ],
          "scatterpolar": [
           {
            "marker": {
             "colorbar": {
              "outlinewidth": 0,
              "ticks": ""
             }
            },
            "type": "scatterpolar"
           }
          ],
          "scatterpolargl": [
           {
            "marker": {
             "colorbar": {
              "outlinewidth": 0,
              "ticks": ""
             }
            },
            "type": "scatterpolargl"
           }
          ],
          "scatterternary": [
           {
            "marker": {
             "colorbar": {
              "outlinewidth": 0,
              "ticks": ""
             }
            },
            "type": "scatterternary"
           }
          ],
          "surface": [
           {
            "colorbar": {
             "outlinewidth": 0,
             "ticks": ""
            },
            "colorscale": [
             [
              0,
              "#0d0887"
             ],
             [
              0.1111111111111111,
              "#46039f"
             ],
             [
              0.2222222222222222,
              "#7201a8"
             ],
             [
              0.3333333333333333,
              "#9c179e"
             ],
             [
              0.4444444444444444,
              "#bd3786"
             ],
             [
              0.5555555555555556,
              "#d8576b"
             ],
             [
              0.6666666666666666,
              "#ed7953"
             ],
             [
              0.7777777777777778,
              "#fb9f3a"
             ],
             [
              0.8888888888888888,
              "#fdca26"
             ],
             [
              1,
              "#f0f921"
             ]
            ],
            "type": "surface"
           }
          ],
          "table": [
           {
            "cells": {
             "fill": {
              "color": "#EBF0F8"
             },
             "line": {
              "color": "white"
             }
            },
            "header": {
             "fill": {
              "color": "#C8D4E3"
             },
             "line": {
              "color": "white"
             }
            },
            "type": "table"
           }
          ]
         },
         "layout": {
          "annotationdefaults": {
           "arrowcolor": "#2a3f5f",
           "arrowhead": 0,
           "arrowwidth": 1
          },
          "coloraxis": {
           "colorbar": {
            "outlinewidth": 0,
            "ticks": ""
           }
          },
          "colorscale": {
           "diverging": [
            [
             0,
             "#8e0152"
            ],
            [
             0.1,
             "#c51b7d"
            ],
            [
             0.2,
             "#de77ae"
            ],
            [
             0.3,
             "#f1b6da"
            ],
            [
             0.4,
             "#fde0ef"
            ],
            [
             0.5,
             "#f7f7f7"
            ],
            [
             0.6,
             "#e6f5d0"
            ],
            [
             0.7,
             "#b8e186"
            ],
            [
             0.8,
             "#7fbc41"
            ],
            [
             0.9,
             "#4d9221"
            ],
            [
             1,
             "#276419"
            ]
           ],
           "sequential": [
            [
             0,
             "#0d0887"
            ],
            [
             0.1111111111111111,
             "#46039f"
            ],
            [
             0.2222222222222222,
             "#7201a8"
            ],
            [
             0.3333333333333333,
             "#9c179e"
            ],
            [
             0.4444444444444444,
             "#bd3786"
            ],
            [
             0.5555555555555556,
             "#d8576b"
            ],
            [
             0.6666666666666666,
             "#ed7953"
            ],
            [
             0.7777777777777778,
             "#fb9f3a"
            ],
            [
             0.8888888888888888,
             "#fdca26"
            ],
            [
             1,
             "#f0f921"
            ]
           ],
           "sequentialminus": [
            [
             0,
             "#0d0887"
            ],
            [
             0.1111111111111111,
             "#46039f"
            ],
            [
             0.2222222222222222,
             "#7201a8"
            ],
            [
             0.3333333333333333,
             "#9c179e"
            ],
            [
             0.4444444444444444,
             "#bd3786"
            ],
            [
             0.5555555555555556,
             "#d8576b"
            ],
            [
             0.6666666666666666,
             "#ed7953"
            ],
            [
             0.7777777777777778,
             "#fb9f3a"
            ],
            [
             0.8888888888888888,
             "#fdca26"
            ],
            [
             1,
             "#f0f921"
            ]
           ]
          },
          "colorway": [
           "#636efa",
           "#EF553B",
           "#00cc96",
           "#ab63fa",
           "#FFA15A",
           "#19d3f3",
           "#FF6692",
           "#B6E880",
           "#FF97FF",
           "#FECB52"
          ],
          "font": {
           "color": "#2a3f5f"
          },
          "geo": {
           "bgcolor": "white",
           "lakecolor": "white",
           "landcolor": "#E5ECF6",
           "showlakes": true,
           "showland": true,
           "subunitcolor": "white"
          },
          "hoverlabel": {
           "align": "left"
          },
          "hovermode": "closest",
          "mapbox": {
           "style": "light"
          },
          "paper_bgcolor": "white",
          "plot_bgcolor": "#E5ECF6",
          "polar": {
           "angularaxis": {
            "gridcolor": "white",
            "linecolor": "white",
            "ticks": ""
           },
           "bgcolor": "#E5ECF6",
           "radialaxis": {
            "gridcolor": "white",
            "linecolor": "white",
            "ticks": ""
           }
          },
          "scene": {
           "xaxis": {
            "backgroundcolor": "#E5ECF6",
            "gridcolor": "white",
            "gridwidth": 2,
            "linecolor": "white",
            "showbackground": true,
            "ticks": "",
            "zerolinecolor": "white"
           },
           "yaxis": {
            "backgroundcolor": "#E5ECF6",
            "gridcolor": "white",
            "gridwidth": 2,
            "linecolor": "white",
            "showbackground": true,
            "ticks": "",
            "zerolinecolor": "white"
           },
           "zaxis": {
            "backgroundcolor": "#E5ECF6",
            "gridcolor": "white",
            "gridwidth": 2,
            "linecolor": "white",
            "showbackground": true,
            "ticks": "",
            "zerolinecolor": "white"
           }
          },
          "shapedefaults": {
           "line": {
            "color": "#2a3f5f"
           }
          },
          "ternary": {
           "aaxis": {
            "gridcolor": "white",
            "linecolor": "white",
            "ticks": ""
           },
           "baxis": {
            "gridcolor": "white",
            "linecolor": "white",
            "ticks": ""
           },
           "bgcolor": "#E5ECF6",
           "caxis": {
            "gridcolor": "white",
            "linecolor": "white",
            "ticks": ""
           }
          },
          "title": {
           "x": 0.05
          },
          "xaxis": {
           "automargin": true,
           "gridcolor": "white",
           "linecolor": "white",
           "ticks": "",
           "title": {
            "standoff": 15
           },
           "zerolinecolor": "white",
           "zerolinewidth": 2
          },
          "yaxis": {
           "automargin": true,
           "gridcolor": "white",
           "linecolor": "white",
           "ticks": "",
           "title": {
            "standoff": 15
           },
           "zerolinecolor": "white",
           "zerolinewidth": 2
          }
         }
        },
        "title": {
         "text": "Correlation Matrix of price and reviews variables"
        }
       }
      },
      "text/html": [
       "<div>\n",
       "        \n",
       "        \n",
       "            <div id=\"9c592bee-a3ee-4523-a8b6-0099e76fab9c\" class=\"plotly-graph-div\" style=\"height:525px; width:100%;\"></div>\n",
       "            <script type=\"text/javascript\">\n",
       "                require([\"plotly\"], function(Plotly) {\n",
       "                    window.PLOTLYENV=window.PLOTLYENV || {};\n",
       "                    \n",
       "                if (document.getElementById(\"9c592bee-a3ee-4523-a8b6-0099e76fab9c\")) {\n",
       "                    Plotly.newPlot(\n",
       "                        '9c592bee-a3ee-4523-a8b6-0099e76fab9c',\n",
       "                        [{\"colorscale\": [[0.0, \"#440154\"], [0.1111111111111111, \"#482878\"], [0.2222222222222222, \"#3e4989\"], [0.3333333333333333, \"#31688e\"], [0.4444444444444444, \"#26828e\"], [0.5555555555555556, \"#1f9e89\"], [0.6666666666666666, \"#35b779\"], [0.7777777777777778, \"#6ece58\"], [0.8888888888888888, \"#b5de2b\"], [1.0, \"#fde725\"]], \"type\": \"heatmap\", \"x\": [\"number_of_reviews\", \"review_scores_accuracy\", \"review_scores_checkin\", \"review_scores_cleanliness\", \"review_scores_communication\", \"review_scores_rating\", \"review_scores_value\", \"reviews_per_month\", \"price\"], \"y\": [\"number_of_reviews\", \"review_scores_accuracy\", \"review_scores_checkin\", \"review_scores_cleanliness\", \"review_scores_communication\", \"review_scores_rating\", \"review_scores_value\", \"reviews_per_month\", \"price\"], \"z\": [[1.0, 0.05, 0.07, 0.04, 0.06, 0.03, 0.04, 0.51, -0.11], [0.05, 1.0, 0.45, 0.61, 0.47, 0.68, 0.63, 0.13, 0.01], [0.07, 0.45, 1.0, 0.44, 0.68, 0.56, 0.47, 0.11, -0.01], [0.04, 0.61, 0.44, 1.0, 0.42, 0.72, 0.61, 0.12, 0.06], [0.06, 0.47, 0.68, 0.42, 1.0, 0.58, 0.51, 0.1, -0.01], [0.03, 0.68, 0.56, 0.72, 0.58, 1.0, 0.76, 0.08, 0.04], [0.04, 0.63, 0.47, 0.61, 0.51, 0.76, 1.0, 0.13, -0.03], [0.51, 0.13, 0.11, 0.12, 0.1, 0.08, 0.13, 1.0, -0.14], [-0.11, 0.01, -0.01, 0.06, -0.01, 0.04, -0.03, -0.14, 1.0]]}],\n",
       "                        {\"autosize\": true, \"template\": {\"data\": {\"bar\": [{\"error_x\": {\"color\": \"#2a3f5f\"}, \"error_y\": {\"color\": \"#2a3f5f\"}, \"marker\": {\"line\": {\"color\": \"#E5ECF6\", \"width\": 0.5}}, \"type\": \"bar\"}], \"barpolar\": [{\"marker\": {\"line\": {\"color\": \"#E5ECF6\", \"width\": 0.5}}, \"type\": \"barpolar\"}], \"carpet\": [{\"aaxis\": {\"endlinecolor\": \"#2a3f5f\", \"gridcolor\": \"white\", \"linecolor\": \"white\", \"minorgridcolor\": \"white\", \"startlinecolor\": \"#2a3f5f\"}, \"baxis\": {\"endlinecolor\": \"#2a3f5f\", \"gridcolor\": \"white\", \"linecolor\": \"white\", \"minorgridcolor\": \"white\", \"startlinecolor\": \"#2a3f5f\"}, \"type\": \"carpet\"}], \"choropleth\": [{\"colorbar\": {\"outlinewidth\": 0, \"ticks\": \"\"}, \"type\": \"choropleth\"}], \"contour\": [{\"colorbar\": {\"outlinewidth\": 0, \"ticks\": \"\"}, \"colorscale\": [[0.0, \"#0d0887\"], [0.1111111111111111, \"#46039f\"], [0.2222222222222222, \"#7201a8\"], [0.3333333333333333, \"#9c179e\"], [0.4444444444444444, \"#bd3786\"], [0.5555555555555556, \"#d8576b\"], [0.6666666666666666, \"#ed7953\"], [0.7777777777777778, \"#fb9f3a\"], [0.8888888888888888, \"#fdca26\"], [1.0, \"#f0f921\"]], \"type\": \"contour\"}], \"contourcarpet\": [{\"colorbar\": {\"outlinewidth\": 0, \"ticks\": \"\"}, \"type\": \"contourcarpet\"}], \"heatmap\": [{\"colorbar\": {\"outlinewidth\": 0, \"ticks\": \"\"}, \"colorscale\": [[0.0, \"#0d0887\"], [0.1111111111111111, \"#46039f\"], [0.2222222222222222, \"#7201a8\"], [0.3333333333333333, \"#9c179e\"], [0.4444444444444444, \"#bd3786\"], [0.5555555555555556, \"#d8576b\"], [0.6666666666666666, \"#ed7953\"], [0.7777777777777778, \"#fb9f3a\"], [0.8888888888888888, \"#fdca26\"], [1.0, \"#f0f921\"]], \"type\": \"heatmap\"}], \"heatmapgl\": [{\"colorbar\": {\"outlinewidth\": 0, \"ticks\": \"\"}, \"colorscale\": [[0.0, \"#0d0887\"], [0.1111111111111111, \"#46039f\"], [0.2222222222222222, \"#7201a8\"], [0.3333333333333333, \"#9c179e\"], [0.4444444444444444, \"#bd3786\"], [0.5555555555555556, \"#d8576b\"], [0.6666666666666666, \"#ed7953\"], [0.7777777777777778, \"#fb9f3a\"], [0.8888888888888888, \"#fdca26\"], [1.0, \"#f0f921\"]], \"type\": \"heatmapgl\"}], \"histogram\": [{\"marker\": {\"colorbar\": {\"outlinewidth\": 0, \"ticks\": \"\"}}, \"type\": \"histogram\"}], \"histogram2d\": [{\"colorbar\": {\"outlinewidth\": 0, \"ticks\": \"\"}, \"colorscale\": [[0.0, \"#0d0887\"], [0.1111111111111111, \"#46039f\"], [0.2222222222222222, \"#7201a8\"], [0.3333333333333333, \"#9c179e\"], [0.4444444444444444, \"#bd3786\"], [0.5555555555555556, \"#d8576b\"], [0.6666666666666666, \"#ed7953\"], [0.7777777777777778, \"#fb9f3a\"], [0.8888888888888888, \"#fdca26\"], [1.0, \"#f0f921\"]], \"type\": \"histogram2d\"}], \"histogram2dcontour\": [{\"colorbar\": {\"outlinewidth\": 0, \"ticks\": \"\"}, \"colorscale\": [[0.0, \"#0d0887\"], [0.1111111111111111, \"#46039f\"], [0.2222222222222222, \"#7201a8\"], [0.3333333333333333, \"#9c179e\"], [0.4444444444444444, \"#bd3786\"], [0.5555555555555556, \"#d8576b\"], [0.6666666666666666, \"#ed7953\"], [0.7777777777777778, \"#fb9f3a\"], [0.8888888888888888, \"#fdca26\"], [1.0, \"#f0f921\"]], \"type\": \"histogram2dcontour\"}], \"mesh3d\": [{\"colorbar\": {\"outlinewidth\": 0, \"ticks\": \"\"}, \"type\": \"mesh3d\"}], \"parcoords\": [{\"line\": {\"colorbar\": {\"outlinewidth\": 0, \"ticks\": \"\"}}, \"type\": \"parcoords\"}], \"pie\": [{\"automargin\": true, \"type\": \"pie\"}], \"scatter\": [{\"marker\": {\"colorbar\": {\"outlinewidth\": 0, \"ticks\": \"\"}}, \"type\": \"scatter\"}], \"scatter3d\": [{\"line\": {\"colorbar\": {\"outlinewidth\": 0, \"ticks\": \"\"}}, \"marker\": {\"colorbar\": {\"outlinewidth\": 0, \"ticks\": \"\"}}, \"type\": \"scatter3d\"}], \"scattercarpet\": [{\"marker\": {\"colorbar\": {\"outlinewidth\": 0, \"ticks\": \"\"}}, \"type\": \"scattercarpet\"}], \"scattergeo\": [{\"marker\": {\"colorbar\": {\"outlinewidth\": 0, \"ticks\": \"\"}}, \"type\": \"scattergeo\"}], \"scattergl\": [{\"marker\": {\"colorbar\": {\"outlinewidth\": 0, \"ticks\": \"\"}}, \"type\": \"scattergl\"}], \"scattermapbox\": [{\"marker\": {\"colorbar\": {\"outlinewidth\": 0, \"ticks\": \"\"}}, \"type\": \"scattermapbox\"}], \"scatterpolar\": [{\"marker\": {\"colorbar\": {\"outlinewidth\": 0, \"ticks\": \"\"}}, \"type\": \"scatterpolar\"}], \"scatterpolargl\": [{\"marker\": {\"colorbar\": {\"outlinewidth\": 0, \"ticks\": \"\"}}, \"type\": \"scatterpolargl\"}], \"scatterternary\": [{\"marker\": {\"colorbar\": {\"outlinewidth\": 0, \"ticks\": \"\"}}, \"type\": \"scatterternary\"}], \"surface\": [{\"colorbar\": {\"outlinewidth\": 0, \"ticks\": \"\"}, \"colorscale\": [[0.0, \"#0d0887\"], [0.1111111111111111, \"#46039f\"], [0.2222222222222222, \"#7201a8\"], [0.3333333333333333, \"#9c179e\"], [0.4444444444444444, \"#bd3786\"], [0.5555555555555556, \"#d8576b\"], [0.6666666666666666, \"#ed7953\"], [0.7777777777777778, \"#fb9f3a\"], [0.8888888888888888, \"#fdca26\"], [1.0, \"#f0f921\"]], \"type\": \"surface\"}], \"table\": [{\"cells\": {\"fill\": {\"color\": \"#EBF0F8\"}, \"line\": {\"color\": \"white\"}}, \"header\": {\"fill\": {\"color\": \"#C8D4E3\"}, \"line\": {\"color\": \"white\"}}, \"type\": \"table\"}]}, \"layout\": {\"annotationdefaults\": {\"arrowcolor\": \"#2a3f5f\", \"arrowhead\": 0, \"arrowwidth\": 1}, \"coloraxis\": {\"colorbar\": {\"outlinewidth\": 0, \"ticks\": \"\"}}, \"colorscale\": {\"diverging\": [[0, \"#8e0152\"], [0.1, \"#c51b7d\"], [0.2, \"#de77ae\"], [0.3, \"#f1b6da\"], [0.4, \"#fde0ef\"], [0.5, \"#f7f7f7\"], [0.6, \"#e6f5d0\"], [0.7, \"#b8e186\"], [0.8, \"#7fbc41\"], [0.9, \"#4d9221\"], [1, \"#276419\"]], \"sequential\": [[0.0, \"#0d0887\"], [0.1111111111111111, \"#46039f\"], [0.2222222222222222, \"#7201a8\"], [0.3333333333333333, \"#9c179e\"], [0.4444444444444444, \"#bd3786\"], [0.5555555555555556, \"#d8576b\"], [0.6666666666666666, \"#ed7953\"], [0.7777777777777778, \"#fb9f3a\"], [0.8888888888888888, \"#fdca26\"], [1.0, \"#f0f921\"]], \"sequentialminus\": [[0.0, \"#0d0887\"], [0.1111111111111111, \"#46039f\"], [0.2222222222222222, \"#7201a8\"], [0.3333333333333333, \"#9c179e\"], [0.4444444444444444, \"#bd3786\"], [0.5555555555555556, \"#d8576b\"], [0.6666666666666666, \"#ed7953\"], [0.7777777777777778, \"#fb9f3a\"], [0.8888888888888888, \"#fdca26\"], [1.0, \"#f0f921\"]]}, \"colorway\": [\"#636efa\", \"#EF553B\", \"#00cc96\", \"#ab63fa\", \"#FFA15A\", \"#19d3f3\", \"#FF6692\", \"#B6E880\", \"#FF97FF\", \"#FECB52\"], \"font\": {\"color\": \"#2a3f5f\"}, \"geo\": {\"bgcolor\": \"white\", \"lakecolor\": \"white\", \"landcolor\": \"#E5ECF6\", \"showlakes\": true, \"showland\": true, \"subunitcolor\": \"white\"}, \"hoverlabel\": {\"align\": \"left\"}, \"hovermode\": \"closest\", \"mapbox\": {\"style\": \"light\"}, \"paper_bgcolor\": \"white\", \"plot_bgcolor\": \"#E5ECF6\", \"polar\": {\"angularaxis\": {\"gridcolor\": \"white\", \"linecolor\": \"white\", \"ticks\": \"\"}, \"bgcolor\": \"#E5ECF6\", \"radialaxis\": {\"gridcolor\": \"white\", \"linecolor\": \"white\", \"ticks\": \"\"}}, \"scene\": {\"xaxis\": {\"backgroundcolor\": \"#E5ECF6\", \"gridcolor\": \"white\", \"gridwidth\": 2, \"linecolor\": \"white\", \"showbackground\": true, \"ticks\": \"\", \"zerolinecolor\": \"white\"}, \"yaxis\": {\"backgroundcolor\": \"#E5ECF6\", \"gridcolor\": \"white\", \"gridwidth\": 2, \"linecolor\": \"white\", \"showbackground\": true, \"ticks\": \"\", \"zerolinecolor\": \"white\"}, \"zaxis\": {\"backgroundcolor\": \"#E5ECF6\", \"gridcolor\": \"white\", \"gridwidth\": 2, \"linecolor\": \"white\", \"showbackground\": true, \"ticks\": \"\", \"zerolinecolor\": \"white\"}}, \"shapedefaults\": {\"line\": {\"color\": \"#2a3f5f\"}}, \"ternary\": {\"aaxis\": {\"gridcolor\": \"white\", \"linecolor\": \"white\", \"ticks\": \"\"}, \"baxis\": {\"gridcolor\": \"white\", \"linecolor\": \"white\", \"ticks\": \"\"}, \"bgcolor\": \"#E5ECF6\", \"caxis\": {\"gridcolor\": \"white\", \"linecolor\": \"white\", \"ticks\": \"\"}}, \"title\": {\"x\": 0.05}, \"xaxis\": {\"automargin\": true, \"gridcolor\": \"white\", \"linecolor\": \"white\", \"ticks\": \"\", \"title\": {\"standoff\": 15}, \"zerolinecolor\": \"white\", \"zerolinewidth\": 2}, \"yaxis\": {\"automargin\": true, \"gridcolor\": \"white\", \"linecolor\": \"white\", \"ticks\": \"\", \"title\": {\"standoff\": 15}, \"zerolinecolor\": \"white\", \"zerolinewidth\": 2}}}, \"title\": {\"text\": \"Correlation Matrix of price and reviews variables\"}},\n",
       "                        {\"responsive\": true}\n",
       "                    ).then(function(){\n",
       "                            \n",
       "var gd = document.getElementById('9c592bee-a3ee-4523-a8b6-0099e76fab9c');\n",
       "var x = new MutationObserver(function (mutations, observer) {{\n",
       "        var display = window.getComputedStyle(gd).display;\n",
       "        if (!display || display === 'none') {{\n",
       "            console.log([gd, 'removed!']);\n",
       "            Plotly.purge(gd);\n",
       "            observer.disconnect();\n",
       "        }}\n",
       "}});\n",
       "\n",
       "// Listen for the removal of the full notebook cells\n",
       "var notebookContainer = gd.closest('#notebook-container');\n",
       "if (notebookContainer) {{\n",
       "    x.observe(notebookContainer, {childList: true});\n",
       "}}\n",
       "\n",
       "// Listen for the clearing of the current output cell\n",
       "var outputEl = gd.closest('.output');\n",
       "if (outputEl) {{\n",
       "    x.observe(outputEl, {childList: true});\n",
       "}}\n",
       "\n",
       "                        })\n",
       "                };\n",
       "                });\n",
       "            </script>\n",
       "        </div>"
      ]
     },
     "metadata": {},
     "output_type": "display_data"
    }
   ],
   "source": [
    "# Heatmap for reviews and price correlation matrix\n",
    "fig = go.Figure(data=go.Heatmap(\n",
    "        z=price_reviews.values,\n",
    "        x=price_reviews.columns,\n",
    "        y=price_reviews.columns,\n",
    "        colorscale='Viridis'))\n",
    "fig.update_layout(\n",
    "    title='Correlation Matrix of price and reviews variables',\n",
    "    autosize = True)\n",
    "fig.show()"
   ]
  },
  {
   "cell_type": "code",
   "execution_count": 26,
   "metadata": {},
   "outputs": [
    {
     "data": {
      "application/vnd.plotly.v1+json": {
       "config": {
        "plotlyServerURL": "https://plot.ly"
       },
       "data": [
        {
         "type": "bar",
         "x": [
          "review_scores_cleanliness",
          "review_scores_rating",
          "review_scores_accuracy",
          "review_scores_communication",
          "review_scores_checkin",
          "review_scores_value",
          "number_of_reviews",
          "reviews_per_month"
         ],
         "y": [
          0.06,
          0.04,
          0.01,
          -0.01,
          -0.01,
          -0.03,
          -0.11,
          -0.14
         ]
        }
       ],
       "layout": {
        "template": {
         "data": {
          "bar": [
           {
            "error_x": {
             "color": "#2a3f5f"
            },
            "error_y": {
             "color": "#2a3f5f"
            },
            "marker": {
             "line": {
              "color": "#E5ECF6",
              "width": 0.5
             }
            },
            "type": "bar"
           }
          ],
          "barpolar": [
           {
            "marker": {
             "line": {
              "color": "#E5ECF6",
              "width": 0.5
             }
            },
            "type": "barpolar"
           }
          ],
          "carpet": [
           {
            "aaxis": {
             "endlinecolor": "#2a3f5f",
             "gridcolor": "white",
             "linecolor": "white",
             "minorgridcolor": "white",
             "startlinecolor": "#2a3f5f"
            },
            "baxis": {
             "endlinecolor": "#2a3f5f",
             "gridcolor": "white",
             "linecolor": "white",
             "minorgridcolor": "white",
             "startlinecolor": "#2a3f5f"
            },
            "type": "carpet"
           }
          ],
          "choropleth": [
           {
            "colorbar": {
             "outlinewidth": 0,
             "ticks": ""
            },
            "type": "choropleth"
           }
          ],
          "contour": [
           {
            "colorbar": {
             "outlinewidth": 0,
             "ticks": ""
            },
            "colorscale": [
             [
              0,
              "#0d0887"
             ],
             [
              0.1111111111111111,
              "#46039f"
             ],
             [
              0.2222222222222222,
              "#7201a8"
             ],
             [
              0.3333333333333333,
              "#9c179e"
             ],
             [
              0.4444444444444444,
              "#bd3786"
             ],
             [
              0.5555555555555556,
              "#d8576b"
             ],
             [
              0.6666666666666666,
              "#ed7953"
             ],
             [
              0.7777777777777778,
              "#fb9f3a"
             ],
             [
              0.8888888888888888,
              "#fdca26"
             ],
             [
              1,
              "#f0f921"
             ]
            ],
            "type": "contour"
           }
          ],
          "contourcarpet": [
           {
            "colorbar": {
             "outlinewidth": 0,
             "ticks": ""
            },
            "type": "contourcarpet"
           }
          ],
          "heatmap": [
           {
            "colorbar": {
             "outlinewidth": 0,
             "ticks": ""
            },
            "colorscale": [
             [
              0,
              "#0d0887"
             ],
             [
              0.1111111111111111,
              "#46039f"
             ],
             [
              0.2222222222222222,
              "#7201a8"
             ],
             [
              0.3333333333333333,
              "#9c179e"
             ],
             [
              0.4444444444444444,
              "#bd3786"
             ],
             [
              0.5555555555555556,
              "#d8576b"
             ],
             [
              0.6666666666666666,
              "#ed7953"
             ],
             [
              0.7777777777777778,
              "#fb9f3a"
             ],
             [
              0.8888888888888888,
              "#fdca26"
             ],
             [
              1,
              "#f0f921"
             ]
            ],
            "type": "heatmap"
           }
          ],
          "heatmapgl": [
           {
            "colorbar": {
             "outlinewidth": 0,
             "ticks": ""
            },
            "colorscale": [
             [
              0,
              "#0d0887"
             ],
             [
              0.1111111111111111,
              "#46039f"
             ],
             [
              0.2222222222222222,
              "#7201a8"
             ],
             [
              0.3333333333333333,
              "#9c179e"
             ],
             [
              0.4444444444444444,
              "#bd3786"
             ],
             [
              0.5555555555555556,
              "#d8576b"
             ],
             [
              0.6666666666666666,
              "#ed7953"
             ],
             [
              0.7777777777777778,
              "#fb9f3a"
             ],
             [
              0.8888888888888888,
              "#fdca26"
             ],
             [
              1,
              "#f0f921"
             ]
            ],
            "type": "heatmapgl"
           }
          ],
          "histogram": [
           {
            "marker": {
             "colorbar": {
              "outlinewidth": 0,
              "ticks": ""
             }
            },
            "type": "histogram"
           }
          ],
          "histogram2d": [
           {
            "colorbar": {
             "outlinewidth": 0,
             "ticks": ""
            },
            "colorscale": [
             [
              0,
              "#0d0887"
             ],
             [
              0.1111111111111111,
              "#46039f"
             ],
             [
              0.2222222222222222,
              "#7201a8"
             ],
             [
              0.3333333333333333,
              "#9c179e"
             ],
             [
              0.4444444444444444,
              "#bd3786"
             ],
             [
              0.5555555555555556,
              "#d8576b"
             ],
             [
              0.6666666666666666,
              "#ed7953"
             ],
             [
              0.7777777777777778,
              "#fb9f3a"
             ],
             [
              0.8888888888888888,
              "#fdca26"
             ],
             [
              1,
              "#f0f921"
             ]
            ],
            "type": "histogram2d"
           }
          ],
          "histogram2dcontour": [
           {
            "colorbar": {
             "outlinewidth": 0,
             "ticks": ""
            },
            "colorscale": [
             [
              0,
              "#0d0887"
             ],
             [
              0.1111111111111111,
              "#46039f"
             ],
             [
              0.2222222222222222,
              "#7201a8"
             ],
             [
              0.3333333333333333,
              "#9c179e"
             ],
             [
              0.4444444444444444,
              "#bd3786"
             ],
             [
              0.5555555555555556,
              "#d8576b"
             ],
             [
              0.6666666666666666,
              "#ed7953"
             ],
             [
              0.7777777777777778,
              "#fb9f3a"
             ],
             [
              0.8888888888888888,
              "#fdca26"
             ],
             [
              1,
              "#f0f921"
             ]
            ],
            "type": "histogram2dcontour"
           }
          ],
          "mesh3d": [
           {
            "colorbar": {
             "outlinewidth": 0,
             "ticks": ""
            },
            "type": "mesh3d"
           }
          ],
          "parcoords": [
           {
            "line": {
             "colorbar": {
              "outlinewidth": 0,
              "ticks": ""
             }
            },
            "type": "parcoords"
           }
          ],
          "pie": [
           {
            "automargin": true,
            "type": "pie"
           }
          ],
          "scatter": [
           {
            "marker": {
             "colorbar": {
              "outlinewidth": 0,
              "ticks": ""
             }
            },
            "type": "scatter"
           }
          ],
          "scatter3d": [
           {
            "line": {
             "colorbar": {
              "outlinewidth": 0,
              "ticks": ""
             }
            },
            "marker": {
             "colorbar": {
              "outlinewidth": 0,
              "ticks": ""
             }
            },
            "type": "scatter3d"
           }
          ],
          "scattercarpet": [
           {
            "marker": {
             "colorbar": {
              "outlinewidth": 0,
              "ticks": ""
             }
            },
            "type": "scattercarpet"
           }
          ],
          "scattergeo": [
           {
            "marker": {
             "colorbar": {
              "outlinewidth": 0,
              "ticks": ""
             }
            },
            "type": "scattergeo"
           }
          ],
          "scattergl": [
           {
            "marker": {
             "colorbar": {
              "outlinewidth": 0,
              "ticks": ""
             }
            },
            "type": "scattergl"
           }
          ],
          "scattermapbox": [
           {
            "marker": {
             "colorbar": {
              "outlinewidth": 0,
              "ticks": ""
             }
            },
            "type": "scattermapbox"
           }
          ],
          "scatterpolar": [
           {
            "marker": {
             "colorbar": {
              "outlinewidth": 0,
              "ticks": ""
             }
            },
            "type": "scatterpolar"
           }
          ],
          "scatterpolargl": [
           {
            "marker": {
             "colorbar": {
              "outlinewidth": 0,
              "ticks": ""
             }
            },
            "type": "scatterpolargl"
           }
          ],
          "scatterternary": [
           {
            "marker": {
             "colorbar": {
              "outlinewidth": 0,
              "ticks": ""
             }
            },
            "type": "scatterternary"
           }
          ],
          "surface": [
           {
            "colorbar": {
             "outlinewidth": 0,
             "ticks": ""
            },
            "colorscale": [
             [
              0,
              "#0d0887"
             ],
             [
              0.1111111111111111,
              "#46039f"
             ],
             [
              0.2222222222222222,
              "#7201a8"
             ],
             [
              0.3333333333333333,
              "#9c179e"
             ],
             [
              0.4444444444444444,
              "#bd3786"
             ],
             [
              0.5555555555555556,
              "#d8576b"
             ],
             [
              0.6666666666666666,
              "#ed7953"
             ],
             [
              0.7777777777777778,
              "#fb9f3a"
             ],
             [
              0.8888888888888888,
              "#fdca26"
             ],
             [
              1,
              "#f0f921"
             ]
            ],
            "type": "surface"
           }
          ],
          "table": [
           {
            "cells": {
             "fill": {
              "color": "#EBF0F8"
             },
             "line": {
              "color": "white"
             }
            },
            "header": {
             "fill": {
              "color": "#C8D4E3"
             },
             "line": {
              "color": "white"
             }
            },
            "type": "table"
           }
          ]
         },
         "layout": {
          "annotationdefaults": {
           "arrowcolor": "#2a3f5f",
           "arrowhead": 0,
           "arrowwidth": 1
          },
          "coloraxis": {
           "colorbar": {
            "outlinewidth": 0,
            "ticks": ""
           }
          },
          "colorscale": {
           "diverging": [
            [
             0,
             "#8e0152"
            ],
            [
             0.1,
             "#c51b7d"
            ],
            [
             0.2,
             "#de77ae"
            ],
            [
             0.3,
             "#f1b6da"
            ],
            [
             0.4,
             "#fde0ef"
            ],
            [
             0.5,
             "#f7f7f7"
            ],
            [
             0.6,
             "#e6f5d0"
            ],
            [
             0.7,
             "#b8e186"
            ],
            [
             0.8,
             "#7fbc41"
            ],
            [
             0.9,
             "#4d9221"
            ],
            [
             1,
             "#276419"
            ]
           ],
           "sequential": [
            [
             0,
             "#0d0887"
            ],
            [
             0.1111111111111111,
             "#46039f"
            ],
            [
             0.2222222222222222,
             "#7201a8"
            ],
            [
             0.3333333333333333,
             "#9c179e"
            ],
            [
             0.4444444444444444,
             "#bd3786"
            ],
            [
             0.5555555555555556,
             "#d8576b"
            ],
            [
             0.6666666666666666,
             "#ed7953"
            ],
            [
             0.7777777777777778,
             "#fb9f3a"
            ],
            [
             0.8888888888888888,
             "#fdca26"
            ],
            [
             1,
             "#f0f921"
            ]
           ],
           "sequentialminus": [
            [
             0,
             "#0d0887"
            ],
            [
             0.1111111111111111,
             "#46039f"
            ],
            [
             0.2222222222222222,
             "#7201a8"
            ],
            [
             0.3333333333333333,
             "#9c179e"
            ],
            [
             0.4444444444444444,
             "#bd3786"
            ],
            [
             0.5555555555555556,
             "#d8576b"
            ],
            [
             0.6666666666666666,
             "#ed7953"
            ],
            [
             0.7777777777777778,
             "#fb9f3a"
            ],
            [
             0.8888888888888888,
             "#fdca26"
            ],
            [
             1,
             "#f0f921"
            ]
           ]
          },
          "colorway": [
           "#636efa",
           "#EF553B",
           "#00cc96",
           "#ab63fa",
           "#FFA15A",
           "#19d3f3",
           "#FF6692",
           "#B6E880",
           "#FF97FF",
           "#FECB52"
          ],
          "font": {
           "color": "#2a3f5f"
          },
          "geo": {
           "bgcolor": "white",
           "lakecolor": "white",
           "landcolor": "#E5ECF6",
           "showlakes": true,
           "showland": true,
           "subunitcolor": "white"
          },
          "hoverlabel": {
           "align": "left"
          },
          "hovermode": "closest",
          "mapbox": {
           "style": "light"
          },
          "paper_bgcolor": "white",
          "plot_bgcolor": "#E5ECF6",
          "polar": {
           "angularaxis": {
            "gridcolor": "white",
            "linecolor": "white",
            "ticks": ""
           },
           "bgcolor": "#E5ECF6",
           "radialaxis": {
            "gridcolor": "white",
            "linecolor": "white",
            "ticks": ""
           }
          },
          "scene": {
           "xaxis": {
            "backgroundcolor": "#E5ECF6",
            "gridcolor": "white",
            "gridwidth": 2,
            "linecolor": "white",
            "showbackground": true,
            "ticks": "",
            "zerolinecolor": "white"
           },
           "yaxis": {
            "backgroundcolor": "#E5ECF6",
            "gridcolor": "white",
            "gridwidth": 2,
            "linecolor": "white",
            "showbackground": true,
            "ticks": "",
            "zerolinecolor": "white"
           },
           "zaxis": {
            "backgroundcolor": "#E5ECF6",
            "gridcolor": "white",
            "gridwidth": 2,
            "linecolor": "white",
            "showbackground": true,
            "ticks": "",
            "zerolinecolor": "white"
           }
          },
          "shapedefaults": {
           "line": {
            "color": "#2a3f5f"
           }
          },
          "ternary": {
           "aaxis": {
            "gridcolor": "white",
            "linecolor": "white",
            "ticks": ""
           },
           "baxis": {
            "gridcolor": "white",
            "linecolor": "white",
            "ticks": ""
           },
           "bgcolor": "#E5ECF6",
           "caxis": {
            "gridcolor": "white",
            "linecolor": "white",
            "ticks": ""
           }
          },
          "title": {
           "x": 0.05
          },
          "xaxis": {
           "automargin": true,
           "gridcolor": "white",
           "linecolor": "white",
           "ticks": "",
           "title": {
            "standoff": 15
           },
           "zerolinecolor": "white",
           "zerolinewidth": 2
          },
          "yaxis": {
           "automargin": true,
           "gridcolor": "white",
           "linecolor": "white",
           "ticks": "",
           "title": {
            "standoff": 15
           },
           "zerolinecolor": "white",
           "zerolinewidth": 2
          }
         }
        },
        "title": {
         "text": "Correlations between Price and Reviews"
        },
        "yaxis": {
         "title": {
          "text": "Correlation Coefficients"
         }
        }
       }
      },
      "text/html": [
       "<div>\n",
       "        \n",
       "        \n",
       "            <div id=\"8f3a6adf-d4ce-4dbb-bc9f-38fe951d976a\" class=\"plotly-graph-div\" style=\"height:525px; width:100%;\"></div>\n",
       "            <script type=\"text/javascript\">\n",
       "                require([\"plotly\"], function(Plotly) {\n",
       "                    window.PLOTLYENV=window.PLOTLYENV || {};\n",
       "                    \n",
       "                if (document.getElementById(\"8f3a6adf-d4ce-4dbb-bc9f-38fe951d976a\")) {\n",
       "                    Plotly.newPlot(\n",
       "                        '8f3a6adf-d4ce-4dbb-bc9f-38fe951d976a',\n",
       "                        [{\"type\": \"bar\", \"x\": [\"review_scores_cleanliness\", \"review_scores_rating\", \"review_scores_accuracy\", \"review_scores_communication\", \"review_scores_checkin\", \"review_scores_value\", \"number_of_reviews\", \"reviews_per_month\"], \"y\": [0.06, 0.04, 0.01, -0.01, -0.01, -0.03, -0.11, -0.14]}],\n",
       "                        {\"template\": {\"data\": {\"bar\": [{\"error_x\": {\"color\": \"#2a3f5f\"}, \"error_y\": {\"color\": \"#2a3f5f\"}, \"marker\": {\"line\": {\"color\": \"#E5ECF6\", \"width\": 0.5}}, \"type\": \"bar\"}], \"barpolar\": [{\"marker\": {\"line\": {\"color\": \"#E5ECF6\", \"width\": 0.5}}, \"type\": \"barpolar\"}], \"carpet\": [{\"aaxis\": {\"endlinecolor\": \"#2a3f5f\", \"gridcolor\": \"white\", \"linecolor\": \"white\", \"minorgridcolor\": \"white\", \"startlinecolor\": \"#2a3f5f\"}, \"baxis\": {\"endlinecolor\": \"#2a3f5f\", \"gridcolor\": \"white\", \"linecolor\": \"white\", \"minorgridcolor\": \"white\", \"startlinecolor\": \"#2a3f5f\"}, \"type\": \"carpet\"}], \"choropleth\": [{\"colorbar\": {\"outlinewidth\": 0, \"ticks\": \"\"}, \"type\": \"choropleth\"}], \"contour\": [{\"colorbar\": {\"outlinewidth\": 0, \"ticks\": \"\"}, \"colorscale\": [[0.0, \"#0d0887\"], [0.1111111111111111, \"#46039f\"], [0.2222222222222222, \"#7201a8\"], [0.3333333333333333, \"#9c179e\"], [0.4444444444444444, \"#bd3786\"], [0.5555555555555556, \"#d8576b\"], [0.6666666666666666, \"#ed7953\"], [0.7777777777777778, \"#fb9f3a\"], [0.8888888888888888, \"#fdca26\"], [1.0, \"#f0f921\"]], \"type\": \"contour\"}], \"contourcarpet\": [{\"colorbar\": {\"outlinewidth\": 0, \"ticks\": \"\"}, \"type\": \"contourcarpet\"}], \"heatmap\": [{\"colorbar\": {\"outlinewidth\": 0, \"ticks\": \"\"}, \"colorscale\": [[0.0, \"#0d0887\"], [0.1111111111111111, \"#46039f\"], [0.2222222222222222, \"#7201a8\"], [0.3333333333333333, \"#9c179e\"], [0.4444444444444444, \"#bd3786\"], [0.5555555555555556, \"#d8576b\"], [0.6666666666666666, \"#ed7953\"], [0.7777777777777778, \"#fb9f3a\"], [0.8888888888888888, \"#fdca26\"], [1.0, \"#f0f921\"]], \"type\": \"heatmap\"}], \"heatmapgl\": [{\"colorbar\": {\"outlinewidth\": 0, \"ticks\": \"\"}, \"colorscale\": [[0.0, \"#0d0887\"], [0.1111111111111111, \"#46039f\"], [0.2222222222222222, \"#7201a8\"], [0.3333333333333333, \"#9c179e\"], [0.4444444444444444, \"#bd3786\"], [0.5555555555555556, \"#d8576b\"], [0.6666666666666666, \"#ed7953\"], [0.7777777777777778, \"#fb9f3a\"], [0.8888888888888888, \"#fdca26\"], [1.0, \"#f0f921\"]], \"type\": \"heatmapgl\"}], \"histogram\": [{\"marker\": {\"colorbar\": {\"outlinewidth\": 0, \"ticks\": \"\"}}, \"type\": \"histogram\"}], \"histogram2d\": [{\"colorbar\": {\"outlinewidth\": 0, \"ticks\": \"\"}, \"colorscale\": [[0.0, \"#0d0887\"], [0.1111111111111111, \"#46039f\"], [0.2222222222222222, \"#7201a8\"], [0.3333333333333333, \"#9c179e\"], [0.4444444444444444, \"#bd3786\"], [0.5555555555555556, \"#d8576b\"], [0.6666666666666666, \"#ed7953\"], [0.7777777777777778, \"#fb9f3a\"], [0.8888888888888888, \"#fdca26\"], [1.0, \"#f0f921\"]], \"type\": \"histogram2d\"}], \"histogram2dcontour\": [{\"colorbar\": {\"outlinewidth\": 0, \"ticks\": \"\"}, \"colorscale\": [[0.0, \"#0d0887\"], [0.1111111111111111, \"#46039f\"], [0.2222222222222222, \"#7201a8\"], [0.3333333333333333, \"#9c179e\"], [0.4444444444444444, \"#bd3786\"], [0.5555555555555556, \"#d8576b\"], [0.6666666666666666, \"#ed7953\"], [0.7777777777777778, \"#fb9f3a\"], [0.8888888888888888, \"#fdca26\"], [1.0, \"#f0f921\"]], \"type\": \"histogram2dcontour\"}], \"mesh3d\": [{\"colorbar\": {\"outlinewidth\": 0, \"ticks\": \"\"}, \"type\": \"mesh3d\"}], \"parcoords\": [{\"line\": {\"colorbar\": {\"outlinewidth\": 0, \"ticks\": \"\"}}, \"type\": \"parcoords\"}], \"pie\": [{\"automargin\": true, \"type\": \"pie\"}], \"scatter\": [{\"marker\": {\"colorbar\": {\"outlinewidth\": 0, \"ticks\": \"\"}}, \"type\": \"scatter\"}], \"scatter3d\": [{\"line\": {\"colorbar\": {\"outlinewidth\": 0, \"ticks\": \"\"}}, \"marker\": {\"colorbar\": {\"outlinewidth\": 0, \"ticks\": \"\"}}, \"type\": \"scatter3d\"}], \"scattercarpet\": [{\"marker\": {\"colorbar\": {\"outlinewidth\": 0, \"ticks\": \"\"}}, \"type\": \"scattercarpet\"}], \"scattergeo\": [{\"marker\": {\"colorbar\": {\"outlinewidth\": 0, \"ticks\": \"\"}}, \"type\": \"scattergeo\"}], \"scattergl\": [{\"marker\": {\"colorbar\": {\"outlinewidth\": 0, \"ticks\": \"\"}}, \"type\": \"scattergl\"}], \"scattermapbox\": [{\"marker\": {\"colorbar\": {\"outlinewidth\": 0, \"ticks\": \"\"}}, \"type\": \"scattermapbox\"}], \"scatterpolar\": [{\"marker\": {\"colorbar\": {\"outlinewidth\": 0, \"ticks\": \"\"}}, \"type\": \"scatterpolar\"}], \"scatterpolargl\": [{\"marker\": {\"colorbar\": {\"outlinewidth\": 0, \"ticks\": \"\"}}, \"type\": \"scatterpolargl\"}], \"scatterternary\": [{\"marker\": {\"colorbar\": {\"outlinewidth\": 0, \"ticks\": \"\"}}, \"type\": \"scatterternary\"}], \"surface\": [{\"colorbar\": {\"outlinewidth\": 0, \"ticks\": \"\"}, \"colorscale\": [[0.0, \"#0d0887\"], [0.1111111111111111, \"#46039f\"], [0.2222222222222222, \"#7201a8\"], [0.3333333333333333, \"#9c179e\"], [0.4444444444444444, \"#bd3786\"], [0.5555555555555556, \"#d8576b\"], [0.6666666666666666, \"#ed7953\"], [0.7777777777777778, \"#fb9f3a\"], [0.8888888888888888, \"#fdca26\"], [1.0, \"#f0f921\"]], \"type\": \"surface\"}], \"table\": [{\"cells\": {\"fill\": {\"color\": \"#EBF0F8\"}, \"line\": {\"color\": \"white\"}}, \"header\": {\"fill\": {\"color\": \"#C8D4E3\"}, \"line\": {\"color\": \"white\"}}, \"type\": \"table\"}]}, \"layout\": {\"annotationdefaults\": {\"arrowcolor\": \"#2a3f5f\", \"arrowhead\": 0, \"arrowwidth\": 1}, \"coloraxis\": {\"colorbar\": {\"outlinewidth\": 0, \"ticks\": \"\"}}, \"colorscale\": {\"diverging\": [[0, \"#8e0152\"], [0.1, \"#c51b7d\"], [0.2, \"#de77ae\"], [0.3, \"#f1b6da\"], [0.4, \"#fde0ef\"], [0.5, \"#f7f7f7\"], [0.6, \"#e6f5d0\"], [0.7, \"#b8e186\"], [0.8, \"#7fbc41\"], [0.9, \"#4d9221\"], [1, \"#276419\"]], \"sequential\": [[0.0, \"#0d0887\"], [0.1111111111111111, \"#46039f\"], [0.2222222222222222, \"#7201a8\"], [0.3333333333333333, \"#9c179e\"], [0.4444444444444444, \"#bd3786\"], [0.5555555555555556, \"#d8576b\"], [0.6666666666666666, \"#ed7953\"], [0.7777777777777778, \"#fb9f3a\"], [0.8888888888888888, \"#fdca26\"], [1.0, \"#f0f921\"]], \"sequentialminus\": [[0.0, \"#0d0887\"], [0.1111111111111111, \"#46039f\"], [0.2222222222222222, \"#7201a8\"], [0.3333333333333333, \"#9c179e\"], [0.4444444444444444, \"#bd3786\"], [0.5555555555555556, \"#d8576b\"], [0.6666666666666666, \"#ed7953\"], [0.7777777777777778, \"#fb9f3a\"], [0.8888888888888888, \"#fdca26\"], [1.0, \"#f0f921\"]]}, \"colorway\": [\"#636efa\", \"#EF553B\", \"#00cc96\", \"#ab63fa\", \"#FFA15A\", \"#19d3f3\", \"#FF6692\", \"#B6E880\", \"#FF97FF\", \"#FECB52\"], \"font\": {\"color\": \"#2a3f5f\"}, \"geo\": {\"bgcolor\": \"white\", \"lakecolor\": \"white\", \"landcolor\": \"#E5ECF6\", \"showlakes\": true, \"showland\": true, \"subunitcolor\": \"white\"}, \"hoverlabel\": {\"align\": \"left\"}, \"hovermode\": \"closest\", \"mapbox\": {\"style\": \"light\"}, \"paper_bgcolor\": \"white\", \"plot_bgcolor\": \"#E5ECF6\", \"polar\": {\"angularaxis\": {\"gridcolor\": \"white\", \"linecolor\": \"white\", \"ticks\": \"\"}, \"bgcolor\": \"#E5ECF6\", \"radialaxis\": {\"gridcolor\": \"white\", \"linecolor\": \"white\", \"ticks\": \"\"}}, \"scene\": {\"xaxis\": {\"backgroundcolor\": \"#E5ECF6\", \"gridcolor\": \"white\", \"gridwidth\": 2, \"linecolor\": \"white\", \"showbackground\": true, \"ticks\": \"\", \"zerolinecolor\": \"white\"}, \"yaxis\": {\"backgroundcolor\": \"#E5ECF6\", \"gridcolor\": \"white\", \"gridwidth\": 2, \"linecolor\": \"white\", \"showbackground\": true, \"ticks\": \"\", \"zerolinecolor\": \"white\"}, \"zaxis\": {\"backgroundcolor\": \"#E5ECF6\", \"gridcolor\": \"white\", \"gridwidth\": 2, \"linecolor\": \"white\", \"showbackground\": true, \"ticks\": \"\", \"zerolinecolor\": \"white\"}}, \"shapedefaults\": {\"line\": {\"color\": \"#2a3f5f\"}}, \"ternary\": {\"aaxis\": {\"gridcolor\": \"white\", \"linecolor\": \"white\", \"ticks\": \"\"}, \"baxis\": {\"gridcolor\": \"white\", \"linecolor\": \"white\", \"ticks\": \"\"}, \"bgcolor\": \"#E5ECF6\", \"caxis\": {\"gridcolor\": \"white\", \"linecolor\": \"white\", \"ticks\": \"\"}}, \"title\": {\"x\": 0.05}, \"xaxis\": {\"automargin\": true, \"gridcolor\": \"white\", \"linecolor\": \"white\", \"ticks\": \"\", \"title\": {\"standoff\": 15}, \"zerolinecolor\": \"white\", \"zerolinewidth\": 2}, \"yaxis\": {\"automargin\": true, \"gridcolor\": \"white\", \"linecolor\": \"white\", \"ticks\": \"\", \"title\": {\"standoff\": 15}, \"zerolinecolor\": \"white\", \"zerolinewidth\": 2}}}, \"title\": {\"text\": \"Correlations between Price and Reviews\"}, \"yaxis\": {\"title\": {\"text\": \"Correlation Coefficients\"}}},\n",
       "                        {\"responsive\": true}\n",
       "                    ).then(function(){\n",
       "                            \n",
       "var gd = document.getElementById('8f3a6adf-d4ce-4dbb-bc9f-38fe951d976a');\n",
       "var x = new MutationObserver(function (mutations, observer) {{\n",
       "        var display = window.getComputedStyle(gd).display;\n",
       "        if (!display || display === 'none') {{\n",
       "            console.log([gd, 'removed!']);\n",
       "            Plotly.purge(gd);\n",
       "            observer.disconnect();\n",
       "        }}\n",
       "}});\n",
       "\n",
       "// Listen for the removal of the full notebook cells\n",
       "var notebookContainer = gd.closest('#notebook-container');\n",
       "if (notebookContainer) {{\n",
       "    x.observe(notebookContainer, {childList: true});\n",
       "}}\n",
       "\n",
       "// Listen for the clearing of the current output cell\n",
       "var outputEl = gd.closest('.output');\n",
       "if (outputEl) {{\n",
       "    x.observe(outputEl, {childList: true});\n",
       "}}\n",
       "\n",
       "                        })\n",
       "                };\n",
       "                });\n",
       "            </script>\n",
       "        </div>"
      ]
     },
     "metadata": {},
     "output_type": "display_data"
    }
   ],
   "source": [
    "#Sort correlation coefficients in ascending order \n",
    "price_r = price_reviews[\"price\"].sort_values(ascending=False).to_frame().reset_index()\n",
    "price_r.rename(columns={\"index\":\"reviews\"},inplace=True)\n",
    "price_r = price_r.query(\"reviews != 'price'\")\n",
    "\n",
    "#mean of coefficients\n",
    "price_r.price.mean()\n",
    "# -0.02375\n",
    "\n",
    "# Plot Bar Chart with the data frame above\n",
    "fig = go.Figure()\n",
    "fig.add_trace(go.Bar(x=price_r.reviews, y=price_r.price))\n",
    "fig.update_layout(yaxis_title=\"Correlation Coefficients\", title = \"Correlations between Price and Reviews\")\n",
    "fig.show()"
   ]
  },
  {
   "cell_type": "markdown",
   "metadata": {},
   "source": [
    "For the sake of completeness I do the same exploration with price and review variables. In the heatmap I can identify a high correlation between all review variables. This finding might be helpful for the modeling section, due to the collinearity I choose to drop the other review values and only keep review_socres_rating. As we can see in the bar chart, price is most \"negative\" correlated to reviews_per_month and number_of_reviews. Price is the most \"positive\" correlated to review_scores_cleanliness and review_scores_rating. \n",
    "\n",
    "\n",
    "**Summary - Answer Question 2:** <br>\n",
    "In general the correlation coefficients of all amenities and prices are below 0.26. Price is most correlated to the following amenities: Air Conditioning, Cable TV, Family-/Kid Friendliness, TV, and Doorman. The correlation coefficients of review rating and amenities are below 0.13. The amenities with the highest negative correlation to review ratings are: translation missing, gym, smoking allowed, pool, washer/dryer. On average amenities leads to higher price and less high to review score ratings. Expensive rates tend to result in reviews with lower ratings. "
   ]
  },
  {
   "cell_type": "markdown",
   "metadata": {},
   "source": [
    "# Modeling & Evaluation"
   ]
  },
  {
   "cell_type": "markdown",
   "metadata": {},
   "source": [
    "## Question 3:  <br> What key features affect the listings price the most? Can we predict the listing price well with LinearRegression Model? Can we have a better prediction by using other Model? "
   ]
  },
  {
   "cell_type": "markdown",
   "metadata": {},
   "source": [
    "**In order to predict price I choose to start with a scikitlearn linear regression.\n",
    "Here is a brief summary of my main steps for linear modeling:**\n",
    "\n",
    "Since I have already done the data cleaning and imputation of numerical and categorical variables in section 2, I can use the data frame df_new for my linear model. The function linear_mod() runs the linear regression modeling with the cleaned data set. After fitting the linear regression model, I check the fitted model and fitted values, and also the R-squared score for evaluation. The result table lists all the input variables and their coefficient.\n",
    "\n",
    "I will run the model with all features as my first step. Refer to my exploration in section 3 about collinearity among review variables, I will also drop most of the review variables to counter check the results. "
   ]
  },
  {
   "cell_type": "markdown",
   "metadata": {},
   "source": [
    "## Linear Regression"
   ]
  },
  {
   "cell_type": "code",
   "execution_count": 27,
   "metadata": {
    "scrolled": false
   },
   "outputs": [
    {
     "name": "stdout",
     "output_type": "stream",
     "text": [
      "The rsquared on the training data was 0.5121.  The rsquared on the test data was 0.5122.\n"
     ]
    }
   ],
   "source": [
    "# Before I start I would like to exclude the datetime,id, cleaned_price columns from the dataframe\n",
    "df_new.drop([\"city\",\"first_review\",\"last_review\",\"date\",\"host_neighbourhood\",\"neighbourhood\",\"available\",\"host_id\",\"id\",\"listing_id\",\"cleaned_price\"],axis=1,inplace=True)\n",
    "\n",
    "\n",
    "def linear_mod(df, response_col):\n",
    "    #Split into explanatory and response variables\n",
    "    X = df.drop(response_col, axis=1)\n",
    "    y = df[response_col]\n",
    "\n",
    "    #Split into train and test\n",
    "    X_train, X_test, y_train, y_test = train_test_split(X, y, test_size=.3, random_state=42)\n",
    "\n",
    "    lm_model = LinearRegression(normalize=True) # Instantiate\n",
    "    lm_model.fit(X_train, y_train) #Fit\n",
    "\n",
    "    #Predict using your model\n",
    "    y_test_preds = lm_model.predict(X_test)\n",
    "    y_train_preds = lm_model.predict(X_train)\n",
    "\n",
    "    #Score using your model\n",
    "    test_score = r2_score(y_test, y_test_preds)\n",
    "    train_score = r2_score(y_train, y_train_preds)\n",
    "    \n",
    "    ## get features coefficients\n",
    "    features_name = X_train.columns\n",
    "    feature_colnames = [\"feature_names\",\"feature_coeff\",\"feature_coeff_abs\"]\n",
    "    values = [features_name,lm_model.coef_.round(4),abs(lm_model.coef_).round(4)]\n",
    "\n",
    "    coeff = list(zip(feature_colnames,values))\n",
    "    coeff = dict(coeff)\n",
    "    result = pd.DataFrame(coeff)\n",
    "    \n",
    "    \n",
    "    return test_score, train_score, lm_model, X_train, X_test, y_train, y_test, result\n",
    "\n",
    "\n",
    "## apply linear model\n",
    "test_score, train_score, lm_model, X_train, X_test, y_train, y_test, result = linear_mod(df_new, 'price')\n",
    "print(\"The rsquared on the training data was {}.  The rsquared on the test data was {}.\".format(train_score.round(4), test_score.round(4)))"
   ]
  },
  {
   "cell_type": "code",
   "execution_count": 28,
   "metadata": {
    "scrolled": false
   },
   "outputs": [
    {
     "data": {
      "image/png": "[encoded data removed]",
      "text/plain": [
       "<Figure size 1152x720 with 1 Axes>"
      ]
     },
     "metadata": {
      "needs_background": "light"
     },
     "output_type": "display_data"
    }
   ],
   "source": [
    "# Plot first 25 actual values and fitted values\n",
    "y_test_preds = lm_model.predict(X_test)\n",
    "df = pd.DataFrame({'Actual': y_test, 'Predicted': y_test_preds})\n",
    "df1 = df.head(25)\n",
    "df1.plot(kind='bar',figsize=(16,10))\n",
    "plt.grid(which='major', linestyle='-', linewidth='0.5', color='green')\n",
    "plt.grid(which='minor', linestyle=':', linewidth='0.5', color='black')\n",
    "plt.show()"
   ]
  },
  {
   "cell_type": "code",
   "execution_count": 29,
   "metadata": {},
   "outputs": [
    {
     "data": {
      "text/html": [
       "<div>\n",
       "<style scoped>\n",
       "    .dataframe tbody tr th:only-of-type {\n",
       "        vertical-align: middle;\n",
       "    }\n",
       "\n",
       "    .dataframe tbody tr th {\n",
       "        vertical-align: top;\n",
       "    }\n",
       "\n",
       "    .dataframe thead th {\n",
       "        text-align: right;\n",
       "    }\n",
       "</style>\n",
       "<table border=\"1\" class=\"dataframe\">\n",
       "  <thead>\n",
       "    <tr style=\"text-align: right;\">\n",
       "      <th></th>\n",
       "      <th>feature_names</th>\n",
       "      <th>feature_coeff</th>\n",
       "      <th>feature_coeff_abs</th>\n",
       "    </tr>\n",
       "  </thead>\n",
       "  <tbody>\n",
       "    <tr>\n",
       "      <td>13</td>\n",
       "      <td>host_listings_count</td>\n",
       "      <td>-3.264714e+11</td>\n",
       "      <td>3.264714e+11</td>\n",
       "    </tr>\n",
       "    <tr>\n",
       "      <td>15</td>\n",
       "      <td>host_total_listings_count</td>\n",
       "      <td>3.264714e+11</td>\n",
       "      <td>3.264714e+11</td>\n",
       "    </tr>\n",
       "    <tr>\n",
       "      <td>85</td>\n",
       "      <td>calendar_updated_16 months ago</td>\n",
       "      <td>1.656935e+02</td>\n",
       "      <td>1.656935e+02</td>\n",
       "    </tr>\n",
       "    <tr>\n",
       "      <td>215</td>\n",
       "      <td>neighbourhood_cleansed_South Boston Waterfront</td>\n",
       "      <td>1.396481e+02</td>\n",
       "      <td>1.396481e+02</td>\n",
       "    </tr>\n",
       "    <tr>\n",
       "      <td>86</td>\n",
       "      <td>calendar_updated_17 months ago</td>\n",
       "      <td>1.294785e+02</td>\n",
       "      <td>1.294785e+02</td>\n",
       "    </tr>\n",
       "    <tr>\n",
       "      <td>98</td>\n",
       "      <td>calendar_updated_30 months ago</td>\n",
       "      <td>1.148795e+02</td>\n",
       "      <td>1.148795e+02</td>\n",
       "    </tr>\n",
       "    <tr>\n",
       "      <td>118</td>\n",
       "      <td>cancellation_policy_super_strict_30</td>\n",
       "      <td>1.094394e+02</td>\n",
       "      <td>1.094394e+02</td>\n",
       "    </tr>\n",
       "    <tr>\n",
       "      <td>131</td>\n",
       "      <td>neighbourhood_cleansed_Bay Village</td>\n",
       "      <td>9.462600e+01</td>\n",
       "      <td>9.462600e+01</td>\n",
       "    </tr>\n",
       "    <tr>\n",
       "      <td>130</td>\n",
       "      <td>neighbourhood_cleansed_Back Bay</td>\n",
       "      <td>8.995590e+01</td>\n",
       "      <td>8.995590e+01</td>\n",
       "    </tr>\n",
       "    <tr>\n",
       "      <td>132</td>\n",
       "      <td>neighbourhood_cleansed_Beacon Hill</td>\n",
       "      <td>8.970210e+01</td>\n",
       "      <td>8.970210e+01</td>\n",
       "    </tr>\n",
       "    <tr>\n",
       "      <td>93</td>\n",
       "      <td>calendar_updated_23 months ago</td>\n",
       "      <td>8.625880e+01</td>\n",
       "      <td>8.625880e+01</td>\n",
       "    </tr>\n",
       "    <tr>\n",
       "      <td>174</td>\n",
       "      <td>neighbourhood_cleansed_Leather District</td>\n",
       "      <td>8.570640e+01</td>\n",
       "      <td>8.570640e+01</td>\n",
       "    </tr>\n",
       "    <tr>\n",
       "      <td>154</td>\n",
       "      <td>neighbourhood_cleansed_Fenway</td>\n",
       "      <td>8.193940e+01</td>\n",
       "      <td>8.193940e+01</td>\n",
       "    </tr>\n",
       "    <tr>\n",
       "      <td>243</td>\n",
       "      <td>property_type_Dorm</td>\n",
       "      <td>-7.926270e+01</td>\n",
       "      <td>7.926270e+01</td>\n",
       "    </tr>\n",
       "    <tr>\n",
       "      <td>220</td>\n",
       "      <td>neighbourhood_cleansed_Southeast Magnolia</td>\n",
       "      <td>7.755820e+01</td>\n",
       "      <td>7.755820e+01</td>\n",
       "    </tr>\n",
       "    <tr>\n",
       "      <td>147</td>\n",
       "      <td>neighbourhood_cleansed_Downtown</td>\n",
       "      <td>7.299410e+01</td>\n",
       "      <td>7.299410e+01</td>\n",
       "    </tr>\n",
       "    <tr>\n",
       "      <td>143</td>\n",
       "      <td>neighbourhood_cleansed_Chinatown</td>\n",
       "      <td>7.295860e+01</td>\n",
       "      <td>7.295860e+01</td>\n",
       "    </tr>\n",
       "    <tr>\n",
       "      <td>168</td>\n",
       "      <td>neighbourhood_cleansed_Industrial District</td>\n",
       "      <td>7.128630e+01</td>\n",
       "      <td>7.128630e+01</td>\n",
       "    </tr>\n",
       "    <tr>\n",
       "      <td>217</td>\n",
       "      <td>neighbourhood_cleansed_South End</td>\n",
       "      <td>6.759410e+01</td>\n",
       "      <td>6.759410e+01</td>\n",
       "    </tr>\n",
       "    <tr>\n",
       "      <td>219</td>\n",
       "      <td>neighbourhood_cleansed_South Park</td>\n",
       "      <td>-6.700060e+01</td>\n",
       "      <td>6.700060e+01</td>\n",
       "    </tr>\n",
       "  </tbody>\n",
       "</table>\n",
       "</div>"
      ],
      "text/plain": [
       "                                      feature_names  feature_coeff  \\\n",
       "13                              host_listings_count  -3.264714e+11   \n",
       "15                        host_total_listings_count   3.264714e+11   \n",
       "85                   calendar_updated_16 months ago   1.656935e+02   \n",
       "215  neighbourhood_cleansed_South Boston Waterfront   1.396481e+02   \n",
       "86                   calendar_updated_17 months ago   1.294785e+02   \n",
       "98                   calendar_updated_30 months ago   1.148795e+02   \n",
       "118             cancellation_policy_super_strict_30   1.094394e+02   \n",
       "131              neighbourhood_cleansed_Bay Village   9.462600e+01   \n",
       "130                 neighbourhood_cleansed_Back Bay   8.995590e+01   \n",
       "132              neighbourhood_cleansed_Beacon Hill   8.970210e+01   \n",
       "93                   calendar_updated_23 months ago   8.625880e+01   \n",
       "174         neighbourhood_cleansed_Leather District   8.570640e+01   \n",
       "154                   neighbourhood_cleansed_Fenway   8.193940e+01   \n",
       "243                              property_type_Dorm  -7.926270e+01   \n",
       "220       neighbourhood_cleansed_Southeast Magnolia   7.755820e+01   \n",
       "147                 neighbourhood_cleansed_Downtown   7.299410e+01   \n",
       "143                neighbourhood_cleansed_Chinatown   7.295860e+01   \n",
       "168      neighbourhood_cleansed_Industrial District   7.128630e+01   \n",
       "217                neighbourhood_cleansed_South End   6.759410e+01   \n",
       "219               neighbourhood_cleansed_South Park  -6.700060e+01   \n",
       "\n",
       "     feature_coeff_abs  \n",
       "13        3.264714e+11  \n",
       "15        3.264714e+11  \n",
       "85        1.656935e+02  \n",
       "215       1.396481e+02  \n",
       "86        1.294785e+02  \n",
       "98        1.148795e+02  \n",
       "118       1.094394e+02  \n",
       "131       9.462600e+01  \n",
       "130       8.995590e+01  \n",
       "132       8.970210e+01  \n",
       "93        8.625880e+01  \n",
       "174       8.570640e+01  \n",
       "154       8.193940e+01  \n",
       "243       7.926270e+01  \n",
       "220       7.755820e+01  \n",
       "147       7.299410e+01  \n",
       "143       7.295860e+01  \n",
       "168       7.128630e+01  \n",
       "217       6.759410e+01  \n",
       "219       6.700060e+01  "
      ]
     },
     "execution_count": 29,
     "metadata": {},
     "output_type": "execute_result"
    }
   ],
   "source": [
    "# List features by coefficients of linear model in ascending order\n",
    "result.sort_values(by=\"feature_coeff_abs\",ascending=False).head(20)"
   ]
  },
  {
   "cell_type": "code",
   "execution_count": 30,
   "metadata": {},
   "outputs": [
    {
     "name": "stdout",
     "output_type": "stream",
     "text": [
      "The rsquared on the training data was 0.51.  The rsquared on the test data was 0.5102.\n"
     ]
    }
   ],
   "source": [
    "# Drop collinear review variables:\n",
    "reviews_cols = df_new.columns[df_new.columns.str.contains(\"review\") ==True]\n",
    "reviews_cols= reviews_cols.drop(\"review_scores_rating\")\n",
    "df_new1 = df_new.drop(reviews_cols,axis=1)\n",
    "\n",
    "## apply linear model\n",
    "test_score1, train_score1, lm_model1, X_train1, X_test1, y_train1, y_test1, result1 = linear_mod(df_new1, 'price')\n",
    "\n",
    "\n",
    "print(\"The rsquared on the training data was {}.  The rsquared on the test data was {}.\".format(train_score1.round(4), test_score1.round(4)))"
   ]
  },
  {
   "cell_type": "code",
   "execution_count": 90,
   "metadata": {},
   "outputs": [
    {
     "data": {
      "text/html": [
       "<div>\n",
       "<style scoped>\n",
       "    .dataframe tbody tr th:only-of-type {\n",
       "        vertical-align: middle;\n",
       "    }\n",
       "\n",
       "    .dataframe tbody tr th {\n",
       "        vertical-align: top;\n",
       "    }\n",
       "\n",
       "    .dataframe thead th {\n",
       "        text-align: right;\n",
       "    }\n",
       "</style>\n",
       "<table border=\"1\" class=\"dataframe\">\n",
       "  <thead>\n",
       "    <tr style=\"text-align: right;\">\n",
       "      <th></th>\n",
       "      <th>feature_names</th>\n",
       "      <th>feature_coeff</th>\n",
       "      <th>feature_coeff_abs</th>\n",
       "    </tr>\n",
       "  </thead>\n",
       "  <tbody>\n",
       "    <tr>\n",
       "      <td>78</td>\n",
       "      <td>calendar_updated_16 months ago</td>\n",
       "      <td>168.2127</td>\n",
       "      <td>168.2127</td>\n",
       "    </tr>\n",
       "    <tr>\n",
       "      <td>208</td>\n",
       "      <td>neighbourhood_cleansed_South Boston Waterfront</td>\n",
       "      <td>136.3390</td>\n",
       "      <td>136.3390</td>\n",
       "    </tr>\n",
       "    <tr>\n",
       "      <td>79</td>\n",
       "      <td>calendar_updated_17 months ago</td>\n",
       "      <td>132.2360</td>\n",
       "      <td>132.2360</td>\n",
       "    </tr>\n",
       "    <tr>\n",
       "      <td>91</td>\n",
       "      <td>calendar_updated_30 months ago</td>\n",
       "      <td>110.0502</td>\n",
       "      <td>110.0502</td>\n",
       "    </tr>\n",
       "    <tr>\n",
       "      <td>111</td>\n",
       "      <td>cancellation_policy_super_strict_30</td>\n",
       "      <td>109.5026</td>\n",
       "      <td>109.5026</td>\n",
       "    </tr>\n",
       "    <tr>\n",
       "      <td>86</td>\n",
       "      <td>calendar_updated_23 months ago</td>\n",
       "      <td>95.1756</td>\n",
       "      <td>95.1756</td>\n",
       "    </tr>\n",
       "    <tr>\n",
       "      <td>124</td>\n",
       "      <td>neighbourhood_cleansed_Bay Village</td>\n",
       "      <td>93.6829</td>\n",
       "      <td>93.6829</td>\n",
       "    </tr>\n",
       "    <tr>\n",
       "      <td>236</td>\n",
       "      <td>property_type_Dorm</td>\n",
       "      <td>-89.3708</td>\n",
       "      <td>89.3708</td>\n",
       "    </tr>\n",
       "    <tr>\n",
       "      <td>123</td>\n",
       "      <td>neighbourhood_cleansed_Back Bay</td>\n",
       "      <td>87.6299</td>\n",
       "      <td>87.6299</td>\n",
       "    </tr>\n",
       "    <tr>\n",
       "      <td>125</td>\n",
       "      <td>neighbourhood_cleansed_Beacon Hill</td>\n",
       "      <td>86.8803</td>\n",
       "      <td>86.8803</td>\n",
       "    </tr>\n",
       "    <tr>\n",
       "      <td>167</td>\n",
       "      <td>neighbourhood_cleansed_Leather District</td>\n",
       "      <td>83.6704</td>\n",
       "      <td>83.6704</td>\n",
       "    </tr>\n",
       "    <tr>\n",
       "      <td>147</td>\n",
       "      <td>neighbourhood_cleansed_Fenway</td>\n",
       "      <td>79.6895</td>\n",
       "      <td>79.6895</td>\n",
       "    </tr>\n",
       "    <tr>\n",
       "      <td>213</td>\n",
       "      <td>neighbourhood_cleansed_Southeast Magnolia</td>\n",
       "      <td>78.3589</td>\n",
       "      <td>78.3589</td>\n",
       "    </tr>\n",
       "    <tr>\n",
       "      <td>161</td>\n",
       "      <td>neighbourhood_cleansed_Industrial District</td>\n",
       "      <td>70.7513</td>\n",
       "      <td>70.7513</td>\n",
       "    </tr>\n",
       "    <tr>\n",
       "      <td>140</td>\n",
       "      <td>neighbourhood_cleansed_Downtown</td>\n",
       "      <td>70.5324</td>\n",
       "      <td>70.5324</td>\n",
       "    </tr>\n",
       "    <tr>\n",
       "      <td>136</td>\n",
       "      <td>neighbourhood_cleansed_Chinatown</td>\n",
       "      <td>68.4075</td>\n",
       "      <td>68.4075</td>\n",
       "    </tr>\n",
       "    <tr>\n",
       "      <td>230</td>\n",
       "      <td>property_type_Boat</td>\n",
       "      <td>65.7272</td>\n",
       "      <td>65.7272</td>\n",
       "    </tr>\n",
       "    <tr>\n",
       "      <td>210</td>\n",
       "      <td>neighbourhood_cleansed_South End</td>\n",
       "      <td>65.3653</td>\n",
       "      <td>65.3653</td>\n",
       "    </tr>\n",
       "    <tr>\n",
       "      <td>212</td>\n",
       "      <td>neighbourhood_cleansed_South Park</td>\n",
       "      <td>-62.5044</td>\n",
       "      <td>62.5044</td>\n",
       "    </tr>\n",
       "    <tr>\n",
       "      <td>64</td>\n",
       "      <td>amenities_washer_/_dryer</td>\n",
       "      <td>61.4017</td>\n",
       "      <td>61.4017</td>\n",
       "    </tr>\n",
       "  </tbody>\n",
       "</table>\n",
       "</div>"
      ],
      "text/plain": [
       "                                      feature_names  feature_coeff  \\\n",
       "78                   calendar_updated_16 months ago       168.2127   \n",
       "208  neighbourhood_cleansed_South Boston Waterfront       136.3390   \n",
       "79                   calendar_updated_17 months ago       132.2360   \n",
       "91                   calendar_updated_30 months ago       110.0502   \n",
       "111             cancellation_policy_super_strict_30       109.5026   \n",
       "86                   calendar_updated_23 months ago        95.1756   \n",
       "124              neighbourhood_cleansed_Bay Village        93.6829   \n",
       "236                              property_type_Dorm       -89.3708   \n",
       "123                 neighbourhood_cleansed_Back Bay        87.6299   \n",
       "125              neighbourhood_cleansed_Beacon Hill        86.8803   \n",
       "167         neighbourhood_cleansed_Leather District        83.6704   \n",
       "147                   neighbourhood_cleansed_Fenway        79.6895   \n",
       "213       neighbourhood_cleansed_Southeast Magnolia        78.3589   \n",
       "161      neighbourhood_cleansed_Industrial District        70.7513   \n",
       "140                 neighbourhood_cleansed_Downtown        70.5324   \n",
       "136                neighbourhood_cleansed_Chinatown        68.4075   \n",
       "230                              property_type_Boat        65.7272   \n",
       "210                neighbourhood_cleansed_South End        65.3653   \n",
       "212               neighbourhood_cleansed_South Park       -62.5044   \n",
       "64                         amenities_washer_/_dryer        61.4017   \n",
       "\n",
       "     feature_coeff_abs  \n",
       "78            168.2127  \n",
       "208           136.3390  \n",
       "79            132.2360  \n",
       "91            110.0502  \n",
       "111           109.5026  \n",
       "86             95.1756  \n",
       "124            93.6829  \n",
       "236            89.3708  \n",
       "123            87.6299  \n",
       "125            86.8803  \n",
       "167            83.6704  \n",
       "147            79.6895  \n",
       "213            78.3589  \n",
       "161            70.7513  \n",
       "140            70.5324  \n",
       "136            68.4075  \n",
       "230            65.7272  \n",
       "210            65.3653  \n",
       "212            62.5044  \n",
       "64             61.4017  "
      ]
     },
     "execution_count": 90,
     "metadata": {},
     "output_type": "execute_result"
    }
   ],
   "source": [
    "# List features by coefficients of linear model in ascending order\n",
    "result_list = result1.sort_values(by=\"feature_coeff_abs\",ascending=False).head(20)\n",
    "result_list\n",
    "#result_list.to_csv(\"lm_model_results.csv\")"
   ]
  },
  {
   "cell_type": "markdown",
   "metadata": {},
   "source": [
    "**Summary Linear Model: Which Features are highly Related to “Price”?**\n",
    "\n",
    "The R-square score on the train data is 0.5121 and on the train data is 0.5122. R-square score on the train data without collinear review variables is 0.51 and on the train data is 0.5102. When we compare both R-square scores, the review variables only have a small effect on our linear model. The coefficient table shows a list of 20 features of higher correlations to price. These are mostly neighborhood areas with higher rates, for example Waterfront and Bay Village in Boston. It is also obvious that the higher the rates the less frequent the hosts updated its calendar. "
   ]
  },
  {
   "cell_type": "markdown",
   "metadata": {},
   "source": [
    "## Catboost \n",
    "\n",
    "**Can we have a better prediction by using other Model?** <br> I decide to use catboost model.\n",
    "CatBoost is a machine learning algorithm that uses gradient boosting on decision trees."
   ]
  },
  {
   "cell_type": "code",
   "execution_count": 32,
   "metadata": {
    "scrolled": true
   },
   "outputs": [
    {
     "name": "stdout",
     "output_type": "stream",
     "text": [
      "0:\tlearn: 118.9962612\ttotal: 227ms\tremaining: 3m 46s\n",
      "1:\tlearn: 115.0645302\ttotal: 377ms\tremaining: 3m 8s\n",
      "2:\tlearn: 111.7655395\ttotal: 515ms\tremaining: 2m 51s\n",
      "3:\tlearn: 108.8503367\ttotal: 655ms\tremaining: 2m 43s\n",
      "4:\tlearn: 106.5024463\ttotal: 788ms\tremaining: 2m 36s\n",
      "5:\tlearn: 104.4502088\ttotal: 919ms\tremaining: 2m 32s\n",
      "6:\tlearn: 102.5465137\ttotal: 1.05s\tremaining: 2m 29s\n",
      "7:\tlearn: 100.6759653\ttotal: 1.18s\tremaining: 2m 26s\n",
      "8:\tlearn: 98.4769228\ttotal: 1.3s\tremaining: 2m 23s\n",
      "9:\tlearn: 97.0040474\ttotal: 1.43s\tremaining: 2m 21s\n",
      "10:\tlearn: 93.9355859\ttotal: 1.57s\tremaining: 2m 20s\n",
      "11:\tlearn: 92.6627912\ttotal: 1.68s\tremaining: 2m 18s\n",
      "12:\tlearn: 91.4101328\ttotal: 1.81s\tremaining: 2m 17s\n",
      "13:\tlearn: 89.8039823\ttotal: 1.98s\tremaining: 2m 19s\n",
      "14:\tlearn: 88.8744184\ttotal: 2.11s\tremaining: 2m 18s\n",
      "15:\tlearn: 88.0034895\ttotal: 2.26s\tremaining: 2m 19s\n",
      "16:\tlearn: 87.2300749\ttotal: 2.39s\tremaining: 2m 18s\n",
      "17:\tlearn: 86.5193887\ttotal: 2.5s\tremaining: 2m 16s\n",
      "18:\tlearn: 85.9063457\ttotal: 2.63s\tremaining: 2m 15s\n",
      "19:\tlearn: 85.3205942\ttotal: 2.77s\tremaining: 2m 15s\n",
      "20:\tlearn: 84.6583576\ttotal: 2.91s\tremaining: 2m 15s\n",
      "21:\tlearn: 84.0349432\ttotal: 3.03s\tremaining: 2m 14s\n",
      "22:\tlearn: 82.9112660\ttotal: 3.16s\tremaining: 2m 14s\n",
      "23:\tlearn: 82.0048087\ttotal: 3.28s\tremaining: 2m 13s\n",
      "24:\tlearn: 81.5795744\ttotal: 3.41s\tremaining: 2m 12s\n",
      "25:\tlearn: 81.0508482\ttotal: 3.53s\tremaining: 2m 12s\n",
      "26:\tlearn: 80.2943422\ttotal: 3.64s\tremaining: 2m 11s\n",
      "27:\tlearn: 79.7796043\ttotal: 3.76s\tremaining: 2m 10s\n",
      "28:\tlearn: 79.2621278\ttotal: 3.88s\tremaining: 2m 10s\n",
      "29:\tlearn: 78.4094838\ttotal: 4s\tremaining: 2m 9s\n",
      "30:\tlearn: 76.4086006\ttotal: 4.13s\tremaining: 2m 9s\n",
      "31:\tlearn: 75.9604670\ttotal: 4.25s\tremaining: 2m 8s\n",
      "32:\tlearn: 75.5466501\ttotal: 4.38s\tremaining: 2m 8s\n",
      "33:\tlearn: 75.2722988\ttotal: 4.51s\tremaining: 2m 8s\n",
      "34:\tlearn: 74.5665022\ttotal: 4.63s\tremaining: 2m 7s\n",
      "35:\tlearn: 74.2541892\ttotal: 4.79s\tremaining: 2m 8s\n",
      "36:\tlearn: 72.4311090\ttotal: 4.91s\tremaining: 2m 7s\n",
      "37:\tlearn: 72.0524035\ttotal: 5.03s\tremaining: 2m 7s\n",
      "38:\tlearn: 71.6270099\ttotal: 5.15s\tremaining: 2m 6s\n",
      "39:\tlearn: 71.1235189\ttotal: 5.3s\tremaining: 2m 7s\n",
      "40:\tlearn: 70.8958333\ttotal: 5.42s\tremaining: 2m 6s\n",
      "41:\tlearn: 70.6347035\ttotal: 5.53s\tremaining: 2m 6s\n",
      "42:\tlearn: 70.2752393\ttotal: 5.65s\tremaining: 2m 5s\n",
      "43:\tlearn: 69.4788649\ttotal: 5.78s\tremaining: 2m 5s\n",
      "44:\tlearn: 69.2192050\ttotal: 5.91s\tremaining: 2m 5s\n",
      "45:\tlearn: 68.8328586\ttotal: 6.05s\tremaining: 2m 5s\n",
      "46:\tlearn: 67.2787219\ttotal: 6.17s\tremaining: 2m 5s\n",
      "47:\tlearn: 67.1035565\ttotal: 6.33s\tremaining: 2m 5s\n",
      "48:\tlearn: 66.8478989\ttotal: 6.47s\tremaining: 2m 5s\n",
      "49:\tlearn: 66.5664747\ttotal: 6.6s\tremaining: 2m 5s\n",
      "50:\tlearn: 66.1025824\ttotal: 6.72s\tremaining: 2m 5s\n",
      "51:\tlearn: 64.8042384\ttotal: 6.86s\tremaining: 2m 5s\n",
      "52:\tlearn: 63.7652819\ttotal: 6.99s\tremaining: 2m 4s\n",
      "53:\tlearn: 63.5497933\ttotal: 7.12s\tremaining: 2m 4s\n",
      "54:\tlearn: 63.2708958\ttotal: 7.25s\tremaining: 2m 4s\n",
      "55:\tlearn: 63.0584068\ttotal: 7.38s\tremaining: 2m 4s\n",
      "56:\tlearn: 62.8909233\ttotal: 7.49s\tremaining: 2m 3s\n",
      "57:\tlearn: 62.3857191\ttotal: 7.65s\tremaining: 2m 4s\n",
      "58:\tlearn: 62.1236219\ttotal: 7.77s\tremaining: 2m 3s\n",
      "59:\tlearn: 61.9164073\ttotal: 7.89s\tremaining: 2m 3s\n",
      "60:\tlearn: 61.7158860\ttotal: 8.02s\tremaining: 2m 3s\n",
      "61:\tlearn: 61.5771374\ttotal: 8.13s\tremaining: 2m 2s\n",
      "62:\tlearn: 61.4104435\ttotal: 8.26s\tremaining: 2m 2s\n",
      "63:\tlearn: 61.0170402\ttotal: 8.4s\tremaining: 2m 2s\n",
      "64:\tlearn: 60.8193699\ttotal: 8.52s\tremaining: 2m 2s\n",
      "65:\tlearn: 60.6873822\ttotal: 8.63s\tremaining: 2m 2s\n",
      "66:\tlearn: 60.4653429\ttotal: 8.75s\tremaining: 2m 1s\n",
      "67:\tlearn: 60.2768230\ttotal: 8.91s\tremaining: 2m 2s\n",
      "68:\tlearn: 60.1235330\ttotal: 9.04s\tremaining: 2m 2s\n",
      "69:\tlearn: 59.9950147\ttotal: 9.16s\tremaining: 2m 1s\n",
      "70:\tlearn: 59.7697484\ttotal: 9.3s\tremaining: 2m 1s\n",
      "71:\tlearn: 59.5974785\ttotal: 9.42s\tremaining: 2m 1s\n",
      "72:\tlearn: 59.4230398\ttotal: 9.53s\tremaining: 2m 1s\n",
      "73:\tlearn: 59.2342909\ttotal: 9.68s\tremaining: 2m 1s\n",
      "74:\tlearn: 59.0811747\ttotal: 9.8s\tremaining: 2m\n",
      "75:\tlearn: 58.9205087\ttotal: 9.94s\tremaining: 2m\n",
      "76:\tlearn: 58.7213038\ttotal: 10.1s\tremaining: 2m 1s\n",
      "77:\tlearn: 58.3495796\ttotal: 10.2s\tremaining: 2m\n",
      "78:\tlearn: 58.1298003\ttotal: 10.4s\tremaining: 2m\n",
      "79:\tlearn: 57.9681906\ttotal: 10.5s\tremaining: 2m\n",
      "80:\tlearn: 57.8345353\ttotal: 10.6s\tremaining: 2m\n",
      "81:\tlearn: 57.6810165\ttotal: 10.8s\tremaining: 2m\n",
      "82:\tlearn: 57.5422527\ttotal: 10.9s\tremaining: 2m\n",
      "83:\tlearn: 57.3205498\ttotal: 11s\tremaining: 2m\n",
      "84:\tlearn: 57.1446638\ttotal: 11.2s\tremaining: 2m\n",
      "85:\tlearn: 56.9994453\ttotal: 11.3s\tremaining: 1m 59s\n",
      "86:\tlearn: 56.8258823\ttotal: 11.4s\tremaining: 2m\n",
      "87:\tlearn: 56.7157935\ttotal: 11.6s\tremaining: 1m 59s\n",
      "88:\tlearn: 56.5763083\ttotal: 11.7s\tremaining: 1m 59s\n",
      "89:\tlearn: 56.4483133\ttotal: 11.8s\tremaining: 1m 59s\n",
      "90:\tlearn: 56.3658619\ttotal: 12s\tremaining: 1m 59s\n",
      "91:\tlearn: 56.2405226\ttotal: 12.1s\tremaining: 1m 59s\n",
      "92:\tlearn: 55.3510336\ttotal: 12.2s\tremaining: 1m 58s\n",
      "93:\tlearn: 55.2550700\ttotal: 12.3s\tremaining: 1m 59s\n",
      "94:\tlearn: 55.1155007\ttotal: 12.5s\tremaining: 1m 58s\n",
      "95:\tlearn: 54.9986667\ttotal: 12.6s\tremaining: 1m 58s\n",
      "96:\tlearn: 54.8763944\ttotal: 12.7s\tremaining: 1m 58s\n",
      "97:\tlearn: 54.7356986\ttotal: 12.9s\tremaining: 1m 58s\n",
      "98:\tlearn: 54.3956596\ttotal: 13s\tremaining: 1m 58s\n",
      "99:\tlearn: 54.2260341\ttotal: 13.1s\tremaining: 1m 58s\n",
      "100:\tlearn: 54.1175778\ttotal: 13.2s\tremaining: 1m 57s\n",
      "101:\tlearn: 54.0184156\ttotal: 13.4s\tremaining: 1m 57s\n",
      "102:\tlearn: 53.6425344\ttotal: 13.5s\tremaining: 1m 57s\n",
      "103:\tlearn: 53.5562021\ttotal: 13.6s\tremaining: 1m 56s\n",
      "104:\tlearn: 53.4842949\ttotal: 13.7s\tremaining: 1m 56s\n",
      "105:\tlearn: 53.3792936\ttotal: 13.8s\tremaining: 1m 56s\n",
      "106:\tlearn: 53.1783701\ttotal: 14s\tremaining: 1m 56s\n",
      "107:\tlearn: 53.0341623\ttotal: 14.1s\tremaining: 1m 56s\n",
      "108:\tlearn: 52.9259808\ttotal: 14.2s\tremaining: 1m 56s\n",
      "109:\tlearn: 52.8019342\ttotal: 14.4s\tremaining: 1m 56s\n",
      "110:\tlearn: 52.5586726\ttotal: 14.5s\tremaining: 1m 56s\n",
      "111:\tlearn: 52.4447163\ttotal: 14.6s\tremaining: 1m 55s\n",
      "112:\tlearn: 52.3300925\ttotal: 14.7s\tremaining: 1m 55s\n",
      "113:\tlearn: 51.9687549\ttotal: 14.9s\tremaining: 1m 55s\n",
      "114:\tlearn: 51.8734028\ttotal: 15s\tremaining: 1m 55s\n",
      "115:\tlearn: 51.7911532\ttotal: 15.1s\tremaining: 1m 54s\n",
      "116:\tlearn: 51.6784661\ttotal: 15.2s\tremaining: 1m 54s\n",
      "117:\tlearn: 51.5734596\ttotal: 15.3s\tremaining: 1m 54s\n",
      "118:\tlearn: 51.4682154\ttotal: 15.5s\tremaining: 1m 54s\n",
      "119:\tlearn: 51.3748094\ttotal: 15.6s\tremaining: 1m 54s\n",
      "120:\tlearn: 51.2591397\ttotal: 15.7s\tremaining: 1m 54s\n",
      "121:\tlearn: 51.0824646\ttotal: 15.8s\tremaining: 1m 54s\n",
      "122:\tlearn: 50.9949533\ttotal: 16s\tremaining: 1m 53s\n",
      "123:\tlearn: 50.8856855\ttotal: 16.1s\tremaining: 1m 53s\n",
      "124:\tlearn: 50.7996176\ttotal: 16.2s\tremaining: 1m 53s\n",
      "125:\tlearn: 50.7222497\ttotal: 16.3s\tremaining: 1m 53s\n",
      "126:\tlearn: 50.6354349\ttotal: 16.5s\tremaining: 1m 53s\n",
      "127:\tlearn: 50.5721344\ttotal: 16.6s\tremaining: 1m 53s\n",
      "128:\tlearn: 50.4717799\ttotal: 16.8s\tremaining: 1m 53s\n",
      "129:\tlearn: 50.3877255\ttotal: 16.9s\tremaining: 1m 53s\n",
      "130:\tlearn: 50.2583414\ttotal: 17.1s\tremaining: 1m 53s\n",
      "131:\tlearn: 50.1258082\ttotal: 17.3s\tremaining: 1m 53s\n",
      "132:\tlearn: 49.8804681\ttotal: 17.4s\tremaining: 1m 53s\n",
      "133:\tlearn: 49.7812931\ttotal: 17.5s\tremaining: 1m 53s\n",
      "134:\tlearn: 49.6556653\ttotal: 17.6s\tremaining: 1m 53s\n",
      "135:\tlearn: 49.5884298\ttotal: 17.8s\tremaining: 1m 52s\n",
      "136:\tlearn: 49.5090105\ttotal: 17.9s\tremaining: 1m 52s\n",
      "137:\tlearn: 49.3215761\ttotal: 18.1s\tremaining: 1m 52s\n",
      "138:\tlearn: 48.6752438\ttotal: 18.3s\tremaining: 1m 53s\n",
      "139:\tlearn: 48.5718138\ttotal: 18.5s\tremaining: 1m 53s\n",
      "140:\tlearn: 48.4823104\ttotal: 18.7s\tremaining: 1m 53s\n",
      "141:\tlearn: 48.3899623\ttotal: 18.9s\tremaining: 1m 54s\n",
      "142:\tlearn: 48.2791200\ttotal: 19.1s\tremaining: 1m 54s\n",
      "143:\tlearn: 48.2031324\ttotal: 19.2s\tremaining: 1m 54s\n",
      "144:\tlearn: 48.0903906\ttotal: 19.3s\tremaining: 1m 54s\n",
      "145:\tlearn: 47.5598133\ttotal: 19.5s\tremaining: 1m 53s\n",
      "146:\tlearn: 47.4197625\ttotal: 19.6s\tremaining: 1m 53s\n",
      "147:\tlearn: 47.3781470\ttotal: 19.7s\tremaining: 1m 53s\n",
      "148:\tlearn: 47.2848339\ttotal: 19.8s\tremaining: 1m 53s\n",
      "149:\tlearn: 47.1683243\ttotal: 19.9s\tremaining: 1m 53s\n",
      "150:\tlearn: 47.1109716\ttotal: 20.1s\tremaining: 1m 52s\n",
      "151:\tlearn: 47.0258857\ttotal: 20.2s\tremaining: 1m 52s\n",
      "152:\tlearn: 46.5282460\ttotal: 20.3s\tremaining: 1m 52s\n",
      "153:\tlearn: 46.4659941\ttotal: 20.4s\tremaining: 1m 52s\n",
      "154:\tlearn: 46.3787607\ttotal: 20.5s\tremaining: 1m 52s\n",
      "155:\tlearn: 46.3040964\ttotal: 20.7s\tremaining: 1m 51s\n",
      "156:\tlearn: 45.9130165\ttotal: 20.8s\tremaining: 1m 51s\n"
     ]
    },
    {
     "name": "stdout",
     "output_type": "stream",
     "text": [
      "157:\tlearn: 45.8214344\ttotal: 21s\tremaining: 1m 51s\n",
      "158:\tlearn: 45.6106420\ttotal: 21.2s\tremaining: 1m 51s\n",
      "159:\tlearn: 45.5143409\ttotal: 21.3s\tremaining: 1m 51s\n",
      "160:\tlearn: 45.4552624\ttotal: 21.4s\tremaining: 1m 51s\n",
      "161:\tlearn: 45.3629290\ttotal: 21.6s\tremaining: 1m 51s\n",
      "162:\tlearn: 45.2624969\ttotal: 21.8s\tremaining: 1m 51s\n",
      "163:\tlearn: 45.2013169\ttotal: 21.9s\tremaining: 1m 51s\n",
      "164:\tlearn: 45.0579014\ttotal: 22s\tremaining: 1m 51s\n",
      "165:\tlearn: 44.9666590\ttotal: 22.2s\tremaining: 1m 51s\n",
      "166:\tlearn: 44.8902145\ttotal: 22.3s\tremaining: 1m 51s\n",
      "167:\tlearn: 44.7864926\ttotal: 22.5s\tremaining: 1m 51s\n",
      "168:\tlearn: 44.7386765\ttotal: 22.6s\tremaining: 1m 51s\n",
      "169:\tlearn: 44.6468218\ttotal: 22.8s\tremaining: 1m 51s\n",
      "170:\tlearn: 44.5686107\ttotal: 22.9s\tremaining: 1m 50s\n",
      "171:\tlearn: 44.4776754\ttotal: 23s\tremaining: 1m 50s\n",
      "172:\tlearn: 44.1213431\ttotal: 23.1s\tremaining: 1m 50s\n",
      "173:\tlearn: 44.0157963\ttotal: 23.3s\tremaining: 1m 50s\n",
      "174:\tlearn: 43.9480147\ttotal: 23.4s\tremaining: 1m 50s\n",
      "175:\tlearn: 43.8658623\ttotal: 23.5s\tremaining: 1m 50s\n",
      "176:\tlearn: 43.7881657\ttotal: 23.7s\tremaining: 1m 49s\n",
      "177:\tlearn: 43.6083613\ttotal: 23.8s\tremaining: 1m 49s\n",
      "178:\tlearn: 43.4970642\ttotal: 23.9s\tremaining: 1m 49s\n",
      "179:\tlearn: 43.4487001\ttotal: 24.1s\tremaining: 1m 49s\n",
      "180:\tlearn: 43.3734139\ttotal: 24.2s\tremaining: 1m 49s\n",
      "181:\tlearn: 43.3275582\ttotal: 24.4s\tremaining: 1m 49s\n",
      "182:\tlearn: 43.2580236\ttotal: 24.5s\tremaining: 1m 49s\n",
      "183:\tlearn: 43.1742675\ttotal: 24.6s\tremaining: 1m 49s\n",
      "184:\tlearn: 43.0963000\ttotal: 24.7s\tremaining: 1m 48s\n",
      "185:\tlearn: 43.0400507\ttotal: 24.8s\tremaining: 1m 48s\n",
      "186:\tlearn: 42.9834293\ttotal: 24.9s\tremaining: 1m 48s\n",
      "187:\tlearn: 42.8991702\ttotal: 25.1s\tremaining: 1m 48s\n",
      "188:\tlearn: 42.8369039\ttotal: 25.2s\tremaining: 1m 48s\n",
      "189:\tlearn: 42.7829314\ttotal: 25.3s\tremaining: 1m 47s\n",
      "190:\tlearn: 42.6963924\ttotal: 25.4s\tremaining: 1m 47s\n",
      "191:\tlearn: 42.6461573\ttotal: 25.6s\tremaining: 1m 47s\n",
      "192:\tlearn: 42.5815910\ttotal: 25.7s\tremaining: 1m 47s\n",
      "193:\tlearn: 42.5146755\ttotal: 25.8s\tremaining: 1m 47s\n",
      "194:\tlearn: 42.3747107\ttotal: 25.9s\tremaining: 1m 46s\n",
      "195:\tlearn: 42.3021669\ttotal: 26s\tremaining: 1m 46s\n",
      "196:\tlearn: 42.2380233\ttotal: 26.2s\tremaining: 1m 46s\n",
      "197:\tlearn: 42.1702517\ttotal: 26.3s\tremaining: 1m 46s\n",
      "198:\tlearn: 42.1153833\ttotal: 26.4s\tremaining: 1m 46s\n",
      "199:\tlearn: 42.0350358\ttotal: 26.5s\tremaining: 1m 46s\n",
      "200:\tlearn: 41.8914399\ttotal: 26.6s\tremaining: 1m 45s\n",
      "201:\tlearn: 41.8208049\ttotal: 26.7s\tremaining: 1m 45s\n",
      "202:\tlearn: 41.6522656\ttotal: 26.9s\tremaining: 1m 45s\n",
      "203:\tlearn: 41.5385796\ttotal: 27s\tremaining: 1m 45s\n",
      "204:\tlearn: 41.4516057\ttotal: 27.1s\tremaining: 1m 45s\n",
      "205:\tlearn: 41.3416704\ttotal: 27.2s\tremaining: 1m 44s\n",
      "206:\tlearn: 41.2860622\ttotal: 27.3s\tremaining: 1m 44s\n",
      "207:\tlearn: 41.2132201\ttotal: 27.5s\tremaining: 1m 44s\n",
      "208:\tlearn: 41.1713174\ttotal: 27.6s\tremaining: 1m 44s\n",
      "209:\tlearn: 41.1092219\ttotal: 27.7s\tremaining: 1m 44s\n",
      "210:\tlearn: 41.0446735\ttotal: 27.8s\tremaining: 1m 43s\n",
      "211:\tlearn: 40.9681013\ttotal: 27.9s\tremaining: 1m 43s\n",
      "212:\tlearn: 40.9333808\ttotal: 28s\tremaining: 1m 43s\n",
      "213:\tlearn: 40.8930110\ttotal: 28.2s\tremaining: 1m 43s\n",
      "214:\tlearn: 40.7650960\ttotal: 28.3s\tremaining: 1m 43s\n",
      "215:\tlearn: 40.7094305\ttotal: 28.4s\tremaining: 1m 43s\n",
      "216:\tlearn: 40.6262266\ttotal: 28.5s\tremaining: 1m 42s\n",
      "217:\tlearn: 40.5621517\ttotal: 28.6s\tremaining: 1m 42s\n",
      "218:\tlearn: 40.5076720\ttotal: 28.7s\tremaining: 1m 42s\n",
      "219:\tlearn: 40.2324550\ttotal: 28.9s\tremaining: 1m 42s\n",
      "220:\tlearn: 40.1627212\ttotal: 29s\tremaining: 1m 42s\n",
      "221:\tlearn: 40.1108916\ttotal: 29.1s\tremaining: 1m 42s\n",
      "222:\tlearn: 40.0670626\ttotal: 29.2s\tremaining: 1m 41s\n",
      "223:\tlearn: 40.0117253\ttotal: 29.4s\tremaining: 1m 41s\n",
      "224:\tlearn: 39.9312266\ttotal: 29.5s\tremaining: 1m 41s\n",
      "225:\tlearn: 39.8422725\ttotal: 29.6s\tremaining: 1m 41s\n",
      "226:\tlearn: 39.7928901\ttotal: 29.7s\tremaining: 1m 41s\n",
      "227:\tlearn: 39.7436599\ttotal: 29.8s\tremaining: 1m 41s\n",
      "228:\tlearn: 39.6919759\ttotal: 30s\tremaining: 1m 40s\n",
      "229:\tlearn: 39.6358153\ttotal: 30.1s\tremaining: 1m 40s\n",
      "230:\tlearn: 39.3993408\ttotal: 30.2s\tremaining: 1m 40s\n",
      "231:\tlearn: 39.3678224\ttotal: 30.3s\tremaining: 1m 40s\n",
      "232:\tlearn: 39.1839737\ttotal: 30.4s\tremaining: 1m 40s\n",
      "233:\tlearn: 39.1185074\ttotal: 30.5s\tremaining: 1m 39s\n",
      "234:\tlearn: 39.0709593\ttotal: 30.7s\tremaining: 1m 39s\n",
      "235:\tlearn: 39.0033501\ttotal: 30.8s\tremaining: 1m 39s\n",
      "236:\tlearn: 38.9426230\ttotal: 31s\tremaining: 1m 39s\n",
      "237:\tlearn: 38.8849552\ttotal: 31.1s\tremaining: 1m 39s\n",
      "238:\tlearn: 38.7301827\ttotal: 31.2s\tremaining: 1m 39s\n",
      "239:\tlearn: 38.5864079\ttotal: 31.4s\tremaining: 1m 39s\n",
      "240:\tlearn: 38.5422259\ttotal: 31.5s\tremaining: 1m 39s\n",
      "241:\tlearn: 38.4844327\ttotal: 31.6s\tremaining: 1m 39s\n",
      "242:\tlearn: 38.4378420\ttotal: 31.7s\tremaining: 1m 38s\n",
      "243:\tlearn: 38.3752473\ttotal: 31.9s\tremaining: 1m 38s\n",
      "244:\tlearn: 38.3171374\ttotal: 32s\tremaining: 1m 38s\n",
      "245:\tlearn: 38.2410380\ttotal: 32.1s\tremaining: 1m 38s\n",
      "246:\tlearn: 38.1866558\ttotal: 32.3s\tremaining: 1m 38s\n",
      "247:\tlearn: 38.1214779\ttotal: 32.4s\tremaining: 1m 38s\n",
      "248:\tlearn: 38.0964585\ttotal: 32.6s\tremaining: 1m 38s\n",
      "249:\tlearn: 37.9991498\ttotal: 32.7s\tremaining: 1m 38s\n",
      "250:\tlearn: 37.9214035\ttotal: 32.8s\tremaining: 1m 37s\n",
      "251:\tlearn: 37.8516759\ttotal: 33s\tremaining: 1m 37s\n",
      "252:\tlearn: 37.7851268\ttotal: 33.1s\tremaining: 1m 37s\n",
      "253:\tlearn: 37.7447822\ttotal: 33.2s\tremaining: 1m 37s\n",
      "254:\tlearn: 37.6912683\ttotal: 33.4s\tremaining: 1m 37s\n",
      "255:\tlearn: 37.6347780\ttotal: 33.5s\tremaining: 1m 37s\n",
      "256:\tlearn: 37.5789699\ttotal: 33.6s\tremaining: 1m 37s\n",
      "257:\tlearn: 37.5186205\ttotal: 33.7s\tremaining: 1m 37s\n",
      "258:\tlearn: 37.4722627\ttotal: 33.9s\tremaining: 1m 36s\n",
      "259:\tlearn: 37.4395533\ttotal: 34s\tremaining: 1m 36s\n",
      "260:\tlearn: 37.3798307\ttotal: 34.1s\tremaining: 1m 36s\n",
      "261:\tlearn: 37.3202695\ttotal: 34.2s\tremaining: 1m 36s\n",
      "262:\tlearn: 37.2746512\ttotal: 34.3s\tremaining: 1m 36s\n",
      "263:\tlearn: 37.2330227\ttotal: 34.4s\tremaining: 1m 36s\n",
      "264:\tlearn: 37.1924789\ttotal: 34.6s\tremaining: 1m 35s\n",
      "265:\tlearn: 37.1223063\ttotal: 34.7s\tremaining: 1m 35s\n",
      "266:\tlearn: 37.0765126\ttotal: 34.8s\tremaining: 1m 35s\n",
      "267:\tlearn: 37.0125742\ttotal: 34.9s\tremaining: 1m 35s\n",
      "268:\tlearn: 36.9488048\ttotal: 35.1s\tremaining: 1m 35s\n",
      "269:\tlearn: 36.8650556\ttotal: 35.2s\tremaining: 1m 35s\n",
      "270:\tlearn: 36.8197937\ttotal: 35.3s\tremaining: 1m 34s\n",
      "271:\tlearn: 36.7770902\ttotal: 35.4s\tremaining: 1m 34s\n",
      "272:\tlearn: 36.7287686\ttotal: 35.5s\tremaining: 1m 34s\n",
      "273:\tlearn: 36.6920779\ttotal: 35.6s\tremaining: 1m 34s\n",
      "274:\tlearn: 36.6621381\ttotal: 35.8s\tremaining: 1m 34s\n",
      "275:\tlearn: 36.6151528\ttotal: 35.9s\tremaining: 1m 34s\n",
      "276:\tlearn: 36.5869192\ttotal: 36s\tremaining: 1m 33s\n",
      "277:\tlearn: 36.5471140\ttotal: 36.1s\tremaining: 1m 33s\n",
      "278:\tlearn: 36.5063431\ttotal: 36.2s\tremaining: 1m 33s\n",
      "279:\tlearn: 36.4487143\ttotal: 36.4s\tremaining: 1m 33s\n",
      "280:\tlearn: 36.3679876\ttotal: 36.5s\tremaining: 1m 33s\n",
      "281:\tlearn: 36.3278161\ttotal: 36.6s\tremaining: 1m 33s\n",
      "282:\tlearn: 36.2891969\ttotal: 36.7s\tremaining: 1m 33s\n",
      "283:\tlearn: 36.2587574\ttotal: 36.8s\tremaining: 1m 32s\n",
      "284:\tlearn: 36.2178769\ttotal: 37s\tremaining: 1m 32s\n",
      "285:\tlearn: 36.1258785\ttotal: 37.1s\tremaining: 1m 32s\n",
      "286:\tlearn: 36.0440108\ttotal: 37.2s\tremaining: 1m 32s\n",
      "287:\tlearn: 35.9847276\ttotal: 37.3s\tremaining: 1m 32s\n",
      "288:\tlearn: 35.9409571\ttotal: 37.5s\tremaining: 1m 32s\n",
      "289:\tlearn: 35.8827763\ttotal: 37.7s\tremaining: 1m 32s\n",
      "290:\tlearn: 35.8406647\ttotal: 37.8s\tremaining: 1m 32s\n",
      "291:\tlearn: 35.8020044\ttotal: 38s\tremaining: 1m 32s\n",
      "292:\tlearn: 35.7441198\ttotal: 38.1s\tremaining: 1m 31s\n",
      "293:\tlearn: 35.6889689\ttotal: 38.2s\tremaining: 1m 31s\n",
      "294:\tlearn: 35.6495529\ttotal: 38.3s\tremaining: 1m 31s\n",
      "295:\tlearn: 35.6099978\ttotal: 38.5s\tremaining: 1m 31s\n",
      "296:\tlearn: 35.5780295\ttotal: 38.6s\tremaining: 1m 31s\n",
      "297:\tlearn: 35.5357528\ttotal: 38.7s\tremaining: 1m 31s\n",
      "298:\tlearn: 35.5085651\ttotal: 38.8s\tremaining: 1m 31s\n",
      "299:\tlearn: 35.4709545\ttotal: 39s\tremaining: 1m 30s\n",
      "300:\tlearn: 35.4241518\ttotal: 39.1s\tremaining: 1m 30s\n",
      "301:\tlearn: 35.3774001\ttotal: 39.3s\tremaining: 1m 30s\n",
      "302:\tlearn: 35.3509018\ttotal: 39.4s\tremaining: 1m 30s\n",
      "303:\tlearn: 35.3163020\ttotal: 39.5s\tremaining: 1m 30s\n",
      "304:\tlearn: 35.2363245\ttotal: 39.7s\tremaining: 1m 30s\n",
      "305:\tlearn: 35.1864441\ttotal: 39.8s\tremaining: 1m 30s\n",
      "306:\tlearn: 35.1502048\ttotal: 39.9s\tremaining: 1m 30s\n",
      "307:\tlearn: 35.1255951\ttotal: 40s\tremaining: 1m 29s\n",
      "308:\tlearn: 35.0846815\ttotal: 40.2s\tremaining: 1m 29s\n",
      "309:\tlearn: 35.0460554\ttotal: 40.3s\tremaining: 1m 29s\n",
      "310:\tlearn: 34.9754505\ttotal: 40.4s\tremaining: 1m 29s\n"
     ]
    },
    {
     "name": "stdout",
     "output_type": "stream",
     "text": [
      "311:\tlearn: 34.9493918\ttotal: 40.5s\tremaining: 1m 29s\n",
      "312:\tlearn: 34.9214668\ttotal: 40.7s\tremaining: 1m 29s\n",
      "313:\tlearn: 34.8667682\ttotal: 40.8s\tremaining: 1m 29s\n",
      "314:\tlearn: 34.8001156\ttotal: 40.9s\tremaining: 1m 28s\n",
      "315:\tlearn: 34.7334205\ttotal: 41s\tremaining: 1m 28s\n",
      "316:\tlearn: 34.6880768\ttotal: 41.2s\tremaining: 1m 28s\n",
      "317:\tlearn: 34.6467540\ttotal: 41.3s\tremaining: 1m 28s\n",
      "318:\tlearn: 34.5993481\ttotal: 41.5s\tremaining: 1m 28s\n",
      "319:\tlearn: 34.5503672\ttotal: 41.6s\tremaining: 1m 28s\n",
      "320:\tlearn: 34.4958346\ttotal: 41.7s\tremaining: 1m 28s\n",
      "321:\tlearn: 34.4721365\ttotal: 41.9s\tremaining: 1m 28s\n",
      "322:\tlearn: 34.4436019\ttotal: 42s\tremaining: 1m 28s\n",
      "323:\tlearn: 34.4011923\ttotal: 42.2s\tremaining: 1m 27s\n",
      "324:\tlearn: 34.3416088\ttotal: 42.3s\tremaining: 1m 27s\n",
      "325:\tlearn: 34.3113511\ttotal: 42.4s\tremaining: 1m 27s\n",
      "326:\tlearn: 34.2665440\ttotal: 42.6s\tremaining: 1m 27s\n",
      "327:\tlearn: 34.1230194\ttotal: 42.7s\tremaining: 1m 27s\n",
      "328:\tlearn: 34.0796994\ttotal: 42.8s\tremaining: 1m 27s\n",
      "329:\tlearn: 34.0452944\ttotal: 42.9s\tremaining: 1m 27s\n",
      "330:\tlearn: 34.0087297\ttotal: 43.1s\tremaining: 1m 27s\n",
      "331:\tlearn: 33.9666313\ttotal: 43.2s\tremaining: 1m 26s\n",
      "332:\tlearn: 33.9171281\ttotal: 43.3s\tremaining: 1m 26s\n",
      "333:\tlearn: 33.8705689\ttotal: 43.4s\tremaining: 1m 26s\n",
      "334:\tlearn: 33.8509395\ttotal: 43.5s\tremaining: 1m 26s\n",
      "335:\tlearn: 33.8261605\ttotal: 43.6s\tremaining: 1m 26s\n",
      "336:\tlearn: 33.7752950\ttotal: 43.8s\tremaining: 1m 26s\n",
      "337:\tlearn: 33.7501808\ttotal: 43.9s\tremaining: 1m 25s\n",
      "338:\tlearn: 33.6895339\ttotal: 44s\tremaining: 1m 25s\n",
      "339:\tlearn: 33.6316624\ttotal: 44.1s\tremaining: 1m 25s\n",
      "340:\tlearn: 33.5835723\ttotal: 44.3s\tremaining: 1m 25s\n",
      "341:\tlearn: 33.5511940\ttotal: 44.4s\tremaining: 1m 25s\n",
      "342:\tlearn: 33.5109312\ttotal: 44.5s\tremaining: 1m 25s\n",
      "343:\tlearn: 33.4644963\ttotal: 44.6s\tremaining: 1m 25s\n",
      "344:\tlearn: 33.4395985\ttotal: 44.8s\tremaining: 1m 25s\n",
      "345:\tlearn: 33.3919786\ttotal: 44.9s\tremaining: 1m 24s\n",
      "346:\tlearn: 33.3684631\ttotal: 45s\tremaining: 1m 24s\n",
      "347:\tlearn: 33.3418788\ttotal: 45.1s\tremaining: 1m 24s\n",
      "348:\tlearn: 33.2877301\ttotal: 45.3s\tremaining: 1m 24s\n",
      "349:\tlearn: 33.2518928\ttotal: 45.4s\tremaining: 1m 24s\n",
      "350:\tlearn: 33.2130137\ttotal: 45.5s\tremaining: 1m 24s\n",
      "351:\tlearn: 33.1817616\ttotal: 45.6s\tremaining: 1m 23s\n",
      "352:\tlearn: 33.1412429\ttotal: 45.7s\tremaining: 1m 23s\n",
      "353:\tlearn: 33.1129601\ttotal: 45.9s\tremaining: 1m 23s\n",
      "354:\tlearn: 33.0635614\ttotal: 46s\tremaining: 1m 23s\n",
      "355:\tlearn: 33.0064675\ttotal: 46.2s\tremaining: 1m 23s\n",
      "356:\tlearn: 32.9844100\ttotal: 46.3s\tremaining: 1m 23s\n",
      "357:\tlearn: 32.9494377\ttotal: 46.4s\tremaining: 1m 23s\n",
      "358:\tlearn: 32.9155682\ttotal: 46.5s\tremaining: 1m 23s\n",
      "359:\tlearn: 32.8902015\ttotal: 46.7s\tremaining: 1m 22s\n",
      "360:\tlearn: 32.8410472\ttotal: 46.8s\tremaining: 1m 22s\n",
      "361:\tlearn: 32.8102558\ttotal: 46.9s\tremaining: 1m 22s\n",
      "362:\tlearn: 32.7732298\ttotal: 47.1s\tremaining: 1m 22s\n",
      "363:\tlearn: 32.7334977\ttotal: 47.2s\tremaining: 1m 22s\n",
      "364:\tlearn: 32.6920737\ttotal: 47.3s\tremaining: 1m 22s\n",
      "365:\tlearn: 32.6440254\ttotal: 47.5s\tremaining: 1m 22s\n",
      "366:\tlearn: 32.6050958\ttotal: 47.6s\tremaining: 1m 22s\n",
      "367:\tlearn: 32.5725594\ttotal: 47.8s\tremaining: 1m 22s\n",
      "368:\tlearn: 32.5239867\ttotal: 47.9s\tremaining: 1m 21s\n",
      "369:\tlearn: 32.4739528\ttotal: 48.1s\tremaining: 1m 21s\n",
      "370:\tlearn: 32.4342439\ttotal: 48.2s\tremaining: 1m 21s\n",
      "371:\tlearn: 32.4045703\ttotal: 48.3s\tremaining: 1m 21s\n",
      "372:\tlearn: 32.3864104\ttotal: 48.5s\tremaining: 1m 21s\n",
      "373:\tlearn: 32.3552100\ttotal: 48.6s\tremaining: 1m 21s\n",
      "374:\tlearn: 32.2509474\ttotal: 48.7s\tremaining: 1m 21s\n",
      "375:\tlearn: 32.2287440\ttotal: 48.9s\tremaining: 1m 21s\n",
      "376:\tlearn: 32.1810707\ttotal: 49s\tremaining: 1m 21s\n",
      "377:\tlearn: 32.1426677\ttotal: 49.2s\tremaining: 1m 20s\n",
      "378:\tlearn: 32.0890435\ttotal: 49.3s\tremaining: 1m 20s\n",
      "379:\tlearn: 32.0438627\ttotal: 49.5s\tremaining: 1m 20s\n",
      "380:\tlearn: 31.9827804\ttotal: 49.6s\tremaining: 1m 20s\n",
      "381:\tlearn: 31.9584304\ttotal: 49.7s\tremaining: 1m 20s\n",
      "382:\tlearn: 31.9036812\ttotal: 49.9s\tremaining: 1m 20s\n",
      "383:\tlearn: 31.8844971\ttotal: 50s\tremaining: 1m 20s\n",
      "384:\tlearn: 31.8462471\ttotal: 50.1s\tremaining: 1m 20s\n",
      "385:\tlearn: 31.8138028\ttotal: 50.3s\tremaining: 1m 19s\n",
      "386:\tlearn: 31.7568721\ttotal: 50.4s\tremaining: 1m 19s\n",
      "387:\tlearn: 31.6996033\ttotal: 50.5s\tremaining: 1m 19s\n",
      "388:\tlearn: 31.6438516\ttotal: 50.7s\tremaining: 1m 19s\n",
      "389:\tlearn: 31.6080843\ttotal: 50.8s\tremaining: 1m 19s\n",
      "390:\tlearn: 31.5745484\ttotal: 50.9s\tremaining: 1m 19s\n",
      "391:\tlearn: 31.5361719\ttotal: 51.1s\tremaining: 1m 19s\n",
      "392:\tlearn: 31.4853152\ttotal: 51.2s\tremaining: 1m 19s\n",
      "393:\tlearn: 31.4606382\ttotal: 51.4s\tremaining: 1m 19s\n",
      "394:\tlearn: 31.4112814\ttotal: 51.5s\tremaining: 1m 18s\n",
      "395:\tlearn: 31.3755375\ttotal: 51.6s\tremaining: 1m 18s\n",
      "396:\tlearn: 31.3407765\ttotal: 51.8s\tremaining: 1m 18s\n",
      "397:\tlearn: 31.3094108\ttotal: 51.9s\tremaining: 1m 18s\n",
      "398:\tlearn: 31.2819534\ttotal: 52s\tremaining: 1m 18s\n",
      "399:\tlearn: 31.2494447\ttotal: 52.2s\tremaining: 1m 18s\n",
      "400:\tlearn: 31.2270246\ttotal: 52.3s\tremaining: 1m 18s\n",
      "401:\tlearn: 31.1907251\ttotal: 52.5s\tremaining: 1m 18s\n",
      "402:\tlearn: 31.1670612\ttotal: 52.6s\tremaining: 1m 17s\n",
      "403:\tlearn: 31.1486822\ttotal: 52.7s\tremaining: 1m 17s\n",
      "404:\tlearn: 31.1189892\ttotal: 52.8s\tremaining: 1m 17s\n",
      "405:\tlearn: 31.1042699\ttotal: 52.9s\tremaining: 1m 17s\n",
      "406:\tlearn: 31.0642572\ttotal: 53s\tremaining: 1m 17s\n",
      "407:\tlearn: 31.0198007\ttotal: 53.2s\tremaining: 1m 17s\n",
      "408:\tlearn: 30.9778790\ttotal: 53.3s\tremaining: 1m 17s\n",
      "409:\tlearn: 30.9367282\ttotal: 53.5s\tremaining: 1m 16s\n",
      "410:\tlearn: 30.9015008\ttotal: 53.7s\tremaining: 1m 16s\n",
      "411:\tlearn: 30.8651405\ttotal: 53.8s\tremaining: 1m 16s\n",
      "412:\tlearn: 30.8328193\ttotal: 53.9s\tremaining: 1m 16s\n",
      "413:\tlearn: 30.8014294\ttotal: 54.1s\tremaining: 1m 16s\n",
      "414:\tlearn: 30.7388831\ttotal: 54.2s\tremaining: 1m 16s\n",
      "415:\tlearn: 30.6944888\ttotal: 54.4s\tremaining: 1m 16s\n",
      "416:\tlearn: 30.6490669\ttotal: 54.5s\tremaining: 1m 16s\n",
      "417:\tlearn: 30.6123855\ttotal: 54.6s\tremaining: 1m 16s\n",
      "418:\tlearn: 30.5848979\ttotal: 54.8s\tremaining: 1m 15s\n",
      "419:\tlearn: 30.5551789\ttotal: 54.9s\tremaining: 1m 15s\n",
      "420:\tlearn: 30.4962950\ttotal: 55s\tremaining: 1m 15s\n",
      "421:\tlearn: 30.4768665\ttotal: 55.2s\tremaining: 1m 15s\n",
      "422:\tlearn: 30.4390685\ttotal: 55.3s\tremaining: 1m 15s\n",
      "423:\tlearn: 30.4062737\ttotal: 55.4s\tremaining: 1m 15s\n",
      "424:\tlearn: 30.3690543\ttotal: 55.5s\tremaining: 1m 15s\n",
      "425:\tlearn: 30.3362927\ttotal: 55.7s\tremaining: 1m 15s\n",
      "426:\tlearn: 30.3046061\ttotal: 55.8s\tremaining: 1m 14s\n",
      "427:\tlearn: 30.2777421\ttotal: 56s\tremaining: 1m 14s\n",
      "428:\tlearn: 30.2503557\ttotal: 56.1s\tremaining: 1m 14s\n",
      "429:\tlearn: 30.2293259\ttotal: 56.2s\tremaining: 1m 14s\n",
      "430:\tlearn: 30.2097197\ttotal: 56.3s\tremaining: 1m 14s\n",
      "431:\tlearn: 30.1759439\ttotal: 56.5s\tremaining: 1m 14s\n",
      "432:\tlearn: 30.1423463\ttotal: 56.6s\tremaining: 1m 14s\n",
      "433:\tlearn: 30.0514526\ttotal: 56.8s\tremaining: 1m 14s\n",
      "434:\tlearn: 30.0294072\ttotal: 56.9s\tremaining: 1m 13s\n",
      "435:\tlearn: 29.9940911\ttotal: 57s\tremaining: 1m 13s\n",
      "436:\tlearn: 29.9531687\ttotal: 57.1s\tremaining: 1m 13s\n",
      "437:\tlearn: 29.9254127\ttotal: 57.2s\tremaining: 1m 13s\n",
      "438:\tlearn: 29.8986574\ttotal: 57.4s\tremaining: 1m 13s\n",
      "439:\tlearn: 29.8545773\ttotal: 57.5s\tremaining: 1m 13s\n",
      "440:\tlearn: 29.8085367\ttotal: 57.6s\tremaining: 1m 13s\n",
      "441:\tlearn: 29.7612579\ttotal: 57.7s\tremaining: 1m 12s\n",
      "442:\tlearn: 29.7265305\ttotal: 57.8s\tremaining: 1m 12s\n",
      "443:\tlearn: 29.6851856\ttotal: 58s\tremaining: 1m 12s\n",
      "444:\tlearn: 29.6648154\ttotal: 58.1s\tremaining: 1m 12s\n",
      "445:\tlearn: 29.6362462\ttotal: 58.2s\tremaining: 1m 12s\n",
      "446:\tlearn: 29.6018431\ttotal: 58.3s\tremaining: 1m 12s\n",
      "447:\tlearn: 29.5600358\ttotal: 58.5s\tremaining: 1m 12s\n",
      "448:\tlearn: 29.5055783\ttotal: 58.6s\tremaining: 1m 11s\n",
      "449:\tlearn: 29.4862588\ttotal: 58.7s\tremaining: 1m 11s\n",
      "450:\tlearn: 29.4598864\ttotal: 58.8s\tremaining: 1m 11s\n",
      "451:\tlearn: 29.4226640\ttotal: 59s\tremaining: 1m 11s\n",
      "452:\tlearn: 29.3911839\ttotal: 59.1s\tremaining: 1m 11s\n",
      "453:\tlearn: 29.3595251\ttotal: 59.2s\tremaining: 1m 11s\n",
      "454:\tlearn: 29.3109757\ttotal: 59.3s\tremaining: 1m 11s\n",
      "455:\tlearn: 29.2982697\ttotal: 59.5s\tremaining: 1m 10s\n",
      "456:\tlearn: 29.2516582\ttotal: 59.6s\tremaining: 1m 10s\n",
      "457:\tlearn: 29.2297277\ttotal: 59.7s\tremaining: 1m 10s\n",
      "458:\tlearn: 29.2118937\ttotal: 59.8s\tremaining: 1m 10s\n",
      "459:\tlearn: 29.1720059\ttotal: 59.9s\tremaining: 1m 10s\n",
      "460:\tlearn: 29.1400632\ttotal: 1m\tremaining: 1m 10s\n",
      "461:\tlearn: 29.1088492\ttotal: 1m\tremaining: 1m 10s\n",
      "462:\tlearn: 29.0636514\ttotal: 1m\tremaining: 1m 9s\n",
      "463:\tlearn: 29.0067651\ttotal: 1m\tremaining: 1m 9s\n",
      "464:\tlearn: 28.9804711\ttotal: 1m\tremaining: 1m 9s\n"
     ]
    },
    {
     "name": "stdout",
     "output_type": "stream",
     "text": [
      "465:\tlearn: 28.9510230\ttotal: 1m\tremaining: 1m 9s\n",
      "466:\tlearn: 28.9315435\ttotal: 1m\tremaining: 1m 9s\n",
      "467:\tlearn: 28.8903858\ttotal: 1m\tremaining: 1m 9s\n",
      "468:\tlearn: 28.8143434\ttotal: 1m 1s\tremaining: 1m 9s\n",
      "469:\tlearn: 28.7834032\ttotal: 1m 1s\tremaining: 1m 8s\n",
      "470:\tlearn: 28.7455064\ttotal: 1m 1s\tremaining: 1m 8s\n",
      "471:\tlearn: 28.7106921\ttotal: 1m 1s\tremaining: 1m 8s\n",
      "472:\tlearn: 28.6774881\ttotal: 1m 1s\tremaining: 1m 8s\n",
      "473:\tlearn: 28.6214817\ttotal: 1m 1s\tremaining: 1m 8s\n",
      "474:\tlearn: 28.5974977\ttotal: 1m 1s\tremaining: 1m 8s\n",
      "475:\tlearn: 28.5631511\ttotal: 1m 1s\tremaining: 1m 8s\n",
      "476:\tlearn: 28.5501097\ttotal: 1m 2s\tremaining: 1m 7s\n",
      "477:\tlearn: 28.5175444\ttotal: 1m 2s\tremaining: 1m 7s\n",
      "478:\tlearn: 28.4915659\ttotal: 1m 2s\tremaining: 1m 7s\n",
      "479:\tlearn: 28.4424019\ttotal: 1m 2s\tremaining: 1m 7s\n",
      "480:\tlearn: 28.4094321\ttotal: 1m 2s\tremaining: 1m 7s\n",
      "481:\tlearn: 28.3846641\ttotal: 1m 2s\tremaining: 1m 7s\n",
      "482:\tlearn: 28.3480763\ttotal: 1m 2s\tremaining: 1m 7s\n",
      "483:\tlearn: 28.3174887\ttotal: 1m 2s\tremaining: 1m 7s\n",
      "484:\tlearn: 28.2787397\ttotal: 1m 3s\tremaining: 1m 6s\n",
      "485:\tlearn: 28.2468497\ttotal: 1m 3s\tremaining: 1m 6s\n",
      "486:\tlearn: 28.2189075\ttotal: 1m 3s\tremaining: 1m 6s\n",
      "487:\tlearn: 28.1903680\ttotal: 1m 3s\tremaining: 1m 6s\n",
      "488:\tlearn: 28.1697247\ttotal: 1m 3s\tremaining: 1m 6s\n",
      "489:\tlearn: 28.1504142\ttotal: 1m 3s\tremaining: 1m 6s\n",
      "490:\tlearn: 28.1220448\ttotal: 1m 3s\tremaining: 1m 6s\n",
      "491:\tlearn: 28.0834638\ttotal: 1m 3s\tremaining: 1m 5s\n",
      "492:\tlearn: 28.0667263\ttotal: 1m 4s\tremaining: 1m 5s\n",
      "493:\tlearn: 28.0380415\ttotal: 1m 4s\tremaining: 1m 5s\n",
      "494:\tlearn: 28.0031503\ttotal: 1m 4s\tremaining: 1m 5s\n",
      "495:\tlearn: 27.9483780\ttotal: 1m 4s\tremaining: 1m 5s\n",
      "496:\tlearn: 27.9278685\ttotal: 1m 4s\tremaining: 1m 5s\n",
      "497:\tlearn: 27.9017154\ttotal: 1m 4s\tremaining: 1m 5s\n",
      "498:\tlearn: 27.8856754\ttotal: 1m 4s\tremaining: 1m 5s\n",
      "499:\tlearn: 27.8480379\ttotal: 1m 4s\tremaining: 1m 4s\n",
      "500:\tlearn: 27.8203763\ttotal: 1m 5s\tremaining: 1m 4s\n",
      "501:\tlearn: 27.7695404\ttotal: 1m 5s\tremaining: 1m 4s\n",
      "502:\tlearn: 27.7331903\ttotal: 1m 5s\tremaining: 1m 4s\n",
      "503:\tlearn: 27.7016669\ttotal: 1m 5s\tremaining: 1m 4s\n",
      "504:\tlearn: 27.6725669\ttotal: 1m 5s\tremaining: 1m 4s\n",
      "505:\tlearn: 27.6249480\ttotal: 1m 5s\tremaining: 1m 4s\n",
      "506:\tlearn: 27.5952099\ttotal: 1m 5s\tremaining: 1m 4s\n",
      "507:\tlearn: 27.5710309\ttotal: 1m 6s\tremaining: 1m 4s\n",
      "508:\tlearn: 27.5431554\ttotal: 1m 6s\tremaining: 1m 3s\n",
      "509:\tlearn: 27.5176100\ttotal: 1m 6s\tremaining: 1m 3s\n",
      "510:\tlearn: 27.4863335\ttotal: 1m 6s\tremaining: 1m 3s\n",
      "511:\tlearn: 27.4497067\ttotal: 1m 6s\tremaining: 1m 3s\n",
      "512:\tlearn: 27.4011093\ttotal: 1m 6s\tremaining: 1m 3s\n",
      "513:\tlearn: 27.3610098\ttotal: 1m 6s\tremaining: 1m 3s\n",
      "514:\tlearn: 27.3283551\ttotal: 1m 7s\tremaining: 1m 3s\n",
      "515:\tlearn: 27.3012355\ttotal: 1m 7s\tremaining: 1m 2s\n",
      "516:\tlearn: 27.2713249\ttotal: 1m 7s\tremaining: 1m 2s\n",
      "517:\tlearn: 27.2482156\ttotal: 1m 7s\tremaining: 1m 2s\n",
      "518:\tlearn: 27.2280100\ttotal: 1m 7s\tremaining: 1m 2s\n",
      "519:\tlearn: 27.2010874\ttotal: 1m 7s\tremaining: 1m 2s\n",
      "520:\tlearn: 27.1861316\ttotal: 1m 7s\tremaining: 1m 2s\n",
      "521:\tlearn: 27.1561115\ttotal: 1m 7s\tremaining: 1m 2s\n",
      "522:\tlearn: 27.1271295\ttotal: 1m 8s\tremaining: 1m 2s\n",
      "523:\tlearn: 27.0900260\ttotal: 1m 8s\tremaining: 1m 1s\n",
      "524:\tlearn: 27.0517924\ttotal: 1m 8s\tremaining: 1m 1s\n",
      "525:\tlearn: 27.0132037\ttotal: 1m 8s\tremaining: 1m 1s\n",
      "526:\tlearn: 26.9755634\ttotal: 1m 8s\tremaining: 1m 1s\n",
      "527:\tlearn: 26.9515430\ttotal: 1m 8s\tremaining: 1m 1s\n",
      "528:\tlearn: 26.9282873\ttotal: 1m 9s\tremaining: 1m 1s\n",
      "529:\tlearn: 26.9132538\ttotal: 1m 9s\tremaining: 1m 1s\n",
      "530:\tlearn: 26.8870849\ttotal: 1m 9s\tremaining: 1m 1s\n",
      "531:\tlearn: 26.8638863\ttotal: 1m 9s\tremaining: 1m 1s\n",
      "532:\tlearn: 26.8459179\ttotal: 1m 9s\tremaining: 1m\n",
      "533:\tlearn: 26.8175567\ttotal: 1m 9s\tremaining: 1m\n",
      "534:\tlearn: 26.7948973\ttotal: 1m 9s\tremaining: 1m\n",
      "535:\tlearn: 26.7663820\ttotal: 1m 9s\tremaining: 1m\n",
      "536:\tlearn: 26.7391153\ttotal: 1m 10s\tremaining: 1m\n",
      "537:\tlearn: 26.7145660\ttotal: 1m 10s\tremaining: 1m\n",
      "538:\tlearn: 26.6945274\ttotal: 1m 10s\tremaining: 1m\n",
      "539:\tlearn: 26.6739513\ttotal: 1m 10s\tremaining: 60s\n",
      "540:\tlearn: 26.6475905\ttotal: 1m 10s\tremaining: 59.8s\n",
      "541:\tlearn: 26.6033173\ttotal: 1m 10s\tremaining: 59.7s\n",
      "542:\tlearn: 26.5817567\ttotal: 1m 10s\tremaining: 59.6s\n",
      "543:\tlearn: 26.5588905\ttotal: 1m 10s\tremaining: 59.5s\n",
      "544:\tlearn: 26.5285756\ttotal: 1m 11s\tremaining: 59.4s\n",
      "545:\tlearn: 26.4992449\ttotal: 1m 11s\tremaining: 59.3s\n",
      "546:\tlearn: 26.4756844\ttotal: 1m 11s\tremaining: 59.2s\n",
      "547:\tlearn: 26.4489487\ttotal: 1m 11s\tremaining: 59.1s\n",
      "548:\tlearn: 26.4280900\ttotal: 1m 11s\tremaining: 58.9s\n",
      "549:\tlearn: 26.4054039\ttotal: 1m 11s\tremaining: 58.8s\n",
      "550:\tlearn: 26.3933652\ttotal: 1m 12s\tremaining: 58.7s\n",
      "551:\tlearn: 26.3680346\ttotal: 1m 12s\tremaining: 58.6s\n",
      "552:\tlearn: 26.3449585\ttotal: 1m 12s\tremaining: 58.5s\n",
      "553:\tlearn: 26.3278504\ttotal: 1m 12s\tremaining: 58.3s\n",
      "554:\tlearn: 26.3115080\ttotal: 1m 12s\tremaining: 58.2s\n",
      "555:\tlearn: 26.2849593\ttotal: 1m 12s\tremaining: 58.1s\n",
      "556:\tlearn: 26.2588335\ttotal: 1m 12s\tremaining: 58s\n",
      "557:\tlearn: 26.2367752\ttotal: 1m 12s\tremaining: 57.8s\n",
      "558:\tlearn: 26.2116912\ttotal: 1m 13s\tremaining: 57.7s\n",
      "559:\tlearn: 26.1740674\ttotal: 1m 13s\tremaining: 57.6s\n",
      "560:\tlearn: 26.1330340\ttotal: 1m 13s\tremaining: 57.5s\n",
      "561:\tlearn: 26.0964515\ttotal: 1m 13s\tremaining: 57.4s\n",
      "562:\tlearn: 26.0798109\ttotal: 1m 13s\tremaining: 57.3s\n",
      "563:\tlearn: 26.0499906\ttotal: 1m 13s\tremaining: 57.1s\n",
      "564:\tlearn: 26.0350563\ttotal: 1m 14s\tremaining: 57s\n",
      "565:\tlearn: 26.0192178\ttotal: 1m 14s\tremaining: 56.9s\n",
      "566:\tlearn: 26.0012150\ttotal: 1m 14s\tremaining: 56.7s\n",
      "567:\tlearn: 25.9859178\ttotal: 1m 14s\tremaining: 56.6s\n",
      "568:\tlearn: 25.9442309\ttotal: 1m 14s\tremaining: 56.5s\n",
      "569:\tlearn: 25.9248669\ttotal: 1m 14s\tremaining: 56.4s\n",
      "570:\tlearn: 25.9047854\ttotal: 1m 14s\tremaining: 56.2s\n",
      "571:\tlearn: 25.8630078\ttotal: 1m 15s\tremaining: 56.1s\n",
      "572:\tlearn: 25.8395569\ttotal: 1m 15s\tremaining: 56s\n",
      "573:\tlearn: 25.8168796\ttotal: 1m 15s\tremaining: 55.8s\n",
      "574:\tlearn: 25.7937680\ttotal: 1m 15s\tremaining: 55.7s\n",
      "575:\tlearn: 25.7740031\ttotal: 1m 15s\tremaining: 55.6s\n",
      "576:\tlearn: 25.7488083\ttotal: 1m 15s\tremaining: 55.5s\n",
      "577:\tlearn: 25.7232209\ttotal: 1m 15s\tremaining: 55.4s\n",
      "578:\tlearn: 25.6926792\ttotal: 1m 15s\tremaining: 55.2s\n",
      "579:\tlearn: 25.6598375\ttotal: 1m 16s\tremaining: 55.1s\n",
      "580:\tlearn: 25.6443779\ttotal: 1m 16s\tremaining: 55s\n",
      "581:\tlearn: 25.6112077\ttotal: 1m 16s\tremaining: 54.8s\n",
      "582:\tlearn: 25.5838836\ttotal: 1m 16s\tremaining: 54.8s\n",
      "583:\tlearn: 25.5633818\ttotal: 1m 16s\tremaining: 54.6s\n",
      "584:\tlearn: 25.5508798\ttotal: 1m 16s\tremaining: 54.5s\n",
      "585:\tlearn: 25.5370098\ttotal: 1m 16s\tremaining: 54.4s\n",
      "586:\tlearn: 25.5036586\ttotal: 1m 17s\tremaining: 54.2s\n",
      "587:\tlearn: 25.4830585\ttotal: 1m 17s\tremaining: 54.1s\n",
      "588:\tlearn: 25.4709998\ttotal: 1m 17s\tremaining: 54s\n",
      "589:\tlearn: 25.4496660\ttotal: 1m 17s\tremaining: 53.8s\n",
      "590:\tlearn: 25.4303298\ttotal: 1m 17s\tremaining: 53.7s\n",
      "591:\tlearn: 25.3973413\ttotal: 1m 17s\tremaining: 53.6s\n",
      "592:\tlearn: 25.3819499\ttotal: 1m 17s\tremaining: 53.4s\n",
      "593:\tlearn: 25.3608676\ttotal: 1m 17s\tremaining: 53.3s\n",
      "594:\tlearn: 25.3350351\ttotal: 1m 18s\tremaining: 53.2s\n",
      "595:\tlearn: 25.3161281\ttotal: 1m 18s\tremaining: 53.1s\n",
      "596:\tlearn: 25.2951481\ttotal: 1m 18s\tremaining: 52.9s\n",
      "597:\tlearn: 25.2723398\ttotal: 1m 18s\tremaining: 52.8s\n",
      "598:\tlearn: 25.2399037\ttotal: 1m 18s\tremaining: 52.7s\n",
      "599:\tlearn: 25.2202615\ttotal: 1m 18s\tremaining: 52.5s\n",
      "600:\tlearn: 25.2051288\ttotal: 1m 18s\tremaining: 52.4s\n",
      "601:\tlearn: 25.1839391\ttotal: 1m 19s\tremaining: 52.3s\n",
      "602:\tlearn: 25.1640911\ttotal: 1m 19s\tremaining: 52.1s\n",
      "603:\tlearn: 25.1436695\ttotal: 1m 19s\tremaining: 52s\n",
      "604:\tlearn: 25.1094953\ttotal: 1m 19s\tremaining: 51.9s\n",
      "605:\tlearn: 25.0918842\ttotal: 1m 19s\tremaining: 51.7s\n",
      "606:\tlearn: 25.0750567\ttotal: 1m 19s\tremaining: 51.6s\n",
      "607:\tlearn: 25.0587107\ttotal: 1m 19s\tremaining: 51.5s\n",
      "608:\tlearn: 25.0360577\ttotal: 1m 19s\tremaining: 51.3s\n",
      "609:\tlearn: 25.0077201\ttotal: 1m 20s\tremaining: 51.2s\n",
      "610:\tlearn: 24.9776793\ttotal: 1m 20s\tremaining: 51.1s\n",
      "611:\tlearn: 24.9474889\ttotal: 1m 20s\tremaining: 50.9s\n",
      "612:\tlearn: 24.9308531\ttotal: 1m 20s\tremaining: 50.8s\n",
      "613:\tlearn: 24.9067034\ttotal: 1m 20s\tremaining: 50.7s\n",
      "614:\tlearn: 24.8645255\ttotal: 1m 20s\tremaining: 50.5s\n",
      "615:\tlearn: 24.8283553\ttotal: 1m 20s\tremaining: 50.4s\n",
      "616:\tlearn: 24.8135575\ttotal: 1m 20s\tremaining: 50.3s\n",
      "617:\tlearn: 24.7912316\ttotal: 1m 21s\tremaining: 50.1s\n",
      "618:\tlearn: 24.7775831\ttotal: 1m 21s\tremaining: 50s\n"
     ]
    },
    {
     "name": "stdout",
     "output_type": "stream",
     "text": [
      "619:\tlearn: 24.7597824\ttotal: 1m 21s\tremaining: 49.9s\n",
      "620:\tlearn: 24.7352760\ttotal: 1m 21s\tremaining: 49.7s\n",
      "621:\tlearn: 24.7190353\ttotal: 1m 21s\tremaining: 49.6s\n",
      "622:\tlearn: 24.6900562\ttotal: 1m 21s\tremaining: 49.5s\n",
      "623:\tlearn: 24.6606435\ttotal: 1m 21s\tremaining: 49.3s\n",
      "624:\tlearn: 24.6314245\ttotal: 1m 22s\tremaining: 49.2s\n",
      "625:\tlearn: 24.6052125\ttotal: 1m 22s\tremaining: 49.1s\n",
      "626:\tlearn: 24.5756366\ttotal: 1m 22s\tremaining: 48.9s\n",
      "627:\tlearn: 24.5500245\ttotal: 1m 22s\tremaining: 48.8s\n",
      "628:\tlearn: 24.5346750\ttotal: 1m 22s\tremaining: 48.7s\n",
      "629:\tlearn: 24.5204349\ttotal: 1m 22s\tremaining: 48.5s\n",
      "630:\tlearn: 24.4830124\ttotal: 1m 22s\tremaining: 48.4s\n",
      "631:\tlearn: 24.4643829\ttotal: 1m 22s\tremaining: 48.3s\n",
      "632:\tlearn: 24.4390678\ttotal: 1m 23s\tremaining: 48.2s\n",
      "633:\tlearn: 24.4098577\ttotal: 1m 23s\tremaining: 48s\n",
      "634:\tlearn: 24.3869348\ttotal: 1m 23s\tremaining: 47.9s\n",
      "635:\tlearn: 24.3643671\ttotal: 1m 23s\tremaining: 47.8s\n",
      "636:\tlearn: 24.3415543\ttotal: 1m 23s\tremaining: 47.6s\n",
      "637:\tlearn: 24.3112327\ttotal: 1m 23s\tremaining: 47.5s\n",
      "638:\tlearn: 24.2810384\ttotal: 1m 23s\tremaining: 47.4s\n",
      "639:\tlearn: 24.2489959\ttotal: 1m 24s\tremaining: 47.2s\n",
      "640:\tlearn: 24.2304992\ttotal: 1m 24s\tremaining: 47.1s\n",
      "641:\tlearn: 24.2114687\ttotal: 1m 24s\tremaining: 47s\n",
      "642:\tlearn: 24.1786855\ttotal: 1m 24s\tremaining: 46.8s\n",
      "643:\tlearn: 24.1508821\ttotal: 1m 24s\tremaining: 46.7s\n",
      "644:\tlearn: 24.1217225\ttotal: 1m 24s\tremaining: 46.6s\n",
      "645:\tlearn: 24.1102866\ttotal: 1m 24s\tremaining: 46.4s\n",
      "646:\tlearn: 24.0874197\ttotal: 1m 24s\tremaining: 46.3s\n",
      "647:\tlearn: 24.0573064\ttotal: 1m 25s\tremaining: 46.2s\n",
      "648:\tlearn: 24.0328698\ttotal: 1m 25s\tremaining: 46.1s\n",
      "649:\tlearn: 24.0109571\ttotal: 1m 25s\tremaining: 45.9s\n",
      "650:\tlearn: 23.9897126\ttotal: 1m 25s\tremaining: 45.8s\n",
      "651:\tlearn: 23.9597987\ttotal: 1m 25s\tremaining: 45.6s\n",
      "652:\tlearn: 23.9421345\ttotal: 1m 25s\tremaining: 45.5s\n",
      "653:\tlearn: 23.9192906\ttotal: 1m 25s\tremaining: 45.4s\n",
      "654:\tlearn: 23.8994148\ttotal: 1m 25s\tremaining: 45.2s\n",
      "655:\tlearn: 23.8871298\ttotal: 1m 25s\tremaining: 45.1s\n",
      "656:\tlearn: 23.8665052\ttotal: 1m 26s\tremaining: 45s\n",
      "657:\tlearn: 23.8493239\ttotal: 1m 26s\tremaining: 44.8s\n",
      "658:\tlearn: 23.8107460\ttotal: 1m 26s\tremaining: 44.7s\n",
      "659:\tlearn: 23.7853977\ttotal: 1m 26s\tremaining: 44.6s\n",
      "660:\tlearn: 23.7711791\ttotal: 1m 26s\tremaining: 44.4s\n",
      "661:\tlearn: 23.7513971\ttotal: 1m 26s\tremaining: 44.3s\n",
      "662:\tlearn: 23.7374049\ttotal: 1m 26s\tremaining: 44.1s\n",
      "663:\tlearn: 23.7204633\ttotal: 1m 26s\tremaining: 44s\n",
      "664:\tlearn: 23.6977945\ttotal: 1m 27s\tremaining: 43.9s\n",
      "665:\tlearn: 23.6796228\ttotal: 1m 27s\tremaining: 43.7s\n",
      "666:\tlearn: 23.6635074\ttotal: 1m 27s\tremaining: 43.6s\n",
      "667:\tlearn: 23.6367712\ttotal: 1m 27s\tremaining: 43.5s\n",
      "668:\tlearn: 23.6184768\ttotal: 1m 27s\tremaining: 43.3s\n",
      "669:\tlearn: 23.5942996\ttotal: 1m 27s\tremaining: 43.2s\n",
      "670:\tlearn: 23.5760796\ttotal: 1m 27s\tremaining: 43.1s\n",
      "671:\tlearn: 23.5474673\ttotal: 1m 28s\tremaining: 43s\n",
      "672:\tlearn: 23.5205086\ttotal: 1m 28s\tremaining: 42.8s\n",
      "673:\tlearn: 23.4854517\ttotal: 1m 28s\tremaining: 42.7s\n",
      "674:\tlearn: 23.4634002\ttotal: 1m 28s\tremaining: 42.6s\n",
      "675:\tlearn: 23.4406328\ttotal: 1m 28s\tremaining: 42.4s\n",
      "676:\tlearn: 23.4158209\ttotal: 1m 28s\tremaining: 42.3s\n",
      "677:\tlearn: 23.4050277\ttotal: 1m 28s\tremaining: 42.2s\n",
      "678:\tlearn: 23.3850266\ttotal: 1m 28s\tremaining: 42s\n",
      "679:\tlearn: 23.3646845\ttotal: 1m 29s\tremaining: 41.9s\n",
      "680:\tlearn: 23.3421241\ttotal: 1m 29s\tremaining: 41.8s\n",
      "681:\tlearn: 23.3290177\ttotal: 1m 29s\tremaining: 41.6s\n",
      "682:\tlearn: 23.3103065\ttotal: 1m 29s\tremaining: 41.5s\n",
      "683:\tlearn: 23.2843501\ttotal: 1m 29s\tremaining: 41.4s\n",
      "684:\tlearn: 23.2599030\ttotal: 1m 29s\tremaining: 41.2s\n",
      "685:\tlearn: 23.2412416\ttotal: 1m 29s\tremaining: 41.1s\n",
      "686:\tlearn: 23.2247838\ttotal: 1m 29s\tremaining: 40.9s\n",
      "687:\tlearn: 23.2142269\ttotal: 1m 29s\tremaining: 40.8s\n",
      "688:\tlearn: 23.1876381\ttotal: 1m 30s\tremaining: 40.7s\n",
      "689:\tlearn: 23.1599588\ttotal: 1m 30s\tremaining: 40.5s\n",
      "690:\tlearn: 23.1313331\ttotal: 1m 30s\tremaining: 40.4s\n",
      "691:\tlearn: 23.1163179\ttotal: 1m 30s\tremaining: 40.3s\n",
      "692:\tlearn: 23.1038614\ttotal: 1m 30s\tremaining: 40.1s\n",
      "693:\tlearn: 23.0819714\ttotal: 1m 30s\tremaining: 40s\n",
      "694:\tlearn: 23.0645671\ttotal: 1m 30s\tremaining: 39.9s\n",
      "695:\tlearn: 23.0400019\ttotal: 1m 30s\tremaining: 39.7s\n",
      "696:\tlearn: 23.0155660\ttotal: 1m 31s\tremaining: 39.6s\n",
      "697:\tlearn: 22.9900888\ttotal: 1m 31s\tremaining: 39.4s\n",
      "698:\tlearn: 22.9584788\ttotal: 1m 31s\tremaining: 39.3s\n",
      "699:\tlearn: 22.9355100\ttotal: 1m 31s\tremaining: 39.2s\n",
      "700:\tlearn: 22.9113269\ttotal: 1m 31s\tremaining: 39.1s\n",
      "701:\tlearn: 22.8847625\ttotal: 1m 31s\tremaining: 38.9s\n",
      "702:\tlearn: 22.8569281\ttotal: 1m 31s\tremaining: 38.8s\n",
      "703:\tlearn: 22.8381607\ttotal: 1m 31s\tremaining: 38.7s\n",
      "704:\tlearn: 22.8120451\ttotal: 1m 32s\tremaining: 38.5s\n",
      "705:\tlearn: 22.7807566\ttotal: 1m 32s\tremaining: 38.4s\n",
      "706:\tlearn: 22.7664254\ttotal: 1m 32s\tremaining: 38.3s\n",
      "707:\tlearn: 22.7496286\ttotal: 1m 32s\tremaining: 38.1s\n",
      "708:\tlearn: 22.7299913\ttotal: 1m 32s\tremaining: 38s\n",
      "709:\tlearn: 22.7119805\ttotal: 1m 32s\tremaining: 37.9s\n",
      "710:\tlearn: 22.6987163\ttotal: 1m 32s\tremaining: 37.7s\n",
      "711:\tlearn: 22.6816848\ttotal: 1m 32s\tremaining: 37.6s\n",
      "712:\tlearn: 22.6635786\ttotal: 1m 33s\tremaining: 37.5s\n",
      "713:\tlearn: 22.6405640\ttotal: 1m 33s\tremaining: 37.3s\n",
      "714:\tlearn: 22.6189923\ttotal: 1m 33s\tremaining: 37.2s\n",
      "715:\tlearn: 22.5964280\ttotal: 1m 33s\tremaining: 37.1s\n",
      "716:\tlearn: 22.5751318\ttotal: 1m 33s\tremaining: 36.9s\n",
      "717:\tlearn: 22.5593707\ttotal: 1m 33s\tremaining: 36.8s\n",
      "718:\tlearn: 22.5427898\ttotal: 1m 33s\tremaining: 36.7s\n",
      "719:\tlearn: 22.5228035\ttotal: 1m 33s\tremaining: 36.5s\n",
      "720:\tlearn: 22.4969558\ttotal: 1m 34s\tremaining: 36.4s\n",
      "721:\tlearn: 22.4728650\ttotal: 1m 34s\tremaining: 36.3s\n",
      "722:\tlearn: 22.4601813\ttotal: 1m 34s\tremaining: 36.2s\n",
      "723:\tlearn: 22.4466387\ttotal: 1m 34s\tremaining: 36s\n",
      "724:\tlearn: 22.4334010\ttotal: 1m 34s\tremaining: 35.9s\n",
      "725:\tlearn: 22.4080183\ttotal: 1m 34s\tremaining: 35.7s\n",
      "726:\tlearn: 22.3790857\ttotal: 1m 34s\tremaining: 35.6s\n",
      "727:\tlearn: 22.3652955\ttotal: 1m 34s\tremaining: 35.5s\n",
      "728:\tlearn: 22.3415819\ttotal: 1m 35s\tremaining: 35.3s\n",
      "729:\tlearn: 22.3251099\ttotal: 1m 35s\tremaining: 35.2s\n",
      "730:\tlearn: 22.3021498\ttotal: 1m 35s\tremaining: 35.1s\n",
      "731:\tlearn: 22.2704711\ttotal: 1m 35s\tremaining: 35s\n",
      "732:\tlearn: 22.2434199\ttotal: 1m 35s\tremaining: 34.8s\n",
      "733:\tlearn: 22.2301799\ttotal: 1m 35s\tremaining: 34.7s\n",
      "734:\tlearn: 22.2123549\ttotal: 1m 35s\tremaining: 34.5s\n",
      "735:\tlearn: 22.1968379\ttotal: 1m 35s\tremaining: 34.4s\n",
      "736:\tlearn: 22.1826652\ttotal: 1m 36s\tremaining: 34.3s\n",
      "737:\tlearn: 22.1757775\ttotal: 1m 36s\tremaining: 34.1s\n",
      "738:\tlearn: 22.1643266\ttotal: 1m 36s\tremaining: 34s\n",
      "739:\tlearn: 22.1546053\ttotal: 1m 36s\tremaining: 33.9s\n",
      "740:\tlearn: 22.1443484\ttotal: 1m 36s\tremaining: 33.7s\n",
      "741:\tlearn: 22.1236970\ttotal: 1m 36s\tremaining: 33.6s\n",
      "742:\tlearn: 22.1033935\ttotal: 1m 36s\tremaining: 33.5s\n",
      "743:\tlearn: 22.0893109\ttotal: 1m 36s\tremaining: 33.3s\n",
      "744:\tlearn: 22.0735467\ttotal: 1m 36s\tremaining: 33.2s\n",
      "745:\tlearn: 22.0443707\ttotal: 1m 37s\tremaining: 33.1s\n",
      "746:\tlearn: 22.0297957\ttotal: 1m 37s\tremaining: 32.9s\n",
      "747:\tlearn: 22.0068467\ttotal: 1m 37s\tremaining: 32.8s\n",
      "748:\tlearn: 21.9935032\ttotal: 1m 37s\tremaining: 32.7s\n",
      "749:\tlearn: 21.9740226\ttotal: 1m 37s\tremaining: 32.5s\n",
      "750:\tlearn: 21.9583029\ttotal: 1m 37s\tremaining: 32.4s\n",
      "751:\tlearn: 21.9459641\ttotal: 1m 37s\tremaining: 32.3s\n",
      "752:\tlearn: 21.9219784\ttotal: 1m 37s\tremaining: 32.1s\n",
      "753:\tlearn: 21.9046295\ttotal: 1m 38s\tremaining: 32s\n",
      "754:\tlearn: 21.8879194\ttotal: 1m 38s\tremaining: 31.9s\n",
      "755:\tlearn: 21.8534892\ttotal: 1m 38s\tremaining: 31.7s\n",
      "756:\tlearn: 21.8294776\ttotal: 1m 38s\tremaining: 31.6s\n",
      "757:\tlearn: 21.8195944\ttotal: 1m 38s\tremaining: 31.5s\n",
      "758:\tlearn: 21.7990288\ttotal: 1m 38s\tremaining: 31.3s\n",
      "759:\tlearn: 21.7850111\ttotal: 1m 38s\tremaining: 31.2s\n",
      "760:\tlearn: 21.7679582\ttotal: 1m 38s\tremaining: 31.1s\n",
      "761:\tlearn: 21.7539747\ttotal: 1m 39s\tremaining: 30.9s\n",
      "762:\tlearn: 21.7277709\ttotal: 1m 39s\tremaining: 30.8s\n",
      "763:\tlearn: 21.7094979\ttotal: 1m 39s\tremaining: 30.7s\n",
      "764:\tlearn: 21.6867035\ttotal: 1m 39s\tremaining: 30.5s\n",
      "765:\tlearn: 21.6740289\ttotal: 1m 39s\tremaining: 30.4s\n",
      "766:\tlearn: 21.6555259\ttotal: 1m 39s\tremaining: 30.3s\n",
      "767:\tlearn: 21.6399743\ttotal: 1m 39s\tremaining: 30.1s\n",
      "768:\tlearn: 21.6293481\ttotal: 1m 39s\tremaining: 30s\n",
      "769:\tlearn: 21.6190368\ttotal: 1m 40s\tremaining: 29.9s\n",
      "770:\tlearn: 21.5974537\ttotal: 1m 40s\tremaining: 29.7s\n",
      "771:\tlearn: 21.5806767\ttotal: 1m 40s\tremaining: 29.6s\n",
      "772:\tlearn: 21.5528194\ttotal: 1m 40s\tremaining: 29.5s\n"
     ]
    },
    {
     "name": "stdout",
     "output_type": "stream",
     "text": [
      "773:\tlearn: 21.5361889\ttotal: 1m 40s\tremaining: 29.3s\n",
      "774:\tlearn: 21.5127335\ttotal: 1m 40s\tremaining: 29.2s\n",
      "775:\tlearn: 21.4992641\ttotal: 1m 40s\tremaining: 29.1s\n",
      "776:\tlearn: 21.4910428\ttotal: 1m 40s\tremaining: 29s\n",
      "777:\tlearn: 21.4761190\ttotal: 1m 41s\tremaining: 28.8s\n",
      "778:\tlearn: 21.4609791\ttotal: 1m 41s\tremaining: 28.7s\n",
      "779:\tlearn: 21.4430096\ttotal: 1m 41s\tremaining: 28.6s\n",
      "780:\tlearn: 21.4253169\ttotal: 1m 41s\tremaining: 28.4s\n",
      "781:\tlearn: 21.4067465\ttotal: 1m 41s\tremaining: 28.3s\n",
      "782:\tlearn: 21.3918230\ttotal: 1m 41s\tremaining: 28.2s\n",
      "783:\tlearn: 21.3714540\ttotal: 1m 41s\tremaining: 28s\n",
      "784:\tlearn: 21.3513736\ttotal: 1m 41s\tremaining: 27.9s\n",
      "785:\tlearn: 21.3380341\ttotal: 1m 42s\tremaining: 27.8s\n",
      "786:\tlearn: 21.3135860\ttotal: 1m 42s\tremaining: 27.6s\n",
      "787:\tlearn: 21.2983260\ttotal: 1m 42s\tremaining: 27.5s\n",
      "788:\tlearn: 21.2815280\ttotal: 1m 42s\tremaining: 27.4s\n",
      "789:\tlearn: 21.2676349\ttotal: 1m 42s\tremaining: 27.3s\n",
      "790:\tlearn: 21.2315234\ttotal: 1m 42s\tremaining: 27.1s\n",
      "791:\tlearn: 21.2090194\ttotal: 1m 42s\tremaining: 27s\n",
      "792:\tlearn: 21.1873158\ttotal: 1m 42s\tremaining: 26.9s\n",
      "793:\tlearn: 21.1700926\ttotal: 1m 43s\tremaining: 26.7s\n",
      "794:\tlearn: 21.1597503\ttotal: 1m 43s\tremaining: 26.6s\n",
      "795:\tlearn: 21.1355947\ttotal: 1m 43s\tremaining: 26.5s\n",
      "796:\tlearn: 21.1154195\ttotal: 1m 43s\tremaining: 26.4s\n",
      "797:\tlearn: 21.1018928\ttotal: 1m 43s\tremaining: 26.2s\n",
      "798:\tlearn: 21.0726214\ttotal: 1m 43s\tremaining: 26.1s\n",
      "799:\tlearn: 21.0532572\ttotal: 1m 43s\tremaining: 26s\n",
      "800:\tlearn: 21.0370056\ttotal: 1m 43s\tremaining: 25.8s\n",
      "801:\tlearn: 21.0262937\ttotal: 1m 44s\tremaining: 25.7s\n",
      "802:\tlearn: 21.0056468\ttotal: 1m 44s\tremaining: 25.6s\n",
      "803:\tlearn: 20.9960580\ttotal: 1m 44s\tremaining: 25.4s\n",
      "804:\tlearn: 20.9841953\ttotal: 1m 44s\tremaining: 25.3s\n",
      "805:\tlearn: 20.9622709\ttotal: 1m 44s\tremaining: 25.2s\n",
      "806:\tlearn: 20.9417451\ttotal: 1m 44s\tremaining: 25s\n",
      "807:\tlearn: 20.9302273\ttotal: 1m 44s\tremaining: 24.9s\n",
      "808:\tlearn: 20.9050561\ttotal: 1m 44s\tremaining: 24.8s\n",
      "809:\tlearn: 20.8880360\ttotal: 1m 45s\tremaining: 24.6s\n",
      "810:\tlearn: 20.8547987\ttotal: 1m 45s\tremaining: 24.5s\n",
      "811:\tlearn: 20.8291903\ttotal: 1m 45s\tremaining: 24.4s\n",
      "812:\tlearn: 20.8058081\ttotal: 1m 45s\tremaining: 24.3s\n",
      "813:\tlearn: 20.7860612\ttotal: 1m 45s\tremaining: 24.1s\n",
      "814:\tlearn: 20.7756651\ttotal: 1m 45s\tremaining: 24s\n",
      "815:\tlearn: 20.7650465\ttotal: 1m 45s\tremaining: 23.9s\n",
      "816:\tlearn: 20.7447739\ttotal: 1m 45s\tremaining: 23.7s\n",
      "817:\tlearn: 20.7213448\ttotal: 1m 46s\tremaining: 23.6s\n",
      "818:\tlearn: 20.7095754\ttotal: 1m 46s\tremaining: 23.5s\n",
      "819:\tlearn: 20.6814187\ttotal: 1m 46s\tremaining: 23.3s\n",
      "820:\tlearn: 20.6660161\ttotal: 1m 46s\tremaining: 23.2s\n",
      "821:\tlearn: 20.6448569\ttotal: 1m 46s\tremaining: 23.1s\n",
      "822:\tlearn: 20.6161664\ttotal: 1m 46s\tremaining: 23s\n",
      "823:\tlearn: 20.5985116\ttotal: 1m 46s\tremaining: 22.8s\n",
      "824:\tlearn: 20.5775011\ttotal: 1m 46s\tremaining: 22.7s\n",
      "825:\tlearn: 20.5642816\ttotal: 1m 47s\tremaining: 22.6s\n",
      "826:\tlearn: 20.5403170\ttotal: 1m 47s\tremaining: 22.4s\n",
      "827:\tlearn: 20.5189802\ttotal: 1m 47s\tremaining: 22.3s\n",
      "828:\tlearn: 20.5024278\ttotal: 1m 47s\tremaining: 22.2s\n",
      "829:\tlearn: 20.4807866\ttotal: 1m 47s\tremaining: 22.1s\n",
      "830:\tlearn: 20.4720548\ttotal: 1m 47s\tremaining: 21.9s\n",
      "831:\tlearn: 20.4572905\ttotal: 1m 47s\tremaining: 21.8s\n",
      "832:\tlearn: 20.4448040\ttotal: 1m 48s\tremaining: 21.7s\n",
      "833:\tlearn: 20.4315062\ttotal: 1m 48s\tremaining: 21.5s\n",
      "834:\tlearn: 20.4111076\ttotal: 1m 48s\tremaining: 21.4s\n",
      "835:\tlearn: 20.3936356\ttotal: 1m 48s\tremaining: 21.3s\n",
      "836:\tlearn: 20.3772457\ttotal: 1m 48s\tremaining: 21.1s\n",
      "837:\tlearn: 20.3549776\ttotal: 1m 48s\tremaining: 21s\n",
      "838:\tlearn: 20.3433789\ttotal: 1m 48s\tremaining: 20.9s\n",
      "839:\tlearn: 20.3165347\ttotal: 1m 48s\tremaining: 20.8s\n",
      "840:\tlearn: 20.2991735\ttotal: 1m 49s\tremaining: 20.6s\n",
      "841:\tlearn: 20.2864982\ttotal: 1m 49s\tremaining: 20.5s\n",
      "842:\tlearn: 20.2522260\ttotal: 1m 49s\tremaining: 20.4s\n",
      "843:\tlearn: 20.2316485\ttotal: 1m 49s\tremaining: 20.2s\n",
      "844:\tlearn: 20.2190673\ttotal: 1m 49s\tremaining: 20.1s\n",
      "845:\tlearn: 20.2018150\ttotal: 1m 49s\tremaining: 20s\n",
      "846:\tlearn: 20.1912853\ttotal: 1m 49s\tremaining: 19.8s\n",
      "847:\tlearn: 20.1765434\ttotal: 1m 49s\tremaining: 19.7s\n",
      "848:\tlearn: 20.1624451\ttotal: 1m 50s\tremaining: 19.6s\n",
      "849:\tlearn: 20.1458794\ttotal: 1m 50s\tremaining: 19.4s\n",
      "850:\tlearn: 20.1254793\ttotal: 1m 50s\tremaining: 19.3s\n",
      "851:\tlearn: 20.1080691\ttotal: 1m 50s\tremaining: 19.2s\n",
      "852:\tlearn: 20.0924944\ttotal: 1m 50s\tremaining: 19.1s\n",
      "853:\tlearn: 20.0748729\ttotal: 1m 50s\tremaining: 18.9s\n",
      "854:\tlearn: 20.0630000\ttotal: 1m 50s\tremaining: 18.8s\n",
      "855:\tlearn: 20.0481283\ttotal: 1m 50s\tremaining: 18.7s\n",
      "856:\tlearn: 20.0366272\ttotal: 1m 51s\tremaining: 18.5s\n",
      "857:\tlearn: 20.0231851\ttotal: 1m 51s\tremaining: 18.4s\n",
      "858:\tlearn: 20.0086943\ttotal: 1m 51s\tremaining: 18.3s\n",
      "859:\tlearn: 19.9796148\ttotal: 1m 51s\tremaining: 18.1s\n",
      "860:\tlearn: 19.9706804\ttotal: 1m 51s\tremaining: 18s\n",
      "861:\tlearn: 19.9563656\ttotal: 1m 51s\tremaining: 17.9s\n",
      "862:\tlearn: 19.9443674\ttotal: 1m 51s\tremaining: 17.8s\n",
      "863:\tlearn: 19.9312125\ttotal: 1m 51s\tremaining: 17.6s\n",
      "864:\tlearn: 19.9198721\ttotal: 1m 52s\tremaining: 17.5s\n",
      "865:\tlearn: 19.9067436\ttotal: 1m 52s\tremaining: 17.4s\n",
      "866:\tlearn: 19.8883579\ttotal: 1m 52s\tremaining: 17.2s\n",
      "867:\tlearn: 19.8682031\ttotal: 1m 52s\tremaining: 17.1s\n",
      "868:\tlearn: 19.8492396\ttotal: 1m 52s\tremaining: 17s\n",
      "869:\tlearn: 19.8253005\ttotal: 1m 52s\tremaining: 16.9s\n",
      "870:\tlearn: 19.8025211\ttotal: 1m 52s\tremaining: 16.7s\n",
      "871:\tlearn: 19.7914745\ttotal: 1m 52s\tremaining: 16.6s\n",
      "872:\tlearn: 19.7760219\ttotal: 1m 53s\tremaining: 16.5s\n",
      "873:\tlearn: 19.7566377\ttotal: 1m 53s\tremaining: 16.3s\n",
      "874:\tlearn: 19.7424052\ttotal: 1m 53s\tremaining: 16.2s\n",
      "875:\tlearn: 19.7256382\ttotal: 1m 53s\tremaining: 16.1s\n",
      "876:\tlearn: 19.7077531\ttotal: 1m 53s\tremaining: 15.9s\n",
      "877:\tlearn: 19.6885682\ttotal: 1m 53s\tremaining: 15.8s\n",
      "878:\tlearn: 19.6663220\ttotal: 1m 53s\tremaining: 15.7s\n",
      "879:\tlearn: 19.6520723\ttotal: 1m 54s\tremaining: 15.5s\n",
      "880:\tlearn: 19.6274196\ttotal: 1m 54s\tremaining: 15.4s\n",
      "881:\tlearn: 19.6112023\ttotal: 1m 54s\tremaining: 15.3s\n",
      "882:\tlearn: 19.5946723\ttotal: 1m 54s\tremaining: 15.2s\n",
      "883:\tlearn: 19.5847777\ttotal: 1m 54s\tremaining: 15s\n",
      "884:\tlearn: 19.5654248\ttotal: 1m 54s\tremaining: 14.9s\n",
      "885:\tlearn: 19.5514804\ttotal: 1m 54s\tremaining: 14.8s\n",
      "886:\tlearn: 19.5412094\ttotal: 1m 54s\tremaining: 14.6s\n",
      "887:\tlearn: 19.5242008\ttotal: 1m 54s\tremaining: 14.5s\n",
      "888:\tlearn: 19.5046028\ttotal: 1m 55s\tremaining: 14.4s\n",
      "889:\tlearn: 19.4930109\ttotal: 1m 55s\tremaining: 14.2s\n",
      "890:\tlearn: 19.4745202\ttotal: 1m 55s\tremaining: 14.1s\n",
      "891:\tlearn: 19.4580538\ttotal: 1m 55s\tremaining: 14s\n",
      "892:\tlearn: 19.4441988\ttotal: 1m 55s\tremaining: 13.9s\n",
      "893:\tlearn: 19.4264137\ttotal: 1m 55s\tremaining: 13.7s\n",
      "894:\tlearn: 19.4161364\ttotal: 1m 55s\tremaining: 13.6s\n",
      "895:\tlearn: 19.4001555\ttotal: 1m 56s\tremaining: 13.5s\n",
      "896:\tlearn: 19.3875656\ttotal: 1m 56s\tremaining: 13.3s\n",
      "897:\tlearn: 19.3747664\ttotal: 1m 56s\tremaining: 13.2s\n",
      "898:\tlearn: 19.3627729\ttotal: 1m 56s\tremaining: 13.1s\n",
      "899:\tlearn: 19.3506524\ttotal: 1m 56s\tremaining: 13s\n",
      "900:\tlearn: 19.3312311\ttotal: 1m 56s\tremaining: 12.8s\n",
      "901:\tlearn: 19.3220024\ttotal: 1m 56s\tremaining: 12.7s\n",
      "902:\tlearn: 19.3081156\ttotal: 1m 56s\tremaining: 12.6s\n",
      "903:\tlearn: 19.2940628\ttotal: 1m 57s\tremaining: 12.4s\n",
      "904:\tlearn: 19.2818119\ttotal: 1m 57s\tremaining: 12.3s\n",
      "905:\tlearn: 19.2737939\ttotal: 1m 57s\tremaining: 12.2s\n",
      "906:\tlearn: 19.2576592\ttotal: 1m 57s\tremaining: 12s\n",
      "907:\tlearn: 19.2362375\ttotal: 1m 57s\tremaining: 11.9s\n",
      "908:\tlearn: 19.2238457\ttotal: 1m 57s\tremaining: 11.8s\n",
      "909:\tlearn: 19.2066650\ttotal: 1m 57s\tremaining: 11.7s\n",
      "910:\tlearn: 19.1950228\ttotal: 1m 57s\tremaining: 11.5s\n",
      "911:\tlearn: 19.1776277\ttotal: 1m 58s\tremaining: 11.4s\n",
      "912:\tlearn: 19.1601336\ttotal: 1m 58s\tremaining: 11.3s\n",
      "913:\tlearn: 19.1450603\ttotal: 1m 58s\tremaining: 11.1s\n",
      "914:\tlearn: 19.1253963\ttotal: 1m 58s\tremaining: 11s\n",
      "915:\tlearn: 19.1154569\ttotal: 1m 58s\tremaining: 10.9s\n",
      "916:\tlearn: 19.0963871\ttotal: 1m 58s\tremaining: 10.7s\n",
      "917:\tlearn: 19.0799676\ttotal: 1m 58s\tremaining: 10.6s\n",
      "918:\tlearn: 19.0650600\ttotal: 1m 58s\tremaining: 10.5s\n",
      "919:\tlearn: 19.0524899\ttotal: 1m 59s\tremaining: 10.4s\n",
      "920:\tlearn: 19.0385393\ttotal: 1m 59s\tremaining: 10.2s\n",
      "921:\tlearn: 19.0266000\ttotal: 1m 59s\tremaining: 10.1s\n",
      "922:\tlearn: 19.0005703\ttotal: 1m 59s\tremaining: 9.97s\n",
      "923:\tlearn: 18.9904057\ttotal: 1m 59s\tremaining: 9.84s\n",
      "924:\tlearn: 18.9810227\ttotal: 1m 59s\tremaining: 9.71s\n",
      "925:\tlearn: 18.9710888\ttotal: 1m 59s\tremaining: 9.58s\n",
      "926:\tlearn: 18.9525734\ttotal: 1m 59s\tremaining: 9.45s\n"
     ]
    },
    {
     "name": "stdout",
     "output_type": "stream",
     "text": [
      "927:\tlearn: 18.9361104\ttotal: 2m\tremaining: 9.32s\n",
      "928:\tlearn: 18.9254074\ttotal: 2m\tremaining: 9.19s\n",
      "929:\tlearn: 18.9043040\ttotal: 2m\tremaining: 9.06s\n",
      "930:\tlearn: 18.8741427\ttotal: 2m\tremaining: 8.93s\n",
      "931:\tlearn: 18.8636987\ttotal: 2m\tremaining: 8.8s\n",
      "932:\tlearn: 18.8540002\ttotal: 2m\tremaining: 8.67s\n",
      "933:\tlearn: 18.8445537\ttotal: 2m\tremaining: 8.54s\n",
      "934:\tlearn: 18.8320464\ttotal: 2m 1s\tremaining: 8.41s\n",
      "935:\tlearn: 18.8161438\ttotal: 2m 1s\tremaining: 8.29s\n",
      "936:\tlearn: 18.7893840\ttotal: 2m 1s\tremaining: 8.16s\n",
      "937:\tlearn: 18.7736595\ttotal: 2m 1s\tremaining: 8.03s\n",
      "938:\tlearn: 18.7572145\ttotal: 2m 1s\tremaining: 7.89s\n",
      "939:\tlearn: 18.7467186\ttotal: 2m 1s\tremaining: 7.77s\n",
      "940:\tlearn: 18.7326872\ttotal: 2m 1s\tremaining: 7.63s\n",
      "941:\tlearn: 18.7151586\ttotal: 2m 1s\tremaining: 7.51s\n",
      "942:\tlearn: 18.7055354\ttotal: 2m 2s\tremaining: 7.38s\n",
      "943:\tlearn: 18.6896066\ttotal: 2m 2s\tremaining: 7.25s\n",
      "944:\tlearn: 18.6751571\ttotal: 2m 2s\tremaining: 7.12s\n",
      "945:\tlearn: 18.6577602\ttotal: 2m 2s\tremaining: 6.99s\n",
      "946:\tlearn: 18.6397838\ttotal: 2m 2s\tremaining: 6.86s\n",
      "947:\tlearn: 18.6273061\ttotal: 2m 2s\tremaining: 6.73s\n",
      "948:\tlearn: 18.6119480\ttotal: 2m 2s\tremaining: 6.6s\n",
      "949:\tlearn: 18.6030367\ttotal: 2m 2s\tremaining: 6.47s\n",
      "950:\tlearn: 18.5806951\ttotal: 2m 3s\tremaining: 6.34s\n",
      "951:\tlearn: 18.5656879\ttotal: 2m 3s\tremaining: 6.21s\n",
      "952:\tlearn: 18.5435966\ttotal: 2m 3s\tremaining: 6.08s\n",
      "953:\tlearn: 18.5359051\ttotal: 2m 3s\tremaining: 5.95s\n",
      "954:\tlearn: 18.5236524\ttotal: 2m 3s\tremaining: 5.82s\n",
      "955:\tlearn: 18.5073811\ttotal: 2m 3s\tremaining: 5.69s\n",
      "956:\tlearn: 18.4964196\ttotal: 2m 3s\tremaining: 5.56s\n",
      "957:\tlearn: 18.4764064\ttotal: 2m 3s\tremaining: 5.43s\n",
      "958:\tlearn: 18.4649584\ttotal: 2m 4s\tremaining: 5.3s\n",
      "959:\tlearn: 18.4433537\ttotal: 2m 4s\tremaining: 5.17s\n",
      "960:\tlearn: 18.4351924\ttotal: 2m 4s\tremaining: 5.04s\n",
      "961:\tlearn: 18.4171880\ttotal: 2m 4s\tremaining: 4.92s\n",
      "962:\tlearn: 18.3995976\ttotal: 2m 4s\tremaining: 4.79s\n",
      "963:\tlearn: 18.3757740\ttotal: 2m 4s\tremaining: 4.66s\n",
      "964:\tlearn: 18.3649183\ttotal: 2m 4s\tremaining: 4.53s\n",
      "965:\tlearn: 18.3468802\ttotal: 2m 4s\tremaining: 4.4s\n",
      "966:\tlearn: 18.3389328\ttotal: 2m 5s\tremaining: 4.27s\n",
      "967:\tlearn: 18.3185666\ttotal: 2m 5s\tremaining: 4.14s\n",
      "968:\tlearn: 18.3028477\ttotal: 2m 5s\tremaining: 4.01s\n",
      "969:\tlearn: 18.2929998\ttotal: 2m 5s\tremaining: 3.88s\n",
      "970:\tlearn: 18.2768329\ttotal: 2m 5s\tremaining: 3.75s\n",
      "971:\tlearn: 18.2595137\ttotal: 2m 5s\tremaining: 3.62s\n",
      "972:\tlearn: 18.2461150\ttotal: 2m 5s\tremaining: 3.49s\n",
      "973:\tlearn: 18.2301918\ttotal: 2m 5s\tremaining: 3.36s\n",
      "974:\tlearn: 18.2135313\ttotal: 2m 6s\tremaining: 3.23s\n",
      "975:\tlearn: 18.1972732\ttotal: 2m 6s\tremaining: 3.1s\n",
      "976:\tlearn: 18.1845981\ttotal: 2m 6s\tremaining: 2.97s\n",
      "977:\tlearn: 18.1693780\ttotal: 2m 6s\tremaining: 2.85s\n",
      "978:\tlearn: 18.1597935\ttotal: 2m 6s\tremaining: 2.71s\n",
      "979:\tlearn: 18.1495320\ttotal: 2m 6s\tremaining: 2.59s\n",
      "980:\tlearn: 18.1334690\ttotal: 2m 6s\tremaining: 2.46s\n",
      "981:\tlearn: 18.1098189\ttotal: 2m 7s\tremaining: 2.33s\n",
      "982:\tlearn: 18.0990176\ttotal: 2m 7s\tremaining: 2.2s\n",
      "983:\tlearn: 18.0864574\ttotal: 2m 7s\tremaining: 2.07s\n",
      "984:\tlearn: 18.0703221\ttotal: 2m 7s\tremaining: 1.94s\n",
      "985:\tlearn: 18.0545581\ttotal: 2m 7s\tremaining: 1.81s\n",
      "986:\tlearn: 18.0392046\ttotal: 2m 7s\tremaining: 1.68s\n",
      "987:\tlearn: 18.0263702\ttotal: 2m 7s\tremaining: 1.55s\n",
      "988:\tlearn: 18.0161805\ttotal: 2m 7s\tremaining: 1.42s\n",
      "989:\tlearn: 18.0044858\ttotal: 2m 8s\tremaining: 1.29s\n",
      "990:\tlearn: 17.9939144\ttotal: 2m 8s\tremaining: 1.16s\n",
      "991:\tlearn: 17.9808570\ttotal: 2m 8s\tremaining: 1.03s\n",
      "992:\tlearn: 17.9597950\ttotal: 2m 8s\tremaining: 906ms\n",
      "993:\tlearn: 17.9388046\ttotal: 2m 8s\tremaining: 776ms\n",
      "994:\tlearn: 17.9277849\ttotal: 2m 8s\tremaining: 647ms\n",
      "995:\tlearn: 17.9139422\ttotal: 2m 8s\tremaining: 518ms\n",
      "996:\tlearn: 17.8896619\ttotal: 2m 8s\tremaining: 388ms\n",
      "997:\tlearn: 17.8796360\ttotal: 2m 9s\tremaining: 259ms\n",
      "998:\tlearn: 17.8603271\ttotal: 2m 9s\tremaining: 129ms\n",
      "999:\tlearn: 17.8470346\ttotal: 2m 9s\tremaining: 0us\n"
     ]
    }
   ],
   "source": [
    "def catboost_mod(df, response_col, iterations, learning_rate):\n",
    "    # Now let's separate features and label variable:\n",
    "    X = df.drop(response_col, axis=1)\n",
    "    y = df[response_col]\n",
    "\n",
    "    #Let's split the train data into training and validation sets.\n",
    "\n",
    "    X_train_cat, X_validation_cat, y_train_cat, y_validation_cat = train_test_split(X, y, test_size=0.3)\n",
    "\n",
    "    train_pool = Pool(X_train_cat, y_train_cat)#, cat_features=categorical_features_indices)\n",
    "    validate_pool = Pool(X_validation_cat, y_validation_cat)#, cat_features=categorical_features_indices)\n",
    "\n",
    "\n",
    "    cat_model = CatBoostRegressor(iterations=iterations,\n",
    "                              learning_rate=learning_rate)\n",
    "    # Fit model\n",
    "    cat_model.fit(train_pool)\n",
    "\n",
    "    # Get predictions\n",
    "    preds = cat_model.predict(validate_pool)\n",
    "\n",
    "    #Score using your model\n",
    "    val_score_cat = cat_model.score(validate_pool)\n",
    "    train_score_cat = cat_model.score(train_pool)\n",
    "    \n",
    "    # Mean squared error\n",
    "    train_error_cat = mean_squared_error(cat_model.predict(X_train_cat), y_train_cat)\n",
    "    val_error_cat = mean_squared_error(cat_model.predict(X_validation_cat), y_validation_cat)\n",
    "    \n",
    "    #Feature importance\n",
    "    #PredictionValuesChange\n",
    "\n",
    "    #The individual importance values for each of the input features \n",
    "    #(the default feature importances calculation method for non-ranking metrics).\n",
    "\n",
    "    #For each feature, PredictionValuesChange shows how much on average the prediction changes \n",
    "    #if the feature value changes. The bigger the value of the importance the bigger on average \n",
    "    #is the change to the prediction value, if this feature is changed.\n",
    "    feature_importances = cat_model.get_feature_importance(train_pool)\n",
    "    feature_names = X_train_cat.columns\n",
    "\n",
    "    feature_colnames = [\"feature_importances\",\"feature_names\"]\n",
    "    values = [feature_names,feature_importances]\n",
    "\n",
    "    importance = list(zip(feature_colnames,values))\n",
    "    importance = dict(importance)\n",
    "    result_cat = pd.DataFrame(importance)\n",
    "    \n",
    "\n",
    "    return val_score_cat, train_score_cat, val_error_cat, train_error_cat, cat_model, X_train_cat, X_validation_cat, y_train_cat, y_validation_cat, result_cat\n",
    "\n",
    "# apply catboost model\n",
    "val_score_cat, train_score_cat, val_error_cat, train_error_cat, cat_model, X_train_cat, X_validation_cat, y_train_cat, y_validation_cat, result_cat = catboost_mod(df_new,\"price\",1000, 0.1)"
   ]
  },
  {
   "cell_type": "code",
   "execution_count": 33,
   "metadata": {},
   "outputs": [
    {
     "name": "stdout",
     "output_type": "stream",
     "text": [
      "The rsquared on the training data was 0.9792. The rsquared on the validation data was 0.9794.\n",
      "The mean squared error on the training data was 318.5166. The mean squared error on the validation data was 321.3407.\n"
     ]
    }
   ],
   "source": [
    "print(\"The rsquared on the training data was {}. The rsquared on the validation data was {}.\".format(train_score_cat.round(4), val_score_cat.round(4)))\n",
    "print(\"The mean squared error on the training data was {}. The mean squared error on the validation data was {}.\".format(train_error_cat.round(4), val_error_cat.round(4)))"
   ]
  },
  {
   "cell_type": "code",
   "execution_count": 92,
   "metadata": {},
   "outputs": [
    {
     "data": {
      "application/vnd.plotly.v1+json": {
       "config": {
        "plotlyServerURL": "https://plot.ly"
       },
       "data": [
        {
         "type": "bar",
         "x": [
          "neighbourhood_cleansed_Fenway",
          "accommodates",
          "extra_people",
          "bedrooms",
          "weekly_price",
          "availability_365",
          "amenities_lock_on_bedroom_door",
          "bathrooms",
          "calendar_updated_4 months ago",
          "room_type_Private room"
         ],
         "y": [
          6.0444400611663225,
          5.672415298926761,
          5.563121003072107,
          5.266056755729687,
          4.971472009785094,
          4.23342163152768,
          3.9937925756258874,
          3.6428175695225122,
          3.455637888279229,
          3.3591809962132895
         ]
        }
       ],
       "layout": {
        "template": {
         "data": {
          "bar": [
           {
            "error_x": {
             "color": "#2a3f5f"
            },
            "error_y": {
             "color": "#2a3f5f"
            },
            "marker": {
             "line": {
              "color": "#E5ECF6",
              "width": 0.5
             }
            },
            "type": "bar"
           }
          ],
          "barpolar": [
           {
            "marker": {
             "line": {
              "color": "#E5ECF6",
              "width": 0.5
             }
            },
            "type": "barpolar"
           }
          ],
          "carpet": [
           {
            "aaxis": {
             "endlinecolor": "#2a3f5f",
             "gridcolor": "white",
             "linecolor": "white",
             "minorgridcolor": "white",
             "startlinecolor": "#2a3f5f"
            },
            "baxis": {
             "endlinecolor": "#2a3f5f",
             "gridcolor": "white",
             "linecolor": "white",
             "minorgridcolor": "white",
             "startlinecolor": "#2a3f5f"
            },
            "type": "carpet"
           }
          ],
          "choropleth": [
           {
            "colorbar": {
             "outlinewidth": 0,
             "ticks": ""
            },
            "type": "choropleth"
           }
          ],
          "contour": [
           {
            "colorbar": {
             "outlinewidth": 0,
             "ticks": ""
            },
            "colorscale": [
             [
              0,
              "#0d0887"
             ],
             [
              0.1111111111111111,
              "#46039f"
             ],
             [
              0.2222222222222222,
              "#7201a8"
             ],
             [
              0.3333333333333333,
              "#9c179e"
             ],
             [
              0.4444444444444444,
              "#bd3786"
             ],
             [
              0.5555555555555556,
              "#d8576b"
             ],
             [
              0.6666666666666666,
              "#ed7953"
             ],
             [
              0.7777777777777778,
              "#fb9f3a"
             ],
             [
              0.8888888888888888,
              "#fdca26"
             ],
             [
              1,
              "#f0f921"
             ]
            ],
            "type": "contour"
           }
          ],
          "contourcarpet": [
           {
            "colorbar": {
             "outlinewidth": 0,
             "ticks": ""
            },
            "type": "contourcarpet"
           }
          ],
          "heatmap": [
           {
            "colorbar": {
             "outlinewidth": 0,
             "ticks": ""
            },
            "colorscale": [
             [
              0,
              "#0d0887"
             ],
             [
              0.1111111111111111,
              "#46039f"
             ],
             [
              0.2222222222222222,
              "#7201a8"
             ],
             [
              0.3333333333333333,
              "#9c179e"
             ],
             [
              0.4444444444444444,
              "#bd3786"
             ],
             [
              0.5555555555555556,
              "#d8576b"
             ],
             [
              0.6666666666666666,
              "#ed7953"
             ],
             [
              0.7777777777777778,
              "#fb9f3a"
             ],
             [
              0.8888888888888888,
              "#fdca26"
             ],
             [
              1,
              "#f0f921"
             ]
            ],
            "type": "heatmap"
           }
          ],
          "heatmapgl": [
           {
            "colorbar": {
             "outlinewidth": 0,
             "ticks": ""
            },
            "colorscale": [
             [
              0,
              "#0d0887"
             ],
             [
              0.1111111111111111,
              "#46039f"
             ],
             [
              0.2222222222222222,
              "#7201a8"
             ],
             [
              0.3333333333333333,
              "#9c179e"
             ],
             [
              0.4444444444444444,
              "#bd3786"
             ],
             [
              0.5555555555555556,
              "#d8576b"
             ],
             [
              0.6666666666666666,
              "#ed7953"
             ],
             [
              0.7777777777777778,
              "#fb9f3a"
             ],
             [
              0.8888888888888888,
              "#fdca26"
             ],
             [
              1,
              "#f0f921"
             ]
            ],
            "type": "heatmapgl"
           }
          ],
          "histogram": [
           {
            "marker": {
             "colorbar": {
              "outlinewidth": 0,
              "ticks": ""
             }
            },
            "type": "histogram"
           }
          ],
          "histogram2d": [
           {
            "colorbar": {
             "outlinewidth": 0,
             "ticks": ""
            },
            "colorscale": [
             [
              0,
              "#0d0887"
             ],
             [
              0.1111111111111111,
              "#46039f"
             ],
             [
              0.2222222222222222,
              "#7201a8"
             ],
             [
              0.3333333333333333,
              "#9c179e"
             ],
             [
              0.4444444444444444,
              "#bd3786"
             ],
             [
              0.5555555555555556,
              "#d8576b"
             ],
             [
              0.6666666666666666,
              "#ed7953"
             ],
             [
              0.7777777777777778,
              "#fb9f3a"
             ],
             [
              0.8888888888888888,
              "#fdca26"
             ],
             [
              1,
              "#f0f921"
             ]
            ],
            "type": "histogram2d"
           }
          ],
          "histogram2dcontour": [
           {
            "colorbar": {
             "outlinewidth": 0,
             "ticks": ""
            },
            "colorscale": [
             [
              0,
              "#0d0887"
             ],
             [
              0.1111111111111111,
              "#46039f"
             ],
             [
              0.2222222222222222,
              "#7201a8"
             ],
             [
              0.3333333333333333,
              "#9c179e"
             ],
             [
              0.4444444444444444,
              "#bd3786"
             ],
             [
              0.5555555555555556,
              "#d8576b"
             ],
             [
              0.6666666666666666,
              "#ed7953"
             ],
             [
              0.7777777777777778,
              "#fb9f3a"
             ],
             [
              0.8888888888888888,
              "#fdca26"
             ],
             [
              1,
              "#f0f921"
             ]
            ],
            "type": "histogram2dcontour"
           }
          ],
          "mesh3d": [
           {
            "colorbar": {
             "outlinewidth": 0,
             "ticks": ""
            },
            "type": "mesh3d"
           }
          ],
          "parcoords": [
           {
            "line": {
             "colorbar": {
              "outlinewidth": 0,
              "ticks": ""
             }
            },
            "type": "parcoords"
           }
          ],
          "pie": [
           {
            "automargin": true,
            "type": "pie"
           }
          ],
          "scatter": [
           {
            "marker": {
             "colorbar": {
              "outlinewidth": 0,
              "ticks": ""
             }
            },
            "type": "scatter"
           }
          ],
          "scatter3d": [
           {
            "line": {
             "colorbar": {
              "outlinewidth": 0,
              "ticks": ""
             }
            },
            "marker": {
             "colorbar": {
              "outlinewidth": 0,
              "ticks": ""
             }
            },
            "type": "scatter3d"
           }
          ],
          "scattercarpet": [
           {
            "marker": {
             "colorbar": {
              "outlinewidth": 0,
              "ticks": ""
             }
            },
            "type": "scattercarpet"
           }
          ],
          "scattergeo": [
           {
            "marker": {
             "colorbar": {
              "outlinewidth": 0,
              "ticks": ""
             }
            },
            "type": "scattergeo"
           }
          ],
          "scattergl": [
           {
            "marker": {
             "colorbar": {
              "outlinewidth": 0,
              "ticks": ""
             }
            },
            "type": "scattergl"
           }
          ],
          "scattermapbox": [
           {
            "marker": {
             "colorbar": {
              "outlinewidth": 0,
              "ticks": ""
             }
            },
            "type": "scattermapbox"
           }
          ],
          "scatterpolar": [
           {
            "marker": {
             "colorbar": {
              "outlinewidth": 0,
              "ticks": ""
             }
            },
            "type": "scatterpolar"
           }
          ],
          "scatterpolargl": [
           {
            "marker": {
             "colorbar": {
              "outlinewidth": 0,
              "ticks": ""
             }
            },
            "type": "scatterpolargl"
           }
          ],
          "scatterternary": [
           {
            "marker": {
             "colorbar": {
              "outlinewidth": 0,
              "ticks": ""
             }
            },
            "type": "scatterternary"
           }
          ],
          "surface": [
           {
            "colorbar": {
             "outlinewidth": 0,
             "ticks": ""
            },
            "colorscale": [
             [
              0,
              "#0d0887"
             ],
             [
              0.1111111111111111,
              "#46039f"
             ],
             [
              0.2222222222222222,
              "#7201a8"
             ],
             [
              0.3333333333333333,
              "#9c179e"
             ],
             [
              0.4444444444444444,
              "#bd3786"
             ],
             [
              0.5555555555555556,
              "#d8576b"
             ],
             [
              0.6666666666666666,
              "#ed7953"
             ],
             [
              0.7777777777777778,
              "#fb9f3a"
             ],
             [
              0.8888888888888888,
              "#fdca26"
             ],
             [
              1,
              "#f0f921"
             ]
            ],
            "type": "surface"
           }
          ],
          "table": [
           {
            "cells": {
             "fill": {
              "color": "#EBF0F8"
             },
             "line": {
              "color": "white"
             }
            },
            "header": {
             "fill": {
              "color": "#C8D4E3"
             },
             "line": {
              "color": "white"
             }
            },
            "type": "table"
           }
          ]
         },
         "layout": {
          "annotationdefaults": {
           "arrowcolor": "#2a3f5f",
           "arrowhead": 0,
           "arrowwidth": 1
          },
          "coloraxis": {
           "colorbar": {
            "outlinewidth": 0,
            "ticks": ""
           }
          },
          "colorscale": {
           "diverging": [
            [
             0,
             "#8e0152"
            ],
            [
             0.1,
             "#c51b7d"
            ],
            [
             0.2,
             "#de77ae"
            ],
            [
             0.3,
             "#f1b6da"
            ],
            [
             0.4,
             "#fde0ef"
            ],
            [
             0.5,
             "#f7f7f7"
            ],
            [
             0.6,
             "#e6f5d0"
            ],
            [
             0.7,
             "#b8e186"
            ],
            [
             0.8,
             "#7fbc41"
            ],
            [
             0.9,
             "#4d9221"
            ],
            [
             1,
             "#276419"
            ]
           ],
           "sequential": [
            [
             0,
             "#0d0887"
            ],
            [
             0.1111111111111111,
             "#46039f"
            ],
            [
             0.2222222222222222,
             "#7201a8"
            ],
            [
             0.3333333333333333,
             "#9c179e"
            ],
            [
             0.4444444444444444,
             "#bd3786"
            ],
            [
             0.5555555555555556,
             "#d8576b"
            ],
            [
             0.6666666666666666,
             "#ed7953"
            ],
            [
             0.7777777777777778,
             "#fb9f3a"
            ],
            [
             0.8888888888888888,
             "#fdca26"
            ],
            [
             1,
             "#f0f921"
            ]
           ],
           "sequentialminus": [
            [
             0,
             "#0d0887"
            ],
            [
             0.1111111111111111,
             "#46039f"
            ],
            [
             0.2222222222222222,
             "#7201a8"
            ],
            [
             0.3333333333333333,
             "#9c179e"
            ],
            [
             0.4444444444444444,
             "#bd3786"
            ],
            [
             0.5555555555555556,
             "#d8576b"
            ],
            [
             0.6666666666666666,
             "#ed7953"
            ],
            [
             0.7777777777777778,
             "#fb9f3a"
            ],
            [
             0.8888888888888888,
             "#fdca26"
            ],
            [
             1,
             "#f0f921"
            ]
           ]
          },
          "colorway": [
           "#636efa",
           "#EF553B",
           "#00cc96",
           "#ab63fa",
           "#FFA15A",
           "#19d3f3",
           "#FF6692",
           "#B6E880",
           "#FF97FF",
           "#FECB52"
          ],
          "font": {
           "color": "#2a3f5f"
          },
          "geo": {
           "bgcolor": "white",
           "lakecolor": "white",
           "landcolor": "#E5ECF6",
           "showlakes": true,
           "showland": true,
           "subunitcolor": "white"
          },
          "hoverlabel": {
           "align": "left"
          },
          "hovermode": "closest",
          "mapbox": {
           "style": "light"
          },
          "paper_bgcolor": "white",
          "plot_bgcolor": "#E5ECF6",
          "polar": {
           "angularaxis": {
            "gridcolor": "white",
            "linecolor": "white",
            "ticks": ""
           },
           "bgcolor": "#E5ECF6",
           "radialaxis": {
            "gridcolor": "white",
            "linecolor": "white",
            "ticks": ""
           }
          },
          "scene": {
           "xaxis": {
            "backgroundcolor": "#E5ECF6",
            "gridcolor": "white",
            "gridwidth": 2,
            "linecolor": "white",
            "showbackground": true,
            "ticks": "",
            "zerolinecolor": "white"
           },
           "yaxis": {
            "backgroundcolor": "#E5ECF6",
            "gridcolor": "white",
            "gridwidth": 2,
            "linecolor": "white",
            "showbackground": true,
            "ticks": "",
            "zerolinecolor": "white"
           },
           "zaxis": {
            "backgroundcolor": "#E5ECF6",
            "gridcolor": "white",
            "gridwidth": 2,
            "linecolor": "white",
            "showbackground": true,
            "ticks": "",
            "zerolinecolor": "white"
           }
          },
          "shapedefaults": {
           "line": {
            "color": "#2a3f5f"
           }
          },
          "ternary": {
           "aaxis": {
            "gridcolor": "white",
            "linecolor": "white",
            "ticks": ""
           },
           "baxis": {
            "gridcolor": "white",
            "linecolor": "white",
            "ticks": ""
           },
           "bgcolor": "#E5ECF6",
           "caxis": {
            "gridcolor": "white",
            "linecolor": "white",
            "ticks": ""
           }
          },
          "title": {
           "x": 0.05
          },
          "xaxis": {
           "automargin": true,
           "gridcolor": "white",
           "linecolor": "white",
           "ticks": "",
           "title": {
            "standoff": 15
           },
           "zerolinecolor": "white",
           "zerolinewidth": 2
          },
          "yaxis": {
           "automargin": true,
           "gridcolor": "white",
           "linecolor": "white",
           "ticks": "",
           "title": {
            "standoff": 15
           },
           "zerolinecolor": "white",
           "zerolinewidth": 2
          }
         }
        }
       }
      },
      "text/html": [
       "<div>\n",
       "        \n",
       "        \n",
       "            <div id=\"09652e41-e024-4696-8609-f5e17421c464\" class=\"plotly-graph-div\" style=\"height:525px; width:100%;\"></div>\n",
       "            <script type=\"text/javascript\">\n",
       "                require([\"plotly\"], function(Plotly) {\n",
       "                    window.PLOTLYENV=window.PLOTLYENV || {};\n",
       "                    \n",
       "                if (document.getElementById(\"09652e41-e024-4696-8609-f5e17421c464\")) {\n",
       "                    Plotly.newPlot(\n",
       "                        '09652e41-e024-4696-8609-f5e17421c464',\n",
       "                        [{\"type\": \"bar\", \"x\": [\"neighbourhood_cleansed_Fenway\", \"accommodates\", \"extra_people\", \"bedrooms\", \"weekly_price\", \"availability_365\", \"amenities_lock_on_bedroom_door\", \"bathrooms\", \"calendar_updated_4 months ago\", \"room_type_Private room\"], \"y\": [6.0444400611663225, 5.672415298926761, 5.563121003072107, 5.266056755729687, 4.971472009785094, 4.23342163152768, 3.9937925756258874, 3.6428175695225122, 3.455637888279229, 3.3591809962132895]}],\n",
       "                        {\"template\": {\"data\": {\"bar\": [{\"error_x\": {\"color\": \"#2a3f5f\"}, \"error_y\": {\"color\": \"#2a3f5f\"}, \"marker\": {\"line\": {\"color\": \"#E5ECF6\", \"width\": 0.5}}, \"type\": \"bar\"}], \"barpolar\": [{\"marker\": {\"line\": {\"color\": \"#E5ECF6\", \"width\": 0.5}}, \"type\": \"barpolar\"}], \"carpet\": [{\"aaxis\": {\"endlinecolor\": \"#2a3f5f\", \"gridcolor\": \"white\", \"linecolor\": \"white\", \"minorgridcolor\": \"white\", \"startlinecolor\": \"#2a3f5f\"}, \"baxis\": {\"endlinecolor\": \"#2a3f5f\", \"gridcolor\": \"white\", \"linecolor\": \"white\", \"minorgridcolor\": \"white\", \"startlinecolor\": \"#2a3f5f\"}, \"type\": \"carpet\"}], \"choropleth\": [{\"colorbar\": {\"outlinewidth\": 0, \"ticks\": \"\"}, \"type\": \"choropleth\"}], \"contour\": [{\"colorbar\": {\"outlinewidth\": 0, \"ticks\": \"\"}, \"colorscale\": [[0.0, \"#0d0887\"], [0.1111111111111111, \"#46039f\"], [0.2222222222222222, \"#7201a8\"], [0.3333333333333333, \"#9c179e\"], [0.4444444444444444, \"#bd3786\"], [0.5555555555555556, \"#d8576b\"], [0.6666666666666666, \"#ed7953\"], [0.7777777777777778, \"#fb9f3a\"], [0.8888888888888888, \"#fdca26\"], [1.0, \"#f0f921\"]], \"type\": \"contour\"}], \"contourcarpet\": [{\"colorbar\": {\"outlinewidth\": 0, \"ticks\": \"\"}, \"type\": \"contourcarpet\"}], \"heatmap\": [{\"colorbar\": {\"outlinewidth\": 0, \"ticks\": \"\"}, \"colorscale\": [[0.0, \"#0d0887\"], [0.1111111111111111, \"#46039f\"], [0.2222222222222222, \"#7201a8\"], [0.3333333333333333, \"#9c179e\"], [0.4444444444444444, \"#bd3786\"], [0.5555555555555556, \"#d8576b\"], [0.6666666666666666, \"#ed7953\"], [0.7777777777777778, \"#fb9f3a\"], [0.8888888888888888, \"#fdca26\"], [1.0, \"#f0f921\"]], \"type\": \"heatmap\"}], \"heatmapgl\": [{\"colorbar\": {\"outlinewidth\": 0, \"ticks\": \"\"}, \"colorscale\": [[0.0, \"#0d0887\"], [0.1111111111111111, \"#46039f\"], [0.2222222222222222, \"#7201a8\"], [0.3333333333333333, \"#9c179e\"], [0.4444444444444444, \"#bd3786\"], [0.5555555555555556, \"#d8576b\"], [0.6666666666666666, \"#ed7953\"], [0.7777777777777778, \"#fb9f3a\"], [0.8888888888888888, \"#fdca26\"], [1.0, \"#f0f921\"]], \"type\": \"heatmapgl\"}], \"histogram\": [{\"marker\": {\"colorbar\": {\"outlinewidth\": 0, \"ticks\": \"\"}}, \"type\": \"histogram\"}], \"histogram2d\": [{\"colorbar\": {\"outlinewidth\": 0, \"ticks\": \"\"}, \"colorscale\": [[0.0, \"#0d0887\"], [0.1111111111111111, \"#46039f\"], [0.2222222222222222, \"#7201a8\"], [0.3333333333333333, \"#9c179e\"], [0.4444444444444444, \"#bd3786\"], [0.5555555555555556, \"#d8576b\"], [0.6666666666666666, \"#ed7953\"], [0.7777777777777778, \"#fb9f3a\"], [0.8888888888888888, \"#fdca26\"], [1.0, \"#f0f921\"]], \"type\": \"histogram2d\"}], \"histogram2dcontour\": [{\"colorbar\": {\"outlinewidth\": 0, \"ticks\": \"\"}, \"colorscale\": [[0.0, \"#0d0887\"], [0.1111111111111111, \"#46039f\"], [0.2222222222222222, \"#7201a8\"], [0.3333333333333333, \"#9c179e\"], [0.4444444444444444, \"#bd3786\"], [0.5555555555555556, \"#d8576b\"], [0.6666666666666666, \"#ed7953\"], [0.7777777777777778, \"#fb9f3a\"], [0.8888888888888888, \"#fdca26\"], [1.0, \"#f0f921\"]], \"type\": \"histogram2dcontour\"}], \"mesh3d\": [{\"colorbar\": {\"outlinewidth\": 0, \"ticks\": \"\"}, \"type\": \"mesh3d\"}], \"parcoords\": [{\"line\": {\"colorbar\": {\"outlinewidth\": 0, \"ticks\": \"\"}}, \"type\": \"parcoords\"}], \"pie\": [{\"automargin\": true, \"type\": \"pie\"}], \"scatter\": [{\"marker\": {\"colorbar\": {\"outlinewidth\": 0, \"ticks\": \"\"}}, \"type\": \"scatter\"}], \"scatter3d\": [{\"line\": {\"colorbar\": {\"outlinewidth\": 0, \"ticks\": \"\"}}, \"marker\": {\"colorbar\": {\"outlinewidth\": 0, \"ticks\": \"\"}}, \"type\": \"scatter3d\"}], \"scattercarpet\": [{\"marker\": {\"colorbar\": {\"outlinewidth\": 0, \"ticks\": \"\"}}, \"type\": \"scattercarpet\"}], \"scattergeo\": [{\"marker\": {\"colorbar\": {\"outlinewidth\": 0, \"ticks\": \"\"}}, \"type\": \"scattergeo\"}], \"scattergl\": [{\"marker\": {\"colorbar\": {\"outlinewidth\": 0, \"ticks\": \"\"}}, \"type\": \"scattergl\"}], \"scattermapbox\": [{\"marker\": {\"colorbar\": {\"outlinewidth\": 0, \"ticks\": \"\"}}, \"type\": \"scattermapbox\"}], \"scatterpolar\": [{\"marker\": {\"colorbar\": {\"outlinewidth\": 0, \"ticks\": \"\"}}, \"type\": \"scatterpolar\"}], \"scatterpolargl\": [{\"marker\": {\"colorbar\": {\"outlinewidth\": 0, \"ticks\": \"\"}}, \"type\": \"scatterpolargl\"}], \"scatterternary\": [{\"marker\": {\"colorbar\": {\"outlinewidth\": 0, \"ticks\": \"\"}}, \"type\": \"scatterternary\"}], \"surface\": [{\"colorbar\": {\"outlinewidth\": 0, \"ticks\": \"\"}, \"colorscale\": [[0.0, \"#0d0887\"], [0.1111111111111111, \"#46039f\"], [0.2222222222222222, \"#7201a8\"], [0.3333333333333333, \"#9c179e\"], [0.4444444444444444, \"#bd3786\"], [0.5555555555555556, \"#d8576b\"], [0.6666666666666666, \"#ed7953\"], [0.7777777777777778, \"#fb9f3a\"], [0.8888888888888888, \"#fdca26\"], [1.0, \"#f0f921\"]], \"type\": \"surface\"}], \"table\": [{\"cells\": {\"fill\": {\"color\": \"#EBF0F8\"}, \"line\": {\"color\": \"white\"}}, \"header\": {\"fill\": {\"color\": \"#C8D4E3\"}, \"line\": {\"color\": \"white\"}}, \"type\": \"table\"}]}, \"layout\": {\"annotationdefaults\": {\"arrowcolor\": \"#2a3f5f\", \"arrowhead\": 0, \"arrowwidth\": 1}, \"coloraxis\": {\"colorbar\": {\"outlinewidth\": 0, \"ticks\": \"\"}}, \"colorscale\": {\"diverging\": [[0, \"#8e0152\"], [0.1, \"#c51b7d\"], [0.2, \"#de77ae\"], [0.3, \"#f1b6da\"], [0.4, \"#fde0ef\"], [0.5, \"#f7f7f7\"], [0.6, \"#e6f5d0\"], [0.7, \"#b8e186\"], [0.8, \"#7fbc41\"], [0.9, \"#4d9221\"], [1, \"#276419\"]], \"sequential\": [[0.0, \"#0d0887\"], [0.1111111111111111, \"#46039f\"], [0.2222222222222222, \"#7201a8\"], [0.3333333333333333, \"#9c179e\"], [0.4444444444444444, \"#bd3786\"], [0.5555555555555556, \"#d8576b\"], [0.6666666666666666, \"#ed7953\"], [0.7777777777777778, \"#fb9f3a\"], [0.8888888888888888, \"#fdca26\"], [1.0, \"#f0f921\"]], \"sequentialminus\": [[0.0, \"#0d0887\"], [0.1111111111111111, \"#46039f\"], [0.2222222222222222, \"#7201a8\"], [0.3333333333333333, \"#9c179e\"], [0.4444444444444444, \"#bd3786\"], [0.5555555555555556, \"#d8576b\"], [0.6666666666666666, \"#ed7953\"], [0.7777777777777778, \"#fb9f3a\"], [0.8888888888888888, \"#fdca26\"], [1.0, \"#f0f921\"]]}, \"colorway\": [\"#636efa\", \"#EF553B\", \"#00cc96\", \"#ab63fa\", \"#FFA15A\", \"#19d3f3\", \"#FF6692\", \"#B6E880\", \"#FF97FF\", \"#FECB52\"], \"font\": {\"color\": \"#2a3f5f\"}, \"geo\": {\"bgcolor\": \"white\", \"lakecolor\": \"white\", \"landcolor\": \"#E5ECF6\", \"showlakes\": true, \"showland\": true, \"subunitcolor\": \"white\"}, \"hoverlabel\": {\"align\": \"left\"}, \"hovermode\": \"closest\", \"mapbox\": {\"style\": \"light\"}, \"paper_bgcolor\": \"white\", \"plot_bgcolor\": \"#E5ECF6\", \"polar\": {\"angularaxis\": {\"gridcolor\": \"white\", \"linecolor\": \"white\", \"ticks\": \"\"}, \"bgcolor\": \"#E5ECF6\", \"radialaxis\": {\"gridcolor\": \"white\", \"linecolor\": \"white\", \"ticks\": \"\"}}, \"scene\": {\"xaxis\": {\"backgroundcolor\": \"#E5ECF6\", \"gridcolor\": \"white\", \"gridwidth\": 2, \"linecolor\": \"white\", \"showbackground\": true, \"ticks\": \"\", \"zerolinecolor\": \"white\"}, \"yaxis\": {\"backgroundcolor\": \"#E5ECF6\", \"gridcolor\": \"white\", \"gridwidth\": 2, \"linecolor\": \"white\", \"showbackground\": true, \"ticks\": \"\", \"zerolinecolor\": \"white\"}, \"zaxis\": {\"backgroundcolor\": \"#E5ECF6\", \"gridcolor\": \"white\", \"gridwidth\": 2, \"linecolor\": \"white\", \"showbackground\": true, \"ticks\": \"\", \"zerolinecolor\": \"white\"}}, \"shapedefaults\": {\"line\": {\"color\": \"#2a3f5f\"}}, \"ternary\": {\"aaxis\": {\"gridcolor\": \"white\", \"linecolor\": \"white\", \"ticks\": \"\"}, \"baxis\": {\"gridcolor\": \"white\", \"linecolor\": \"white\", \"ticks\": \"\"}, \"bgcolor\": \"#E5ECF6\", \"caxis\": {\"gridcolor\": \"white\", \"linecolor\": \"white\", \"ticks\": \"\"}}, \"title\": {\"x\": 0.05}, \"xaxis\": {\"automargin\": true, \"gridcolor\": \"white\", \"linecolor\": \"white\", \"ticks\": \"\", \"title\": {\"standoff\": 15}, \"zerolinecolor\": \"white\", \"zerolinewidth\": 2}, \"yaxis\": {\"automargin\": true, \"gridcolor\": \"white\", \"linecolor\": \"white\", \"ticks\": \"\", \"title\": {\"standoff\": 15}, \"zerolinecolor\": \"white\", \"zerolinewidth\": 2}}}},\n",
       "                        {\"responsive\": true}\n",
       "                    ).then(function(){\n",
       "                            \n",
       "var gd = document.getElementById('09652e41-e024-4696-8609-f5e17421c464');\n",
       "var x = new MutationObserver(function (mutations, observer) {{\n",
       "        var display = window.getComputedStyle(gd).display;\n",
       "        if (!display || display === 'none') {{\n",
       "            console.log([gd, 'removed!']);\n",
       "            Plotly.purge(gd);\n",
       "            observer.disconnect();\n",
       "        }}\n",
       "}});\n",
       "\n",
       "// Listen for the removal of the full notebook cells\n",
       "var notebookContainer = gd.closest('#notebook-container');\n",
       "if (notebookContainer) {{\n",
       "    x.observe(notebookContainer, {childList: true});\n",
       "}}\n",
       "\n",
       "// Listen for the clearing of the current output cell\n",
       "var outputEl = gd.closest('.output');\n",
       "if (outputEl) {{\n",
       "    x.observe(outputEl, {childList: true});\n",
       "}}\n",
       "\n",
       "                        })\n",
       "                };\n",
       "                });\n",
       "            </script>\n",
       "        </div>"
      ]
     },
     "metadata": {},
     "output_type": "display_data"
    }
   ],
   "source": [
    "feature_importance = result_cat.sort_values(by=\"feature_names\",ascending=False).head(10)\n",
    "\n",
    "fig = go.Figure()\n",
    "fig.add_trace(go.Bar(x = feature_importance.feature_importances, y=feature_importance.feature_names))"
   ]
  },
  {
   "cell_type": "markdown",
   "metadata": {},
   "source": [
    "**Summary - Answer Question 3** <br>\n",
    "Catboost is a fast, scalable, high-performance gradient boosting on decision trees library. Used for ranking, classification, regression, and other ML tasks. CatboostRegressor is comparing to LinearRegression a better model choice, because Gradient boosting benefits from training on huge datasets. It also has an algorithm for finding the most influential training samples for a given feature by get_feature_importance() function. This function calculates the effect of features from the training dataset on the optimized metric values for the features from the input dataset.\n",
    "I tried different learning rates and iterations, the results of most combinations provide a pretty high R-square score above 0.95. \n",
    "With a learning rate = 0.7 the R-square score of CatboostRegressor on the training data is 0.9792 and on the test data is 0.9794, mean squared error on test data is 321.3407. It seems to be overfitting, but the result is better than LinearRegression.\n",
    "The feature importance function shows that \"accommodates\", \"extra_people\", \"weekly_price\", \"number of bedrooms\" have a bigger impact on the listing price, which is different from the results of Linear Regression."
   ]
  }
 ],
 "metadata": {
  "hide_input": false,
  "kernelspec": {
   "display_name": "Python 3",
   "language": "python",
   "name": "python3"
  },
  "language_info": {
   "codemirror_mode": {
    "name": "ipython",
    "version": 3
   },
   "file_extension": ".py",
   "mimetype": "text/x-python",
   "name": "python",
   "nbconvert_exporter": "python",
   "pygments_lexer": "ipython3",
   "version": "3.7.4"
  },
  "latex_envs": {
   "LaTeX_envs_menu_present": true,
   "autoclose": false,
   "autocomplete": true,
   "bibliofile": "biblio.bib",
   "cite_by": "apalike",
   "current_citInitial": 1,
   "eqLabelWithNumbers": true,
   "eqNumInitial": 1,
   "hotkeys": {
    "equation": "Ctrl-E",
    "itemize": "Ctrl-I"
   },
   "labels_anchors": false,
   "latex_user_defs": false,
   "report_style_numbering": false,
   "user_envs_cfg": false
  },
  "toc": {
   "base_numbering": 1,
   "nav_menu": {},
   "number_sections": true,
   "sideBar": true,
   "skip_h1_title": false,
   "title_cell": "Table of Contents",
   "title_sidebar": "Contents",
   "toc_cell": false,
   "toc_position": {
    "height": "calc(100% - 180px)",
    "left": "10px",
    "top": "150px",
    "width": "336px"
   },
   "toc_section_display": true,
   "toc_window_display": true
  },
  "varInspector": {
   "cols": {
    "lenName": 16,
    "lenType": 16,
    "lenVar": 40
   },
   "kernels_config": {
    "python": {
     "delete_cmd_postfix": "",
     "delete_cmd_prefix": "del ",
     "library": "var_list.py",
     "varRefreshCmd": "print(var_dic_list())"
    },
    "r": {
     "delete_cmd_postfix": ") ",
     "delete_cmd_prefix": "rm(",
     "library": "var_list.r",
     "varRefreshCmd": "cat(var_dic_list()) "
    }
   },
   "types_to_exclude": [
    "module",
    "function",
    "builtin_function_or_method",
    "instance",
    "_Feature"
   ],
   "window_display": false
  }
 },
 "nbformat": 4,
 "nbformat_minor": 2
}
